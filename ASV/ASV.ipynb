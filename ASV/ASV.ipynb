{
 "cells": [
  {
   "cell_type": "code",
   "execution_count": 1,
   "id": "fb08ea58-62d2-408e-8f39-cfae4f430fe3",
   "metadata": {},
   "outputs": [],
   "source": [
    "#For the import of packages\n",
    "import numpy as np\n",
    "import os\n",
    "import pandas as pd\n",
    "from qiime2 import Visualization\n",
    "import matplotlib.pyplot as plt\n",
    "import qiime2 as q2\n",
    "\n",
    "%matplotlib inline\n",
    "\n",
    "data_dir = \"data\"\n",
    "local_dir = \"ASV\""
   ]
  },
  {
   "cell_type": "code",
   "execution_count": 2,
   "id": "9257dc7c-1992-4456-a04a-04ad5049d9e5",
   "metadata": {},
   "outputs": [
    {
     "name": "stdout",
     "output_type": "stream",
     "text": [
      "/home/jovyan/Assignments/w4/HelicopterBaby/ASV\n"
     ]
    }
   ],
   "source": [
    "! pwd"
   ]
  },
  {
   "cell_type": "markdown",
   "id": "591b4a22-305d-4782-846f-17391e7ab985",
   "metadata": {},
   "source": [
    "Check out the .qza file"
   ]
  },
  {
   "cell_type": "code",
   "execution_count": 4,
   "id": "d955341a-2369-44c5-a2f3-33b87e2e2e33",
   "metadata": {},
   "outputs": [
    {
     "name": "stdout",
     "output_type": "stream",
     "text": [
      "\u001b[32mUUID\u001b[0m:        b5fec962-ca06-4df5-b043-3aa289e4d753\n",
      "\u001b[32mType\u001b[0m:        SampleData[PairedEndSequencesWithQuality]\n",
      "\u001b[32mData format\u001b[0m: SingleLanePerSamplePairedEndFastqDirFmt\n"
     ]
    }
   ],
   "source": [
    "! qiime tools peek ../$data_dir/sequences_demux_paired.qza"
   ]
  },
  {
   "cell_type": "code",
   "execution_count": 5,
   "id": "7d25a5ff-7b35-4e65-836c-4986c1518022",
   "metadata": {},
   "outputs": [
    {
     "name": "stdout",
     "output_type": "stream",
     "text": [
      "\u001b[32mSaved Visualization to: ../data/demux_seqs.qzv\u001b[0m\n",
      "\u001b[0m"
     ]
    }
   ],
   "source": [
    "! qiime demux summarize \\\n",
    "    --i-data ../$data_dir/sequences_demux_paired.qza \\\n",
    "    --o-visualization ../$data_dir/demux_seqs.qzv"
   ]
  },
  {
   "cell_type": "code",
   "execution_count": 6,
   "id": "ef9a2793-ce9d-448f-b55e-1a7f712ce79c",
   "metadata": {},
   "outputs": [
    {
     "data": {
      "text/html": [
       "<div><img onload=\"(function(div, url){\n",
       "if (typeof require !== 'undefined') {\n",
       "    var baseURL = require.toUrl('').split('/').slice(0, -2).join('/');\n",
       "} else {\n",
       "    var baseURL = JSON.parse(\n",
       "        document.getElementById('jupyter-config-data').innerHTML\n",
       "    ).baseUrl.slice(0, -1);\n",
       "}\n",
       "url = baseURL + url;\n",
       "fetch(url).then(function(res) {\n",
       "    if (res.status === 404) {\n",
       "        div.innerHTML = 'Install QIIME 2 Jupyter extension with:<br />' +\n",
       "                        '<code>jupyter serverextension enable --py qiime2' +\n",
       "                        ' --sys-prefix</code><br />then restart your server.' +\n",
       "                        '<br /><br />(Interactive output not available on ' +\n",
       "                        'static notebook viewer services like nbviewer.)';\n",
       "    } else if (res.status === 409) {\n",
       "        div.innerHTML = 'Visualization no longer in scope. Re-run this cell' +\n",
       "                        ' to see the visualization.';\n",
       "    } else if (res.ok) {\n",
       "        url = res.url;\n",
       "        div.innerHTML = '<iframe src=\\'' + url + '\\' style=\\'' +\n",
       "                        'width: 100%; height: 700px; border: 0;\\'>' +\n",
       "                        '</iframe><hr />Open in a: <a href=\\'' + url + '\\'' +\n",
       "                        ' target=\\'_blank\\'>new window</a>'\n",
       "    } else {\n",
       "        div.innerHTML = 'Something has gone wrong. Check notebook server for' +\n",
       "                        ' errors.';\n",
       "    }\n",
       "});\n",
       "})(this.parentElement, '/qiime2/redirect?location=/tmp/qiime2-archive-jt8dzpg_')\" src=\"data:image/gif;base64,R0lGODlhAQABAIAAAP///wAAACH5BAEAAAAALAAAAAABAAEAAAICRAEAOw==\" /></div>"
      ],
      "text/plain": [
       "<visualization: Visualization uuid: 56f2b723-6d10-43d1-8279-52ac76e58ff2>"
      ]
     },
     "execution_count": 6,
     "metadata": {},
     "output_type": "execute_result"
    }
   ],
   "source": [
    "Visualization.load(f'../{data_dir}/demux_seqs.qzv')"
   ]
  },
  {
   "cell_type": "markdown",
   "id": "4147fa43-85fa-4ae2-a3b3-80316484886e",
   "metadata": {},
   "source": [
    "**Brief Summary of paired end sequences with quality**\n",
    "* Lowest sequencing depth of 8000 \n",
    "* Mean of 30012.224086 reads per sequence, median about the same  \n",
    "* Total number of reads: 50090402 \n",
    "* median length both forward and reverse is about 230nts with most (96% of samples) being +/- 10nts in length\n",
    "* quality of reads starts to decrease at about 130nts length both in forward as in reverse reads, hence we will again trim at 130nts\n",
    "* median quality of 38 (Phred quality score)"
   ]
  },
  {
   "cell_type": "markdown",
   "id": "c41ee521-5e24-4e40-8657-4e9f36d5612b",
   "metadata": {},
   "source": [
    "### Denoising: ASV"
   ]
  },
  {
   "cell_type": "code",
   "execution_count": null,
   "id": "9603890b-71c7-44b9-ab1b-6aaec2d06cfe",
   "metadata": {},
   "outputs": [],
   "source": [
    "! qiime dada2 denoise-paired \\\n",
    "    --i-demultiplexed-seqs ../$data_dir/sequences_demux_paired.qza \\\n",
    "    --p-trunc-len-f 130 \\\n",
    "    --p-trunc-len-r 130 \\\n",
    "    --p-n-threads 3 \\\n",
    "    --o-table ../$data_dir/dada2_table.qza \\\n",
    "    --o-representative-sequences ../$data_dir/dada2_rep_set.qza \\\n",
    "    --o-denoising-stats ../$data_dir/dada2_stats.qza"
   ]
  },
  {
   "cell_type": "code",
   "execution_count": null,
   "id": "2a3d72b6-351a-466d-8af7-ab67470c2472",
   "metadata": {},
   "outputs": [],
   "source": [
    "! qiime metadata tabulate \\\n",
    "    --m-input-file ../$data_dir/dada2_stats.qza \\\n",
    "    --o-visualization ../$data_dir/dada2_stats.qzv"
   ]
  },
  {
   "cell_type": "code",
   "execution_count": null,
   "id": "1127fa87-398a-4cd6-897d-80586a8781a9",
   "metadata": {},
   "outputs": [],
   "source": [
    "Visualization.load(f'../{data_dir}/dada2_stats.qzv')"
   ]
  },
  {
   "cell_type": "markdown",
   "id": "31f6007e-11c0-47df-a441-4e31bf571eef",
   "metadata": {},
   "source": [
    "**Visualize resulting sequences of ASVs**"
   ]
  },
  {
   "cell_type": "code",
   "execution_count": null,
   "id": "d406fd40-63a7-4b71-891c-2f70be10816f",
   "metadata": {},
   "outputs": [],
   "source": [
    "! qiime feature-table tabulate-seqs \\\n",
    "    --i-data ../$data_dir/dada2_rep_set.qza \\\n",
    "    --o-visualization ../$data_dir/dada2_rep_set.qzv"
   ]
  },
  {
   "cell_type": "code",
   "execution_count": null,
   "id": "ba78c1c9-69a9-44fe-9562-9c1d97493179",
   "metadata": {},
   "outputs": [],
   "source": [
    "Visualization.load(f'../{data_dir}/dada2_rep_set.qzv')"
   ]
  },
  {
   "cell_type": "code",
   "execution_count": 11,
   "id": "d16cf211-6a21-4dfb-a3ea-788f6b4c65ef",
   "metadata": {},
   "outputs": [
    {
     "name": "stdout",
     "output_type": "stream",
     "text": [
      "\u001b[32mSaved Visualization to: ../data/dada2_table.qzv\u001b[0m\n",
      "\u001b[0m"
     ]
    }
   ],
   "source": [
    "! qiime feature-table summarize \\\n",
    "    --i-table ../$data_dir/dada2_table.qza \\\n",
    "    --m-sample-metadata-file ../$data_dir/metadata.tsv \\\n",
    "    --o-visualization ../$data_dir/dada2_table.qzv"
   ]
  },
  {
   "cell_type": "code",
   "execution_count": 12,
   "id": "a62676c4-445d-4db1-a661-0c16723ee57a",
   "metadata": {},
   "outputs": [
    {
     "data": {
      "text/html": [
       "<div><img onload=\"(function(div, url){\n",
       "if (typeof require !== 'undefined') {\n",
       "    var baseURL = require.toUrl('').split('/').slice(0, -2).join('/');\n",
       "} else {\n",
       "    var baseURL = JSON.parse(\n",
       "        document.getElementById('jupyter-config-data').innerHTML\n",
       "    ).baseUrl.slice(0, -1);\n",
       "}\n",
       "url = baseURL + url;\n",
       "fetch(url).then(function(res) {\n",
       "    if (res.status === 404) {\n",
       "        div.innerHTML = 'Install QIIME 2 Jupyter extension with:<br />' +\n",
       "                        '<code>jupyter serverextension enable --py qiime2' +\n",
       "                        ' --sys-prefix</code><br />then restart your server.' +\n",
       "                        '<br /><br />(Interactive output not available on ' +\n",
       "                        'static notebook viewer services like nbviewer.)';\n",
       "    } else if (res.status === 409) {\n",
       "        div.innerHTML = 'Visualization no longer in scope. Re-run this cell' +\n",
       "                        ' to see the visualization.';\n",
       "    } else if (res.ok) {\n",
       "        url = res.url;\n",
       "        div.innerHTML = '<iframe src=\\'' + url + '\\' style=\\'' +\n",
       "                        'width: 100%; height: 700px; border: 0;\\'>' +\n",
       "                        '</iframe><hr />Open in a: <a href=\\'' + url + '\\'' +\n",
       "                        ' target=\\'_blank\\'>new window</a>'\n",
       "    } else {\n",
       "        div.innerHTML = 'Something has gone wrong. Check notebook server for' +\n",
       "                        ' errors.';\n",
       "    }\n",
       "});\n",
       "})(this.parentElement, '/qiime2/redirect?location=/tmp/qiime2-archive-ufeyn1ac')\" src=\"data:image/gif;base64,R0lGODlhAQABAIAAAP///wAAACH5BAEAAAAALAAAAAABAAEAAAICRAEAOw==\" /></div>"
      ],
      "text/plain": [
       "<visualization: Visualization uuid: 29d8f0af-f467-42ac-930d-79052e78fbf5>"
      ]
     },
     "execution_count": 12,
     "metadata": {},
     "output_type": "execute_result"
    }
   ],
   "source": [
    "Visualization.load(f'../{data_dir}/dada2_table.qzv')"
   ]
  },
  {
   "cell_type": "markdown",
   "id": "c4b098d7-ccf5-4608-b34b-2cf3683d1c49",
   "metadata": {},
   "source": [
    "**Brief summary of ASV sequences from Dada2**\n",
    "* "
   ]
  },
  {
   "cell_type": "code",
   "execution_count": null,
   "id": "e0e6cdfc-c08f-48bc-b87e-6f6675b1663e",
   "metadata": {},
   "outputs": [],
   "source": []
  }
 ],
 "metadata": {
  "kernelspec": {
   "display_name": "Python 3 (ipykernel)",
   "language": "python",
   "name": "python3"
  },
  "language_info": {
   "codemirror_mode": {
    "name": "ipython",
    "version": 3
   },
   "file_extension": ".py",
   "mimetype": "text/x-python",
   "name": "python",
   "nbconvert_exporter": "python",
   "pygments_lexer": "ipython3",
   "version": "3.8.13"
  }
 },
 "nbformat": 4,
 "nbformat_minor": 5
}
