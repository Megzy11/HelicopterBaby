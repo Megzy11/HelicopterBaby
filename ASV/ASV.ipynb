{
 "cells": [
  {
   "cell_type": "code",
   "execution_count": 5,
   "id": "fb08ea58-62d2-408e-8f39-cfae4f430fe3",
   "metadata": {},
   "outputs": [],
   "source": [
    "#For the import of packages\n",
    "import numpy as np\n",
    "import os\n",
    "import pandas as pd\n",
    "from qiime2 import Visualization\n",
    "import matplotlib.pyplot as plt\n",
    "import qiime2 as q2\n",
    "\n",
    "data_dir = \"data\"\n",
    "local_dir = \"ASV\""
   ]
  },
  {
   "cell_type": "code",
   "execution_count": 7,
   "id": "9257dc7c-1992-4456-a04a-04ad5049d9e5",
   "metadata": {},
   "outputs": [
    {
     "name": "stdout",
     "output_type": "stream",
     "text": [
      "/home/jovyan/Assignments/w4/HelicopterBaby/ASV\n"
     ]
    }
   ],
   "source": [
    "! pwd"
   ]
  },
  {
   "cell_type": "markdown",
   "id": "591b4a22-305d-4782-846f-17391e7ab985",
   "metadata": {},
   "source": [
    "Check out the .qza file"
   ]
  },
  {
   "cell_type": "code",
   "execution_count": 14,
   "id": "d955341a-2369-44c5-a2f3-33b87e2e2e33",
   "metadata": {},
   "outputs": [
    {
     "name": "stdout",
     "output_type": "stream",
     "text": [
      "\u001b[32mUUID\u001b[0m:        b5fec962-ca06-4df5-b043-3aa289e4d753\n",
      "\u001b[32mType\u001b[0m:        SampleData[PairedEndSequencesWithQuality]\n",
      "\u001b[32mData format\u001b[0m: SingleLanePerSamplePairedEndFastqDirFmt\n"
     ]
    }
   ],
   "source": [
    "! qiime tools peek ../$data_dir/sequences_demux_paired.qza"
   ]
  },
  {
   "cell_type": "code",
   "execution_count": null,
   "id": "7d25a5ff-7b35-4e65-836c-4986c1518022",
   "metadata": {},
   "outputs": [],
   "source": [
    "! qiime demux summarize \\\n",
    "    --i-data ../$data_dir/sequences_demux_paired.qza \\\n",
    "    --o-visualization ../$data_dir/demux_seqs.qzv"
   ]
  },
  {
   "cell_type": "code",
   "execution_count": null,
   "id": "ef9a2793-ce9d-448f-b55e-1a7f712ce79c",
   "metadata": {},
   "outputs": [],
   "source": [
    "Visualization.load(f'../{data_dir}/demux_seqs.qzv')"
   ]
  },
  {
   "cell_type": "markdown",
   "id": "4147fa43-85fa-4ae2-a3b3-80316484886e",
   "metadata": {},
   "source": [
    "**Brief Summary**\n"
   ]
  },
  {
   "cell_type": "code",
   "execution_count": null,
   "id": "9603890b-71c7-44b9-ab1b-6aaec2d06cfe",
   "metadata": {},
   "outputs": [],
   "source": []
  }
 ],
 "metadata": {
  "kernelspec": {
   "display_name": "Python 3 (ipykernel)",
   "language": "python",
   "name": "python3"
  },
  "language_info": {
   "codemirror_mode": {
    "name": "ipython",
    "version": 3
   },
   "file_extension": ".py",
   "mimetype": "text/x-python",
   "name": "python",
   "nbconvert_exporter": "python",
   "pygments_lexer": "ipython3",
   "version": "3.8.13"
  }
 },
 "nbformat": 4,
 "nbformat_minor": 5
}
