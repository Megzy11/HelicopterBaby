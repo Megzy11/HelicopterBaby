{
 "cells": [
  {
   "cell_type": "code",
   "execution_count": null,
   "id": "fb08ea58-62d2-408e-8f39-cfae4f430fe3",
   "metadata": {},
   "outputs": [],
   "source": [
    "#For the import of packages\n",
    "import numpy as np\n",
    "import os\n",
    "import pandas as pd\n",
    "from qiime2 import Visualization\n",
    "import matplotlib.pyplot as plt\n",
    "import qiime2 as q2\n",
    "dir_data = "
   ]
  }
 ],
 "metadata": {
  "kernelspec": {
   "display_name": "Python 3 (ipykernel)",
   "language": "python",
   "name": "python3"
  },
  "language_info": {
   "codemirror_mode": {
    "name": "ipython",
    "version": 3
   },
   "file_extension": ".py",
   "mimetype": "text/x-python",
   "name": "python",
   "nbconvert_exporter": "python",
   "pygments_lexer": "ipython3",
   "version": "3.8.13"
  }
 },
 "nbformat": 4,
 "nbformat_minor": 5
}
