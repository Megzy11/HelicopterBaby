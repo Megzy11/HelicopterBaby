{
 "cells": [
  {
   "cell_type": "markdown",
   "id": "2d6f95b7-49fc-494b-8e51-e89c7c75296f",
   "metadata": {},
   "source": [
    "<a id='setup'></a>\n",
    "\n",
    "## 0. Setup"
   ]
  },
  {
   "cell_type": "markdown",
   "id": "ee2fda53-fdf5-442d-8322-69d2fb3949ac",
   "metadata": {},
   "source": [
    "Setup of the packages and setting of data directory."
   ]
  },
  {
   "cell_type": "code",
   "execution_count": 1,
   "id": "19ee3198-03ed-409f-bc27-853c74c4cbe6",
   "metadata": {},
   "outputs": [],
   "source": [
    "#For the import of packages\n",
    "import numpy as np\n",
    "import pandas as pd\n",
    "from qiime2 import Visualization\n",
    "import matplotlib.pyplot as plt\n",
    "import qiime2 as q2\n",
    "\n",
    "data_dir = \"data\""
   ]
  },
  {
   "cell_type": "markdown",
   "id": "09a6ac93-056b-472e-8ba8-54cc6d30c724",
   "metadata": {},
   "source": [
    "<a id='Input'></a>\n",
    "\n",
    "### 0.1 Input"
   ]
  },
  {
   "cell_type": "markdown",
   "id": "b32c998c-9317-4c94-b40f-b1239ce4bc02",
   "metadata": {},
   "source": [
    "Inspection of the input dataset and loading of metadata."
   ]
  },
  {
   "cell_type": "code",
   "execution_count": 7,
   "id": "76b67e41-ffb7-4715-9d35-c05108d87f5d",
   "metadata": {},
   "outputs": [
    {
     "name": "stdout",
     "output_type": "stream",
     "text": [
      "\u001b[32mUUID\u001b[0m:        b5fec962-ca06-4df5-b043-3aa289e4d753\n",
      "\u001b[32mType\u001b[0m:        SampleData[PairedEndSequencesWithQuality]\n",
      "\u001b[32mData format\u001b[0m: SingleLanePerSamplePairedEndFastqDirFmt\n"
     ]
    }
   ],
   "source": [
    "! qiime tools peek ../$data_dir/sequences_demux_paired.qza"
   ]
  },
  {
   "cell_type": "code",
   "execution_count": 8,
   "id": "08e89004-cbda-4520-9e73-7d1028df9e4c",
   "metadata": {
    "tags": []
   },
   "outputs": [
    {
     "name": "stdout",
     "output_type": "stream",
     "text": [
      "\u001b[32mSaved Visualization to: ../data/sequences_demux_paired.qzv\u001b[0m\n",
      "\u001b[0m"
     ]
    }
   ],
   "source": [
    "#visualizing the input data first\n",
    "! qiime demux summarize \\\n",
    "    --i-data ../$data_dir/sequences_demux_paired.qza \\\n",
    "    --o-visualization ../$data_dir/sequences_demux_paired.qzv"
   ]
  },
  {
   "cell_type": "code",
   "execution_count": 8,
   "id": "a34233a3-1fe5-4a3e-bcb9-39e224e57a44",
   "metadata": {
    "tags": []
   },
   "outputs": [
    {
     "data": {
      "text/html": [
       "<div><img onload=\"(function(div, url){\n",
       "if (typeof require !== 'undefined') {\n",
       "    var baseURL = require.toUrl('').split('/').slice(0, -2).join('/');\n",
       "} else {\n",
       "    var baseURL = JSON.parse(\n",
       "        document.getElementById('jupyter-config-data').innerHTML\n",
       "    ).baseUrl.slice(0, -1);\n",
       "}\n",
       "url = baseURL + url;\n",
       "fetch(url).then(function(res) {\n",
       "    if (res.status === 404) {\n",
       "        div.innerHTML = 'Install QIIME 2 Jupyter extension with:<br />' +\n",
       "                        '<code>jupyter serverextension enable --py qiime2' +\n",
       "                        ' --sys-prefix</code><br />then restart your server.' +\n",
       "                        '<br /><br />(Interactive output not available on ' +\n",
       "                        'static notebook viewer services like nbviewer.)';\n",
       "    } else if (res.status === 409) {\n",
       "        div.innerHTML = 'Visualization no longer in scope. Re-run this cell' +\n",
       "                        ' to see the visualization.';\n",
       "    } else if (res.ok) {\n",
       "        url = res.url;\n",
       "        div.innerHTML = '<iframe src=\\'' + url + '\\' style=\\'' +\n",
       "                        'width: 100%; height: 700px; border: 0;\\'>' +\n",
       "                        '</iframe><hr />Open in a: <a href=\\'' + url + '\\'' +\n",
       "                        ' target=\\'_blank\\'>new window</a>'\n",
       "    } else {\n",
       "        div.innerHTML = 'Something has gone wrong. Check notebook server for' +\n",
       "                        ' errors.';\n",
       "    }\n",
       "});\n",
       "})(this.parentElement, '/qiime2/redirect?location=/tmp/qiime2-archive-pcgs6_ry')\" src=\"data:image/gif;base64,R0lGODlhAQABAIAAAP///wAAACH5BAEAAAAALAAAAAABAAEAAAICRAEAOw==\" /></div>"
      ],
      "text/plain": [
       "<visualization: Visualization uuid: 9273dd54-8782-4487-abd0-2d640c9981b7>"
      ]
     },
     "execution_count": 8,
     "metadata": {},
     "output_type": "execute_result"
    }
   ],
   "source": [
    "Visualization.load(f'../{data_dir}/sequences_demux_paired.qzv')"
   ]
  },
  {
   "cell_type": "markdown",
   "id": "0569ad07-7efb-4842-923a-76260126cb6e",
   "metadata": {},
   "source": [
    "**Brief Summary of paired end sequences with quality score**\n",
    "\n",
    "_READS_\n",
    "* Lowest sequencing depth of 8000 \n",
    "* Mean of 30012 reads per sequence, median about the same  \n",
    "* Total number of reads: 50090402 \n",
    "* Total of 1669 forward and reverse samples\n",
    "* Median length both forward and reverse is about 230nts with most (96% of samples) being +/- 10nts in length\n",
    "\n",
    "_QUALITY_\n",
    "* Quality of reads starts to drop below score 20 at different lengths for forward and reverse reads, hence we will use the _\"denoise-paired\" command and seperately trim the ends to the length they fall below a Phred score of 20_\n",
    "* Median quality of 38 (Phred quality score)"
   ]
  },
  {
   "cell_type": "code",
   "execution_count": 11,
   "id": "6904980d-2420-48c4-9190-0f3ee24248c8",
   "metadata": {
    "tags": []
   },
   "outputs": [
    {
     "data": {
      "text/html": [
       "<div>\n",
       "<style scoped>\n",
       "    .dataframe tbody tr th:only-of-type {\n",
       "        vertical-align: middle;\n",
       "    }\n",
       "\n",
       "    .dataframe tbody tr th {\n",
       "        vertical-align: top;\n",
       "    }\n",
       "\n",
       "    .dataframe thead th {\n",
       "        text-align: right;\n",
       "    }\n",
       "</style>\n",
       "<table border=\"1\" class=\"dataframe\">\n",
       "  <thead>\n",
       "    <tr style=\"text-align: right;\">\n",
       "      <th></th>\n",
       "      <th>Library Layout</th>\n",
       "      <th>Instrument</th>\n",
       "      <th>collection_date</th>\n",
       "      <th>geo_location_name</th>\n",
       "      <th>geo_latitude</th>\n",
       "      <th>geo_longitude</th>\n",
       "      <th>host_id</th>\n",
       "      <th>age_days</th>\n",
       "      <th>weight_kg</th>\n",
       "      <th>length_cm</th>\n",
       "      <th>...</th>\n",
       "      <th>birth_length_cm</th>\n",
       "      <th>sex</th>\n",
       "      <th>delivery_mode</th>\n",
       "      <th>zygosity</th>\n",
       "      <th>race</th>\n",
       "      <th>ethnicity</th>\n",
       "      <th>delivery_preterm</th>\n",
       "      <th>diet_milk</th>\n",
       "      <th>diet_weaning</th>\n",
       "      <th>age_months</th>\n",
       "    </tr>\n",
       "    <tr>\n",
       "      <th>id</th>\n",
       "      <th></th>\n",
       "      <th></th>\n",
       "      <th></th>\n",
       "      <th></th>\n",
       "      <th></th>\n",
       "      <th></th>\n",
       "      <th></th>\n",
       "      <th></th>\n",
       "      <th></th>\n",
       "      <th></th>\n",
       "      <th></th>\n",
       "      <th></th>\n",
       "      <th></th>\n",
       "      <th></th>\n",
       "      <th></th>\n",
       "      <th></th>\n",
       "      <th></th>\n",
       "      <th></th>\n",
       "      <th></th>\n",
       "      <th></th>\n",
       "      <th></th>\n",
       "    </tr>\n",
       "  </thead>\n",
       "  <tbody>\n",
       "    <tr>\n",
       "      <th>ERR1311563</th>\n",
       "      <td>PAIRED</td>\n",
       "      <td>Illumina MiSeq</td>\n",
       "      <td>2011-07-01 00:00:00</td>\n",
       "      <td>USA, Missouri, St. Louis</td>\n",
       "      <td>38.63699</td>\n",
       "      <td>-90.263794</td>\n",
       "      <td>16.2</td>\n",
       "      <td>468.0</td>\n",
       "      <td>NaN</td>\n",
       "      <td>NaN</td>\n",
       "      <td>...</td>\n",
       "      <td>47.0</td>\n",
       "      <td>female</td>\n",
       "      <td>Cesarean</td>\n",
       "      <td>Dizygotic</td>\n",
       "      <td>Caucasian</td>\n",
       "      <td>Not Hispanic</td>\n",
       "      <td>True</td>\n",
       "      <td>NaN</td>\n",
       "      <td>NaN</td>\n",
       "      <td>15.0</td>\n",
       "    </tr>\n",
       "    <tr>\n",
       "      <th>ERR1310606</th>\n",
       "      <td>PAIRED</td>\n",
       "      <td>Illumina MiSeq</td>\n",
       "      <td>2013-01-13 00:00:00</td>\n",
       "      <td>USA, Missouri, St. Louis</td>\n",
       "      <td>38.63699</td>\n",
       "      <td>-90.263794</td>\n",
       "      <td>14.2</td>\n",
       "      <td>1041.0</td>\n",
       "      <td>NaN</td>\n",
       "      <td>NaN</td>\n",
       "      <td>...</td>\n",
       "      <td>46.0</td>\n",
       "      <td>female</td>\n",
       "      <td>Vaginal</td>\n",
       "      <td>Dizygotic</td>\n",
       "      <td>Caucasian</td>\n",
       "      <td>Not Hispanic</td>\n",
       "      <td>True</td>\n",
       "      <td>NaN</td>\n",
       "      <td>NaN</td>\n",
       "      <td>34.0</td>\n",
       "    </tr>\n",
       "    <tr>\n",
       "      <th>ERR1313493</th>\n",
       "      <td>PAIRED</td>\n",
       "      <td>Illumina MiSeq</td>\n",
       "      <td>2010-09-05 00:00:00</td>\n",
       "      <td>USA, Missouri, St. Louis</td>\n",
       "      <td>38.63699</td>\n",
       "      <td>-90.263794</td>\n",
       "      <td>5.2</td>\n",
       "      <td>244.0</td>\n",
       "      <td>7.371</td>\n",
       "      <td>NaN</td>\n",
       "      <td>...</td>\n",
       "      <td>46.0</td>\n",
       "      <td>male</td>\n",
       "      <td>Cesarean</td>\n",
       "      <td>Dizygotic</td>\n",
       "      <td>Caucasian</td>\n",
       "      <td>Not Hispanic</td>\n",
       "      <td>False</td>\n",
       "      <td>fd</td>\n",
       "      <td>True</td>\n",
       "      <td>8.0</td>\n",
       "    </tr>\n",
       "    <tr>\n",
       "      <th>ERR1309981</th>\n",
       "      <td>PAIRED</td>\n",
       "      <td>Illumina MiSeq</td>\n",
       "      <td>2011-03-02 00:00:00</td>\n",
       "      <td>USA, Missouri, St. Louis</td>\n",
       "      <td>38.63699</td>\n",
       "      <td>-90.263794</td>\n",
       "      <td>18.1</td>\n",
       "      <td>336.0</td>\n",
       "      <td>NaN</td>\n",
       "      <td>NaN</td>\n",
       "      <td>...</td>\n",
       "      <td>47.0</td>\n",
       "      <td>female</td>\n",
       "      <td>Cesarean</td>\n",
       "      <td>Dizygotic</td>\n",
       "      <td>African-American</td>\n",
       "      <td>Not Hispanic</td>\n",
       "      <td>False</td>\n",
       "      <td>fd</td>\n",
       "      <td>True</td>\n",
       "      <td>11.0</td>\n",
       "    </tr>\n",
       "    <tr>\n",
       "      <th>ERR1315407</th>\n",
       "      <td>PAIRED</td>\n",
       "      <td>Illumina MiSeq</td>\n",
       "      <td>2011-08-25 00:00:00</td>\n",
       "      <td>USA, Missouri, St. Louis</td>\n",
       "      <td>38.63699</td>\n",
       "      <td>-90.263794</td>\n",
       "      <td>44.1</td>\n",
       "      <td>116.0</td>\n",
       "      <td>NaN</td>\n",
       "      <td>NaN</td>\n",
       "      <td>...</td>\n",
       "      <td>52.0</td>\n",
       "      <td>male</td>\n",
       "      <td>Cesarean</td>\n",
       "      <td>Monozygotic</td>\n",
       "      <td>Caucasian</td>\n",
       "      <td>Not Hispanic</td>\n",
       "      <td>True</td>\n",
       "      <td>bd</td>\n",
       "      <td>True</td>\n",
       "      <td>4.0</td>\n",
       "    </tr>\n",
       "  </tbody>\n",
       "</table>\n",
       "<p>5 rows × 25 columns</p>\n",
       "</div>"
      ],
      "text/plain": [
       "           Library Layout      Instrument      collection_date  \\\n",
       "id                                                               \n",
       "ERR1311563         PAIRED  Illumina MiSeq  2011-07-01 00:00:00   \n",
       "ERR1310606         PAIRED  Illumina MiSeq  2013-01-13 00:00:00   \n",
       "ERR1313493         PAIRED  Illumina MiSeq  2010-09-05 00:00:00   \n",
       "ERR1309981         PAIRED  Illumina MiSeq  2011-03-02 00:00:00   \n",
       "ERR1315407         PAIRED  Illumina MiSeq  2011-08-25 00:00:00   \n",
       "\n",
       "                   geo_location_name  geo_latitude  geo_longitude  host_id  \\\n",
       "id                                                                           \n",
       "ERR1311563  USA, Missouri, St. Louis      38.63699     -90.263794     16.2   \n",
       "ERR1310606  USA, Missouri, St. Louis      38.63699     -90.263794     14.2   \n",
       "ERR1313493  USA, Missouri, St. Louis      38.63699     -90.263794      5.2   \n",
       "ERR1309981  USA, Missouri, St. Louis      38.63699     -90.263794     18.1   \n",
       "ERR1315407  USA, Missouri, St. Louis      38.63699     -90.263794     44.1   \n",
       "\n",
       "            age_days  weight_kg  length_cm  ...  birth_length_cm     sex  \\\n",
       "id                                          ...                            \n",
       "ERR1311563     468.0        NaN        NaN  ...             47.0  female   \n",
       "ERR1310606    1041.0        NaN        NaN  ...             46.0  female   \n",
       "ERR1313493     244.0      7.371        NaN  ...             46.0    male   \n",
       "ERR1309981     336.0        NaN        NaN  ...             47.0  female   \n",
       "ERR1315407     116.0        NaN        NaN  ...             52.0    male   \n",
       "\n",
       "            delivery_mode     zygosity              race     ethnicity  \\\n",
       "id                                                                       \n",
       "ERR1311563       Cesarean    Dizygotic         Caucasian  Not Hispanic   \n",
       "ERR1310606        Vaginal    Dizygotic         Caucasian  Not Hispanic   \n",
       "ERR1313493       Cesarean    Dizygotic         Caucasian  Not Hispanic   \n",
       "ERR1309981       Cesarean    Dizygotic  African-American  Not Hispanic   \n",
       "ERR1315407       Cesarean  Monozygotic         Caucasian  Not Hispanic   \n",
       "\n",
       "           delivery_preterm diet_milk diet_weaning age_months  \n",
       "id                                                             \n",
       "ERR1311563             True       NaN          NaN       15.0  \n",
       "ERR1310606             True       NaN          NaN       34.0  \n",
       "ERR1313493            False        fd         True        8.0  \n",
       "ERR1309981            False        fd         True       11.0  \n",
       "ERR1315407             True        bd         True        4.0  \n",
       "\n",
       "[5 rows x 25 columns]"
      ]
     },
     "execution_count": 11,
     "metadata": {},
     "output_type": "execute_result"
    }
   ],
   "source": [
    "# this line parses the TSV file to create a DataFrame object. \n",
    "metadata_df = pd.read_csv(f'../{data_dir}/metadata.tsv', sep='\\t', index_col=0)\n",
    "# Grab 5 random samples\n",
    "metadata_df.sample(n=5)"
   ]
  },
  {
   "cell_type": "markdown",
   "id": "7db282e5-55ea-4d0e-94e1-784bc90c478b",
   "metadata": {},
   "source": [
    "<a id='denoising'></a>\n",
    "\n",
    "## 1. Denoising and generation of ASV's"
   ]
  },
  {
   "cell_type": "markdown",
   "id": "b47a667d-1070-43cb-b1e0-4e7eba42f144",
   "metadata": {},
   "source": [
    "1. Truncation and denoising of the data.\n",
    "2. Generation of the feature table"
   ]
  },
  {
   "cell_type": "code",
   "execution_count": 2,
   "id": "3468c1a7-8656-410c-be1d-deceec644db8",
   "metadata": {},
   "outputs": [
    {
     "name": "stdout",
     "output_type": "stream",
     "text": [
      "\u001b[32mSaved FeatureTable[Frequency] to: ../data/PJNB_dada2_table_.qza\u001b[0m\n",
      "\u001b[32mSaved FeatureData[Sequence] to: ../data/PJNB_dada2_rep_set.qza\u001b[0m\n",
      "\u001b[32mSaved SampleData[DADA2Stats] to: ../data/PJNB_dada2_stats.qza\u001b[0m\n",
      "\u001b[0m"
     ]
    }
   ],
   "source": [
    "! qiime dada2 denoise-paired \\\n",
    "    --i-demultiplexed-seqs ../$data_dir/sequences_demux_paired.qza \\\n",
    "    --p-trunc-len-f 223 \\\n",
    "    --p-trunc-len-r 159 \\\n",
    "    --p-n-threads 3 \\\n",
    "    --o-table ../$data_dir/PJNB_dada2_table_.qza \\\n",
    "    --o-representative-sequences ../$data_dir/PJNB_dada2_rep_set.qza \\\n",
    "    --o-denoising-stats ../$data_dir/PJNB_dada2_stats.qza"
   ]
  },
  {
   "cell_type": "code",
   "execution_count": 4,
   "id": "ea1b84aa-c66a-4610-97f0-d4a9f768088f",
   "metadata": {
    "tags": []
   },
   "outputs": [
    {
     "name": "stdout",
     "output_type": "stream",
     "text": [
      "\u001b[32mSaved Visualization to: ../data/PJNB_dada2_stats.qzv\u001b[0m\n",
      "\u001b[0m"
     ]
    }
   ],
   "source": [
    "#Statistics of denoising\n",
    "! qiime metadata tabulate \\\n",
    "    --m-input-file ../$data_dir/PJNB_dada2_stats.qza \\\n",
    "    --o-visualization ../$data_dir/PJNB_dada2_stats.qzv"
   ]
  },
  {
   "cell_type": "code",
   "execution_count": 5,
   "id": "bf193e32-d24a-4973-80f2-4f663b61e22f",
   "metadata": {
    "tags": []
   },
   "outputs": [
    {
     "data": {
      "text/html": [
       "<div><img onload=\"(function(div, url){\n",
       "if (typeof require !== 'undefined') {\n",
       "    var baseURL = require.toUrl('').split('/').slice(0, -2).join('/');\n",
       "} else {\n",
       "    var baseURL = JSON.parse(\n",
       "        document.getElementById('jupyter-config-data').innerHTML\n",
       "    ).baseUrl.slice(0, -1);\n",
       "}\n",
       "url = baseURL + url;\n",
       "fetch(url).then(function(res) {\n",
       "    if (res.status === 404) {\n",
       "        div.innerHTML = 'Install QIIME 2 Jupyter extension with:<br />' +\n",
       "                        '<code>jupyter serverextension enable --py qiime2' +\n",
       "                        ' --sys-prefix</code><br />then restart your server.' +\n",
       "                        '<br /><br />(Interactive output not available on ' +\n",
       "                        'static notebook viewer services like nbviewer.)';\n",
       "    } else if (res.status === 409) {\n",
       "        div.innerHTML = 'Visualization no longer in scope. Re-run this cell' +\n",
       "                        ' to see the visualization.';\n",
       "    } else if (res.ok) {\n",
       "        url = res.url;\n",
       "        div.innerHTML = '<iframe src=\\'' + url + '\\' style=\\'' +\n",
       "                        'width: 100%; height: 700px; border: 0;\\'>' +\n",
       "                        '</iframe><hr />Open in a: <a href=\\'' + url + '\\'' +\n",
       "                        ' target=\\'_blank\\'>new window</a>'\n",
       "    } else {\n",
       "        div.innerHTML = 'Something has gone wrong. Check notebook server for' +\n",
       "                        ' errors.';\n",
       "    }\n",
       "});\n",
       "})(this.parentElement, '/qiime2/redirect?location=/tmp/qiime2-archive-um7dxxzh')\" src=\"data:image/gif;base64,R0lGODlhAQABAIAAAP///wAAACH5BAEAAAAALAAAAAABAAEAAAICRAEAOw==\" /></div>"
      ],
      "text/plain": [
       "<visualization: Visualization uuid: e259e1ea-8f27-42c7-a9d1-e0c47f738f62>"
      ]
     },
     "execution_count": 5,
     "metadata": {},
     "output_type": "execute_result"
    }
   ],
   "source": [
    "Visualization.load(f'../{data_dir}/PJNB_dada2_stats.qzv')"
   ]
  },
  {
   "cell_type": "code",
   "execution_count": 6,
   "id": "a71daeef-c7bb-49e1-b1d4-077146bc2936",
   "metadata": {},
   "outputs": [
    {
     "name": "stdout",
     "output_type": "stream",
     "text": [
      "\u001b[32mSaved Visualization to: ../data/PJNB_dada2_table.qzv\u001b[0m\n",
      "\u001b[0m"
     ]
    }
   ],
   "source": [
    "#Feature table visualization\n",
    "! qiime feature-table summarize \\\n",
    "    --i-table ../$data_dir/PJNB_dada2_table_.qza \\\n",
    "    --m-sample-metadata-file ../$data_dir/metadata.tsv \\\n",
    "    --o-visualization ../$data_dir/PJNB_dada2_table.qzv"
   ]
  },
  {
   "cell_type": "code",
   "execution_count": 7,
   "id": "676eb633-0ac8-4206-9445-48a59c8eb738",
   "metadata": {
    "tags": []
   },
   "outputs": [
    {
     "data": {
      "text/html": [
       "<div><img onload=\"(function(div, url){\n",
       "if (typeof require !== 'undefined') {\n",
       "    var baseURL = require.toUrl('').split('/').slice(0, -2).join('/');\n",
       "} else {\n",
       "    var baseURL = JSON.parse(\n",
       "        document.getElementById('jupyter-config-data').innerHTML\n",
       "    ).baseUrl.slice(0, -1);\n",
       "}\n",
       "url = baseURL + url;\n",
       "fetch(url).then(function(res) {\n",
       "    if (res.status === 404) {\n",
       "        div.innerHTML = 'Install QIIME 2 Jupyter extension with:<br />' +\n",
       "                        '<code>jupyter serverextension enable --py qiime2' +\n",
       "                        ' --sys-prefix</code><br />then restart your server.' +\n",
       "                        '<br /><br />(Interactive output not available on ' +\n",
       "                        'static notebook viewer services like nbviewer.)';\n",
       "    } else if (res.status === 409) {\n",
       "        div.innerHTML = 'Visualization no longer in scope. Re-run this cell' +\n",
       "                        ' to see the visualization.';\n",
       "    } else if (res.ok) {\n",
       "        url = res.url;\n",
       "        div.innerHTML = '<iframe src=\\'' + url + '\\' style=\\'' +\n",
       "                        'width: 100%; height: 700px; border: 0;\\'>' +\n",
       "                        '</iframe><hr />Open in a: <a href=\\'' + url + '\\'' +\n",
       "                        ' target=\\'_blank\\'>new window</a>'\n",
       "    } else {\n",
       "        div.innerHTML = 'Something has gone wrong. Check notebook server for' +\n",
       "                        ' errors.';\n",
       "    }\n",
       "});\n",
       "})(this.parentElement, '/qiime2/redirect?location=/tmp/qiime2-archive-0s36t5nk')\" src=\"data:image/gif;base64,R0lGODlhAQABAIAAAP///wAAACH5BAEAAAAALAAAAAABAAEAAAICRAEAOw==\" /></div>"
      ],
      "text/plain": [
       "<visualization: Visualization uuid: a9fa80ad-dbb5-407c-8bfc-704bf4ab1683>"
      ]
     },
     "execution_count": 7,
     "metadata": {},
     "output_type": "execute_result"
    }
   ],
   "source": [
    "Visualization.load(f'../{data_dir}/PJNB_dada2_table.qzv')"
   ]
  },
  {
   "cell_type": "markdown",
   "id": "d33bfc72-a581-4dff-bc55-f21637b341fa",
   "metadata": {},
   "source": [
    "**Brief summary of ASV sequences from Dada2**\n",
    "\n",
    "_STATISTICS_\n",
    "* The lowest percentage of input passed filter was 64.52%\n",
    "* The lowest percentage of input merged was 63.64%\n",
    "* The lowest percentage of input non-chimeric was 63.45%\n",
    "\n",
    "_TABLE_\n",
    "* Number of features: 5055\n",
    "* Median frequency per sample: 26,767.0\n",
    "* Mean frequency per sample: 26,973\n",
    "* Median frequency per feature: 125.0\n",
    "* Mean frequency per feature: 8,905"
   ]
  },
  {
   "cell_type": "code",
   "execution_count": null,
   "id": "1203e4ed-46eb-4625-8f5b-9cd8b97c5bac",
   "metadata": {},
   "outputs": [],
   "source": []
  }
 ],
 "metadata": {
  "kernelspec": {
   "display_name": "Python 3 (ipykernel)",
   "language": "python",
   "name": "python3"
  },
  "language_info": {
   "codemirror_mode": {
    "name": "ipython",
    "version": 3
   },
   "file_extension": ".py",
   "mimetype": "text/x-python",
   "name": "python",
   "nbconvert_exporter": "python",
   "pygments_lexer": "ipython3",
   "version": "3.8.13"
  }
 },
 "nbformat": 4,
 "nbformat_minor": 5
}
