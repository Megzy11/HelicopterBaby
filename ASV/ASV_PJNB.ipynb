{
 "cells": [
  {
   "cell_type": "markdown",
   "id": "2d6f95b7-49fc-494b-8e51-e89c7c75296f",
   "metadata": {},
   "source": [
    "<a id='setup'></a>\n",
    "\n",
    "## 0. Setup"
   ]
  },
  {
   "cell_type": "markdown",
   "id": "ee2fda53-fdf5-442d-8322-69d2fb3949ac",
   "metadata": {},
   "source": [
    "Setup of the packages and setting of data directory."
   ]
  },
  {
   "cell_type": "code",
   "execution_count": 6,
   "id": "19ee3198-03ed-409f-bc27-853c74c4cbe6",
   "metadata": {},
   "outputs": [],
   "source": [
    "#For the import of packages\n",
    "import numpy as np\n",
    "import pandas as pd\n",
    "from qiime2 import Visualization\n",
    "import matplotlib.pyplot as plt\n",
    "import qiime2 as q2\n",
    "\n",
    "data_dir = \"data\"\n",
    "database_dir = \"database\""
   ]
  },
  {
   "cell_type": "markdown",
   "id": "09a6ac93-056b-472e-8ba8-54cc6d30c724",
   "metadata": {},
   "source": [
    "<a id='Input'></a>\n",
    "\n",
    "### 0.1 Input"
   ]
  },
  {
   "cell_type": "markdown",
   "id": "b32c998c-9317-4c94-b40f-b1239ce4bc02",
   "metadata": {},
   "source": [
    "Inspection of the input dataset and loading of metadata."
   ]
  },
  {
   "cell_type": "code",
   "execution_count": 7,
   "id": "76b67e41-ffb7-4715-9d35-c05108d87f5d",
   "metadata": {},
   "outputs": [
    {
     "name": "stdout",
     "output_type": "stream",
     "text": [
      "\u001b[32mUUID\u001b[0m:        b5fec962-ca06-4df5-b043-3aa289e4d753\n",
      "\u001b[32mType\u001b[0m:        SampleData[PairedEndSequencesWithQuality]\n",
      "\u001b[32mData format\u001b[0m: SingleLanePerSamplePairedEndFastqDirFmt\n"
     ]
    }
   ],
   "source": [
    "! qiime tools peek ../$data_dir/sequences_demux_paired.qza"
   ]
  },
  {
   "cell_type": "code",
   "execution_count": null,
   "id": "08e89004-cbda-4520-9e73-7d1028df9e4c",
   "metadata": {
    "tags": []
   },
   "outputs": [],
   "source": [
    "#visualizing the input data first\n",
    "! qiime demux summarize \\\n",
    "    --i-data ../$data_dir/sequences_demux_paired.qza \\\n",
    "    --o-visualization ../$data_dir/sequences_demux_paired.qzv"
   ]
  },
  {
   "cell_type": "code",
   "execution_count": null,
   "id": "a34233a3-1fe5-4a3e-bcb9-39e224e57a44",
   "metadata": {
    "tags": []
   },
   "outputs": [],
   "source": [
    "Visualization.load(f'../{data_dir}/sequences_demux_paired.qzv')"
   ]
  },
  {
   "cell_type": "markdown",
   "id": "0569ad07-7efb-4842-923a-76260126cb6e",
   "metadata": {},
   "source": [
    "**Brief Summary of paired end sequences with quality score**\n",
    "* Lowest sequencing depth of 8000 \n",
    "* Mean of 30012.224086 reads per sequence, median about the same  \n",
    "* Total number of reads: 50090402 \n",
    "* median length both forward and reverse is about 230nts with most (96% of samples) being +/- 10nts in length\n",
    "* quality of reads starts to drop below score 20 at different lengths for forward and reverse reads, hence we will use the _\"denoise-paired\" command and seperately trim the ends to the length they fall below a Phred score of 20_\n",
    "* median quality of 38 (Phred quality score)"
   ]
  },
  {
   "cell_type": "code",
   "execution_count": null,
   "id": "6904980d-2420-48c4-9190-0f3ee24248c8",
   "metadata": {
    "tags": []
   },
   "outputs": [],
   "source": [
    "# this line parses the TSV file to create a DataFrame object. \n",
    "metadata_df = pd.read_csv(f'{data_dir}/metadata.tsv', sep='\\t', index_col=0)\n",
    "# Grab 5 random samples\n",
    "metadata_df.sample(n=5)"
   ]
  },
  {
   "cell_type": "markdown",
   "id": "7db282e5-55ea-4d0e-94e1-784bc90c478b",
   "metadata": {},
   "source": [
    "<a id='denoising'></a>\n",
    "\n",
    "## 1. Denoising and generation of ASV's"
   ]
  },
  {
   "cell_type": "markdown",
   "id": "b47a667d-1070-43cb-b1e0-4e7eba42f144",
   "metadata": {},
   "source": [
    "1. Truncation and denoising of the data.\n",
    "2. Generation of the feature table"
   ]
  },
  {
   "cell_type": "code",
   "execution_count": 6,
   "id": "3468c1a7-8656-410c-be1d-deceec644db8",
   "metadata": {},
   "outputs": [
    {
     "name": "stdout",
     "output_type": "stream",
     "text": [
      "\u001b[32mSaved FeatureTable[Frequency] to: data//PJNB_dada2_table_.qza\u001b[0m\n",
      "\u001b[32mSaved FeatureData[Sequence] to: data//PJNB_dada2_rep_set.qza\u001b[0m\n",
      "\u001b[32mSaved SampleData[DADA2Stats] to: data//PJNB_dada2_stats.qza\u001b[0m\n",
      "\u001b[0m"
     ]
    }
   ],
   "source": [
    "! qiime dada2 denoise-paired \\\n",
    "    --i-demultiplexed-seqs ../$data_dir/sequences_demux_paired.qza \\\n",
    "    --p-trunc-len-f 223 \\\n",
    "    --p-trunc-len-r 165 \\\n",
    "    --p-n-threads 3 \\\n",
    "    --o-table ../$data_dir/PJNB_dada2_table_.qza \\\n",
    "    --o-representative-sequences ../$data_dir/PJNB_dada2_rep_set.qza \\\n",
    "    --o-denoising-stats ../$data_dir/PJNB_dada2_stats.qza"
   ]
  },
  {
   "cell_type": "code",
   "execution_count": 7,
   "id": "ea1b84aa-c66a-4610-97f0-d4a9f768088f",
   "metadata": {
    "tags": []
   },
   "outputs": [
    {
     "name": "stdout",
     "output_type": "stream",
     "text": [
      "\u001b[32mSaved Visualization to: data//PJNB_dada2_stats.qzv\u001b[0m\n",
      "\u001b[0m"
     ]
    }
   ],
   "source": [
    "#Statistics of denoising\n",
    "! qiime metadata tabulate \\\n",
    "    --m-input-file ../$data_dir/PJNB_dada2_stats.qza \\\n",
    "    --o-visualization ../$data_dir/PJNB_dada2_stats.qzv"
   ]
  },
  {
   "cell_type": "code",
   "execution_count": 8,
   "id": "bf193e32-d24a-4973-80f2-4f663b61e22f",
   "metadata": {
    "collapsed": true,
    "jupyter": {
     "outputs_hidden": true
    },
    "tags": []
   },
   "outputs": [
    {
     "data": {
      "text/html": [
       "<div><img onload=\"(function(div, url){\n",
       "if (typeof require !== 'undefined') {\n",
       "    var baseURL = require.toUrl('').split('/').slice(0, -2).join('/');\n",
       "} else {\n",
       "    var baseURL = JSON.parse(\n",
       "        document.getElementById('jupyter-config-data').innerHTML\n",
       "    ).baseUrl.slice(0, -1);\n",
       "}\n",
       "url = baseURL + url;\n",
       "fetch(url).then(function(res) {\n",
       "    if (res.status === 404) {\n",
       "        div.innerHTML = 'Install QIIME 2 Jupyter extension with:<br />' +\n",
       "                        '<code>jupyter serverextension enable --py qiime2' +\n",
       "                        ' --sys-prefix</code><br />then restart your server.' +\n",
       "                        '<br /><br />(Interactive output not available on ' +\n",
       "                        'static notebook viewer services like nbviewer.)';\n",
       "    } else if (res.status === 409) {\n",
       "        div.innerHTML = 'Visualization no longer in scope. Re-run this cell' +\n",
       "                        ' to see the visualization.';\n",
       "    } else if (res.ok) {\n",
       "        url = res.url;\n",
       "        div.innerHTML = '<iframe src=\\'' + url + '\\' style=\\'' +\n",
       "                        'width: 100%; height: 700px; border: 0;\\'>' +\n",
       "                        '</iframe><hr />Open in a: <a href=\\'' + url + '\\'' +\n",
       "                        ' target=\\'_blank\\'>new window</a>'\n",
       "    } else {\n",
       "        div.innerHTML = 'Something has gone wrong. Check notebook server for' +\n",
       "                        ' errors.';\n",
       "    }\n",
       "});\n",
       "})(this.parentElement, '/qiime2/redirect?location=/tmp/qiime2-archive-0o2nibdv')\" src=\"data:image/gif;base64,R0lGODlhAQABAIAAAP///wAAACH5BAEAAAAALAAAAAABAAEAAAICRAEAOw==\" /></div>"
      ],
      "text/plain": [
       "<visualization: Visualization uuid: 54a58010-76e2-484b-9555-53b9b7d54eb6>"
      ]
     },
     "execution_count": 8,
     "metadata": {},
     "output_type": "execute_result"
    }
   ],
   "source": [
    "Visualization.load(f'../{data_dir}/PJNB_dada2_stats.qzv')"
   ]
  },
  {
   "cell_type": "markdown",
   "id": "5af104c8-c6a8-4037-98ad-9d8b23233db3",
   "metadata": {},
   "source": []
  },
  {
   "cell_type": "code",
   "execution_count": 9,
   "id": "a71daeef-c7bb-49e1-b1d4-077146bc2936",
   "metadata": {},
   "outputs": [
    {
     "name": "stdout",
     "output_type": "stream",
     "text": [
      "\u001b[32mSaved Visualization to: data//PJNB_dada2_table.qzv\u001b[0m\n",
      "\u001b[0m"
     ]
    }
   ],
   "source": [
    "#Feature table visualization\n",
    "! qiime feature-table summarize \\\n",
    "    --i-table ../$data_dir/PJNB_dada2_table_.qza \\\n",
    "    --m-sample-metadata-file ../$data_dir/metadata.tsv \\\n",
    "    --o-visualization ../$data_dir/PJNB_dada2_table.qzv"
   ]
  },
  {
   "cell_type": "code",
   "execution_count": 10,
   "id": "676eb633-0ac8-4206-9445-48a59c8eb738",
   "metadata": {
    "tags": []
   },
   "outputs": [
    {
     "data": {
      "text/html": [
       "<div><img onload=\"(function(div, url){\n",
       "if (typeof require !== 'undefined') {\n",
       "    var baseURL = require.toUrl('').split('/').slice(0, -2).join('/');\n",
       "} else {\n",
       "    var baseURL = JSON.parse(\n",
       "        document.getElementById('jupyter-config-data').innerHTML\n",
       "    ).baseUrl.slice(0, -1);\n",
       "}\n",
       "url = baseURL + url;\n",
       "fetch(url).then(function(res) {\n",
       "    if (res.status === 404) {\n",
       "        div.innerHTML = 'Install QIIME 2 Jupyter extension with:<br />' +\n",
       "                        '<code>jupyter serverextension enable --py qiime2' +\n",
       "                        ' --sys-prefix</code><br />then restart your server.' +\n",
       "                        '<br /><br />(Interactive output not available on ' +\n",
       "                        'static notebook viewer services like nbviewer.)';\n",
       "    } else if (res.status === 409) {\n",
       "        div.innerHTML = 'Visualization no longer in scope. Re-run this cell' +\n",
       "                        ' to see the visualization.';\n",
       "    } else if (res.ok) {\n",
       "        url = res.url;\n",
       "        div.innerHTML = '<iframe src=\\'' + url + '\\' style=\\'' +\n",
       "                        'width: 100%; height: 700px; border: 0;\\'>' +\n",
       "                        '</iframe><hr />Open in a: <a href=\\'' + url + '\\'' +\n",
       "                        ' target=\\'_blank\\'>new window</a>'\n",
       "    } else {\n",
       "        div.innerHTML = 'Something has gone wrong. Check notebook server for' +\n",
       "                        ' errors.';\n",
       "    }\n",
       "});\n",
       "})(this.parentElement, '/qiime2/redirect?location=/tmp/qiime2-archive-56uaq5x2')\" src=\"data:image/gif;base64,R0lGODlhAQABAIAAAP///wAAACH5BAEAAAAALAAAAAABAAEAAAICRAEAOw==\" /></div>"
      ],
      "text/plain": [
       "<visualization: Visualization uuid: 29785adf-2652-4288-928d-70b210a184bd>"
      ]
     },
     "execution_count": 10,
     "metadata": {},
     "output_type": "execute_result"
    }
   ],
   "source": [
    "Visualization.load(f'../{data_dir}/PJNB_dada2_table.qzv')"
   ]
  }
 ],
 "metadata": {
  "kernelspec": {
   "display_name": "Python 3 (ipykernel)",
   "language": "python",
   "name": "python3"
  },
  "language_info": {
   "codemirror_mode": {
    "name": "ipython",
    "version": 3
   },
   "file_extension": ".py",
   "mimetype": "text/x-python",
   "name": "python",
   "nbconvert_exporter": "python",
   "pygments_lexer": "ipython3",
   "version": "3.8.13"
  }
 },
 "nbformat": 4,
 "nbformat_minor": 5
}
