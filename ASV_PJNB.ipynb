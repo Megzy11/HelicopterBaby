{
 "cells": [
  {
   "cell_type": "markdown",
   "id": "2d6f95b7-49fc-494b-8e51-e89c7c75296f",
   "metadata": {},
   "source": [
    "<a id='setup'></a>\n",
    "\n",
    "## 0. Setup"
   ]
  },
  {
   "cell_type": "markdown",
   "id": "ee2fda53-fdf5-442d-8322-69d2fb3949ac",
   "metadata": {},
   "source": [
    "Setup of the packages and setting of data directory."
   ]
  },
  {
   "cell_type": "code",
   "execution_count": 1,
   "id": "19ee3198-03ed-409f-bc27-853c74c4cbe6",
   "metadata": {},
   "outputs": [],
   "source": [
    "#For the import of packages\n",
    "import numpy as np\n",
    "import pandas as pd\n",
    "from qiime2 import Visualization\n",
    "import matplotlib.pyplot as plt\n",
    "import qiime2 as q2\n",
    "\n",
    "data_dir = \"data/\"\n",
    "database_dir = \"database\""
   ]
  },
  {
   "cell_type": "markdown",
   "id": "09a6ac93-056b-472e-8ba8-54cc6d30c724",
   "metadata": {},
   "source": [
    "<a id='Input'></a>\n",
    "\n",
    "### 0.1 Input"
   ]
  },
  {
   "cell_type": "markdown",
   "id": "b32c998c-9317-4c94-b40f-b1239ce4bc02",
   "metadata": {},
   "source": [
    "Inspection of the input dataset and loading of metadata."
   ]
  },
  {
   "cell_type": "code",
   "execution_count": 2,
   "id": "76b67e41-ffb7-4715-9d35-c05108d87f5d",
   "metadata": {},
   "outputs": [
    {
     "name": "stdout",
     "output_type": "stream",
     "text": [
      "\u001b[32mUUID\u001b[0m:        b5fec962-ca06-4df5-b043-3aa289e4d753\n",
      "\u001b[32mType\u001b[0m:        SampleData[PairedEndSequencesWithQuality]\n",
      "\u001b[32mData format\u001b[0m: SingleLanePerSamplePairedEndFastqDirFmt\n"
     ]
    }
   ],
   "source": [
    "! qiime tools peek $data_dir/sequences_demux_paired.qza"
   ]
  },
  {
   "cell_type": "code",
   "execution_count": 3,
   "id": "08e89004-cbda-4520-9e73-7d1028df9e4c",
   "metadata": {
    "collapsed": true,
    "jupyter": {
     "outputs_hidden": true
    },
    "tags": []
   },
   "outputs": [
    {
     "name": "stdout",
     "output_type": "stream",
     "text": [
      "^C\n",
      "\n",
      "Aborted!\n",
      "\u001b[0m"
     ]
    }
   ],
   "source": [
    "#visualizing the input data first\n",
    "! qiime demux summarize \\\n",
    "    --i-data $data_dir/sequences_demux_paired.qza \\\n",
    "    --o-visualization $data_dir/sequences_demux_paired.qzv"
   ]
  },
  {
   "cell_type": "code",
   "execution_count": 4,
   "id": "a34233a3-1fe5-4a3e-bcb9-39e224e57a44",
   "metadata": {
    "collapsed": true,
    "jupyter": {
     "outputs_hidden": true
    },
    "tags": []
   },
   "outputs": [
    {
     "data": {
      "text/html": [
       "<div><img onload=\"(function(div, url){\n",
       "if (typeof require !== 'undefined') {\n",
       "    var baseURL = require.toUrl('').split('/').slice(0, -2).join('/');\n",
       "} else {\n",
       "    var baseURL = JSON.parse(\n",
       "        document.getElementById('jupyter-config-data').innerHTML\n",
       "    ).baseUrl.slice(0, -1);\n",
       "}\n",
       "url = baseURL + url;\n",
       "fetch(url).then(function(res) {\n",
       "    if (res.status === 404) {\n",
       "        div.innerHTML = 'Install QIIME 2 Jupyter extension with:<br />' +\n",
       "                        '<code>jupyter serverextension enable --py qiime2' +\n",
       "                        ' --sys-prefix</code><br />then restart your server.' +\n",
       "                        '<br /><br />(Interactive output not available on ' +\n",
       "                        'static notebook viewer services like nbviewer.)';\n",
       "    } else if (res.status === 409) {\n",
       "        div.innerHTML = 'Visualization no longer in scope. Re-run this cell' +\n",
       "                        ' to see the visualization.';\n",
       "    } else if (res.ok) {\n",
       "        url = res.url;\n",
       "        div.innerHTML = '<iframe src=\\'' + url + '\\' style=\\'' +\n",
       "                        'width: 100%; height: 700px; border: 0;\\'>' +\n",
       "                        '</iframe><hr />Open in a: <a href=\\'' + url + '\\'' +\n",
       "                        ' target=\\'_blank\\'>new window</a>'\n",
       "    } else {\n",
       "        div.innerHTML = 'Something has gone wrong. Check notebook server for' +\n",
       "                        ' errors.';\n",
       "    }\n",
       "});\n",
       "})(this.parentElement, '/qiime2/redirect?location=/tmp/qiime2-archive-pdb9eami')\" src=\"data:image/gif;base64,R0lGODlhAQABAIAAAP///wAAACH5BAEAAAAALAAAAAABAAEAAAICRAEAOw==\" /></div>"
      ],
      "text/plain": [
       "<visualization: Visualization uuid: bebaf032-c7ff-4f4d-b99c-be1983f56539>"
      ]
     },
     "execution_count": 4,
     "metadata": {},
     "output_type": "execute_result"
    }
   ],
   "source": [
    "Visualization.load(f'{data_dir}/sequences_demux_paired.qzv')"
   ]
  },
  {
   "cell_type": "markdown",
   "id": "0569ad07-7efb-4842-923a-76260126cb6e",
   "metadata": {},
   "source": [
    "**Summary of imput data:** \\\n",
    "Data decreases at different length for the for and rev reads so I would use the \"denoise-paired\" command and seperately trim the ends to the length they fall below a Phred score of 20.\\\n",
    "erg"
   ]
  },
  {
   "cell_type": "code",
   "execution_count": 5,
   "id": "6904980d-2420-48c4-9190-0f3ee24248c8",
   "metadata": {
    "collapsed": true,
    "jupyter": {
     "outputs_hidden": true
    },
    "tags": []
   },
   "outputs": [
    {
     "data": {
      "text/html": [
       "<div>\n",
       "<style scoped>\n",
       "    .dataframe tbody tr th:only-of-type {\n",
       "        vertical-align: middle;\n",
       "    }\n",
       "\n",
       "    .dataframe tbody tr th {\n",
       "        vertical-align: top;\n",
       "    }\n",
       "\n",
       "    .dataframe thead th {\n",
       "        text-align: right;\n",
       "    }\n",
       "</style>\n",
       "<table border=\"1\" class=\"dataframe\">\n",
       "  <thead>\n",
       "    <tr style=\"text-align: right;\">\n",
       "      <th></th>\n",
       "      <th>Library Layout</th>\n",
       "      <th>Instrument</th>\n",
       "      <th>collection_date</th>\n",
       "      <th>geo_location_name</th>\n",
       "      <th>geo_latitude</th>\n",
       "      <th>geo_longitude</th>\n",
       "      <th>host_id</th>\n",
       "      <th>age_days</th>\n",
       "      <th>weight_kg</th>\n",
       "      <th>length_cm</th>\n",
       "      <th>...</th>\n",
       "      <th>birth_length_cm</th>\n",
       "      <th>sex</th>\n",
       "      <th>delivery_mode</th>\n",
       "      <th>zygosity</th>\n",
       "      <th>race</th>\n",
       "      <th>ethnicity</th>\n",
       "      <th>delivery_preterm</th>\n",
       "      <th>diet_milk</th>\n",
       "      <th>diet_weaning</th>\n",
       "      <th>age_months</th>\n",
       "    </tr>\n",
       "    <tr>\n",
       "      <th>id</th>\n",
       "      <th></th>\n",
       "      <th></th>\n",
       "      <th></th>\n",
       "      <th></th>\n",
       "      <th></th>\n",
       "      <th></th>\n",
       "      <th></th>\n",
       "      <th></th>\n",
       "      <th></th>\n",
       "      <th></th>\n",
       "      <th></th>\n",
       "      <th></th>\n",
       "      <th></th>\n",
       "      <th></th>\n",
       "      <th></th>\n",
       "      <th></th>\n",
       "      <th></th>\n",
       "      <th></th>\n",
       "      <th></th>\n",
       "      <th></th>\n",
       "      <th></th>\n",
       "    </tr>\n",
       "  </thead>\n",
       "  <tbody>\n",
       "    <tr>\n",
       "      <th>ERR1309865</th>\n",
       "      <td>PAIRED</td>\n",
       "      <td>Illumina MiSeq</td>\n",
       "      <td>2012-01-18 00:00:00</td>\n",
       "      <td>USA, Missouri, St. Louis</td>\n",
       "      <td>38.63699</td>\n",
       "      <td>-90.263794</td>\n",
       "      <td>23.2</td>\n",
       "      <td>625.0</td>\n",
       "      <td>NaN</td>\n",
       "      <td>NaN</td>\n",
       "      <td>...</td>\n",
       "      <td>50.0</td>\n",
       "      <td>male</td>\n",
       "      <td>Cesarean_emergency</td>\n",
       "      <td>Dizygotic</td>\n",
       "      <td>Caucasian</td>\n",
       "      <td>Not Hispanic</td>\n",
       "      <td>True</td>\n",
       "      <td>NaN</td>\n",
       "      <td>NaN</td>\n",
       "      <td>21.0</td>\n",
       "    </tr>\n",
       "    <tr>\n",
       "      <th>ERR1309905</th>\n",
       "      <td>PAIRED</td>\n",
       "      <td>Illumina MiSeq</td>\n",
       "      <td>2010-07-29 00:00:00</td>\n",
       "      <td>USA, Missouri, St. Louis</td>\n",
       "      <td>38.63699</td>\n",
       "      <td>-90.263794</td>\n",
       "      <td>12.2</td>\n",
       "      <td>132.0</td>\n",
       "      <td>NaN</td>\n",
       "      <td>NaN</td>\n",
       "      <td>...</td>\n",
       "      <td>48.0</td>\n",
       "      <td>female</td>\n",
       "      <td>Vaginal</td>\n",
       "      <td>Monozygotic</td>\n",
       "      <td>Caucasian</td>\n",
       "      <td>Not Hispanic</td>\n",
       "      <td>False</td>\n",
       "      <td>fd</td>\n",
       "      <td>False</td>\n",
       "      <td>4.0</td>\n",
       "    </tr>\n",
       "    <tr>\n",
       "      <th>ERR1311639</th>\n",
       "      <td>PAIRED</td>\n",
       "      <td>Illumina MiSeq</td>\n",
       "      <td>2011-10-05 00:00:00</td>\n",
       "      <td>USA, Missouri, St. Louis</td>\n",
       "      <td>38.63699</td>\n",
       "      <td>-90.263794</td>\n",
       "      <td>25.2</td>\n",
       "      <td>511.0</td>\n",
       "      <td>12.247</td>\n",
       "      <td>NaN</td>\n",
       "      <td>...</td>\n",
       "      <td>48.0</td>\n",
       "      <td>female</td>\n",
       "      <td>Cesarean_emergency</td>\n",
       "      <td>Monozygotic</td>\n",
       "      <td>Caucasian</td>\n",
       "      <td>Hispanic</td>\n",
       "      <td>False</td>\n",
       "      <td>NaN</td>\n",
       "      <td>NaN</td>\n",
       "      <td>17.0</td>\n",
       "    </tr>\n",
       "    <tr>\n",
       "      <th>ERR1314204</th>\n",
       "      <td>PAIRED</td>\n",
       "      <td>Illumina MiSeq</td>\n",
       "      <td>2011-06-12 00:00:00</td>\n",
       "      <td>USA, Missouri, St. Louis</td>\n",
       "      <td>38.63699</td>\n",
       "      <td>-90.263794</td>\n",
       "      <td>30.2</td>\n",
       "      <td>326.0</td>\n",
       "      <td>NaN</td>\n",
       "      <td>NaN</td>\n",
       "      <td>...</td>\n",
       "      <td>41.0</td>\n",
       "      <td>female</td>\n",
       "      <td>Cesarean</td>\n",
       "      <td>Monozygotic</td>\n",
       "      <td>Caucasian</td>\n",
       "      <td>Not Hispanic</td>\n",
       "      <td>True</td>\n",
       "      <td>fd</td>\n",
       "      <td>True</td>\n",
       "      <td>11.0</td>\n",
       "    </tr>\n",
       "    <tr>\n",
       "      <th>ERR1309719</th>\n",
       "      <td>PAIRED</td>\n",
       "      <td>Illumina MiSeq</td>\n",
       "      <td>2012-02-14 00:00:00</td>\n",
       "      <td>USA, Missouri, St. Louis</td>\n",
       "      <td>38.63699</td>\n",
       "      <td>-90.263794</td>\n",
       "      <td>10.1</td>\n",
       "      <td>715.0</td>\n",
       "      <td>NaN</td>\n",
       "      <td>NaN</td>\n",
       "      <td>...</td>\n",
       "      <td>47.0</td>\n",
       "      <td>female</td>\n",
       "      <td>Cesarean</td>\n",
       "      <td>Dizygotic</td>\n",
       "      <td>Caucasian</td>\n",
       "      <td>Not Hispanic</td>\n",
       "      <td>True</td>\n",
       "      <td>NaN</td>\n",
       "      <td>NaN</td>\n",
       "      <td>23.0</td>\n",
       "    </tr>\n",
       "  </tbody>\n",
       "</table>\n",
       "<p>5 rows × 25 columns</p>\n",
       "</div>"
      ],
      "text/plain": [
       "           Library Layout      Instrument      collection_date  \\\n",
       "id                                                               \n",
       "ERR1309865         PAIRED  Illumina MiSeq  2012-01-18 00:00:00   \n",
       "ERR1309905         PAIRED  Illumina MiSeq  2010-07-29 00:00:00   \n",
       "ERR1311639         PAIRED  Illumina MiSeq  2011-10-05 00:00:00   \n",
       "ERR1314204         PAIRED  Illumina MiSeq  2011-06-12 00:00:00   \n",
       "ERR1309719         PAIRED  Illumina MiSeq  2012-02-14 00:00:00   \n",
       "\n",
       "                   geo_location_name  geo_latitude  geo_longitude  host_id  \\\n",
       "id                                                                           \n",
       "ERR1309865  USA, Missouri, St. Louis      38.63699     -90.263794     23.2   \n",
       "ERR1309905  USA, Missouri, St. Louis      38.63699     -90.263794     12.2   \n",
       "ERR1311639  USA, Missouri, St. Louis      38.63699     -90.263794     25.2   \n",
       "ERR1314204  USA, Missouri, St. Louis      38.63699     -90.263794     30.2   \n",
       "ERR1309719  USA, Missouri, St. Louis      38.63699     -90.263794     10.1   \n",
       "\n",
       "            age_days  weight_kg  length_cm  ...  birth_length_cm     sex  \\\n",
       "id                                          ...                            \n",
       "ERR1309865     625.0        NaN        NaN  ...             50.0    male   \n",
       "ERR1309905     132.0        NaN        NaN  ...             48.0  female   \n",
       "ERR1311639     511.0     12.247        NaN  ...             48.0  female   \n",
       "ERR1314204     326.0        NaN        NaN  ...             41.0  female   \n",
       "ERR1309719     715.0        NaN        NaN  ...             47.0  female   \n",
       "\n",
       "                 delivery_mode     zygosity       race     ethnicity  \\\n",
       "id                                                                     \n",
       "ERR1309865  Cesarean_emergency    Dizygotic  Caucasian  Not Hispanic   \n",
       "ERR1309905             Vaginal  Monozygotic  Caucasian  Not Hispanic   \n",
       "ERR1311639  Cesarean_emergency  Monozygotic  Caucasian      Hispanic   \n",
       "ERR1314204            Cesarean  Monozygotic  Caucasian  Not Hispanic   \n",
       "ERR1309719            Cesarean    Dizygotic  Caucasian  Not Hispanic   \n",
       "\n",
       "           delivery_preterm diet_milk diet_weaning age_months  \n",
       "id                                                             \n",
       "ERR1309865             True       NaN          NaN       21.0  \n",
       "ERR1309905            False        fd        False        4.0  \n",
       "ERR1311639            False       NaN          NaN       17.0  \n",
       "ERR1314204             True        fd         True       11.0  \n",
       "ERR1309719             True       NaN          NaN       23.0  \n",
       "\n",
       "[5 rows x 25 columns]"
      ]
     },
     "execution_count": 5,
     "metadata": {},
     "output_type": "execute_result"
    }
   ],
   "source": [
    "# this line parses the TSV file to create a DataFrame object. \n",
    "metadata_df = pd.read_csv(f'{data_dir}/metadata.tsv', sep='\\t', index_col=0)\n",
    "# Grab 5 random samples\n",
    "metadata_df.sample(n=5)"
   ]
  },
  {
   "cell_type": "markdown",
   "id": "7db282e5-55ea-4d0e-94e1-784bc90c478b",
   "metadata": {},
   "source": [
    "<a id='denoising'></a>\n",
    "\n",
    "## 1. Denoising and generation of ASV's"
   ]
  },
  {
   "cell_type": "markdown",
   "id": "b47a667d-1070-43cb-b1e0-4e7eba42f144",
   "metadata": {},
   "source": [
    "1. Truncation and denoising of the data.\n",
    "2. Generation of the feature table"
   ]
  },
  {
   "cell_type": "code",
   "execution_count": 6,
   "id": "3468c1a7-8656-410c-be1d-deceec644db8",
   "metadata": {},
   "outputs": [
    {
     "name": "stdout",
     "output_type": "stream",
     "text": [
      "\u001b[32mSaved FeatureTable[Frequency] to: data//PJNB_dada2_table_.qza\u001b[0m\n",
      "\u001b[32mSaved FeatureData[Sequence] to: data//PJNB_dada2_rep_set.qza\u001b[0m\n",
      "\u001b[32mSaved SampleData[DADA2Stats] to: data//PJNB_dada2_stats.qza\u001b[0m\n",
      "\u001b[0m"
     ]
    }
   ],
   "source": [
    "! qiime dada2 denoise-paired \\\n",
    "    --i-demultiplexed-seqs $data_dir/sequences_demux_paired.qza \\\n",
    "    --p-trunc-len-f 223 \\\n",
    "    --p-trunc-len-r 165 \\\n",
    "    --p-n-threads 3 \\\n",
    "    --o-table $data_dir/PJNB_dada2_table_.qza \\\n",
    "    --o-representative-sequences $data_dir/PJNB_dada2_rep_set.qza \\\n",
    "    --o-denoising-stats $data_dir/PJNB_dada2_stats.qza"
   ]
  },
  {
   "cell_type": "code",
   "execution_count": 7,
   "id": "ea1b84aa-c66a-4610-97f0-d4a9f768088f",
   "metadata": {
    "tags": []
   },
   "outputs": [
    {
     "name": "stdout",
     "output_type": "stream",
     "text": [
      "\u001b[32mSaved Visualization to: data//PJNB_dada2_stats.qzv\u001b[0m\n",
      "\u001b[0m"
     ]
    }
   ],
   "source": [
    "#Statistics of denoising\n",
    "! qiime metadata tabulate \\\n",
    "    --m-input-file $data_dir/PJNB_dada2_stats.qza \\\n",
    "    --o-visualization $data_dir/PJNB_dada2_stats.qzv"
   ]
  },
  {
   "cell_type": "code",
   "execution_count": 8,
   "id": "bf193e32-d24a-4973-80f2-4f663b61e22f",
   "metadata": {
    "collapsed": true,
    "jupyter": {
     "outputs_hidden": true
    },
    "tags": []
   },
   "outputs": [
    {
     "data": {
      "text/html": [
       "<div><img onload=\"(function(div, url){\n",
       "if (typeof require !== 'undefined') {\n",
       "    var baseURL = require.toUrl('').split('/').slice(0, -2).join('/');\n",
       "} else {\n",
       "    var baseURL = JSON.parse(\n",
       "        document.getElementById('jupyter-config-data').innerHTML\n",
       "    ).baseUrl.slice(0, -1);\n",
       "}\n",
       "url = baseURL + url;\n",
       "fetch(url).then(function(res) {\n",
       "    if (res.status === 404) {\n",
       "        div.innerHTML = 'Install QIIME 2 Jupyter extension with:<br />' +\n",
       "                        '<code>jupyter serverextension enable --py qiime2' +\n",
       "                        ' --sys-prefix</code><br />then restart your server.' +\n",
       "                        '<br /><br />(Interactive output not available on ' +\n",
       "                        'static notebook viewer services like nbviewer.)';\n",
       "    } else if (res.status === 409) {\n",
       "        div.innerHTML = 'Visualization no longer in scope. Re-run this cell' +\n",
       "                        ' to see the visualization.';\n",
       "    } else if (res.ok) {\n",
       "        url = res.url;\n",
       "        div.innerHTML = '<iframe src=\\'' + url + '\\' style=\\'' +\n",
       "                        'width: 100%; height: 700px; border: 0;\\'>' +\n",
       "                        '</iframe><hr />Open in a: <a href=\\'' + url + '\\'' +\n",
       "                        ' target=\\'_blank\\'>new window</a>'\n",
       "    } else {\n",
       "        div.innerHTML = 'Something has gone wrong. Check notebook server for' +\n",
       "                        ' errors.';\n",
       "    }\n",
       "});\n",
       "})(this.parentElement, '/qiime2/redirect?location=/tmp/qiime2-archive-0o2nibdv')\" src=\"data:image/gif;base64,R0lGODlhAQABAIAAAP///wAAACH5BAEAAAAALAAAAAABAAEAAAICRAEAOw==\" /></div>"
      ],
      "text/plain": [
       "<visualization: Visualization uuid: 54a58010-76e2-484b-9555-53b9b7d54eb6>"
      ]
     },
     "execution_count": 8,
     "metadata": {},
     "output_type": "execute_result"
    }
   ],
   "source": [
    "Visualization.load(f'{data_dir}/PJNB_dada2_stats.qzv')"
   ]
  },
  {
   "cell_type": "code",
   "execution_count": 9,
   "id": "a71daeef-c7bb-49e1-b1d4-077146bc2936",
   "metadata": {},
   "outputs": [
    {
     "name": "stdout",
     "output_type": "stream",
     "text": [
      "\u001b[32mSaved Visualization to: data//PJNB_dada2_table.qzv\u001b[0m\n",
      "\u001b[0m"
     ]
    }
   ],
   "source": [
    "#Feature table visualization\n",
    "! qiime feature-table summarize \\\n",
    "    --i-table $data_dir/PJNB_dada2_table_.qza \\\n",
    "    --m-sample-metadata-file $data_dir/metadata.tsv \\\n",
    "    --o-visualization $data_dir/PJNB_dada2_table.qzv"
   ]
  },
  {
   "cell_type": "code",
   "execution_count": 10,
   "id": "676eb633-0ac8-4206-9445-48a59c8eb738",
   "metadata": {
    "collapsed": true,
    "jupyter": {
     "outputs_hidden": true
    },
    "tags": []
   },
   "outputs": [
    {
     "data": {
      "text/html": [
       "<div><img onload=\"(function(div, url){\n",
       "if (typeof require !== 'undefined') {\n",
       "    var baseURL = require.toUrl('').split('/').slice(0, -2).join('/');\n",
       "} else {\n",
       "    var baseURL = JSON.parse(\n",
       "        document.getElementById('jupyter-config-data').innerHTML\n",
       "    ).baseUrl.slice(0, -1);\n",
       "}\n",
       "url = baseURL + url;\n",
       "fetch(url).then(function(res) {\n",
       "    if (res.status === 404) {\n",
       "        div.innerHTML = 'Install QIIME 2 Jupyter extension with:<br />' +\n",
       "                        '<code>jupyter serverextension enable --py qiime2' +\n",
       "                        ' --sys-prefix</code><br />then restart your server.' +\n",
       "                        '<br /><br />(Interactive output not available on ' +\n",
       "                        'static notebook viewer services like nbviewer.)';\n",
       "    } else if (res.status === 409) {\n",
       "        div.innerHTML = 'Visualization no longer in scope. Re-run this cell' +\n",
       "                        ' to see the visualization.';\n",
       "    } else if (res.ok) {\n",
       "        url = res.url;\n",
       "        div.innerHTML = '<iframe src=\\'' + url + '\\' style=\\'' +\n",
       "                        'width: 100%; height: 700px; border: 0;\\'>' +\n",
       "                        '</iframe><hr />Open in a: <a href=\\'' + url + '\\'' +\n",
       "                        ' target=\\'_blank\\'>new window</a>'\n",
       "    } else {\n",
       "        div.innerHTML = 'Something has gone wrong. Check notebook server for' +\n",
       "                        ' errors.';\n",
       "    }\n",
       "});\n",
       "})(this.parentElement, '/qiime2/redirect?location=/tmp/qiime2-archive-56uaq5x2')\" src=\"data:image/gif;base64,R0lGODlhAQABAIAAAP///wAAACH5BAEAAAAALAAAAAABAAEAAAICRAEAOw==\" /></div>"
      ],
      "text/plain": [
       "<visualization: Visualization uuid: 29785adf-2652-4288-928d-70b210a184bd>"
      ]
     },
     "execution_count": 10,
     "metadata": {},
     "output_type": "execute_result"
    }
   ],
   "source": [
    "Visualization.load(f'{data_dir}/PJNB_dada2_table.qzv')"
   ]
  },
  {
   "cell_type": "markdown",
   "id": "b18fa17f-2e0c-4a41-ac65-8e780b806bff",
   "metadata": {},
   "source": [
    "<a id='taxonomy'></a>\n",
    "\n",
    "## 2. Taxonomy assignment"
   ]
  },
  {
   "cell_type": "markdown",
   "id": "174fabf5-8f2d-4387-8769-86e839b63a5d",
   "metadata": {},
   "source": [
    "<a id='setup'></a>\n",
    "\n",
    "### 2.1 Database loading and preparation"
   ]
  },
  {
   "cell_type": "code",
   "execution_count": 11,
   "id": "4dcd9e0f-fb0b-4871-b1f2-d2db7284d3ba",
   "metadata": {},
   "outputs": [
    {
     "name": "stdout",
     "output_type": "stream",
     "text": [
      "Usage: \u001b[94mqiime rescript get-silva-data\u001b[0m [OPTIONS]\n",
      "\n",
      "  Download, parse, and import SILVA database files, given a version number\n",
      "  and reference target. Downloads data directly from SILVA, parses the\n",
      "  taxonomy files, and outputs ready-to-use sequence and taxonomy artifacts.\n",
      "  REQUIRES STABLE INTERNET CONNECTION. NOTE: THIS ACTION ACQUIRES DATA FROM\n",
      "  THE SILVA DATABASE. SEE https://www.arb-silva.de/silva-license-\n",
      "  information/ FOR MORE INFORMATION and be aware that earlier versions may\n",
      "  be released under a different license.\n",
      "\n",
      "\u001b[1mParameters\u001b[0m:\n",
      "  \u001b[94m--p-version\u001b[0m VALUE \u001b[32mStr % Choices('128', '132')¹ | Str % Choices('138')² |\u001b[0m\n",
      "    \u001b[32mStr % Choices('138.1')³\u001b[0m\n",
      "                       SILVA database version to download.  \u001b[35m[default: '138.1']\u001b[0m\n",
      "  \u001b[94m--p-target\u001b[0m VALUE \u001b[32mStr % Choices('SSURef_NR99', 'SSURef', 'LSURef')¹ | Str\u001b[0m\n",
      "    \u001b[32m% Choices('SSURef_NR99', 'SSURef')² | Str % Choices('SSURef_NR99',\u001b[0m\n",
      "    \u001b[32m'SSURef', 'LSURef_NR99', 'LSURef')³\u001b[0m\n",
      "                       Reference sequence target to download. SSURef =\n",
      "                       redundant small subunit reference. LSURef = redundant\n",
      "                       large subunit reference. SSURef_NR99 = non-redundant\n",
      "                       (clustered at 99% similarity) small subunit reference.\n",
      "                                                      \u001b[35m[default: 'SSURef_NR99']\u001b[0m\n",
      "  \u001b[94m--p-include-species-labels\u001b[0m / \u001b[94m--p-no-include-species-labels\u001b[0m\n",
      "                       Include species rank labels in taxonomy output. Note:\n",
      "                       species-labels may not be reliable in all cases.\n",
      "                                                              \u001b[35m[default: False]\u001b[0m\n",
      "  \u001b[94m--p-rank-propagation\u001b[0m / \u001b[94m--p-no-rank-propagation\u001b[0m\n",
      "                       If a rank has no taxonomy associated with it, the\n",
      "                       taxonomy from the upper-level rank of that lineage,\n",
      "                       will be propagated downward. For example, if we are\n",
      "                       missing the genus label for 'f__Pasteurellaceae;\n",
      "                       g__'then the 'f__' rank will be propagated to become:\n",
      "                       'f__Pasteurellaceae; g__Pasteurellaceae'.\n",
      "                                                               \u001b[35m[default: True]\u001b[0m\n",
      "  \u001b[94m--p-ranks\u001b[0m TEXT... \u001b[32mChoices('domain', 'superkingdom', 'kingdom',\u001b[0m\n",
      "    \u001b[32m'subkingdom', 'superphylum', 'phylum', 'subphylum', 'infraphylum',\u001b[0m\n",
      "    \u001b[32m'superclass', 'class', 'subclass', 'infraclass', 'superorder', 'order',\u001b[0m\n",
      "    \u001b[32m'suborder', 'superfamily', 'family', 'subfamily', 'genus')\u001b[0m\n",
      "                       List of taxonomic ranks for building a taxonomy from\n",
      "                       the SILVA Taxonomy database. Use\n",
      "                       '\u001b[4minclude-species-labels\u001b[0m' to append the organism name as\n",
      "                       the species label. [default: 'domain', 'phylum',\n",
      "                       'class', 'order', 'family', 'genus']         \u001b[35m[optional]\u001b[0m\n",
      "  \u001b[94m--p-download-sequences\u001b[0m / \u001b[94m--p-no-download-sequences\u001b[0m\n",
      "                       Toggle whether or not to download and import the SILVA\n",
      "                       reference sequences associated with the release.\n",
      "                       Skipping the sequences is useful if you only want to\n",
      "                       download and parse the taxonomy, e.g., a local copy of\n",
      "                       the sequences already exists or for testing purposes.\n",
      "                       NOTE: if this option is used, a `\u001b[4msilva-sequences\u001b[0m`\n",
      "                       output is still created, but contains no data.\n",
      "                                                               \u001b[35m[default: True]\u001b[0m\n",
      "\u001b[1mOutputs\u001b[0m:\n",
      "  \u001b[94m\u001b[4m--o-silva-sequences\u001b[0m ARTIFACT \u001b[32mFeatureData[RNASequence]\u001b[0m\n",
      "                       SILVA reference sequences.                   \u001b[35m[required]\u001b[0m\n",
      "  \u001b[94m\u001b[4m--o-silva-taxonomy\u001b[0m ARTIFACT \u001b[32mFeatureData[Taxonomy]\u001b[0m\n",
      "                       SILVA reference taxonomy.                    \u001b[35m[required]\u001b[0m\n",
      "\u001b[1mMiscellaneous\u001b[0m:\n",
      "  \u001b[94m--output-dir\u001b[0m PATH    Output unspecified results to a directory\n",
      "  \u001b[94m--verbose\u001b[0m / \u001b[94m--quiet\u001b[0m  Display verbose output to stdout and/or stderr during\n",
      "                       execution of this action. Or silence output if\n",
      "                       execution is successful (silence is golden).\n",
      "  \u001b[94m--example-data\u001b[0m PATH  Write example data and exit.\n",
      "  \u001b[94m--citations\u001b[0m          Show citations and exit.\n",
      "  \u001b[94m--help\u001b[0m               Show this message and exit.\n",
      "\n",
      "\u001b[33m                  There were some problems with the command:                  \u001b[0m\n",
      "\u001b[31m\u001b[1m (1/2) Invalid value for '--o-silva-sequences': '/' is not a writable\n",
      "  directory, cannot write output to it.\u001b[0m\n",
      "\u001b[31m\u001b[1m (2/2) Invalid value for '--o-silva-taxonomy': '/' is not a writable\n",
      "  directory, cannot write output to it.\u001b[0m\n"
     ]
    }
   ],
   "source": [
    "! qiime rescript get-silva-data \\\n",
    "    --p-version '138' \\\n",
    "    --p-target 'SSURef_NR99' \\\n",
    "    --p-include-species-labels \\\n",
    "    --o-silva-sequences $database_dir/silva-138-ssu-nr99-seqs.qza \\\n",
    "    --o-silva-taxonomy $database_dir/silva-138-ssu-nr99-tax.qza"
   ]
  },
  {
   "cell_type": "code",
   "execution_count": 12,
   "id": "073e8087-ecc5-432d-b9a2-08b53dbff981",
   "metadata": {},
   "outputs": [
    {
     "name": "stdout",
     "output_type": "stream",
     "text": [
      "Usage: \u001b[94mqiime rescript filter-seqs-length-by-taxon\u001b[0m [OPTIONS]\n",
      "\n",
      "  Filter sequences by length. Can filter both globally by minimum and/or\n",
      "  maximum length, and set individual threshold for individual taxonomic\n",
      "  groups (using the \"labels\" option). Note that filtering can be performed\n",
      "  for multiple taxonomic groups simultaneously, and nested taxonomic filters\n",
      "  can be applied (e.g., to apply a more stringent filter for a particular\n",
      "  genus, but a less stringent filter for other members of the kingdom). For\n",
      "  global length-based filtering without conditional taxonomic filtering, see\n",
      "  filter_seqs_length.\n",
      "\n",
      "\u001b[1mInputs\u001b[0m:\n",
      "  \u001b[94m\u001b[4m--i-sequences\u001b[0m ARTIFACT \u001b[32mFeatureData[Sequence]\u001b[0m\n",
      "                          Sequences to be filtered by length.       \u001b[35m[required]\u001b[0m\n",
      "  \u001b[94m\u001b[4m--i-taxonomy\u001b[0m ARTIFACT \u001b[32mFeatureData[Taxonomy]\u001b[0m\n",
      "                          Taxonomic classifications of sequences to be\n",
      "                          filtered.                                 \u001b[35m[required]\u001b[0m\n",
      "\u001b[1mParameters\u001b[0m:\n",
      "  \u001b[94m\u001b[4m--p-labels\u001b[0m TEXT...      One or more taxonomic labels to use for conditional\n",
      "    \u001b[32mList[Str]\u001b[0m             filtering. For example, use this option to set\n",
      "                          different min/max filter settings for individual\n",
      "                          phyla. Must input the same number of labels as\n",
      "                          \u001b[4mmin-lens\u001b[0m and/or \u001b[4mmax-lens\u001b[0m. If a sequence matches\n",
      "                          multiple taxonomic labels, this method will apply\n",
      "                          the most stringent threshold(s): the longest minimum\n",
      "                          length and/or the shortest maximum length that is\n",
      "                          associated with the matching labels.      \u001b[35m[required]\u001b[0m\n",
      "  \u001b[94m--p-min-lens\u001b[0m INTEGERS...\n",
      "    \u001b[32mRange(1, None)\u001b[0m        Minimum length thresholds to use for filtering\n",
      "                          sequences associated with each label. If any\n",
      "                          \u001b[4mmin-lens\u001b[0m are specified, must have the same number of\n",
      "                          \u001b[4mmin-lens\u001b[0m as labels. Sequences that contain this\n",
      "                          label in their taxonomy will be removed if they are\n",
      "                          less than the specified length.           \u001b[35m[optional]\u001b[0m\n",
      "  \u001b[94m--p-max-lens\u001b[0m INTEGERS...\n",
      "    \u001b[32mRange(1, None)\u001b[0m        Maximum length thresholds to use for filtering\n",
      "                          sequences associated with each label. If any\n",
      "                          \u001b[4mmax-lens\u001b[0m are specified, must have the same number of\n",
      "                          \u001b[4mmax-lens\u001b[0m as labels. Sequences that contain this\n",
      "                          label in their taxonomy will be removed if they are\n",
      "                          more than the specified length.           \u001b[35m[optional]\u001b[0m\n",
      "  \u001b[94m--p-global-min\u001b[0m INTEGER  The minimum length threshold for filtering all\n",
      "    \u001b[32mRange(1, None)\u001b[0m        sequences. Any sequence shorter than this length\n",
      "                          will be removed.                          \u001b[35m[optional]\u001b[0m\n",
      "  \u001b[94m--p-global-max\u001b[0m INTEGER  The maximum length threshold for filtering all\n",
      "    \u001b[32mRange(1, None)\u001b[0m        sequences. Any sequence longer than this length will\n",
      "                          be removed.                               \u001b[35m[optional]\u001b[0m\n",
      "\u001b[1mOutputs\u001b[0m:\n",
      "  \u001b[94m\u001b[4m--o-filtered-seqs\u001b[0m ARTIFACT \u001b[32mFeatureData[Sequence]\u001b[0m\n",
      "                          Sequences that pass the filtering thresholds.\n",
      "                                                                    \u001b[35m[required]\u001b[0m\n",
      "  \u001b[94m\u001b[4m--o-discarded-seqs\u001b[0m ARTIFACT \u001b[32mFeatureData[Sequence]\u001b[0m\n",
      "                          Sequences that fall outside the filtering\n",
      "                          thresholds.                               \u001b[35m[required]\u001b[0m\n",
      "\u001b[1mMiscellaneous\u001b[0m:\n",
      "  \u001b[94m--output-dir\u001b[0m PATH       Output unspecified results to a directory\n",
      "  \u001b[94m--verbose\u001b[0m / \u001b[94m--quiet\u001b[0m     Display verbose output to stdout and/or stderr\n",
      "                          during execution of this action. Or silence output\n",
      "                          if execution is successful (silence is golden).\n",
      "  \u001b[94m--example-data\u001b[0m PATH     Write example data and exit.\n",
      "  \u001b[94m--citations\u001b[0m             Show citations and exit.\n",
      "  \u001b[94m--help\u001b[0m                  Show this message and exit.\n",
      "\n",
      "\u001b[33m                  There were some problems with the command:                  \u001b[0m\n",
      "\u001b[31m\u001b[1m (1/4) Invalid value for '--i-sequences': '/silva-138-ssu-nr99-seqs-\n",
      "  cleaned.qza' is not a valid filepath\u001b[0m\n",
      "\u001b[31m\u001b[1m (2/4) Invalid value for '--i-taxonomy': '/silva-138-ssu-nr99-tax.qza' is not\n",
      "  a valid filepath\u001b[0m\n",
      "\u001b[31m\u001b[1m (3/4) Invalid value for '--o-filtered-seqs': '/' is not a writable directory,\n",
      "  cannot write output to it.\u001b[0m\n",
      "\u001b[31m\u001b[1m (4/4) Invalid value for '--o-discarded-seqs': '/' is not a writable\n",
      "  directory, cannot write output to it.\u001b[0m\n",
      "\u001b[0m"
     ]
    }
   ],
   "source": [
    "! qiime rescript filter-seqs-length-by-taxon \\\n",
    "    --i-sequences $database_dir/silva-138-ssu-nr99-seqs-cleaned.qza \\\n",
    "    --i-taxonomy $database_dir/silva-138-ssu-nr99-tax.qza \\\n",
    "    --p-labels Archaea Bacteria Eukaryota \\\n",
    "    --p-min-lens 900 1200 1400 \\\n",
    "    --o-filtered-seqs $database_dir/silva-138-ssu-nr99-seqs-filt.qza \\\n",
    "    --o-discarded-seqs $database_dir/silva-138-ssu-nr99-seqs-discard.qza"
   ]
  },
  {
   "cell_type": "code",
   "execution_count": null,
   "id": "c7de171c-5488-4348-9171-4da77d6148cd",
   "metadata": {},
   "outputs": [],
   "source": [
    "! qiime rescript dereplicate \\\n",
    "    --i-sequences $database_dir/silva-138-ssu-nr99-seqs-filt.qza  \\\n",
    "    --i-taxa $database_dir/silva-138-ssu-nr99-tax.qza \\\n",
    "    --p-rank-handles 'silva' \\\n",
    "    --p-mode 'uniq' \\\n",
    "    --p-threads 3 \\\n",
    "    --o-dereplicated-sequences $database_dir/silva-138-ssu-nr99-seqs-derep-uniq.qza \\\n",
    "    --o-dereplicated-taxa $database_dir/silva-138-ssu-nr99-tax-derep-uniq.qza"
   ]
  },
  {
   "cell_type": "code",
   "execution_count": null,
   "id": "eeb4e3ec-16e0-403a-a62f-c3d101af892b",
   "metadata": {},
   "outputs": [],
   "source": []
  }
 ],
 "metadata": {
  "kernelspec": {
   "display_name": "Python 3 (ipykernel)",
   "language": "python",
   "name": "python3"
  },
  "language_info": {
   "codemirror_mode": {
    "name": "ipython",
    "version": 3
   },
   "file_extension": ".py",
   "mimetype": "text/x-python",
   "name": "python",
   "nbconvert_exporter": "python",
   "pygments_lexer": "ipython3",
   "version": "3.8.13"
  }
 },
 "nbformat": 4,
 "nbformat_minor": 5
}
