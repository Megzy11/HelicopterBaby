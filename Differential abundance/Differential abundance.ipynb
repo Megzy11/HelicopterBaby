{
 "cells": [
  {
   "cell_type": "markdown",
   "id": "37254d39-fde6-4517-b654-f3cb59ca00c0",
   "metadata": {},
   "source": [
    "### 0. Setup"
   ]
  },
  {
   "cell_type": "code",
   "execution_count": 1,
   "id": "b97a0891-a53e-45c0-ae57-e855f82ff3de",
   "metadata": {},
   "outputs": [],
   "source": [
    "import os\n",
    "import matplotlib.pyplot as plt\n",
    "import pandas as pd\n",
    "import qiime2 as q2\n",
    "from qiime2 import Visualization\n",
    "import seaborn as sns\n",
    "from scipy.stats import shapiro, kruskal, f_oneway\n",
    "\n",
    "\n",
    "data_dir = 'data'\n",
    "\n",
    "if not os.path.isdir(data_dir):\n",
    "    os.makedirs(data_dir)\n",
    "    \n",
    "%matplotlib inline"
   ]
  },
  {
   "cell_type": "code",
   "execution_count": 2,
   "id": "c25d5b28-51d6-4507-a1c3-72cceef71242",
   "metadata": {},
   "outputs": [
    {
     "name": "stdout",
     "output_type": "stream",
     "text": [
      "2022-11-29 13:11:52 URL:https://polybox.ethz.ch/index.php/s/YD03e961xKim9Ix/download [1799985/1799985] -> \"data/feature-table_filtered.qza\" [1]\n",
      "2022-11-29 13:11:53 URL:https://polybox.ethz.ch/index.php/s/RVPyoVYUBeVQFrJ/download [325995/325995] -> \"data/metadata.tsv\" [1]\n",
      "2022-11-29 13:11:53 URL:https://polybox.ethz.ch/index.php/s/xI7QZ3djVFA9xPj/download [397963/397963] -> \"data/taxonomy_classification.qza\" [1]\n"
     ]
    }
   ],
   "source": [
    "#import filtered feature table from phylogeny\n",
    "! wget -nv -O $data_dir/feature-table_filtered.qza 'https://polybox.ethz.ch/index.php/s/YD03e961xKim9Ix/download'\n",
    "! wget -nv -O $data_dir/metadata.tsv 'https://polybox.ethz.ch/index.php/s/RVPyoVYUBeVQFrJ/download'\n",
    "! wget -nv -O $data_dir/taxonomy_classification.qza 'https://polybox.ethz.ch/index.php/s/xI7QZ3djVFA9xPj/download'"
   ]
  },
  {
   "cell_type": "code",
   "execution_count": 5,
   "id": "bd3bf05c-a31d-4e9a-8ce2-c68addbedcc1",
   "metadata": {},
   "outputs": [
    {
     "data": {
      "text/html": [
       "<div>\n",
       "<style scoped>\n",
       "    .dataframe tbody tr th:only-of-type {\n",
       "        vertical-align: middle;\n",
       "    }\n",
       "\n",
       "    .dataframe tbody tr th {\n",
       "        vertical-align: top;\n",
       "    }\n",
       "\n",
       "    .dataframe thead th {\n",
       "        text-align: right;\n",
       "    }\n",
       "</style>\n",
       "<table border=\"1\" class=\"dataframe\">\n",
       "  <thead>\n",
       "    <tr style=\"text-align: right;\">\n",
       "      <th></th>\n",
       "      <th>042c16e5b0f6444ef0466ba21a59fbd9</th>\n",
       "      <th>872a14c755bae7615bbfd082b4de20f9</th>\n",
       "      <th>35ffcc3b809d667286737d79670b8de5</th>\n",
       "      <th>118fbd65b0c5bdc8c2f12ef7099058aa</th>\n",
       "      <th>c6c3ab4e828fb40d6e05967b7aac9338</th>\n",
       "      <th>c180a36036d60eb85ccb62737d8e2ba0</th>\n",
       "      <th>c24e0e391aa836b5eae25567c7eb89ee</th>\n",
       "      <th>46953abeca4fce8a17c5dea8732f1611</th>\n",
       "      <th>8e175abe6a746b8f33bae9cd7c8192bb</th>\n",
       "      <th>315ca0a729f126b941ba111a16d4d97a</th>\n",
       "      <th>...</th>\n",
       "      <th>36f1f089e32373134ee77626ada1fbf0</th>\n",
       "      <th>78f2730a1c1c42f71e58763c6776ac77</th>\n",
       "      <th>ae290f0b0a5586b0cb783c2dfec83fa2</th>\n",
       "      <th>0f1803505db2f19f4b3067d768adf73b</th>\n",
       "      <th>b6645d333c70257fd3fe3dd42943189c</th>\n",
       "      <th>d01af41f6dac277a3feb79a1aa713c4b</th>\n",
       "      <th>9e27b12da68a87e509022323424d7b1b</th>\n",
       "      <th>c845eda99662b5a88a8c8e979ec07dd0</th>\n",
       "      <th>16abb37658f0d89cf9462696b61b312c</th>\n",
       "      <th>5f952448dbca288581e4b199a7db9178</th>\n",
       "    </tr>\n",
       "  </thead>\n",
       "  <tbody>\n",
       "    <tr>\n",
       "      <th>ERR1309715</th>\n",
       "      <td>223.0</td>\n",
       "      <td>1537.0</td>\n",
       "      <td>141.0</td>\n",
       "      <td>320.0</td>\n",
       "      <td>935.0</td>\n",
       "      <td>3534.0</td>\n",
       "      <td>178.0</td>\n",
       "      <td>0.0</td>\n",
       "      <td>1852.0</td>\n",
       "      <td>0.0</td>\n",
       "      <td>...</td>\n",
       "      <td>0.0</td>\n",
       "      <td>0.0</td>\n",
       "      <td>0.0</td>\n",
       "      <td>0.0</td>\n",
       "      <td>0.0</td>\n",
       "      <td>0.0</td>\n",
       "      <td>0.0</td>\n",
       "      <td>0.0</td>\n",
       "      <td>0.0</td>\n",
       "      <td>0.0</td>\n",
       "    </tr>\n",
       "    <tr>\n",
       "      <th>ERR1309716</th>\n",
       "      <td>19.0</td>\n",
       "      <td>3346.0</td>\n",
       "      <td>12.0</td>\n",
       "      <td>2256.0</td>\n",
       "      <td>2288.0</td>\n",
       "      <td>974.0</td>\n",
       "      <td>1815.0</td>\n",
       "      <td>0.0</td>\n",
       "      <td>599.0</td>\n",
       "      <td>0.0</td>\n",
       "      <td>...</td>\n",
       "      <td>0.0</td>\n",
       "      <td>0.0</td>\n",
       "      <td>0.0</td>\n",
       "      <td>0.0</td>\n",
       "      <td>0.0</td>\n",
       "      <td>0.0</td>\n",
       "      <td>0.0</td>\n",
       "      <td>0.0</td>\n",
       "      <td>0.0</td>\n",
       "      <td>0.0</td>\n",
       "    </tr>\n",
       "    <tr>\n",
       "      <th>ERR1309717</th>\n",
       "      <td>246.0</td>\n",
       "      <td>3247.0</td>\n",
       "      <td>157.0</td>\n",
       "      <td>1203.0</td>\n",
       "      <td>2181.0</td>\n",
       "      <td>1202.0</td>\n",
       "      <td>830.0</td>\n",
       "      <td>0.0</td>\n",
       "      <td>636.0</td>\n",
       "      <td>0.0</td>\n",
       "      <td>...</td>\n",
       "      <td>0.0</td>\n",
       "      <td>0.0</td>\n",
       "      <td>0.0</td>\n",
       "      <td>0.0</td>\n",
       "      <td>0.0</td>\n",
       "      <td>0.0</td>\n",
       "      <td>0.0</td>\n",
       "      <td>0.0</td>\n",
       "      <td>0.0</td>\n",
       "      <td>0.0</td>\n",
       "    </tr>\n",
       "    <tr>\n",
       "      <th>ERR1309718</th>\n",
       "      <td>203.0</td>\n",
       "      <td>536.0</td>\n",
       "      <td>114.0</td>\n",
       "      <td>1306.0</td>\n",
       "      <td>310.0</td>\n",
       "      <td>2558.0</td>\n",
       "      <td>780.0</td>\n",
       "      <td>0.0</td>\n",
       "      <td>1245.0</td>\n",
       "      <td>0.0</td>\n",
       "      <td>...</td>\n",
       "      <td>0.0</td>\n",
       "      <td>0.0</td>\n",
       "      <td>0.0</td>\n",
       "      <td>0.0</td>\n",
       "      <td>0.0</td>\n",
       "      <td>0.0</td>\n",
       "      <td>0.0</td>\n",
       "      <td>0.0</td>\n",
       "      <td>0.0</td>\n",
       "      <td>0.0</td>\n",
       "    </tr>\n",
       "    <tr>\n",
       "      <th>ERR1309719</th>\n",
       "      <td>301.0</td>\n",
       "      <td>1527.0</td>\n",
       "      <td>223.0</td>\n",
       "      <td>202.0</td>\n",
       "      <td>923.0</td>\n",
       "      <td>2819.0</td>\n",
       "      <td>148.0</td>\n",
       "      <td>0.0</td>\n",
       "      <td>1511.0</td>\n",
       "      <td>0.0</td>\n",
       "      <td>...</td>\n",
       "      <td>0.0</td>\n",
       "      <td>0.0</td>\n",
       "      <td>0.0</td>\n",
       "      <td>0.0</td>\n",
       "      <td>0.0</td>\n",
       "      <td>0.0</td>\n",
       "      <td>0.0</td>\n",
       "      <td>0.0</td>\n",
       "      <td>0.0</td>\n",
       "      <td>0.0</td>\n",
       "    </tr>\n",
       "  </tbody>\n",
       "</table>\n",
       "<p>5 rows × 5078 columns</p>\n",
       "</div>"
      ],
      "text/plain": [
       "            042c16e5b0f6444ef0466ba21a59fbd9  \\\n",
       "ERR1309715                             223.0   \n",
       "ERR1309716                              19.0   \n",
       "ERR1309717                             246.0   \n",
       "ERR1309718                             203.0   \n",
       "ERR1309719                             301.0   \n",
       "\n",
       "            872a14c755bae7615bbfd082b4de20f9  \\\n",
       "ERR1309715                            1537.0   \n",
       "ERR1309716                            3346.0   \n",
       "ERR1309717                            3247.0   \n",
       "ERR1309718                             536.0   \n",
       "ERR1309719                            1527.0   \n",
       "\n",
       "            35ffcc3b809d667286737d79670b8de5  \\\n",
       "ERR1309715                             141.0   \n",
       "ERR1309716                              12.0   \n",
       "ERR1309717                             157.0   \n",
       "ERR1309718                             114.0   \n",
       "ERR1309719                             223.0   \n",
       "\n",
       "            118fbd65b0c5bdc8c2f12ef7099058aa  \\\n",
       "ERR1309715                             320.0   \n",
       "ERR1309716                            2256.0   \n",
       "ERR1309717                            1203.0   \n",
       "ERR1309718                            1306.0   \n",
       "ERR1309719                             202.0   \n",
       "\n",
       "            c6c3ab4e828fb40d6e05967b7aac9338  \\\n",
       "ERR1309715                             935.0   \n",
       "ERR1309716                            2288.0   \n",
       "ERR1309717                            2181.0   \n",
       "ERR1309718                             310.0   \n",
       "ERR1309719                             923.0   \n",
       "\n",
       "            c180a36036d60eb85ccb62737d8e2ba0  \\\n",
       "ERR1309715                            3534.0   \n",
       "ERR1309716                             974.0   \n",
       "ERR1309717                            1202.0   \n",
       "ERR1309718                            2558.0   \n",
       "ERR1309719                            2819.0   \n",
       "\n",
       "            c24e0e391aa836b5eae25567c7eb89ee  \\\n",
       "ERR1309715                             178.0   \n",
       "ERR1309716                            1815.0   \n",
       "ERR1309717                             830.0   \n",
       "ERR1309718                             780.0   \n",
       "ERR1309719                             148.0   \n",
       "\n",
       "            46953abeca4fce8a17c5dea8732f1611  \\\n",
       "ERR1309715                               0.0   \n",
       "ERR1309716                               0.0   \n",
       "ERR1309717                               0.0   \n",
       "ERR1309718                               0.0   \n",
       "ERR1309719                               0.0   \n",
       "\n",
       "            8e175abe6a746b8f33bae9cd7c8192bb  \\\n",
       "ERR1309715                            1852.0   \n",
       "ERR1309716                             599.0   \n",
       "ERR1309717                             636.0   \n",
       "ERR1309718                            1245.0   \n",
       "ERR1309719                            1511.0   \n",
       "\n",
       "            315ca0a729f126b941ba111a16d4d97a  ...  \\\n",
       "ERR1309715                               0.0  ...   \n",
       "ERR1309716                               0.0  ...   \n",
       "ERR1309717                               0.0  ...   \n",
       "ERR1309718                               0.0  ...   \n",
       "ERR1309719                               0.0  ...   \n",
       "\n",
       "            36f1f089e32373134ee77626ada1fbf0  \\\n",
       "ERR1309715                               0.0   \n",
       "ERR1309716                               0.0   \n",
       "ERR1309717                               0.0   \n",
       "ERR1309718                               0.0   \n",
       "ERR1309719                               0.0   \n",
       "\n",
       "            78f2730a1c1c42f71e58763c6776ac77  \\\n",
       "ERR1309715                               0.0   \n",
       "ERR1309716                               0.0   \n",
       "ERR1309717                               0.0   \n",
       "ERR1309718                               0.0   \n",
       "ERR1309719                               0.0   \n",
       "\n",
       "            ae290f0b0a5586b0cb783c2dfec83fa2  \\\n",
       "ERR1309715                               0.0   \n",
       "ERR1309716                               0.0   \n",
       "ERR1309717                               0.0   \n",
       "ERR1309718                               0.0   \n",
       "ERR1309719                               0.0   \n",
       "\n",
       "            0f1803505db2f19f4b3067d768adf73b  \\\n",
       "ERR1309715                               0.0   \n",
       "ERR1309716                               0.0   \n",
       "ERR1309717                               0.0   \n",
       "ERR1309718                               0.0   \n",
       "ERR1309719                               0.0   \n",
       "\n",
       "            b6645d333c70257fd3fe3dd42943189c  \\\n",
       "ERR1309715                               0.0   \n",
       "ERR1309716                               0.0   \n",
       "ERR1309717                               0.0   \n",
       "ERR1309718                               0.0   \n",
       "ERR1309719                               0.0   \n",
       "\n",
       "            d01af41f6dac277a3feb79a1aa713c4b  \\\n",
       "ERR1309715                               0.0   \n",
       "ERR1309716                               0.0   \n",
       "ERR1309717                               0.0   \n",
       "ERR1309718                               0.0   \n",
       "ERR1309719                               0.0   \n",
       "\n",
       "            9e27b12da68a87e509022323424d7b1b  \\\n",
       "ERR1309715                               0.0   \n",
       "ERR1309716                               0.0   \n",
       "ERR1309717                               0.0   \n",
       "ERR1309718                               0.0   \n",
       "ERR1309719                               0.0   \n",
       "\n",
       "            c845eda99662b5a88a8c8e979ec07dd0  \\\n",
       "ERR1309715                               0.0   \n",
       "ERR1309716                               0.0   \n",
       "ERR1309717                               0.0   \n",
       "ERR1309718                               0.0   \n",
       "ERR1309719                               0.0   \n",
       "\n",
       "            16abb37658f0d89cf9462696b61b312c  5f952448dbca288581e4b199a7db9178  \n",
       "ERR1309715                               0.0                               0.0  \n",
       "ERR1309716                               0.0                               0.0  \n",
       "ERR1309717                               0.0                               0.0  \n",
       "ERR1309718                               0.0                               0.0  \n",
       "ERR1309719                               0.0                               0.0  \n",
       "\n",
       "[5 rows x 5078 columns]"
      ]
     },
     "execution_count": 5,
     "metadata": {},
     "output_type": "execute_result"
    }
   ],
   "source": [
    "#import feature table as pandas DF\n",
    "data = q2.Artifact.load(f'{data_dir}/feature-table_filtered.qza').view(pd.DataFrame)\n",
    "data.head()"
   ]
  },
  {
   "cell_type": "markdown",
   "id": "1a15342f-82e9-4459-b2ac-2df777edbcc9",
   "metadata": {},
   "source": [
    "### 1. Seaborn violin plot to check the distribution"
   ]
  },
  {
   "cell_type": "markdown",
   "id": "48309458-b254-4a50-a73a-c21e2f21509e",
   "metadata": {},
   "source": [
    "Check the distribution of 20 samples, randomly picked from the original dataframe as an example."
   ]
  },
  {
   "cell_type": "code",
   "execution_count": 7,
   "id": "0c54f205-c679-43ba-b9bb-a348f350d1aa",
   "metadata": {},
   "outputs": [],
   "source": [
    "n = 20\n",
    "\n",
    "# draw n ASVs out of the original DataFrame\n",
    "data_samp = data.sample(n=n, axis=1, random_state=234)\n",
    "\n",
    "# create a new DataFrame with three columns (sample, ASV, abundance)\n",
    "col_names = {'level_0': 'sample', 'level_1': 'asv', 0: 'count'}\n",
    "data_plot = data_samp.stack().reset_index().rename(columns=col_names)\n",
    "\n",
    "# make sure the shape is correct (no. of rows should be equal to the size of our random \n",
    "# sample multiplied by number of samples)\n",
    "assert data_plot.shape[0] == n * data_samp.shape[0], 'The new DataFrame has an incorrect no. of rows.'"
   ]
  },
  {
   "cell_type": "code",
   "execution_count": 9,
   "id": "8dbbe49f-77d5-4f06-8bec-6fc48916aa7c",
   "metadata": {},
   "outputs": [
    {
     "data": {
      "image/png": "[encoded data removed]",
      "text/plain": [
       "<Figure size 1080x540 with 1 Axes>"
      ]
     },
     "metadata": {},
     "output_type": "display_data"
    }
   ],
   "source": [
    "with sns.axes_style('white'), sns.color_palette('Set1'):\n",
    "    fig, ax = plt.subplots()\n",
    "    fig.set_size_inches(15, 7.5)\n",
    "    \n",
    "    sns.violinplot(data=data_plot, x='asv', y='count', ax=ax)\n",
    "    sns.despine(left=True)\n",
    "    \n",
    "    # adjust tick labels and axes titles\n",
    "    ax.tick_params(axis='x', rotation=90, labelsize=11)\n",
    "    ax.tick_params(axis='y', labelsize=11)\n",
    "    ax.set_xlabel('ASV', fontsize=14)\n",
    "    ax.set_ylabel('Count', fontsize=14)"
   ]
  },
  {
   "cell_type": "markdown",
   "id": "c40375d1-4bc6-4d2d-a37e-69035aa4ce9e",
   "metadata": {},
   "source": [
    "It is clearly visible that samples are not normally distributed. Use ANCOM to check differential abundance. "
   ]
  },
  {
   "cell_type": "markdown",
   "id": "261e8061-753b-4840-9054-64d0a9320041",
   "metadata": {},
   "source": [
    "### 2. ANCOM "
   ]
  },
  {
   "cell_type": "markdown",
   "id": "03fb84f4-a049-47b6-b82b-f13f91da87eb",
   "metadata": {},
   "source": [
    "What we want to look at:  \n",
    "- Weaning: True vs. False \n",
    "- Diet: breast feeding vs. formula diet \n",
    "- Diet: breast feeding & formula diet vs. no milk \n",
    "- Age: Months 2 vs Months 12"
   ]
  },
  {
   "cell_type": "markdown",
   "id": "94a6b250-9c6a-4d28-80e7-a14d297d1830",
   "metadata": {},
   "source": [
    "**Filter feature table**"
   ]
  },
  {
   "cell_type": "code",
   "execution_count": 11,
   "id": "9441e266-d2c9-4fb6-b35b-14b7df64f4c1",
   "metadata": {},
   "outputs": [
    {
     "name": "stdout",
     "output_type": "stream",
     "text": [
      "\u001b[32mSaved FeatureTable[Frequency] to: data/table_abund.qza\u001b[0m\n",
      "\u001b[0m"
     ]
    }
   ],
   "source": [
    "#Filter feature table to only retain features that are present at some minimal frequency (25) and in at least 4 samples.\n",
    "! qiime feature-table filter-features \\\n",
    "    --i-table $data_dir/feature-table_filtered.qza \\\n",
    "    --p-min-frequency 25 \\\n",
    "    --p-min-samples 4 \\\n",
    "    --o-filtered-table $data_dir/table_abund.qza"
   ]
  },
  {
   "cell_type": "markdown",
   "id": "f944a1a4-d9a0-426c-8793-a639ccc7497c",
   "metadata": {},
   "source": [
    "#### 2.1 Weaning True vs. False\n",
    "\n",
    "Differencial abundances of **species** in samples weaning = True vs. False"
   ]
  },
  {
   "cell_type": "code",
   "execution_count": 3,
   "id": "6bfd4cd3-aac3-4221-a51a-bde414c5454f",
   "metadata": {},
   "outputs": [
    {
     "name": "stdout",
     "output_type": "stream",
     "text": [
      "\u001b[32mSaved FeatureTable[Frequency] to: data/table_abund_l7.qza\u001b[0m\n",
      "\u001b[0m"
     ]
    }
   ],
   "source": [
    "! qiime taxa collapse \\\n",
    "    --i-table $data_dir/table_abund.qza \\\n",
    "    --i-taxonomy $data_dir/taxonomy_classification.qza \\\n",
    "    --p-level 7 \\\n",
    "    --o-collapsed-table $data_dir/table_abund_l7.qza"
   ]
  },
  {
   "cell_type": "code",
   "execution_count": 4,
   "id": "7fce42e0-a2d9-4dbe-8708-6fa98d71fc51",
   "metadata": {},
   "outputs": [
    {
     "name": "stdout",
     "output_type": "stream",
     "text": [
      "\u001b[32mSaved FeatureTable[Frequency] to: data/table_l7_weaning.qza\u001b[0m\n",
      "\u001b[0m"
     ]
    }
   ],
   "source": [
    "! qiime feature-table filter-samples \\\n",
    "    --i-table $data_dir/table_abund_l7.qza \\\n",
    "    --m-metadata-file $data_dir/metadata.tsv \\\n",
    "    --p-where \"[diet_weaning]='True' or [diet_weaning]='False'\" \\\n",
    "    --o-filtered-table $data_dir/table_l7_weaning.qza"
   ]
  },
  {
   "cell_type": "code",
   "execution_count": 5,
   "id": "93218e08-dfc8-4e6b-8b56-9f81c179d0b8",
   "metadata": {},
   "outputs": [
    {
     "name": "stdout",
     "output_type": "stream",
     "text": [
      "\u001b[32mSaved FeatureTable[Composition] to: data/table_comp_l7_weaning.qza\u001b[0m\n",
      "\u001b[0m"
     ]
    }
   ],
   "source": [
    "! qiime composition add-pseudocount \\\n",
    "    --i-table $data_dir/table_l7_weaning.qza \\\n",
    "    --o-composition-table $data_dir/table_comp_l7_weaning.qza"
   ]
  },
  {
   "cell_type": "code",
   "execution_count": 6,
   "id": "f2c052d9-5605-4ab8-8bb1-c5a7587c713c",
   "metadata": {},
   "outputs": [
    {
     "name": "stdout",
     "output_type": "stream",
     "text": [
      "\u001b[32mSaved Visualization to: data/ancom_weaning_l7.qzv\u001b[0m\n",
      "\u001b[0m"
     ]
    }
   ],
   "source": [
    "! qiime composition ancom \\\n",
    "    --i-table $data_dir/table_comp_l7_weaning.qza \\\n",
    "    --m-metadata-file $data_dir/metadata.tsv \\\n",
    "    --m-metadata-column diet_weaning \\\n",
    "    --o-visualization $data_dir/ancom_weaning_l7.qzv"
   ]
  },
  {
   "cell_type": "code",
   "execution_count": 2,
   "id": "565c99c1-145b-4eae-9b4f-72ab9c7d37f2",
   "metadata": {},
   "outputs": [
    {
     "data": {
      "text/html": [
       "<div><img onload=\"(function(div, url){\n",
       "if (typeof require !== 'undefined') {\n",
       "    var baseURL = require.toUrl('').split('/').slice(0, -2).join('/');\n",
       "} else {\n",
       "    var baseURL = JSON.parse(\n",
       "        document.getElementById('jupyter-config-data').innerHTML\n",
       "    ).baseUrl.slice(0, -1);\n",
       "}\n",
       "url = baseURL + url;\n",
       "fetch(url).then(function(res) {\n",
       "    if (res.status === 404) {\n",
       "        div.innerHTML = 'Install QIIME 2 Jupyter extension with:<br />' +\n",
       "                        '<code>jupyter serverextension enable --py qiime2' +\n",
       "                        ' --sys-prefix</code><br />then restart your server.' +\n",
       "                        '<br /><br />(Interactive output not available on ' +\n",
       "                        'static notebook viewer services like nbviewer.)';\n",
       "    } else if (res.status === 409) {\n",
       "        div.innerHTML = 'Visualization no longer in scope. Re-run this cell' +\n",
       "                        ' to see the visualization.';\n",
       "    } else if (res.ok) {\n",
       "        url = res.url;\n",
       "        div.innerHTML = '<iframe src=\\'' + url + '\\' style=\\'' +\n",
       "                        'width: 100%; height: 700px; border: 0;\\'>' +\n",
       "                        '</iframe><hr />Open in a: <a href=\\'' + url + '\\'' +\n",
       "                        ' target=\\'_blank\\'>new window</a>'\n",
       "    } else {\n",
       "        div.innerHTML = 'Something has gone wrong. Check notebook server for' +\n",
       "                        ' errors.';\n",
       "    }\n",
       "});\n",
       "})(this.parentElement, '/qiime2/redirect?location=/tmp/qiime2-archive-8ipkhw69')\" src=\"data:image/gif;base64,R0lGODlhAQABAIAAAP///wAAACH5BAEAAAAALAAAAAABAAEAAAICRAEAOw==\" /></div>"
      ],
      "text/plain": [
       "<visualization: Visualization uuid: acd96e44-3d38-493a-b5de-ad3ea502179b>"
      ]
     },
     "execution_count": 2,
     "metadata": {},
     "output_type": "execute_result"
    }
   ],
   "source": [
    "Visualization.load(f'{data_dir}/ancom_weaning_l7.qzv')"
   ]
  },
  {
   "cell_type": "markdown",
   "id": "a585e017-86d3-4e3f-b465-ede1de3bbafc",
   "metadata": {},
   "source": [
    "#### 2.2 Breast milk vs. formula milk"
   ]
  },
  {
   "cell_type": "markdown",
   "id": "fd5c2f47-5f01-4597-85ae-8a9efea6e1d5",
   "metadata": {},
   "source": [
    "Differencial abundances of **species** in samples diet_milk = bd vs. fd"
   ]
  },
  {
   "cell_type": "code",
   "execution_count": 7,
   "id": "8de6821c-dda1-4463-9715-d3dbefa43f9d",
   "metadata": {},
   "outputs": [
    {
     "name": "stdout",
     "output_type": "stream",
     "text": [
      "\u001b[32mSaved FeatureTable[Frequency] to: data/table_l7_bd_fd.qza\u001b[0m\n",
      "\u001b[0m"
     ]
    }
   ],
   "source": [
    "! qiime feature-table filter-samples \\\n",
    "    --i-table $data_dir/table_abund_l7.qza \\\n",
    "    --m-metadata-file $data_dir/metadata.tsv \\\n",
    "    --p-where \"[diet_milk]='bd' or [diet_milk]='fd'\" \\\n",
    "    --o-filtered-table $data_dir/table_l7_bd_fd.qza"
   ]
  },
  {
   "cell_type": "code",
   "execution_count": 8,
   "id": "9c7e11cd-653b-4fbc-b030-d854ed355a92",
   "metadata": {},
   "outputs": [
    {
     "name": "stdout",
     "output_type": "stream",
     "text": [
      "\u001b[32mSaved FeatureTable[Composition] to: data/table_comp_l7_bd_fd.qza\u001b[0m\n",
      "\u001b[0m"
     ]
    }
   ],
   "source": [
    "! qiime composition add-pseudocount \\\n",
    "    --i-table $data_dir/table_l7_bd_fd.qza \\\n",
    "    --o-composition-table $data_dir/table_comp_l7_bd_fd.qza"
   ]
  },
  {
   "cell_type": "code",
   "execution_count": 9,
   "id": "fcc74917-7985-46d3-81c0-9a0dfcb8f787",
   "metadata": {},
   "outputs": [
    {
     "name": "stdout",
     "output_type": "stream",
     "text": [
      "\u001b[32mSaved Visualization to: data/ancom_l7_bd_fd.qzv\u001b[0m\n",
      "\u001b[0m"
     ]
    }
   ],
   "source": [
    "! qiime composition ancom \\\n",
    "    --i-table $data_dir/table_comp_l7_bd_fd.qza \\\n",
    "    --m-metadata-file $data_dir/metadata.tsv \\\n",
    "    --m-metadata-column diet_milk \\\n",
    "    --o-visualization $data_dir/ancom_l7_bd_fd.qzv"
   ]
  },
  {
   "cell_type": "code",
   "execution_count": 27,
   "id": "fc80e6e6-05a2-4301-9582-e02686376949",
   "metadata": {},
   "outputs": [
    {
     "data": {
      "text/html": [
       "<div><img onload=\"(function(div, url){\n",
       "if (typeof require !== 'undefined') {\n",
       "    var baseURL = require.toUrl('').split('/').slice(0, -2).join('/');\n",
       "} else {\n",
       "    var baseURL = JSON.parse(\n",
       "        document.getElementById('jupyter-config-data').innerHTML\n",
       "    ).baseUrl.slice(0, -1);\n",
       "}\n",
       "url = baseURL + url;\n",
       "fetch(url).then(function(res) {\n",
       "    if (res.status === 404) {\n",
       "        div.innerHTML = 'Install QIIME 2 Jupyter extension with:<br />' +\n",
       "                        '<code>jupyter serverextension enable --py qiime2' +\n",
       "                        ' --sys-prefix</code><br />then restart your server.' +\n",
       "                        '<br /><br />(Interactive output not available on ' +\n",
       "                        'static notebook viewer services like nbviewer.)';\n",
       "    } else if (res.status === 409) {\n",
       "        div.innerHTML = 'Visualization no longer in scope. Re-run this cell' +\n",
       "                        ' to see the visualization.';\n",
       "    } else if (res.ok) {\n",
       "        url = res.url;\n",
       "        div.innerHTML = '<iframe src=\\'' + url + '\\' style=\\'' +\n",
       "                        'width: 100%; height: 700px; border: 0;\\'>' +\n",
       "                        '</iframe><hr />Open in a: <a href=\\'' + url + '\\'' +\n",
       "                        ' target=\\'_blank\\'>new window</a>'\n",
       "    } else {\n",
       "        div.innerHTML = 'Something has gone wrong. Check notebook server for' +\n",
       "                        ' errors.';\n",
       "    }\n",
       "});\n",
       "})(this.parentElement, '/qiime2/redirect?location=/tmp/qiime2-archive-x65zfwox')\" src=\"data:image/gif;base64,R0lGODlhAQABAIAAAP///wAAACH5BAEAAAAALAAAAAABAAEAAAICRAEAOw==\" /></div>"
      ],
      "text/plain": [
       "<visualization: Visualization uuid: 5e266297-1d79-4424-9d63-164414fdb63d>"
      ]
     },
     "execution_count": 27,
     "metadata": {},
     "output_type": "execute_result"
    }
   ],
   "source": [
    "Visualization.load(f'{data_dir}/ancom_l7_bd_fd.qzv')"
   ]
  },
  {
   "cell_type": "markdown",
   "id": "a5c79425-9c61-44ff-a37d-406a565c1a6a",
   "metadata": {},
   "source": [
    "#### 2.3 Breast & formula milk vs. no milk\n",
    "\n",
    "**2.3.1** Differencial abundances of **species** in samples diet_milk = bd vs. no milk"
   ]
  },
  {
   "cell_type": "code",
   "execution_count": 10,
   "id": "3b17311a-5624-4f95-85e1-4b266ca9a504",
   "metadata": {},
   "outputs": [
    {
     "name": "stdout",
     "output_type": "stream",
     "text": [
      "\u001b[32mSaved FeatureTable[Frequency] to: data/table_l7_bd_nm.qza\u001b[0m\n",
      "\u001b[0m"
     ]
    }
   ],
   "source": [
    "! qiime feature-table filter-samples \\\n",
    "    --i-table $data_dir/table_abund_l7.qza \\\n",
    "    --m-metadata-file $data_dir/metadata.tsv \\\n",
    "    --p-where \"[diet_milk]='bd' or [diet_milk]='no milk'\" \\\n",
    "    --o-filtered-table $data_dir/table_l7_bd_nm.qza"
   ]
  },
  {
   "cell_type": "code",
   "execution_count": 11,
   "id": "7304f823-8323-4543-897f-e485ac3b1777",
   "metadata": {},
   "outputs": [
    {
     "name": "stdout",
     "output_type": "stream",
     "text": [
      "\u001b[32mSaved FeatureTable[Composition] to: data/table_comp_l7_bd_nm.qza\u001b[0m\n",
      "\u001b[0m"
     ]
    }
   ],
   "source": [
    "! qiime composition add-pseudocount \\\n",
    "    --i-table $data_dir/table_l7_bd_nm.qza \\\n",
    "    --o-composition-table $data_dir/table_comp_l7_bd_nm.qza"
   ]
  },
  {
   "cell_type": "code",
   "execution_count": 12,
   "id": "f1620a3c-a840-49cf-b9b6-cd1811cbda3a",
   "metadata": {},
   "outputs": [
    {
     "name": "stdout",
     "output_type": "stream",
     "text": [
      "\u001b[32mSaved Visualization to: data/ancom_l7_bd_nm.qzv\u001b[0m\n",
      "\u001b[0m"
     ]
    }
   ],
   "source": [
    "! qiime composition ancom \\\n",
    "    --i-table $data_dir/table_comp_l7_bd_nm.qza \\\n",
    "    --m-metadata-file $data_dir/metadata.tsv \\\n",
    "    --m-metadata-column diet_milk \\\n",
    "    --o-visualization $data_dir/ancom_l7_bd_nm.qzv"
   ]
  },
  {
   "cell_type": "code",
   "execution_count": 33,
   "id": "d751d12a-82a3-422c-8b09-9103cf596d6a",
   "metadata": {},
   "outputs": [
    {
     "data": {
      "text/html": [
       "<div><img onload=\"(function(div, url){\n",
       "if (typeof require !== 'undefined') {\n",
       "    var baseURL = require.toUrl('').split('/').slice(0, -2).join('/');\n",
       "} else {\n",
       "    var baseURL = JSON.parse(\n",
       "        document.getElementById('jupyter-config-data').innerHTML\n",
       "    ).baseUrl.slice(0, -1);\n",
       "}\n",
       "url = baseURL + url;\n",
       "fetch(url).then(function(res) {\n",
       "    if (res.status === 404) {\n",
       "        div.innerHTML = 'Install QIIME 2 Jupyter extension with:<br />' +\n",
       "                        '<code>jupyter serverextension enable --py qiime2' +\n",
       "                        ' --sys-prefix</code><br />then restart your server.' +\n",
       "                        '<br /><br />(Interactive output not available on ' +\n",
       "                        'static notebook viewer services like nbviewer.)';\n",
       "    } else if (res.status === 409) {\n",
       "        div.innerHTML = 'Visualization no longer in scope. Re-run this cell' +\n",
       "                        ' to see the visualization.';\n",
       "    } else if (res.ok) {\n",
       "        url = res.url;\n",
       "        div.innerHTML = '<iframe src=\\'' + url + '\\' style=\\'' +\n",
       "                        'width: 100%; height: 700px; border: 0;\\'>' +\n",
       "                        '</iframe><hr />Open in a: <a href=\\'' + url + '\\'' +\n",
       "                        ' target=\\'_blank\\'>new window</a>'\n",
       "    } else {\n",
       "        div.innerHTML = 'Something has gone wrong. Check notebook server for' +\n",
       "                        ' errors.';\n",
       "    }\n",
       "});\n",
       "})(this.parentElement, '/qiime2/redirect?location=/tmp/qiime2-archive-7h4bkcjc')\" src=\"data:image/gif;base64,R0lGODlhAQABAIAAAP///wAAACH5BAEAAAAALAAAAAABAAEAAAICRAEAOw==\" /></div>"
      ],
      "text/plain": [
       "<visualization: Visualization uuid: efea9f97-ad3f-420e-a630-31e4511e704b>"
      ]
     },
     "execution_count": 33,
     "metadata": {},
     "output_type": "execute_result"
    }
   ],
   "source": [
    "Visualization.load(f'{data_dir}/ancom_l7_bd_nm.qzv')"
   ]
  },
  {
   "cell_type": "markdown",
   "id": "a1e51001-806b-4979-b4b9-acc47e3c67c0",
   "metadata": {},
   "source": [
    "**2.3.1** Differencial abundances of **species** in samples diet_milk = fd vs. no milk"
   ]
  },
  {
   "cell_type": "code",
   "execution_count": 13,
   "id": "1ec84a23-ab95-4fa4-8da9-ceef4fd45d32",
   "metadata": {},
   "outputs": [
    {
     "name": "stdout",
     "output_type": "stream",
     "text": [
      "\u001b[32mSaved FeatureTable[Frequency] to: data/table_l7_fd_nm.qza\u001b[0m\n",
      "\u001b[0m"
     ]
    }
   ],
   "source": [
    "! qiime feature-table filter-samples \\\n",
    "    --i-table $data_dir/table_abund_l7.qza \\\n",
    "    --m-metadata-file $data_dir/metadata.tsv \\\n",
    "    --p-where \"[diet_milk]='fd' or [diet_milk]='no milk'\" \\\n",
    "    --o-filtered-table $data_dir/table_l7_fd_nm.qza"
   ]
  },
  {
   "cell_type": "code",
   "execution_count": 14,
   "id": "8eb1760a-3d39-45cc-9490-1bb5bf7acbe6",
   "metadata": {},
   "outputs": [
    {
     "name": "stdout",
     "output_type": "stream",
     "text": [
      "\u001b[32mSaved FeatureTable[Composition] to: data/table_comp_l7_fd_nm.qza\u001b[0m\n",
      "\u001b[0m"
     ]
    }
   ],
   "source": [
    "! qiime composition add-pseudocount \\\n",
    "    --i-table $data_dir/table_l7_fd_nm.qza \\\n",
    "    --o-composition-table $data_dir/table_comp_l7_fd_nm.qza"
   ]
  },
  {
   "cell_type": "code",
   "execution_count": 15,
   "id": "7f7f42d7-c510-478b-9c22-d06775b6523d",
   "metadata": {},
   "outputs": [
    {
     "name": "stdout",
     "output_type": "stream",
     "text": [
      "\u001b[32mSaved Visualization to: data/ancom_l7_fd_nm.qzv\u001b[0m\n",
      "\u001b[0m"
     ]
    }
   ],
   "source": [
    "! qiime composition ancom \\\n",
    "    --i-table $data_dir/table_comp_l7_fd_nm.qza \\\n",
    "    --m-metadata-file $data_dir/metadata.tsv \\\n",
    "    --m-metadata-column diet_milk \\\n",
    "    --o-visualization $data_dir/ancom_l7_fd_nm.qzv"
   ]
  },
  {
   "cell_type": "code",
   "execution_count": 38,
   "id": "b1308c73-e166-428b-bef1-bcbe33181940",
   "metadata": {},
   "outputs": [
    {
     "data": {
      "text/html": [
       "<div><img onload=\"(function(div, url){\n",
       "if (typeof require !== 'undefined') {\n",
       "    var baseURL = require.toUrl('').split('/').slice(0, -2).join('/');\n",
       "} else {\n",
       "    var baseURL = JSON.parse(\n",
       "        document.getElementById('jupyter-config-data').innerHTML\n",
       "    ).baseUrl.slice(0, -1);\n",
       "}\n",
       "url = baseURL + url;\n",
       "fetch(url).then(function(res) {\n",
       "    if (res.status === 404) {\n",
       "        div.innerHTML = 'Install QIIME 2 Jupyter extension with:<br />' +\n",
       "                        '<code>jupyter serverextension enable --py qiime2' +\n",
       "                        ' --sys-prefix</code><br />then restart your server.' +\n",
       "                        '<br /><br />(Interactive output not available on ' +\n",
       "                        'static notebook viewer services like nbviewer.)';\n",
       "    } else if (res.status === 409) {\n",
       "        div.innerHTML = 'Visualization no longer in scope. Re-run this cell' +\n",
       "                        ' to see the visualization.';\n",
       "    } else if (res.ok) {\n",
       "        url = res.url;\n",
       "        div.innerHTML = '<iframe src=\\'' + url + '\\' style=\\'' +\n",
       "                        'width: 100%; height: 700px; border: 0;\\'>' +\n",
       "                        '</iframe><hr />Open in a: <a href=\\'' + url + '\\'' +\n",
       "                        ' target=\\'_blank\\'>new window</a>'\n",
       "    } else {\n",
       "        div.innerHTML = 'Something has gone wrong. Check notebook server for' +\n",
       "                        ' errors.';\n",
       "    }\n",
       "});\n",
       "})(this.parentElement, '/qiime2/redirect?location=/tmp/qiime2-archive-nlz0l0ct')\" src=\"data:image/gif;base64,R0lGODlhAQABAIAAAP///wAAACH5BAEAAAAALAAAAAABAAEAAAICRAEAOw==\" /></div>"
      ],
      "text/plain": [
       "<visualization: Visualization uuid: e899142a-da9a-4a41-8d45-8dc85a22e0f7>"
      ]
     },
     "execution_count": 38,
     "metadata": {},
     "output_type": "execute_result"
    }
   ],
   "source": [
    "Visualization.load(f'{data_dir}/ancom_l7_fd_nm.qzv')"
   ]
  },
  {
   "cell_type": "markdown",
   "id": "e05c879c-de41-445f-adbd-b0586d52346e",
   "metadata": {},
   "source": [
    "Only the abundance of 3 species is significantly different between fd and no milk"
   ]
  },
  {
   "cell_type": "markdown",
   "id": "a7db4a5a-65e3-429e-a2ea-26f6bbbdb31e",
   "metadata": {},
   "source": [
    "#### 2.4 Age comparison\n",
    "\n",
    "Differencial abundances of **species** in samples age_months = 2.0 vs. 12"
   ]
  },
  {
   "cell_type": "code",
   "execution_count": 21,
   "id": "c7a10393-8758-4a3a-a2b5-db9bbe5333c4",
   "metadata": {},
   "outputs": [],
   "source": [
    "meta = pd.read_csv('data/metadata.tsv', sep='\\t') \n",
    "meta['age_months'].replace(2.0, 'two', inplace = True)\n",
    "meta['age_months'].replace(12.0, 'twelve', inplace = True)\n",
    "meta.to_csv(data_dir+'/metadata_1.tsv', index = False, sep='\\t')"
   ]
  },
  {
   "cell_type": "code",
   "execution_count": 16,
   "id": "6300bda0-0cdc-40fd-9dce-d6218bc6e2d5",
   "metadata": {},
   "outputs": [
    {
     "name": "stdout",
     "output_type": "stream",
     "text": [
      "\u001b[32mSaved FeatureTable[Frequency] to: data/table_l7_age.qza\u001b[0m\n",
      "\u001b[0m"
     ]
    }
   ],
   "source": [
    "! qiime feature-table filter-samples \\\n",
    "    --i-table $data_dir/table_abund_l7.qza \\\n",
    "    --m-metadata-file $data_dir/metadata_1.tsv \\\n",
    "    --p-where \"[age_months]='two' or [age_months]='twelve'\" \\\n",
    "    --o-filtered-table $data_dir/table_l7_age.qza"
   ]
  },
  {
   "cell_type": "code",
   "execution_count": 17,
   "id": "ac924f9e-afa9-4042-a4cc-aa8e69bf2e3b",
   "metadata": {},
   "outputs": [
    {
     "name": "stdout",
     "output_type": "stream",
     "text": [
      "\u001b[32mSaved FeatureTable[Composition] to: data/table_comp_l7_age.qza\u001b[0m\n",
      "\u001b[0m"
     ]
    }
   ],
   "source": [
    "! qiime composition add-pseudocount \\\n",
    "    --i-table $data_dir/table_l7_age.qza \\\n",
    "    --o-composition-table $data_dir/table_comp_l7_age.qza"
   ]
  },
  {
   "cell_type": "code",
   "execution_count": 23,
   "id": "3e55f374-31f3-4812-9156-74be00b9a401",
   "metadata": {},
   "outputs": [
    {
     "name": "stdout",
     "output_type": "stream",
     "text": [
      "Usage: \u001b[94mqiime composition ancom\u001b[0m [OPTIONS]\n",
      "\n",
      "  Apply Analysis of Composition of Microbiomes (ANCOM) to identify features\n",
      "  that are differentially abundant across groups.\n",
      "\n",
      "\u001b[1mInputs\u001b[0m:\n",
      "  \u001b[94m\u001b[4m--i-table\u001b[0m ARTIFACT \u001b[32mFeatureTable[Composition]\u001b[0m\n",
      "                       The feature table to be used for ANCOM computation.\n",
      "                                                                    \u001b[35m[required]\u001b[0m\n",
      "\u001b[1mParameters\u001b[0m:\n",
      "  \u001b[94m\u001b[4m--m-metadata-file\u001b[0m METADATA\n",
      "  \u001b[94m\u001b[4m--m-metadata-column\u001b[0m COLUMN  \u001b[32mMetadataColumn[Categorical]\u001b[0m\n",
      "                       The categorical sample metadata column to test for\n",
      "                       differential abundance across.               \u001b[35m[required]\u001b[0m\n",
      "  \u001b[94m--p-transform-function\u001b[0m TEXT \u001b[32mChoices('sqrt', 'log', 'clr')\u001b[0m\n",
      "                       The method applied to transform feature values before\n",
      "                       generating volcano plots.              \u001b[35m[default: 'clr']\u001b[0m\n",
      "  \u001b[94m--p-difference-function\u001b[0m TEXT \u001b[32mChoices('mean_difference', 'f_statistic')\u001b[0m\n",
      "                       The method applied to visualize fold difference in\n",
      "                       feature abundances across groups for volcano plots.\n",
      "                                                                    \u001b[35m[optional]\u001b[0m\n",
      "\u001b[1mOutputs\u001b[0m:\n",
      "  \u001b[94m\u001b[4m--o-visualization\u001b[0m VISUALIZATION\n",
      "                                                                    \u001b[35m[required]\u001b[0m\n",
      "\u001b[1mMiscellaneous\u001b[0m:\n",
      "  \u001b[94m--output-dir\u001b[0m PATH    Output unspecified results to a directory\n",
      "  \u001b[94m--verbose\u001b[0m / \u001b[94m--quiet\u001b[0m  Display verbose output to stdout and/or stderr during\n",
      "                       execution of this action. Or silence output if\n",
      "                       execution is successful (silence is golden).\n",
      "  \u001b[94m--example-data\u001b[0m PATH  Write example data and exit.\n",
      "  \u001b[94m--citations\u001b[0m          Show citations and exit.\n",
      "  \u001b[94m--help\u001b[0m               Show this message and exit.\n",
      "\n",
      "\u001b[33m                    There was a problem with the command:                     \u001b[0m\n",
      "\u001b[31m\u001b[1m (1/1) Invalid value for '--m-metadata-file': Metadata column is of type\n",
      "  'numeric', but expected Categorical.\u001b[0m\n",
      "\u001b[0m"
     ]
    }
   ],
   "source": [
    "! qiime composition ancom \\\n",
    "    --i-table $data_dir/table_comp_l7_age.qza \\\n",
    "    --m-metadata-file $data_dir/metadata.tsv \\\n",
    "    --m-metadata-column age_months \\\n",
    "    --o-visualization $data_dir/ancom_l7_age.qzv"
   ]
  },
  {
   "cell_type": "code",
   "execution_count": null,
   "id": "ccd54524-9382-4211-a153-2dd41f7a1de6",
   "metadata": {},
   "outputs": [],
   "source": [
    "Visualization.load(f'{data_dir}/ancom_l7_age.qzv')"
   ]
  }
 ],
 "metadata": {
  "kernelspec": {
   "display_name": "Python 3 (ipykernel)",
   "language": "python",
   "name": "python3"
  },
  "language_info": {
   "codemirror_mode": {
    "name": "ipython",
    "version": 3
   },
   "file_extension": ".py",
   "mimetype": "text/x-python",
   "name": "python",
   "nbconvert_exporter": "python",
   "pygments_lexer": "ipython3",
   "version": "3.8.13"
  }
 },
 "nbformat": 4,
 "nbformat_minor": 5
}
