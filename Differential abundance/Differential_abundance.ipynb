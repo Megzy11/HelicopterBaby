{
 "cells": [
  {
   "cell_type": "markdown",
   "id": "37254d39-fde6-4517-b654-f3cb59ca00c0",
   "metadata": {},
   "source": [
    "### 0. Setup"
   ]
  },
  {
   "cell_type": "code",
   "execution_count": 19,
   "id": "b97a0891-a53e-45c0-ae57-e855f82ff3de",
   "metadata": {},
   "outputs": [],
   "source": [
    "import os\n",
    "import matplotlib.pyplot as plt\n",
    "import pandas as pd\n",
    "import qiime2 as q2\n",
    "from qiime2 import Visualization\n",
    "import seaborn as sns\n",
    "from scipy.stats import shapiro, kruskal, f_oneway\n",
    "\n",
    "\n",
    "data_dir = 'data'\n",
    "\n",
    "if not os.path.isdir(data_dir):\n",
    "    os.makedirs(data_dir)\n",
    "    \n",
    "%matplotlib inline"
   ]
  },
  {
   "cell_type": "code",
   "execution_count": 2,
   "id": "c25d5b28-51d6-4507-a1c3-72cceef71242",
   "metadata": {},
   "outputs": [
    {
     "name": "stdout",
     "output_type": "stream",
     "text": [
      "2022-11-29 13:11:52 URL:https://polybox.ethz.ch/index.php/s/YD03e961xKim9Ix/download [1799985/1799985] -> \"data/feature-table_filtered.qza\" [1]\n",
      "2022-11-29 13:11:53 URL:https://polybox.ethz.ch/index.php/s/RVPyoVYUBeVQFrJ/download [325995/325995] -> \"data/metadata.tsv\" [1]\n",
      "2022-11-29 13:11:53 URL:https://polybox.ethz.ch/index.php/s/xI7QZ3djVFA9xPj/download [397963/397963] -> \"data/taxonomy_classification.qza\" [1]\n"
     ]
    }
   ],
   "source": [
    "#import filtered feature table from phylogeny\n",
    "! wget -nv -O $data_dir/feature-table_filtered.qza 'https://polybox.ethz.ch/index.php/s/YD03e961xKim9Ix/download'\n",
    "! wget -nv -O $data_dir/metadata.tsv 'https://polybox.ethz.ch/index.php/s/RVPyoVYUBeVQFrJ/download'\n",
    "! wget -nv -O $data_dir/taxonomy_classification.qza 'https://polybox.ethz.ch/index.php/s/xI7QZ3djVFA9xPj/download'"
   ]
  },
  {
   "cell_type": "code",
   "execution_count": 3,
   "id": "bd3bf05c-a31d-4e9a-8ce2-c68addbedcc1",
   "metadata": {},
   "outputs": [
    {
     "data": {
      "text/html": [
       "<div>\n",
       "<style scoped>\n",
       "    .dataframe tbody tr th:only-of-type {\n",
       "        vertical-align: middle;\n",
       "    }\n",
       "\n",
       "    .dataframe tbody tr th {\n",
       "        vertical-align: top;\n",
       "    }\n",
       "\n",
       "    .dataframe thead th {\n",
       "        text-align: right;\n",
       "    }\n",
       "</style>\n",
       "<table border=\"1\" class=\"dataframe\">\n",
       "  <thead>\n",
       "    <tr style=\"text-align: right;\">\n",
       "      <th></th>\n",
       "      <th>042c16e5b0f6444ef0466ba21a59fbd9</th>\n",
       "      <th>872a14c755bae7615bbfd082b4de20f9</th>\n",
       "      <th>35ffcc3b809d667286737d79670b8de5</th>\n",
       "      <th>118fbd65b0c5bdc8c2f12ef7099058aa</th>\n",
       "      <th>c6c3ab4e828fb40d6e05967b7aac9338</th>\n",
       "      <th>c180a36036d60eb85ccb62737d8e2ba0</th>\n",
       "      <th>c24e0e391aa836b5eae25567c7eb89ee</th>\n",
       "      <th>46953abeca4fce8a17c5dea8732f1611</th>\n",
       "      <th>8e175abe6a746b8f33bae9cd7c8192bb</th>\n",
       "      <th>315ca0a729f126b941ba111a16d4d97a</th>\n",
       "      <th>...</th>\n",
       "      <th>36f1f089e32373134ee77626ada1fbf0</th>\n",
       "      <th>78f2730a1c1c42f71e58763c6776ac77</th>\n",
       "      <th>ae290f0b0a5586b0cb783c2dfec83fa2</th>\n",
       "      <th>0f1803505db2f19f4b3067d768adf73b</th>\n",
       "      <th>b6645d333c70257fd3fe3dd42943189c</th>\n",
       "      <th>d01af41f6dac277a3feb79a1aa713c4b</th>\n",
       "      <th>9e27b12da68a87e509022323424d7b1b</th>\n",
       "      <th>c845eda99662b5a88a8c8e979ec07dd0</th>\n",
       "      <th>16abb37658f0d89cf9462696b61b312c</th>\n",
       "      <th>5f952448dbca288581e4b199a7db9178</th>\n",
       "    </tr>\n",
       "  </thead>\n",
       "  <tbody>\n",
       "    <tr>\n",
       "      <th>ERR1309715</th>\n",
       "      <td>223.0</td>\n",
       "      <td>1537.0</td>\n",
       "      <td>141.0</td>\n",
       "      <td>320.0</td>\n",
       "      <td>935.0</td>\n",
       "      <td>3534.0</td>\n",
       "      <td>178.0</td>\n",
       "      <td>0.0</td>\n",
       "      <td>1852.0</td>\n",
       "      <td>0.0</td>\n",
       "      <td>...</td>\n",
       "      <td>0.0</td>\n",
       "      <td>0.0</td>\n",
       "      <td>0.0</td>\n",
       "      <td>0.0</td>\n",
       "      <td>0.0</td>\n",
       "      <td>0.0</td>\n",
       "      <td>0.0</td>\n",
       "      <td>0.0</td>\n",
       "      <td>0.0</td>\n",
       "      <td>0.0</td>\n",
       "    </tr>\n",
       "    <tr>\n",
       "      <th>ERR1309716</th>\n",
       "      <td>19.0</td>\n",
       "      <td>3346.0</td>\n",
       "      <td>12.0</td>\n",
       "      <td>2256.0</td>\n",
       "      <td>2288.0</td>\n",
       "      <td>974.0</td>\n",
       "      <td>1815.0</td>\n",
       "      <td>0.0</td>\n",
       "      <td>599.0</td>\n",
       "      <td>0.0</td>\n",
       "      <td>...</td>\n",
       "      <td>0.0</td>\n",
       "      <td>0.0</td>\n",
       "      <td>0.0</td>\n",
       "      <td>0.0</td>\n",
       "      <td>0.0</td>\n",
       "      <td>0.0</td>\n",
       "      <td>0.0</td>\n",
       "      <td>0.0</td>\n",
       "      <td>0.0</td>\n",
       "      <td>0.0</td>\n",
       "    </tr>\n",
       "    <tr>\n",
       "      <th>ERR1309717</th>\n",
       "      <td>246.0</td>\n",
       "      <td>3247.0</td>\n",
       "      <td>157.0</td>\n",
       "      <td>1203.0</td>\n",
       "      <td>2181.0</td>\n",
       "      <td>1202.0</td>\n",
       "      <td>830.0</td>\n",
       "      <td>0.0</td>\n",
       "      <td>636.0</td>\n",
       "      <td>0.0</td>\n",
       "      <td>...</td>\n",
       "      <td>0.0</td>\n",
       "      <td>0.0</td>\n",
       "      <td>0.0</td>\n",
       "      <td>0.0</td>\n",
       "      <td>0.0</td>\n",
       "      <td>0.0</td>\n",
       "      <td>0.0</td>\n",
       "      <td>0.0</td>\n",
       "      <td>0.0</td>\n",
       "      <td>0.0</td>\n",
       "    </tr>\n",
       "    <tr>\n",
       "      <th>ERR1309718</th>\n",
       "      <td>203.0</td>\n",
       "      <td>536.0</td>\n",
       "      <td>114.0</td>\n",
       "      <td>1306.0</td>\n",
       "      <td>310.0</td>\n",
       "      <td>2558.0</td>\n",
       "      <td>780.0</td>\n",
       "      <td>0.0</td>\n",
       "      <td>1245.0</td>\n",
       "      <td>0.0</td>\n",
       "      <td>...</td>\n",
       "      <td>0.0</td>\n",
       "      <td>0.0</td>\n",
       "      <td>0.0</td>\n",
       "      <td>0.0</td>\n",
       "      <td>0.0</td>\n",
       "      <td>0.0</td>\n",
       "      <td>0.0</td>\n",
       "      <td>0.0</td>\n",
       "      <td>0.0</td>\n",
       "      <td>0.0</td>\n",
       "    </tr>\n",
       "    <tr>\n",
       "      <th>ERR1309719</th>\n",
       "      <td>301.0</td>\n",
       "      <td>1527.0</td>\n",
       "      <td>223.0</td>\n",
       "      <td>202.0</td>\n",
       "      <td>923.0</td>\n",
       "      <td>2819.0</td>\n",
       "      <td>148.0</td>\n",
       "      <td>0.0</td>\n",
       "      <td>1511.0</td>\n",
       "      <td>0.0</td>\n",
       "      <td>...</td>\n",
       "      <td>0.0</td>\n",
       "      <td>0.0</td>\n",
       "      <td>0.0</td>\n",
       "      <td>0.0</td>\n",
       "      <td>0.0</td>\n",
       "      <td>0.0</td>\n",
       "      <td>0.0</td>\n",
       "      <td>0.0</td>\n",
       "      <td>0.0</td>\n",
       "      <td>0.0</td>\n",
       "    </tr>\n",
       "  </tbody>\n",
       "</table>\n",
       "<p>5 rows × 5078 columns</p>\n",
       "</div>"
      ],
      "text/plain": [
       "            042c16e5b0f6444ef0466ba21a59fbd9  \\\n",
       "ERR1309715                             223.0   \n",
       "ERR1309716                              19.0   \n",
       "ERR1309717                             246.0   \n",
       "ERR1309718                             203.0   \n",
       "ERR1309719                             301.0   \n",
       "\n",
       "            872a14c755bae7615bbfd082b4de20f9  \\\n",
       "ERR1309715                            1537.0   \n",
       "ERR1309716                            3346.0   \n",
       "ERR1309717                            3247.0   \n",
       "ERR1309718                             536.0   \n",
       "ERR1309719                            1527.0   \n",
       "\n",
       "            35ffcc3b809d667286737d79670b8de5  \\\n",
       "ERR1309715                             141.0   \n",
       "ERR1309716                              12.0   \n",
       "ERR1309717                             157.0   \n",
       "ERR1309718                             114.0   \n",
       "ERR1309719                             223.0   \n",
       "\n",
       "            118fbd65b0c5bdc8c2f12ef7099058aa  \\\n",
       "ERR1309715                             320.0   \n",
       "ERR1309716                            2256.0   \n",
       "ERR1309717                            1203.0   \n",
       "ERR1309718                            1306.0   \n",
       "ERR1309719                             202.0   \n",
       "\n",
       "            c6c3ab4e828fb40d6e05967b7aac9338  \\\n",
       "ERR1309715                             935.0   \n",
       "ERR1309716                            2288.0   \n",
       "ERR1309717                            2181.0   \n",
       "ERR1309718                             310.0   \n",
       "ERR1309719                             923.0   \n",
       "\n",
       "            c180a36036d60eb85ccb62737d8e2ba0  \\\n",
       "ERR1309715                            3534.0   \n",
       "ERR1309716                             974.0   \n",
       "ERR1309717                            1202.0   \n",
       "ERR1309718                            2558.0   \n",
       "ERR1309719                            2819.0   \n",
       "\n",
       "            c24e0e391aa836b5eae25567c7eb89ee  \\\n",
       "ERR1309715                             178.0   \n",
       "ERR1309716                            1815.0   \n",
       "ERR1309717                             830.0   \n",
       "ERR1309718                             780.0   \n",
       "ERR1309719                             148.0   \n",
       "\n",
       "            46953abeca4fce8a17c5dea8732f1611  \\\n",
       "ERR1309715                               0.0   \n",
       "ERR1309716                               0.0   \n",
       "ERR1309717                               0.0   \n",
       "ERR1309718                               0.0   \n",
       "ERR1309719                               0.0   \n",
       "\n",
       "            8e175abe6a746b8f33bae9cd7c8192bb  \\\n",
       "ERR1309715                            1852.0   \n",
       "ERR1309716                             599.0   \n",
       "ERR1309717                             636.0   \n",
       "ERR1309718                            1245.0   \n",
       "ERR1309719                            1511.0   \n",
       "\n",
       "            315ca0a729f126b941ba111a16d4d97a  ...  \\\n",
       "ERR1309715                               0.0  ...   \n",
       "ERR1309716                               0.0  ...   \n",
       "ERR1309717                               0.0  ...   \n",
       "ERR1309718                               0.0  ...   \n",
       "ERR1309719                               0.0  ...   \n",
       "\n",
       "            36f1f089e32373134ee77626ada1fbf0  \\\n",
       "ERR1309715                               0.0   \n",
       "ERR1309716                               0.0   \n",
       "ERR1309717                               0.0   \n",
       "ERR1309718                               0.0   \n",
       "ERR1309719                               0.0   \n",
       "\n",
       "            78f2730a1c1c42f71e58763c6776ac77  \\\n",
       "ERR1309715                               0.0   \n",
       "ERR1309716                               0.0   \n",
       "ERR1309717                               0.0   \n",
       "ERR1309718                               0.0   \n",
       "ERR1309719                               0.0   \n",
       "\n",
       "            ae290f0b0a5586b0cb783c2dfec83fa2  \\\n",
       "ERR1309715                               0.0   \n",
       "ERR1309716                               0.0   \n",
       "ERR1309717                               0.0   \n",
       "ERR1309718                               0.0   \n",
       "ERR1309719                               0.0   \n",
       "\n",
       "            0f1803505db2f19f4b3067d768adf73b  \\\n",
       "ERR1309715                               0.0   \n",
       "ERR1309716                               0.0   \n",
       "ERR1309717                               0.0   \n",
       "ERR1309718                               0.0   \n",
       "ERR1309719                               0.0   \n",
       "\n",
       "            b6645d333c70257fd3fe3dd42943189c  \\\n",
       "ERR1309715                               0.0   \n",
       "ERR1309716                               0.0   \n",
       "ERR1309717                               0.0   \n",
       "ERR1309718                               0.0   \n",
       "ERR1309719                               0.0   \n",
       "\n",
       "            d01af41f6dac277a3feb79a1aa713c4b  \\\n",
       "ERR1309715                               0.0   \n",
       "ERR1309716                               0.0   \n",
       "ERR1309717                               0.0   \n",
       "ERR1309718                               0.0   \n",
       "ERR1309719                               0.0   \n",
       "\n",
       "            9e27b12da68a87e509022323424d7b1b  \\\n",
       "ERR1309715                               0.0   \n",
       "ERR1309716                               0.0   \n",
       "ERR1309717                               0.0   \n",
       "ERR1309718                               0.0   \n",
       "ERR1309719                               0.0   \n",
       "\n",
       "            c845eda99662b5a88a8c8e979ec07dd0  \\\n",
       "ERR1309715                               0.0   \n",
       "ERR1309716                               0.0   \n",
       "ERR1309717                               0.0   \n",
       "ERR1309718                               0.0   \n",
       "ERR1309719                               0.0   \n",
       "\n",
       "            16abb37658f0d89cf9462696b61b312c  5f952448dbca288581e4b199a7db9178  \n",
       "ERR1309715                               0.0                               0.0  \n",
       "ERR1309716                               0.0                               0.0  \n",
       "ERR1309717                               0.0                               0.0  \n",
       "ERR1309718                               0.0                               0.0  \n",
       "ERR1309719                               0.0                               0.0  \n",
       "\n",
       "[5 rows x 5078 columns]"
      ]
     },
     "execution_count": 3,
     "metadata": {},
     "output_type": "execute_result"
    }
   ],
   "source": [
    "#import feature table as pandas DF\n",
    "data = q2.Artifact.load(f'{data_dir}/feature-table_filtered.qza').view(pd.DataFrame)\n",
    "data.head()"
   ]
  },
  {
   "cell_type": "markdown",
   "id": "1a15342f-82e9-4459-b2ac-2df777edbcc9",
   "metadata": {},
   "source": [
    "### 1. Seaborn violin plot to check the distribution"
   ]
  },
  {
   "cell_type": "markdown",
   "id": "48309458-b254-4a50-a73a-c21e2f21509e",
   "metadata": {},
   "source": [
    "Check the distribution of 20 samples, randomly picked from the original dataframe as an example."
   ]
  },
  {
   "cell_type": "code",
   "execution_count": 7,
   "id": "0c54f205-c679-43ba-b9bb-a348f350d1aa",
   "metadata": {},
   "outputs": [],
   "source": [
    "n = 20\n",
    "\n",
    "# draw n ASVs out of the original DataFrame\n",
    "data_samp = data.sample(n=n, axis=1, random_state=234)\n",
    "\n",
    "# create a new DataFrame with three columns (sample, ASV, abundance)\n",
    "col_names = {'level_0': 'sample', 'level_1': 'asv', 0: 'count'}\n",
    "data_plot = data_samp.stack().reset_index().rename(columns=col_names)\n",
    "\n",
    "# make sure the shape is correct (no. of rows should be equal to the size of our random \n",
    "# sample multiplied by number of samples)\n",
    "assert data_plot.shape[0] == n * data_samp.shape[0], 'The new DataFrame has an incorrect no. of rows.'"
   ]
  },
  {
   "cell_type": "code",
   "execution_count": 9,
   "id": "8dbbe49f-77d5-4f06-8bec-6fc48916aa7c",
   "metadata": {},
   "outputs": [
    {
     "data": {
      "image/png": "[encoded data removed]",
      "text/plain": [
       "<Figure size 1080x540 with 1 Axes>"
      ]
     },
     "metadata": {},
     "output_type": "display_data"
    }
   ],
   "source": [
    "with sns.axes_style('white'), sns.color_palette('Set1'):\n",
    "    fig, ax = plt.subplots()\n",
    "    fig.set_size_inches(15, 7.5)\n",
    "    \n",
    "    sns.violinplot(data=data_plot, x='asv', y='count', ax=ax)\n",
    "    sns.despine(left=True)\n",
    "    \n",
    "    # adjust tick labels and axes titles\n",
    "    ax.tick_params(axis='x', rotation=90, labelsize=11)\n",
    "    ax.tick_params(axis='y', labelsize=11)\n",
    "    ax.set_xlabel('ASV', fontsize=14)\n",
    "    ax.set_ylabel('Count', fontsize=14)"
   ]
  },
  {
   "cell_type": "markdown",
   "id": "c40375d1-4bc6-4d2d-a37e-69035aa4ce9e",
   "metadata": {},
   "source": [
    "It is clearly visible that samples are not normally distributed. Use ANCOM to check differential abundance. "
   ]
  },
  {
   "cell_type": "markdown",
   "id": "261e8061-753b-4840-9054-64d0a9320041",
   "metadata": {},
   "source": [
    "### 2. ANCOM "
   ]
  },
  {
   "cell_type": "markdown",
   "id": "03fb84f4-a049-47b6-b82b-f13f91da87eb",
   "metadata": {},
   "source": [
    "What we want to look at:  \n",
    "- Weaning: True vs. False \n",
    "- Weaning: True vs. missing values\n",
    "- Diet: breast feeding vs. formula diet \n",
    "- Diet: breast feeding & formula diet vs. no milk \n",
    "- Age: Months 2 vs Months 12\n",
    "- Age: Months 15 vs months 30 \n",
    "- Age: Months 30 vs. months 35\n",
    "\n"
   ]
  },
  {
   "cell_type": "markdown",
   "id": "94a6b250-9c6a-4d28-80e7-a14d297d1830",
   "metadata": {},
   "source": [
    "**Filter feature table**"
   ]
  },
  {
   "cell_type": "code",
   "execution_count": 14,
   "id": "0e25886b-3df6-46d5-a817-5ccfbaea15d5",
   "metadata": {},
   "outputs": [
    {
     "name": "stdout",
     "output_type": "stream",
     "text": [
      "\u001b[32mSaved FeatureTable[Frequency] to: data/filtered-table-ex.qza\u001b[0m\n",
      "\u001b[0m"
     ]
    }
   ],
   "source": [
    "#Filter feature table to only retain features that contain information on the genus level.\n",
    "! qiime taxa filter-table \\\n",
    "    --i-table $data_dir/feature-table_filtered.qza \\\n",
    "    --i-taxonomy $data_dir/taxonomy_classification.qza \\\n",
    "    --p-mode contains \\\n",
    "    --p-include g__ \\\n",
    "    --p-exclude 'g__;,Chloroplast,Mitochondria' \\\n",
    "    --o-filtered-table $data_dir/filtered-table-ex.qza"
   ]
  },
  {
   "cell_type": "markdown",
   "id": "f944a1a4-d9a0-426c-8793-a639ccc7497c",
   "metadata": {},
   "source": [
    "#### 2.1 Weaning True vs. False\n",
    "##### 2.1.1 True vs. False\n",
    "\n",
    "Differencial abundances of **species** in samples weaning = True vs. False"
   ]
  },
  {
   "cell_type": "code",
   "execution_count": 15,
   "id": "6bfd4cd3-aac3-4221-a51a-bde414c5454f",
   "metadata": {},
   "outputs": [
    {
     "name": "stdout",
     "output_type": "stream",
     "text": [
      "\u001b[32mSaved FeatureTable[Frequency] to: data/table_g_l6.qza\u001b[0m\n",
      "\u001b[0m"
     ]
    }
   ],
   "source": [
    "! qiime taxa collapse \\\n",
    "    --i-table $data_dir/filtered-table-ex.qza \\\n",
    "    --i-taxonomy $data_dir/taxonomy_classification.qza \\\n",
    "    --p-level 6 \\\n",
    "    --o-collapsed-table $data_dir/table_g_l6.qza"
   ]
  },
  {
   "cell_type": "code",
   "execution_count": 16,
   "id": "7fce42e0-a2d9-4dbe-8708-6fa98d71fc51",
   "metadata": {},
   "outputs": [
    {
     "name": "stdout",
     "output_type": "stream",
     "text": [
      "\u001b[32mSaved FeatureTable[Frequency] to: data/table_l6_weaning.qza\u001b[0m\n",
      "\u001b[0m"
     ]
    }
   ],
   "source": [
    "! qiime feature-table filter-samples \\\n",
    "    --i-table $data_dir/table_g_l6.qza \\\n",
    "    --m-metadata-file $data_dir/metadata.tsv \\\n",
    "    --p-where \"[diet_weaning]='True' or [diet_weaning]='False'\" \\\n",
    "    --o-filtered-table $data_dir/table_l6_weaning.qza"
   ]
  },
  {
   "cell_type": "code",
   "execution_count": 17,
   "id": "93218e08-dfc8-4e6b-8b56-9f81c179d0b8",
   "metadata": {},
   "outputs": [
    {
     "name": "stdout",
     "output_type": "stream",
     "text": [
      "\u001b[32mSaved FeatureTable[Composition] to: data/table_comp_l6_weaning.qza\u001b[0m\n",
      "\u001b[0m"
     ]
    }
   ],
   "source": [
    "! qiime composition add-pseudocount \\\n",
    "    --i-table $data_dir/table_l6_weaning.qza \\\n",
    "    --o-composition-table $data_dir/table_comp_l6_weaning.qza"
   ]
  },
  {
   "cell_type": "code",
   "execution_count": 18,
   "id": "f2c052d9-5605-4ab8-8bb1-c5a7587c713c",
   "metadata": {},
   "outputs": [
    {
     "name": "stdout",
     "output_type": "stream",
     "text": [
      "\u001b[32mSaved Visualization to: data/ancom_weaning_l6.qzv\u001b[0m\n",
      "\u001b[0m"
     ]
    }
   ],
   "source": [
    "! qiime composition ancom \\\n",
    "    --i-table $data_dir/table_comp_l6_weaning.qza \\\n",
    "    --m-metadata-file $data_dir/metadata.tsv \\\n",
    "    --m-metadata-column diet_weaning \\\n",
    "    --o-visualization $data_dir/ancom_weaning_l6.qzv"
   ]
  },
  {
   "cell_type": "code",
   "execution_count": null,
   "id": "565c99c1-145b-4eae-9b4f-72ab9c7d37f2",
   "metadata": {},
   "outputs": [],
   "source": [
    "Visualization.load(f'{data_dir}/ancom_weaning_l6.qzv')"
   ]
  },
  {
   "cell_type": "markdown",
   "id": "8dc5c5f3-89a8-4ec4-9b91-df2975eaa7d5",
   "metadata": {},
   "source": [
    "##### 2.1.2 Weaning True vs. Missing value\n",
    "\n",
    "Differencial abundances of **species** in samples weaning = True vs. missing value"
   ]
  },
  {
   "cell_type": "code",
   "execution_count": 9,
   "id": "0617b4a4-abd6-44dc-8810-8bf088a31bd8",
   "metadata": {},
   "outputs": [],
   "source": [
    "#Filtering metadata table for weaning = True & weaning = missing data -> replace empty space with string to be able to run an ANCOM test \n",
    "meta = pd.read_csv('data/metadata.tsv', sep='\\t') \n",
    "meta_wean = meta\n",
    "meta_wean['diet_weaning'] = meta['diet_weaning'].fillna('missing value')  \n",
    "meta_wean.to_csv(data_dir+'/metadata_wean.tsv', index = False, sep='\\t')"
   ]
  },
  {
   "cell_type": "code",
   "execution_count": 20,
   "id": "5db045f2-e5a6-4e7e-af32-70839c9c07ff",
   "metadata": {},
   "outputs": [
    {
     "name": "stdout",
     "output_type": "stream",
     "text": [
      "\u001b[32mSaved FeatureTable[Frequency] to: data/table_l6_wean.qza\u001b[0m\n",
      "\u001b[0m"
     ]
    }
   ],
   "source": [
    "! qiime feature-table filter-samples \\\n",
    "    --i-table $data_dir/table_g_l6.qza \\\n",
    "    --m-metadata-file $data_dir/metadata_wean.tsv \\\n",
    "    --p-where \"[diet_weaning]='True' or [diet_weaning]='missing value'\" \\\n",
    "    --o-filtered-table $data_dir/table_l6_wean.qza"
   ]
  },
  {
   "cell_type": "code",
   "execution_count": 21,
   "id": "8ff34fc0-cee8-4088-8597-242971e0ecae",
   "metadata": {},
   "outputs": [
    {
     "name": "stdout",
     "output_type": "stream",
     "text": [
      "\u001b[32mSaved FeatureTable[Composition] to: data/table_comp_l6_wean.qza\u001b[0m\n",
      "\u001b[0m"
     ]
    }
   ],
   "source": [
    "! qiime composition add-pseudocount \\\n",
    "    --i-table $data_dir/table_l6_wean.qza \\\n",
    "    --o-composition-table $data_dir/table_comp_l6_wean.qza"
   ]
  },
  {
   "cell_type": "code",
   "execution_count": 22,
   "id": "bd0026c6-15f7-4ee9-9726-713a10b51e5f",
   "metadata": {},
   "outputs": [
    {
     "name": "stdout",
     "output_type": "stream",
     "text": [
      "\u001b[32mSaved Visualization to: data/ancom_wean_l6.qzv\u001b[0m\n",
      "\u001b[0m"
     ]
    }
   ],
   "source": [
    "! qiime composition ancom \\\n",
    "    --i-table $data_dir/table_comp_l6_wean.qza \\\n",
    "    --m-metadata-file $data_dir/metadata_wean.tsv \\\n",
    "    --m-metadata-column diet_weaning \\\n",
    "    --o-visualization $data_dir/ancom_wean_l6.qzv"
   ]
  },
  {
   "cell_type": "code",
   "execution_count": null,
   "id": "138c50e0-7d0e-4de1-ac94-d43a95f2d4f7",
   "metadata": {},
   "outputs": [],
   "source": [
    "Visualization.load(f'{data_dir}/ancom_wean_l6.qzv')"
   ]
  },
  {
   "cell_type": "markdown",
   "id": "65137ad9-d1cf-4af1-8413-76a01da4a4a2",
   "metadata": {},
   "source": [
    "##### 2.1.3 Weaning False vs. missing data\n",
    "\n",
    "Differencial abundances of **species** in samples weaning = False vs. missing value"
   ]
  },
  {
   "cell_type": "code",
   "execution_count": 24,
   "id": "ebbff1c0-5113-487f-98f4-4a1a4a4a2f4d",
   "metadata": {},
   "outputs": [
    {
     "name": "stdout",
     "output_type": "stream",
     "text": [
      "\u001b[32mSaved FeatureTable[Frequency] to: data/table_l6_weanF.qza\u001b[0m\n",
      "\u001b[0m"
     ]
    }
   ],
   "source": [
    "! qiime feature-table filter-samples \\\n",
    "    --i-table $data_dir/table_g_l6.qza \\\n",
    "    --m-metadata-file $data_dir/metadata_wean.tsv \\\n",
    "    --p-where \"[diet_weaning]='False' or [diet_weaning]='missing value'\" \\\n",
    "    --o-filtered-table $data_dir/table_l6_weanF.qza"
   ]
  },
  {
   "cell_type": "code",
   "execution_count": 25,
   "id": "cdc2b8e5-b539-47dd-a893-e0bdf58d2a6e",
   "metadata": {},
   "outputs": [
    {
     "name": "stdout",
     "output_type": "stream",
     "text": [
      "\u001b[32mSaved FeatureTable[Composition] to: data/table_comp_l6_weanF.qza\u001b[0m\n",
      "\u001b[0m"
     ]
    }
   ],
   "source": [
    "! qiime composition add-pseudocount \\\n",
    "    --i-table $data_dir/table_l6_weanF.qza \\\n",
    "    --o-composition-table $data_dir/table_comp_l6_weanF.qza"
   ]
  },
  {
   "cell_type": "code",
   "execution_count": 26,
   "id": "e923fb8e-7460-46f5-af6a-c21fba78aae0",
   "metadata": {},
   "outputs": [
    {
     "name": "stdout",
     "output_type": "stream",
     "text": [
      "\u001b[32mSaved Visualization to: data/ancom_weanF_l6.qzv\u001b[0m\n",
      "\u001b[0m"
     ]
    }
   ],
   "source": [
    "! qiime composition ancom \\\n",
    "    --i-table $data_dir/table_comp_l6_weanF.qza \\\n",
    "    --m-metadata-file $data_dir/metadata_wean.tsv \\\n",
    "    --m-metadata-column diet_weaning \\\n",
    "    --o-visualization $data_dir/ancom_weanF_l6.qzv"
   ]
  },
  {
   "cell_type": "code",
   "execution_count": null,
   "id": "c810098e-ad1c-4566-9f47-825c1aee72e5",
   "metadata": {},
   "outputs": [],
   "source": [
    "Visualization.load(f'{data_dir}/ancom_weanF_l6.qzv')"
   ]
  },
  {
   "cell_type": "markdown",
   "id": "a585e017-86d3-4e3f-b465-ede1de3bbafc",
   "metadata": {},
   "source": [
    "#### 2.2 Diet \n",
    "##### 2.2.1 Breast milk vs. formula milk"
   ]
  },
  {
   "cell_type": "markdown",
   "id": "fd5c2f47-5f01-4597-85ae-8a9efea6e1d5",
   "metadata": {},
   "source": [
    "Differencial abundances of **species** in samples diet_milk = bd vs. fd"
   ]
  },
  {
   "cell_type": "code",
   "execution_count": 28,
   "id": "8de6821c-dda1-4463-9715-d3dbefa43f9d",
   "metadata": {},
   "outputs": [
    {
     "name": "stdout",
     "output_type": "stream",
     "text": [
      "\u001b[32mSaved FeatureTable[Frequency] to: data/table_l6_bd_fd.qza\u001b[0m\n",
      "\u001b[0m"
     ]
    }
   ],
   "source": [
    "! qiime feature-table filter-samples \\\n",
    "    --i-table $data_dir/table_g_l6.qza \\\n",
    "    --m-metadata-file $data_dir/metadata.tsv \\\n",
    "    --p-where \"[diet_milk]='bd' or [diet_milk]='fd'\" \\\n",
    "    --o-filtered-table $data_dir/table_l6_bd_fd.qza"
   ]
  },
  {
   "cell_type": "code",
   "execution_count": 29,
   "id": "9c7e11cd-653b-4fbc-b030-d854ed355a92",
   "metadata": {},
   "outputs": [
    {
     "name": "stdout",
     "output_type": "stream",
     "text": [
      "\u001b[32mSaved FeatureTable[Composition] to: data/table_comp_l6_bd_fd.qza\u001b[0m\n",
      "\u001b[0m"
     ]
    }
   ],
   "source": [
    "! qiime composition add-pseudocount \\\n",
    "    --i-table $data_dir/table_l6_bd_fd.qza \\\n",
    "    --o-composition-table $data_dir/table_comp_l6_bd_fd.qza"
   ]
  },
  {
   "cell_type": "code",
   "execution_count": 16,
   "id": "fcc74917-7985-46d3-81c0-9a0dfcb8f787",
   "metadata": {},
   "outputs": [
    {
     "name": "stdout",
     "output_type": "stream",
     "text": [
      "\u001b[32mSaved Visualization to: data/ancom_l6_bd_fd.qzv\u001b[0m\n",
      "\u001b[0m"
     ]
    }
   ],
   "source": [
    "! qiime composition ancom \\\n",
    "    --i-table $data_dir/table_comp_l6_bd_fd.qza \\\n",
    "    --m-metadata-file $data_dir/metadata.tsv \\\n",
    "    --m-metadata-column diet_milk \\\n",
    "    --p-transform-function log \\\n",
    "    --o-visualization $data_dir/ancom_l6_bd_fd.qzv"
   ]
  },
  {
   "cell_type": "code",
   "execution_count": 14,
   "id": "fc80e6e6-05a2-4301-9582-e02686376949",
   "metadata": {},
   "outputs": [
    {
     "data": {
      "text/html": [
       "<div><img onload=\"(function(div, url){\n",
       "if (typeof require !== 'undefined') {\n",
       "    var baseURL = require.toUrl('').split('/').slice(0, -2).join('/');\n",
       "} else {\n",
       "    var baseURL = JSON.parse(\n",
       "        document.getElementById('jupyter-config-data').innerHTML\n",
       "    ).baseUrl.slice(0, -1);\n",
       "}\n",
       "url = baseURL + url;\n",
       "fetch(url).then(function(res) {\n",
       "    if (res.status === 404) {\n",
       "        div.innerHTML = 'Install QIIME 2 Jupyter extension with:<br />' +\n",
       "                        '<code>jupyter serverextension enable --py qiime2' +\n",
       "                        ' --sys-prefix</code><br />then restart your server.' +\n",
       "                        '<br /><br />(Interactive output not available on ' +\n",
       "                        'static notebook viewer services like nbviewer.)';\n",
       "    } else if (res.status === 409) {\n",
       "        div.innerHTML = 'Visualization no longer in scope. Re-run this cell' +\n",
       "                        ' to see the visualization.';\n",
       "    } else if (res.ok) {\n",
       "        url = res.url;\n",
       "        div.innerHTML = '<iframe src=\\'' + url + '\\' style=\\'' +\n",
       "                        'width: 100%; height: 700px; border: 0;\\'>' +\n",
       "                        '</iframe><hr />Open in a: <a href=\\'' + url + '\\'' +\n",
       "                        ' target=\\'_blank\\'>new window</a>'\n",
       "    } else {\n",
       "        div.innerHTML = 'Something has gone wrong. Check notebook server for' +\n",
       "                        ' errors.';\n",
       "    }\n",
       "});\n",
       "})(this.parentElement, '/qiime2/redirect?location=/tmp/qiime2-archive-ietkab4e')\" src=\"data:image/gif;base64,R0lGODlhAQABAIAAAP///wAAACH5BAEAAAAALAAAAAABAAEAAAICRAEAOw==\" /></div>"
      ],
      "text/plain": [
       "<visualization: Visualization uuid: 138b2d2b-8841-4054-a2da-aba9672dc689>"
      ]
     },
     "execution_count": 14,
     "metadata": {},
     "output_type": "execute_result"
    }
   ],
   "source": [
    "Visualization.load(f'{data_dir}/ancom_l6_bd_fd.qzv')"
   ]
  },
  {
   "cell_type": "code",
   "execution_count": 20,
   "id": "88460739-b35d-46e8-8800-7b1560eeeaa7",
   "metadata": {},
   "outputs": [],
   "source": [
    "#Creating a folder for figures\n",
    "data_output = 'data_out'\n",
    "\n",
    "if not os.path.isdir(data_output):\n",
    "    os.makedirs(data_output)"
   ]
  },
  {
   "cell_type": "code",
   "execution_count": 21,
   "id": "eee03650-ff21-40db-af09-d5de363b7e63",
   "metadata": {},
   "outputs": [
    {
     "name": "stdout",
     "output_type": "stream",
     "text": [
      "\u001b[32mExtracted data/ancom_l6_bd_fd.qzv to directory data_out/ancom_bd_fd/138b2d2b-8841-4054-a2da-aba9672dc689\u001b[0m\n"
     ]
    }
   ],
   "source": [
    "#Extracting the ancom output\n",
    "! qiime tools extract \\\n",
    "    --input-path $data_dir/ancom_l6_bd_fd.qzv \\\n",
    "    --output-path $data_output/ancom_bd_fd"
   ]
  },
  {
   "cell_type": "code",
   "execution_count": 49,
   "id": "b89eb93b-a797-4e0c-ab45-e5b2b08aebea",
   "metadata": {},
   "outputs": [],
   "source": [
    "#ancom into dataset\n",
    "ancombdfd = pd.read_csv(f'{data_output}/ancom_bd_fd/138b2d2b-8841-4054-a2da-aba9672dc689/data/data.tsv', sep='\\t')\n",
    "ancombd_fd = pd.read_csv(f'{data_output}/ancom_bd_fd/138b2d2b-8841-4054-a2da-aba9672dc689/data/ancom.tsv', sep='\\t')\n",
    "ancombd_fd.rename(columns = {'Unnamed: 0':'id'}, inplace = True)"
   ]
  },
  {
   "cell_type": "code",
   "execution_count": 50,
   "id": "16b65608-813e-414d-b95b-9de4366bb149",
   "metadata": {},
   "outputs": [
    {
     "data": {
      "text/html": [
       "<div>\n",
       "<style scoped>\n",
       "    .dataframe tbody tr th:only-of-type {\n",
       "        vertical-align: middle;\n",
       "    }\n",
       "\n",
       "    .dataframe tbody tr th {\n",
       "        vertical-align: top;\n",
       "    }\n",
       "\n",
       "    .dataframe thead th {\n",
       "        text-align: right;\n",
       "    }\n",
       "</style>\n",
       "<table border=\"1\" class=\"dataframe\">\n",
       "  <thead>\n",
       "    <tr style=\"text-align: right;\">\n",
       "      <th></th>\n",
       "      <th>id</th>\n",
       "      <th>log</th>\n",
       "      <th>W</th>\n",
       "      <th>Reject null hypothesis</th>\n",
       "    </tr>\n",
       "  </thead>\n",
       "  <tbody>\n",
       "    <tr>\n",
       "      <th>0</th>\n",
       "      <td>k__Bacteria;p__Actinobacteria;c__Actinobacteri...</td>\n",
       "      <td>-0.803063</td>\n",
       "      <td>124</td>\n",
       "      <td>True</td>\n",
       "    </tr>\n",
       "    <tr>\n",
       "      <th>1</th>\n",
       "      <td>k__Bacteria;p__Actinobacteria;c__Actinobacteri...</td>\n",
       "      <td>0.006584</td>\n",
       "      <td>23</td>\n",
       "      <td>False</td>\n",
       "    </tr>\n",
       "    <tr>\n",
       "      <th>2</th>\n",
       "      <td>k__Bacteria;p__Actinobacteria;c__Actinobacteri...</td>\n",
       "      <td>0.003309</td>\n",
       "      <td>23</td>\n",
       "      <td>False</td>\n",
       "    </tr>\n",
       "    <tr>\n",
       "      <th>3</th>\n",
       "      <td>k__Bacteria;p__Actinobacteria;c__Actinobacteri...</td>\n",
       "      <td>-0.213722</td>\n",
       "      <td>34</td>\n",
       "      <td>False</td>\n",
       "    </tr>\n",
       "    <tr>\n",
       "      <th>4</th>\n",
       "      <td>k__Bacteria;p__Actinobacteria;c__Actinobacteri...</td>\n",
       "      <td>0.039157</td>\n",
       "      <td>21</td>\n",
       "      <td>False</td>\n",
       "    </tr>\n",
       "    <tr>\n",
       "      <th>...</th>\n",
       "      <td>...</td>\n",
       "      <td>...</td>\n",
       "      <td>...</td>\n",
       "      <td>...</td>\n",
       "    </tr>\n",
       "    <tr>\n",
       "      <th>123</th>\n",
       "      <td>k__Bacteria;p__Proteobacteria;c__Gammaproteoba...</td>\n",
       "      <td>-0.010031</td>\n",
       "      <td>21</td>\n",
       "      <td>False</td>\n",
       "    </tr>\n",
       "    <tr>\n",
       "      <th>124</th>\n",
       "      <td>k__Bacteria;p__Proteobacteria;c__Gammaproteoba...</td>\n",
       "      <td>-0.006921</td>\n",
       "      <td>21</td>\n",
       "      <td>False</td>\n",
       "    </tr>\n",
       "    <tr>\n",
       "      <th>125</th>\n",
       "      <td>k__Bacteria;p__Proteobacteria;c__Gammaproteoba...</td>\n",
       "      <td>-0.080080</td>\n",
       "      <td>41</td>\n",
       "      <td>False</td>\n",
       "    </tr>\n",
       "    <tr>\n",
       "      <th>126</th>\n",
       "      <td>k__Bacteria;p__Proteobacteria;c__Gammaproteoba...</td>\n",
       "      <td>0.004016</td>\n",
       "      <td>21</td>\n",
       "      <td>False</td>\n",
       "    </tr>\n",
       "    <tr>\n",
       "      <th>127</th>\n",
       "      <td>k__Bacteria;p__Verrucomicrobia;c__Verrucomicro...</td>\n",
       "      <td>0.220696</td>\n",
       "      <td>15</td>\n",
       "      <td>False</td>\n",
       "    </tr>\n",
       "  </tbody>\n",
       "</table>\n",
       "<p>128 rows × 4 columns</p>\n",
       "</div>"
      ],
      "text/plain": [
       "                                                    id       log    W  \\\n",
       "0    k__Bacteria;p__Actinobacteria;c__Actinobacteri... -0.803063  124   \n",
       "1    k__Bacteria;p__Actinobacteria;c__Actinobacteri...  0.006584   23   \n",
       "2    k__Bacteria;p__Actinobacteria;c__Actinobacteri...  0.003309   23   \n",
       "3    k__Bacteria;p__Actinobacteria;c__Actinobacteri... -0.213722   34   \n",
       "4    k__Bacteria;p__Actinobacteria;c__Actinobacteri...  0.039157   21   \n",
       "..                                                 ...       ...  ...   \n",
       "123  k__Bacteria;p__Proteobacteria;c__Gammaproteoba... -0.010031   21   \n",
       "124  k__Bacteria;p__Proteobacteria;c__Gammaproteoba... -0.006921   21   \n",
       "125  k__Bacteria;p__Proteobacteria;c__Gammaproteoba... -0.080080   41   \n",
       "126  k__Bacteria;p__Proteobacteria;c__Gammaproteoba...  0.004016   21   \n",
       "127  k__Bacteria;p__Verrucomicrobia;c__Verrucomicro...  0.220696   15   \n",
       "\n",
       "     Reject null hypothesis  \n",
       "0                      True  \n",
       "1                     False  \n",
       "2                     False  \n",
       "3                     False  \n",
       "4                     False  \n",
       "..                      ...  \n",
       "123                   False  \n",
       "124                   False  \n",
       "125                   False  \n",
       "126                   False  \n",
       "127                   False  \n",
       "\n",
       "[128 rows x 4 columns]"
      ]
     },
     "execution_count": 50,
     "metadata": {},
     "output_type": "execute_result"
    }
   ],
   "source": [
    "ancomDataSigbd_fd = ancombdfd.merge(ancombd_fd, how='inner')\n",
    "ancomDataSigbd_fd"
   ]
  },
  {
   "cell_type": "code",
   "execution_count": 24,
   "id": "21f31d2f-4e1c-4286-a691-e17889b9fef0",
   "metadata": {},
   "outputs": [
    {
     "data": {
      "text/html": [
       "<div>\n",
       "<style scoped>\n",
       "    .dataframe tbody tr th:only-of-type {\n",
       "        vertical-align: middle;\n",
       "    }\n",
       "\n",
       "    .dataframe tbody tr th {\n",
       "        vertical-align: top;\n",
       "    }\n",
       "\n",
       "    .dataframe thead th {\n",
       "        text-align: right;\n",
       "    }\n",
       "</style>\n",
       "<table border=\"1\" class=\"dataframe\">\n",
       "  <thead>\n",
       "    <tr style=\"text-align: right;\">\n",
       "      <th></th>\n",
       "      <th>id</th>\n",
       "      <th>log</th>\n",
       "      <th>W</th>\n",
       "      <th>Reject null hypothesis</th>\n",
       "    </tr>\n",
       "  </thead>\n",
       "  <tbody>\n",
       "    <tr>\n",
       "      <th>75</th>\n",
       "      <td>k__Bacteria;p__Firmicutes;c__Clostridia;o__Clo...</td>\n",
       "      <td>0.844226</td>\n",
       "      <td>4</td>\n",
       "      <td>False</td>\n",
       "    </tr>\n",
       "    <tr>\n",
       "      <th>57</th>\n",
       "      <td>k__Bacteria;p__Firmicutes;c__Clostridia;o__Clo...</td>\n",
       "      <td>0.605061</td>\n",
       "      <td>8</td>\n",
       "      <td>False</td>\n",
       "    </tr>\n",
       "    <tr>\n",
       "      <th>20</th>\n",
       "      <td>k__Bacteria;p__Bacteroidetes;c__Bacteroidia;o_...</td>\n",
       "      <td>1.097106</td>\n",
       "      <td>8</td>\n",
       "      <td>False</td>\n",
       "    </tr>\n",
       "    <tr>\n",
       "      <th>54</th>\n",
       "      <td>k__Bacteria;p__Firmicutes;c__Clostridia;o__Clo...</td>\n",
       "      <td>0.359080</td>\n",
       "      <td>13</td>\n",
       "      <td>False</td>\n",
       "    </tr>\n",
       "    <tr>\n",
       "      <th>12</th>\n",
       "      <td>k__Bacteria;p__Actinobacteria;c__Actinobacteri...</td>\n",
       "      <td>-0.099184</td>\n",
       "      <td>13</td>\n",
       "      <td>False</td>\n",
       "    </tr>\n",
       "    <tr>\n",
       "      <th>...</th>\n",
       "      <td>...</td>\n",
       "      <td>...</td>\n",
       "      <td>...</td>\n",
       "      <td>...</td>\n",
       "    </tr>\n",
       "    <tr>\n",
       "      <th>77</th>\n",
       "      <td>k__Bacteria;p__Firmicutes;c__Clostridia;o__Clo...</td>\n",
       "      <td>1.823635</td>\n",
       "      <td>114</td>\n",
       "      <td>True</td>\n",
       "    </tr>\n",
       "    <tr>\n",
       "      <th>0</th>\n",
       "      <td>k__Bacteria;p__Actinobacteria;c__Actinobacteri...</td>\n",
       "      <td>-0.803063</td>\n",
       "      <td>124</td>\n",
       "      <td>True</td>\n",
       "    </tr>\n",
       "    <tr>\n",
       "      <th>35</th>\n",
       "      <td>k__Bacteria;p__Firmicutes;c__Bacilli;o__Lactob...</td>\n",
       "      <td>-1.009486</td>\n",
       "      <td>126</td>\n",
       "      <td>True</td>\n",
       "    </tr>\n",
       "    <tr>\n",
       "      <th>50</th>\n",
       "      <td>k__Bacteria;p__Firmicutes;c__Clostridia;o__Clo...</td>\n",
       "      <td>2.846349</td>\n",
       "      <td>127</td>\n",
       "      <td>True</td>\n",
       "    </tr>\n",
       "    <tr>\n",
       "      <th>36</th>\n",
       "      <td>k__Bacteria;p__Firmicutes;c__Bacilli;o__Lactob...</td>\n",
       "      <td>-1.974992</td>\n",
       "      <td>127</td>\n",
       "      <td>True</td>\n",
       "    </tr>\n",
       "  </tbody>\n",
       "</table>\n",
       "<p>128 rows × 4 columns</p>\n",
       "</div>"
      ],
      "text/plain": [
       "                                                   id       log    W  \\\n",
       "75  k__Bacteria;p__Firmicutes;c__Clostridia;o__Clo...  0.844226    4   \n",
       "57  k__Bacteria;p__Firmicutes;c__Clostridia;o__Clo...  0.605061    8   \n",
       "20  k__Bacteria;p__Bacteroidetes;c__Bacteroidia;o_...  1.097106    8   \n",
       "54  k__Bacteria;p__Firmicutes;c__Clostridia;o__Clo...  0.359080   13   \n",
       "12  k__Bacteria;p__Actinobacteria;c__Actinobacteri... -0.099184   13   \n",
       "..                                                ...       ...  ...   \n",
       "77  k__Bacteria;p__Firmicutes;c__Clostridia;o__Clo...  1.823635  114   \n",
       "0   k__Bacteria;p__Actinobacteria;c__Actinobacteri... -0.803063  124   \n",
       "35  k__Bacteria;p__Firmicutes;c__Bacilli;o__Lactob... -1.009486  126   \n",
       "50  k__Bacteria;p__Firmicutes;c__Clostridia;o__Clo...  2.846349  127   \n",
       "36  k__Bacteria;p__Firmicutes;c__Bacilli;o__Lactob... -1.974992  127   \n",
       "\n",
       "    Reject null hypothesis  \n",
       "75                   False  \n",
       "57                   False  \n",
       "20                   False  \n",
       "54                   False  \n",
       "12                   False  \n",
       "..                     ...  \n",
       "77                    True  \n",
       "0                     True  \n",
       "35                    True  \n",
       "50                    True  \n",
       "36                    True  \n",
       "\n",
       "[128 rows x 4 columns]"
      ]
     },
     "execution_count": 24,
     "metadata": {},
     "output_type": "execute_result"
    }
   ],
   "source": [
    "ancomDataSigbd_fd.sort_values(by= 'W', axis = 0, ascending = True)"
   ]
  },
  {
   "cell_type": "code",
   "execution_count": 55,
   "id": "fad589ba-c5b5-4c06-aee0-259ae3aa6b5f",
   "metadata": {},
   "outputs": [
    {
     "data": {
      "image/png": "[encoded data removed]",
      "text/plain": [
       "<Figure size 360x360 with 1 Axes>"
      ]
     },
     "metadata": {},
     "output_type": "display_data"
    }
   ],
   "source": [
    "#Create a figure for the report \n",
    "sns.set(rc={'figure.figsize':(5, 5)}, style='white')\n",
    "with sns.plotting_context(\"notebook\", font_scale=1.2):\n",
    "    ax = sns.scatterplot(\n",
    "        data= ancomDataSigbd_fd[(ancomDataSigbd_fd['Reject null hypothesis'] == False)], \n",
    "        x='log', \n",
    "        y='W',\n",
    "        color='grey',\n",
    "        alpha=.3\n",
    "    )\n",
    "    ax = sns.scatterplot(\n",
    "        data=ancomDataSigbd_fd[(ancomDataSigbd_fd['Reject null hypothesis'] == True) & (ancomDataSigbd_fd['log']<1)], \n",
    "        x='log', \n",
    "        y='W',\n",
    "        color='lightskyblue',\n",
    "        alpha=.3\n",
    "    )\n",
    "    ax = sns.scatterplot(\n",
    "        data=ancomDataSigbd_fd[(ancomDataSigbd_fd['Reject null hypothesis'] == True) & (ancomDataSigbd_fd['log']>=1)], \n",
    "        x='log', \n",
    "        y='W',\n",
    "        color='r'\n",
    "    )\n",
    "    ax = sns.scatterplot(\n",
    "        data=ancomDataSigbd_fd[(ancomDataSigbd_fd['Reject null hypothesis'] == True) & (ancomDataSigbd_fd['id'].str.contains('f__Lachnospiraceae'))], \n",
    "        x='log', \n",
    "        y='W',\n",
    "        color='g'\n",
    "    )\n",
    "ax.tick_params(axis='x', which='major', bottom=True)\n",
    "ax.tick_params(axis='y', which='major', left=True)\n",
    "ax.set_xlim(-3.5,3.5)\n",
    "#ax.set_ylim(-5,5200)\n",
    "#ax.set_yscale('log')\n",
    "ax.set_xlabel('log(difference)')\n",
    "ax.axhline(y=100, xmin=0, xmax=.36, color=\"grey\", dashes=(5, 2))\n",
    "ax.axhline(y=100, xmin=.64, xmax=1, color=\"grey\", dashes=(5, 2))\n",
    "ax.axvline(x=1, ymin=0.75, ymax=1, color=\"grey\", dashes=(5, 2))\n",
    "ax.axvline(x=-1, ymin=0.75, ymax=1, color=\"grey\", dashes=(5, 2))\n",
    "ax.set_ylabel('W')\n",
    "#plt.savefig(f'{data_output}/Vulcano_ancom_bd_fd_600dpi.png', bbox_inches='tight', dpi=600)"
   ]
  },
  {
   "cell_type": "markdown",
   "id": "a5c79425-9c61-44ff-a37d-406a565c1a6a",
   "metadata": {},
   "source": [
    "##### 2.2.2 Breast & formula milk vs. no milk\n",
    "\n",
    "**2.2.2.1** Differencial abundances of **species** in samples diet_milk = bd vs. no milk"
   ]
  },
  {
   "cell_type": "code",
   "execution_count": 32,
   "id": "3b17311a-5624-4f95-85e1-4b266ca9a504",
   "metadata": {},
   "outputs": [
    {
     "name": "stdout",
     "output_type": "stream",
     "text": [
      "\u001b[32mSaved FeatureTable[Frequency] to: data/table_l6_bd_nm.qza\u001b[0m\n",
      "\u001b[0m"
     ]
    }
   ],
   "source": [
    "! qiime feature-table filter-samples \\\n",
    "    --i-table $data_dir/table_g_l6.qza \\\n",
    "    --m-metadata-file $data_dir/metadata.tsv \\\n",
    "    --p-where \"[diet_milk]='bd' or [diet_milk]='no milk'\" \\\n",
    "    --o-filtered-table $data_dir/table_l6_bd_nm.qza"
   ]
  },
  {
   "cell_type": "code",
   "execution_count": 33,
   "id": "7304f823-8323-4543-897f-e485ac3b1777",
   "metadata": {},
   "outputs": [
    {
     "name": "stdout",
     "output_type": "stream",
     "text": [
      "\u001b[32mSaved FeatureTable[Composition] to: data/table_comp_l6_bd_nm.qza\u001b[0m\n",
      "\u001b[0m"
     ]
    }
   ],
   "source": [
    "! qiime composition add-pseudocount \\\n",
    "    --i-table $data_dir/table_l6_bd_nm.qza \\\n",
    "    --o-composition-table $data_dir/table_comp_l6_bd_nm.qza"
   ]
  },
  {
   "cell_type": "code",
   "execution_count": 34,
   "id": "f1620a3c-a840-49cf-b9b6-cd1811cbda3a",
   "metadata": {},
   "outputs": [
    {
     "name": "stdout",
     "output_type": "stream",
     "text": [
      "\u001b[32mSaved Visualization to: data/ancom_l6_bd_nm.qzv\u001b[0m\n",
      "\u001b[0m"
     ]
    }
   ],
   "source": [
    "! qiime composition ancom \\\n",
    "    --i-table $data_dir/table_comp_l6_bd_nm.qza \\\n",
    "    --m-metadata-file $data_dir/metadata.tsv \\\n",
    "    --m-metadata-column diet_milk \\\n",
    "    --o-visualization $data_dir/ancom_l6_bd_nm.qzv"
   ]
  },
  {
   "cell_type": "code",
   "execution_count": 9,
   "id": "d751d12a-82a3-422c-8b09-9103cf596d6a",
   "metadata": {},
   "outputs": [
    {
     "data": {
      "text/html": [
       "<div><img onload=\"(function(div, url){\n",
       "if (typeof require !== 'undefined') {\n",
       "    var baseURL = require.toUrl('').split('/').slice(0, -2).join('/');\n",
       "} else {\n",
       "    var baseURL = JSON.parse(\n",
       "        document.getElementById('jupyter-config-data').innerHTML\n",
       "    ).baseUrl.slice(0, -1);\n",
       "}\n",
       "url = baseURL + url;\n",
       "fetch(url).then(function(res) {\n",
       "    if (res.status === 404) {\n",
       "        div.innerHTML = 'Install QIIME 2 Jupyter extension with:<br />' +\n",
       "                        '<code>jupyter serverextension enable --py qiime2' +\n",
       "                        ' --sys-prefix</code><br />then restart your server.' +\n",
       "                        '<br /><br />(Interactive output not available on ' +\n",
       "                        'static notebook viewer services like nbviewer.)';\n",
       "    } else if (res.status === 409) {\n",
       "        div.innerHTML = 'Visualization no longer in scope. Re-run this cell' +\n",
       "                        ' to see the visualization.';\n",
       "    } else if (res.ok) {\n",
       "        url = res.url;\n",
       "        div.innerHTML = '<iframe src=\\'' + url + '\\' style=\\'' +\n",
       "                        'width: 100%; height: 700px; border: 0;\\'>' +\n",
       "                        '</iframe><hr />Open in a: <a href=\\'' + url + '\\'' +\n",
       "                        ' target=\\'_blank\\'>new window</a>'\n",
       "    } else {\n",
       "        div.innerHTML = 'Something has gone wrong. Check notebook server for' +\n",
       "                        ' errors.';\n",
       "    }\n",
       "});\n",
       "})(this.parentElement, '/qiime2/redirect?location=/tmp/qiime2-archive-a0m5m_1v')\" src=\"data:image/gif;base64,R0lGODlhAQABAIAAAP///wAAACH5BAEAAAAALAAAAAABAAEAAAICRAEAOw==\" /></div>"
      ],
      "text/plain": [
       "<visualization: Visualization uuid: 70252776-7202-45d2-aa8e-6d8efbef5610>"
      ]
     },
     "execution_count": 9,
     "metadata": {},
     "output_type": "execute_result"
    }
   ],
   "source": [
    "Visualization.load(f'{data_dir}/ancom_l6_bd_nm.qzv')"
   ]
  },
  {
   "cell_type": "markdown",
   "id": "a1e51001-806b-4979-b4b9-acc47e3c67c0",
   "metadata": {},
   "source": [
    "**2.2.2.2** Differencial abundances of **species** in samples diet_milk = fd vs. no milk"
   ]
  },
  {
   "cell_type": "code",
   "execution_count": 36,
   "id": "1ec84a23-ab95-4fa4-8da9-ceef4fd45d32",
   "metadata": {},
   "outputs": [
    {
     "name": "stdout",
     "output_type": "stream",
     "text": [
      "\u001b[32mSaved FeatureTable[Frequency] to: data/table_l6_fd_nm.qza\u001b[0m\n",
      "\u001b[0m"
     ]
    }
   ],
   "source": [
    "! qiime feature-table filter-samples \\\n",
    "    --i-table $data_dir/table_g_l6.qza \\\n",
    "    --m-metadata-file $data_dir/metadata.tsv \\\n",
    "    --p-where \"[diet_milk]='fd' or [diet_milk]='no milk'\" \\\n",
    "    --o-filtered-table $data_dir/table_l6_fd_nm.qza"
   ]
  },
  {
   "cell_type": "code",
   "execution_count": 37,
   "id": "8eb1760a-3d39-45cc-9490-1bb5bf7acbe6",
   "metadata": {},
   "outputs": [
    {
     "name": "stdout",
     "output_type": "stream",
     "text": [
      "\u001b[32mSaved FeatureTable[Composition] to: data/table_comp_l6_fd_nm.qza\u001b[0m\n",
      "\u001b[0m"
     ]
    }
   ],
   "source": [
    "! qiime composition add-pseudocount \\\n",
    "    --i-table $data_dir/table_l6_fd_nm.qza \\\n",
    "    --o-composition-table $data_dir/table_comp_l6_fd_nm.qza"
   ]
  },
  {
   "cell_type": "code",
   "execution_count": 38,
   "id": "7f7f42d7-c510-478b-9c22-d06775b6523d",
   "metadata": {},
   "outputs": [
    {
     "name": "stdout",
     "output_type": "stream",
     "text": [
      "\u001b[32mSaved Visualization to: data/ancom_l6_fd_nm.qzv\u001b[0m\n",
      "\u001b[0m"
     ]
    }
   ],
   "source": [
    "! qiime composition ancom \\\n",
    "    --i-table $data_dir/table_comp_l6_fd_nm.qza \\\n",
    "    --m-metadata-file $data_dir/metadata.tsv \\\n",
    "    --m-metadata-column diet_milk \\\n",
    "    --o-visualization $data_dir/ancom_l6_fd_nm.qzv"
   ]
  },
  {
   "cell_type": "code",
   "execution_count": 10,
   "id": "b1308c73-e166-428b-bef1-bcbe33181940",
   "metadata": {},
   "outputs": [
    {
     "data": {
      "text/html": [
       "<div><img onload=\"(function(div, url){\n",
       "if (typeof require !== 'undefined') {\n",
       "    var baseURL = require.toUrl('').split('/').slice(0, -2).join('/');\n",
       "} else {\n",
       "    var baseURL = JSON.parse(\n",
       "        document.getElementById('jupyter-config-data').innerHTML\n",
       "    ).baseUrl.slice(0, -1);\n",
       "}\n",
       "url = baseURL + url;\n",
       "fetch(url).then(function(res) {\n",
       "    if (res.status === 404) {\n",
       "        div.innerHTML = 'Install QIIME 2 Jupyter extension with:<br />' +\n",
       "                        '<code>jupyter serverextension enable --py qiime2' +\n",
       "                        ' --sys-prefix</code><br />then restart your server.' +\n",
       "                        '<br /><br />(Interactive output not available on ' +\n",
       "                        'static notebook viewer services like nbviewer.)';\n",
       "    } else if (res.status === 409) {\n",
       "        div.innerHTML = 'Visualization no longer in scope. Re-run this cell' +\n",
       "                        ' to see the visualization.';\n",
       "    } else if (res.ok) {\n",
       "        url = res.url;\n",
       "        div.innerHTML = '<iframe src=\\'' + url + '\\' style=\\'' +\n",
       "                        'width: 100%; height: 700px; border: 0;\\'>' +\n",
       "                        '</iframe><hr />Open in a: <a href=\\'' + url + '\\'' +\n",
       "                        ' target=\\'_blank\\'>new window</a>'\n",
       "    } else {\n",
       "        div.innerHTML = 'Something has gone wrong. Check notebook server for' +\n",
       "                        ' errors.';\n",
       "    }\n",
       "});\n",
       "})(this.parentElement, '/qiime2/redirect?location=/tmp/qiime2-archive-1ror8pfe')\" src=\"data:image/gif;base64,R0lGODlhAQABAIAAAP///wAAACH5BAEAAAAALAAAAAABAAEAAAICRAEAOw==\" /></div>"
      ],
      "text/plain": [
       "<visualization: Visualization uuid: 5f849a7b-f068-4711-9780-1bbeefa254ce>"
      ]
     },
     "execution_count": 10,
     "metadata": {},
     "output_type": "execute_result"
    }
   ],
   "source": [
    "Visualization.load(f'{data_dir}/ancom_l6_fd_nm.qzv')"
   ]
  },
  {
   "cell_type": "markdown",
   "id": "e05c879c-de41-445f-adbd-b0586d52346e",
   "metadata": {},
   "source": [
    "Only the abundance of 3 species is significantly different between fd and no milk"
   ]
  },
  {
   "cell_type": "markdown",
   "id": "a7db4a5a-65e3-429e-a2ea-26f6bbbdb31e",
   "metadata": {},
   "source": [
    "#### 2.3 Age comparison\n",
    "##### 2.3.1) 2.0 vs. 12.0\n",
    "\n",
    "Differencial abundances of **species** in samples age_months = 2.0 vs. 12 (developmental phase)"
   ]
  },
  {
   "cell_type": "code",
   "execution_count": 8,
   "id": "c7a10393-8758-4a3a-a2b5-db9bbe5333c4",
   "metadata": {},
   "outputs": [],
   "source": [
    "#Filtering metadata table to get categorial data for \"age_months\" as composition ancom is not working with numerical data\n",
    "meta = pd.read_csv('data/metadata.tsv', sep='\\t') \n",
    "meta['age_months'].replace(2.0, 'two', inplace = True)\n",
    "meta['age_months'].replace(12.0, 'twelve', inplace = True)\n",
    "meta_filt = meta[((meta.age_months == \"two\") | (meta.age_months == \"twelve\"))] \n",
    "meta_filt.to_csv(data_dir+'/metadata_1.tsv', index = False, sep='\\t')"
   ]
  },
  {
   "cell_type": "code",
   "execution_count": 40,
   "id": "6300bda0-0cdc-40fd-9dce-d6218bc6e2d5",
   "metadata": {},
   "outputs": [
    {
     "name": "stdout",
     "output_type": "stream",
     "text": [
      "\u001b[32mSaved FeatureTable[Frequency] to: data/table_l6_age.qza\u001b[0m\n",
      "\u001b[0m"
     ]
    }
   ],
   "source": [
    "! qiime feature-table filter-samples \\\n",
    "    --i-table $data_dir/table_g_l6.qza \\\n",
    "    --m-metadata-file $data_dir/metadata_1.tsv \\\n",
    "    --p-where \"[age_months]='two' or [age_months]='twelve'\" \\\n",
    "    --o-filtered-table $data_dir/table_l6_age.qza"
   ]
  },
  {
   "cell_type": "code",
   "execution_count": 41,
   "id": "ac924f9e-afa9-4042-a4cc-aa8e69bf2e3b",
   "metadata": {},
   "outputs": [
    {
     "name": "stdout",
     "output_type": "stream",
     "text": [
      "\u001b[32mSaved FeatureTable[Composition] to: data/table_comp_l6_age.qza\u001b[0m\n",
      "\u001b[0m"
     ]
    }
   ],
   "source": [
    "! qiime composition add-pseudocount \\\n",
    "    --i-table $data_dir/table_l6_age.qza \\\n",
    "    --o-composition-table $data_dir/table_comp_l6_age.qza"
   ]
  },
  {
   "cell_type": "code",
   "execution_count": 17,
   "id": "1213ada2-d18d-448e-91d0-b68126607f03",
   "metadata": {},
   "outputs": [],
   "source": [
    "meta1 = pd.read_csv('data/metadata_1.tsv', sep='\\t') "
   ]
  },
  {
   "cell_type": "code",
   "execution_count": 29,
   "id": "3e55f374-31f3-4812-9156-74be00b9a401",
   "metadata": {},
   "outputs": [
    {
     "name": "stdout",
     "output_type": "stream",
     "text": [
      "\u001b[32mSaved Visualization to: data/ancom_l6_age.qzv\u001b[0m\n",
      "\u001b[0m"
     ]
    }
   ],
   "source": [
    "! qiime composition ancom \\\n",
    "    --i-table $data_dir/table_comp_l6_age.qza \\\n",
    "    --m-metadata-file $data_dir/metadata_1.tsv \\\n",
    "    --m-metadata-column age_months \\\n",
    "    --p-transform-function log \\\n",
    "    --o-visualization $data_dir/ancom_l6_age.qzv"
   ]
  },
  {
   "cell_type": "code",
   "execution_count": 2,
   "id": "ccd54524-9382-4211-a153-2dd41f7a1de6",
   "metadata": {},
   "outputs": [
    {
     "data": {
      "text/html": [
       "<div><img onload=\"(function(div, url){\n",
       "if (typeof require !== 'undefined') {\n",
       "    var baseURL = require.toUrl('').split('/').slice(0, -2).join('/');\n",
       "} else {\n",
       "    var baseURL = JSON.parse(\n",
       "        document.getElementById('jupyter-config-data').innerHTML\n",
       "    ).baseUrl.slice(0, -1);\n",
       "}\n",
       "url = baseURL + url;\n",
       "fetch(url).then(function(res) {\n",
       "    if (res.status === 404) {\n",
       "        div.innerHTML = 'Install QIIME 2 Jupyter extension with:<br />' +\n",
       "                        '<code>jupyter serverextension enable --py qiime2' +\n",
       "                        ' --sys-prefix</code><br />then restart your server.' +\n",
       "                        '<br /><br />(Interactive output not available on ' +\n",
       "                        'static notebook viewer services like nbviewer.)';\n",
       "    } else if (res.status === 409) {\n",
       "        div.innerHTML = 'Visualization no longer in scope. Re-run this cell' +\n",
       "                        ' to see the visualization.';\n",
       "    } else if (res.ok) {\n",
       "        url = res.url;\n",
       "        div.innerHTML = '<iframe src=\\'' + url + '\\' style=\\'' +\n",
       "                        'width: 100%; height: 700px; border: 0;\\'>' +\n",
       "                        '</iframe><hr />Open in a: <a href=\\'' + url + '\\'' +\n",
       "                        ' target=\\'_blank\\'>new window</a>'\n",
       "    } else {\n",
       "        div.innerHTML = 'Something has gone wrong. Check notebook server for' +\n",
       "                        ' errors.';\n",
       "    }\n",
       "});\n",
       "})(this.parentElement, '/qiime2/redirect?location=/tmp/qiime2-archive-39mqnrrn')\" src=\"data:image/gif;base64,R0lGODlhAQABAIAAAP///wAAACH5BAEAAAAALAAAAAABAAEAAAICRAEAOw==\" /></div>"
      ],
      "text/plain": [
       "<visualization: Visualization uuid: 031e11ca-da10-4756-8e4a-3c85c4ba76d0>"
      ]
     },
     "execution_count": 2,
     "metadata": {},
     "output_type": "execute_result"
    }
   ],
   "source": [
    "Visualization.load(f'{data_dir}/ancom_l6_age.qzv') #16"
   ]
  },
  {
   "cell_type": "code",
   "execution_count": 23,
   "id": "12e4339d-2880-46c3-ae72-7751bc764431",
   "metadata": {},
   "outputs": [
    {
     "data": {
      "text/plain": [
       "54"
      ]
     },
     "execution_count": 23,
     "metadata": {},
     "output_type": "execute_result"
    }
   ],
   "source": [
    "len(meta[meta['age_months'] == 2.0])"
   ]
  },
  {
   "cell_type": "code",
   "execution_count": 24,
   "id": "37af706d-eca0-48a0-aba3-b2cf57d28ca1",
   "metadata": {},
   "outputs": [
    {
     "data": {
      "text/plain": [
       "60"
      ]
     },
     "execution_count": 24,
     "metadata": {},
     "output_type": "execute_result"
    }
   ],
   "source": [
    "len(meta[meta['age_months'] == 12.0])"
   ]
  },
  {
   "cell_type": "markdown",
   "id": "7e78eda9-e1c9-402b-bd96-40429ed1c6b0",
   "metadata": {},
   "source": [
    "##### 2.3.2) 15.0 vs. 30.0\n",
    "\n",
    "Differencial abundances of **species** in samples age_months = 15 vs. 30 (transitional phase)"
   ]
  },
  {
   "cell_type": "code",
   "execution_count": 6,
   "id": "1fd97f3c-29ea-4345-91e1-ad856abab265",
   "metadata": {},
   "outputs": [],
   "source": [
    "#Filtering metadata table to get categorial data for \"age_months\" as composition ancom is not working with numerical data\n",
    "meta = pd.read_csv('data/metadata.tsv', sep='\\t') \n",
    "meta['age_months'].replace(15.0, 'fifteen', inplace = True)\n",
    "meta['age_months'].replace(30.0, 'thirty', inplace = True)\n",
    "meta_filt2 = meta[((meta.age_months == \"fifteen\") | (meta.age_months == \"thirty\"))] \n",
    "meta_filt2.to_csv(data_dir+'/metadata_2.tsv', index = False, sep='\\t')"
   ]
  },
  {
   "cell_type": "code",
   "execution_count": 44,
   "id": "2f8a7ef5-60b8-4678-aa76-5552ae28d540",
   "metadata": {},
   "outputs": [
    {
     "name": "stdout",
     "output_type": "stream",
     "text": [
      "\u001b[32mSaved FeatureTable[Frequency] to: data/table_l6_age2.qza\u001b[0m\n",
      "\u001b[0m"
     ]
    }
   ],
   "source": [
    "! qiime feature-table filter-samples \\\n",
    "    --i-table $data_dir/table_g_l6.qza \\\n",
    "    --m-metadata-file $data_dir/metadata_2.tsv \\\n",
    "    --p-where \"[age_months]='fifteen' or [age_months]='thirty'\" \\\n",
    "    --o-filtered-table $data_dir/table_l6_age2.qza"
   ]
  },
  {
   "cell_type": "code",
   "execution_count": 45,
   "id": "fffd1806-2536-41fb-87f6-f38e40c0dfe0",
   "metadata": {},
   "outputs": [
    {
     "name": "stdout",
     "output_type": "stream",
     "text": [
      "\u001b[32mSaved FeatureTable[Composition] to: data/table_comp_l6_age2.qza\u001b[0m\n",
      "\u001b[0m"
     ]
    }
   ],
   "source": [
    "! qiime composition add-pseudocount \\\n",
    "    --i-table $data_dir/table_l6_age2.qza \\\n",
    "    --o-composition-table $data_dir/table_comp_l6_age2.qza"
   ]
  },
  {
   "cell_type": "code",
   "execution_count": 30,
   "id": "6299c16e-38c0-4361-9eb2-1c41b5ee94ec",
   "metadata": {},
   "outputs": [
    {
     "name": "stdout",
     "output_type": "stream",
     "text": [
      "\u001b[32mSaved Visualization to: data/ancom_l6_age2.qzv\u001b[0m\n",
      "\u001b[0m"
     ]
    }
   ],
   "source": [
    "! qiime composition ancom \\\n",
    "    --i-table $data_dir/table_comp_l6_age2.qza \\\n",
    "    --m-metadata-file $data_dir/metadata_2.tsv \\\n",
    "    --m-metadata-column age_months \\\n",
    "    --p-transform-function log \\\n",
    "    --o-visualization $data_dir/ancom_l6_age2.qzv"
   ]
  },
  {
   "cell_type": "code",
   "execution_count": 3,
   "id": "b07b71e7-732d-4d8a-a53f-0367cb0e93ad",
   "metadata": {},
   "outputs": [
    {
     "data": {
      "text/html": [
       "<div><img onload=\"(function(div, url){\n",
       "if (typeof require !== 'undefined') {\n",
       "    var baseURL = require.toUrl('').split('/').slice(0, -2).join('/');\n",
       "} else {\n",
       "    var baseURL = JSON.parse(\n",
       "        document.getElementById('jupyter-config-data').innerHTML\n",
       "    ).baseUrl.slice(0, -1);\n",
       "}\n",
       "url = baseURL + url;\n",
       "fetch(url).then(function(res) {\n",
       "    if (res.status === 404) {\n",
       "        div.innerHTML = 'Install QIIME 2 Jupyter extension with:<br />' +\n",
       "                        '<code>jupyter serverextension enable --py qiime2' +\n",
       "                        ' --sys-prefix</code><br />then restart your server.' +\n",
       "                        '<br /><br />(Interactive output not available on ' +\n",
       "                        'static notebook viewer services like nbviewer.)';\n",
       "    } else if (res.status === 409) {\n",
       "        div.innerHTML = 'Visualization no longer in scope. Re-run this cell' +\n",
       "                        ' to see the visualization.';\n",
       "    } else if (res.ok) {\n",
       "        url = res.url;\n",
       "        div.innerHTML = '<iframe src=\\'' + url + '\\' style=\\'' +\n",
       "                        'width: 100%; height: 700px; border: 0;\\'>' +\n",
       "                        '</iframe><hr />Open in a: <a href=\\'' + url + '\\'' +\n",
       "                        ' target=\\'_blank\\'>new window</a>'\n",
       "    } else {\n",
       "        div.innerHTML = 'Something has gone wrong. Check notebook server for' +\n",
       "                        ' errors.';\n",
       "    }\n",
       "});\n",
       "})(this.parentElement, '/qiime2/redirect?location=/tmp/qiime2-archive-la3f02xn')\" src=\"data:image/gif;base64,R0lGODlhAQABAIAAAP///wAAACH5BAEAAAAALAAAAAABAAEAAAICRAEAOw==\" /></div>"
      ],
      "text/plain": [
       "<visualization: Visualization uuid: d9132894-e2da-430e-b81e-d738619cc42d>"
      ]
     },
     "execution_count": 3,
     "metadata": {},
     "output_type": "execute_result"
    }
   ],
   "source": [
    "Visualization.load(f'{data_dir}/ancom_l6_age2.qzv') #2"
   ]
  },
  {
   "cell_type": "code",
   "execution_count": 25,
   "id": "78d81894-c036-40df-ab20-418fb053e889",
   "metadata": {},
   "outputs": [
    {
     "data": {
      "text/plain": [
       "60"
      ]
     },
     "execution_count": 25,
     "metadata": {},
     "output_type": "execute_result"
    }
   ],
   "source": [
    "len(meta[meta['age_months'] == 15.0])"
   ]
  },
  {
   "cell_type": "code",
   "execution_count": 26,
   "id": "251664cf-aade-43b3-9688-25b2ede8fd1c",
   "metadata": {},
   "outputs": [
    {
     "data": {
      "text/plain": [
       "16"
      ]
     },
     "execution_count": 26,
     "metadata": {},
     "output_type": "execute_result"
    }
   ],
   "source": [
    "len(meta[meta['age_months'] == 30.0])"
   ]
  },
  {
   "cell_type": "markdown",
   "id": "1e53fc74-671a-4196-be85-9604c4c0f213",
   "metadata": {},
   "source": [
    "##### 2.3.3) 31.0 vs. 35.0\n",
    "\n",
    "Differencial abundances of **species** in samples age_months = 31 vs. 35 (stable phase)"
   ]
  },
  {
   "cell_type": "code",
   "execution_count": 14,
   "id": "01f71c48-d8fd-493b-bbef-3e1cc043ab35",
   "metadata": {},
   "outputs": [
    {
     "data": {
      "text/plain": [
       "37.0"
      ]
     },
     "execution_count": 14,
     "metadata": {},
     "output_type": "execute_result"
    }
   ],
   "source": [
    "meta = pd.read_csv('data/metadata.tsv', sep='\\t') \n",
    "meta[\"age_months\"].max()"
   ]
  },
  {
   "cell_type": "code",
   "execution_count": 15,
   "id": "e292e706-c335-44b3-a1fd-3fab1f55f49b",
   "metadata": {},
   "outputs": [],
   "source": [
    "#Filtering metadata table to get categorial data for \"age_months\" as composition ancom is not working with numerical data\n",
    "meta = pd.read_csv('data/metadata.tsv', sep='\\t') \n",
    "meta['age_months'].replace(31.0, 'thirty-one', inplace = True)\n",
    "meta['age_months'].replace(35.0, 'thirty-five', inplace = True)\n",
    "meta_filt3 = meta[((meta.age_months == \"thirty-one\") | (meta.age_months == \"thirty-five\"))] \n",
    "meta_filt3.to_csv(data_dir+'/metadata_3.tsv', index = False, sep='\\t')"
   ]
  },
  {
   "cell_type": "code",
   "execution_count": 50,
   "id": "e1487195-340c-480f-a535-05be83326d09",
   "metadata": {},
   "outputs": [
    {
     "name": "stdout",
     "output_type": "stream",
     "text": [
      "\u001b[32mSaved FeatureTable[Frequency] to: data/table_l6_age3.qza\u001b[0m\n",
      "\u001b[0m"
     ]
    }
   ],
   "source": [
    "! qiime feature-table filter-samples \\\n",
    "    --i-table $data_dir/table_g_l6.qza \\\n",
    "    --m-metadata-file $data_dir/metadata_3.tsv \\\n",
    "    --p-where \"[age_months]='thirty-one' or [age_months]='thirty-five'\" \\\n",
    "    --o-filtered-table $data_dir/table_l6_age3.qza"
   ]
  },
  {
   "cell_type": "code",
   "execution_count": 51,
   "id": "93ddc491-d3d0-4d0d-b9fb-a7065a457b63",
   "metadata": {},
   "outputs": [
    {
     "name": "stdout",
     "output_type": "stream",
     "text": [
      "\u001b[32mSaved FeatureTable[Composition] to: data/table_comp_l6_age3.qza\u001b[0m\n",
      "\u001b[0m"
     ]
    }
   ],
   "source": [
    "! qiime composition add-pseudocount \\\n",
    "    --i-table $data_dir/table_l6_age3.qza \\\n",
    "    --o-composition-table $data_dir/table_comp_l6_age3.qza"
   ]
  },
  {
   "cell_type": "code",
   "execution_count": 31,
   "id": "fb670ca6-8950-4080-9be3-7e2c8f9c5ba6",
   "metadata": {},
   "outputs": [
    {
     "name": "stdout",
     "output_type": "stream",
     "text": [
      "\u001b[32mSaved Visualization to: data/ancom_l6_age3.qzv\u001b[0m\n",
      "\u001b[0m"
     ]
    }
   ],
   "source": [
    "! qiime composition ancom \\\n",
    "    --i-table $data_dir/table_comp_l6_age3.qza \\\n",
    "    --m-metadata-file $data_dir/metadata_3.tsv \\\n",
    "    --m-metadata-column age_months \\\n",
    "    --p-transform-function log \\\n",
    "    --o-visualization $data_dir/ancom_l6_age3.qzv"
   ]
  },
  {
   "cell_type": "code",
   "execution_count": null,
   "id": "692f1832-88f0-4436-bc2f-e2c3dae6b28a",
   "metadata": {},
   "outputs": [],
   "source": [
    "Visualization.load(f'{data_dir}/ancom_l6_age3.qzv') #0"
   ]
  },
  {
   "cell_type": "code",
   "execution_count": 27,
   "id": "6749e508-d9ea-4e0d-8742-7d483af2c78e",
   "metadata": {},
   "outputs": [
    {
     "data": {
      "text/plain": [
       "17"
      ]
     },
     "execution_count": 27,
     "metadata": {},
     "output_type": "execute_result"
    }
   ],
   "source": [
    "len(meta[meta['age_months'] == 31.0])"
   ]
  },
  {
   "cell_type": "code",
   "execution_count": 28,
   "id": "c6b5156a-d5fa-4df4-a869-f99c4b02c301",
   "metadata": {},
   "outputs": [
    {
     "data": {
      "text/plain": [
       "10"
      ]
     },
     "execution_count": 28,
     "metadata": {},
     "output_type": "execute_result"
    }
   ],
   "source": [
    "len(meta[meta['age_months'] == 35.0])"
   ]
  },
  {
   "cell_type": "code",
   "execution_count": 32,
   "id": "810d70bc-f3ce-4eda-85d4-a53759563acb",
   "metadata": {},
   "outputs": [
    {
     "name": "stdout",
     "output_type": "stream",
     "text": [
      "\u001b[32mExtracted data/ancom_l6_age.qzv to directory data_out/ancom_2_12/639d83c8-d160-4d19-bd77-8e56a92af803\u001b[0m\n",
      "\u001b[32mExtracted data/ancom_l6_age2.qzv to directory data_out/ancom_15_30/a22194d9-d1d2-43fd-b524-a0a194250acf\u001b[0m\n",
      "\u001b[32mExtracted data/ancom_l6_age3.qzv to directory data_out/ancom_31_35/9aac81d4-1fc5-4cf5-9239-08b7f2e22089\u001b[0m\n"
     ]
    }
   ],
   "source": [
    "#Extracting the ancom output: Months 2 vs. 12\n",
    "! qiime tools extract \\\n",
    "    --input-path $data_dir/ancom_l6_age.qzv \\\n",
    "    --output-path $data_output/ancom_2_12\n",
    "\n",
    "#Months 15 vs. 30 \n",
    "! qiime tools extract \\\n",
    "    --input-path $data_dir/ancom_l6_age2.qzv \\\n",
    "    --output-path $data_output/ancom_15_30\n",
    "\n",
    "#Months 31 vs. 35\n",
    "! qiime tools extract \\\n",
    "    --input-path $data_dir/ancom_l6_age3.qzv \\\n",
    "    --output-path $data_output/ancom_31_35"
   ]
  },
  {
   "cell_type": "code",
   "execution_count": 33,
   "id": "aaa83479-d796-4a56-b502-f7600bdfc1b4",
   "metadata": {},
   "outputs": [],
   "source": [
    "#2 vs. 12\n",
    "ancom212 = pd.read_csv(f'{data_output}/ancom_2_12/639d83c8-d160-4d19-bd77-8e56a92af803/data/data.tsv', sep='\\t')\n",
    "ancom_2_12 = pd.read_csv(f'{data_output}/ancom_2_12/639d83c8-d160-4d19-bd77-8e56a92af803/data/ancom.tsv', sep='\\t')\n",
    "ancom_2_12.rename(columns = {'Unnamed: 0':'id'}, inplace = True)\n",
    "\n",
    "#15 vs. 30\n",
    "ancom1530 = pd.read_csv(f'{data_output}/ancom_15_30/a22194d9-d1d2-43fd-b524-a0a194250acf/data/data.tsv', sep='\\t')\n",
    "ancom_15_30 = pd.read_csv(f'{data_output}/ancom_15_30/a22194d9-d1d2-43fd-b524-a0a194250acf/data/ancom.tsv', sep='\\t')\n",
    "ancom_15_30.rename(columns = {'Unnamed: 0':'id'}, inplace = True)\n",
    "\n",
    "#31 vs. 35\n",
    "ancom3135 = pd.read_csv(f'{data_output}/ancom_31_35/9aac81d4-1fc5-4cf5-9239-08b7f2e22089/data/data.tsv', sep='\\t')\n",
    "ancom_31_35 = pd.read_csv(f'{data_output}/ancom_31_35/9aac81d4-1fc5-4cf5-9239-08b7f2e22089/data/ancom.tsv', sep='\\t')\n",
    "ancom_31_35.rename(columns = {'Unnamed: 0':'id'}, inplace = True)"
   ]
  },
  {
   "cell_type": "code",
   "execution_count": 34,
   "id": "13328452-afe4-4e90-82b8-bc7b98429ad4",
   "metadata": {},
   "outputs": [
    {
     "data": {
      "text/html": [
       "<div>\n",
       "<style scoped>\n",
       "    .dataframe tbody tr th:only-of-type {\n",
       "        vertical-align: middle;\n",
       "    }\n",
       "\n",
       "    .dataframe tbody tr th {\n",
       "        vertical-align: top;\n",
       "    }\n",
       "\n",
       "    .dataframe thead th {\n",
       "        text-align: right;\n",
       "    }\n",
       "</style>\n",
       "<table border=\"1\" class=\"dataframe\">\n",
       "  <thead>\n",
       "    <tr style=\"text-align: right;\">\n",
       "      <th></th>\n",
       "      <th>id</th>\n",
       "      <th>log</th>\n",
       "      <th>W</th>\n",
       "      <th>Reject null hypothesis</th>\n",
       "    </tr>\n",
       "  </thead>\n",
       "  <tbody>\n",
       "    <tr>\n",
       "      <th>0</th>\n",
       "      <td>k__Archaea;p__Euryarchaeota;c__Methanobacteria...</td>\n",
       "      <td>-0.180835</td>\n",
       "      <td>0</td>\n",
       "      <td>False</td>\n",
       "    </tr>\n",
       "    <tr>\n",
       "      <th>1</th>\n",
       "      <td>k__Bacteria;p__Actinobacteria;c__Actinobacteri...</td>\n",
       "      <td>-0.171181</td>\n",
       "      <td>0</td>\n",
       "      <td>False</td>\n",
       "    </tr>\n",
       "    <tr>\n",
       "      <th>2</th>\n",
       "      <td>k__Bacteria;p__Actinobacteria;c__Actinobacteri...</td>\n",
       "      <td>-0.138629</td>\n",
       "      <td>0</td>\n",
       "      <td>False</td>\n",
       "    </tr>\n",
       "    <tr>\n",
       "      <th>3</th>\n",
       "      <td>k__Bacteria;p__Actinobacteria;c__Actinobacteri...</td>\n",
       "      <td>-0.143093</td>\n",
       "      <td>0</td>\n",
       "      <td>False</td>\n",
       "    </tr>\n",
       "    <tr>\n",
       "      <th>4</th>\n",
       "      <td>k__Bacteria;p__Actinobacteria;c__Actinobacteri...</td>\n",
       "      <td>0.064624</td>\n",
       "      <td>0</td>\n",
       "      <td>False</td>\n",
       "    </tr>\n",
       "    <tr>\n",
       "      <th>...</th>\n",
       "      <td>...</td>\n",
       "      <td>...</td>\n",
       "      <td>...</td>\n",
       "      <td>...</td>\n",
       "    </tr>\n",
       "    <tr>\n",
       "      <th>65</th>\n",
       "      <td>k__Bacteria;p__Proteobacteria;c__Betaproteobac...</td>\n",
       "      <td>1.006523</td>\n",
       "      <td>0</td>\n",
       "      <td>False</td>\n",
       "    </tr>\n",
       "    <tr>\n",
       "      <th>66</th>\n",
       "      <td>k__Bacteria;p__Proteobacteria;c__Deltaproteoba...</td>\n",
       "      <td>0.939766</td>\n",
       "      <td>0</td>\n",
       "      <td>False</td>\n",
       "    </tr>\n",
       "    <tr>\n",
       "      <th>67</th>\n",
       "      <td>k__Bacteria;p__Proteobacteria;c__Deltaproteoba...</td>\n",
       "      <td>-0.557595</td>\n",
       "      <td>0</td>\n",
       "      <td>False</td>\n",
       "    </tr>\n",
       "    <tr>\n",
       "      <th>68</th>\n",
       "      <td>k__Bacteria;p__Proteobacteria;c__Gammaproteoba...</td>\n",
       "      <td>0.260636</td>\n",
       "      <td>0</td>\n",
       "      <td>False</td>\n",
       "    </tr>\n",
       "    <tr>\n",
       "      <th>69</th>\n",
       "      <td>k__Bacteria;p__Verrucomicrobia;c__Verrucomicro...</td>\n",
       "      <td>-0.267425</td>\n",
       "      <td>0</td>\n",
       "      <td>False</td>\n",
       "    </tr>\n",
       "  </tbody>\n",
       "</table>\n",
       "<p>70 rows × 4 columns</p>\n",
       "</div>"
      ],
      "text/plain": [
       "                                                   id       log  W  \\\n",
       "0   k__Archaea;p__Euryarchaeota;c__Methanobacteria... -0.180835  0   \n",
       "1   k__Bacteria;p__Actinobacteria;c__Actinobacteri... -0.171181  0   \n",
       "2   k__Bacteria;p__Actinobacteria;c__Actinobacteri... -0.138629  0   \n",
       "3   k__Bacteria;p__Actinobacteria;c__Actinobacteri... -0.143093  0   \n",
       "4   k__Bacteria;p__Actinobacteria;c__Actinobacteri...  0.064624  0   \n",
       "..                                                ...       ... ..   \n",
       "65  k__Bacteria;p__Proteobacteria;c__Betaproteobac...  1.006523  0   \n",
       "66  k__Bacteria;p__Proteobacteria;c__Deltaproteoba...  0.939766  0   \n",
       "67  k__Bacteria;p__Proteobacteria;c__Deltaproteoba... -0.557595  0   \n",
       "68  k__Bacteria;p__Proteobacteria;c__Gammaproteoba...  0.260636  0   \n",
       "69  k__Bacteria;p__Verrucomicrobia;c__Verrucomicro... -0.267425  0   \n",
       "\n",
       "    Reject null hypothesis  \n",
       "0                    False  \n",
       "1                    False  \n",
       "2                    False  \n",
       "3                    False  \n",
       "4                    False  \n",
       "..                     ...  \n",
       "65                   False  \n",
       "66                   False  \n",
       "67                   False  \n",
       "68                   False  \n",
       "69                   False  \n",
       "\n",
       "[70 rows x 4 columns]"
      ]
     },
     "execution_count": 34,
     "metadata": {},
     "output_type": "execute_result"
    }
   ],
   "source": [
    "ancomDataSig2_12 = ancom212.merge(ancom_2_12, how='inner')\n",
    "ancomDataSig2_12\n",
    "\n",
    "ancomDataSig15_30 = ancom1530.merge(ancom_15_30, how='inner')\n",
    "ancomDataSig15_30\n",
    "\n",
    "ancomDataSig31_35 = ancom3135.merge(ancom_31_35, how='inner')\n",
    "ancomDataSig31_35"
   ]
  },
  {
   "cell_type": "code",
   "execution_count": 41,
   "id": "d8a8dd40-eb88-4942-a761-eabd7907f76a",
   "metadata": {},
   "outputs": [
    {
     "data": {
      "text/plain": [
       "Text(0, 0.5, 'W')"
      ]
     },
     "execution_count": 41,
     "metadata": {},
     "output_type": "execute_result"
    },
    {
     "data": {
      "image/png": "[encoded data removed]",
      "text/plain": [
       "<Figure size 180x144 with 1 Axes>"
      ]
     },
     "metadata": {},
     "output_type": "display_data"
    }
   ],
   "source": [
    "#Create a figure for the report: Months 2 vs. 12\n",
    "sns.set(rc={'figure.figsize':(2.5, 2)}, style='white')\n",
    "with sns.plotting_context(\"notebook\", font_scale=1.2):\n",
    "    ax = sns.scatterplot(\n",
    "        data= ancomDataSig2_12[(ancomDataSig2_12['Reject null hypothesis'] == False)], \n",
    "        x='log', \n",
    "        y='W',\n",
    "        color='grey',\n",
    "        alpha=.3\n",
    "    )\n",
    "    ax = sns.scatterplot(\n",
    "        data=ancomDataSig2_12[(ancomDataSig2_12['Reject null hypothesis'] == True) & (ancomDataSig2_12['log']<1)], \n",
    "        x='log', \n",
    "        y='W',\n",
    "        color='lightskyblue',\n",
    "        alpha=.3\n",
    "    )\n",
    "    ax = sns.scatterplot(\n",
    "        data=ancomDataSig2_12[(ancomDataSig2_12['Reject null hypothesis'] == True) & (ancomDataSig2_12['log']>=1)], \n",
    "        x='log', \n",
    "        y='W',\n",
    "        color='r'\n",
    "    )\n",
    "    ax = sns.scatterplot(\n",
    "        data=ancomDataSig2_12[(ancomDataSig2_12['Reject null hypothesis'] == True) & (ancomDataSig2_12['log']<= -1)], \n",
    "        x='log', \n",
    "        y='W',\n",
    "        color='r'\n",
    "    )\n",
    "ax.tick_params(axis='x', which='major', bottom=True)\n",
    "ax.tick_params(axis='y', which='major', left=True)\n",
    "ax.set_xlim(-3.5,3.5)\n",
    "#ax.set_ylim(-5,5200)\n",
    "#ax.set_yscale('log')\n",
    "ax.set_xlabel('log(difference)')\n",
    "ax.axhline(y=75, xmin=0, xmax=.36, color=\"grey\", dashes=(5, 2))\n",
    "ax.axhline(y=75, xmin=.64, xmax=1, color=\"grey\", dashes=(5, 2))\n",
    "ax.axvline(x=1, ymin=0.73, ymax=1, color=\"grey\", dashes=(5, 2))\n",
    "ax.axvline(x=-1, ymin=0.73, ymax=1, color=\"grey\", dashes=(5, 2))\n",
    "ax.set_ylabel('W')\n",
    "#plt.savefig(f'{data_output}/Vulcano_ancom_bd_fd_600dpi.png', bbox_inches='tight', dpi=600)"
   ]
  },
  {
   "cell_type": "code",
   "execution_count": 60,
   "id": "7151be6a-b3be-4718-8dcb-94bdd2d41258",
   "metadata": {},
   "outputs": [
    {
     "data": {
      "text/plain": [
       "Text(0, 0.5, ' ')"
      ]
     },
     "execution_count": 60,
     "metadata": {},
     "output_type": "execute_result"
    },
    {
     "data": {
      "image/png": "[encoded data removed]",
      "text/plain": [
       "<Figure size 180x144 with 1 Axes>"
      ]
     },
     "metadata": {},
     "output_type": "display_data"
    }
   ],
   "source": [
    "#Create a figure for the report: Months 15 vs. 30\n",
    "sns.set(rc={'figure.figsize':(2.5, 2)}, style='white')\n",
    "with sns.plotting_context(\"notebook\", font_scale=1.2):\n",
    "    ax = sns.scatterplot(\n",
    "        data= ancomDataSig15_30[(ancomDataSig15_30['Reject null hypothesis'] == False)], \n",
    "        x='log', \n",
    "        y='W',\n",
    "        color='grey',\n",
    "        alpha=.3\n",
    "    )\n",
    "    ax = sns.scatterplot(\n",
    "        data= ancomDataSig15_30[(ancomDataSig15_30['Reject null hypothesis'] == True) & (ancomDataSig15_30['log']<1)], \n",
    "        x='log', \n",
    "        y='W',\n",
    "        color='lightskyblue',\n",
    "        alpha=.3\n",
    "    )\n",
    "    ax = sns.scatterplot(\n",
    "        data=ancomDataSig15_30[(ancomDataSig15_30['Reject null hypothesis'] == True) & (ancomDataSig15_30['log']>=1)], \n",
    "        x='log', \n",
    "        y='W',\n",
    "        color='r'\n",
    "    )\n",
    "    ax = sns.scatterplot(\n",
    "        data=ancomDataSig15_30[(ancomDataSig15_30['Reject null hypothesis'] == True) & (ancomDataSig15_30['log']<= -1)], \n",
    "        x='log', \n",
    "        y='W',\n",
    "        color='r'\n",
    "    )\n",
    "ax.tick_params(axis='x', which='major', bottom=True)\n",
    "ax.tick_params(axis='y', which='major', left=True)\n",
    "ax.set_xlim(-3.5,3.5)\n",
    "#ax.set_ylim(-5,5200)\n",
    "#ax.set_yscale('log')\n",
    "ax.set_xlabel('log(difference)')\n",
    "ax.axhline(y=70, xmin=0, xmax=.36, color=\"grey\", dashes=(5, 2))\n",
    "ax.axhline(y=70, xmin=.64, xmax=1, color=\"grey\", dashes=(5, 2))\n",
    "ax.axvline(x=1, ymin=0.79, ymax=1, color=\"grey\", dashes=(5, 2))\n",
    "ax.axvline(x=-1, ymin=0.79, ymax=1, color=\"grey\", dashes=(5, 2))\n",
    "ax.set_ylabel(' ')\n",
    "#plt.savefig(f'{data_output}/Vulcano_ancom_bd_fd_600dpi.png', bbox_inches='tight', dpi=600)"
   ]
  },
  {
   "cell_type": "code",
   "execution_count": 59,
   "id": "200bb984-9aa3-4197-bf7a-9fa90f881e53",
   "metadata": {},
   "outputs": [
    {
     "data": {
      "text/plain": [
       "Text(0, 0.5, 'W')"
      ]
     },
     "execution_count": 59,
     "metadata": {},
     "output_type": "execute_result"
    },
    {
     "data": {
      "image/png": "[encoded data removed]",
      "text/plain": [
       "<Figure size 180x144 with 1 Axes>"
      ]
     },
     "metadata": {},
     "output_type": "display_data"
    }
   ],
   "source": [
    "#Create a figure for the report: Months 15 vs. 30\n",
    "sns.set(rc={'figure.figsize':(2.5, 2)}, style='white')\n",
    "with sns.plotting_context(\"notebook\", font_scale=1.2):\n",
    "    ax = sns.scatterplot(\n",
    "        data= ancomDataSig31_35[(ancomDataSig31_35['Reject null hypothesis'] == False)], \n",
    "        x='log', \n",
    "        y='W',\n",
    "        color='grey',\n",
    "        alpha=.3\n",
    "    )\n",
    "    ax = sns.scatterplot(\n",
    "        data= ancomDataSig31_35[(ancomDataSig31_35['Reject null hypothesis'] == True) & (ancomDataSig31_35['log']<1)], \n",
    "        x='log', \n",
    "        y='W',\n",
    "        color='lightskyblue',\n",
    "        alpha=.3\n",
    "    )\n",
    "    ax = sns.scatterplot(\n",
    "        data=ancomDataSig31_35[(ancomDataSig31_35['Reject null hypothesis'] == True) & (ancomDataSig31_35['log']>=1)], \n",
    "        x='log', \n",
    "        y='W',\n",
    "        color='r'\n",
    "    )\n",
    "    ax = sns.scatterplot(\n",
    "        data=ancomDataSig31_35[(ancomDataSig31_35['Reject null hypothesis'] == True) & (ancomDataSig31_35['log']<= -1)], \n",
    "        x='log', \n",
    "        y='W',\n",
    "        color='r'\n",
    "    )\n",
    "ax.tick_params(axis='x', which='major', bottom=True)\n",
    "ax.tick_params(axis='y', which='major', left=True)\n",
    "ax.set_xlim(-3.5,3.5)\n",
    "#ax.set_ylim(-5,5200)\n",
    "#ax.set_yscale('log')\n",
    "ax.set_xlabel('log(difference)')\n",
    "ax.axhline(y=70, xmin=0, xmax=.36, color=\"grey\", dashes=(5, 2))\n",
    "ax.axhline(y=70, xmin=.64, xmax=1, color=\"grey\", dashes=(5, 2))\n",
    "#ax.axvline(x=1, ymin=0.79, ymax=1, color=\"grey\", dashes=(5, 2))\n",
    "#ax.axvline(x=-1, ymin=0.79, ymax=1, color=\"grey\", dashes=(5, 2))\n",
    "ax.set_ylabel('W')\n",
    "#plt.savefig(f'{data_output}/Vulcano_ancom_bd_fd_600dpi.png', bbox_inches='tight', dpi=600)"
   ]
  },
  {
   "cell_type": "code",
   "execution_count": null,
   "id": "58d42259-8618-495c-b9e3-0ffb1334dc40",
   "metadata": {},
   "outputs": [],
   "source": []
  }
 ],
 "metadata": {
  "kernelspec": {
   "display_name": "Python 3 (ipykernel)",
   "language": "python",
   "name": "python3"
  },
  "language_info": {
   "codemirror_mode": {
    "name": "ipython",
    "version": 3
   },
   "file_extension": ".py",
   "mimetype": "text/x-python",
   "name": "python",
   "nbconvert_exporter": "python",
   "pygments_lexer": "ipython3",
   "version": "3.8.13"
  }
 },
 "nbformat": 4,
 "nbformat_minor": 5
}
