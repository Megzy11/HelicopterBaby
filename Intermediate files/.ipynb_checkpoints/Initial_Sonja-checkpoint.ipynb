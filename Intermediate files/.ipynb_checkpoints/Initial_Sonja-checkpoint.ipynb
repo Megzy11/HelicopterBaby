{
 "cells": [
  {
   "cell_type": "code",
   "execution_count": 1,
   "id": "04c316c5-a121-4b45-bb16-66002eaeffeb",
   "metadata": {},
   "outputs": [],
   "source": [
    "#For the import of packages\n",
    "import numpy as np\n",
    "import pandas as pd\n",
    "from qiime2 import Visualization\n",
    "import matplotlib.pyplot as plt\n",
    "import qiime2 as q2\n",
    "\n",
    "data_dir = \"data/\""
   ]
  },
  {
   "cell_type": "code",
   "execution_count": 2,
   "id": "abf5d61e-258e-4b7e-bad4-33822f9cb7b0",
   "metadata": {},
   "outputs": [
    {
     "name": "stdout",
     "output_type": "stream",
     "text": [
      "2022-10-11 19:08:02 URL:https://polybox.ethz.ch/index.php/s/KEQxsekRow6lOAz/download [8529260946/8529260946] -> \"data//sequences_demux_paired.qza\" [1]\n",
      "2022-10-11 19:08:03 URL:https://polybox.ethz.ch/index.php/s/RVPyoVYUBeVQFrJ/download [325995/325995] -> \"data//metadata.tsv\" [1]\n"
     ]
    }
   ],
   "source": [
    "#data import\n",
    "! wget -nv -O $data_dir/sequences_demux_paired.qza 'https://polybox.ethz.ch/index.php/s/KEQxsekRow6lOAz/download'\n",
    "! wget -nv -O $data_dir/metadata.tsv 'https://polybox.ethz.ch/index.php/s/RVPyoVYUBeVQFrJ/download'"
   ]
  },
  {
   "cell_type": "code",
   "execution_count": 4,
   "id": "5b88c073-f82f-46cd-9ba8-cd8b5d012a09",
   "metadata": {},
   "outputs": [
    {
     "data": {
      "text/html": [
       "<div>\n",
       "<style scoped>\n",
       "    .dataframe tbody tr th:only-of-type {\n",
       "        vertical-align: middle;\n",
       "    }\n",
       "\n",
       "    .dataframe tbody tr th {\n",
       "        vertical-align: top;\n",
       "    }\n",
       "\n",
       "    .dataframe thead th {\n",
       "        text-align: right;\n",
       "    }\n",
       "</style>\n",
       "<table border=\"1\" class=\"dataframe\">\n",
       "  <thead>\n",
       "    <tr style=\"text-align: right;\">\n",
       "      <th></th>\n",
       "      <th>id</th>\n",
       "      <th>Library Layout</th>\n",
       "      <th>Instrument</th>\n",
       "      <th>collection_date</th>\n",
       "      <th>geo_location_name</th>\n",
       "      <th>geo_latitude</th>\n",
       "      <th>geo_longitude</th>\n",
       "      <th>host_id</th>\n",
       "      <th>age_days</th>\n",
       "      <th>weight_kg</th>\n",
       "      <th>...</th>\n",
       "      <th>birth_length_cm</th>\n",
       "      <th>sex</th>\n",
       "      <th>delivery_mode</th>\n",
       "      <th>zygosity</th>\n",
       "      <th>race</th>\n",
       "      <th>ethnicity</th>\n",
       "      <th>delivery_preterm</th>\n",
       "      <th>diet_milk</th>\n",
       "      <th>diet_weaning</th>\n",
       "      <th>age_months</th>\n",
       "    </tr>\n",
       "  </thead>\n",
       "  <tbody>\n",
       "    <tr>\n",
       "      <th>0</th>\n",
       "      <td>ERR1314182</td>\n",
       "      <td>PAIRED</td>\n",
       "      <td>Illumina MiSeq</td>\n",
       "      <td>2011-11-11 00:00:00</td>\n",
       "      <td>USA, Missouri, St. Louis</td>\n",
       "      <td>38.63699</td>\n",
       "      <td>-90.263794</td>\n",
       "      <td>42.1</td>\n",
       "      <td>232.0</td>\n",
       "      <td>NaN</td>\n",
       "      <td>...</td>\n",
       "      <td>47.0</td>\n",
       "      <td>male</td>\n",
       "      <td>Cesarean</td>\n",
       "      <td>Monozygotic</td>\n",
       "      <td>Caucasian</td>\n",
       "      <td>Not Hispanic</td>\n",
       "      <td>True</td>\n",
       "      <td>fd</td>\n",
       "      <td>True</td>\n",
       "      <td>8.0</td>\n",
       "    </tr>\n",
       "    <tr>\n",
       "      <th>1</th>\n",
       "      <td>ERR1314183</td>\n",
       "      <td>PAIRED</td>\n",
       "      <td>Illumina MiSeq</td>\n",
       "      <td>2010-12-11 00:00:00</td>\n",
       "      <td>USA, Missouri, St. Louis</td>\n",
       "      <td>38.63699</td>\n",
       "      <td>-90.263794</td>\n",
       "      <td>27.2</td>\n",
       "      <td>192.0</td>\n",
       "      <td>NaN</td>\n",
       "      <td>...</td>\n",
       "      <td>45.0</td>\n",
       "      <td>female</td>\n",
       "      <td>Cesarean</td>\n",
       "      <td>Dizygotic</td>\n",
       "      <td>Caucasian</td>\n",
       "      <td>Hispanic</td>\n",
       "      <td>True</td>\n",
       "      <td>fd</td>\n",
       "      <td>True</td>\n",
       "      <td>6.0</td>\n",
       "    </tr>\n",
       "    <tr>\n",
       "      <th>2</th>\n",
       "      <td>ERR1314184</td>\n",
       "      <td>PAIRED</td>\n",
       "      <td>Illumina MiSeq</td>\n",
       "      <td>2011-12-11 00:00:00</td>\n",
       "      <td>USA, Missouri, St. Louis</td>\n",
       "      <td>38.63699</td>\n",
       "      <td>-90.263794</td>\n",
       "      <td>28.1</td>\n",
       "      <td>536.0</td>\n",
       "      <td>NaN</td>\n",
       "      <td>...</td>\n",
       "      <td>51.0</td>\n",
       "      <td>female</td>\n",
       "      <td>Cesarean</td>\n",
       "      <td>Monozygotic</td>\n",
       "      <td>Caucasian</td>\n",
       "      <td>Not Hispanic</td>\n",
       "      <td>False</td>\n",
       "      <td>NaN</td>\n",
       "      <td>NaN</td>\n",
       "      <td>18.0</td>\n",
       "    </tr>\n",
       "    <tr>\n",
       "      <th>3</th>\n",
       "      <td>ERR1314185</td>\n",
       "      <td>PAIRED</td>\n",
       "      <td>Illumina MiSeq</td>\n",
       "      <td>2011-12-11 00:00:00</td>\n",
       "      <td>USA, Missouri, St. Louis</td>\n",
       "      <td>38.63699</td>\n",
       "      <td>-90.263794</td>\n",
       "      <td>28.2</td>\n",
       "      <td>537.0</td>\n",
       "      <td>NaN</td>\n",
       "      <td>...</td>\n",
       "      <td>50.0</td>\n",
       "      <td>female</td>\n",
       "      <td>Cesarean</td>\n",
       "      <td>Monozygotic</td>\n",
       "      <td>Caucasian</td>\n",
       "      <td>Not Hispanic</td>\n",
       "      <td>False</td>\n",
       "      <td>NaN</td>\n",
       "      <td>NaN</td>\n",
       "      <td>18.0</td>\n",
       "    </tr>\n",
       "    <tr>\n",
       "      <th>4</th>\n",
       "      <td>ERR1314186</td>\n",
       "      <td>PAIRED</td>\n",
       "      <td>Illumina MiSeq</td>\n",
       "      <td>2013-01-12 00:00:00</td>\n",
       "      <td>USA, Missouri, St. Louis</td>\n",
       "      <td>38.63699</td>\n",
       "      <td>-90.263794</td>\n",
       "      <td>39.2</td>\n",
       "      <td>688.0</td>\n",
       "      <td>NaN</td>\n",
       "      <td>...</td>\n",
       "      <td>48.0</td>\n",
       "      <td>male</td>\n",
       "      <td>Cesarean</td>\n",
       "      <td>Monozygotic</td>\n",
       "      <td>African-American</td>\n",
       "      <td>Not Hispanic</td>\n",
       "      <td>True</td>\n",
       "      <td>NaN</td>\n",
       "      <td>NaN</td>\n",
       "      <td>23.0</td>\n",
       "    </tr>\n",
       "  </tbody>\n",
       "</table>\n",
       "<p>5 rows × 26 columns</p>\n",
       "</div>"
      ],
      "text/plain": [
       "           id Library Layout      Instrument      collection_date  \\\n",
       "0  ERR1314182         PAIRED  Illumina MiSeq  2011-11-11 00:00:00   \n",
       "1  ERR1314183         PAIRED  Illumina MiSeq  2010-12-11 00:00:00   \n",
       "2  ERR1314184         PAIRED  Illumina MiSeq  2011-12-11 00:00:00   \n",
       "3  ERR1314185         PAIRED  Illumina MiSeq  2011-12-11 00:00:00   \n",
       "4  ERR1314186         PAIRED  Illumina MiSeq  2013-01-12 00:00:00   \n",
       "\n",
       "          geo_location_name  geo_latitude  geo_longitude  host_id  age_days  \\\n",
       "0  USA, Missouri, St. Louis      38.63699     -90.263794     42.1     232.0   \n",
       "1  USA, Missouri, St. Louis      38.63699     -90.263794     27.2     192.0   \n",
       "2  USA, Missouri, St. Louis      38.63699     -90.263794     28.1     536.0   \n",
       "3  USA, Missouri, St. Louis      38.63699     -90.263794     28.2     537.0   \n",
       "4  USA, Missouri, St. Louis      38.63699     -90.263794     39.2     688.0   \n",
       "\n",
       "   weight_kg  ...  birth_length_cm     sex  delivery_mode     zygosity  \\\n",
       "0        NaN  ...             47.0    male       Cesarean  Monozygotic   \n",
       "1        NaN  ...             45.0  female       Cesarean    Dizygotic   \n",
       "2        NaN  ...             51.0  female       Cesarean  Monozygotic   \n",
       "3        NaN  ...             50.0  female       Cesarean  Monozygotic   \n",
       "4        NaN  ...             48.0    male       Cesarean  Monozygotic   \n",
       "\n",
       "               race     ethnicity  delivery_preterm diet_milk diet_weaning  \\\n",
       "0         Caucasian  Not Hispanic              True        fd         True   \n",
       "1         Caucasian      Hispanic              True        fd         True   \n",
       "2         Caucasian  Not Hispanic             False       NaN          NaN   \n",
       "3         Caucasian  Not Hispanic             False       NaN          NaN   \n",
       "4  African-American  Not Hispanic              True       NaN          NaN   \n",
       "\n",
       "  age_months  \n",
       "0        8.0  \n",
       "1        6.0  \n",
       "2       18.0  \n",
       "3       18.0  \n",
       "4       23.0  \n",
       "\n",
       "[5 rows x 26 columns]"
      ]
     },
     "execution_count": 4,
     "metadata": {},
     "output_type": "execute_result"
    }
   ],
   "source": [
    "meta = pd.read_csv('data/metadata.tsv', sep='\\t')\n",
    "meta.head()"
   ]
  },
  {
   "cell_type": "markdown",
   "id": "57c5420d-2605-4660-aff6-2c7053884b80",
   "metadata": {},
   "source": [
    "### 1. Overview over the Dataframe "
   ]
  },
  {
   "cell_type": "code",
   "execution_count": 5,
   "id": "c7336e5a-0791-49f4-a0f1-e17ebe3501e5",
   "metadata": {},
   "outputs": [
    {
     "data": {
      "text/plain": [
       "(1669, 26)"
      ]
     },
     "execution_count": 5,
     "metadata": {},
     "output_type": "execute_result"
    }
   ],
   "source": [
    "meta.shape"
   ]
  },
  {
   "cell_type": "code",
   "execution_count": 5,
   "id": "37532f56-8f24-4623-a081-1e75e7e50168",
   "metadata": {},
   "outputs": [
    {
     "data": {
      "text/plain": [
       "80"
      ]
     },
     "execution_count": 5,
     "metadata": {},
     "output_type": "execute_result"
    }
   ],
   "source": [
    "#How many different host IDs are there?\n",
    "meta['host_id'].nunique()\n",
    "#There are 80 unique hosts -> 40 twin pairs "
   ]
  },
  {
   "cell_type": "code",
   "execution_count": 6,
   "id": "ed13efd6-520c-4d75-8da1-887b26d2a282",
   "metadata": {},
   "outputs": [
    {
     "data": {
      "text/plain": [
       "14.1    30\n",
       "16.2    29\n",
       "12.2    28\n",
       "3.2     28\n",
       "8.2     28\n",
       "        ..\n",
       "48.1     8\n",
       "46.1     7\n",
       "11.1     7\n",
       "46.2     6\n",
       "11.2     6\n",
       "Name: host_id, Length: 80, dtype: int64"
      ]
     },
     "execution_count": 6,
     "metadata": {},
     "output_type": "execute_result"
    }
   ],
   "source": [
    "#How many samples of a single host are there?\n",
    "meta['host_id'].value_counts()"
   ]
  },
  {
   "cell_type": "code",
   "execution_count": 7,
   "id": "1428fb6a-e37f-4277-b8f4-1d6e38deea6e",
   "metadata": {},
   "outputs": [
    {
     "name": "stdout",
     "output_type": "stream",
     "text": [
      "[2.1, 2.2, 3.1, 3.2, 4.1, 4.2, 5.1, 5.2, 6.1, 6.2, 8.1, 8.2, 10.1, 10.2, 11.1, 11.2, 12.1, 12.2, 13.1, 13.2, 14.1, 14.2, 15.1, 15.2, 16.1, 16.2, 17.1, 17.2, 18.1, 18.2, 19.1, 19.2, 20.1, 20.2, 21.1, 21.2, 23.1, 23.2, 24.1, 24.2, 25.1, 25.2, 26.1, 26.2, 27.1, 27.2, 28.1, 28.2, 29.1, 29.2, 30.1, 30.2, 32.1, 32.2, 33.1, 33.2, 35.1, 35.2, 36.1, 36.2, 37.1, 37.2, 39.1, 39.2, 40.1, 40.2, 42.1, 42.2, 43.1, 43.2, 44.1, 44.2, 45.1, 45.2, 46.1, 46.2, 47.1, 47.2, 48.1, 48.2]\n"
     ]
    }
   ],
   "source": [
    "#What different host IDs are there?\n",
    "hosts = meta['host_id'].unique()\n",
    "print(sorted(hosts))"
   ]
  },
  {
   "cell_type": "code",
   "execution_count": 8,
   "id": "39a5f9a2-a4b6-40f2-a0ff-ec7a2460c831",
   "metadata": {},
   "outputs": [
    {
     "data": {
      "text/html": [
       "<div>\n",
       "<style scoped>\n",
       "    .dataframe tbody tr th:only-of-type {\n",
       "        vertical-align: middle;\n",
       "    }\n",
       "\n",
       "    .dataframe tbody tr th {\n",
       "        vertical-align: top;\n",
       "    }\n",
       "\n",
       "    .dataframe thead th {\n",
       "        text-align: right;\n",
       "    }\n",
       "</style>\n",
       "<table border=\"1\" class=\"dataframe\">\n",
       "  <thead>\n",
       "    <tr style=\"text-align: right;\">\n",
       "      <th></th>\n",
       "      <th></th>\n",
       "      <th></th>\n",
       "    </tr>\n",
       "    <tr>\n",
       "      <th>host_id</th>\n",
       "      <th>collection_date</th>\n",
       "      <th>id</th>\n",
       "    </tr>\n",
       "  </thead>\n",
       "  <tbody>\n",
       "    <tr>\n",
       "      <th rowspan=\"5\" valign=\"top\">2.1</th>\n",
       "      <th>2010-03-01 00:00:00</th>\n",
       "      <th>ERR1310001</th>\n",
       "    </tr>\n",
       "    <tr>\n",
       "      <th>2010-04-02 00:00:00</th>\n",
       "      <th>ERR1311587</th>\n",
       "    </tr>\n",
       "    <tr>\n",
       "      <th>2010-04-24 00:00:00</th>\n",
       "      <th>ERR1310002</th>\n",
       "    </tr>\n",
       "    <tr>\n",
       "      <th>2010-06-13 00:00:00</th>\n",
       "      <th>ERR1310003</th>\n",
       "    </tr>\n",
       "    <tr>\n",
       "      <th>2010-06-25 00:00:00</th>\n",
       "      <th>ERR1311588</th>\n",
       "    </tr>\n",
       "    <tr>\n",
       "      <th>...</th>\n",
       "      <th>...</th>\n",
       "      <th>...</th>\n",
       "    </tr>\n",
       "    <tr>\n",
       "      <th rowspan=\"5\" valign=\"top\">48.2</th>\n",
       "      <th>2012-02-17 00:00:00</th>\n",
       "      <th>ERR1314824</th>\n",
       "    </tr>\n",
       "    <tr>\n",
       "      <th>2012-03-17 00:00:00</th>\n",
       "      <th>ERR1314827</th>\n",
       "    </tr>\n",
       "    <tr>\n",
       "      <th>2012-04-14 00:00:00</th>\n",
       "      <th>ERR1314458</th>\n",
       "    </tr>\n",
       "    <tr>\n",
       "      <th>2012-05-17 00:00:00</th>\n",
       "      <th>ERR1314837</th>\n",
       "    </tr>\n",
       "    <tr>\n",
       "      <th>2012-06-15 00:00:00</th>\n",
       "      <th>ERR1314650</th>\n",
       "    </tr>\n",
       "  </tbody>\n",
       "</table>\n",
       "<p>1669 rows × 0 columns</p>\n",
       "</div>"
      ],
      "text/plain": [
       "Empty DataFrame\n",
       "Columns: []\n",
       "Index: [(2.1, 2010-03-01 00:00:00, ERR1310001), (2.1, 2010-04-02 00:00:00, ERR1311587), (2.1, 2010-04-24 00:00:00, ERR1310002), (2.1, 2010-06-13 00:00:00, ERR1310003), (2.1, 2010-06-25 00:00:00, ERR1311588), (2.1, 2010-08-13 00:00:00, ERR1310657), (2.1, 2010-08-29 00:00:00, ERR1310004), (2.1, 2010-09-30 00:00:00, ERR1311589), (2.1, 2010-10-23 00:00:00, ERR1310658), (2.1, 2010-11-20 00:00:00, ERR1310005), (2.1, 2011-02-23 00:00:00, ERR1310659), (2.1, 2011-03-21 00:00:00, ERR1310006), (2.1, 2011-04-21 00:00:00, ERR1310007), (2.1, 2011-05-20 00:00:00, ERR1311590), (2.1, 2011-07-10 00:00:00, ERR1309847), (2.1, 2011-09-17 00:00:00, ERR1310524), (2.1, 2011-10-21 00:00:00, ERR1311591), (2.1, 2011-11-07 00:00:00, ERR1311592), (2.1, 2011-12-07 00:00:00, ERR1311593), (2.1, 2012-05-03 00:00:00, ERR1310525), (2.1, 2012-07-08 00:00:00, ERR1309848), (2.1, 2012-09-09 00:00:00, ERR1311585), (2.1, 2012-11-02 00:00:00, ERR1311586), (2.2, 2010-03-01 00:00:00, ERR1311594), (2.2, 2010-04-08 00:00:00, ERR1310008), (2.2, 2010-04-24 00:00:00, ERR1310009), (2.2, 2010-06-13 00:00:00, ERR1310010), (2.2, 2010-06-25 00:00:00, ERR1310661), (2.2, 2010-07-28 00:00:00, ERR1310662), (2.2, 2010-08-29 00:00:00, ERR1310011), (2.2, 2010-10-01 00:00:00, ERR1310012), (2.2, 2010-10-23 00:00:00, ERR1311596), (2.2, 2010-11-22 00:00:00, ERR1310013), (2.2, 2011-01-11 00:00:00, ERR1310014), (2.2, 2011-02-22 00:00:00, ERR1310016), (2.2, 2011-03-22 00:00:00, ERR1310663), (2.2, 2011-05-04 00:00:00, ERR1310664), (2.2, 2011-05-20 00:00:00, ERR1311597), (2.2, 2011-07-10 00:00:00, ERR1309849), (2.2, 2011-07-26 00:00:00, ERR1309850), (2.2, 2011-08-12 00:00:00, ERR1311598), (2.2, 2011-09-17 00:00:00, ERR1309851), (2.2, 2011-10-21 00:00:00, ERR1311599), (2.2, 2011-11-06 00:00:00, ERR1309852), (2.2, 2011-12-07 00:00:00, ERR1311600), (2.2, 2012-05-03 00:00:00, ERR1310526), (2.2, 2012-07-08 00:00:00, ERR1309853), (2.2, 2012-09-15 00:00:00, ERR1311595), (2.2, 2012-12-18 00:00:00, ERR1310660), (3.1, 2010-02-21 00:00:00, ERR1315031), (3.1, 2010-03-20 00:00:00, ERR1314998), (3.1, 2010-04-17 00:00:00, ERR1314828), (3.1, 2010-06-12 00:00:00, ERR1314203), (3.1, 2010-07-26 00:00:00, ERR1315467), (3.1, 2010-09-21 00:00:00, ERR1315071), (3.1, 2010-10-24 00:00:00, ERR1315189), (3.1, 2010-11-17 00:00:00, ERR1314860), (3.1, 2010-12-21 00:00:00, ERR1315089), (3.1, 2011-01-17 00:00:00, ERR1314814), (3.1, 2011-02-13 00:00:00, ERR1314261), (3.1, 2011-03-24 00:00:00, ERR1315173), (3.1, 2011-04-21 00:00:00, ERR1315036), (3.1, 2011-05-15 00:00:00, ERR1314639), (3.1, 2011-06-13 00:00:00, ERR1314286), (3.1, 2011-07-26 00:00:00, ERR1315468), (3.1, 2011-08-28 00:00:00, ERR1315600), (3.1, 2011-10-10 00:00:00, ERR1314109), (3.1, 2011-10-21 00:00:00, ERR1315074), (3.1, 2011-11-20 00:00:00, ERR1315020), (3.1, 2011-12-23 00:00:00, ERR1315162), (3.1, 2012-02-01 00:00:00, ERR1313301), (3.1, 2012-05-17 00:00:00, ERR1314832), (3.1, 2012-08-08 00:00:00, ERR1313916), (3.1, 2012-09-22 00:00:00, ERR1315118), (3.1, 2012-11-24 00:00:00, ERR1315202), (3.1, 2013-01-22 00:00:00, ERR1315095), (3.2, 2010-02-21 00:00:00, ERR1315032), (3.2, 2010-03-20 00:00:00, ERR1314999), (3.2, 2010-04-18 00:00:00, ERR1314888), (3.2, 2010-05-15 00:00:00, ERR1314640), (3.2, 2010-06-17 00:00:00, ERR1314844), (3.2, 2010-07-26 00:00:00, ERR1315469), (3.2, 2010-09-24 00:00:00, ERR1315188), (3.2, 2010-10-24 00:00:00, ERR1315190), (3.2, 2010-11-17 00:00:00, ERR1314861), (3.2, 2010-12-13 00:00:00, ERR1314448), (3.2, 2011-01-14 00:00:00, ERR1314449), (3.2, 2011-02-13 00:00:00, ERR1314262), (3.2, 2011-03-22 00:00:00, ERR1315096), (3.2, 2011-04-21 00:00:00, ERR1315037), (3.2, 2011-05-15 00:00:00, ERR1314641), (3.2, 2011-06-13 00:00:00, ERR1314287), (3.2, 2011-07-26 00:00:00, ERR1315470), (3.2, 2011-09-01 00:00:00, ERR1313320), (3.2, 2011-10-10 00:00:00, ERR1314110), (3.2, 2011-10-22 00:00:00, ERR1315120), (3.2, 2011-11-21 00:00:00, ERR1315080), (3.2, 2011-12-23 00:00:00, ERR1315163), (3.2, 2012-02-01 00:00:00, ERR1313302), (3.2, 2012-05-17 00:00:00, ERR1314833), ...]\n",
       "\n",
       "[1669 rows x 0 columns]"
      ]
     },
     "execution_count": 8,
     "metadata": {},
     "output_type": "execute_result"
    }
   ],
   "source": [
    "#list collection dates by host_id & sample ID (id)\n",
    "meta_id = meta[['id', 'collection_date', 'host_id']]\n",
    "meta_id_date = meta_id.groupby(['host_id', 'collection_date', 'id']).count()\n",
    "meta_id_date"
   ]
  },
  {
   "cell_type": "markdown",
   "id": "1ec19273-a518-4f75-8da8-01182706fd54",
   "metadata": {},
   "source": [
    "### 2. Distributions of different host characteristics\n",
    "\n",
    "**2.1 Gender**"
   ]
  },
  {
   "cell_type": "code",
   "execution_count": 7,
   "id": "ded4154f-22a4-4059-9b05-a32dec472b3a",
   "metadata": {},
   "outputs": [
    {
     "data": {
      "text/html": [
       "<div>\n",
       "<style scoped>\n",
       "    .dataframe tbody tr th:only-of-type {\n",
       "        vertical-align: middle;\n",
       "    }\n",
       "\n",
       "    .dataframe tbody tr th {\n",
       "        vertical-align: top;\n",
       "    }\n",
       "\n",
       "    .dataframe thead th {\n",
       "        text-align: right;\n",
       "    }\n",
       "</style>\n",
       "<table border=\"1\" class=\"dataframe\">\n",
       "  <thead>\n",
       "    <tr style=\"text-align: right;\">\n",
       "      <th></th>\n",
       "      <th>id</th>\n",
       "      <th>Library Layout</th>\n",
       "      <th>Instrument</th>\n",
       "      <th>collection_date</th>\n",
       "      <th>geo_location_name</th>\n",
       "      <th>geo_latitude</th>\n",
       "      <th>geo_longitude</th>\n",
       "      <th>host_id</th>\n",
       "      <th>age_days</th>\n",
       "      <th>weight_kg</th>\n",
       "      <th>...</th>\n",
       "      <th>birth_length_cm</th>\n",
       "      <th>sex</th>\n",
       "      <th>delivery_mode</th>\n",
       "      <th>zygosity</th>\n",
       "      <th>race</th>\n",
       "      <th>ethnicity</th>\n",
       "      <th>delivery_preterm</th>\n",
       "      <th>diet_milk</th>\n",
       "      <th>diet_weaning</th>\n",
       "      <th>age_months</th>\n",
       "    </tr>\n",
       "  </thead>\n",
       "  <tbody>\n",
       "    <tr>\n",
       "      <th>0</th>\n",
       "      <td>ERR1314182</td>\n",
       "      <td>PAIRED</td>\n",
       "      <td>Illumina MiSeq</td>\n",
       "      <td>2011-11-11 00:00:00</td>\n",
       "      <td>USA, Missouri, St. Louis</td>\n",
       "      <td>38.63699</td>\n",
       "      <td>-90.263794</td>\n",
       "      <td>42.1</td>\n",
       "      <td>232.0</td>\n",
       "      <td>NaN</td>\n",
       "      <td>...</td>\n",
       "      <td>47.0</td>\n",
       "      <td>male</td>\n",
       "      <td>Cesarean</td>\n",
       "      <td>Monozygotic</td>\n",
       "      <td>Caucasian</td>\n",
       "      <td>Not Hispanic</td>\n",
       "      <td>True</td>\n",
       "      <td>fd</td>\n",
       "      <td>True</td>\n",
       "      <td>8.0</td>\n",
       "    </tr>\n",
       "    <tr>\n",
       "      <th>1</th>\n",
       "      <td>ERR1314183</td>\n",
       "      <td>PAIRED</td>\n",
       "      <td>Illumina MiSeq</td>\n",
       "      <td>2010-12-11 00:00:00</td>\n",
       "      <td>USA, Missouri, St. Louis</td>\n",
       "      <td>38.63699</td>\n",
       "      <td>-90.263794</td>\n",
       "      <td>27.2</td>\n",
       "      <td>192.0</td>\n",
       "      <td>NaN</td>\n",
       "      <td>...</td>\n",
       "      <td>45.0</td>\n",
       "      <td>female</td>\n",
       "      <td>Cesarean</td>\n",
       "      <td>Dizygotic</td>\n",
       "      <td>Caucasian</td>\n",
       "      <td>Hispanic</td>\n",
       "      <td>True</td>\n",
       "      <td>fd</td>\n",
       "      <td>True</td>\n",
       "      <td>6.0</td>\n",
       "    </tr>\n",
       "    <tr>\n",
       "      <th>2</th>\n",
       "      <td>ERR1314184</td>\n",
       "      <td>PAIRED</td>\n",
       "      <td>Illumina MiSeq</td>\n",
       "      <td>2011-12-11 00:00:00</td>\n",
       "      <td>USA, Missouri, St. Louis</td>\n",
       "      <td>38.63699</td>\n",
       "      <td>-90.263794</td>\n",
       "      <td>28.1</td>\n",
       "      <td>536.0</td>\n",
       "      <td>NaN</td>\n",
       "      <td>...</td>\n",
       "      <td>51.0</td>\n",
       "      <td>female</td>\n",
       "      <td>Cesarean</td>\n",
       "      <td>Monozygotic</td>\n",
       "      <td>Caucasian</td>\n",
       "      <td>Not Hispanic</td>\n",
       "      <td>False</td>\n",
       "      <td>NaN</td>\n",
       "      <td>NaN</td>\n",
       "      <td>18.0</td>\n",
       "    </tr>\n",
       "    <tr>\n",
       "      <th>3</th>\n",
       "      <td>ERR1314185</td>\n",
       "      <td>PAIRED</td>\n",
       "      <td>Illumina MiSeq</td>\n",
       "      <td>2011-12-11 00:00:00</td>\n",
       "      <td>USA, Missouri, St. Louis</td>\n",
       "      <td>38.63699</td>\n",
       "      <td>-90.263794</td>\n",
       "      <td>28.2</td>\n",
       "      <td>537.0</td>\n",
       "      <td>NaN</td>\n",
       "      <td>...</td>\n",
       "      <td>50.0</td>\n",
       "      <td>female</td>\n",
       "      <td>Cesarean</td>\n",
       "      <td>Monozygotic</td>\n",
       "      <td>Caucasian</td>\n",
       "      <td>Not Hispanic</td>\n",
       "      <td>False</td>\n",
       "      <td>NaN</td>\n",
       "      <td>NaN</td>\n",
       "      <td>18.0</td>\n",
       "    </tr>\n",
       "    <tr>\n",
       "      <th>4</th>\n",
       "      <td>ERR1314186</td>\n",
       "      <td>PAIRED</td>\n",
       "      <td>Illumina MiSeq</td>\n",
       "      <td>2013-01-12 00:00:00</td>\n",
       "      <td>USA, Missouri, St. Louis</td>\n",
       "      <td>38.63699</td>\n",
       "      <td>-90.263794</td>\n",
       "      <td>39.2</td>\n",
       "      <td>688.0</td>\n",
       "      <td>NaN</td>\n",
       "      <td>...</td>\n",
       "      <td>48.0</td>\n",
       "      <td>male</td>\n",
       "      <td>Cesarean</td>\n",
       "      <td>Monozygotic</td>\n",
       "      <td>African-American</td>\n",
       "      <td>Not Hispanic</td>\n",
       "      <td>True</td>\n",
       "      <td>NaN</td>\n",
       "      <td>NaN</td>\n",
       "      <td>23.0</td>\n",
       "    </tr>\n",
       "    <tr>\n",
       "      <th>...</th>\n",
       "      <td>...</td>\n",
       "      <td>...</td>\n",
       "      <td>...</td>\n",
       "      <td>...</td>\n",
       "      <td>...</td>\n",
       "      <td>...</td>\n",
       "      <td>...</td>\n",
       "      <td>...</td>\n",
       "      <td>...</td>\n",
       "      <td>...</td>\n",
       "      <td>...</td>\n",
       "      <td>...</td>\n",
       "      <td>...</td>\n",
       "      <td>...</td>\n",
       "      <td>...</td>\n",
       "      <td>...</td>\n",
       "      <td>...</td>\n",
       "      <td>...</td>\n",
       "      <td>...</td>\n",
       "      <td>...</td>\n",
       "      <td>...</td>\n",
       "    </tr>\n",
       "    <tr>\n",
       "      <th>936</th>\n",
       "      <td>ERR1310645</td>\n",
       "      <td>PAIRED</td>\n",
       "      <td>Illumina MiSeq</td>\n",
       "      <td>2010-10-23 00:00:00</td>\n",
       "      <td>USA, Missouri, St. Louis</td>\n",
       "      <td>38.63699</td>\n",
       "      <td>-90.263794</td>\n",
       "      <td>19.1</td>\n",
       "      <td>182.0</td>\n",
       "      <td>6.917</td>\n",
       "      <td>...</td>\n",
       "      <td>47.0</td>\n",
       "      <td>male</td>\n",
       "      <td>Cesarean</td>\n",
       "      <td>Monozygotic</td>\n",
       "      <td>Caucasian</td>\n",
       "      <td>Not Hispanic</td>\n",
       "      <td>True</td>\n",
       "      <td>bd</td>\n",
       "      <td>True</td>\n",
       "      <td>6.0</td>\n",
       "    </tr>\n",
       "    <tr>\n",
       "      <th>946</th>\n",
       "      <td>ERR1310554</td>\n",
       "      <td>PAIRED</td>\n",
       "      <td>Illumina MiSeq</td>\n",
       "      <td>2012-04-14 00:00:00</td>\n",
       "      <td>USA, Missouri, St. Louis</td>\n",
       "      <td>38.63699</td>\n",
       "      <td>-90.263794</td>\n",
       "      <td>24.2</td>\n",
       "      <td>710.0</td>\n",
       "      <td>13.353</td>\n",
       "      <td>...</td>\n",
       "      <td>48.0</td>\n",
       "      <td>male</td>\n",
       "      <td>Cesarean</td>\n",
       "      <td>Dizygotic</td>\n",
       "      <td>Caucasian</td>\n",
       "      <td>Not Hispanic</td>\n",
       "      <td>False</td>\n",
       "      <td>NaN</td>\n",
       "      <td>NaN</td>\n",
       "      <td>23.0</td>\n",
       "    </tr>\n",
       "    <tr>\n",
       "      <th>956</th>\n",
       "      <td>ERR1310464</td>\n",
       "      <td>PAIRED</td>\n",
       "      <td>Illumina MiSeq</td>\n",
       "      <td>2010-09-03 00:00:00</td>\n",
       "      <td>USA, Missouri, St. Louis</td>\n",
       "      <td>38.63699</td>\n",
       "      <td>-90.263794</td>\n",
       "      <td>11.2</td>\n",
       "      <td>156.0</td>\n",
       "      <td>NaN</td>\n",
       "      <td>...</td>\n",
       "      <td>50.0</td>\n",
       "      <td>male</td>\n",
       "      <td>Vaginal</td>\n",
       "      <td>Dizygotic</td>\n",
       "      <td>Caucasian</td>\n",
       "      <td>Not Hispanic</td>\n",
       "      <td>False</td>\n",
       "      <td>fd</td>\n",
       "      <td>True</td>\n",
       "      <td>5.0</td>\n",
       "    </tr>\n",
       "    <tr>\n",
       "      <th>995</th>\n",
       "      <td>ERR1310538</td>\n",
       "      <td>PAIRED</td>\n",
       "      <td>Illumina MiSeq</td>\n",
       "      <td>2011-07-19 00:00:00</td>\n",
       "      <td>USA, Missouri, St. Louis</td>\n",
       "      <td>38.63699</td>\n",
       "      <td>-90.263794</td>\n",
       "      <td>24.1</td>\n",
       "      <td>441.0</td>\n",
       "      <td>11.751</td>\n",
       "      <td>...</td>\n",
       "      <td>48.0</td>\n",
       "      <td>male</td>\n",
       "      <td>Cesarean</td>\n",
       "      <td>Dizygotic</td>\n",
       "      <td>Caucasian</td>\n",
       "      <td>Not Hispanic</td>\n",
       "      <td>False</td>\n",
       "      <td>NaN</td>\n",
       "      <td>NaN</td>\n",
       "      <td>14.0</td>\n",
       "    </tr>\n",
       "    <tr>\n",
       "      <th>1222</th>\n",
       "      <td>ERR1310062</td>\n",
       "      <td>PAIRED</td>\n",
       "      <td>Illumina MiSeq</td>\n",
       "      <td>2010-10-24 00:00:00</td>\n",
       "      <td>USA, Missouri, St. Louis</td>\n",
       "      <td>38.63699</td>\n",
       "      <td>-90.263794</td>\n",
       "      <td>26.1</td>\n",
       "      <td>158.0</td>\n",
       "      <td>NaN</td>\n",
       "      <td>...</td>\n",
       "      <td>49.0</td>\n",
       "      <td>female</td>\n",
       "      <td>Vaginal</td>\n",
       "      <td>Dizygotic</td>\n",
       "      <td>Caucasian</td>\n",
       "      <td>Not Hispanic</td>\n",
       "      <td>False</td>\n",
       "      <td>fd</td>\n",
       "      <td>True</td>\n",
       "      <td>5.0</td>\n",
       "    </tr>\n",
       "  </tbody>\n",
       "</table>\n",
       "<p>80 rows × 26 columns</p>\n",
       "</div>"
      ],
      "text/plain": [
       "              id Library Layout      Instrument      collection_date  \\\n",
       "0     ERR1314182         PAIRED  Illumina MiSeq  2011-11-11 00:00:00   \n",
       "1     ERR1314183         PAIRED  Illumina MiSeq  2010-12-11 00:00:00   \n",
       "2     ERR1314184         PAIRED  Illumina MiSeq  2011-12-11 00:00:00   \n",
       "3     ERR1314185         PAIRED  Illumina MiSeq  2011-12-11 00:00:00   \n",
       "4     ERR1314186         PAIRED  Illumina MiSeq  2013-01-12 00:00:00   \n",
       "...          ...            ...             ...                  ...   \n",
       "936   ERR1310645         PAIRED  Illumina MiSeq  2010-10-23 00:00:00   \n",
       "946   ERR1310554         PAIRED  Illumina MiSeq  2012-04-14 00:00:00   \n",
       "956   ERR1310464         PAIRED  Illumina MiSeq  2010-09-03 00:00:00   \n",
       "995   ERR1310538         PAIRED  Illumina MiSeq  2011-07-19 00:00:00   \n",
       "1222  ERR1310062         PAIRED  Illumina MiSeq  2010-10-24 00:00:00   \n",
       "\n",
       "             geo_location_name  geo_latitude  geo_longitude  host_id  \\\n",
       "0     USA, Missouri, St. Louis      38.63699     -90.263794     42.1   \n",
       "1     USA, Missouri, St. Louis      38.63699     -90.263794     27.2   \n",
       "2     USA, Missouri, St. Louis      38.63699     -90.263794     28.1   \n",
       "3     USA, Missouri, St. Louis      38.63699     -90.263794     28.2   \n",
       "4     USA, Missouri, St. Louis      38.63699     -90.263794     39.2   \n",
       "...                        ...           ...            ...      ...   \n",
       "936   USA, Missouri, St. Louis      38.63699     -90.263794     19.1   \n",
       "946   USA, Missouri, St. Louis      38.63699     -90.263794     24.2   \n",
       "956   USA, Missouri, St. Louis      38.63699     -90.263794     11.2   \n",
       "995   USA, Missouri, St. Louis      38.63699     -90.263794     24.1   \n",
       "1222  USA, Missouri, St. Louis      38.63699     -90.263794     26.1   \n",
       "\n",
       "      age_days  weight_kg  ...  birth_length_cm     sex  delivery_mode  \\\n",
       "0        232.0        NaN  ...             47.0    male       Cesarean   \n",
       "1        192.0        NaN  ...             45.0  female       Cesarean   \n",
       "2        536.0        NaN  ...             51.0  female       Cesarean   \n",
       "3        537.0        NaN  ...             50.0  female       Cesarean   \n",
       "4        688.0        NaN  ...             48.0    male       Cesarean   \n",
       "...        ...        ...  ...              ...     ...            ...   \n",
       "936      182.0      6.917  ...             47.0    male       Cesarean   \n",
       "946      710.0     13.353  ...             48.0    male       Cesarean   \n",
       "956      156.0        NaN  ...             50.0    male        Vaginal   \n",
       "995      441.0     11.751  ...             48.0    male       Cesarean   \n",
       "1222     158.0        NaN  ...             49.0  female        Vaginal   \n",
       "\n",
       "         zygosity              race     ethnicity  delivery_preterm diet_milk  \\\n",
       "0     Monozygotic         Caucasian  Not Hispanic              True        fd   \n",
       "1       Dizygotic         Caucasian      Hispanic              True        fd   \n",
       "2     Monozygotic         Caucasian  Not Hispanic             False       NaN   \n",
       "3     Monozygotic         Caucasian  Not Hispanic             False       NaN   \n",
       "4     Monozygotic  African-American  Not Hispanic              True       NaN   \n",
       "...           ...               ...           ...               ...       ...   \n",
       "936   Monozygotic         Caucasian  Not Hispanic              True        bd   \n",
       "946     Dizygotic         Caucasian  Not Hispanic             False       NaN   \n",
       "956     Dizygotic         Caucasian  Not Hispanic             False        fd   \n",
       "995     Dizygotic         Caucasian  Not Hispanic             False       NaN   \n",
       "1222    Dizygotic         Caucasian  Not Hispanic             False        fd   \n",
       "\n",
       "     diet_weaning age_months  \n",
       "0            True        8.0  \n",
       "1            True        6.0  \n",
       "2             NaN       18.0  \n",
       "3             NaN       18.0  \n",
       "4             NaN       23.0  \n",
       "...           ...        ...  \n",
       "936          True        6.0  \n",
       "946           NaN       23.0  \n",
       "956          True        5.0  \n",
       "995           NaN       14.0  \n",
       "1222         True        5.0  \n",
       "\n",
       "[80 rows x 26 columns]"
      ]
     },
     "execution_count": 7,
     "metadata": {},
     "output_type": "execute_result"
    }
   ],
   "source": [
    "#Drop duplicates in host id\n",
    "meta_ind = meta.drop_duplicates(subset = ['host_id'])\n",
    "meta_ind"
   ]
  },
  {
   "cell_type": "code",
   "execution_count": 8,
   "id": "afed5d1e-efe4-4415-886b-4986b0ad74fb",
   "metadata": {},
   "outputs": [
    {
     "data": {
      "image/png": "[encoded data removed]",
      "text/plain": [
       "<Figure size 432x288 with 1 Axes>"
      ]
     },
     "metadata": {
      "needs_background": "light"
     },
     "output_type": "display_data"
    }
   ],
   "source": [
    "#Gender frequency \n",
    "meta_ind['sex'].value_counts().plot(kind='bar')\n",
    "plt.ylabel('Frequency')\n",
    "plt.title('Gender frequency')\n",
    "plt.show()"
   ]
  },
  {
   "cell_type": "code",
   "execution_count": 10,
   "id": "651c1ff2-8a0e-473f-a719-f1212d2452c0",
   "metadata": {},
   "outputs": [
    {
     "data": {
      "text/plain": [
       "sex   \n",
       "male      41\n",
       "female    39\n",
       "dtype: int64"
      ]
     },
     "execution_count": 10,
     "metadata": {},
     "output_type": "execute_result"
    }
   ],
   "source": [
    "#Total count of sexes\n",
    "meta_ind.apply(set(['sex']), axis = 1).value_counts()"
   ]
  },
  {
   "cell_type": "code",
   "execution_count": 31,
   "id": "a3567c20-e19d-44a8-a42f-e620807f991f",
   "metadata": {},
   "outputs": [
    {
     "data": {
      "text/html": [
       "<div>\n",
       "<style scoped>\n",
       "    .dataframe tbody tr th:only-of-type {\n",
       "        vertical-align: middle;\n",
       "    }\n",
       "\n",
       "    .dataframe tbody tr th {\n",
       "        vertical-align: top;\n",
       "    }\n",
       "\n",
       "    .dataframe thead th {\n",
       "        text-align: right;\n",
       "    }\n",
       "</style>\n",
       "<table border=\"1\" class=\"dataframe\">\n",
       "  <thead>\n",
       "    <tr style=\"text-align: right;\">\n",
       "      <th></th>\n",
       "      <th></th>\n",
       "    </tr>\n",
       "    <tr>\n",
       "      <th>host_id</th>\n",
       "      <th>sex</th>\n",
       "    </tr>\n",
       "  </thead>\n",
       "  <tbody>\n",
       "    <tr>\n",
       "      <th>2.1</th>\n",
       "      <th>male</th>\n",
       "    </tr>\n",
       "    <tr>\n",
       "      <th>2.2</th>\n",
       "      <th>male</th>\n",
       "    </tr>\n",
       "    <tr>\n",
       "      <th>3.1</th>\n",
       "      <th>male</th>\n",
       "    </tr>\n",
       "    <tr>\n",
       "      <th>3.2</th>\n",
       "      <th>male</th>\n",
       "    </tr>\n",
       "    <tr>\n",
       "      <th>4.1</th>\n",
       "      <th>female</th>\n",
       "    </tr>\n",
       "    <tr>\n",
       "      <th>...</th>\n",
       "      <th>...</th>\n",
       "    </tr>\n",
       "    <tr>\n",
       "      <th>46.2</th>\n",
       "      <th>male</th>\n",
       "    </tr>\n",
       "    <tr>\n",
       "      <th>47.1</th>\n",
       "      <th>male</th>\n",
       "    </tr>\n",
       "    <tr>\n",
       "      <th>47.2</th>\n",
       "      <th>male</th>\n",
       "    </tr>\n",
       "    <tr>\n",
       "      <th>48.1</th>\n",
       "      <th>female</th>\n",
       "    </tr>\n",
       "    <tr>\n",
       "      <th>48.2</th>\n",
       "      <th>female</th>\n",
       "    </tr>\n",
       "  </tbody>\n",
       "</table>\n",
       "<p>80 rows × 0 columns</p>\n",
       "</div>"
      ],
      "text/plain": [
       "Empty DataFrame\n",
       "Columns: []\n",
       "Index: [(2.1, male), (2.2, male), (3.1, male), (3.2, male), (4.1, female), (4.2, male), (5.1, male), (5.2, male), (6.1, female), (6.2, female), (8.1, male), (8.2, female), (10.1, female), (10.2, male), (11.1, male), (11.2, male), (12.1, female), (12.2, female), (13.1, female), (13.2, female), (14.1, male), (14.2, female), (15.1, male), (15.2, male), (16.1, female), (16.2, female), (17.1, female), (17.2, male), (18.1, female), (18.2, female), (19.1, male), (19.2, male), (20.1, male), (20.2, male), (21.1, female), (21.2, female), (23.1, male), (23.2, male), (24.1, male), (24.2, male), (25.1, female), (25.2, female), (26.1, female), (26.2, female), (27.1, female), (27.2, female), (28.1, female), (28.2, female), (29.1, female), (29.2, female), (30.1, female), (30.2, female), (32.1, male), (32.2, male), (33.1, female), (33.2, female), (35.1, female), (35.2, female), (36.1, male), (36.2, male), (37.1, female), (37.2, female), (39.1, male), (39.2, male), (40.1, female), (40.2, female), (42.1, male), (42.2, male), (43.1, male), (43.2, male), (44.1, male), (44.2, male), (45.1, male), (45.2, male), (46.1, male), (46.2, male), (47.1, male), (47.2, male), (48.1, female), (48.2, female)]\n",
       "\n",
       "[80 rows x 0 columns]"
      ]
     },
     "execution_count": 31,
     "metadata": {},
     "output_type": "execute_result"
    }
   ],
   "source": [
    "#List of gender frequency \n",
    "meta_sex = meta.loc[:, ['host_id', 'sex']]\n",
    "meta_id_sex = meta_sex.groupby(['host_id', 'sex']).count()\n",
    "meta_id_sex"
   ]
  },
  {
   "cell_type": "markdown",
   "id": "c79988ca-0f01-4dfa-8ded-4ecf7ae20924",
   "metadata": {},
   "source": [
    "**2.2 Zygosity**"
   ]
  },
  {
   "cell_type": "code",
   "execution_count": 11,
   "id": "5f83ee25-1299-4b0f-ad5d-bc9a1ac3a33b",
   "metadata": {},
   "outputs": [
    {
     "data": {
      "image/png": "[encoded data removed]",
      "text/plain": [
       "<Figure size 432x288 with 1 Axes>"
      ]
     },
     "metadata": {
      "needs_background": "light"
     },
     "output_type": "display_data"
    }
   ],
   "source": [
    "#Zygosity frequency \n",
    "meta_ind['zygosity'].value_counts().plot(kind='bar')\n",
    "plt.ylabel('Frequency')\n",
    "plt.title('Zygosity frequency')\n",
    "plt.show()"
   ]
  },
  {
   "cell_type": "code",
   "execution_count": 12,
   "id": "3a5e16e3-957a-4008-bc50-6494bd34264c",
   "metadata": {},
   "outputs": [
    {
     "data": {
      "text/plain": [
       "zygosity   \n",
       "Monozygotic    42\n",
       "Dizygotic      36\n",
       "Unknown         2\n",
       "dtype: int64"
      ]
     },
     "execution_count": 12,
     "metadata": {},
     "output_type": "execute_result"
    }
   ],
   "source": [
    "#Total count of zygosity\n",
    "meta_ind.apply(set(['zygosity']), axis = 1).value_counts()"
   ]
  },
  {
   "cell_type": "code",
   "execution_count": 37,
   "id": "63069fcc-db0f-44fd-bcf7-23fd196f013d",
   "metadata": {},
   "outputs": [
    {
     "data": {
      "text/html": [
       "<div>\n",
       "<style scoped>\n",
       "    .dataframe tbody tr th:only-of-type {\n",
       "        vertical-align: middle;\n",
       "    }\n",
       "\n",
       "    .dataframe tbody tr th {\n",
       "        vertical-align: top;\n",
       "    }\n",
       "\n",
       "    .dataframe thead th {\n",
       "        text-align: right;\n",
       "    }\n",
       "</style>\n",
       "<table border=\"1\" class=\"dataframe\">\n",
       "  <thead>\n",
       "    <tr style=\"text-align: right;\">\n",
       "      <th></th>\n",
       "      <th></th>\n",
       "    </tr>\n",
       "    <tr>\n",
       "      <th>host_id</th>\n",
       "      <th>zygosity</th>\n",
       "    </tr>\n",
       "  </thead>\n",
       "  <tbody>\n",
       "    <tr>\n",
       "      <th>2.1</th>\n",
       "      <th>Dizygotic</th>\n",
       "    </tr>\n",
       "    <tr>\n",
       "      <th>2.2</th>\n",
       "      <th>Dizygotic</th>\n",
       "    </tr>\n",
       "    <tr>\n",
       "      <th>3.1</th>\n",
       "      <th>Monozygotic</th>\n",
       "    </tr>\n",
       "    <tr>\n",
       "      <th>3.2</th>\n",
       "      <th>Monozygotic</th>\n",
       "    </tr>\n",
       "    <tr>\n",
       "      <th>4.1</th>\n",
       "      <th>Dizygotic</th>\n",
       "    </tr>\n",
       "    <tr>\n",
       "      <th>...</th>\n",
       "      <th>...</th>\n",
       "    </tr>\n",
       "    <tr>\n",
       "      <th>46.2</th>\n",
       "      <th>Dizygotic</th>\n",
       "    </tr>\n",
       "    <tr>\n",
       "      <th>47.1</th>\n",
       "      <th>Monozygotic</th>\n",
       "    </tr>\n",
       "    <tr>\n",
       "      <th>47.2</th>\n",
       "      <th>Monozygotic</th>\n",
       "    </tr>\n",
       "    <tr>\n",
       "      <th>48.1</th>\n",
       "      <th>Monozygotic</th>\n",
       "    </tr>\n",
       "    <tr>\n",
       "      <th>48.2</th>\n",
       "      <th>Monozygotic</th>\n",
       "    </tr>\n",
       "  </tbody>\n",
       "</table>\n",
       "<p>80 rows × 0 columns</p>\n",
       "</div>"
      ],
      "text/plain": [
       "Empty DataFrame\n",
       "Columns: []\n",
       "Index: [(2.1, Dizygotic), (2.2, Dizygotic), (3.1, Monozygotic), (3.2, Monozygotic), (4.1, Dizygotic), (4.2, Dizygotic), (5.1, Dizygotic), (5.2, Dizygotic), (6.1, Unknown), (6.2, Unknown), (8.1, Dizygotic), (8.2, Dizygotic), (10.1, Dizygotic), (10.2, Dizygotic), (11.1, Dizygotic), (11.2, Dizygotic), (12.1, Monozygotic), (12.2, Monozygotic), (13.1, Monozygotic), (13.2, Monozygotic), (14.1, Dizygotic), (14.2, Dizygotic), (15.1, Monozygotic), (15.2, Monozygotic), (16.1, Dizygotic), (16.2, Dizygotic), (17.1, Dizygotic), (17.2, Dizygotic), (18.1, Dizygotic), (18.2, Dizygotic), (19.1, Monozygotic), (19.2, Monozygotic), (20.1, Monozygotic), (20.2, Monozygotic), (21.1, Monozygotic), (21.2, Monozygotic), (23.1, Dizygotic), (23.2, Dizygotic), (24.1, Dizygotic), (24.2, Dizygotic), (25.1, Monozygotic), (25.2, Monozygotic), (26.1, Dizygotic), (26.2, Dizygotic), (27.1, Dizygotic), (27.2, Dizygotic), (28.1, Monozygotic), (28.2, Monozygotic), (29.1, Dizygotic), (29.2, Dizygotic), (30.1, Monozygotic), (30.2, Monozygotic), (32.1, Monozygotic), (32.2, Monozygotic), (33.1, Dizygotic), (33.2, Dizygotic), (35.1, Monozygotic), (35.2, Monozygotic), (36.1, Monozygotic), (36.2, Monozygotic), (37.1, Monozygotic), (37.2, Monozygotic), (39.1, Monozygotic), (39.2, Monozygotic), (40.1, Monozygotic), (40.2, Monozygotic), (42.1, Monozygotic), (42.2, Monozygotic), (43.1, Monozygotic), (43.2, Monozygotic), (44.1, Monozygotic), (44.2, Monozygotic), (45.1, Dizygotic), (45.2, Dizygotic), (46.1, Dizygotic), (46.2, Dizygotic), (47.1, Monozygotic), (47.2, Monozygotic), (48.1, Monozygotic), (48.2, Monozygotic)]\n",
       "\n",
       "[80 rows x 0 columns]"
      ]
     },
     "execution_count": 37,
     "metadata": {},
     "output_type": "execute_result"
    }
   ],
   "source": [
    "#Real zygosity frequency \n",
    "meta_zyg = meta.loc[:, ['host_id', 'zygosity']]\n",
    "meta_id_zyg = meta_zyg.groupby(['host_id', 'zygosity']).count()\n",
    "meta_id_zyg"
   ]
  },
  {
   "cell_type": "markdown",
   "id": "8484f026-6576-4d6f-a7c5-9aca5c335ceb",
   "metadata": {},
   "source": [
    "**2.3 Delivery**\n",
    "\n",
    "*2.3.1 Mode of delivery*"
   ]
  },
  {
   "cell_type": "code",
   "execution_count": 27,
   "id": "44c1a516-d312-4a8b-8ce0-b253377de975",
   "metadata": {},
   "outputs": [
    {
     "data": {
      "image/png": "[encoded data removed]",
      "text/plain": [
       "<Figure size 432x288 with 1 Axes>"
      ]
     },
     "metadata": {
      "needs_background": "light"
     },
     "output_type": "display_data"
    }
   ],
   "source": [
    "#Frequency of delivery mode \n",
    "meta_ind['delivery_mode'].value_counts().plot(kind='bar')\n",
    "plt.ylabel('Frequency')\n",
    "plt.title('Delivery Mode')\n",
    "plt.show()"
   ]
  },
  {
   "cell_type": "code",
   "execution_count": 28,
   "id": "82cbf115-7832-4cd4-be4c-964b3b847e1f",
   "metadata": {},
   "outputs": [
    {
     "data": {
      "text/plain": [
       "delivery_mode     \n",
       "Cesarean              48\n",
       "Vaginal               29\n",
       "Cesarean_emergency     3\n",
       "dtype: int64"
      ]
     },
     "execution_count": 28,
     "metadata": {},
     "output_type": "execute_result"
    }
   ],
   "source": [
    "#Total count of different delivery modes\n",
    "meta_ind.apply(set(['delivery_mode']), axis = 1).value_counts()"
   ]
  },
  {
   "cell_type": "markdown",
   "id": "828b686a-8e8e-45e9-ae9b-64af08c3cf28",
   "metadata": {},
   "source": [
    "*2.3.2 Term of delivery*"
   ]
  },
  {
   "cell_type": "code",
   "execution_count": 35,
   "id": "aa13bb84-7410-4d17-a601-8012b19e3f0f",
   "metadata": {},
   "outputs": [
    {
     "data": {
      "image/png": "[encoded data removed]",
      "text/plain": [
       "<Figure size 432x288 with 1 Axes>"
      ]
     },
     "metadata": {
      "needs_background": "light"
     },
     "output_type": "display_data"
    }
   ],
   "source": [
    "#Term of delivery \n",
    "meta_ind['delivery_preterm'].value_counts().plot(kind='bar')\n",
    "plt.ylabel('Frequency')\n",
    "plt.title('Preterm delivery')\n",
    "plt.show()"
   ]
  },
  {
   "cell_type": "markdown",
   "id": "812e6a99-fbb7-4aaf-9715-ec81b4c9e564",
   "metadata": {},
   "source": [
    "**2.4 Race & Ethnicity**"
   ]
  },
  {
   "cell_type": "markdown",
   "id": "75f59d0d-e4a2-4b9a-9bd0-4ed155638fac",
   "metadata": {},
   "source": [
    "*2.4.1 Race*"
   ]
  },
  {
   "cell_type": "code",
   "execution_count": 29,
   "id": "2c51ea89-6b3e-4410-9025-419f63a2d184",
   "metadata": {},
   "outputs": [
    {
     "data": {
      "image/png": "[encoded data removed]",
      "text/plain": [
       "<Figure size 432x288 with 1 Axes>"
      ]
     },
     "metadata": {
      "needs_background": "light"
     },
     "output_type": "display_data"
    }
   ],
   "source": [
    "#Race distribution\n",
    "meta_ind['race'].value_counts().plot(kind='bar')\n",
    "plt.ylabel('Frequency')\n",
    "plt.title('Race distribution')\n",
    "plt.show()"
   ]
  },
  {
   "cell_type": "code",
   "execution_count": 30,
   "id": "77b7e91c-f272-4fbf-9518-10e3d7475627",
   "metadata": {},
   "outputs": [
    {
     "data": {
      "text/plain": [
       "race            \n",
       "Caucasian           70\n",
       "African-American    10\n",
       "dtype: int64"
      ]
     },
     "execution_count": 30,
     "metadata": {},
     "output_type": "execute_result"
    }
   ],
   "source": [
    "#Total count of races\n",
    "meta_ind.apply(set(['race']), axis = 1).value_counts()"
   ]
  },
  {
   "cell_type": "markdown",
   "id": "c8403ac4-2bfc-4476-9aa5-940be042b152",
   "metadata": {},
   "source": [
    "*2.4.2 Ethnicity*"
   ]
  },
  {
   "cell_type": "code",
   "execution_count": 32,
   "id": "f963fee7-442e-4f66-b804-a7ab5a21d19c",
   "metadata": {},
   "outputs": [
    {
     "data": {
      "image/png": "[encoded data removed]",
      "text/plain": [
       "<Figure size 432x288 with 1 Axes>"
      ]
     },
     "metadata": {
      "needs_background": "light"
     },
     "output_type": "display_data"
    }
   ],
   "source": [
    "#Ethnicity distribution\n",
    "meta_ind['ethnicity'].value_counts().plot(kind='bar')\n",
    "plt.ylabel('Frequency')\n",
    "plt.title('Ethnicities')\n",
    "plt.show()"
   ]
  },
  {
   "cell_type": "code",
   "execution_count": 33,
   "id": "774ef2fd-9851-4c15-995c-707bc84ff96b",
   "metadata": {},
   "outputs": [
    {
     "data": {
      "text/plain": [
       "ethnicity   \n",
       "Not Hispanic    74\n",
       "Hispanic         6\n",
       "dtype: int64"
      ]
     },
     "execution_count": 33,
     "metadata": {},
     "output_type": "execute_result"
    }
   ],
   "source": [
    "#Total count of hispanics\n",
    "meta_ind.apply(set(['ethnicity']), axis = 1).value_counts()"
   ]
  },
  {
   "cell_type": "markdown",
   "id": "b06b5f98-c038-41cb-810a-cc061f6d8059",
   "metadata": {},
   "source": [
    "**2.5 Birth weight & height**"
   ]
  },
  {
   "cell_type": "markdown",
   "id": "af194973-c7ec-4bcb-a5ee-9e1b98e38ba5",
   "metadata": {},
   "source": [
    "*2.5.1 Birth weight*"
   ]
  },
  {
   "cell_type": "code",
   "execution_count": 24,
   "id": "b1912b8f-6548-4084-ab59-a795becec3c9",
   "metadata": {},
   "outputs": [
    {
     "data": {
      "image/png": "[encoded data removed]",
      "text/plain": [
       "<Figure size 432x288 with 1 Axes>"
      ]
     },
     "metadata": {
      "needs_background": "light"
     },
     "output_type": "display_data"
    }
   ],
   "source": [
    "#Histogram of birth weights (g) of hosts \n",
    "meta_ind.hist(['birth_weight_g'], grid = False)\n",
    "plt.ylabel('Number of hosts')\n",
    "plt.xlabel('Birth weight (g)')\n",
    "plt.title('Birth Weight Distribution')\n",
    "plt.show()"
   ]
  },
  {
   "cell_type": "markdown",
   "id": "54c94ea0-c262-434a-a8dd-d9864c0fa3b0",
   "metadata": {},
   "source": [
    "*2.5.2 Birth length*"
   ]
  },
  {
   "cell_type": "code",
   "execution_count": 25,
   "id": "d134bc3f-60b6-4508-82f9-0947e49f0a08",
   "metadata": {},
   "outputs": [
    {
     "data": {
      "image/png": "[encoded data removed]",
      "text/plain": [
       "<Figure size 432x288 with 1 Axes>"
      ]
     },
     "metadata": {
      "needs_background": "light"
     },
     "output_type": "display_data"
    }
   ],
   "source": [
    "#Histogram of birth length (cm) of hosts\n",
    "meta_ind.hist(['birth_length_cm'], grid = False)\n",
    "plt.ylabel('Number of hosts')\n",
    "plt.xlabel('Birth length(cm)')\n",
    "plt.title('Birth Length Distribution')\n",
    "plt.show()"
   ]
  },
  {
   "cell_type": "markdown",
   "id": "bc96f682-de26-42a5-ab96-0a382d477241",
   "metadata": {},
   "source": [
    "### 3. Diet"
   ]
  },
  {
   "cell_type": "markdown",
   "id": "378666e3-fb4e-459e-868b-5e0a0c9647e7",
   "metadata": {},
   "source": [
    "**3.1 Weaning**"
   ]
  },
  {
   "cell_type": "code",
   "execution_count": 36,
   "id": "57130a56-3809-44c9-94aa-e4b24ad7d1aa",
   "metadata": {},
   "outputs": [
    {
     "data": {
      "image/png": "[encoded data removed]",
      "text/plain": [
       "<Figure size 432x288 with 1 Axes>"
      ]
     },
     "metadata": {
      "needs_background": "light"
     },
     "output_type": "display_data"
    }
   ],
   "source": [
    "#Weaning\n",
    "meta_ind['diet_weaning'].value_counts().plot(kind='bar')\n",
    "plt.ylabel('Number of hosts')\n",
    "plt.title('Babies weaned')\n",
    "plt.show()"
   ]
  },
  {
   "cell_type": "code",
   "execution_count": 37,
   "id": "49d16c4a-28e6-4bb5-a326-0c9cdec5cc1b",
   "metadata": {},
   "outputs": [
    {
     "data": {
      "text/plain": [
       "diet_weaning\n",
       "True            28\n",
       "False            5\n",
       "dtype: int64"
      ]
     },
     "execution_count": 37,
     "metadata": {},
     "output_type": "execute_result"
    }
   ],
   "source": [
    "#Total count of Babies that have been weaned\n",
    "meta_ind.apply(set(['diet_weaning']), axis = 1).value_counts()"
   ]
  },
  {
   "cell_type": "markdown",
   "id": "80cc0a0d-dd1d-4e08-bb43-56a963b4776a",
   "metadata": {},
   "source": [
    "Most of the Babies have already been weaned (introduced to solid foods) at one of the measurement points. *However, this plot does not say much because babies have been weaned at one of the sampling dates and not from the beginning*"
   ]
  },
  {
   "cell_type": "markdown",
   "id": "3df0ec88-128a-410b-9c91-f566919be006",
   "metadata": {},
   "source": [
    "**3.2 Types of milk diet**"
   ]
  },
  {
   "cell_type": "code",
   "execution_count": 38,
   "id": "e26e5111-f065-4042-9bb3-6f7b2dba31a1",
   "metadata": {},
   "outputs": [
    {
     "data": {
      "image/png": "[encoded data removed]",
      "text/plain": [
       "<Figure size 432x288 with 1 Axes>"
      ]
     },
     "metadata": {
      "needs_background": "light"
     },
     "output_type": "display_data"
    }
   ],
   "source": [
    "#Milk diet\n",
    "meta_ind['diet_milk'].value_counts().plot(kind='bar')\n",
    "plt.ylabel('Number of hosts')\n",
    "plt.title('Type of milk diets')\n",
    "plt.show()"
   ]
  },
  {
   "cell_type": "code",
   "execution_count": 39,
   "id": "a94d9448-7631-4737-80dc-18932dfc5a0c",
   "metadata": {},
   "outputs": [
    {
     "data": {
      "text/plain": [
       "diet_milk\n",
       "fd           25\n",
       "bd            6\n",
       "no milk       2\n",
       "dtype: int64"
      ]
     },
     "execution_count": 39,
     "metadata": {},
     "output_type": "execute_result"
    }
   ],
   "source": [
    "#Total count of Babies that have been weaned\n",
    "meta_ind.apply(set(['diet_milk']), axis = 1).value_counts()"
   ]
  },
  {
   "cell_type": "markdown",
   "id": "8c5eb6a7-fbf0-4292-b3dc-dc6e6b276d40",
   "metadata": {},
   "source": [
    "33 samples in total -> This means that also here the type of milk diet depends on the sampling point and changes over time"
   ]
  },
  {
   "cell_type": "markdown",
   "id": "397e9cf0-9360-4f46-a5c4-3177cbdc2150",
   "metadata": {},
   "source": [
    "**3.3 Distribution of measurements across the years**"
   ]
  },
  {
   "cell_type": "code",
   "execution_count": 14,
   "id": "aad1d02d-40fd-47d0-89d0-be88c3035b3e",
   "metadata": {},
   "outputs": [
    {
     "name": "stdout",
     "output_type": "stream",
     "text": [
      "334\n"
     ]
    }
   ],
   "source": [
    "#How many samples from the year 2010?\n",
    "Year_2010 = meta['collection_date'].str.contains('2010')\n",
    "Year_1 = sum(Year_2010)\n",
    "print(Year_1)"
   ]
  },
  {
   "cell_type": "code",
   "execution_count": 15,
   "id": "9cce4105-6283-4f98-b8ad-e41925f36504",
   "metadata": {},
   "outputs": [
    {
     "name": "stdout",
     "output_type": "stream",
     "text": [
      "766\n"
     ]
    }
   ],
   "source": [
    "#How many samples are from the year 2011?\n",
    "Year_2011 = meta['collection_date'].str.contains('2011')\n",
    "Year_2 = sum(Year_2011)\n",
    "print(Year_2)"
   ]
  },
  {
   "cell_type": "code",
   "execution_count": 16,
   "id": "3a62aa75-58ec-4616-9511-e632802d9b8f",
   "metadata": {},
   "outputs": [
    {
     "name": "stdout",
     "output_type": "stream",
     "text": [
      "526\n"
     ]
    }
   ],
   "source": [
    "#How many samples are from the year 2012?\n",
    "Year_2012 = meta['collection_date'].str.contains('2012')\n",
    "Year_3 = sum(Year_2012)\n",
    "print(Year_3)"
   ]
  },
  {
   "cell_type": "code",
   "execution_count": 17,
   "id": "77345b65-7084-478e-95ff-b39715462bd0",
   "metadata": {},
   "outputs": [
    {
     "name": "stdout",
     "output_type": "stream",
     "text": [
      "43\n"
     ]
    }
   ],
   "source": [
    "#How many samples are from the year 2013?\n",
    "Year_2013 = meta['collection_date'].str.contains('2013')\n",
    "Year_3 = sum(Year_2013)\n",
    "print(Year_3)"
   ]
  },
  {
   "cell_type": "code",
   "execution_count": 18,
   "id": "aec07318-37d0-41b7-ae73-e5d517639fbd",
   "metadata": {},
   "outputs": [],
   "source": [
    "#Subset meta according to different years\n",
    "Year_2010 = meta.loc[meta['collection_date'].str.contains('2010'), :]\n",
    "Year_2011 = meta.loc[meta['collection_date'].str.contains('2011'), :]\n",
    "Year_2012 = meta.loc[meta['collection_date'].str.contains('2012'), :]\n",
    "Year_2013 = meta.loc[meta['collection_date'].str.contains('2013'), :]"
   ]
  },
  {
   "cell_type": "code",
   "execution_count": 19,
   "id": "1455268c-d560-43a4-845e-5e4d41f2c9fd",
   "metadata": {},
   "outputs": [
    {
     "data": {
      "image/png": "[encoded data removed]",
      "text/plain": [
       "<Figure size 432x288 with 1 Axes>"
      ]
     },
     "metadata": {
      "needs_background": "light"
     },
     "output_type": "display_data"
    }
   ],
   "source": [
    "#plot the sample frequencies per year \n",
    "meta['collection_date'].value_counts().plot(kind='bar')\n",
    "plt.ylabel('Frequency')\n",
    "plt.title('Sample frequency per year')\n",
    "plt.show()\n",
    "#How to make a histogram of the years??"
   ]
  },
  {
   "cell_type": "markdown",
   "id": "63541bcc-3fca-4af9-96ee-4dbd02ce9738",
   "metadata": {},
   "source": [
    "    2.3 Birth weight"
   ]
  },
  {
   "cell_type": "code",
   "execution_count": 40,
   "id": "b2bcb2af-a0c1-4dbc-8c8a-6fa4b5d18578",
   "metadata": {},
   "outputs": [
    {
     "data": {
      "text/plain": [
       "host_id\n",
       "2.1     [3060.0]\n",
       "2.2     [3030.0]\n",
       "3.1     [2529.0]\n",
       "3.2     [2782.0]\n",
       "4.1     [2462.0]\n",
       "          ...   \n",
       "46.2    [3005.0]\n",
       "47.1    [2600.0]\n",
       "47.2    [2380.0]\n",
       "48.1    [2265.0]\n",
       "48.2    [2410.0]\n",
       "Name: birth_weight_g, Length: 80, dtype: object"
      ]
     },
     "execution_count": 40,
     "metadata": {},
     "output_type": "execute_result"
    }
   ],
   "source": [
    "#Barplot of birth weight by host ID \n",
    "Birth_weight = meta.groupby('host_id')['birth_weight_g'].unique()\n",
    "Birth_weight"
   ]
  },
  {
   "cell_type": "code",
   "execution_count": 41,
   "id": "92469d45-0ca6-43f7-82fb-da586a175f80",
   "metadata": {},
   "outputs": [
    {
     "data": {
      "text/html": [
       "<div>\n",
       "<style scoped>\n",
       "    .dataframe tbody tr th:only-of-type {\n",
       "        vertical-align: middle;\n",
       "    }\n",
       "\n",
       "    .dataframe tbody tr th {\n",
       "        vertical-align: top;\n",
       "    }\n",
       "\n",
       "    .dataframe thead th {\n",
       "        text-align: right;\n",
       "    }\n",
       "</style>\n",
       "<table border=\"1\" class=\"dataframe\">\n",
       "  <thead>\n",
       "    <tr style=\"text-align: right;\">\n",
       "      <th></th>\n",
       "      <th></th>\n",
       "    </tr>\n",
       "    <tr>\n",
       "      <th>host_id</th>\n",
       "      <th>birth_weight_g</th>\n",
       "    </tr>\n",
       "  </thead>\n",
       "  <tbody>\n",
       "    <tr>\n",
       "      <th>2.1</th>\n",
       "      <th>3060.0</th>\n",
       "    </tr>\n",
       "    <tr>\n",
       "      <th>2.2</th>\n",
       "      <th>3030.0</th>\n",
       "    </tr>\n",
       "    <tr>\n",
       "      <th>3.1</th>\n",
       "      <th>2529.0</th>\n",
       "    </tr>\n",
       "    <tr>\n",
       "      <th>3.2</th>\n",
       "      <th>2782.0</th>\n",
       "    </tr>\n",
       "    <tr>\n",
       "      <th>4.1</th>\n",
       "      <th>2462.0</th>\n",
       "    </tr>\n",
       "    <tr>\n",
       "      <th>...</th>\n",
       "      <th>...</th>\n",
       "    </tr>\n",
       "    <tr>\n",
       "      <th>46.2</th>\n",
       "      <th>3005.0</th>\n",
       "    </tr>\n",
       "    <tr>\n",
       "      <th>47.1</th>\n",
       "      <th>2600.0</th>\n",
       "    </tr>\n",
       "    <tr>\n",
       "      <th>47.2</th>\n",
       "      <th>2380.0</th>\n",
       "    </tr>\n",
       "    <tr>\n",
       "      <th>48.1</th>\n",
       "      <th>2265.0</th>\n",
       "    </tr>\n",
       "    <tr>\n",
       "      <th>48.2</th>\n",
       "      <th>2410.0</th>\n",
       "    </tr>\n",
       "  </tbody>\n",
       "</table>\n",
       "<p>80 rows × 0 columns</p>\n",
       "</div>"
      ],
      "text/plain": [
       "Empty DataFrame\n",
       "Columns: []\n",
       "Index: [(2.1, 3060.0), (2.2, 3030.0), (3.1, 2529.0), (3.2, 2782.0), (4.1, 2462.0), (4.2, 2329.0), (5.1, 3041.0), (5.2, 2642.0), (6.1, 3013.0), (6.2, 3008.0), (8.1, 3039.0), (8.2, 2735.0), (10.1, 2393.0), (10.2, 2259.0), (11.1, 2768.0), (11.2, 3041.0), (12.1, 2993.0), (12.2, 1995.0), (13.1, 2549.0), (13.2, 2168.0), (14.1, 2735.0), (14.2, 1819.0), (15.1, 2450.0), (15.2, 2445.0), (16.1, 2120.0), (16.2, 2092.0), (17.1, 2070.0), (17.2, 2355.0), (18.1, 2721.0), (18.2, 2438.0), (19.1, 2321.0), (19.2, 2076.0), (20.1, 2845.0), (20.2, 2825.0), (21.1, 2100.0), (21.2, 2769.0), (23.1, 2455.0), (23.2, 2566.0), (24.1, 2757.0), (24.2, 3037.0), (25.1, 2693.0), (25.2, 2364.0), (26.1, 2807.0), (26.2, 2495.0), (27.1, 2520.0), (27.2, 2490.0), (28.1, 3194.0), (28.2, 3166.0), (29.1, 3050.0), (29.2, 3373.0), (30.1, 1990.0), (30.2, 1490.0), (32.1, 3035.0), (32.2, 3065.0), (33.1, 3115.0), (33.2, 3055.0), (35.1, 2430.0), (35.2, 2472.0), (36.1, 2905.0), (36.2, 2845.0), (37.1, 2256.0), (37.2, 1460.0), (39.1, 2274.0), (39.2, 2421.0), (40.1, 3020.0), (40.2, 1960.0), (42.1, 2470.0), (42.2, 2340.0), (43.1, 2799.0), (43.2, 2583.0), (44.1, 2455.0), (44.2, 2415.0), (45.1, 3210.0), (45.2, 2940.0), (46.1, 3275.0), (46.2, 3005.0), (47.1, 2600.0), (47.2, 2380.0), (48.1, 2265.0), (48.2, 2410.0)]\n",
       "\n",
       "[80 rows x 0 columns]"
      ]
     },
     "execution_count": 41,
     "metadata": {},
     "output_type": "execute_result"
    }
   ],
   "source": [
    "#Birth weight\n",
    "Birth_w = meta.loc[:, ['host_id', 'birth_weight_g']]\n",
    "Birth_weight = Birth_w.groupby(['host_id', 'birth_weight_g']).count()\n",
    "Birth_weight"
   ]
  },
  {
   "cell_type": "code",
   "execution_count": null,
   "id": "1949d4ba-aa19-459d-aea6-1202aa842ca5",
   "metadata": {},
   "outputs": [],
   "source": []
  }
 ],
 "metadata": {
  "kernelspec": {
   "display_name": "Python 3 (ipykernel)",
   "language": "python",
   "name": "python3"
  },
  "language_info": {
   "codemirror_mode": {
    "name": "ipython",
    "version": 3
   },
   "file_extension": ".py",
   "mimetype": "text/x-python",
   "name": "python",
   "nbconvert_exporter": "python",
   "pygments_lexer": "ipython3",
   "version": "3.8.13"
  }
 },
 "nbformat": 4,
 "nbformat_minor": 5
}
