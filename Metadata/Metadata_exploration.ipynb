{
 "cells": [
  {
   "cell_type": "markdown",
   "id": "a4221ac6-ff54-4647-8307-11a3531324e9",
   "metadata": {},
   "source": [
    "## 0. Import packages and download dataset"
   ]
  },
  {
   "cell_type": "code",
   "execution_count": 1,
   "id": "2b3a84f6-4020-4d24-b93b-13cbde67aa4f",
   "metadata": {},
   "outputs": [],
   "source": [
    "#import of packages\n",
    "import os\n",
    "import numpy as np\n",
    "import pandas as pd\n",
    "from qiime2 import Visualization\n",
    "import matplotlib.pyplot as plt\n",
    "import qiime2 as q2\n",
    "from scipy import stats\n",
    "import seaborn as sns\n",
    "\n",
    "data_dir = \"data/\"\n",
    "\n",
    "if not os.path.isdir(data_dir):\n",
    "    os.makedirs(data_dir)"
   ]
  },
  {
   "cell_type": "code",
   "execution_count": 2,
   "id": "731f6fab-0e17-40b1-b2d6-3a141c03dba3",
   "metadata": {},
   "outputs": [
    {
     "name": "stdout",
     "output_type": "stream",
     "text": [
      "2022-12-06 17:54:35 URL:https://polybox.ethz.ch/index.php/s/RVPyoVYUBeVQFrJ/download [325995/325995] -> \"data//metadata.tsv\" [1]\n"
     ]
    }
   ],
   "source": [
    "#Metadata import \n",
    "! wget -nv -O $data_dir/metadata.tsv 'https://polybox.ethz.ch/index.php/s/RVPyoVYUBeVQFrJ/download'"
   ]
  },
  {
   "cell_type": "code",
   "execution_count": 3,
   "id": "a6f84a2c-e0cf-4a4e-9c36-3fc408177d17",
   "metadata": {},
   "outputs": [
    {
     "data": {
      "text/html": [
       "<div>\n",
       "<style scoped>\n",
       "    .dataframe tbody tr th:only-of-type {\n",
       "        vertical-align: middle;\n",
       "    }\n",
       "\n",
       "    .dataframe tbody tr th {\n",
       "        vertical-align: top;\n",
       "    }\n",
       "\n",
       "    .dataframe thead th {\n",
       "        text-align: right;\n",
       "    }\n",
       "</style>\n",
       "<table border=\"1\" class=\"dataframe\">\n",
       "  <thead>\n",
       "    <tr style=\"text-align: right;\">\n",
       "      <th></th>\n",
       "      <th>id</th>\n",
       "      <th>Library Layout</th>\n",
       "      <th>Instrument</th>\n",
       "      <th>collection_date</th>\n",
       "      <th>geo_location_name</th>\n",
       "      <th>geo_latitude</th>\n",
       "      <th>geo_longitude</th>\n",
       "      <th>host_id</th>\n",
       "      <th>age_days</th>\n",
       "      <th>weight_kg</th>\n",
       "      <th>...</th>\n",
       "      <th>birth_length_cm</th>\n",
       "      <th>sex</th>\n",
       "      <th>delivery_mode</th>\n",
       "      <th>zygosity</th>\n",
       "      <th>race</th>\n",
       "      <th>ethnicity</th>\n",
       "      <th>delivery_preterm</th>\n",
       "      <th>diet_milk</th>\n",
       "      <th>diet_weaning</th>\n",
       "      <th>age_months</th>\n",
       "    </tr>\n",
       "  </thead>\n",
       "  <tbody>\n",
       "    <tr>\n",
       "      <th>0</th>\n",
       "      <td>ERR1314182</td>\n",
       "      <td>PAIRED</td>\n",
       "      <td>Illumina MiSeq</td>\n",
       "      <td>2011-11-11 00:00:00</td>\n",
       "      <td>USA, Missouri, St. Louis</td>\n",
       "      <td>38.63699</td>\n",
       "      <td>-90.263794</td>\n",
       "      <td>42.1</td>\n",
       "      <td>232.0</td>\n",
       "      <td>NaN</td>\n",
       "      <td>...</td>\n",
       "      <td>47.0</td>\n",
       "      <td>male</td>\n",
       "      <td>Cesarean</td>\n",
       "      <td>Monozygotic</td>\n",
       "      <td>Caucasian</td>\n",
       "      <td>Not Hispanic</td>\n",
       "      <td>True</td>\n",
       "      <td>fd</td>\n",
       "      <td>True</td>\n",
       "      <td>8.0</td>\n",
       "    </tr>\n",
       "    <tr>\n",
       "      <th>1</th>\n",
       "      <td>ERR1314183</td>\n",
       "      <td>PAIRED</td>\n",
       "      <td>Illumina MiSeq</td>\n",
       "      <td>2010-12-11 00:00:00</td>\n",
       "      <td>USA, Missouri, St. Louis</td>\n",
       "      <td>38.63699</td>\n",
       "      <td>-90.263794</td>\n",
       "      <td>27.2</td>\n",
       "      <td>192.0</td>\n",
       "      <td>NaN</td>\n",
       "      <td>...</td>\n",
       "      <td>45.0</td>\n",
       "      <td>female</td>\n",
       "      <td>Cesarean</td>\n",
       "      <td>Dizygotic</td>\n",
       "      <td>Caucasian</td>\n",
       "      <td>Hispanic</td>\n",
       "      <td>True</td>\n",
       "      <td>fd</td>\n",
       "      <td>True</td>\n",
       "      <td>6.0</td>\n",
       "    </tr>\n",
       "    <tr>\n",
       "      <th>2</th>\n",
       "      <td>ERR1314184</td>\n",
       "      <td>PAIRED</td>\n",
       "      <td>Illumina MiSeq</td>\n",
       "      <td>2011-12-11 00:00:00</td>\n",
       "      <td>USA, Missouri, St. Louis</td>\n",
       "      <td>38.63699</td>\n",
       "      <td>-90.263794</td>\n",
       "      <td>28.1</td>\n",
       "      <td>536.0</td>\n",
       "      <td>NaN</td>\n",
       "      <td>...</td>\n",
       "      <td>51.0</td>\n",
       "      <td>female</td>\n",
       "      <td>Cesarean</td>\n",
       "      <td>Monozygotic</td>\n",
       "      <td>Caucasian</td>\n",
       "      <td>Not Hispanic</td>\n",
       "      <td>False</td>\n",
       "      <td>NaN</td>\n",
       "      <td>NaN</td>\n",
       "      <td>18.0</td>\n",
       "    </tr>\n",
       "    <tr>\n",
       "      <th>3</th>\n",
       "      <td>ERR1314185</td>\n",
       "      <td>PAIRED</td>\n",
       "      <td>Illumina MiSeq</td>\n",
       "      <td>2011-12-11 00:00:00</td>\n",
       "      <td>USA, Missouri, St. Louis</td>\n",
       "      <td>38.63699</td>\n",
       "      <td>-90.263794</td>\n",
       "      <td>28.2</td>\n",
       "      <td>537.0</td>\n",
       "      <td>NaN</td>\n",
       "      <td>...</td>\n",
       "      <td>50.0</td>\n",
       "      <td>female</td>\n",
       "      <td>Cesarean</td>\n",
       "      <td>Monozygotic</td>\n",
       "      <td>Caucasian</td>\n",
       "      <td>Not Hispanic</td>\n",
       "      <td>False</td>\n",
       "      <td>NaN</td>\n",
       "      <td>NaN</td>\n",
       "      <td>18.0</td>\n",
       "    </tr>\n",
       "    <tr>\n",
       "      <th>4</th>\n",
       "      <td>ERR1314186</td>\n",
       "      <td>PAIRED</td>\n",
       "      <td>Illumina MiSeq</td>\n",
       "      <td>2013-01-12 00:00:00</td>\n",
       "      <td>USA, Missouri, St. Louis</td>\n",
       "      <td>38.63699</td>\n",
       "      <td>-90.263794</td>\n",
       "      <td>39.2</td>\n",
       "      <td>688.0</td>\n",
       "      <td>NaN</td>\n",
       "      <td>...</td>\n",
       "      <td>48.0</td>\n",
       "      <td>male</td>\n",
       "      <td>Cesarean</td>\n",
       "      <td>Monozygotic</td>\n",
       "      <td>African-American</td>\n",
       "      <td>Not Hispanic</td>\n",
       "      <td>True</td>\n",
       "      <td>NaN</td>\n",
       "      <td>NaN</td>\n",
       "      <td>23.0</td>\n",
       "    </tr>\n",
       "  </tbody>\n",
       "</table>\n",
       "<p>5 rows × 26 columns</p>\n",
       "</div>"
      ],
      "text/plain": [
       "           id Library Layout      Instrument      collection_date  \\\n",
       "0  ERR1314182         PAIRED  Illumina MiSeq  2011-11-11 00:00:00   \n",
       "1  ERR1314183         PAIRED  Illumina MiSeq  2010-12-11 00:00:00   \n",
       "2  ERR1314184         PAIRED  Illumina MiSeq  2011-12-11 00:00:00   \n",
       "3  ERR1314185         PAIRED  Illumina MiSeq  2011-12-11 00:00:00   \n",
       "4  ERR1314186         PAIRED  Illumina MiSeq  2013-01-12 00:00:00   \n",
       "\n",
       "          geo_location_name  geo_latitude  geo_longitude  host_id  age_days  \\\n",
       "0  USA, Missouri, St. Louis      38.63699     -90.263794     42.1     232.0   \n",
       "1  USA, Missouri, St. Louis      38.63699     -90.263794     27.2     192.0   \n",
       "2  USA, Missouri, St. Louis      38.63699     -90.263794     28.1     536.0   \n",
       "3  USA, Missouri, St. Louis      38.63699     -90.263794     28.2     537.0   \n",
       "4  USA, Missouri, St. Louis      38.63699     -90.263794     39.2     688.0   \n",
       "\n",
       "   weight_kg  ...  birth_length_cm     sex  delivery_mode     zygosity  \\\n",
       "0        NaN  ...             47.0    male       Cesarean  Monozygotic   \n",
       "1        NaN  ...             45.0  female       Cesarean    Dizygotic   \n",
       "2        NaN  ...             51.0  female       Cesarean  Monozygotic   \n",
       "3        NaN  ...             50.0  female       Cesarean  Monozygotic   \n",
       "4        NaN  ...             48.0    male       Cesarean  Monozygotic   \n",
       "\n",
       "               race     ethnicity  delivery_preterm diet_milk diet_weaning  \\\n",
       "0         Caucasian  Not Hispanic              True        fd         True   \n",
       "1         Caucasian      Hispanic              True        fd         True   \n",
       "2         Caucasian  Not Hispanic             False       NaN          NaN   \n",
       "3         Caucasian  Not Hispanic             False       NaN          NaN   \n",
       "4  African-American  Not Hispanic              True       NaN          NaN   \n",
       "\n",
       "  age_months  \n",
       "0        8.0  \n",
       "1        6.0  \n",
       "2       18.0  \n",
       "3       18.0  \n",
       "4       23.0  \n",
       "\n",
       "[5 rows x 26 columns]"
      ]
     },
     "execution_count": 3,
     "metadata": {},
     "output_type": "execute_result"
    }
   ],
   "source": [
    "#Read in metadata \n",
    "meta = pd.read_csv('data/metadata.tsv', sep='\\t')\n",
    "meta.head()"
   ]
  },
  {
   "cell_type": "markdown",
   "id": "661417b2-6842-429f-a272-e8aa5ef0c318",
   "metadata": {},
   "source": [
    "## 1. Overview of the Dataframe "
   ]
  },
  {
   "cell_type": "code",
   "execution_count": 4,
   "id": "83d07d5b-ee8a-40fc-90ac-eede6fa264f8",
   "metadata": {},
   "outputs": [
    {
     "data": {
      "text/plain": [
       "(1669, 26)"
      ]
     },
     "execution_count": 4,
     "metadata": {},
     "output_type": "execute_result"
    }
   ],
   "source": [
    "meta.shape"
   ]
  },
  {
   "cell_type": "code",
   "execution_count": 5,
   "id": "5be438fe-fd10-450e-95e3-c68e894a55ac",
   "metadata": {},
   "outputs": [
    {
     "data": {
      "text/plain": [
       "80"
      ]
     },
     "execution_count": 5,
     "metadata": {},
     "output_type": "execute_result"
    }
   ],
   "source": [
    "#How many different host IDs are there?\n",
    "meta['host_id'].nunique()\n",
    "#There are 80 unique hosts -> 40 twin pairs "
   ]
  },
  {
   "cell_type": "code",
   "execution_count": 7,
   "id": "2c10069e-2e20-456f-9dc4-832aec360c80",
   "metadata": {},
   "outputs": [
    {
     "name": "stdout",
     "output_type": "stream",
     "text": [
      "[2.1, 2.2, 3.1, 3.2, 4.1, 4.2, 5.1, 5.2, 6.1, 6.2, 8.1, 8.2, 10.1, 10.2, 11.1, 11.2, 12.1, 12.2, 13.1, 13.2, 14.1, 14.2, 15.1, 15.2, 16.1, 16.2, 17.1, 17.2, 18.1, 18.2, 19.1, 19.2, 20.1, 20.2, 21.1, 21.2, 23.1, 23.2, 24.1, 24.2, 25.1, 25.2, 26.1, 26.2, 27.1, 27.2, 28.1, 28.2, 29.1, 29.2, 30.1, 30.2, 32.1, 32.2, 33.1, 33.2, 35.1, 35.2, 36.1, 36.2, 37.1, 37.2, 39.1, 39.2, 40.1, 40.2, 42.1, 42.2, 43.1, 43.2, 44.1, 44.2, 45.1, 45.2, 46.1, 46.2, 47.1, 47.2, 48.1, 48.2]\n"
     ]
    }
   ],
   "source": [
    "#What different host IDs are there?\n",
    "hosts = meta['host_id'].unique()\n",
    "print(sorted(hosts))\n",
    "#Twins are .1 and .2"
   ]
  },
  {
   "cell_type": "code",
   "execution_count": 6,
   "id": "3f697968-9cf0-4260-810e-e73c85aebe43",
   "metadata": {},
   "outputs": [
    {
     "data": {
      "text/plain": [
       "14.1    30\n",
       "16.2    29\n",
       "12.2    28\n",
       "3.2     28\n",
       "8.2     28\n",
       "        ..\n",
       "48.1     8\n",
       "46.1     7\n",
       "11.1     7\n",
       "46.2     6\n",
       "11.2     6\n",
       "Name: host_id, Length: 80, dtype: int64"
      ]
     },
     "execution_count": 6,
     "metadata": {},
     "output_type": "execute_result"
    }
   ],
   "source": [
    "#How many samples of each single host are there?\n",
    "meta['host_id'].value_counts()"
   ]
  },
  {
   "cell_type": "code",
   "execution_count": 18,
   "id": "222959ec-73bf-4e8a-b8b2-518559f024dd",
   "metadata": {},
   "outputs": [
    {
     "data": {
      "text/plain": [
       "['id',\n",
       " 'Library Layout',\n",
       " 'Instrument',\n",
       " 'collection_date',\n",
       " 'geo_location_name',\n",
       " 'geo_latitude',\n",
       " 'geo_longitude',\n",
       " 'host_id',\n",
       " 'age_days',\n",
       " 'weight_kg',\n",
       " 'length_cm',\n",
       " 'WAZ',\n",
       " 'HAZ',\n",
       " 'WHZ',\n",
       " 'BMI',\n",
       " 'birth_weight_g',\n",
       " 'birth_length_cm',\n",
       " 'sex',\n",
       " 'delivery_mode',\n",
       " 'zygosity',\n",
       " 'race',\n",
       " 'ethnicity',\n",
       " 'delivery_preterm',\n",
       " 'diet_milk',\n",
       " 'diet_weaning',\n",
       " 'age_months']"
      ]
     },
     "execution_count": 18,
     "metadata": {},
     "output_type": "execute_result"
    }
   ],
   "source": [
    "#get the column names\n",
    "meta.columns.tolist()"
   ]
  },
  {
   "cell_type": "code",
   "execution_count": 8,
   "id": "10b9f1b5-1661-45da-b780-f3bda5d4ab31",
   "metadata": {},
   "outputs": [
    {
     "data": {
      "text/html": [
       "<div>\n",
       "<style scoped>\n",
       "    .dataframe tbody tr th:only-of-type {\n",
       "        vertical-align: middle;\n",
       "    }\n",
       "\n",
       "    .dataframe tbody tr th {\n",
       "        vertical-align: top;\n",
       "    }\n",
       "\n",
       "    .dataframe thead th {\n",
       "        text-align: right;\n",
       "    }\n",
       "</style>\n",
       "<table border=\"1\" class=\"dataframe\">\n",
       "  <thead>\n",
       "    <tr style=\"text-align: right;\">\n",
       "      <th></th>\n",
       "      <th></th>\n",
       "      <th></th>\n",
       "    </tr>\n",
       "    <tr>\n",
       "      <th>host_id</th>\n",
       "      <th>collection_date</th>\n",
       "      <th>id</th>\n",
       "    </tr>\n",
       "  </thead>\n",
       "  <tbody>\n",
       "    <tr>\n",
       "      <th rowspan=\"5\" valign=\"top\">2.1</th>\n",
       "      <th>2010-03-01 00:00:00</th>\n",
       "      <th>ERR1310001</th>\n",
       "    </tr>\n",
       "    <tr>\n",
       "      <th>2010-04-02 00:00:00</th>\n",
       "      <th>ERR1311587</th>\n",
       "    </tr>\n",
       "    <tr>\n",
       "      <th>2010-04-24 00:00:00</th>\n",
       "      <th>ERR1310002</th>\n",
       "    </tr>\n",
       "    <tr>\n",
       "      <th>2010-06-13 00:00:00</th>\n",
       "      <th>ERR1310003</th>\n",
       "    </tr>\n",
       "    <tr>\n",
       "      <th>2010-06-25 00:00:00</th>\n",
       "      <th>ERR1311588</th>\n",
       "    </tr>\n",
       "    <tr>\n",
       "      <th>...</th>\n",
       "      <th>...</th>\n",
       "      <th>...</th>\n",
       "    </tr>\n",
       "    <tr>\n",
       "      <th rowspan=\"5\" valign=\"top\">48.2</th>\n",
       "      <th>2012-02-17 00:00:00</th>\n",
       "      <th>ERR1314824</th>\n",
       "    </tr>\n",
       "    <tr>\n",
       "      <th>2012-03-17 00:00:00</th>\n",
       "      <th>ERR1314827</th>\n",
       "    </tr>\n",
       "    <tr>\n",
       "      <th>2012-04-14 00:00:00</th>\n",
       "      <th>ERR1314458</th>\n",
       "    </tr>\n",
       "    <tr>\n",
       "      <th>2012-05-17 00:00:00</th>\n",
       "      <th>ERR1314837</th>\n",
       "    </tr>\n",
       "    <tr>\n",
       "      <th>2012-06-15 00:00:00</th>\n",
       "      <th>ERR1314650</th>\n",
       "    </tr>\n",
       "  </tbody>\n",
       "</table>\n",
       "<p>1669 rows × 0 columns</p>\n",
       "</div>"
      ],
      "text/plain": [
       "Empty DataFrame\n",
       "Columns: []\n",
       "Index: [(2.1, 2010-03-01 00:00:00, ERR1310001), (2.1, 2010-04-02 00:00:00, ERR1311587), (2.1, 2010-04-24 00:00:00, ERR1310002), (2.1, 2010-06-13 00:00:00, ERR1310003), (2.1, 2010-06-25 00:00:00, ERR1311588), (2.1, 2010-08-13 00:00:00, ERR1310657), (2.1, 2010-08-29 00:00:00, ERR1310004), (2.1, 2010-09-30 00:00:00, ERR1311589), (2.1, 2010-10-23 00:00:00, ERR1310658), (2.1, 2010-11-20 00:00:00, ERR1310005), (2.1, 2011-02-23 00:00:00, ERR1310659), (2.1, 2011-03-21 00:00:00, ERR1310006), (2.1, 2011-04-21 00:00:00, ERR1310007), (2.1, 2011-05-20 00:00:00, ERR1311590), (2.1, 2011-07-10 00:00:00, ERR1309847), (2.1, 2011-09-17 00:00:00, ERR1310524), (2.1, 2011-10-21 00:00:00, ERR1311591), (2.1, 2011-11-07 00:00:00, ERR1311592), (2.1, 2011-12-07 00:00:00, ERR1311593), (2.1, 2012-05-03 00:00:00, ERR1310525), (2.1, 2012-07-08 00:00:00, ERR1309848), (2.1, 2012-09-09 00:00:00, ERR1311585), (2.1, 2012-11-02 00:00:00, ERR1311586), (2.2, 2010-03-01 00:00:00, ERR1311594), (2.2, 2010-04-08 00:00:00, ERR1310008), (2.2, 2010-04-24 00:00:00, ERR1310009), (2.2, 2010-06-13 00:00:00, ERR1310010), (2.2, 2010-06-25 00:00:00, ERR1310661), (2.2, 2010-07-28 00:00:00, ERR1310662), (2.2, 2010-08-29 00:00:00, ERR1310011), (2.2, 2010-10-01 00:00:00, ERR1310012), (2.2, 2010-10-23 00:00:00, ERR1311596), (2.2, 2010-11-22 00:00:00, ERR1310013), (2.2, 2011-01-11 00:00:00, ERR1310014), (2.2, 2011-02-22 00:00:00, ERR1310016), (2.2, 2011-03-22 00:00:00, ERR1310663), (2.2, 2011-05-04 00:00:00, ERR1310664), (2.2, 2011-05-20 00:00:00, ERR1311597), (2.2, 2011-07-10 00:00:00, ERR1309849), (2.2, 2011-07-26 00:00:00, ERR1309850), (2.2, 2011-08-12 00:00:00, ERR1311598), (2.2, 2011-09-17 00:00:00, ERR1309851), (2.2, 2011-10-21 00:00:00, ERR1311599), (2.2, 2011-11-06 00:00:00, ERR1309852), (2.2, 2011-12-07 00:00:00, ERR1311600), (2.2, 2012-05-03 00:00:00, ERR1310526), (2.2, 2012-07-08 00:00:00, ERR1309853), (2.2, 2012-09-15 00:00:00, ERR1311595), (2.2, 2012-12-18 00:00:00, ERR1310660), (3.1, 2010-02-21 00:00:00, ERR1315031), (3.1, 2010-03-20 00:00:00, ERR1314998), (3.1, 2010-04-17 00:00:00, ERR1314828), (3.1, 2010-06-12 00:00:00, ERR1314203), (3.1, 2010-07-26 00:00:00, ERR1315467), (3.1, 2010-09-21 00:00:00, ERR1315071), (3.1, 2010-10-24 00:00:00, ERR1315189), (3.1, 2010-11-17 00:00:00, ERR1314860), (3.1, 2010-12-21 00:00:00, ERR1315089), (3.1, 2011-01-17 00:00:00, ERR1314814), (3.1, 2011-02-13 00:00:00, ERR1314261), (3.1, 2011-03-24 00:00:00, ERR1315173), (3.1, 2011-04-21 00:00:00, ERR1315036), (3.1, 2011-05-15 00:00:00, ERR1314639), (3.1, 2011-06-13 00:00:00, ERR1314286), (3.1, 2011-07-26 00:00:00, ERR1315468), (3.1, 2011-08-28 00:00:00, ERR1315600), (3.1, 2011-10-10 00:00:00, ERR1314109), (3.1, 2011-10-21 00:00:00, ERR1315074), (3.1, 2011-11-20 00:00:00, ERR1315020), (3.1, 2011-12-23 00:00:00, ERR1315162), (3.1, 2012-02-01 00:00:00, ERR1313301), (3.1, 2012-05-17 00:00:00, ERR1314832), (3.1, 2012-08-08 00:00:00, ERR1313916), (3.1, 2012-09-22 00:00:00, ERR1315118), (3.1, 2012-11-24 00:00:00, ERR1315202), (3.1, 2013-01-22 00:00:00, ERR1315095), (3.2, 2010-02-21 00:00:00, ERR1315032), (3.2, 2010-03-20 00:00:00, ERR1314999), (3.2, 2010-04-18 00:00:00, ERR1314888), (3.2, 2010-05-15 00:00:00, ERR1314640), (3.2, 2010-06-17 00:00:00, ERR1314844), (3.2, 2010-07-26 00:00:00, ERR1315469), (3.2, 2010-09-24 00:00:00, ERR1315188), (3.2, 2010-10-24 00:00:00, ERR1315190), (3.2, 2010-11-17 00:00:00, ERR1314861), (3.2, 2010-12-13 00:00:00, ERR1314448), (3.2, 2011-01-14 00:00:00, ERR1314449), (3.2, 2011-02-13 00:00:00, ERR1314262), (3.2, 2011-03-22 00:00:00, ERR1315096), (3.2, 2011-04-21 00:00:00, ERR1315037), (3.2, 2011-05-15 00:00:00, ERR1314641), (3.2, 2011-06-13 00:00:00, ERR1314287), (3.2, 2011-07-26 00:00:00, ERR1315470), (3.2, 2011-09-01 00:00:00, ERR1313320), (3.2, 2011-10-10 00:00:00, ERR1314110), (3.2, 2011-10-22 00:00:00, ERR1315120), (3.2, 2011-11-21 00:00:00, ERR1315080), (3.2, 2011-12-23 00:00:00, ERR1315163), (3.2, 2012-02-01 00:00:00, ERR1313302), (3.2, 2012-05-17 00:00:00, ERR1314833), ...]\n",
       "\n",
       "[1669 rows x 0 columns]"
      ]
     },
     "execution_count": 8,
     "metadata": {},
     "output_type": "execute_result"
    }
   ],
   "source": [
    "#list collection dates by host_id & sample ID (id)\n",
    "meta_id = meta[['id', 'collection_date', 'host_id']]\n",
    "meta_id_date = meta_id.groupby(['host_id', 'collection_date', 'id']).count()\n",
    "meta_id_date"
   ]
  },
  {
   "cell_type": "code",
   "execution_count": null,
   "id": "6fb9393f-7ad5-4445-a418-8fe3011fc61d",
   "metadata": {},
   "outputs": [],
   "source": []
  },
  {
   "cell_type": "markdown",
   "id": "1d773721-9cd3-408a-9884-8f8a6b7519d7",
   "metadata": {},
   "source": [
    "## 2. Distributions of different host characteristics"
   ]
  },
  {
   "cell_type": "code",
   "execution_count": 10,
   "id": "1f211b9a-8d78-4342-80f4-f917ab52f1be",
   "metadata": {},
   "outputs": [
    {
     "data": {
      "text/html": [
       "<div>\n",
       "<style scoped>\n",
       "    .dataframe tbody tr th:only-of-type {\n",
       "        vertical-align: middle;\n",
       "    }\n",
       "\n",
       "    .dataframe tbody tr th {\n",
       "        vertical-align: top;\n",
       "    }\n",
       "\n",
       "    .dataframe thead th {\n",
       "        text-align: right;\n",
       "    }\n",
       "</style>\n",
       "<table border=\"1\" class=\"dataframe\">\n",
       "  <thead>\n",
       "    <tr style=\"text-align: right;\">\n",
       "      <th></th>\n",
       "      <th>id</th>\n",
       "      <th>Library Layout</th>\n",
       "      <th>Instrument</th>\n",
       "      <th>collection_date</th>\n",
       "      <th>geo_location_name</th>\n",
       "      <th>geo_latitude</th>\n",
       "      <th>geo_longitude</th>\n",
       "      <th>host_id</th>\n",
       "      <th>age_days</th>\n",
       "      <th>weight_kg</th>\n",
       "      <th>...</th>\n",
       "      <th>birth_length_cm</th>\n",
       "      <th>sex</th>\n",
       "      <th>delivery_mode</th>\n",
       "      <th>zygosity</th>\n",
       "      <th>race</th>\n",
       "      <th>ethnicity</th>\n",
       "      <th>delivery_preterm</th>\n",
       "      <th>diet_milk</th>\n",
       "      <th>diet_weaning</th>\n",
       "      <th>age_months</th>\n",
       "    </tr>\n",
       "  </thead>\n",
       "  <tbody>\n",
       "    <tr>\n",
       "      <th>0</th>\n",
       "      <td>ERR1314182</td>\n",
       "      <td>PAIRED</td>\n",
       "      <td>Illumina MiSeq</td>\n",
       "      <td>2011-11-11 00:00:00</td>\n",
       "      <td>USA, Missouri, St. Louis</td>\n",
       "      <td>38.63699</td>\n",
       "      <td>-90.263794</td>\n",
       "      <td>42.1</td>\n",
       "      <td>232.0</td>\n",
       "      <td>NaN</td>\n",
       "      <td>...</td>\n",
       "      <td>47.0</td>\n",
       "      <td>male</td>\n",
       "      <td>Cesarean</td>\n",
       "      <td>Monozygotic</td>\n",
       "      <td>Caucasian</td>\n",
       "      <td>Not Hispanic</td>\n",
       "      <td>True</td>\n",
       "      <td>fd</td>\n",
       "      <td>True</td>\n",
       "      <td>8.0</td>\n",
       "    </tr>\n",
       "    <tr>\n",
       "      <th>1</th>\n",
       "      <td>ERR1314183</td>\n",
       "      <td>PAIRED</td>\n",
       "      <td>Illumina MiSeq</td>\n",
       "      <td>2010-12-11 00:00:00</td>\n",
       "      <td>USA, Missouri, St. Louis</td>\n",
       "      <td>38.63699</td>\n",
       "      <td>-90.263794</td>\n",
       "      <td>27.2</td>\n",
       "      <td>192.0</td>\n",
       "      <td>NaN</td>\n",
       "      <td>...</td>\n",
       "      <td>45.0</td>\n",
       "      <td>female</td>\n",
       "      <td>Cesarean</td>\n",
       "      <td>Dizygotic</td>\n",
       "      <td>Caucasian</td>\n",
       "      <td>Hispanic</td>\n",
       "      <td>True</td>\n",
       "      <td>fd</td>\n",
       "      <td>True</td>\n",
       "      <td>6.0</td>\n",
       "    </tr>\n",
       "    <tr>\n",
       "      <th>2</th>\n",
       "      <td>ERR1314184</td>\n",
       "      <td>PAIRED</td>\n",
       "      <td>Illumina MiSeq</td>\n",
       "      <td>2011-12-11 00:00:00</td>\n",
       "      <td>USA, Missouri, St. Louis</td>\n",
       "      <td>38.63699</td>\n",
       "      <td>-90.263794</td>\n",
       "      <td>28.1</td>\n",
       "      <td>536.0</td>\n",
       "      <td>NaN</td>\n",
       "      <td>...</td>\n",
       "      <td>51.0</td>\n",
       "      <td>female</td>\n",
       "      <td>Cesarean</td>\n",
       "      <td>Monozygotic</td>\n",
       "      <td>Caucasian</td>\n",
       "      <td>Not Hispanic</td>\n",
       "      <td>False</td>\n",
       "      <td>NaN</td>\n",
       "      <td>NaN</td>\n",
       "      <td>18.0</td>\n",
       "    </tr>\n",
       "    <tr>\n",
       "      <th>3</th>\n",
       "      <td>ERR1314185</td>\n",
       "      <td>PAIRED</td>\n",
       "      <td>Illumina MiSeq</td>\n",
       "      <td>2011-12-11 00:00:00</td>\n",
       "      <td>USA, Missouri, St. Louis</td>\n",
       "      <td>38.63699</td>\n",
       "      <td>-90.263794</td>\n",
       "      <td>28.2</td>\n",
       "      <td>537.0</td>\n",
       "      <td>NaN</td>\n",
       "      <td>...</td>\n",
       "      <td>50.0</td>\n",
       "      <td>female</td>\n",
       "      <td>Cesarean</td>\n",
       "      <td>Monozygotic</td>\n",
       "      <td>Caucasian</td>\n",
       "      <td>Not Hispanic</td>\n",
       "      <td>False</td>\n",
       "      <td>NaN</td>\n",
       "      <td>NaN</td>\n",
       "      <td>18.0</td>\n",
       "    </tr>\n",
       "    <tr>\n",
       "      <th>4</th>\n",
       "      <td>ERR1314186</td>\n",
       "      <td>PAIRED</td>\n",
       "      <td>Illumina MiSeq</td>\n",
       "      <td>2013-01-12 00:00:00</td>\n",
       "      <td>USA, Missouri, St. Louis</td>\n",
       "      <td>38.63699</td>\n",
       "      <td>-90.263794</td>\n",
       "      <td>39.2</td>\n",
       "      <td>688.0</td>\n",
       "      <td>NaN</td>\n",
       "      <td>...</td>\n",
       "      <td>48.0</td>\n",
       "      <td>male</td>\n",
       "      <td>Cesarean</td>\n",
       "      <td>Monozygotic</td>\n",
       "      <td>African-American</td>\n",
       "      <td>Not Hispanic</td>\n",
       "      <td>True</td>\n",
       "      <td>NaN</td>\n",
       "      <td>NaN</td>\n",
       "      <td>23.0</td>\n",
       "    </tr>\n",
       "  </tbody>\n",
       "</table>\n",
       "<p>5 rows × 26 columns</p>\n",
       "</div>"
      ],
      "text/plain": [
       "           id Library Layout      Instrument      collection_date  \\\n",
       "0  ERR1314182         PAIRED  Illumina MiSeq  2011-11-11 00:00:00   \n",
       "1  ERR1314183         PAIRED  Illumina MiSeq  2010-12-11 00:00:00   \n",
       "2  ERR1314184         PAIRED  Illumina MiSeq  2011-12-11 00:00:00   \n",
       "3  ERR1314185         PAIRED  Illumina MiSeq  2011-12-11 00:00:00   \n",
       "4  ERR1314186         PAIRED  Illumina MiSeq  2013-01-12 00:00:00   \n",
       "\n",
       "          geo_location_name  geo_latitude  geo_longitude  host_id  age_days  \\\n",
       "0  USA, Missouri, St. Louis      38.63699     -90.263794     42.1     232.0   \n",
       "1  USA, Missouri, St. Louis      38.63699     -90.263794     27.2     192.0   \n",
       "2  USA, Missouri, St. Louis      38.63699     -90.263794     28.1     536.0   \n",
       "3  USA, Missouri, St. Louis      38.63699     -90.263794     28.2     537.0   \n",
       "4  USA, Missouri, St. Louis      38.63699     -90.263794     39.2     688.0   \n",
       "\n",
       "   weight_kg  ...  birth_length_cm     sex  delivery_mode     zygosity  \\\n",
       "0        NaN  ...             47.0    male       Cesarean  Monozygotic   \n",
       "1        NaN  ...             45.0  female       Cesarean    Dizygotic   \n",
       "2        NaN  ...             51.0  female       Cesarean  Monozygotic   \n",
       "3        NaN  ...             50.0  female       Cesarean  Monozygotic   \n",
       "4        NaN  ...             48.0    male       Cesarean  Monozygotic   \n",
       "\n",
       "               race     ethnicity  delivery_preterm diet_milk diet_weaning  \\\n",
       "0         Caucasian  Not Hispanic              True        fd         True   \n",
       "1         Caucasian      Hispanic              True        fd         True   \n",
       "2         Caucasian  Not Hispanic             False       NaN          NaN   \n",
       "3         Caucasian  Not Hispanic             False       NaN          NaN   \n",
       "4  African-American  Not Hispanic              True       NaN          NaN   \n",
       "\n",
       "  age_months  \n",
       "0        8.0  \n",
       "1        6.0  \n",
       "2       18.0  \n",
       "3       18.0  \n",
       "4       23.0  \n",
       "\n",
       "[5 rows x 26 columns]"
      ]
     },
     "execution_count": 10,
     "metadata": {},
     "output_type": "execute_result"
    }
   ],
   "source": [
    "#Drop duplicates in host id\n",
    "#here, dropping random NAs is not problematic because the columns of interest (preterm. delivery_mode, birth weight etc.) are all the same for each collection_date within one host_ID\n",
    "meta_ind = meta.drop_duplicates(subset = ['host_id'])\n",
    "meta_ind.head()"
   ]
  },
  {
   "cell_type": "markdown",
   "id": "cfe64d1f-fe0b-42bc-aea3-e1aabdfa7a0a",
   "metadata": {},
   "source": [
    "### 2.1 Sexes"
   ]
  },
  {
   "cell_type": "code",
   "execution_count": 16,
   "id": "908b6268-cc1f-4ae7-9465-70232174b687",
   "metadata": {},
   "outputs": [
    {
     "name": "stdout",
     "output_type": "stream",
     "text": [
      "Distribution of sexes:\n",
      "Female: 39\n",
      "Male: 41\n"
     ]
    },
    {
     "data": {
      "image/png": "[encoded data removed]",
      "text/plain": [
       "<Figure size 432x288 with 1 Axes>"
      ]
     },
     "metadata": {
      "needs_background": "light"
     },
     "output_type": "display_data"
    }
   ],
   "source": [
    "#Sexes frequency \n",
    "females = meta_ind['id'][meta_ind['sex'] == \"female\"].nunique()\n",
    "males = meta_ind['id'][meta_ind['sex'] == \"male\"].nunique()\n",
    "print('Distribution of sexes:')\n",
    "print('Female:', females)\n",
    "print('Male:', males)\n",
    "plot = meta_ind['sex'].value_counts().plot.bar()"
   ]
  },
  {
   "cell_type": "code",
   "execution_count": 13,
   "id": "7218b88f-3493-446a-a7b6-ce9b9af50744",
   "metadata": {},
   "outputs": [
    {
     "data": {
      "text/html": [
       "<div>\n",
       "<style scoped>\n",
       "    .dataframe tbody tr th:only-of-type {\n",
       "        vertical-align: middle;\n",
       "    }\n",
       "\n",
       "    .dataframe tbody tr th {\n",
       "        vertical-align: top;\n",
       "    }\n",
       "\n",
       "    .dataframe thead th {\n",
       "        text-align: right;\n",
       "    }\n",
       "</style>\n",
       "<table border=\"1\" class=\"dataframe\">\n",
       "  <thead>\n",
       "    <tr style=\"text-align: right;\">\n",
       "      <th></th>\n",
       "      <th></th>\n",
       "    </tr>\n",
       "    <tr>\n",
       "      <th>host_id</th>\n",
       "      <th>sex</th>\n",
       "    </tr>\n",
       "  </thead>\n",
       "  <tbody>\n",
       "    <tr>\n",
       "      <th>2.1</th>\n",
       "      <th>male</th>\n",
       "    </tr>\n",
       "    <tr>\n",
       "      <th>2.2</th>\n",
       "      <th>male</th>\n",
       "    </tr>\n",
       "    <tr>\n",
       "      <th>3.1</th>\n",
       "      <th>male</th>\n",
       "    </tr>\n",
       "    <tr>\n",
       "      <th>3.2</th>\n",
       "      <th>male</th>\n",
       "    </tr>\n",
       "    <tr>\n",
       "      <th>4.1</th>\n",
       "      <th>female</th>\n",
       "    </tr>\n",
       "    <tr>\n",
       "      <th>...</th>\n",
       "      <th>...</th>\n",
       "    </tr>\n",
       "    <tr>\n",
       "      <th>46.2</th>\n",
       "      <th>male</th>\n",
       "    </tr>\n",
       "    <tr>\n",
       "      <th>47.1</th>\n",
       "      <th>male</th>\n",
       "    </tr>\n",
       "    <tr>\n",
       "      <th>47.2</th>\n",
       "      <th>male</th>\n",
       "    </tr>\n",
       "    <tr>\n",
       "      <th>48.1</th>\n",
       "      <th>female</th>\n",
       "    </tr>\n",
       "    <tr>\n",
       "      <th>48.2</th>\n",
       "      <th>female</th>\n",
       "    </tr>\n",
       "  </tbody>\n",
       "</table>\n",
       "<p>80 rows × 0 columns</p>\n",
       "</div>"
      ],
      "text/plain": [
       "Empty DataFrame\n",
       "Columns: []\n",
       "Index: [(2.1, male), (2.2, male), (3.1, male), (3.2, male), (4.1, female), (4.2, male), (5.1, male), (5.2, male), (6.1, female), (6.2, female), (8.1, male), (8.2, female), (10.1, female), (10.2, male), (11.1, male), (11.2, male), (12.1, female), (12.2, female), (13.1, female), (13.2, female), (14.1, male), (14.2, female), (15.1, male), (15.2, male), (16.1, female), (16.2, female), (17.1, female), (17.2, male), (18.1, female), (18.2, female), (19.1, male), (19.2, male), (20.1, male), (20.2, male), (21.1, female), (21.2, female), (23.1, male), (23.2, male), (24.1, male), (24.2, male), (25.1, female), (25.2, female), (26.1, female), (26.2, female), (27.1, female), (27.2, female), (28.1, female), (28.2, female), (29.1, female), (29.2, female), (30.1, female), (30.2, female), (32.1, male), (32.2, male), (33.1, female), (33.2, female), (35.1, female), (35.2, female), (36.1, male), (36.2, male), (37.1, female), (37.2, female), (39.1, male), (39.2, male), (40.1, female), (40.2, female), (42.1, male), (42.2, male), (43.1, male), (43.2, male), (44.1, male), (44.2, male), (45.1, male), (45.2, male), (46.1, male), (46.2, male), (47.1, male), (47.2, male), (48.1, female), (48.2, female)]\n",
       "\n",
       "[80 rows x 0 columns]"
      ]
     },
     "execution_count": 13,
     "metadata": {},
     "output_type": "execute_result"
    }
   ],
   "source": [
    "#List of sexes frequency \n",
    "meta_sex = meta.loc[:, ['host_id', 'sex']]\n",
    "meta_id_sex = meta_sex.groupby(['host_id', 'sex']).count()\n",
    "meta_id_sex"
   ]
  },
  {
   "cell_type": "markdown",
   "id": "dbbe39e7-ac08-4e31-8d67-a03d82f42538",
   "metadata": {},
   "source": [
    "### 2.2 Zygosity"
   ]
  },
  {
   "cell_type": "code",
   "execution_count": 19,
   "id": "6ac2b646-76d2-418b-a1d3-c61363568ecd",
   "metadata": {},
   "outputs": [
    {
     "name": "stdout",
     "output_type": "stream",
     "text": [
      "Distribution of Zygosity:\n",
      "Monozygotic: 42\n",
      "Dizygotic: 36\n",
      "Unknown: 2\n"
     ]
    },
    {
     "data": {
      "image/png": "[encoded data removed]",
      "text/plain": [
       "<Figure size 432x288 with 1 Axes>"
      ]
     },
     "metadata": {
      "needs_background": "light"
     },
     "output_type": "display_data"
    }
   ],
   "source": [
    "#Distribution of zygosity \n",
    "dizygotic = meta_ind['id'][meta_ind['zygosity'] == \"Dizygotic\"].nunique()\n",
    "monozygotic = meta_ind['id'][meta_ind['zygosity'] == \"Monozygotic\"].nunique()\n",
    "unknown = meta_ind['id'][meta_ind['zygosity'] == \"Unknown\"].nunique()\n",
    "print('Distribution of Zygosity:')\n",
    "print('Monozygotic:', monozygotic)\n",
    "print('Dizygotic:', dizygotic)\n",
    "print('Unknown:', unknown)\n",
    "plot = meta_ind['zygosity'].value_counts().plot.bar()"
   ]
  },
  {
   "cell_type": "code",
   "execution_count": 21,
   "id": "b14d61a9-dabe-48c1-a1e1-790096f4d366",
   "metadata": {},
   "outputs": [
    {
     "data": {
      "text/html": [
       "<div>\n",
       "<style scoped>\n",
       "    .dataframe tbody tr th:only-of-type {\n",
       "        vertical-align: middle;\n",
       "    }\n",
       "\n",
       "    .dataframe tbody tr th {\n",
       "        vertical-align: top;\n",
       "    }\n",
       "\n",
       "    .dataframe thead th {\n",
       "        text-align: right;\n",
       "    }\n",
       "</style>\n",
       "<table border=\"1\" class=\"dataframe\">\n",
       "  <thead>\n",
       "    <tr style=\"text-align: right;\">\n",
       "      <th></th>\n",
       "      <th></th>\n",
       "    </tr>\n",
       "    <tr>\n",
       "      <th>host_id</th>\n",
       "      <th>zygosity</th>\n",
       "    </tr>\n",
       "  </thead>\n",
       "  <tbody>\n",
       "    <tr>\n",
       "      <th>2.1</th>\n",
       "      <th>Dizygotic</th>\n",
       "    </tr>\n",
       "    <tr>\n",
       "      <th>2.2</th>\n",
       "      <th>Dizygotic</th>\n",
       "    </tr>\n",
       "    <tr>\n",
       "      <th>3.1</th>\n",
       "      <th>Monozygotic</th>\n",
       "    </tr>\n",
       "    <tr>\n",
       "      <th>3.2</th>\n",
       "      <th>Monozygotic</th>\n",
       "    </tr>\n",
       "    <tr>\n",
       "      <th>4.1</th>\n",
       "      <th>Dizygotic</th>\n",
       "    </tr>\n",
       "    <tr>\n",
       "      <th>...</th>\n",
       "      <th>...</th>\n",
       "    </tr>\n",
       "    <tr>\n",
       "      <th>46.2</th>\n",
       "      <th>Dizygotic</th>\n",
       "    </tr>\n",
       "    <tr>\n",
       "      <th>47.1</th>\n",
       "      <th>Monozygotic</th>\n",
       "    </tr>\n",
       "    <tr>\n",
       "      <th>47.2</th>\n",
       "      <th>Monozygotic</th>\n",
       "    </tr>\n",
       "    <tr>\n",
       "      <th>48.1</th>\n",
       "      <th>Monozygotic</th>\n",
       "    </tr>\n",
       "    <tr>\n",
       "      <th>48.2</th>\n",
       "      <th>Monozygotic</th>\n",
       "    </tr>\n",
       "  </tbody>\n",
       "</table>\n",
       "<p>80 rows × 0 columns</p>\n",
       "</div>"
      ],
      "text/plain": [
       "Empty DataFrame\n",
       "Columns: []\n",
       "Index: [(2.1, Dizygotic), (2.2, Dizygotic), (3.1, Monozygotic), (3.2, Monozygotic), (4.1, Dizygotic), (4.2, Dizygotic), (5.1, Dizygotic), (5.2, Dizygotic), (6.1, Unknown), (6.2, Unknown), (8.1, Dizygotic), (8.2, Dizygotic), (10.1, Dizygotic), (10.2, Dizygotic), (11.1, Dizygotic), (11.2, Dizygotic), (12.1, Monozygotic), (12.2, Monozygotic), (13.1, Monozygotic), (13.2, Monozygotic), (14.1, Dizygotic), (14.2, Dizygotic), (15.1, Monozygotic), (15.2, Monozygotic), (16.1, Dizygotic), (16.2, Dizygotic), (17.1, Dizygotic), (17.2, Dizygotic), (18.1, Dizygotic), (18.2, Dizygotic), (19.1, Monozygotic), (19.2, Monozygotic), (20.1, Monozygotic), (20.2, Monozygotic), (21.1, Monozygotic), (21.2, Monozygotic), (23.1, Dizygotic), (23.2, Dizygotic), (24.1, Dizygotic), (24.2, Dizygotic), (25.1, Monozygotic), (25.2, Monozygotic), (26.1, Dizygotic), (26.2, Dizygotic), (27.1, Dizygotic), (27.2, Dizygotic), (28.1, Monozygotic), (28.2, Monozygotic), (29.1, Dizygotic), (29.2, Dizygotic), (30.1, Monozygotic), (30.2, Monozygotic), (32.1, Monozygotic), (32.2, Monozygotic), (33.1, Dizygotic), (33.2, Dizygotic), (35.1, Monozygotic), (35.2, Monozygotic), (36.1, Monozygotic), (36.2, Monozygotic), (37.1, Monozygotic), (37.2, Monozygotic), (39.1, Monozygotic), (39.2, Monozygotic), (40.1, Monozygotic), (40.2, Monozygotic), (42.1, Monozygotic), (42.2, Monozygotic), (43.1, Monozygotic), (43.2, Monozygotic), (44.1, Monozygotic), (44.2, Monozygotic), (45.1, Dizygotic), (45.2, Dizygotic), (46.1, Dizygotic), (46.2, Dizygotic), (47.1, Monozygotic), (47.2, Monozygotic), (48.1, Monozygotic), (48.2, Monozygotic)]\n",
       "\n",
       "[80 rows x 0 columns]"
      ]
     },
     "execution_count": 21,
     "metadata": {},
     "output_type": "execute_result"
    }
   ],
   "source": [
    "#Host list with zygosities\n",
    "meta_zyg = meta.loc[:, ['host_id', 'zygosity']]\n",
    "meta_id_zyg = meta_zyg.groupby(['host_id', 'zygosity']).count()\n",
    "meta_id_zyg"
   ]
  },
  {
   "cell_type": "markdown",
   "id": "10bbf676-7803-4d4d-89b9-8a1060e11610",
   "metadata": {},
   "source": [
    "### 2.3 Delivery\n",
    "\n",
    "#### 2.3.1 Mode of delivery"
   ]
  },
  {
   "cell_type": "code",
   "execution_count": 23,
   "id": "980745fc-fcbb-4a85-9863-a9aecf3ca9c5",
   "metadata": {},
   "outputs": [
    {
     "data": {
      "image/png": "[encoded data removed]",
      "text/plain": [
       "<Figure size 432x288 with 1 Axes>"
      ]
     },
     "metadata": {
      "needs_background": "light"
     },
     "output_type": "display_data"
    }
   ],
   "source": [
    "#Frequency of delivery mode \n",
    "meta_ind['delivery_mode'].value_counts().plot(kind='bar')\n",
    "plt.ylabel('Frequency')\n",
    "plt.title('Delivery Mode')\n",
    "plt.show()"
   ]
  },
  {
   "cell_type": "code",
   "execution_count": 24,
   "id": "afab0e77-f5e1-4b5f-82fc-2252706533f1",
   "metadata": {},
   "outputs": [
    {
     "data": {
      "text/plain": [
       "delivery_mode     \n",
       "Cesarean              48\n",
       "Vaginal               29\n",
       "Cesarean_emergency     3\n",
       "dtype: int64"
      ]
     },
     "execution_count": 24,
     "metadata": {},
     "output_type": "execute_result"
    }
   ],
   "source": [
    "#Total count of different delivery modes\n",
    "meta_ind.apply(set(['delivery_mode']), axis = 1).value_counts()"
   ]
  },
  {
   "cell_type": "markdown",
   "id": "9583f068-bf9b-410b-8b6b-3f7389200489",
   "metadata": {},
   "source": [
    "#### 2.3.2 Term of delivery"
   ]
  },
  {
   "cell_type": "code",
   "execution_count": 25,
   "id": "77dd22d1-5b07-4f64-aeda-7c0625e5385c",
   "metadata": {},
   "outputs": [
    {
     "data": {
      "image/png": "[encoded data removed]",
      "text/plain": [
       "<Figure size 432x288 with 1 Axes>"
      ]
     },
     "metadata": {
      "needs_background": "light"
     },
     "output_type": "display_data"
    }
   ],
   "source": [
    "#Term of delivery \n",
    "meta_ind['delivery_preterm'].value_counts().plot(kind='bar')\n",
    "plt.ylabel('Frequency')\n",
    "plt.title('Preterm delivery')\n",
    "plt.show()"
   ]
  },
  {
   "cell_type": "code",
   "execution_count": 26,
   "id": "e8160893-528c-47a2-bc5c-f48e34760fcc",
   "metadata": {},
   "outputs": [
    {
     "data": {
      "text/plain": [
       "delivery_preterm\n",
       "True                42\n",
       "False               38\n",
       "dtype: int64"
      ]
     },
     "execution_count": 26,
     "metadata": {},
     "output_type": "execute_result"
    }
   ],
   "source": [
    "#Total count of different delivery modes\n",
    "meta_ind.apply(set(['delivery_preterm']), axis = 1).value_counts()"
   ]
  },
  {
   "cell_type": "markdown",
   "id": "9c68e2ad-4391-4f5f-b4ec-23dc027e8233",
   "metadata": {},
   "source": [
    "#### 2.3.3 Term of delivery by Mode of delivery"
   ]
  },
  {
   "cell_type": "code",
   "execution_count": 27,
   "id": "dbf03ead-3e83-43be-9c3b-6522af7f8096",
   "metadata": {},
   "outputs": [
    {
     "name": "stdout",
     "output_type": "stream",
     "text": [
      "Percentage of preterm deliveries for different delivery modes:\n",
      "Cesarean: 58.33\n",
      "Vaginal: 41.38\n",
      "Cesarean Emergency: 66.67\n"
     ]
    },
    {
     "data": {
      "text/plain": [
       "Text(0.5, 1.0, 'Percentage of preterm deliveries for different delivery modes')"
      ]
     },
     "execution_count": 27,
     "metadata": {},
     "output_type": "execute_result"
    },
    {
     "data": {
      "image/png": "[encoded data removed]",
      "text/plain": [
       "<Figure size 432x288 with 1 Axes>"
      ]
     },
     "metadata": {
      "needs_background": "light"
     },
     "output_type": "display_data"
    }
   ],
   "source": [
    "ces = meta_ind[meta_ind['delivery_mode'] == 'Cesarean']\n",
    "vag = meta_ind[meta_ind['delivery_mode'] == 'Vaginal']\n",
    "emerg = meta_ind[meta_ind['delivery_mode'] == 'Cesarean_emergency']\n",
    "\n",
    "ces_tot = ces['id'].nunique()\n",
    "vag_tot = vag['id'].nunique()\n",
    "emerg_tot = emerg['id'].nunique()\n",
    "\n",
    "ces_pre = ces['delivery_preterm'].sum()\n",
    "vag_pre = vag['delivery_preterm'].sum()\n",
    "emerg_pre = emerg['delivery_preterm'].sum()\n",
    "\n",
    "print('Percentage of preterm deliveries for different delivery modes:')\n",
    "print('Cesarean:', round(ces_pre/ces_tot*100,2))\n",
    "print('Vaginal:', round(vag_pre/vag_tot*100,2))\n",
    "print('Cesarean Emergency:', round(emerg_pre/emerg_tot*100, 2))\n",
    "\n",
    "modes = pd.DataFrame({'Delivery Mode':['Cesarean', 'Vaginal', 'Cesarean Emergency'], 'Percentage of Preterm Delivery':[(ces_pre/ces_tot)*100, (vag_pre/vag_tot)*100, (emerg_pre/emerg_tot)*100]})\n",
    "plot = modes.plot.bar(x='Delivery Mode', y='Percentage of Preterm Delivery', rot=0)\n",
    "plt.title('Percentage of preterm deliveries for different delivery modes')"
   ]
  },
  {
   "cell_type": "markdown",
   "id": "7133e908-e277-423c-b7d6-02c238f55a6d",
   "metadata": {},
   "source": [
    "#### 2.3.4 Further investigation of preterm baby"
   ]
  },
  {
   "cell_type": "markdown",
   "id": "4b8dc1f8-2e83-4be8-9fb5-d94129e6f349",
   "metadata": {},
   "source": [
    "**Differences in birth weight in preterm and non-preterm delivery babies**"
   ]
  },
  {
   "cell_type": "code",
   "execution_count": 30,
   "id": "65dadaa4-b9a7-407f-b4fa-20114334c015",
   "metadata": {},
   "outputs": [
    {
     "name": "stdout",
     "output_type": "stream",
     "text": [
      "Preterm average weight: 2404.62\n",
      "Non-preterm average weight: 2813.95\n",
      "Difference: -409.33\n"
     ]
    },
    {
     "data": {
      "image/png": "[encoded data removed]",
      "text/plain": [
       "<Figure size 432x288 with 1 Axes>"
      ]
     },
     "metadata": {
      "needs_background": "light"
     },
     "output_type": "display_data"
    }
   ],
   "source": [
    "preterm = meta_ind[meta_ind['delivery_preterm'] == True]\n",
    "notpreterm = meta_ind[meta_ind['delivery_preterm'] == False]\n",
    "#calculate average\n",
    "preterm_weight = preterm['birth_weight_g'].mean()\n",
    "notpreterm_weight = notpreterm['birth_weight_g'].mean()\n",
    "\n",
    "print('Preterm average weight:', round(preterm_weight,2))\n",
    "print('Non-preterm average weight:', round(notpreterm_weight, 2))\n",
    "print('Difference:', round(preterm_weight - notpreterm_weight,2))\n",
    "\n",
    "weights = pd.DataFrame({'Birthweight':['Preterm', 'Not Preterm'], 'weight in g':[preterm_weight, notpreterm_weight]})\n",
    "plot = weights.plot.bar(x='Birthweight', y = 'weight in g', rot=0)"
   ]
  },
  {
   "cell_type": "markdown",
   "id": "f09e0ddd-4d43-4765-9b54-290bf5d1af11",
   "metadata": {},
   "source": [
    "**Comparing birth weight of preterm/not preterm**"
   ]
  },
  {
   "cell_type": "code",
   "execution_count": 31,
   "id": "6240bc1b-91c9-4a8e-b135-f20da5b94328",
   "metadata": {},
   "outputs": [
    {
     "name": "stdout",
     "output_type": "stream",
     "text": [
      "Index(['id', 'Library Layout', 'Instrument', 'collection_date',\n",
      "       'geo_location_name', 'geo_latitude', 'geo_longitude', 'host_id',\n",
      "       'age_days', 'weight_kg', 'length_cm', 'WAZ', 'HAZ', 'WHZ', 'BMI',\n",
      "       'birth_weight_g', 'birth_length_cm', 'sex', 'delivery_mode', 'zygosity',\n",
      "       'race', 'ethnicity', 'delivery_preterm', 'diet_milk', 'diet_weaning',\n",
      "       'age_months'],\n",
      "      dtype='object')\n"
     ]
    },
    {
     "data": {
      "image/png": "[encoded data removed]",
      "text/plain": [
       "<Figure size 504x360 with 1 Axes>"
      ]
     },
     "metadata": {
      "needs_background": "light"
     },
     "output_type": "display_data"
    }
   ],
   "source": [
    "print(meta_ind.columns)\n",
    "plt.figure(figsize = (7, 5))\n",
    "plt.hist(preterm['birth_weight_g'], rwidth=0.9)\n",
    "plt.hist(notpreterm['birth_weight_g'], alpha = 0.8, rwidth=0.9)\n",
    "plt.legend([f'preterm: $\\mu$ = {round(preterm.birth_weight_g.mean(), 1)} g \\n $\\sigma$ = {round((preterm.birth_weight_g.var())**(1/2), 1)} ', \n",
    "            f'non-preterm: $\\mu$ = {round(notpreterm.birth_weight_g.mean(), 1)} g \\n $\\sigma$ = {round((notpreterm.birth_weight_g.var())**(1/2), 1)}'])\n",
    "plt.xlabel('Weight of baby [g]', fontsize = 12)\n",
    "plt.ylabel('Count', fontsize = 12)\n",
    "plt.title('Comparing birth weights of preterm birth or not', fontsize = 15)\n",
    "plt.grid(axis='y', alpha=0.75)"
   ]
  },
  {
   "cell_type": "markdown",
   "id": "73278d36-6f46-430c-ac64-85fc58faa0e7",
   "metadata": {},
   "source": [
    "**Comparing birth height of preterm/not preterm**"
   ]
  },
  {
   "cell_type": "code",
   "execution_count": 32,
   "id": "4eb7c43e-daf9-4361-9b0b-268c9de5d86c",
   "metadata": {},
   "outputs": [
    {
     "data": {
      "image/png": "[encoded data removed]",
      "text/plain": [
       "<Figure size 504x360 with 1 Axes>"
      ]
     },
     "metadata": {
      "needs_background": "light"
     },
     "output_type": "display_data"
    }
   ],
   "source": [
    "plt.figure(figsize = (7, 5))\n",
    "plt.hist(preterm['birth_length_cm'], rwidth=0.9)\n",
    "plt.hist(notpreterm['birth_length_cm'], alpha = 0.8, rwidth=0.9)\n",
    "plt.legend([f'preterm: $\\mu$ = {round(preterm.birth_length_cm.mean(), 1)} cm \\n $\\sigma$ = {round((preterm.birth_length_cm.var())**(1/2), 1)} ', \n",
    "            f'non-preterm: $\\mu$ = {round(notpreterm.birth_length_cm.mean(), 1)} cm \\n $\\sigma$ = {round((notpreterm.birth_length_cm.var())**(1/2), 1)}'])\n",
    "plt.xlabel('height of baby [cm]', fontsize = 12)\n",
    "plt.ylabel('Count', fontsize = 12)\n",
    "plt.title('Comparing birth heights of preterm birth or not', fontsize = 15)\n",
    "plt.grid(axis='y', alpha=0.75)"
   ]
  },
  {
   "cell_type": "markdown",
   "id": "ba823fe9-ac51-44d9-a62d-e703287712ac",
   "metadata": {},
   "source": [
    "### 2.4 Race & Ethnicity"
   ]
  },
  {
   "cell_type": "markdown",
   "id": "156985f9-7539-4bb2-95d0-f2b8eda508a4",
   "metadata": {},
   "source": [
    "#### 2.4.1 Race"
   ]
  },
  {
   "cell_type": "code",
   "execution_count": 33,
   "id": "d769b975-2db5-48d1-a693-d618d55f8b13",
   "metadata": {},
   "outputs": [
    {
     "name": "stdout",
     "output_type": "stream",
     "text": [
      "Distribution of Race:\n",
      "African-American: 10\n",
      "Caucasian: 70\n"
     ]
    },
    {
     "data": {
      "image/png": "[encoded data removed]",
      "text/plain": [
       "<Figure size 432x288 with 1 Axes>"
      ]
     },
     "metadata": {
      "needs_background": "light"
     },
     "output_type": "display_data"
    }
   ],
   "source": [
    "caucasian = meta_ind['id'][meta_ind['race'] == \"Caucasian\"].nunique()\n",
    "africanamerican = meta_ind['id'][meta_ind['race'] == \"African-American\"].nunique()\n",
    "\n",
    "\n",
    "print('Distribution of Race:')\n",
    "print('African-American:', africanamerican)\n",
    "print('Caucasian:', caucasian)\n",
    "\n",
    "plot = meta_ind['race'].value_counts().plot.bar()"
   ]
  },
  {
   "cell_type": "markdown",
   "id": "da810c22-e7f6-400b-a179-9e100bf0df7f",
   "metadata": {},
   "source": [
    "#### 2.4.2 Ethnicity "
   ]
  },
  {
   "cell_type": "code",
   "execution_count": 34,
   "id": "365e4c8f-6c98-45bb-b144-72bab3fdded3",
   "metadata": {},
   "outputs": [
    {
     "data": {
      "image/png": "[encoded data removed]",
      "text/plain": [
       "<Figure size 432x288 with 1 Axes>"
      ]
     },
     "metadata": {
      "needs_background": "light"
     },
     "output_type": "display_data"
    }
   ],
   "source": [
    "#Ethnicity distribution\n",
    "meta_ind['ethnicity'].value_counts().plot(kind='bar')\n",
    "plt.ylabel('Frequency')\n",
    "plt.title('Ethnicities')\n",
    "plt.show()"
   ]
  },
  {
   "cell_type": "code",
   "execution_count": 35,
   "id": "30efe34a-294b-4ade-a8e7-98c7f8803c62",
   "metadata": {},
   "outputs": [
    {
     "data": {
      "text/plain": [
       "ethnicity   \n",
       "Not Hispanic    74\n",
       "Hispanic         6\n",
       "dtype: int64"
      ]
     },
     "execution_count": 35,
     "metadata": {},
     "output_type": "execute_result"
    }
   ],
   "source": [
    "#Total count of hispanics\n",
    "meta_ind.apply(set(['ethnicity']), axis = 1).value_counts()"
   ]
  },
  {
   "cell_type": "markdown",
   "id": "f01f2834-f107-4097-8a95-4cf8292a44b5",
   "metadata": {},
   "source": [
    "### 2.5 Diet"
   ]
  },
  {
   "cell_type": "markdown",
   "id": "464ddd0c-d228-43c7-b4ec-bc5606d145b2",
   "metadata": {},
   "source": [
    "#### 2.5.1 Weaning"
   ]
  },
  {
   "cell_type": "code",
   "execution_count": 39,
   "id": "6329bbd4-bdce-4e78-a030-e69bbbbcbf6c",
   "metadata": {},
   "outputs": [
    {
     "data": {
      "image/png": "[encoded data removed]",
      "text/plain": [
       "<Figure size 432x288 with 1 Axes>"
      ]
     },
     "metadata": {
      "needs_background": "light"
     },
     "output_type": "display_data"
    }
   ],
   "source": [
    "#Weaning\n",
    "meta['diet_weaning'].value_counts().plot(kind='bar')\n",
    "plt.ylabel('Number of hosts')\n",
    "plt.title('Babies weaned')\n",
    "plt.show()"
   ]
  },
  {
   "cell_type": "code",
   "execution_count": 40,
   "id": "c707577e-e470-4c7f-a294-2a3be5550432",
   "metadata": {},
   "outputs": [
    {
     "data": {
      "text/plain": [
       "diet_weaning\n",
       "True            568\n",
       "False           175\n",
       "dtype: int64"
      ]
     },
     "execution_count": 40,
     "metadata": {},
     "output_type": "execute_result"
    }
   ],
   "source": [
    "#Total count of Babies that have been weaned\n",
    "meta.apply(set(['diet_weaning']), axis = 1).value_counts()"
   ]
  },
  {
   "cell_type": "markdown",
   "id": "f7551d8c-f9ae-4930-b8f7-527c824daf28",
   "metadata": {},
   "source": [
    "Most of the Babies have already been weaned (introduced to solid foods) at one of the measurement points. *However, this plot does not say much because babies have been weaned at one point of the sampling dates and not from the beginning*"
   ]
  },
  {
   "cell_type": "markdown",
   "id": "e676015d-dec6-4335-9f46-339361999d6e",
   "metadata": {},
   "source": [
    "#### 2.5.2 Types of Milk "
   ]
  },
  {
   "cell_type": "code",
   "execution_count": 41,
   "id": "840efb18-680f-4353-acb9-2a55b104f29c",
   "metadata": {},
   "outputs": [
    {
     "data": {
      "image/png": "[encoded data removed]",
      "text/plain": [
       "<Figure size 432x288 with 1 Axes>"
      ]
     },
     "metadata": {
      "needs_background": "light"
     },
     "output_type": "display_data"
    }
   ],
   "source": [
    "#Milk diet\n",
    "meta['diet_milk'].value_counts().plot(kind='bar')\n",
    "plt.ylabel('Number of hosts')\n",
    "plt.title('Type of milk diets')\n",
    "plt.show()"
   ]
  },
  {
   "cell_type": "code",
   "execution_count": 42,
   "id": "97ecc567-47ae-4b66-812d-bff90302b71a",
   "metadata": {},
   "outputs": [
    {
     "data": {
      "text/plain": [
       "diet_milk\n",
       "fd           588\n",
       "bd           125\n",
       "no milk       30\n",
       "dtype: int64"
      ]
     },
     "execution_count": 42,
     "metadata": {},
     "output_type": "execute_result"
    }
   ],
   "source": [
    "#Total count of Babies for different diets\n",
    "meta.apply(set(['diet_milk']), axis = 1).value_counts()"
   ]
  },
  {
   "cell_type": "markdown",
   "id": "74358931-3b76-4a7d-bb1d-b209ee53fec0",
   "metadata": {},
   "source": [
    "This plot also does not say much as the type of diet per host changes over time"
   ]
  },
  {
   "cell_type": "markdown",
   "id": "4f4c9b1b-6918-42e0-bdd2-b364b398526f",
   "metadata": {},
   "source": [
    "#### 2.5.3 Distribution of milk diets over host age"
   ]
  },
  {
   "cell_type": "code",
   "execution_count": 44,
   "id": "88f3a6bb-fd87-48d9-8ac0-a53958bdf29c",
   "metadata": {},
   "outputs": [
    {
     "data": {
      "text/plain": [
       "Text(0, 0.5, 'age [months]')"
      ]
     },
     "execution_count": 44,
     "metadata": {},
     "output_type": "execute_result"
    },
    {
     "data": {
      "image/png": "[encoded data removed]",
      "text/plain": [
       "<Figure size 720x360 with 1 Axes>"
      ]
     },
     "metadata": {
      "needs_background": "light"
     },
     "output_type": "display_data"
    }
   ],
   "source": [
    "#Mean distribution for different diets \n",
    "meta.boxplot(column = 'age_months', by = 'diet_milk', figsize=(10,5));\n",
    "plt.suptitle(\"\")\n",
    "plt.title(\"Age distribution for different diets\")\n",
    "plt.ylabel(\"age [months]\")"
   ]
  },
  {
   "cell_type": "code",
   "execution_count": 45,
   "id": "7f6968a0-ad17-47fc-b1da-1e591f300216",
   "metadata": {},
   "outputs": [
    {
     "data": {
      "text/plain": [
       "F_onewayResult(statistic=4.624713837201709, pvalue=0.01009162134284619)"
      ]
     },
     "execution_count": 45,
     "metadata": {},
     "output_type": "execute_result"
    }
   ],
   "source": [
    "#Simple Anova test \n",
    "meta_diet_age = meta[['diet_milk', 'age_months']].dropna()\n",
    "meta_diet = meta_diet_age.groupby('diet_milk').groups\n",
    "meta_diet\n",
    "\n",
    "#Extract individual groups\n",
    "bd = meta_diet[\"bd\"]\n",
    "fd = meta_diet[\"fd\"]\n",
    "no_milk = meta_diet[\"no milk\"]\n",
    "\n",
    "#Perform ANOVA\n",
    "stats.f_oneway(bd, fd, no_milk)"
   ]
  },
  {
   "cell_type": "markdown",
   "id": "a6a24089-294b-4ebf-8593-76d104f7d7dd",
   "metadata": {},
   "source": [
    "## 3. Plots for Report figures "
   ]
  },
  {
   "cell_type": "markdown",
   "id": "f52b30e1-b7ef-4462-b629-da090fc3d7b8",
   "metadata": {},
   "source": [
    "**Stacked Barplot of relative distribution of diet over age (months)**"
   ]
  },
  {
   "cell_type": "code",
   "execution_count": 47,
   "id": "b59a9664-f5b5-4d2a-a375-0a148f593fed",
   "metadata": {},
   "outputs": [
    {
     "name": "stderr",
     "output_type": "stream",
     "text": [
      "The PostScript backend does not support transparency; partially transparent artists will be rendered opaque.\n"
     ]
    },
    {
     "data": {
      "image/png": "[encoded data removed]",
      "text/plain": [
       "<Figure size 432x201.6 with 1 Axes>"
      ]
     },
     "metadata": {},
     "output_type": "display_data"
    }
   ],
   "source": [
    "subset = meta[['age_months', 'diet_milk']].sort_values(by = ['age_months']) #order according to age\n",
    "subset[['number']] = 1\n",
    "countdf = subset.groupby(['age_months','diet_milk'])['number'].sum().reset_index()\n",
    "\n",
    "# reshape the data sligthly before plotting\n",
    "stacked = countdf.groupby(['age_months', 'diet_milk']) \\\n",
    "                .count() \\\n",
    "                .reset_index() \\\n",
    "                .pivot('age_months', 'diet_milk', 'number')\n",
    "stacked_rel = stacked.div(stacked.sum(axis=1), axis=0)\n",
    "\n",
    "sns.set(rc={'figure.figsize': (6, 2.8), 'font.family': ['Helvetica']}, style='white', color_codes=True)\n",
    "with sns.plotting_context(\"notebook\", font_scale=1.3):\n",
    "    # matplotlib's bar plot\n",
    "    ax = stacked_rel.plot(kind='bar', stacked=True)\n",
    "    \n",
    "    # matplotlib's customization\n",
    "    ax.set_xlabel('Age (months)')\n",
    "    ax.set_ylabel('Hosts [%]')\n",
    "    ax.set_title('Distribution of Diets across Age')\n",
    "    \n",
    "    ax.legend(loc='center left', bbox_to_anchor=(1, 0.5))\n",
    "    legend = ax.get_legend()\n",
    "    legend.set_title('Diet')\n",
    "    \n",
    "    xlabels = ax.get_xticklabels()\n",
    "    xlabels = [l.get_text().replace('.0', '') for l in xlabels]\n",
    "    ax.set_xticklabels(xlabels)\n",
    "    ax.set_xticklabels(xlabels, rotation=0)\n",
    "    \n",
    "#Download \n",
    "plt.savefig(\"data/Diets_Age.eps\", bbox_inches='tight')"
   ]
  },
  {
   "cell_type": "markdown",
   "id": "4dc7863e-d91d-44b7-beaf-21d06836dada",
   "metadata": {},
   "source": [
    "**Stacked barplot of relative distribution of term of birth over mode of birth**"
   ]
  },
  {
   "cell_type": "code",
   "execution_count": 49,
   "id": "f99bd0f2-a4fb-4924-8d25-58b7f0546a14",
   "metadata": {},
   "outputs": [
    {
     "name": "stderr",
     "output_type": "stream",
     "text": [
      "/tmp/ipykernel_208/2285194472.py:3: SettingWithCopyWarning: \n",
      "A value is trying to be set on a copy of a slice from a DataFrame.\n",
      "Try using .loc[row_indexer,col_indexer] = value instead\n",
      "\n",
      "See the caveats in the documentation: https://pandas.pydata.org/pandas-docs/stable/user_guide/indexing.html#returning-a-view-versus-a-copy\n",
      "  subset2[['number']] = 1\n",
      "The PostScript backend does not support transparency; partially transparent artists will be rendered opaque.\n"
     ]
    },
    {
     "data": {
      "image/png": "[encoded data removed]",
      "text/plain": [
       "<Figure size 432x201.6 with 1 Axes>"
      ]
     },
     "metadata": {},
     "output_type": "display_data"
    }
   ],
   "source": [
    "#Delivery mode \n",
    "subset2 = meta_ind[['delivery_mode', 'delivery_preterm']]\n",
    "subset2[['number']] = 1\n",
    "Delivery = subset2.groupby(['delivery_mode','delivery_preterm'])['number'].sum().reset_index()\n",
    "\n",
    "# reshape the data sligthly before plotting\n",
    "stacked = Delivery.groupby(['delivery_mode', 'delivery_preterm']) \\\n",
    "                .count() \\\n",
    "                .reset_index() \\\n",
    "                .pivot('delivery_mode', 'delivery_preterm', 'number')\n",
    "stacked_rel = stacked.div(stacked.sum(axis=1), axis=0)\n",
    "\n",
    "sns.set(rc={'figure.figsize': (6, 2.8), 'font.family': ['Helvetica']}, style='white', color_codes=True)\n",
    "with sns.plotting_context(\"notebook\", font_scale=1.0):\n",
    "    # matplotlib's bar plot\n",
    "    ax = stacked_rel.plot(kind='bar', stacked=True)\n",
    "    \n",
    "    # matplotlib's customization\n",
    "    ax.set_xlabel('Delivery mode')\n",
    "    ax.set_ylabel('Hosts [%]')\n",
    "    ax.set_title('Proportion of preterm babies by delivery modes')\n",
    "    \n",
    "    ax.legend(loc='center left', bbox_to_anchor=(1, 0.5))\n",
    "    legend = ax.get_legend()\n",
    "    legend.set_title('Preterm')\n",
    "    \n",
    "    xlabels = ax.get_xticklabels()\n",
    "    xlabels = [l.get_text().replace('Cesarean_emergency', 'Cesarean (emergency)') for l in xlabels]\n",
    "    ax.set_xticklabels(xlabels)\n",
    "    ax.set_xticklabels(xlabels, rotation=0)\n",
    "    \n",
    "#Download \n",
    "plt.savefig(\"data/Preterm_DeliveryMode.eps\", bbox_inches='tight')"
   ]
  },
  {
   "cell_type": "markdown",
   "id": "f4f46136-0738-4afd-97cf-3c1c373f0557",
   "metadata": {},
   "source": [
    "**3 simple plots about zygosity, delivery mode, preterm**"
   ]
  },
  {
   "cell_type": "code",
   "execution_count": 50,
   "id": "1cf5bd3f-85b9-4b0e-b940-f19d3dc7a426",
   "metadata": {},
   "outputs": [
    {
     "data": {
      "image/png": "[encoded data removed]",
      "text/plain": [
       "<Figure size 864x288 with 3 Axes>"
      ]
     },
     "metadata": {},
     "output_type": "display_data"
    }
   ],
   "source": [
    "fig, (ax1, ax2, ax3) = plt.subplots(nrows=1, ncols=3, figsize=(12, 4))\n",
    "meta_ind['zygosity'].value_counts().plot(kind='bar', ax = ax1)\n",
    "meta_ind['delivery_mode'].value_counts().plot(kind='bar', ax = ax2)\n",
    "meta_ind['delivery_preterm'].value_counts().plot(kind='bar', ax = ax3)\n",
    "\n",
    "#Set titles of subplots\n",
    "ax1.set_title('Zygosity')\n",
    "ax2.set_title('Delivery Mode')\n",
    "ax3.set_title('Preterm Delivery')\n",
    "\n",
    "#Set axis labels \n",
    "ax1.set_ylabel('Frequency')\n",
    "\n",
    "\n",
    "#Download \n",
    "plt.savefig(\"data/Zygosity_DeliveryMode_Preterm.eps\", bbox_inches='tight')"
   ]
  },
  {
   "cell_type": "markdown",
   "id": "b6184bfd-04ff-4efa-8b18-f80bce829bc6",
   "metadata": {},
   "source": [
    "**Minimum and maximum host age for weaning**"
   ]
  },
  {
   "cell_type": "code",
   "execution_count": 51,
   "id": "ff8bc98a-5606-48bb-a6af-5ec8a16e2f1b",
   "metadata": {},
   "outputs": [
    {
     "data": {
      "image/png": "[encoded data removed]",
      "text/plain": [
       "<Figure size 432x360 with 1 Axes>"
      ]
     },
     "metadata": {},
     "output_type": "display_data"
    }
   ],
   "source": [
    "#Minimum Weaning age \n",
    "meta_wean_T = meta[meta['diet_weaning']==True].copy()\n",
    "meta_wean = meta_wean_T[['host_id', 'age_months']]\n",
    "meta_wean_min = meta_wean.groupby(['host_id']).min().assign(Location = 'Start')\n",
    "\n",
    "#Maximum weaning age \n",
    "meta_wean_max = meta_wean.groupby(['host_id']).max().assign(Location = 'Stop')\n",
    "\n",
    "#Reorganize the data\n",
    "c_meta_wean = pd.concat([meta_wean_min, meta_wean_max])    \n",
    "m_meta_wean = pd.melt(c_meta_wean, id_vars=['Location'])\n",
    "m_meta_wean.head()\n",
    "\n",
    "#plot\n",
    "sns.set(rc={'figure.figsize': (6, 5), 'font.family': ['Helvetica']}, style='white', color_codes=True)\n",
    "with sns.plotting_context(\"notebook\", font_scale=1.0):\n",
    "    #Boxplot\n",
    "    ax = sns.boxplot(x=\"Location\", y=\"value\", data=m_meta_wean)    \n",
    "    \n",
    "    # matplotlib's customization\n",
    "    ax.set_xlabel('')\n",
    "    ax.set_ylabel('Age [months]')\n",
    "    ax.set_title('Average weaning age')\n",
    "    \n",
    "    xlabels = ax.get_xticklabels()\n",
    "    ax.set_xticklabels(xlabels)\n",
    "    ax.set_xticklabels(xlabels, rotation=0)\n",
    "\n",
    "\n",
    "\n",
    "#Download\n",
    "plt.savefig(\"data/Weaning.eps\", bbox_inches='tight')"
   ]
  },
  {
   "cell_type": "code",
   "execution_count": 52,
   "id": "6341a72a-21ae-458e-981a-284f305935e4",
   "metadata": {},
   "outputs": [
    {
     "data": {
      "text/html": [
       "<div>\n",
       "<style scoped>\n",
       "    .dataframe tbody tr th:only-of-type {\n",
       "        vertical-align: middle;\n",
       "    }\n",
       "\n",
       "    .dataframe tbody tr th {\n",
       "        vertical-align: top;\n",
       "    }\n",
       "\n",
       "    .dataframe thead th {\n",
       "        text-align: right;\n",
       "    }\n",
       "</style>\n",
       "<table border=\"1\" class=\"dataframe\">\n",
       "  <thead>\n",
       "    <tr style=\"text-align: right;\">\n",
       "      <th></th>\n",
       "      <th>age_months</th>\n",
       "    </tr>\n",
       "  </thead>\n",
       "  <tbody>\n",
       "    <tr>\n",
       "      <th>count</th>\n",
       "      <td>80.000000</td>\n",
       "    </tr>\n",
       "    <tr>\n",
       "      <th>mean</th>\n",
       "      <td>4.887500</td>\n",
       "    </tr>\n",
       "    <tr>\n",
       "      <th>std</th>\n",
       "      <td>1.841805</td>\n",
       "    </tr>\n",
       "    <tr>\n",
       "      <th>min</th>\n",
       "      <td>0.000000</td>\n",
       "    </tr>\n",
       "    <tr>\n",
       "      <th>25%</th>\n",
       "      <td>4.000000</td>\n",
       "    </tr>\n",
       "    <tr>\n",
       "      <th>50%</th>\n",
       "      <td>5.000000</td>\n",
       "    </tr>\n",
       "    <tr>\n",
       "      <th>75%</th>\n",
       "      <td>6.000000</td>\n",
       "    </tr>\n",
       "    <tr>\n",
       "      <th>max</th>\n",
       "      <td>9.000000</td>\n",
       "    </tr>\n",
       "  </tbody>\n",
       "</table>\n",
       "</div>"
      ],
      "text/plain": [
       "       age_months\n",
       "count   80.000000\n",
       "mean     4.887500\n",
       "std      1.841805\n",
       "min      0.000000\n",
       "25%      4.000000\n",
       "50%      5.000000\n",
       "75%      6.000000\n",
       "max      9.000000"
      ]
     },
     "execution_count": 52,
     "metadata": {},
     "output_type": "execute_result"
    }
   ],
   "source": [
    "meta_wean_min.describe()"
   ]
  },
  {
   "cell_type": "code",
   "execution_count": 53,
   "id": "87d1d07a-6305-47cb-9590-c0a47c25172f",
   "metadata": {},
   "outputs": [
    {
     "data": {
      "text/html": [
       "<div>\n",
       "<style scoped>\n",
       "    .dataframe tbody tr th:only-of-type {\n",
       "        vertical-align: middle;\n",
       "    }\n",
       "\n",
       "    .dataframe tbody tr th {\n",
       "        vertical-align: top;\n",
       "    }\n",
       "\n",
       "    .dataframe thead th {\n",
       "        text-align: right;\n",
       "    }\n",
       "</style>\n",
       "<table border=\"1\" class=\"dataframe\">\n",
       "  <thead>\n",
       "    <tr style=\"text-align: right;\">\n",
       "      <th></th>\n",
       "      <th>age_months</th>\n",
       "    </tr>\n",
       "  </thead>\n",
       "  <tbody>\n",
       "    <tr>\n",
       "      <th>count</th>\n",
       "      <td>80.000000</td>\n",
       "    </tr>\n",
       "    <tr>\n",
       "      <th>mean</th>\n",
       "      <td>11.750000</td>\n",
       "    </tr>\n",
       "    <tr>\n",
       "      <th>std</th>\n",
       "      <td>1.012579</td>\n",
       "    </tr>\n",
       "    <tr>\n",
       "      <th>min</th>\n",
       "      <td>7.000000</td>\n",
       "    </tr>\n",
       "    <tr>\n",
       "      <th>25%</th>\n",
       "      <td>11.000000</td>\n",
       "    </tr>\n",
       "    <tr>\n",
       "      <th>50%</th>\n",
       "      <td>12.000000</td>\n",
       "    </tr>\n",
       "    <tr>\n",
       "      <th>75%</th>\n",
       "      <td>12.000000</td>\n",
       "    </tr>\n",
       "    <tr>\n",
       "      <th>max</th>\n",
       "      <td>14.000000</td>\n",
       "    </tr>\n",
       "  </tbody>\n",
       "</table>\n",
       "</div>"
      ],
      "text/plain": [
       "       age_months\n",
       "count   80.000000\n",
       "mean    11.750000\n",
       "std      1.012579\n",
       "min      7.000000\n",
       "25%     11.000000\n",
       "50%     12.000000\n",
       "75%     12.000000\n",
       "max     14.000000"
      ]
     },
     "execution_count": 53,
     "metadata": {},
     "output_type": "execute_result"
    }
   ],
   "source": [
    "meta_wean_max.describe()"
   ]
  },
  {
   "cell_type": "code",
   "execution_count": null,
   "id": "06f782c3-d818-44b4-8e1e-7b4527dcdfb6",
   "metadata": {},
   "outputs": [],
   "source": []
  }
 ],
 "metadata": {
  "kernelspec": {
   "display_name": "Python 3 (ipykernel)",
   "language": "python",
   "name": "python3"
  },
  "language_info": {
   "codemirror_mode": {
    "name": "ipython",
    "version": 3
   },
   "file_extension": ".py",
   "mimetype": "text/x-python",
   "name": "python",
   "nbconvert_exporter": "python",
   "pygments_lexer": "ipython3",
   "version": "3.8.13"
  }
 },
 "nbformat": 4,
 "nbformat_minor": 5
}
