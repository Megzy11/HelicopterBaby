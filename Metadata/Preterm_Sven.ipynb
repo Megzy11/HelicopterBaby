{
 "cells": [
  {
   "cell_type": "code",
   "execution_count": 5,
   "id": "e5d92f31-a922-4f97-bb7a-35c0c38dc245",
   "metadata": {},
   "outputs": [],
   "source": [
    "#For the import of packages\n",
    "import numpy as np\n",
    "import pandas as pd\n",
    "from qiime2 import Visualization\n",
    "import matplotlib.pyplot as plt\n",
    "import qiime2 as q2\n",
    "\n",
    "data_dir = \"data\""
   ]
  },
  {
   "cell_type": "code",
   "execution_count": 8,
   "id": "e50ac42b-8a14-40a0-823a-7ae21e97ff94",
   "metadata": {},
   "outputs": [
    {
     "name": "stdout",
     "output_type": "stream",
     "text": [
      "2022-10-18 14:25:27 URL:https://polybox.ethz.ch/index.php/s/KEQxsekRow6lOAz/download [8529260946/8529260946] -> \"../data/sequences_demux_paired.qza\" [1]\n",
      "2022-10-18 14:25:29 URL:https://polybox.ethz.ch/index.php/s/RVPyoVYUBeVQFrJ/download [325995/325995] -> \"../data/metadata.tsv\" [1]\n"
     ]
    }
   ],
   "source": [
    "#data import\n",
    "! wget -nv -O ../$data_dir/sequences_demux_paired.qza 'https://polybox.ethz.ch/index.php/s/KEQxsekRow6lOAz/download'\n",
    "! wget -nv -O ../$data_dir/metadata.tsv 'https://polybox.ethz.ch/index.php/s/RVPyoVYUBeVQFrJ/download'"
   ]
  },
  {
   "cell_type": "code",
   "execution_count": 13,
   "id": "1705c342-e818-40b9-901a-54aa8fcece70",
   "metadata": {},
   "outputs": [
    {
     "data": {
      "text/html": [
       "<div>\n",
       "<style scoped>\n",
       "    .dataframe tbody tr th:only-of-type {\n",
       "        vertical-align: middle;\n",
       "    }\n",
       "\n",
       "    .dataframe tbody tr th {\n",
       "        vertical-align: top;\n",
       "    }\n",
       "\n",
       "    .dataframe thead th {\n",
       "        text-align: right;\n",
       "    }\n",
       "</style>\n",
       "<table border=\"1\" class=\"dataframe\">\n",
       "  <thead>\n",
       "    <tr style=\"text-align: right;\">\n",
       "      <th></th>\n",
       "      <th>id</th>\n",
       "      <th>Library Layout</th>\n",
       "      <th>Instrument</th>\n",
       "      <th>collection_date</th>\n",
       "      <th>geo_location_name</th>\n",
       "      <th>geo_latitude</th>\n",
       "      <th>geo_longitude</th>\n",
       "      <th>host_id</th>\n",
       "      <th>age_days</th>\n",
       "      <th>weight_kg</th>\n",
       "      <th>...</th>\n",
       "      <th>birth_length_cm</th>\n",
       "      <th>sex</th>\n",
       "      <th>delivery_mode</th>\n",
       "      <th>zygosity</th>\n",
       "      <th>race</th>\n",
       "      <th>ethnicity</th>\n",
       "      <th>delivery_preterm</th>\n",
       "      <th>diet_milk</th>\n",
       "      <th>diet_weaning</th>\n",
       "      <th>age_months</th>\n",
       "    </tr>\n",
       "  </thead>\n",
       "  <tbody>\n",
       "    <tr>\n",
       "      <th>0</th>\n",
       "      <td>ERR1314182</td>\n",
       "      <td>PAIRED</td>\n",
       "      <td>Illumina MiSeq</td>\n",
       "      <td>2011-11-11 00:00:00</td>\n",
       "      <td>USA, Missouri, St. Louis</td>\n",
       "      <td>38.63699</td>\n",
       "      <td>-90.263794</td>\n",
       "      <td>42.1</td>\n",
       "      <td>232.0</td>\n",
       "      <td>NaN</td>\n",
       "      <td>...</td>\n",
       "      <td>47.0</td>\n",
       "      <td>male</td>\n",
       "      <td>Cesarean</td>\n",
       "      <td>Monozygotic</td>\n",
       "      <td>Caucasian</td>\n",
       "      <td>Not Hispanic</td>\n",
       "      <td>True</td>\n",
       "      <td>fd</td>\n",
       "      <td>True</td>\n",
       "      <td>8.0</td>\n",
       "    </tr>\n",
       "    <tr>\n",
       "      <th>1</th>\n",
       "      <td>ERR1314183</td>\n",
       "      <td>PAIRED</td>\n",
       "      <td>Illumina MiSeq</td>\n",
       "      <td>2010-12-11 00:00:00</td>\n",
       "      <td>USA, Missouri, St. Louis</td>\n",
       "      <td>38.63699</td>\n",
       "      <td>-90.263794</td>\n",
       "      <td>27.2</td>\n",
       "      <td>192.0</td>\n",
       "      <td>NaN</td>\n",
       "      <td>...</td>\n",
       "      <td>45.0</td>\n",
       "      <td>female</td>\n",
       "      <td>Cesarean</td>\n",
       "      <td>Dizygotic</td>\n",
       "      <td>Caucasian</td>\n",
       "      <td>Hispanic</td>\n",
       "      <td>True</td>\n",
       "      <td>fd</td>\n",
       "      <td>True</td>\n",
       "      <td>6.0</td>\n",
       "    </tr>\n",
       "    <tr>\n",
       "      <th>2</th>\n",
       "      <td>ERR1314184</td>\n",
       "      <td>PAIRED</td>\n",
       "      <td>Illumina MiSeq</td>\n",
       "      <td>2011-12-11 00:00:00</td>\n",
       "      <td>USA, Missouri, St. Louis</td>\n",
       "      <td>38.63699</td>\n",
       "      <td>-90.263794</td>\n",
       "      <td>28.1</td>\n",
       "      <td>536.0</td>\n",
       "      <td>NaN</td>\n",
       "      <td>...</td>\n",
       "      <td>51.0</td>\n",
       "      <td>female</td>\n",
       "      <td>Cesarean</td>\n",
       "      <td>Monozygotic</td>\n",
       "      <td>Caucasian</td>\n",
       "      <td>Not Hispanic</td>\n",
       "      <td>False</td>\n",
       "      <td>NaN</td>\n",
       "      <td>NaN</td>\n",
       "      <td>18.0</td>\n",
       "    </tr>\n",
       "    <tr>\n",
       "      <th>3</th>\n",
       "      <td>ERR1314185</td>\n",
       "      <td>PAIRED</td>\n",
       "      <td>Illumina MiSeq</td>\n",
       "      <td>2011-12-11 00:00:00</td>\n",
       "      <td>USA, Missouri, St. Louis</td>\n",
       "      <td>38.63699</td>\n",
       "      <td>-90.263794</td>\n",
       "      <td>28.2</td>\n",
       "      <td>537.0</td>\n",
       "      <td>NaN</td>\n",
       "      <td>...</td>\n",
       "      <td>50.0</td>\n",
       "      <td>female</td>\n",
       "      <td>Cesarean</td>\n",
       "      <td>Monozygotic</td>\n",
       "      <td>Caucasian</td>\n",
       "      <td>Not Hispanic</td>\n",
       "      <td>False</td>\n",
       "      <td>NaN</td>\n",
       "      <td>NaN</td>\n",
       "      <td>18.0</td>\n",
       "    </tr>\n",
       "    <tr>\n",
       "      <th>4</th>\n",
       "      <td>ERR1314186</td>\n",
       "      <td>PAIRED</td>\n",
       "      <td>Illumina MiSeq</td>\n",
       "      <td>2013-01-12 00:00:00</td>\n",
       "      <td>USA, Missouri, St. Louis</td>\n",
       "      <td>38.63699</td>\n",
       "      <td>-90.263794</td>\n",
       "      <td>39.2</td>\n",
       "      <td>688.0</td>\n",
       "      <td>NaN</td>\n",
       "      <td>...</td>\n",
       "      <td>48.0</td>\n",
       "      <td>male</td>\n",
       "      <td>Cesarean</td>\n",
       "      <td>Monozygotic</td>\n",
       "      <td>African-American</td>\n",
       "      <td>Not Hispanic</td>\n",
       "      <td>True</td>\n",
       "      <td>NaN</td>\n",
       "      <td>NaN</td>\n",
       "      <td>23.0</td>\n",
       "    </tr>\n",
       "    <tr>\n",
       "      <th>...</th>\n",
       "      <td>...</td>\n",
       "      <td>...</td>\n",
       "      <td>...</td>\n",
       "      <td>...</td>\n",
       "      <td>...</td>\n",
       "      <td>...</td>\n",
       "      <td>...</td>\n",
       "      <td>...</td>\n",
       "      <td>...</td>\n",
       "      <td>...</td>\n",
       "      <td>...</td>\n",
       "      <td>...</td>\n",
       "      <td>...</td>\n",
       "      <td>...</td>\n",
       "      <td>...</td>\n",
       "      <td>...</td>\n",
       "      <td>...</td>\n",
       "      <td>...</td>\n",
       "      <td>...</td>\n",
       "      <td>...</td>\n",
       "      <td>...</td>\n",
       "    </tr>\n",
       "    <tr>\n",
       "      <th>1664</th>\n",
       "      <td>ERR1310705</td>\n",
       "      <td>PAIRED</td>\n",
       "      <td>Illumina MiSeq</td>\n",
       "      <td>2010-07-31 00:00:00</td>\n",
       "      <td>USA, Missouri, St. Louis</td>\n",
       "      <td>38.63699</td>\n",
       "      <td>-90.263794</td>\n",
       "      <td>26.1</td>\n",
       "      <td>74.0</td>\n",
       "      <td>NaN</td>\n",
       "      <td>...</td>\n",
       "      <td>49.0</td>\n",
       "      <td>female</td>\n",
       "      <td>Vaginal</td>\n",
       "      <td>Dizygotic</td>\n",
       "      <td>Caucasian</td>\n",
       "      <td>Not Hispanic</td>\n",
       "      <td>False</td>\n",
       "      <td>fd</td>\n",
       "      <td>False</td>\n",
       "      <td>2.0</td>\n",
       "    </tr>\n",
       "    <tr>\n",
       "      <th>1665</th>\n",
       "      <td>ERR1310707</td>\n",
       "      <td>PAIRED</td>\n",
       "      <td>Illumina MiSeq</td>\n",
       "      <td>2011-02-07 00:00:00</td>\n",
       "      <td>USA, Missouri, St. Louis</td>\n",
       "      <td>38.63699</td>\n",
       "      <td>-90.263794</td>\n",
       "      <td>27.1</td>\n",
       "      <td>250.0</td>\n",
       "      <td>NaN</td>\n",
       "      <td>...</td>\n",
       "      <td>45.0</td>\n",
       "      <td>female</td>\n",
       "      <td>Cesarean</td>\n",
       "      <td>Dizygotic</td>\n",
       "      <td>Caucasian</td>\n",
       "      <td>Hispanic</td>\n",
       "      <td>True</td>\n",
       "      <td>fd</td>\n",
       "      <td>True</td>\n",
       "      <td>8.0</td>\n",
       "    </tr>\n",
       "    <tr>\n",
       "      <th>1666</th>\n",
       "      <td>ERR1310708</td>\n",
       "      <td>PAIRED</td>\n",
       "      <td>Illumina MiSeq</td>\n",
       "      <td>2011-04-09 00:00:00</td>\n",
       "      <td>USA, Missouri, St. Louis</td>\n",
       "      <td>38.63699</td>\n",
       "      <td>-90.263794</td>\n",
       "      <td>27.1</td>\n",
       "      <td>310.0</td>\n",
       "      <td>NaN</td>\n",
       "      <td>...</td>\n",
       "      <td>45.0</td>\n",
       "      <td>female</td>\n",
       "      <td>Cesarean</td>\n",
       "      <td>Dizygotic</td>\n",
       "      <td>Caucasian</td>\n",
       "      <td>Hispanic</td>\n",
       "      <td>True</td>\n",
       "      <td>fd</td>\n",
       "      <td>True</td>\n",
       "      <td>10.0</td>\n",
       "    </tr>\n",
       "    <tr>\n",
       "      <th>1667</th>\n",
       "      <td>ERR1310709</td>\n",
       "      <td>PAIRED</td>\n",
       "      <td>Illumina MiSeq</td>\n",
       "      <td>2012-01-18 00:00:00</td>\n",
       "      <td>USA, Missouri, St. Louis</td>\n",
       "      <td>38.63699</td>\n",
       "      <td>-90.263794</td>\n",
       "      <td>27.1</td>\n",
       "      <td>594.0</td>\n",
       "      <td>NaN</td>\n",
       "      <td>...</td>\n",
       "      <td>45.0</td>\n",
       "      <td>female</td>\n",
       "      <td>Cesarean</td>\n",
       "      <td>Dizygotic</td>\n",
       "      <td>Caucasian</td>\n",
       "      <td>Hispanic</td>\n",
       "      <td>True</td>\n",
       "      <td>NaN</td>\n",
       "      <td>NaN</td>\n",
       "      <td>20.0</td>\n",
       "    </tr>\n",
       "    <tr>\n",
       "      <th>1668</th>\n",
       "      <td>ERR1310706</td>\n",
       "      <td>PAIRED</td>\n",
       "      <td>Illumina MiSeq</td>\n",
       "      <td>2010-07-31 00:00:00</td>\n",
       "      <td>USA, Missouri, St. Louis</td>\n",
       "      <td>38.63699</td>\n",
       "      <td>-90.263794</td>\n",
       "      <td>26.2</td>\n",
       "      <td>73.0</td>\n",
       "      <td>NaN</td>\n",
       "      <td>...</td>\n",
       "      <td>49.0</td>\n",
       "      <td>female</td>\n",
       "      <td>Vaginal</td>\n",
       "      <td>Dizygotic</td>\n",
       "      <td>Caucasian</td>\n",
       "      <td>Not Hispanic</td>\n",
       "      <td>False</td>\n",
       "      <td>fd</td>\n",
       "      <td>False</td>\n",
       "      <td>2.0</td>\n",
       "    </tr>\n",
       "  </tbody>\n",
       "</table>\n",
       "<p>1669 rows × 26 columns</p>\n",
       "</div>"
      ],
      "text/plain": [
       "              id Library Layout      Instrument      collection_date  \\\n",
       "0     ERR1314182         PAIRED  Illumina MiSeq  2011-11-11 00:00:00   \n",
       "1     ERR1314183         PAIRED  Illumina MiSeq  2010-12-11 00:00:00   \n",
       "2     ERR1314184         PAIRED  Illumina MiSeq  2011-12-11 00:00:00   \n",
       "3     ERR1314185         PAIRED  Illumina MiSeq  2011-12-11 00:00:00   \n",
       "4     ERR1314186         PAIRED  Illumina MiSeq  2013-01-12 00:00:00   \n",
       "...          ...            ...             ...                  ...   \n",
       "1664  ERR1310705         PAIRED  Illumina MiSeq  2010-07-31 00:00:00   \n",
       "1665  ERR1310707         PAIRED  Illumina MiSeq  2011-02-07 00:00:00   \n",
       "1666  ERR1310708         PAIRED  Illumina MiSeq  2011-04-09 00:00:00   \n",
       "1667  ERR1310709         PAIRED  Illumina MiSeq  2012-01-18 00:00:00   \n",
       "1668  ERR1310706         PAIRED  Illumina MiSeq  2010-07-31 00:00:00   \n",
       "\n",
       "             geo_location_name  geo_latitude  geo_longitude  host_id  \\\n",
       "0     USA, Missouri, St. Louis      38.63699     -90.263794     42.1   \n",
       "1     USA, Missouri, St. Louis      38.63699     -90.263794     27.2   \n",
       "2     USA, Missouri, St. Louis      38.63699     -90.263794     28.1   \n",
       "3     USA, Missouri, St. Louis      38.63699     -90.263794     28.2   \n",
       "4     USA, Missouri, St. Louis      38.63699     -90.263794     39.2   \n",
       "...                        ...           ...            ...      ...   \n",
       "1664  USA, Missouri, St. Louis      38.63699     -90.263794     26.1   \n",
       "1665  USA, Missouri, St. Louis      38.63699     -90.263794     27.1   \n",
       "1666  USA, Missouri, St. Louis      38.63699     -90.263794     27.1   \n",
       "1667  USA, Missouri, St. Louis      38.63699     -90.263794     27.1   \n",
       "1668  USA, Missouri, St. Louis      38.63699     -90.263794     26.2   \n",
       "\n",
       "      age_days  weight_kg  ...  birth_length_cm     sex  delivery_mode  \\\n",
       "0        232.0        NaN  ...             47.0    male       Cesarean   \n",
       "1        192.0        NaN  ...             45.0  female       Cesarean   \n",
       "2        536.0        NaN  ...             51.0  female       Cesarean   \n",
       "3        537.0        NaN  ...             50.0  female       Cesarean   \n",
       "4        688.0        NaN  ...             48.0    male       Cesarean   \n",
       "...        ...        ...  ...              ...     ...            ...   \n",
       "1664      74.0        NaN  ...             49.0  female        Vaginal   \n",
       "1665     250.0        NaN  ...             45.0  female       Cesarean   \n",
       "1666     310.0        NaN  ...             45.0  female       Cesarean   \n",
       "1667     594.0        NaN  ...             45.0  female       Cesarean   \n",
       "1668      73.0        NaN  ...             49.0  female        Vaginal   \n",
       "\n",
       "         zygosity              race     ethnicity  delivery_preterm diet_milk  \\\n",
       "0     Monozygotic         Caucasian  Not Hispanic              True        fd   \n",
       "1       Dizygotic         Caucasian      Hispanic              True        fd   \n",
       "2     Monozygotic         Caucasian  Not Hispanic             False       NaN   \n",
       "3     Monozygotic         Caucasian  Not Hispanic             False       NaN   \n",
       "4     Monozygotic  African-American  Not Hispanic              True       NaN   \n",
       "...           ...               ...           ...               ...       ...   \n",
       "1664    Dizygotic         Caucasian  Not Hispanic             False        fd   \n",
       "1665    Dizygotic         Caucasian      Hispanic              True        fd   \n",
       "1666    Dizygotic         Caucasian      Hispanic              True        fd   \n",
       "1667    Dizygotic         Caucasian      Hispanic              True       NaN   \n",
       "1668    Dizygotic         Caucasian  Not Hispanic             False        fd   \n",
       "\n",
       "     diet_weaning age_months  \n",
       "0            True        8.0  \n",
       "1            True        6.0  \n",
       "2             NaN       18.0  \n",
       "3             NaN       18.0  \n",
       "4             NaN       23.0  \n",
       "...           ...        ...  \n",
       "1664        False        2.0  \n",
       "1665         True        8.0  \n",
       "1666         True       10.0  \n",
       "1667          NaN       20.0  \n",
       "1668        False        2.0  \n",
       "\n",
       "[1669 rows x 26 columns]"
      ]
     },
     "execution_count": 13,
     "metadata": {},
     "output_type": "execute_result"
    }
   ],
   "source": [
    "df_meta = pd.read_csv(f'../{data_dir}/metadata.tsv', sep='\\t')\n",
    "df_meta"
   ]
  },
  {
   "cell_type": "code",
   "execution_count": 14,
   "id": "1eb1f5a0-e194-4f8e-8fcb-172555f41526",
   "metadata": {},
   "outputs": [],
   "source": [
    "#first lose all host_id duplicates\n",
    "#here this is not problematic because the columns of interest (preterm. delivery_mode, birth weight etc.) are all the same for each host_id\n",
    "df_meta_red = df_meta.drop_duplicates(subset=['host_id'])\n",
    "df_meta_red.to_csv('df_meta_noduplicates.tsv', sep=\"\\t\")"
   ]
  },
  {
   "cell_type": "markdown",
   "id": "8951adbf-e103-461f-aeba-b344ded7d9fb",
   "metadata": {},
   "source": [
    "1. Differences in birth weight in preterm and non-preterm delivery babies"
   ]
  },
  {
   "cell_type": "code",
   "execution_count": 15,
   "id": "6d1753d8-8b84-4056-a3da-bf561f98fb5a",
   "metadata": {},
   "outputs": [
    {
     "name": "stdout",
     "output_type": "stream",
     "text": [
      "Preterm average weight: 2404.6190476190477\n",
      "Non-preterm average weight: 2813.9473684210525\n",
      "Difference: -409.3283208020048\n"
     ]
    },
    {
     "data": {
      "image/png": "[encoded data removed]",
      "text/plain": [
       "<Figure size 432x288 with 1 Axes>"
      ]
     },
     "metadata": {
      "needs_background": "light"
     },
     "output_type": "display_data"
    }
   ],
   "source": [
    "preterm = df_meta_red[df_meta_red['delivery_preterm'] == True]\n",
    "notpreterm = df_meta_red[df_meta_red['delivery_preterm'] == False]\n",
    "#calculate average\n",
    "preterm_weight = preterm['birth_weight_g'].mean()\n",
    "notpreterm_weight = notpreterm['birth_weight_g'].mean()\n",
    "\n",
    "print('Preterm average weight:', preterm_weight)\n",
    "print('Non-preterm average weight:', notpreterm_weight)\n",
    "print('Difference:', preterm_weight - notpreterm_weight)\n",
    "\n",
    "weights = pd.DataFrame({'Birthweight':['Preterm', 'Not Preterm'], 'weight in g':[preterm_weight, notpreterm_weight]})\n",
    "plot = weights.plot.bar(x='Birthweight', y = 'weight in g', rot=0)"
   ]
  },
  {
   "cell_type": "code",
   "execution_count": 52,
   "id": "d72bf4cb-7c4c-4cec-aa10-3701c865b18a",
   "metadata": {},
   "outputs": [
    {
     "name": "stdout",
     "output_type": "stream",
     "text": [
      "Index(['id', 'Library Layout', 'Instrument', 'collection_date',\n",
      "       'geo_location_name', 'geo_latitude', 'geo_longitude', 'host_id',\n",
      "       'age_days', 'weight_kg', 'length_cm', 'WAZ', 'HAZ', 'WHZ', 'BMI',\n",
      "       'birth_weight_g', 'birth_length_cm', 'sex', 'delivery_mode', 'zygosity',\n",
      "       'race', 'ethnicity', 'delivery_preterm', 'diet_milk', 'diet_weaning',\n",
      "       'age_months'],\n",
      "      dtype='object')\n"
     ]
    },
    {
     "data": {
      "image/png": "[encoded data removed]",
      "text/plain": [
       "<Figure size 504x360 with 1 Axes>"
      ]
     },
     "metadata": {
      "needs_background": "light"
     },
     "output_type": "display_data"
    }
   ],
   "source": [
    "print(df_meta_red.columns)\n",
    "plt.figure(figsize = (7, 5))\n",
    "plt.hist(preterm['birth_weight_g'], rwidth=0.9)\n",
    "plt.hist(notpreterm['birth_weight_g'], alpha = 0.8, rwidth=0.9)\n",
    "plt.legend([f'preterm: $\\mu$ = {round(preterm.birth_weight_g.mean(), 1)} g \\n $\\sigma$ = {round((preterm.birth_weight_g.var())**(1/2), 1)} g', \n",
    "            f'non-preterm: $\\mu$ = {round(notpreterm.birth_weight_g.mean(), 1)} g \\n $\\sigma$ = {round((notpreterm.birth_weight_g.var())**(1/2), 1)} g'])\n",
    "plt.xlabel('Weight of baby [g]', fontsize = 12)\n",
    "plt.ylabel('Count', fontsize = 12)\n",
    "plt.title('Comparing birth weights of preterm birth or not', fontsize = 15)\n",
    "plt.grid(axis='y', alpha=0.75)"
   ]
  },
  {
   "cell_type": "markdown",
   "id": "7c3179d5-26d7-4174-857c-a43ede0437e9",
   "metadata": {},
   "source": [
    "2. Differences in birth height in preterm and non-preterm delivery babies"
   ]
  },
  {
   "cell_type": "code",
   "execution_count": 23,
   "id": "cf4cf3a0-89fa-4d95-9063-430a4110050b",
   "metadata": {},
   "outputs": [
    {
     "name": "stdout",
     "output_type": "stream",
     "text": [
      "Preterm average length: 47.19047619047619\n",
      "Non-preterm average length: 49.36842105263158\n",
      "Difference: -2.1779448621553925\n"
     ]
    },
    {
     "data": {
      "image/png": "[encoded data removed]",
      "text/plain": [
       "<Figure size 432x288 with 1 Axes>"
      ]
     },
     "metadata": {
      "needs_background": "light"
     },
     "output_type": "display_data"
    }
   ],
   "source": [
    "#calculate average\n",
    "preterm_length = preterm['birth_length_cm'].mean()\n",
    "notpreterm_length = notpreterm['birth_length_cm'].mean()\n",
    "\n",
    "print('Preterm average length:', preterm_length)\n",
    "print('Non-preterm average length:', notpreterm_length)\n",
    "print('Difference:', preterm_length - notpreterm_length)\n",
    "\n",
    "length = pd.DataFrame({'Birthlength':['Preterm', 'Not Preterm'], 'length in cm':[preterm_length, notpreterm_length]})\n",
    "plot = length.plot.bar(x='Birthlength', y = 'length in cm', rot=0)"
   ]
  },
  {
   "cell_type": "code",
   "execution_count": 53,
   "id": "b82f793c-b59a-47ae-a682-158d33e53f11",
   "metadata": {},
   "outputs": [
    {
     "data": {
      "image/png": "[encoded data removed]",
      "text/plain": [
       "<Figure size 504x360 with 1 Axes>"
      ]
     },
     "metadata": {
      "needs_background": "light"
     },
     "output_type": "display_data"
    }
   ],
   "source": [
    "plt.figure(figsize = (7, 5))\n",
    "plt.hist(preterm['birth_length_cm'], rwidth=0.9)\n",
    "plt.hist(notpreterm['birth_length_cm'], alpha = 0.8, rwidth=0.9)\n",
    "plt.legend([f'preterm: $\\mu$ = {round(preterm.birth_length_cm.mean(), 1)} cm \\n $\\sigma$ = {round((preterm.birth_length_cm.var())**(1/2), 1)} cm', \n",
    "            f'non-preterm: $\\mu$ = {round(notpreterm.birth_length_cm.mean(), 1)} cm \\n $\\sigma$ = {round((notpreterm.birth_length_cm.var())**(1/2), 1)} cm'])\n",
    "plt.xlabel('height of baby [cm]', fontsize = 12)\n",
    "plt.ylabel('Count', fontsize = 12)\n",
    "plt.title('Comparing birth heights of preterm birth or not', fontsize = 15)\n",
    "plt.grid(axis='y', alpha=0.75)"
   ]
  },
  {
   "cell_type": "markdown",
   "id": "29d5509f-9fe2-483d-a511-a6ecdf4cf98f",
   "metadata": {},
   "source": [
    "3. Preterm delivery and delivery mode"
   ]
  },
  {
   "cell_type": "code",
   "execution_count": 49,
   "id": "8aa73861-bd75-44d3-90cb-f003b73155b8",
   "metadata": {},
   "outputs": [
    {
     "name": "stdout",
     "output_type": "stream",
     "text": [
      "Percentage of preterm deliveries for different delivery modes:\n",
      "Cesarean: 58.33\n",
      "Vaginal: 41.38\n",
      "Cesarean Emergency: 66.67\n"
     ]
    },
    {
     "data": {
      "text/plain": [
       "Text(0.5, 1.0, 'Percentage of preterm deliveries for different delivery modes')"
      ]
     },
     "execution_count": 49,
     "metadata": {},
     "output_type": "execute_result"
    },
    {
     "data": {
      "image/png": "[encoded data removed]",
      "text/plain": [
       "<Figure size 432x288 with 1 Axes>"
      ]
     },
     "metadata": {
      "needs_background": "light"
     },
     "output_type": "display_data"
    }
   ],
   "source": [
    "ces = df_meta_red[df_meta_red['delivery_mode'] == 'Cesarean']\n",
    "vag = df_meta_red[df_meta_red['delivery_mode'] == 'Vaginal']\n",
    "emerg = df_meta_red[df_meta_red['delivery_mode'] == 'Cesarean_emergency']\n",
    "\n",
    "ces_tot = ces['id'].nunique()\n",
    "vag_tot = vag['id'].nunique()\n",
    "emerg_tot = emerg['id'].nunique()\n",
    "\n",
    "ces_pre = ces['delivery_preterm'].sum()\n",
    "vag_pre = vag['delivery_preterm'].sum()\n",
    "emerg_pre = emerg['delivery_preterm'].sum()\n",
    "\n",
    "print('Percentage of preterm deliveries for different delivery modes:')\n",
    "print('Cesarean:', round(ces_pre/ces_tot*100,2))\n",
    "print('Vaginal:', round(vag_pre/vag_tot*100,2))\n",
    "print('Cesarean Emergency:', round(emerg_pre/emerg_tot*100, 2))\n",
    "\n",
    "modes = pd.DataFrame({'Delivery Mode':['Cesarean', 'Vaginal', 'Cesarean Emergency'], 'Percentage of Preterm Delivery':[(ces_pre/ces_tot)*100, (vag_pre/vag_tot)*100, (emerg_pre/emerg_tot)*100]})\n",
    "plot = modes.plot.bar(x='Delivery Mode', y='Percentage of Preterm Delivery', rot=0)\n",
    "plt.title('Percentage of preterm deliveries for different delivery modes')"
   ]
  },
  {
   "cell_type": "markdown",
   "id": "4a6ec9f2-626d-4aed-bbd8-244e8d9072a3",
   "metadata": {},
   "source": [
    "4. Distribution of sexes"
   ]
  },
  {
   "cell_type": "code",
   "execution_count": 36,
   "id": "9e4b89bb-0d7a-4a4b-81ab-ed2747ecaf08",
   "metadata": {},
   "outputs": [
    {
     "name": "stdout",
     "output_type": "stream",
     "text": [
      "Distribution of sexes:\n",
      "Female: 39\n",
      "Male: 41\n"
     ]
    },
    {
     "data": {
      "image/png": "[encoded data removed]",
      "text/plain": [
       "<Figure size 432x288 with 1 Axes>"
      ]
     },
     "metadata": {
      "needs_background": "light"
     },
     "output_type": "display_data"
    }
   ],
   "source": [
    "females = df_meta_red['id'][df_meta_red['sex'] == \"female\"].nunique()\n",
    "males = df_meta_red['id'][df_meta_red['sex'] == \"male\"].nunique()\n",
    "print('Distribution of sexes:')\n",
    "print('Female:', females)\n",
    "print('Male:', males)\n",
    "plot = df_meta_red['sex'].value_counts().plot.bar()"
   ]
  },
  {
   "cell_type": "markdown",
   "id": "0dfa6b0c-ef0c-497c-a720-cc5589a88a25",
   "metadata": {},
   "source": [
    "5. Distribution of Zygosity"
   ]
  },
  {
   "cell_type": "code",
   "execution_count": 39,
   "id": "9858ef2f-06f7-4853-b820-9cc48aa8b75e",
   "metadata": {},
   "outputs": [
    {
     "name": "stdout",
     "output_type": "stream",
     "text": [
      "Distribution of Zygosity:\n",
      "Monozygotic: 42\n",
      "Dizygotic: 36\n",
      "Unknown: 2\n"
     ]
    },
    {
     "data": {
      "image/png": "[encoded data removed]",
      "text/plain": [
       "<Figure size 432x288 with 1 Axes>"
      ]
     },
     "metadata": {
      "needs_background": "light"
     },
     "output_type": "display_data"
    }
   ],
   "source": [
    "dizygotic = df_meta_red['id'][df_meta_red['zygosity'] == \"Dizygotic\"].nunique()\n",
    "monozygotic = df_meta_red['id'][df_meta_red['zygosity'] == \"Monozygotic\"].nunique()\n",
    "unknown = df_meta_red['id'][df_meta_red['zygosity'] == \"Unknown\"].nunique()\n",
    "print('Distribution of Zygosity:')\n",
    "print('Monozygotic:', monozygotic)\n",
    "print('Dizygotic:', dizygotic)\n",
    "print('Unknown:', unknown)\n",
    "plot = df_meta_red['zygosity'].value_counts().plot.bar()"
   ]
  },
  {
   "cell_type": "markdown",
   "id": "c61ea335-44e2-4a0f-8f7e-f2478f9353d2",
   "metadata": {},
   "source": [
    "6. Distribution of Race"
   ]
  },
  {
   "cell_type": "code",
   "execution_count": 40,
   "id": "7e63f315-c8f8-45e4-97a0-6691d5c24eed",
   "metadata": {},
   "outputs": [
    {
     "name": "stdout",
     "output_type": "stream",
     "text": [
      "Distribution of Race:\n",
      "African-American: 10\n",
      "Caucasian: 70\n"
     ]
    },
    {
     "data": {
      "image/png": "[encoded data removed]",
      "text/plain": [
       "<Figure size 432x288 with 1 Axes>"
      ]
     },
     "metadata": {
      "needs_background": "light"
     },
     "output_type": "display_data"
    }
   ],
   "source": [
    "caucasian = df_meta_red['id'][df_meta_red['race'] == \"Caucasian\"].nunique()\n",
    "africanamerican = df_meta_red['id'][df_meta_red['race'] == \"African-American\"].nunique()\n",
    "\n",
    "\n",
    "print('Distribution of Race:')\n",
    "print('African-American:', africanamerican)\n",
    "print('Caucasian:', caucasian)\n",
    "\n",
    "plot = df_meta_red['race'].value_counts().plot.bar()"
   ]
  },
  {
   "cell_type": "markdown",
   "id": "d786c04d-2644-4f60-91ec-eb8a85046d72",
   "metadata": {},
   "source": [
    "7. Samples per Host"
   ]
  },
  {
   "cell_type": "code",
   "execution_count": 14,
   "id": "1d7d07d0-3c3b-42b9-ae68-9131b1f12a55",
   "metadata": {},
   "outputs": [
    {
     "data": {
      "text/plain": [
       "14.1    30\n",
       "16.2    29\n",
       "12.2    28\n",
       "3.2     28\n",
       "8.2     28\n",
       "        ..\n",
       "48.1     8\n",
       "46.1     7\n",
       "11.1     7\n",
       "46.2     6\n",
       "11.2     6\n",
       "Name: host_id, Length: 80, dtype: int64"
      ]
     },
     "execution_count": 14,
     "metadata": {},
     "output_type": "execute_result"
    }
   ],
   "source": [
    "samplesperhost = df_meta['host_id'].value_counts()\n",
    "samplesperhost"
   ]
  },
  {
   "cell_type": "markdown",
   "id": "f3018708-cb27-4b7d-8428-c53ccff03aa6",
   "metadata": {},
   "source": [
    "8. Group samples according to diet"
   ]
  },
  {
   "cell_type": "code",
   "execution_count": 5,
   "id": "3aa46aef-8dc3-4a51-b7ab-1a80c0826af5",
   "metadata": {},
   "outputs": [],
   "source": [
    "formula = df_meta[df_meta['diet_milk'] == \"fd\"]\n",
    "breastmilk = df_meta[df_meta['diet_milk'] == \"bd\"]\n",
    "nomilk = df_meta[df_meta['diet_milk'] == \"no milk\"]\n",
    "\n",
    "weaning = df_meta[df_meta['diet_weaning'] == True]\n",
    "notweaning = df_meta[df_meta['diet_weaning'] == False]"
   ]
  },
  {
   "cell_type": "code",
   "execution_count": 8,
   "id": "9b5e50f7-3290-42bb-8110-2db48bea75db",
   "metadata": {},
   "outputs": [
    {
     "ename": "TypeError",
     "evalue": "'method' object is not subscriptable",
     "output_type": "error",
     "traceback": [
      "\u001b[0;31m---------------------------------------------------------------------------\u001b[0m",
      "\u001b[0;31mTypeError\u001b[0m                                 Traceback (most recent call last)",
      "Input \u001b[0;32mIn [8]\u001b[0m, in \u001b[0;36m<cell line: 1>\u001b[0;34m()\u001b[0m\n\u001b[0;32m----> 1\u001b[0m \u001b[43mdf_meta\u001b[49m\u001b[38;5;241;43m.\u001b[39;49m\u001b[43mgroupby\u001b[49m\u001b[43m[\u001b[49m\u001b[38;5;124;43m'\u001b[39;49m\u001b[38;5;124;43mhost_id\u001b[39;49m\u001b[38;5;124;43m'\u001b[39;49m\u001b[43m]\u001b[49m\n",
      "\u001b[0;31mTypeError\u001b[0m: 'method' object is not subscriptable"
     ]
    }
   ],
   "source": [
    "df_meta.groupby['host_id']"
   ]
  },
  {
   "cell_type": "code",
   "execution_count": null,
   "id": "80cc2135-5e48-461d-bbaa-ff43554bc986",
   "metadata": {},
   "outputs": [],
   "source": []
  }
 ],
 "metadata": {
  "kernelspec": {
   "display_name": "Python 3 (ipykernel)",
   "language": "python",
   "name": "python3"
  },
  "language_info": {
   "codemirror_mode": {
    "name": "ipython",
    "version": 3
   },
   "file_extension": ".py",
   "mimetype": "text/x-python",
   "name": "python",
   "nbconvert_exporter": "python",
   "pygments_lexer": "ipython3",
   "version": "3.8.13"
  }
 },
 "nbformat": 4,
 "nbformat_minor": 5
}
