{
 "cells": [
  {
   "cell_type": "code",
   "execution_count": 14,
   "id": "5e5098c2",
   "metadata": {},
   "outputs": [
    {
     "data": {
      "text/plain": [
       "14.1    30\n",
       "16.2    29\n",
       "12.2    28\n",
       "3.2     28\n",
       "8.2     28\n",
       "        ..\n",
       "48.1     8\n",
       "46.1     7\n",
       "11.1     7\n",
       "46.2     6\n",
       "11.2     6\n",
       "Name: host_id, Length: 80, dtype: int64"
      ]
     },
     "execution_count": 14,
     "metadata": {},
     "output_type": "execute_result"
    }
   ],
   "source": [
    "<<<<<<< REMOTE CELL DELETED >>>>>>>\n",
    "samplesperhost = df_meta['host_id'].value_counts()\n",
    "samplesperhost"
   ]
  }
 ],
 "metadata": {},
 "nbformat": 4,
 "nbformat_minor": 5
}
