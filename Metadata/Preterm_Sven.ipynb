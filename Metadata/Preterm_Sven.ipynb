{
 "cells": [
  {
   "cell_type": "code",
   "execution_count": 2,
   "id": "e5d92f31-a922-4f97-bb7a-35c0c38dc245",
   "metadata": {},
   "outputs": [],
   "source": [
    "#For the import of packages\n",
    "import numpy as np\n",
    "import pandas as pd\n",
    "from qiime2 import Visualization\n",
    "import matplotlib.pyplot as plt\n",
    "import qiime2 as q2\n",
    "\n",
    "data_dir = \"data/\""
   ]
  },
  {
   "cell_type": "code",
   "execution_count": 3,
   "id": "e50ac42b-8a14-40a0-823a-7ae21e97ff94",
   "metadata": {},
   "outputs": [
    {
     "name": "stdout",
     "output_type": "stream",
     "text": [
      "2022-10-08 13:24:23 URL:https://polybox.ethz.ch/index.php/s/KEQxsekRow6lOAz/download [8529260946/8529260946] -> \"data//sequences_demux_paired.qza\" [1]\n",
      "2022-10-08 13:24:29 URL:https://polybox.ethz.ch/index.php/s/RVPyoVYUBeVQFrJ/download [325995/325995] -> \"data//metadata.tsv\" [1]\n"
     ]
    }
   ],
   "source": [
    "#data import\n",
    "! wget -nv -O $data_dir/sequences_demux_paired.qza 'https://polybox.ethz.ch/index.php/s/KEQxsekRow6lOAz/download'\n",
    "! wget -nv -O $data_dir/metadata.tsv 'https://polybox.ethz.ch/index.php/s/RVPyoVYUBeVQFrJ/download'"
   ]
  },
  {
   "cell_type": "code",
   "execution_count": 5,
   "id": "1705c342-e818-40b9-901a-54aa8fcece70",
   "metadata": {},
   "outputs": [],
   "source": [
    "df_meta = pd.read_csv('data/metadata.tsv', sep='\\t')"
   ]
  },
  {
   "cell_type": "markdown",
   "id": "8951adbf-e103-461f-aeba-b344ded7d9fb",
   "metadata": {},
   "source": [
    "1. Differences in birth weight in preterm and non-preterm delivery babies"
   ]
  },
  {
   "cell_type": "code",
   "execution_count": 31,
   "id": "6d1753d8-8b84-4056-a3da-bf561f98fb5a",
   "metadata": {},
   "outputs": [
    {
     "name": "stdout",
     "output_type": "stream",
     "text": [
      "Preterm average weight: 2389.707423580786\n",
      "Non-preterm average weight: 2804.1699867197876\n",
      "Difference: -414.46256313900176\n"
     ]
    }
   ],
   "source": [
    "preterm = df_meta[df_meta['delivery_preterm'] == True]\n",
    "notpreterm = df_meta[df_meta['delivery_preterm'] == False]\n",
    "#calculate average\n",
    "preterm_weight = preterm['birth_weight_g'].mean()\n",
    "notpreterm_weight = notpreterm['birth_weight_g'].mean()\n",
    "\n",
    "print('Preterm average weight:', preterm_weight)\n",
    "print('Non-preterm average weight:', notpreterm_weight)\n",
    "print('Difference:', preterm_weight - notpreterm_weight)"
   ]
  },
  {
   "cell_type": "markdown",
   "id": "7c3179d5-26d7-4174-857c-a43ede0437e9",
   "metadata": {},
   "source": [
    "2. Differences in birth height in preterm and non-preterm delivery babies"
   ]
  },
  {
   "cell_type": "code",
   "execution_count": 33,
   "id": "cf4cf3a0-89fa-4d95-9063-430a4110050b",
   "metadata": {},
   "outputs": [
    {
     "name": "stdout",
     "output_type": "stream",
     "text": [
      "Preterm average length: 47.077510917030565\n",
      "Non-preterm average length: 49.40371845949535\n",
      "Difference: -2.326207542464786\n"
     ]
    }
   ],
   "source": [
    "#calculate average\n",
    "preterm_length = preterm['birth_length_cm'].mean()\n",
    "notpreterm_length = notpreterm['birth_length_cm'].mean()\n",
    "\n",
    "print('Preterm average length:', preterm_length)\n",
    "print('Non-preterm average length:', notpreterm_length)\n",
    "print('Difference:', preterm_length - notpreterm_length)"
   ]
  },
  {
   "cell_type": "markdown",
   "id": "29d5509f-9fe2-483d-a511-a6ecdf4cf98f",
   "metadata": {},
   "source": [
    "3. Preterm delivery and delivery mode"
   ]
  },
  {
   "cell_type": "code",
   "execution_count": 50,
   "id": "8aa73861-bd75-44d3-90cb-f003b73155b8",
   "metadata": {},
   "outputs": [
    {
     "name": "stdout",
     "output_type": "stream",
     "text": [
      "Percentage of preterm delivery in different delivery modes:\n",
      "Cesarean: 59.4059405940594\n",
      "Vaginal: 47.333333333333336\n",
      "Cesarean Emergency: 54.23728813559322\n"
     ]
    }
   ],
   "source": [
    "ces = df_meta[df_meta['delivery_mode'] == 'Cesarean']\n",
    "vag = df_meta[df_meta['delivery_mode'] == 'Vaginal']\n",
    "emerg = df_meta[df_meta['delivery_mode'] == 'Cesarean_emergency']\n",
    "\n",
    "ces_tot = ces['id'].nunique()\n",
    "vag_tot = vag['id'].nunique()\n",
    "emerg_tot = emerg['id'].nunique()\n",
    "\n",
    "ces_pre = ces['delivery_preterm'].sum()\n",
    "vag_pre = vag['delivery_preterm'].sum()\n",
    "emerg_pre = emerg['delivery_preterm'].sum()\n",
    "\n",
    "print('Percentage of preterm delivery in different delivery modes:')\n",
    "print('Cesarean:', (ces_pre/ces_tot)*100)\n",
    "print('Vaginal:', (vag_pre/vag_tot)*100)\n",
    "print('Cesarean Emergency:', (emerg_pre/emerg_tot)*100)"
   ]
  },
  {
   "cell_type": "code",
   "execution_count": null,
   "id": "fb28531e-e393-4a4d-9949-debd67e077d4",
   "metadata": {},
   "outputs": [],
   "source": []
  }
 ],
 "metadata": {
  "kernelspec": {
   "display_name": "Python 3 (ipykernel)",
   "language": "python",
   "name": "python3"
  },
  "language_info": {
   "codemirror_mode": {
    "name": "ipython",
    "version": 3
   },
   "file_extension": ".py",
   "mimetype": "text/x-python",
   "name": "python",
   "nbconvert_exporter": "python",
   "pygments_lexer": "ipython3",
   "version": "3.8.13"
  }
 },
 "nbformat": 4,
 "nbformat_minor": 5
}
