{
 "cells": [
  {
   "cell_type": "code",
   "execution_count": 1,
   "id": "c8c68624-5e8e-4905-8720-609d0810099f",
   "metadata": {},
   "outputs": [],
   "source": [
    "#load the essential packages\n",
    "import numpy as np\n",
    "import pandas as pd\n",
    "from qiime2 import Visualization\n",
    "import matplotlib.pyplot as plt\n",
    "import qiime2 as q2\n",
    "\n"
   ]
  },
  {
   "cell_type": "code",
   "execution_count": 2,
   "id": "73213e0e-9402-4731-96b0-41de1c3a631e",
   "metadata": {},
   "outputs": [],
   "source": [
    "data_dir = \"../data/\""
   ]
  },
  {
   "cell_type": "code",
   "execution_count": 9,
   "id": "7f8b1022-b28b-4ade-af0c-4a7572e694d0",
   "metadata": {},
   "outputs": [],
   "source": [
    "metadf = pd.read_csv('../data/metadata.tsv', sep='\\t')"
   ]
  },
  {
   "cell_type": "code",
   "execution_count": 10,
   "id": "0549b819-7273-49b5-9d6b-3c8ddb177aa4",
   "metadata": {},
   "outputs": [
    {
     "data": {
      "text/html": [
       "<div>\n",
       "<style scoped>\n",
       "    .dataframe tbody tr th:only-of-type {\n",
       "        vertical-align: middle;\n",
       "    }\n",
       "\n",
       "    .dataframe tbody tr th {\n",
       "        vertical-align: top;\n",
       "    }\n",
       "\n",
       "    .dataframe thead th {\n",
       "        text-align: right;\n",
       "    }\n",
       "</style>\n",
       "<table border=\"1\" class=\"dataframe\">\n",
       "  <thead>\n",
       "    <tr style=\"text-align: right;\">\n",
       "      <th></th>\n",
       "      <th>id</th>\n",
       "      <th>Library Layout</th>\n",
       "      <th>Instrument</th>\n",
       "      <th>collection_date</th>\n",
       "      <th>geo_location_name</th>\n",
       "      <th>geo_latitude</th>\n",
       "      <th>geo_longitude</th>\n",
       "      <th>host_id</th>\n",
       "      <th>age_days</th>\n",
       "      <th>weight_kg</th>\n",
       "      <th>...</th>\n",
       "      <th>birth_length_cm</th>\n",
       "      <th>sex</th>\n",
       "      <th>delivery_mode</th>\n",
       "      <th>zygosity</th>\n",
       "      <th>race</th>\n",
       "      <th>ethnicity</th>\n",
       "      <th>delivery_preterm</th>\n",
       "      <th>diet_milk</th>\n",
       "      <th>diet_weaning</th>\n",
       "      <th>age_months</th>\n",
       "    </tr>\n",
       "  </thead>\n",
       "  <tbody>\n",
       "    <tr>\n",
       "      <th>0</th>\n",
       "      <td>ERR1314182</td>\n",
       "      <td>PAIRED</td>\n",
       "      <td>Illumina MiSeq</td>\n",
       "      <td>2011-11-11 00:00:00</td>\n",
       "      <td>USA, Missouri, St. Louis</td>\n",
       "      <td>38.63699</td>\n",
       "      <td>-90.263794</td>\n",
       "      <td>42.1</td>\n",
       "      <td>232.0</td>\n",
       "      <td>NaN</td>\n",
       "      <td>...</td>\n",
       "      <td>47.0</td>\n",
       "      <td>male</td>\n",
       "      <td>Cesarean</td>\n",
       "      <td>Monozygotic</td>\n",
       "      <td>Caucasian</td>\n",
       "      <td>Not Hispanic</td>\n",
       "      <td>True</td>\n",
       "      <td>fd</td>\n",
       "      <td>True</td>\n",
       "      <td>8.0</td>\n",
       "    </tr>\n",
       "    <tr>\n",
       "      <th>1</th>\n",
       "      <td>ERR1314183</td>\n",
       "      <td>PAIRED</td>\n",
       "      <td>Illumina MiSeq</td>\n",
       "      <td>2010-12-11 00:00:00</td>\n",
       "      <td>USA, Missouri, St. Louis</td>\n",
       "      <td>38.63699</td>\n",
       "      <td>-90.263794</td>\n",
       "      <td>27.2</td>\n",
       "      <td>192.0</td>\n",
       "      <td>NaN</td>\n",
       "      <td>...</td>\n",
       "      <td>45.0</td>\n",
       "      <td>female</td>\n",
       "      <td>Cesarean</td>\n",
       "      <td>Dizygotic</td>\n",
       "      <td>Caucasian</td>\n",
       "      <td>Hispanic</td>\n",
       "      <td>True</td>\n",
       "      <td>fd</td>\n",
       "      <td>True</td>\n",
       "      <td>6.0</td>\n",
       "    </tr>\n",
       "    <tr>\n",
       "      <th>2</th>\n",
       "      <td>ERR1314184</td>\n",
       "      <td>PAIRED</td>\n",
       "      <td>Illumina MiSeq</td>\n",
       "      <td>2011-12-11 00:00:00</td>\n",
       "      <td>USA, Missouri, St. Louis</td>\n",
       "      <td>38.63699</td>\n",
       "      <td>-90.263794</td>\n",
       "      <td>28.1</td>\n",
       "      <td>536.0</td>\n",
       "      <td>NaN</td>\n",
       "      <td>...</td>\n",
       "      <td>51.0</td>\n",
       "      <td>female</td>\n",
       "      <td>Cesarean</td>\n",
       "      <td>Monozygotic</td>\n",
       "      <td>Caucasian</td>\n",
       "      <td>Not Hispanic</td>\n",
       "      <td>False</td>\n",
       "      <td>NaN</td>\n",
       "      <td>NaN</td>\n",
       "      <td>18.0</td>\n",
       "    </tr>\n",
       "    <tr>\n",
       "      <th>3</th>\n",
       "      <td>ERR1314185</td>\n",
       "      <td>PAIRED</td>\n",
       "      <td>Illumina MiSeq</td>\n",
       "      <td>2011-12-11 00:00:00</td>\n",
       "      <td>USA, Missouri, St. Louis</td>\n",
       "      <td>38.63699</td>\n",
       "      <td>-90.263794</td>\n",
       "      <td>28.2</td>\n",
       "      <td>537.0</td>\n",
       "      <td>NaN</td>\n",
       "      <td>...</td>\n",
       "      <td>50.0</td>\n",
       "      <td>female</td>\n",
       "      <td>Cesarean</td>\n",
       "      <td>Monozygotic</td>\n",
       "      <td>Caucasian</td>\n",
       "      <td>Not Hispanic</td>\n",
       "      <td>False</td>\n",
       "      <td>NaN</td>\n",
       "      <td>NaN</td>\n",
       "      <td>18.0</td>\n",
       "    </tr>\n",
       "    <tr>\n",
       "      <th>4</th>\n",
       "      <td>ERR1314186</td>\n",
       "      <td>PAIRED</td>\n",
       "      <td>Illumina MiSeq</td>\n",
       "      <td>2013-01-12 00:00:00</td>\n",
       "      <td>USA, Missouri, St. Louis</td>\n",
       "      <td>38.63699</td>\n",
       "      <td>-90.263794</td>\n",
       "      <td>39.2</td>\n",
       "      <td>688.0</td>\n",
       "      <td>NaN</td>\n",
       "      <td>...</td>\n",
       "      <td>48.0</td>\n",
       "      <td>male</td>\n",
       "      <td>Cesarean</td>\n",
       "      <td>Monozygotic</td>\n",
       "      <td>African-American</td>\n",
       "      <td>Not Hispanic</td>\n",
       "      <td>True</td>\n",
       "      <td>NaN</td>\n",
       "      <td>NaN</td>\n",
       "      <td>23.0</td>\n",
       "    </tr>\n",
       "  </tbody>\n",
       "</table>\n",
       "<p>5 rows × 26 columns</p>\n",
       "</div>"
      ],
      "text/plain": [
       "           id Library Layout      Instrument      collection_date  \\\n",
       "0  ERR1314182         PAIRED  Illumina MiSeq  2011-11-11 00:00:00   \n",
       "1  ERR1314183         PAIRED  Illumina MiSeq  2010-12-11 00:00:00   \n",
       "2  ERR1314184         PAIRED  Illumina MiSeq  2011-12-11 00:00:00   \n",
       "3  ERR1314185         PAIRED  Illumina MiSeq  2011-12-11 00:00:00   \n",
       "4  ERR1314186         PAIRED  Illumina MiSeq  2013-01-12 00:00:00   \n",
       "\n",
       "          geo_location_name  geo_latitude  geo_longitude  host_id  age_days  \\\n",
       "0  USA, Missouri, St. Louis      38.63699     -90.263794     42.1     232.0   \n",
       "1  USA, Missouri, St. Louis      38.63699     -90.263794     27.2     192.0   \n",
       "2  USA, Missouri, St. Louis      38.63699     -90.263794     28.1     536.0   \n",
       "3  USA, Missouri, St. Louis      38.63699     -90.263794     28.2     537.0   \n",
       "4  USA, Missouri, St. Louis      38.63699     -90.263794     39.2     688.0   \n",
       "\n",
       "   weight_kg  ...  birth_length_cm     sex  delivery_mode     zygosity  \\\n",
       "0        NaN  ...             47.0    male       Cesarean  Monozygotic   \n",
       "1        NaN  ...             45.0  female       Cesarean    Dizygotic   \n",
       "2        NaN  ...             51.0  female       Cesarean  Monozygotic   \n",
       "3        NaN  ...             50.0  female       Cesarean  Monozygotic   \n",
       "4        NaN  ...             48.0    male       Cesarean  Monozygotic   \n",
       "\n",
       "               race     ethnicity  delivery_preterm diet_milk diet_weaning  \\\n",
       "0         Caucasian  Not Hispanic              True        fd         True   \n",
       "1         Caucasian      Hispanic              True        fd         True   \n",
       "2         Caucasian  Not Hispanic             False       NaN          NaN   \n",
       "3         Caucasian  Not Hispanic             False       NaN          NaN   \n",
       "4  African-American  Not Hispanic              True       NaN          NaN   \n",
       "\n",
       "  age_months  \n",
       "0        8.0  \n",
       "1        6.0  \n",
       "2       18.0  \n",
       "3       18.0  \n",
       "4       23.0  \n",
       "\n",
       "[5 rows x 26 columns]"
      ]
     },
     "execution_count": 10,
     "metadata": {},
     "output_type": "execute_result"
    }
   ],
   "source": [
    "#get an overview of the data\n",
    "metadf.head(5)"
   ]
  },
  {
   "cell_type": "code",
   "execution_count": 11,
   "id": "a5ff9e92-67e0-489b-a71e-7e7e4a9b7b12",
   "metadata": {},
   "outputs": [],
   "source": [
    "#/\n",
    "#I didn't get why we drop the host id here not for the whole data frame?\n",
    "#which shows that there're no replicates in this dataframe\n",
    "metadf_dr = metadf.drop_duplicates()"
   ]
  },
  {
   "cell_type": "code",
   "execution_count": 12,
   "id": "a5ae9d3f-fda8-4d5b-a254-91ad8fb225c4",
   "metadata": {},
   "outputs": [
    {
     "data": {
      "text/plain": [
       "1669"
      ]
     },
     "execution_count": 12,
     "metadata": {},
     "output_type": "execute_result"
    }
   ],
   "source": [
    "#and then check the results:\n",
    "metadf_dr.shape[0]"
   ]
  },
  {
   "cell_type": "code",
   "execution_count": 13,
   "id": "b89f8b82-9d2a-41be-ae59-374dc83b623c",
   "metadata": {},
   "outputs": [
    {
     "data": {
      "text/plain": [
       "1669"
      ]
     },
     "execution_count": 13,
     "metadata": {},
     "output_type": "execute_result"
    }
   ],
   "source": [
    "metadf.shape[0]"
   ]
  },
  {
   "cell_type": "code",
   "execution_count": 14,
   "id": "52155bc8-64e1-45a5-9645-cc1130ac4aaf",
   "metadata": {},
   "outputs": [
    {
     "data": {
      "text/plain": [
       "['id',\n",
       " 'Library Layout',\n",
       " 'Instrument',\n",
       " 'collection_date',\n",
       " 'geo_location_name',\n",
       " 'geo_latitude',\n",
       " 'geo_longitude',\n",
       " 'host_id',\n",
       " 'age_days',\n",
       " 'weight_kg',\n",
       " 'length_cm',\n",
       " 'WAZ',\n",
       " 'HAZ',\n",
       " 'WHZ',\n",
       " 'BMI',\n",
       " 'birth_weight_g',\n",
       " 'birth_length_cm',\n",
       " 'sex',\n",
       " 'delivery_mode',\n",
       " 'zygosity',\n",
       " 'race',\n",
       " 'ethnicity',\n",
       " 'delivery_preterm',\n",
       " 'diet_milk',\n",
       " 'diet_weaning',\n",
       " 'age_months']"
      ]
     },
     "execution_count": 14,
     "metadata": {},
     "output_type": "execute_result"
    }
   ],
   "source": [
    "#get the column names\n",
    "metadf.columns.tolist()"
   ]
  },
  {
   "cell_type": "code",
   "execution_count": 23,
   "id": "18d21c34-21e6-40f7-8a9a-c750f553f4db",
   "metadata": {},
   "outputs": [],
   "source": [
    "#here do some checkings\n",
    "#1. collecting time \n",
    "#get the collecting date info and weaning state\n",
    "#metadf['collection_date'].sort_values().unique()\n",
    "#date_mdf = metadf.sort_values(by = ['collection_date'])\n",
    "#date_mdf['host_id'].value_counts()#all the samples are unique, sample only for once"
   ]
  },
  {
   "cell_type": "code",
   "execution_count": 32,
   "id": "1681973d-2412-4687-8340-4876255db341",
   "metadata": {},
   "outputs": [],
   "source": [
    "#first to get the age, hostid and weaning state\n",
    "weaningdf0 = metadf[['host_id', 'age_days', 'diet_weaning']]"
   ]
  },
  {
   "cell_type": "code",
   "execution_count": 33,
   "id": "fb491447-3d0c-485a-89f9-f5670aafda9f",
   "metadata": {},
   "outputs": [
    {
     "data": {
      "text/plain": [
       "(1669, 3)"
      ]
     },
     "execution_count": 33,
     "metadata": {},
     "output_type": "execute_result"
    }
   ],
   "source": [
    "#show the information\n",
    "weaningdf0.shape"
   ]
  },
  {
   "cell_type": "code",
   "execution_count": 34,
   "id": "61e40a1f-aa5b-4f48-9601-a5446f401581",
   "metadata": {},
   "outputs": [],
   "source": [
    "#drop the na values\n",
    "weaningdf = weaningdf0.dropna()"
   ]
  },
  {
   "cell_type": "code",
   "execution_count": 35,
   "id": "0d19ebe9-6421-4ccc-b373-5eb4f23bc574",
   "metadata": {},
   "outputs": [
    {
     "data": {
      "text/plain": [
       "(743, 3)"
      ]
     },
     "execution_count": 35,
     "metadata": {},
     "output_type": "execute_result"
    }
   ],
   "source": [
    "#check again, drop 1669-743 = 928 rows\n",
    "weaningdf.shape"
   ]
  },
  {
   "cell_type": "code",
   "execution_count": 37,
   "id": "d2aa7c04-0aec-4630-b1bf-4fa151f4d90d",
   "metadata": {},
   "outputs": [
    {
     "data": {
      "text/html": [
       "<div>\n",
       "<style scoped>\n",
       "    .dataframe tbody tr th:only-of-type {\n",
       "        vertical-align: middle;\n",
       "    }\n",
       "\n",
       "    .dataframe tbody tr th {\n",
       "        vertical-align: top;\n",
       "    }\n",
       "\n",
       "    .dataframe thead th {\n",
       "        text-align: right;\n",
       "    }\n",
       "</style>\n",
       "<table border=\"1\" class=\"dataframe\">\n",
       "  <thead>\n",
       "    <tr style=\"text-align: right;\">\n",
       "      <th></th>\n",
       "      <th>host_id</th>\n",
       "      <th>age_days</th>\n",
       "      <th>diet_weaning</th>\n",
       "    </tr>\n",
       "  </thead>\n",
       "  <tbody>\n",
       "    <tr>\n",
       "      <th>0</th>\n",
       "      <td>42.1</td>\n",
       "      <td>232.0</td>\n",
       "      <td>True</td>\n",
       "    </tr>\n",
       "    <tr>\n",
       "      <th>1</th>\n",
       "      <td>27.2</td>\n",
       "      <td>192.0</td>\n",
       "      <td>True</td>\n",
       "    </tr>\n",
       "    <tr>\n",
       "      <th>5</th>\n",
       "      <td>8.1</td>\n",
       "      <td>388.0</td>\n",
       "      <td>True</td>\n",
       "    </tr>\n",
       "    <tr>\n",
       "      <th>6</th>\n",
       "      <td>8.2</td>\n",
       "      <td>388.0</td>\n",
       "      <td>True</td>\n",
       "    </tr>\n",
       "    <tr>\n",
       "      <th>8</th>\n",
       "      <td>40.1</td>\n",
       "      <td>324.0</td>\n",
       "      <td>True</td>\n",
       "    </tr>\n",
       "  </tbody>\n",
       "</table>\n",
       "</div>"
      ],
      "text/plain": [
       "   host_id  age_days diet_weaning\n",
       "0     42.1     232.0         True\n",
       "1     27.2     192.0         True\n",
       "5      8.1     388.0         True\n",
       "6      8.2     388.0         True\n",
       "8     40.1     324.0         True"
      ]
     },
     "execution_count": 37,
     "metadata": {},
     "output_type": "execute_result"
    }
   ],
   "source": [
    "weaningdf.head(5)"
   ]
  },
  {
   "cell_type": "code",
   "execution_count": 46,
   "id": "34a333cd-de26-40b6-95f3-e011b24042e0",
   "metadata": {},
   "outputs": [],
   "source": [
    "wdatedf = weaningdf.groupby(by = ['host_id', 'diet_weaning']).min('age_days').reset_index()"
   ]
  },
  {
   "cell_type": "code",
   "execution_count": 49,
   "id": "665e592a-2a94-4c93-8174-997f6f6a6638",
   "metadata": {},
   "outputs": [],
   "source": [
    "#only use thE True value for the weaning as the starting date for weaning\n",
    "firstweaning = wdatedf[wdatedf['diet_weaning'] == True] "
   ]
  },
  {
   "cell_type": "code",
   "execution_count": 53,
   "id": "81bf9ff0-85b3-45e8-b740-d13a126dabbf",
   "metadata": {},
   "outputs": [
    {
     "data": {
      "text/html": [
       "<div>\n",
       "<style scoped>\n",
       "    .dataframe tbody tr th:only-of-type {\n",
       "        vertical-align: middle;\n",
       "    }\n",
       "\n",
       "    .dataframe tbody tr th {\n",
       "        vertical-align: top;\n",
       "    }\n",
       "\n",
       "    .dataframe thead th {\n",
       "        text-align: right;\n",
       "    }\n",
       "</style>\n",
       "<table border=\"1\" class=\"dataframe\">\n",
       "  <thead>\n",
       "    <tr style=\"text-align: right;\">\n",
       "      <th></th>\n",
       "      <th>host_id</th>\n",
       "      <th>diet_weaning</th>\n",
       "      <th>age_days</th>\n",
       "    </tr>\n",
       "  </thead>\n",
       "  <tbody>\n",
       "    <tr>\n",
       "      <th>1</th>\n",
       "      <td>2.1</td>\n",
       "      <td>True</td>\n",
       "      <td>133.0</td>\n",
       "    </tr>\n",
       "    <tr>\n",
       "      <th>3</th>\n",
       "      <td>2.2</td>\n",
       "      <td>True</td>\n",
       "      <td>140.0</td>\n",
       "    </tr>\n",
       "    <tr>\n",
       "      <th>5</th>\n",
       "      <td>3.1</td>\n",
       "      <td>True</td>\n",
       "      <td>151.0</td>\n",
       "    </tr>\n",
       "    <tr>\n",
       "      <th>7</th>\n",
       "      <td>3.2</td>\n",
       "      <td>True</td>\n",
       "      <td>123.0</td>\n",
       "    </tr>\n",
       "    <tr>\n",
       "      <th>9</th>\n",
       "      <td>4.1</td>\n",
       "      <td>True</td>\n",
       "      <td>182.0</td>\n",
       "    </tr>\n",
       "  </tbody>\n",
       "</table>\n",
       "</div>"
      ],
      "text/plain": [
       "   host_id  diet_weaning  age_days\n",
       "1      2.1          True     133.0\n",
       "3      2.2          True     140.0\n",
       "5      3.1          True     151.0\n",
       "7      3.2          True     123.0\n",
       "9      4.1          True     182.0"
      ]
     },
     "execution_count": 53,
     "metadata": {},
     "output_type": "execute_result"
    }
   ],
   "source": [
    "#check it\n",
    "firstweaning.head()"
   ]
  },
  {
   "cell_type": "code",
   "execution_count": 54,
   "id": "7bcd0168-3319-4f6d-90c2-269c0a65fc64",
   "metadata": {},
   "outputs": [],
   "source": [
    "#rearrange the data for better visulization\n",
    "firstweaning = firstweaning.sort_values(by = ['age_days'])"
   ]
  },
  {
   "cell_type": "code",
   "execution_count": 58,
   "id": "b81252c5-5a24-4e5a-a821-9f6ba39ab4af",
   "metadata": {},
   "outputs": [
    {
     "data": {
      "text/plain": [
       "<AxesSubplot:title={'center':'first weaning introduction age for samples'}, xlabel='host_id'>"
      ]
     },
     "execution_count": 58,
     "metadata": {},
     "output_type": "execute_result"
    },
    {
     "data": {
      "image/png": "[encoded data removed]",
      "text/plain": [
       "<Figure size 432x288 with 1 Axes>"
      ]
     },
     "metadata": {
      "needs_background": "light"
     },
     "output_type": "display_data"
    }
   ],
   "source": [
    "#plot the results\n",
    "firstweaning.plot(x = 'host_id',\n",
    "                 y = 'age_days',\n",
    "                 kind = 'bar', \n",
    "                 title = 'first weaning introduction age for samples')"
   ]
  },
  {
   "cell_type": "code",
   "execution_count": 64,
   "id": "b02a08e9-b2ed-4f0c-907f-aaef94294cf9",
   "metadata": {},
   "outputs": [
    {
     "data": {
      "text/plain": [
       "<AxesSubplot:>"
      ]
     },
     "execution_count": 64,
     "metadata": {},
     "output_type": "execute_result"
    },
    {
     "data": {
      "image/png": "[encoded data removed]",
      "text/plain": [
       "<Figure size 432x288 with 1 Axes>"
      ]
     },
     "metadata": {
      "needs_background": "light"
     },
     "output_type": "display_data"
    }
   ],
   "source": [
    "#Or box plot\n",
    "firstweaning.age_days.to_frame(name = 'first weaning age days').boxplot(grid = False)"
   ]
  },
  {
   "cell_type": "code",
   "execution_count": 57,
   "id": "316abc58-c9c1-47f6-b538-d564e33b8819",
   "metadata": {},
   "outputs": [
    {
     "data": {
      "text/plain": [
       "count     80.000000\n",
       "mean     150.162500\n",
       "std       54.910155\n",
       "min       11.000000\n",
       "25%      115.250000\n",
       "50%      157.000000\n",
       "75%      185.250000\n",
       "max      282.000000\n",
       "Name: age_days, dtype: float64"
      ]
     },
     "execution_count": 57,
     "metadata": {},
     "output_type": "execute_result"
    }
   ],
   "source": [
    "#maybe also use the summary\n",
    "firstweaning['age_days'].describe()"
   ]
  },
  {
   "cell_type": "code",
   "execution_count": 15,
   "id": "60ed9f55-c2b3-43cc-a60c-204a7ec5539e",
   "metadata": {},
   "outputs": [],
   "source": [
    "metadf_diet_age = metadf[['age_months','diet_milk']]"
   ]
  },
  {
   "cell_type": "code",
   "execution_count": 16,
   "id": "abbb5ead-bedc-4861-805c-32e9e3488886",
   "metadata": {},
   "outputs": [
    {
     "data": {
      "text/html": [
       "<div>\n",
       "<style scoped>\n",
       "    .dataframe tbody tr th:only-of-type {\n",
       "        vertical-align: middle;\n",
       "    }\n",
       "\n",
       "    .dataframe tbody tr th {\n",
       "        vertical-align: top;\n",
       "    }\n",
       "\n",
       "    .dataframe thead th {\n",
       "        text-align: right;\n",
       "    }\n",
       "</style>\n",
       "<table border=\"1\" class=\"dataframe\">\n",
       "  <thead>\n",
       "    <tr style=\"text-align: right;\">\n",
       "      <th></th>\n",
       "      <th>age_months</th>\n",
       "      <th>diet_milk</th>\n",
       "    </tr>\n",
       "  </thead>\n",
       "  <tbody>\n",
       "    <tr>\n",
       "      <th>0</th>\n",
       "      <td>8.0</td>\n",
       "      <td>fd</td>\n",
       "    </tr>\n",
       "    <tr>\n",
       "      <th>1</th>\n",
       "      <td>6.0</td>\n",
       "      <td>fd</td>\n",
       "    </tr>\n",
       "    <tr>\n",
       "      <th>2</th>\n",
       "      <td>18.0</td>\n",
       "      <td>NaN</td>\n",
       "    </tr>\n",
       "    <tr>\n",
       "      <th>3</th>\n",
       "      <td>18.0</td>\n",
       "      <td>NaN</td>\n",
       "    </tr>\n",
       "    <tr>\n",
       "      <th>4</th>\n",
       "      <td>23.0</td>\n",
       "      <td>NaN</td>\n",
       "    </tr>\n",
       "  </tbody>\n",
       "</table>\n",
       "</div>"
      ],
      "text/plain": [
       "   age_months diet_milk\n",
       "0         8.0        fd\n",
       "1         6.0        fd\n",
       "2        18.0       NaN\n",
       "3        18.0       NaN\n",
       "4        23.0       NaN"
      ]
     },
     "execution_count": 16,
     "metadata": {},
     "output_type": "execute_result"
    }
   ],
   "source": [
    "metadf_diet_age.head(5)"
   ]
  },
  {
   "cell_type": "code",
   "execution_count": 17,
   "id": "be3cc6fb-d3dd-4e81-8363-3b279b58bad8",
   "metadata": {},
   "outputs": [],
   "source": [
    "metadf_diet_age = metadf_diet_age.sort_values(by = ['age_months'])#order as the age"
   ]
  },
  {
   "cell_type": "code",
   "execution_count": 18,
   "id": "92c915b6-863c-47ac-82a5-e66cd1de3acd",
   "metadata": {},
   "outputs": [],
   "source": [
    "metadf_diet_age[['number']] = 1"
   ]
  },
  {
   "cell_type": "code",
   "execution_count": 19,
   "id": "028e8342-d402-48ff-b0b9-734e5ac09ef0",
   "metadata": {},
   "outputs": [],
   "source": [
    "countdf = metadf_diet_age.groupby(['age_months','diet_milk'])['number'].sum().reset_index()\n",
    "#metadf_fiet_age.pivot_table(index=['age_months'],columns=['diet_milk'],values='销售量').reset_index()\n",
    "#change it into the long table\n"
   ]
  },
  {
   "cell_type": "code",
   "execution_count": 20,
   "id": "4387139a-d748-4f87-9466-6c1725b56d58",
   "metadata": {},
   "outputs": [],
   "source": [
    "countdf = countdf.pivot_table(index = ['age_months'], columns = ['diet_milk'], values = 'number').reset_index()"
   ]
  },
  {
   "cell_type": "code",
   "execution_count": 21,
   "id": "cc1dcb68-ddad-4c22-8b2e-906ee3b940c8",
   "metadata": {},
   "outputs": [
    {
     "data": {
      "text/plain": [
       "<AxesSubplot:title={'center':'Distribution of diet methods'}, xlabel='age_months'>"
      ]
     },
     "execution_count": 21,
     "metadata": {},
     "output_type": "execute_result"
    },
    {
     "data": {
      "image/png": "[encoded data removed]",
      "text/plain": [
       "<Figure size 432x288 with 1 Axes>"
      ]
     },
     "metadata": {
      "needs_background": "light"
     },
     "output_type": "display_data"
    }
   ],
   "source": [
    "countdf.plot(x='age_months',\n",
    "        kind='bar',\n",
    "        stacked=True,\n",
    "        title='Distribution of diet methods')"
   ]
  },
  {
   "cell_type": "code",
   "execution_count": null,
   "id": "b9128aca-31ee-4b31-b17e-bfb5d11e14c5",
   "metadata": {},
   "outputs": [],
   "source": [
    "#now here is for the diet_weaning"
   ]
  },
  {
   "cell_type": "code",
   "execution_count": 22,
   "id": "8e0f373d-980c-48ab-9c6a-0ab36703fbd5",
   "metadata": {},
   "outputs": [
    {
     "name": "stdout",
     "output_type": "stream",
     "text": [
      "/home/jovyan/HelicopterBaby/Metadata\n"
     ]
    }
   ],
   "source": [
    "!pwd"
   ]
  }
 ],
 "metadata": {
  "kernelspec": {
   "display_name": "Python 3 (ipykernel)",
   "language": "python",
   "name": "python3"
  },
  "language_info": {
   "codemirror_mode": {
    "name": "ipython",
    "version": 3
   },
   "file_extension": ".py",
   "mimetype": "text/x-python",
   "name": "python",
   "nbconvert_exporter": "python",
   "pygments_lexer": "ipython3",
   "version": "3.8.13"
  }
 },
 "nbformat": 4,
 "nbformat_minor": 5
}
