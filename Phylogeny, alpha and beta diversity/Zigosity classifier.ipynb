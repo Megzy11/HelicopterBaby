{
 "cells": [
  {
   "cell_type": "markdown",
   "id": "2790ba67-9adb-43fe-9ff2-b060ec69f157",
   "metadata": {},
   "source": [
    "# Zigosity\n",
    "Can we build a classifier that can tell from ASV/taxonomic assignment whether the 2 samples are monozygotic, dizygotic or not related?"
   ]
  },
  {
   "cell_type": "code",
   "execution_count": 73,
   "id": "74bcf41c-eda9-491a-8869-ff12cb0243f9",
   "metadata": {},
   "outputs": [],
   "source": [
    "import os\n",
    "import pandas as pd\n",
    "import matplotlib.pyplot as plt\n",
    "import qiime2 as q2\n",
    "import numpy as np\n",
    "import random\n",
    "import torch\n",
    "from torch.utils.data import Dataset, DataLoader\n",
    "from sklearn.preprocessing import StandardScaler\n",
    "import torch.nn as nn\n",
    "from sklearn.preprocessing import LabelEncoder\n",
    "\n",
    "%matplotlib inline\n",
    "\n",
    "data_dir = 'data' #data from polybox (ASV, taxonomy analysis)\n",
    "or_dir = '../data'\n",
    "if not os.path.isdir(data_dir):\n",
    "    os.mkdir(data_dir)"
   ]
  },
  {
   "cell_type": "code",
   "execution_count": 2,
   "id": "9c79ba82-5f95-4113-a485-078e938c1e77",
   "metadata": {},
   "outputs": [
    {
     "name": "stdout",
     "output_type": "stream",
     "text": [
      "2022-11-20 16:06:55 URL:https://polybox.ethz.ch/index.php/s/q2dsg2JxeJz3hko/download [1818719/1818719] -> \"data/PJNB_dada2_table-filtered.qza\" [1]\n"
     ]
    }
   ],
   "source": [
    "! wget -nv -O $data_dir/PJNB_dada2_table-filtered.qza 'https://polybox.ethz.ch/index.php/s/q2dsg2JxeJz3hko/download'"
   ]
  },
  {
   "cell_type": "code",
   "execution_count": 74,
   "id": "2a33dc37-c565-4338-bb47-65c42d3e81a1",
   "metadata": {
    "tags": []
   },
   "outputs": [],
   "source": [
    "table_ASV = q2.Artifact.load(f'{data_dir}/PJNB_dada2_table-filtered.qza').view(pd.DataFrame)"
   ]
  },
  {
   "cell_type": "code",
   "execution_count": 75,
   "id": "97df3ec8-b8e6-4844-a146-dbfd0b1bca1d",
   "metadata": {
    "collapsed": true,
    "jupyter": {
     "outputs_hidden": true
    },
    "tags": []
   },
   "outputs": [
    {
     "name": "stdout",
     "output_type": "stream",
     "text": [
      "Index(['Library Layout', 'Instrument', 'collection_date', 'geo_location_name',\n",
      "       'geo_latitude', 'geo_longitude', 'host_id', 'age_days', 'weight_kg',\n",
      "       'length_cm', 'WAZ', 'HAZ', 'WHZ', 'BMI', 'birth_weight_g',\n",
      "       'birth_length_cm', 'sex', 'delivery_mode', 'zygosity', 'race',\n",
      "       'ethnicity', 'delivery_preterm', 'diet_milk', 'diet_weaning',\n",
      "       'age_months'],\n",
      "      dtype='object')\n",
      "            d7ccfef4d1779d9899c71c078d577f53  \\\n",
      "ERR1309715                               0.0   \n",
      "ERR1309716                               0.0   \n",
      "ERR1309717                               0.0   \n",
      "ERR1309718                               0.0   \n",
      "ERR1309719                               0.0   \n",
      "\n",
      "            09e9b81594db403cebe45252798e9f1a  \\\n",
      "ERR1309715                               0.0   \n",
      "ERR1309716                               0.0   \n",
      "ERR1309717                               0.0   \n",
      "ERR1309718                               0.0   \n",
      "ERR1309719                               0.0   \n",
      "\n",
      "            a25546433b23185d30d42c6f17919bf5  \\\n",
      "ERR1309715                               0.0   \n",
      "ERR1309716                               0.0   \n",
      "ERR1309717                               0.0   \n",
      "ERR1309718                               0.0   \n",
      "ERR1309719                               0.0   \n",
      "\n",
      "            e4070f749d5a259df621f21c17e6e8c4  \\\n",
      "ERR1309715                               0.0   \n",
      "ERR1309716                               0.0   \n",
      "ERR1309717                               0.0   \n",
      "ERR1309718                               0.0   \n",
      "ERR1309719                               0.0   \n",
      "\n",
      "            ac4274f46d9ec670be0cfb4126304a8d  \\\n",
      "ERR1309715                               0.0   \n",
      "ERR1309716                               0.0   \n",
      "ERR1309717                               0.0   \n",
      "ERR1309718                               0.0   \n",
      "ERR1309719                               0.0   \n",
      "\n",
      "            33ba975cdb88b5073a2355ffdf01e9cb  \\\n",
      "ERR1309715                              93.0   \n",
      "ERR1309716                              45.0   \n",
      "ERR1309717                               0.0   \n",
      "ERR1309718                               0.0   \n",
      "ERR1309719                               0.0   \n",
      "\n",
      "            a55a010c9525ce2943a553dca1421b1c  \\\n",
      "ERR1309715                               0.0   \n",
      "ERR1309716                               0.0   \n",
      "ERR1309717                               0.0   \n",
      "ERR1309718                               0.0   \n",
      "ERR1309719                               0.0   \n",
      "\n",
      "            0ba92b5d91ba43524ebc6ea1ae7c5a73  \\\n",
      "ERR1309715                               0.0   \n",
      "ERR1309716                               0.0   \n",
      "ERR1309717                               0.0   \n",
      "ERR1309718                               0.0   \n",
      "ERR1309719                               0.0   \n",
      "\n",
      "            01b0120ab09ef9144d6328246c8974bf  \\\n",
      "ERR1309715                               0.0   \n",
      "ERR1309716                               0.0   \n",
      "ERR1309717                               0.0   \n",
      "ERR1309718                               0.0   \n",
      "ERR1309719                               0.0   \n",
      "\n",
      "            1edcadbfc3255ab508afd1e45dfba8d4  ...  birth_length_cm     sex  \\\n",
      "ERR1309715                               0.0  ...             47.0  female   \n",
      "ERR1309716                               0.0  ...             47.0  female   \n",
      "ERR1309717                               0.0  ...             47.0  female   \n",
      "ERR1309718                               0.0  ...             47.0  female   \n",
      "ERR1309719                               0.0  ...             47.0  female   \n",
      "\n",
      "            delivery_mode   zygosity       race     ethnicity  \\\n",
      "ERR1309715       Cesarean  Dizygotic  Caucasian  Not Hispanic   \n",
      "ERR1309716       Cesarean  Dizygotic  Caucasian  Not Hispanic   \n",
      "ERR1309717       Cesarean  Dizygotic  Caucasian  Not Hispanic   \n",
      "ERR1309718       Cesarean  Dizygotic  Caucasian  Not Hispanic   \n",
      "ERR1309719       Cesarean  Dizygotic  Caucasian  Not Hispanic   \n",
      "\n",
      "            delivery_preterm  diet_milk  diet_weaning  age_months  \n",
      "ERR1309715              True        NaN           NaN        19.0  \n",
      "ERR1309716              True        NaN           NaN        20.0  \n",
      "ERR1309717              True        NaN           NaN        21.0  \n",
      "ERR1309718              True        NaN           NaN        23.0  \n",
      "ERR1309719              True        NaN           NaN        23.0  \n",
      "\n",
      "[5 rows x 5097 columns]\n"
     ]
    }
   ],
   "source": [
    "metadata = pd.read_csv(or_dir + '/metadata.tsv', sep = '\\t', index_col = 'id')\n",
    "table_ASV_metadata = pd.merge(table_ASV, metadata, left_index=True, right_index=True)\n",
    "ASVs_cols = table_ASV_metadata.columns[0:-25]\n",
    "print(table_ASV_metadata.columns[-25:])\n",
    "print(table_ASV_metadata.head())"
   ]
  },
  {
   "cell_type": "code",
   "execution_count": 76,
   "id": "b221326d-fee2-4f1b-acae-78de3368e337",
   "metadata": {
    "collapsed": true,
    "jupyter": {
     "outputs_hidden": true
    },
    "tags": []
   },
   "outputs": [
    {
     "name": "stdout",
     "output_type": "stream",
     "text": [
      "Monozygotic    870\n",
      "Dizygotic      755\n",
      "Unknown         44\n",
      "Name: zygosity, dtype: int64\n",
      "['Dizygotic' 'Monozygotic' 'Unknown']\n",
      "            d7ccfef4d1779d9899c71c078d577f53  \\\n",
      "ERR1309715                         -0.105613   \n",
      "ERR1309716                         -0.105613   \n",
      "ERR1309717                         -0.105613   \n",
      "ERR1309718                         -0.105613   \n",
      "ERR1309719                         -0.105613   \n",
      "\n",
      "            09e9b81594db403cebe45252798e9f1a  \\\n",
      "ERR1309715                         -0.024815   \n",
      "ERR1309716                         -0.024815   \n",
      "ERR1309717                         -0.024815   \n",
      "ERR1309718                         -0.024815   \n",
      "ERR1309719                         -0.024815   \n",
      "\n",
      "            a25546433b23185d30d42c6f17919bf5  \\\n",
      "ERR1309715                         -0.124725   \n",
      "ERR1309716                         -0.124725   \n",
      "ERR1309717                         -0.124725   \n",
      "ERR1309718                         -0.124725   \n",
      "ERR1309719                         -0.124725   \n",
      "\n",
      "            e4070f749d5a259df621f21c17e6e8c4  \\\n",
      "ERR1309715                         -0.024815   \n",
      "ERR1309716                         -0.024815   \n",
      "ERR1309717                         -0.024815   \n",
      "ERR1309718                         -0.024815   \n",
      "ERR1309719                         -0.024815   \n",
      "\n",
      "            ac4274f46d9ec670be0cfb4126304a8d  \\\n",
      "ERR1309715                         -0.056378   \n",
      "ERR1309716                         -0.056378   \n",
      "ERR1309717                         -0.056378   \n",
      "ERR1309718                         -0.056378   \n",
      "ERR1309719                         -0.056378   \n",
      "\n",
      "            33ba975cdb88b5073a2355ffdf01e9cb  \\\n",
      "ERR1309715                          0.197763   \n",
      "ERR1309716                          0.040323   \n",
      "ERR1309717                         -0.107277   \n",
      "ERR1309718                         -0.107277   \n",
      "ERR1309719                         -0.107277   \n",
      "\n",
      "            a55a010c9525ce2943a553dca1421b1c  \\\n",
      "ERR1309715                         -0.080393   \n",
      "ERR1309716                         -0.080393   \n",
      "ERR1309717                         -0.080393   \n",
      "ERR1309718                         -0.080393   \n",
      "ERR1309719                         -0.080393   \n",
      "\n",
      "            0ba92b5d91ba43524ebc6ea1ae7c5a73  \\\n",
      "ERR1309715                         -0.053968   \n",
      "ERR1309716                         -0.053968   \n",
      "ERR1309717                         -0.053968   \n",
      "ERR1309718                         -0.053968   \n",
      "ERR1309719                         -0.053968   \n",
      "\n",
      "            01b0120ab09ef9144d6328246c8974bf  \\\n",
      "ERR1309715                          -0.05637   \n",
      "ERR1309716                          -0.05637   \n",
      "ERR1309717                          -0.05637   \n",
      "ERR1309718                          -0.05637   \n",
      "ERR1309719                          -0.05637   \n",
      "\n",
      "            1edcadbfc3255ab508afd1e45dfba8d4  ...  birth_length_cm     sex  \\\n",
      "ERR1309715                         -0.082837  ...             47.0  female   \n",
      "ERR1309716                         -0.082837  ...             47.0  female   \n",
      "ERR1309717                         -0.082837  ...             47.0  female   \n",
      "ERR1309718                         -0.082837  ...             47.0  female   \n",
      "ERR1309719                         -0.082837  ...             47.0  female   \n",
      "\n",
      "            delivery_mode   zygosity       race     ethnicity  \\\n",
      "ERR1309715       Cesarean  Dizygotic  Caucasian  Not Hispanic   \n",
      "ERR1309716       Cesarean  Dizygotic  Caucasian  Not Hispanic   \n",
      "ERR1309717       Cesarean  Dizygotic  Caucasian  Not Hispanic   \n",
      "ERR1309718       Cesarean  Dizygotic  Caucasian  Not Hispanic   \n",
      "ERR1309719       Cesarean  Dizygotic  Caucasian  Not Hispanic   \n",
      "\n",
      "            delivery_preterm  diet_milk  diet_weaning  age_months  \n",
      "ERR1309715              True        NaN           NaN        19.0  \n",
      "ERR1309716              True        NaN           NaN        20.0  \n",
      "ERR1309717              True        NaN           NaN        21.0  \n",
      "ERR1309718              True        NaN           NaN        23.0  \n",
      "ERR1309719              True        NaN           NaN        23.0  \n",
      "\n",
      "[5 rows x 5097 columns]\n"
     ]
    },
    {
     "data": {
      "image/png": "[encoded data removed]",
      "text/plain": [
       "<Figure size 432x288 with 1 Axes>"
      ]
     },
     "metadata": {
      "needs_background": "light"
     },
     "output_type": "display_data"
    },
    {
     "data": {
      "image/png": "[encoded data removed]",
      "text/plain": [
       "<Figure size 432x288 with 1 Axes>"
      ]
     },
     "metadata": {
      "needs_background": "light"
     },
     "output_type": "display_data"
    }
   ],
   "source": [
    "table_ASV_metadata['zygosity'].value_counts().plot(kind='bar')\n",
    "print(table_ASV_metadata['zygosity'].value_counts())\n",
    "print(table_ASV_metadata['zygosity'].unique())\n",
    "\n",
    "# drop unknown zigosity columns\n",
    "table_ASV_metadata = table_ASV_metadata.loc[table_ASV_metadata['zygosity'] != 'Unknown', ]\n",
    "plt.figure()\n",
    "table_ASV_metadata['zygosity'].value_counts().plot(kind='bar')\n",
    "\n",
    "# normalize the ASV data per column\n",
    "inter = pd.DataFrame(StandardScaler().fit_transform(table_ASV_metadata[ASVs_cols]))\n",
    "inter.columns = ASVs_cols\n",
    "inter.set_index(table_ASV_metadata[ASVs_cols].index, inplace = True)\n",
    "table_ASV_metadata[ASVs_cols] = inter\n",
    "print(table_ASV_metadata.head())"
   ]
  },
  {
   "cell_type": "code",
   "execution_count": null,
   "id": "a219e9e1-7ad3-4339-b650-2cd6b9ab5ed5",
   "metadata": {},
   "outputs": [],
   "source": []
  },
  {
   "cell_type": "markdown",
   "id": "32dc385e-c897-484a-a393-20f3d5b46519",
   "metadata": {},
   "source": [
    "# To do \n",
    "1. Data loader: want for training: 600 mono, 600 di and 600 unrelated samples. Save the id's of other samples for validation\n",
    "2. "
   ]
  },
  {
   "cell_type": "code",
   "execution_count": null,
   "id": "f1a01bf0-50e8-4077-8c26-bd9ae72ba781",
   "metadata": {},
   "outputs": [],
   "source": []
  },
  {
   "cell_type": "markdown",
   "id": "344616bc-1e5b-40d3-aeaf-831d6598ad65",
   "metadata": {},
   "source": [
    "## Load data"
   ]
  },
  {
   "cell_type": "code",
   "execution_count": 77,
   "id": "6e6c2a5f-5380-4f52-a4fc-610edd89a74d",
   "metadata": {},
   "outputs": [],
   "source": [
    "hosts_ids = table_ASV_metadata['host_id'].astype(int).unique()"
   ]
  },
  {
   "cell_type": "markdown",
   "id": "c3a25ec5-281b-4aa6-ad43-d0215dd780c9",
   "metadata": {},
   "source": [
    "Create table with id's of same point twins and their class so can use this as input to the trainer"
   ]
  },
  {
   "cell_type": "code",
   "execution_count": 78,
   "id": "64e29482-764c-4f11-82f5-f830baf5bdbf",
   "metadata": {},
   "outputs": [],
   "source": [
    "### Dataframe that tells you the index of the first baby, the second baby and their label\n",
    "# match for age\n",
    "non_related = [random.choice(hosts_ids) for _ in range(600)]\n",
    "baby_id1 = list()\n",
    "baby_id2 = list(); zygosity_ = list()\n",
    "for host in hosts_ids:\n",
    "#for host in [10, 12]:\n",
    "    # get the dataframe for each baby\n",
    "    first = table_ASV_metadata.loc[table_ASV_metadata['host_id'] == host+0.1,].sort_values(by = 'age_days', ascending = True)\n",
    "    second = table_ASV_metadata.loc[table_ASV_metadata['host_id'] == host+0.2,] .sort_values(by = 'age_days', ascending = True)\n",
    "    # get the zygosity\n",
    "    zig = first['zygosity']\n",
    "    # match by age as well as possible\n",
    "    ages_1 = first['age_days']\n",
    "    ages_2 = first['age_days']\n",
    "    \n",
    "    # check if any twins were not measures at same timepoint\n",
    "    if len(ages_1) == len(ages_2):\n",
    "        if list(ages_1) != list(ages_2):\n",
    "            print(host, 'have different sample times')\n",
    "    else:\n",
    "        print(host, ' have different number of samples')\n",
    "    \n",
    "    baby_id1.extend(list(first.index))\n",
    "    baby_id2.extend(list(first.index))\n",
    "    zygosity_.extend(list(zig))\n",
    "\n",
    "Babies = pd.DataFrame(baby_id1, columns = ['Baby1'])\n",
    "Babies['Baby2'] = baby_id2\n",
    "Babies['Zygosity'] = zygosity_\n",
    "# convert categorical string variables to integers \n",
    "# Creating a instance of label Encoder.\n",
    "le = LabelEncoder()\n",
    "# Using .fit_transform function to fit label\n",
    "# encoder and return encoded label\n",
    "label = le.fit_transform(Babies['Zygosity']) # Dizygotic: 0, monozygotic: 1\n",
    "Babies['Zygosity'] = label"
   ]
  },
  {
   "cell_type": "code",
   "execution_count": 79,
   "id": "6d06cde1-9764-4586-8f58-646cd39ebcb6",
   "metadata": {},
   "outputs": [
    {
     "name": "stdout",
     "output_type": "stream",
     "text": [
      "        Baby1       Baby2  Zygosity\n",
      "0  ERR1310569  ERR1310569         0\n",
      "1  ERR1310570  ERR1310570         0\n",
      "2  ERR1310571  ERR1310571         0\n",
      "3  ERR1309880  ERR1309880         0\n",
      "4  ERR1309881  ERR1309881         0\n",
      "5072\n",
      "LabelEncoder()\n"
     ]
    }
   ],
   "source": [
    "print(Babies.head())\n",
    "print(len(ASVs_cols))\n",
    "print(le)\n",
    "#print(zygosity_)"
   ]
  },
  {
   "cell_type": "code",
   "execution_count": 119,
   "id": "e01c693d-91fc-41f6-82a6-1f6074735de1",
   "metadata": {},
   "outputs": [],
   "source": [
    "class Doublet_baby(Dataset):\n",
    "    \"\"\"2 babies: they are either related: monozygotic or dyzygotic or they are unrelated.\n",
    "        get the ASVs of these babies, normalize\n",
    "    \"\"\"\n",
    "\n",
    "    def __init__(self, doubls, feats):\n",
    "        \"\"\"\n",
    "        Args:\n",
    "            doubls = dataframe: columns: Baby1, Baby2, zigosity\n",
    "            feats = ASV feature table, rows are samples index by ID, columns ASVs and metadata\n",
    "        \"\"\"\n",
    "        self.doublets = doubls\n",
    "        self.features = feats\n",
    "\n",
    "    def __len__(self):\n",
    "        return len(self.doublets)\n",
    "\n",
    "    def __getitem__(self, idx):\n",
    "\n",
    "        indices = self.doublets.loc[idx, ] #paths\n",
    "        feat1 = self.features.loc[indices['Baby1'], ASVs_cols]\n",
    "        feat2 = self.features.loc[indices['Baby2'], ASVs_cols]\n",
    "        feat1 = torch.from_numpy(np.array(feat1, np.float32))\n",
    "        feat2 = torch.from_numpy(np.array(feat2, np.float32))\n",
    "        label = torch.from_numpy(np.array(indices['Zygosity']))\n",
    "        \n",
    "        return feat1, feat2, label #ADD LABELSSS\n"
   ]
  },
  {
   "cell_type": "code",
   "execution_count": 120,
   "id": "a6e083e7-bc99-4574-b215-67214c9f60a2",
   "metadata": {},
   "outputs": [
    {
     "data": {
      "text/html": [
       "<div>\n",
       "<style scoped>\n",
       "    .dataframe tbody tr th:only-of-type {\n",
       "        vertical-align: middle;\n",
       "    }\n",
       "\n",
       "    .dataframe tbody tr th {\n",
       "        vertical-align: top;\n",
       "    }\n",
       "\n",
       "    .dataframe thead th {\n",
       "        text-align: right;\n",
       "    }\n",
       "</style>\n",
       "<table border=\"1\" class=\"dataframe\">\n",
       "  <thead>\n",
       "    <tr style=\"text-align: right;\">\n",
       "      <th></th>\n",
       "      <th>Baby1</th>\n",
       "      <th>Baby2</th>\n",
       "      <th>Zygosity</th>\n",
       "    </tr>\n",
       "  </thead>\n",
       "  <tbody>\n",
       "    <tr>\n",
       "      <th>0</th>\n",
       "      <td>ERR1310569</td>\n",
       "      <td>ERR1310569</td>\n",
       "      <td>0</td>\n",
       "    </tr>\n",
       "    <tr>\n",
       "      <th>1</th>\n",
       "      <td>ERR1310570</td>\n",
       "      <td>ERR1310570</td>\n",
       "      <td>0</td>\n",
       "    </tr>\n",
       "    <tr>\n",
       "      <th>2</th>\n",
       "      <td>ERR1310571</td>\n",
       "      <td>ERR1310571</td>\n",
       "      <td>0</td>\n",
       "    </tr>\n",
       "    <tr>\n",
       "      <th>3</th>\n",
       "      <td>ERR1309880</td>\n",
       "      <td>ERR1309880</td>\n",
       "      <td>0</td>\n",
       "    </tr>\n",
       "    <tr>\n",
       "      <th>4</th>\n",
       "      <td>ERR1309881</td>\n",
       "      <td>ERR1309881</td>\n",
       "      <td>0</td>\n",
       "    </tr>\n",
       "    <tr>\n",
       "      <th>...</th>\n",
       "      <td>...</td>\n",
       "      <td>...</td>\n",
       "      <td>...</td>\n",
       "    </tr>\n",
       "    <tr>\n",
       "      <th>803</th>\n",
       "      <td>ERR1314887</td>\n",
       "      <td>ERR1314887</td>\n",
       "      <td>1</td>\n",
       "    </tr>\n",
       "    <tr>\n",
       "      <th>804</th>\n",
       "      <td>ERR1314752</td>\n",
       "      <td>ERR1314752</td>\n",
       "      <td>1</td>\n",
       "    </tr>\n",
       "    <tr>\n",
       "      <th>805</th>\n",
       "      <td>ERR1314457</td>\n",
       "      <td>ERR1314457</td>\n",
       "      <td>1</td>\n",
       "    </tr>\n",
       "    <tr>\n",
       "      <th>806</th>\n",
       "      <td>ERR1314836</td>\n",
       "      <td>ERR1314836</td>\n",
       "      <td>1</td>\n",
       "    </tr>\n",
       "    <tr>\n",
       "      <th>807</th>\n",
       "      <td>ERR1314649</td>\n",
       "      <td>ERR1314649</td>\n",
       "      <td>1</td>\n",
       "    </tr>\n",
       "  </tbody>\n",
       "</table>\n",
       "<p>808 rows × 3 columns</p>\n",
       "</div>"
      ],
      "text/plain": [
       "          Baby1       Baby2  Zygosity\n",
       "0    ERR1310569  ERR1310569         0\n",
       "1    ERR1310570  ERR1310570         0\n",
       "2    ERR1310571  ERR1310571         0\n",
       "3    ERR1309880  ERR1309880         0\n",
       "4    ERR1309881  ERR1309881         0\n",
       "..          ...         ...       ...\n",
       "803  ERR1314887  ERR1314887         1\n",
       "804  ERR1314752  ERR1314752         1\n",
       "805  ERR1314457  ERR1314457         1\n",
       "806  ERR1314836  ERR1314836         1\n",
       "807  ERR1314649  ERR1314649         1\n",
       "\n",
       "[808 rows x 3 columns]"
      ]
     },
     "execution_count": 120,
     "metadata": {},
     "output_type": "execute_result"
    }
   ],
   "source": [
    "Babies"
   ]
  },
  {
   "cell_type": "code",
   "execution_count": 133,
   "id": "95c97fff-686f-46e9-a652-8dcad714fc26",
   "metadata": {},
   "outputs": [
    {
     "name": "stdout",
     "output_type": "stream",
     "text": [
      "     index       Baby1       Baby2  Zygosity\n",
      "0        1  ERR1310570  ERR1310570         0\n",
      "1        4  ERR1309881  ERR1309881         0\n",
      "2      520  ERR1315021  ERR1315021         0\n",
      "3      524  ERR1314715  ERR1314715         0\n",
      "4       13  ERR1309716  ERR1309716         0\n",
      "..     ...         ...         ...       ...\n",
      "157    498  ERR1313918  ERR1313918         1\n",
      "158    502  ERR1315655  ERR1315655         0\n",
      "159    504  ERR1313907  ERR1313907         0\n",
      "160    508  ERR1313696  ERR1313696         0\n",
      "161    510  ERR1315615  ERR1315615         0\n",
      "\n",
      "[162 rows x 4 columns]\n"
     ]
    }
   ],
   "source": [
    "# split train and test dataset 80% 20%\n",
    "train_part = Babies.sample(frac = 0.8, axis = 'index', random_state = 42) #, ignore_index = True) not in pandas version of jupyterlab :()\n",
    "all_ind = Babies.index\n",
    "tr_index = train_part.index\n",
    "test_part = Babies.loc[list(set(all_ind)-set(tr_index)), :]\n",
    "train_part = train_part.reset_index()\n",
    "test_part = test_part.reset_index()\n",
    "print(test_part)\n",
    "train_set = Doublet_baby(train_part, table_ASV_metadata)\n",
    "test_set = Doublet_baby(test_part, table_ASV_metadata)"
   ]
  },
  {
   "cell_type": "code",
   "execution_count": 134,
   "id": "af3543af-9c7a-43ce-917d-4dea1eb46f1d",
   "metadata": {},
   "outputs": [],
   "source": [
    "# Loaders\n",
    "BATCH_SIZE = 32\n",
    "train_loader = DataLoader(train_set, batch_size=BATCH_SIZE, shuffle=True) #takes dataset and loads it and splits --> batches of certain size\n",
    "test_loader = DataLoader(test_set, batch_size=BATCH_SIZE, shuffle=True)"
   ]
  },
  {
   "cell_type": "markdown",
   "id": "a42b7b60-beee-4eea-9ab2-748052c391ec",
   "metadata": {},
   "source": [
    "## Neural network\n"
   ]
  },
  {
   "cell_type": "code",
   "execution_count": 96,
   "id": "c59ec9e0-dc41-44b1-aadd-f837b9b0bf04",
   "metadata": {},
   "outputs": [],
   "source": [
    "num_feat = len(ASVs_cols)\n",
    "#def predicting(data, MODEL)"
   ]
  },
  {
   "cell_type": "code",
   "execution_count": 139,
   "id": "ed16939d-eaf6-4cca-9e5d-3c868248619f",
   "metadata": {},
   "outputs": [],
   "source": [
    "class Network(nn.Module):\n",
    "    def __init__(self):\n",
    "        super(Network, self).__init__()\n",
    "        self.part = nn.Sequential(\n",
    "          nn.Linear(num_feat, 500),\n",
    "          nn.ReLU(inplace = True),\n",
    "          nn.BatchNorm1d(500),\n",
    "          nn.Dropout(p=0.5),\n",
    "          nn.Linear(500, 50),\n",
    "          nn.ReLU(inplace = True),\n",
    "          nn.BatchNorm1d(50),\n",
    "          nn.Dropout(p=0.5),\n",
    "          nn.Linear(50, 50) # feature vector is created \n",
    "        )\n",
    "        self.compare = nn.Sequential(\n",
    "          nn.Conv2d(2, 18, kernel_size = 2, stride = 1, padding = 1),\n",
    "          nn.Flatten(),\n",
    "          nn.Linear(10, 2) #2 classes: monozygotic or dyzygotic #WHATS THE SIZE?????\n",
    "        )\n",
    "    def forward(self, x1, x2):\n",
    "        x1 = self.part(x1)\n",
    "        x2 = self.part(x2)\n",
    "        y = self.compare(torch.cat((x1, x2), dim=2)) #HOW TO CONCAT THIS --> 2 row matrix of encondings.\n",
    "        return y"
   ]
  },
  {
   "cell_type": "code",
   "execution_count": 98,
   "id": "34060036-3d20-4120-93b7-21a48e16c903",
   "metadata": {},
   "outputs": [],
   "source": [
    "def evaluate(data, MODEL):\n",
    "    MODEL.eval()\n",
    "    correct = 0\n",
    "    for i, data in enumerate(data, 0):\n",
    "        input1, input2, labels = data\n",
    "        __, predict = torch.max( MODEL(input1, input2), 1)\n",
    "        total += labels.size(0)\n",
    "        correct += (predict == labels).sum().item()\n",
    "    print(f'Accuracy of the network on the {len(testdata)} test data: {100 * correct // total} %')"
   ]
  },
  {
   "cell_type": "code",
   "execution_count": 99,
   "id": "8b106146-7ee2-4255-b9b9-33d4dcf5e982",
   "metadata": {},
   "outputs": [],
   "source": [
    "net = Network()"
   ]
  },
  {
   "cell_type": "code",
   "execution_count": 100,
   "id": "2e0ceec8-26f2-49ac-b1f4-b5fd20fbda66",
   "metadata": {},
   "outputs": [],
   "source": [
    "criterion = nn.CrossEntropyLoss()\n",
    "optimizer = torch.optim.Adam(params = net.parameters(), lr=1e-3)"
   ]
  },
  {
   "cell_type": "code",
   "execution_count": 140,
   "id": "a7d8764a-255e-4092-a674-0733c10f141a",
   "metadata": {},
   "outputs": [
    {
     "name": "stdout",
     "output_type": "stream",
     "text": [
      "0\n"
     ]
    },
    {
     "ename": "TypeError",
     "evalue": "cross_entropy_loss(): argument 'input' (position 1) must be Tensor, not tuple",
     "output_type": "error",
     "traceback": [
      "\u001b[0;31m---------------------------------------------------------------------------\u001b[0m",
      "\u001b[0;31mTypeError\u001b[0m                                 Traceback (most recent call last)",
      "Input \u001b[0;32mIn [140]\u001b[0m, in \u001b[0;36m<cell line: 2>\u001b[0;34m()\u001b[0m\n\u001b[1;32m     10\u001b[0m \u001b[38;5;66;03m# forward propagation\u001b[39;00m\n\u001b[1;32m     11\u001b[0m outputs \u001b[38;5;241m=\u001b[39m net(input1, input2)\n\u001b[0;32m---> 12\u001b[0m loss \u001b[38;5;241m=\u001b[39m \u001b[43mcriterion\u001b[49m\u001b[43m(\u001b[49m\u001b[43moutputs\u001b[49m\u001b[43m,\u001b[49m\u001b[43m \u001b[49m\u001b[43mlabels\u001b[49m\u001b[43m)\u001b[49m\n\u001b[1;32m     13\u001b[0m \u001b[38;5;66;03m# backward propagation\u001b[39;00m\n\u001b[1;32m     14\u001b[0m loss\u001b[38;5;241m.\u001b[39mbackward()\n",
      "File \u001b[0;32m/opt/conda/lib/python3.8/site-packages/torch/nn/modules/module.py:1190\u001b[0m, in \u001b[0;36mModule._call_impl\u001b[0;34m(self, *input, **kwargs)\u001b[0m\n\u001b[1;32m   1186\u001b[0m \u001b[38;5;66;03m# If we don't have any hooks, we want to skip the rest of the logic in\u001b[39;00m\n\u001b[1;32m   1187\u001b[0m \u001b[38;5;66;03m# this function, and just call forward.\u001b[39;00m\n\u001b[1;32m   1188\u001b[0m \u001b[38;5;28;01mif\u001b[39;00m \u001b[38;5;129;01mnot\u001b[39;00m (\u001b[38;5;28mself\u001b[39m\u001b[38;5;241m.\u001b[39m_backward_hooks \u001b[38;5;129;01mor\u001b[39;00m \u001b[38;5;28mself\u001b[39m\u001b[38;5;241m.\u001b[39m_forward_hooks \u001b[38;5;129;01mor\u001b[39;00m \u001b[38;5;28mself\u001b[39m\u001b[38;5;241m.\u001b[39m_forward_pre_hooks \u001b[38;5;129;01mor\u001b[39;00m _global_backward_hooks\n\u001b[1;32m   1189\u001b[0m         \u001b[38;5;129;01mor\u001b[39;00m _global_forward_hooks \u001b[38;5;129;01mor\u001b[39;00m _global_forward_pre_hooks):\n\u001b[0;32m-> 1190\u001b[0m     \u001b[38;5;28;01mreturn\u001b[39;00m \u001b[43mforward_call\u001b[49m\u001b[43m(\u001b[49m\u001b[38;5;241;43m*\u001b[39;49m\u001b[38;5;28;43minput\u001b[39;49m\u001b[43m,\u001b[49m\u001b[43m \u001b[49m\u001b[38;5;241;43m*\u001b[39;49m\u001b[38;5;241;43m*\u001b[39;49m\u001b[43mkwargs\u001b[49m\u001b[43m)\u001b[49m\n\u001b[1;32m   1191\u001b[0m \u001b[38;5;66;03m# Do not call functions when jit is used\u001b[39;00m\n\u001b[1;32m   1192\u001b[0m full_backward_hooks, non_full_backward_hooks \u001b[38;5;241m=\u001b[39m [], []\n",
      "File \u001b[0;32m/opt/conda/lib/python3.8/site-packages/torch/nn/modules/loss.py:1174\u001b[0m, in \u001b[0;36mCrossEntropyLoss.forward\u001b[0;34m(self, input, target)\u001b[0m\n\u001b[1;32m   1173\u001b[0m \u001b[38;5;28;01mdef\u001b[39;00m \u001b[38;5;21mforward\u001b[39m(\u001b[38;5;28mself\u001b[39m, \u001b[38;5;28minput\u001b[39m: Tensor, target: Tensor) \u001b[38;5;241m-\u001b[39m\u001b[38;5;241m>\u001b[39m Tensor:\n\u001b[0;32m-> 1174\u001b[0m     \u001b[38;5;28;01mreturn\u001b[39;00m \u001b[43mF\u001b[49m\u001b[38;5;241;43m.\u001b[39;49m\u001b[43mcross_entropy\u001b[49m\u001b[43m(\u001b[49m\u001b[38;5;28;43minput\u001b[39;49m\u001b[43m,\u001b[49m\u001b[43m \u001b[49m\u001b[43mtarget\u001b[49m\u001b[43m,\u001b[49m\u001b[43m \u001b[49m\u001b[43mweight\u001b[49m\u001b[38;5;241;43m=\u001b[39;49m\u001b[38;5;28;43mself\u001b[39;49m\u001b[38;5;241;43m.\u001b[39;49m\u001b[43mweight\u001b[49m\u001b[43m,\u001b[49m\n\u001b[1;32m   1175\u001b[0m \u001b[43m                           \u001b[49m\u001b[43mignore_index\u001b[49m\u001b[38;5;241;43m=\u001b[39;49m\u001b[38;5;28;43mself\u001b[39;49m\u001b[38;5;241;43m.\u001b[39;49m\u001b[43mignore_index\u001b[49m\u001b[43m,\u001b[49m\u001b[43m \u001b[49m\u001b[43mreduction\u001b[49m\u001b[38;5;241;43m=\u001b[39;49m\u001b[38;5;28;43mself\u001b[39;49m\u001b[38;5;241;43m.\u001b[39;49m\u001b[43mreduction\u001b[49m\u001b[43m,\u001b[49m\n\u001b[1;32m   1176\u001b[0m \u001b[43m                           \u001b[49m\u001b[43mlabel_smoothing\u001b[49m\u001b[38;5;241;43m=\u001b[39;49m\u001b[38;5;28;43mself\u001b[39;49m\u001b[38;5;241;43m.\u001b[39;49m\u001b[43mlabel_smoothing\u001b[49m\u001b[43m)\u001b[49m\n",
      "File \u001b[0;32m/opt/conda/lib/python3.8/site-packages/torch/nn/functional.py:3026\u001b[0m, in \u001b[0;36mcross_entropy\u001b[0;34m(input, target, weight, size_average, ignore_index, reduce, reduction, label_smoothing)\u001b[0m\n\u001b[1;32m   3024\u001b[0m \u001b[38;5;28;01mif\u001b[39;00m size_average \u001b[38;5;129;01mis\u001b[39;00m \u001b[38;5;129;01mnot\u001b[39;00m \u001b[38;5;28;01mNone\u001b[39;00m \u001b[38;5;129;01mor\u001b[39;00m reduce \u001b[38;5;129;01mis\u001b[39;00m \u001b[38;5;129;01mnot\u001b[39;00m \u001b[38;5;28;01mNone\u001b[39;00m:\n\u001b[1;32m   3025\u001b[0m     reduction \u001b[38;5;241m=\u001b[39m _Reduction\u001b[38;5;241m.\u001b[39mlegacy_get_string(size_average, reduce)\n\u001b[0;32m-> 3026\u001b[0m \u001b[38;5;28;01mreturn\u001b[39;00m \u001b[43mtorch\u001b[49m\u001b[38;5;241;43m.\u001b[39;49m\u001b[43m_C\u001b[49m\u001b[38;5;241;43m.\u001b[39;49m\u001b[43m_nn\u001b[49m\u001b[38;5;241;43m.\u001b[39;49m\u001b[43mcross_entropy_loss\u001b[49m\u001b[43m(\u001b[49m\u001b[38;5;28;43minput\u001b[39;49m\u001b[43m,\u001b[49m\u001b[43m \u001b[49m\u001b[43mtarget\u001b[49m\u001b[43m,\u001b[49m\u001b[43m \u001b[49m\u001b[43mweight\u001b[49m\u001b[43m,\u001b[49m\u001b[43m \u001b[49m\u001b[43m_Reduction\u001b[49m\u001b[38;5;241;43m.\u001b[39;49m\u001b[43mget_enum\u001b[49m\u001b[43m(\u001b[49m\u001b[43mreduction\u001b[49m\u001b[43m)\u001b[49m\u001b[43m,\u001b[49m\u001b[43m \u001b[49m\u001b[43mignore_index\u001b[49m\u001b[43m,\u001b[49m\u001b[43m \u001b[49m\u001b[43mlabel_smoothing\u001b[49m\u001b[43m)\u001b[49m\n",
      "\u001b[0;31mTypeError\u001b[0m: cross_entropy_loss(): argument 'input' (position 1) must be Tensor, not tuple"
     ]
    }
   ],
   "source": [
    "epochs = 5\n",
    "for epoch in range(epochs):\n",
    "    running_loss = 0.0\n",
    "    for i, data in enumerate(train_loader, 0):\n",
    "        print(i)\n",
    "        input1, input2, labels = data\n",
    "        # set optimizer to zero grad to remove previous epoch gradients\n",
    "        optimizer.zero_grad()\n",
    "        net.train()\n",
    "        # forward propagation\n",
    "        outputs = net(input1, input2)\n",
    "        loss = criterion(outputs, labels)\n",
    "        # backward propagation\n",
    "        loss.backward()\n",
    "        # optimize\n",
    "        optimizer.step()\n",
    "        running_loss += loss.item()\n",
    "        # display statistics\n",
    "        print(f'[{epoch + 1}, {i + 1:5d}] loss: {running_loss / 2000:.5f}')\n",
    "    evaluate(test_loader, net)"
   ]
  },
  {
   "cell_type": "code",
   "execution_count": 141,
   "id": "3f07583d-72bc-4dc7-8a82-ac9efbfb8089",
   "metadata": {},
   "outputs": [
    {
     "data": {
      "text/plain": [
       "(tensor([[ 0.7496, -1.4059],\n",
       "         [ 0.1989,  0.6306],\n",
       "         [ 0.0230, -0.1334],\n",
       "         [-0.2751,  0.8323],\n",
       "         [ 1.1012, -1.0874],\n",
       "         [-0.4003, -0.1794],\n",
       "         [ 0.7513, -0.6187],\n",
       "         [-0.6639, -0.3383],\n",
       "         [ 0.6930,  0.2636],\n",
       "         [ 0.9813,  0.0290],\n",
       "         [-1.9610,  0.5959],\n",
       "         [-0.6315, -0.8935],\n",
       "         [ 0.1617,  0.9481],\n",
       "         [ 0.0179,  0.3680],\n",
       "         [-0.1511,  1.0573],\n",
       "         [ 0.2860,  0.1807],\n",
       "         [-1.0074,  0.8606],\n",
       "         [ 0.0448, -0.2837],\n",
       "         [ 0.8527, -0.0879],\n",
       "         [-1.5555, -0.7072],\n",
       "         [-0.7678,  1.1842],\n",
       "         [ 1.5203, -0.9333],\n",
       "         [-0.9352,  2.4218],\n",
       "         [ 0.1822,  0.0996],\n",
       "         [-0.4307,  0.8662],\n",
       "         [ 0.3974,  1.8528],\n",
       "         [ 1.8582, -0.1867],\n",
       "         [ 0.3098, -0.5531],\n",
       "         [-0.1508, -1.6902],\n",
       "         [-1.4600,  0.1678],\n",
       "         [-0.1490, -0.1504],\n",
       "         [-0.6878, -0.2577]], grad_fn=<AddmmBackward0>),\n",
       " tensor([[-0.4970,  0.6955],\n",
       "         [ 1.1141, -0.0558],\n",
       "         [ 0.2055,  0.6112],\n",
       "         [ 0.5243,  1.0678],\n",
       "         [-0.9813,  0.0600],\n",
       "         [ 0.5982, -0.3085],\n",
       "         [ 0.8821, -1.0639],\n",
       "         [-0.2219,  0.3449],\n",
       "         [ 0.2799,  1.2807],\n",
       "         [ 0.5470,  0.3858],\n",
       "         [ 0.0899,  0.6873],\n",
       "         [-0.4561, -0.1253],\n",
       "         [ 0.9545, -0.0806],\n",
       "         [ 1.1030,  1.3411],\n",
       "         [ 1.3647,  0.0402],\n",
       "         [ 0.3279, -0.0091],\n",
       "         [ 1.1692, -0.8141],\n",
       "         [ 0.3707, -0.5699],\n",
       "         [-0.0762,  0.0917],\n",
       "         [ 1.1295,  0.7926],\n",
       "         [ 0.2871, -0.1452],\n",
       "         [-0.3886, -0.7158],\n",
       "         [ 0.1607, -1.0295],\n",
       "         [ 0.1780,  0.5136],\n",
       "         [-0.5033,  0.9043],\n",
       "         [ 0.1357, -1.1523],\n",
       "         [ 0.4558, -1.8094],\n",
       "         [-0.7136,  1.6573],\n",
       "         [-0.0921,  0.6729],\n",
       "         [-1.3938, -0.5292],\n",
       "         [-0.2482, -0.4647],\n",
       "         [-0.2054,  0.5033]], grad_fn=<AddmmBackward0>))"
      ]
     },
     "execution_count": 141,
     "metadata": {},
     "output_type": "execute_result"
    }
   ],
   "source": [
    "outputs"
   ]
  },
  {
   "cell_type": "code",
   "execution_count": null,
   "id": "bd3b1d34-32c6-436d-a5fc-6f5ff751dc2c",
   "metadata": {},
   "outputs": [],
   "source": []
  }
 ],
 "metadata": {
  "kernelspec": {
   "display_name": "Python 3 (ipykernel)",
   "language": "python",
   "name": "python3"
  },
  "language_info": {
   "codemirror_mode": {
    "name": "ipython",
    "version": 3
   },
   "file_extension": ".py",
   "mimetype": "text/x-python",
   "name": "python",
   "nbconvert_exporter": "python",
   "pygments_lexer": "ipython3",
   "version": "3.8.13"
  }
 },
 "nbformat": 4,
 "nbformat_minor": 5
}
