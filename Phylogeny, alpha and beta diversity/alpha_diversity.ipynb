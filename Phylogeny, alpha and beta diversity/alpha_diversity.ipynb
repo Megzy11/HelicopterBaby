{
 "cells": [
  {
   "cell_type": "code",
   "execution_count": 10,
   "id": "a56c5465-120d-41b7-bf0b-a0af80d91b0b",
   "metadata": {},
   "outputs": [],
   "source": [
    "# importing all required packages & notebook extensions at the start of the notebook\n",
    "import os\n",
    "import pandas as pd\n",
    "import qiime2 as q2\n",
    "from qiime2 import Visualization\n",
    "\n",
    "%matplotlib inline\n",
    "\n",
    "or_dir = '../data' #original data (demux sequences, metadata)\n",
    "data_dir = 'data' #data from polybox (ASV, taxonomy analysis)\n",
    "\n",
    "if not os.path.isdir(out_dir):\n",
    "    os.makedirs(out_dir)"
   ]
  },
  {
   "cell_type": "code",
   "execution_count": 6,
   "id": "16ebb1ac-2eea-44bc-9478-20faaa6ea67c",
   "metadata": {},
   "outputs": [
    {
     "name": "stdout",
     "output_type": "stream",
     "text": [
      "2022-10-25 13:00:58 URL:https://polybox.ethz.ch/index.php/s/pNA39R0rl2xMMj9/download [894620633] -> \"data.zip\" [1]\n"
     ]
    }
   ],
   "source": [
    "! wget -nv -O data.zip 'https://polybox.ethz.ch/index.php/s/pNA39R0rl2xMMj9/download'\n",
    "! unzip -q data.zip #-d $data_dir\n",
    "! mv data data2\n",
    "! mv data2/taxonomy/data .\n",
    "! cp data2/ASV/data/* data\n",
    "! rm -r data2\n",
    "! rm data.zip"
   ]
  },
  {
   "cell_type": "code",
   "execution_count": 13,
   "id": "74a953fa-fa26-40ea-b1ab-326e7edf0a48",
   "metadata": {},
   "outputs": [
    {
     "name": "stdout",
     "output_type": "stream",
     "text": [
      "/home/jovyan/HelicopterBaby/Phylogeny, alpha and beta diversity\n"
     ]
    }
   ],
   "source": [
    "! pwd"
   ]
  },
  {
   "cell_type": "markdown",
   "id": "aa3e6a9d-924e-47b7-936f-a67bbe98f828",
   "metadata": {},
   "source": [
    "Q: should we use filtered table or not???"
   ]
  },
  {
   "cell_type": "code",
   "execution_count": 16,
   "id": "8847907c-249f-4f89-9969-cccbd563ecfe",
   "metadata": {},
   "outputs": [
    {
     "name": "stdout",
     "output_type": "stream",
     "text": [
      "\u001b[32mSaved Visualization to: data/feature-table.qzv\u001b[0m\n",
      "\u001b[0m"
     ]
    }
   ],
   "source": [
    "! qiime feature-table summarize \\\n",
    "  --i-table $data_dir/PJNB_dada2_table_.qza \\\n",
    "  --m-sample-metadata-file $or_dir/metadata.tsv \\\n",
    "  --o-visualization $data_dir/feature-table.qzv"
   ]
  },
  {
   "cell_type": "code",
   "execution_count": 17,
   "id": "14e4d420-31d4-481e-9dda-75f494602013",
   "metadata": {},
   "outputs": [
    {
     "data": {
      "text/html": [
       "<div><img onload=\"(function(div, url){\n",
       "if (typeof require !== 'undefined') {\n",
       "    var baseURL = require.toUrl('').split('/').slice(0, -2).join('/');\n",
       "} else {\n",
       "    var baseURL = JSON.parse(\n",
       "        document.getElementById('jupyter-config-data').innerHTML\n",
       "    ).baseUrl.slice(0, -1);\n",
       "}\n",
       "url = baseURL + url;\n",
       "fetch(url).then(function(res) {\n",
       "    if (res.status === 404) {\n",
       "        div.innerHTML = 'Install QIIME 2 Jupyter extension with:<br />' +\n",
       "                        '<code>jupyter serverextension enable --py qiime2' +\n",
       "                        ' --sys-prefix</code><br />then restart your server.' +\n",
       "                        '<br /><br />(Interactive output not available on ' +\n",
       "                        'static notebook viewer services like nbviewer.)';\n",
       "    } else if (res.status === 409) {\n",
       "        div.innerHTML = 'Visualization no longer in scope. Re-run this cell' +\n",
       "                        ' to see the visualization.';\n",
       "    } else if (res.ok) {\n",
       "        url = res.url;\n",
       "        div.innerHTML = '<iframe src=\\'' + url + '\\' style=\\'' +\n",
       "                        'width: 100%; height: 700px; border: 0;\\'>' +\n",
       "                        '</iframe><hr />Open in a: <a href=\\'' + url + '\\'' +\n",
       "                        ' target=\\'_blank\\'>new window</a>'\n",
       "    } else {\n",
       "        div.innerHTML = 'Something has gone wrong. Check notebook server for' +\n",
       "                        ' errors.';\n",
       "    }\n",
       "});\n",
       "})(this.parentElement, '/qiime2/redirect?location=/tmp/qiime2-archive-xtdvgk1o')\" src=\"data:image/gif;base64,R0lGODlhAQABAIAAAP///wAAACH5BAEAAAAALAAAAAABAAEAAAICRAEAOw==\" /></div>"
      ],
      "text/plain": [
       "<visualization: Visualization uuid: dcebd226-ee54-421d-8d9a-9dcee077c86c>"
      ]
     },
     "execution_count": 17,
     "metadata": {},
     "output_type": "execute_result"
    }
   ],
   "source": [
    "Visualization.load(f'{data_dir}/feature-table.qzv')"
   ]
  },
  {
   "cell_type": "code",
   "execution_count": null,
   "id": "0bcdacfd-3a92-4675-bbc1-06cd803609f8",
   "metadata": {},
   "outputs": [],
   "source": [
    "! qiime diversity alpha-rarefaction \\\n",
    "    --i-table $data_dir/feature-table.qza \\\n",
    "    --i-phylogeny $data_dir/insertion-tree.qza \\\n",
    "    --p-max-depth 10000 \\\n",
    "    --m-metadata-file $data_dir/metadata_proc.tsv \\\n",
    "    --o-visualization $data_dir/alpha-rarefaction.qzv"
   ]
  },
  {
   "cell_type": "code",
   "execution_count": null,
   "id": "ec771ed6-376f-491d-ba6d-48aa7cedde07",
   "metadata": {},
   "outputs": [],
   "source": [
    "Visualization.load(f'{data_dir}/alpha-rarefaction.qzv')"
   ]
  },
  {
   "cell_type": "code",
   "execution_count": null,
   "id": "15138d3e-12f9-45ea-bb60-18e8a7bcc042",
   "metadata": {},
   "outputs": [],
   "source": [
    "! qiime diversity core-metrics-phylogenetic \\\n",
    "  --i-table $data_dir/feature-table.qza \\\n",
    "  --i-phylogeny $data_dir/insertion-tree.qza \\\n",
    "  --m-metadata-file $data_dir/metadata_proc.tsv \\\n",
    "  --p-sampling-depth 1500 \\\n",
    "  --output-dir $data_dir/core-metrics-results"
   ]
  },
  {
   "cell_type": "code",
   "execution_count": null,
   "id": "daf39995-4a77-4252-a1ef-6d717af8b040",
   "metadata": {},
   "outputs": [],
   "source": [
    "! qiime diversity alpha-group-significance \\\n",
    "  --i-alpha-diversity $data_dir/core-metrics-results/faith_pd_vector.qza \\\n",
    "  --m-metadata-file $data_dir/metadata_proc.tsv \\\n",
    "  --o-visualization $data_dir/core-metrics-results/faith-pd-group-significance.qzv"
   ]
  },
  {
   "cell_type": "code",
   "execution_count": null,
   "id": "7f750b8e-4ea7-44ca-99ea-02d4fbdfd82d",
   "metadata": {},
   "outputs": [],
   "source": [
    "Visualization.load(f'{data_dir}/core-metrics-results/faith-pd-group-significance.qzv')"
   ]
  },
  {
   "cell_type": "code",
   "execution_count": null,
   "id": "693e8062-7664-4930-866e-45fddf8e6e50",
   "metadata": {},
   "outputs": [],
   "source": [
    "! qiime diversity alpha-correlation \\\n",
    "  --i-alpha-diversity $data_dir/core-metrics-results/faith_pd_vector.qza \\\n",
    "  --m-metadata-file $data_dir/metadata_proc.tsv \\\n",
    "  --o-visualization $data_dir/core-metrics-results/faith-pd-group-significance-numeric.qzv"
   ]
  },
  {
   "cell_type": "code",
   "execution_count": null,
   "id": "90f07f51-c7e6-4b7b-ba1a-564a23a9029d",
   "metadata": {},
   "outputs": [],
   "source": [
    "Visualization.load(f'{data_dir}/core-metrics-results/faith-pd-group-significance-numeric.qzv')"
   ]
  }
 ],
 "metadata": {
  "kernelspec": {
   "display_name": "Python 3 (ipykernel)",
   "language": "python",
   "name": "python3"
  },
  "language_info": {
   "codemirror_mode": {
    "name": "ipython",
    "version": 3
   },
   "file_extension": ".py",
   "mimetype": "text/x-python",
   "name": "python",
   "nbconvert_exporter": "python",
   "pygments_lexer": "ipython3",
   "version": "3.8.13"
  }
 },
 "nbformat": 4,
 "nbformat_minor": 5
}
