{
 "cells": [
  {
   "cell_type": "code",
   "execution_count": null,
   "id": "a56c5465-120d-41b7-bf0b-a0af80d91b0b",
   "metadata": {},
   "outputs": [],
   "source": [
    "# importing all required packages & notebook extensions at the start of the notebook\n",
    "import os\n",
    "import pandas as pd\n",
    "import qiime2 as q2\n",
    "from qiime2 import Visualization\n",
    "import matplotlib.pyplot as plt\n",
    "%matplotlib inline\n",
    "from operator import itemgetter\n",
    "import matplotlib.patches as mpatches\n",
    "from scipy.stats import shapiro\n",
    "\n",
    "or_dir = '../data' #original data (demux sequences, metadata)\n",
    "data_dir = 'data' #data from polybox (ASV, taxonomy analysis)\n"
   ]
  },
  {
   "cell_type": "markdown",
   "id": "15863f05-76fb-48d8-b51c-4d5015c2d41b",
   "metadata": {},
   "source": [
    "# Getting data from polybox"
   ]
  },
  {
   "cell_type": "code",
   "execution_count": null,
   "id": "16ebb1ac-2eea-44bc-9478-20faaa6ea67c",
   "metadata": {},
   "outputs": [],
   "source": [
    "#! wget -nv -O data.zip 'https://polybox.ethz.ch/index.php/s/pNA39R0rl2xMMj9/download'\n",
    "#! unzip -q data.zip #-d $data_dir\n",
    "#! mv data data2\n",
    "#! mv data2/taxonomy/data .\n",
    "#! cp data2/ASV/data/* data\n",
    "#! cp data2/Phylogeny/data/* data\n",
    "#! rm -r data2\n",
    "#! rm data.zip"
   ]
  },
  {
   "cell_type": "code",
   "execution_count": null,
   "id": "74a953fa-fa26-40ea-b1ab-326e7edf0a48",
   "metadata": {},
   "outputs": [],
   "source": [
    "! pwd"
   ]
  },
  {
   "cell_type": "markdown",
   "id": "72614da3-7f90-4093-b8e0-71c12fe83bf0",
   "metadata": {},
   "source": [
    "# Running the standard alpha diversity analysis"
   ]
  },
  {
   "cell_type": "markdown",
   "id": "aa3e6a9d-924e-47b7-936f-a67bbe98f828",
   "metadata": {},
   "source": [
    "Q: should we use filtered table or not???"
   ]
  },
  {
   "cell_type": "code",
   "execution_count": null,
   "id": "1a371834-5672-4389-8e14-266e596adcae",
   "metadata": {},
   "outputs": [],
   "source": [
    "#metadata = pd.read_csv(or_dir + '/metadata.tsv', sep = '\\t')\n",
    "#print(metadata.columns)"
   ]
  },
  {
   "cell_type": "code",
   "execution_count": null,
   "id": "e45d960b-9427-4704-be97-16b9531737ee",
   "metadata": {},
   "outputs": [],
   "source": [
    "#del metadata['collection_date']\n",
    "#metadata.to_csv(data_dir+\"/new_metadata_for_a_diversity.tsv\", sep = \"\\t\", index = False)"
   ]
  },
  {
   "cell_type": "code",
   "execution_count": null,
   "id": "7fe5b5b5-1e39-4cbc-b772-8fbef9f85d70",
   "metadata": {},
   "outputs": [],
   "source": []
  },
  {
   "cell_type": "code",
   "execution_count": null,
   "id": "8847907c-249f-4f89-9969-cccbd563ecfe",
   "metadata": {},
   "outputs": [],
   "source": [
    "! qiime feature-table summarize \\\n",
    "  --i-table $data_dir/phylogeny_filtered_table.qza \\\n",
    "  --m-sample-metadata-file $data_dir/new_metadata_for_a_diversity.tsv \\\n",
    "  --o-visualization $data_dir/feature-table2.qzv\n",
    "#$or_dir/metadata.tsv \\"
   ]
  },
  {
   "cell_type": "code",
   "execution_count": null,
   "id": "14e4d420-31d4-481e-9dda-75f494602013",
   "metadata": {
    "tags": []
   },
   "outputs": [],
   "source": [
    "Visualization.load(f'{data_dir}/feature-table2.qzv')"
   ]
  },
  {
   "cell_type": "code",
   "execution_count": null,
   "id": "0bcdacfd-3a92-4675-bbc1-06cd803609f8",
   "metadata": {},
   "outputs": [],
   "source": [
    "! qiime diversity alpha-rarefaction \\\n",
    "    --i-table $data_dir/phylogeny_filtered_table.qza \\\n",
    "    --i-phylogeny $data_dir/reference-tree.qza \\\n",
    "    --p-max-depth 10000 \\\n",
    "    --m-metadata-file $data_dir/new_metadata_for_a_diversity.tsv \\\n",
    "    --o-visualization $data_dir/alpha-rarefaction2.qzv\n",
    "#$or_dir/metadata.tsv \\"
   ]
  },
  {
   "cell_type": "markdown",
   "id": "25f22ee4-4826-4e2a-adb0-8f855c895f1b",
   "metadata": {},
   "source": [
    "Chose 10k max depth, and since graphs level off before that, this makes sense."
   ]
  },
  {
   "cell_type": "code",
   "execution_count": null,
   "id": "ec771ed6-376f-491d-ba6d-48aa7cedde07",
   "metadata": {},
   "outputs": [],
   "source": [
    "Visualization.load(f'{data_dir}/alpha-rarefaction2.qzv')"
   ]
  },
  {
   "cell_type": "code",
   "execution_count": null,
   "id": "15138d3e-12f9-45ea-bb60-18e8a7bcc042",
   "metadata": {},
   "outputs": [],
   "source": [
    "! qiime diversity core-metrics-phylogenetic \\\n",
    "  --i-table $data_dir/phylogeny_filtered_table.qza \\\n",
    "  --i-phylogeny $data_dir/reference-tree.qza \\\n",
    "  --m-metadata-file $data_dir/new_metadata_for_a_diversity.tsv \\\n",
    "  --p-sampling-depth 8000 \\\n",
    "  --output-dir $data_dir/core-metrics-results2\n",
    "#$or_dir/metadata.tsv \\"
   ]
  },
  {
   "cell_type": "code",
   "execution_count": null,
   "id": "744a0e5f-2378-4c23-9acb-ebbc6246d258",
   "metadata": {},
   "outputs": [],
   "source": [
    "! pwd"
   ]
  },
  {
   "cell_type": "code",
   "execution_count": null,
   "id": "daf39995-4a77-4252-a1ef-6d717af8b040",
   "metadata": {},
   "outputs": [],
   "source": [
    "! qiime diversity alpha-group-significance \\\n",
    "  --i-alpha-diversity $data_dir/core-metrics-results2/faith_pd_vector.qza \\\n",
    "  --m-metadata-file $data_dir/new_metadata_for_a_diversity.tsv \\\n",
    "  --o-visualization $data_dir/core-metrics-results2/faith-pd-group-significance.qzv"
   ]
  },
  {
   "cell_type": "code",
   "execution_count": null,
   "id": "7f750b8e-4ea7-44ca-99ea-02d4fbdfd82d",
   "metadata": {},
   "outputs": [],
   "source": [
    "Visualization.load(f'{data_dir}/core-metrics-results2/faith-pd-group-significance.qzv')"
   ]
  },
  {
   "cell_type": "code",
   "execution_count": null,
   "id": "693e8062-7664-4930-866e-45fddf8e6e50",
   "metadata": {},
   "outputs": [],
   "source": [
    "! qiime diversity alpha-correlation \\\n",
    "  --i-alpha-diversity $data_dir/core-metrics-results2/faith_pd_vector.qza \\\n",
    "  --m-metadata-file $data_dir/new_metadata_for_a_diversity.tsv \\\n",
    "  --o-visualization $data_dir/core-metrics-results2/faith-pd-group-significance-numeric.qzv"
   ]
  },
  {
   "cell_type": "code",
   "execution_count": null,
   "id": "90f07f51-c7e6-4b7b-ba1a-564a23a9029d",
   "metadata": {},
   "outputs": [],
   "source": [
    "Visualization.load(f'{data_dir}/core-metrics-results2/faith-pd-group-significance-numeric.qzv')"
   ]
  },
  {
   "cell_type": "markdown",
   "id": "97a4c586-ec5b-4e1b-aa53-82be8cb175ea",
   "metadata": {},
   "source": [
    "# Alpha diversity and metadata\n",
    "\n"
   ]
  },
  {
   "cell_type": "code",
   "execution_count": null,
   "id": "2759ff2e-19de-4945-8de5-7f350261f731",
   "metadata": {},
   "outputs": [],
   "source": [
    "#only need to load this file\n",
    "#metadata_correlation_z.tsv\n",
    "#this alpha_meta is for the later steps\n",
    "alpha_meta = pd.read_csv(data_dir + '/metadata_correlation_z.tsv', sep = '\\t')\n",
    "alpha_meta.head(5)"
   ]
  },
  {
   "cell_type": "code",
   "execution_count": null,
   "id": "fb5a8bce-bb79-42f8-b2d8-b37f665f74e7",
   "metadata": {},
   "outputs": [],
   "source": [
    "#creat the metadata_correlation table\n",
    "#md = pd.read_csv(os.path.join(data_dir, 'new_metadata_for_a_diversity.tsv'), sep='\\t', index_col=0)\n",
    "#ndf = pd.concat([md, div], axis = 1)\n",
    "#ndf.head(5)\n",
    "#ndf = ndf.reset_index()\n",
    "#ndf.rename(columns = {'index':'id'}, inplace = True)\n",
    "#ndf.columns\n",
    "#save the results as the metadata_correlation.tsv\n",
    "#ndf.to_csv(\"./data/metadata_correlation.tsv\", sep = \"\\t\", index = False)"
   ]
  },
  {
   "cell_type": "code",
   "execution_count": null,
   "id": "7ec80ea1-b884-44c7-97ae-396f76491b53",
   "metadata": {},
   "outputs": [],
   "source": [
    "#create the metadata_correlation.tsv: the table for the a diversity and different columns\n",
    "#div = q2.Artifact.load(os.path.join(data_dir, 'core-metrics-results2/faith_pd_vector.qza')).view(pd.Series)\n"
   ]
  },
  {
   "cell_type": "code",
   "execution_count": null,
   "id": "a8e00054-4c87-45bf-a788-e94642a688f3",
   "metadata": {},
   "outputs": [],
   "source": [
    "#pd.read_csv(data_dir + '/metadata_correlation.tsv', sep = '\\t').head(5)"
   ]
  },
  {
   "cell_type": "code",
   "execution_count": null,
   "id": "4f24cdb6-3b46-48d7-977e-e7194662b3ac",
   "metadata": {},
   "outputs": [],
   "source": [
    "alpha_diversities = pd.read_csv(data_dir + '/metadata_correlation.tsv', sep = '\\t')\n",
    "alpha_diversities = alpha_diversities.iloc[1:,:]\n",
    "\n",
    "\n",
    "\n",
    "# prints to check\n",
    "#print(alpha_diversities['faith_pd'].isna().sum())\n",
    "#print(alpha_meta.columns)\n",
    "#print(metadata.shape)\n",
    "#print(alpha_diversities.shape)\n",
    "#print(alpha_meta.shape)\n",
    "#print(metadata.index[-1])\n",
    "#print(metadata.index == alpha_diversities.index)\n",
    "#print(alpha_diversities['WAZ'] == metadata['WAZ'])\n",
    "#print(alpha_diversities.head())\n",
    "#print(metadata.head())\n",
    "#print(alpha_meta.head())"
   ]
  },
  {
   "cell_type": "code",
   "execution_count": null,
   "id": "0ad504ae-d0b4-4b21-b64d-106174fbd241",
   "metadata": {},
   "outputs": [],
   "source": [
    "#a_ind = set(alpha_diversities.index)"
   ]
  },
  {
   "cell_type": "code",
   "execution_count": null,
   "id": "e98f1179-5754-4940-901d-7605a67f0784",
   "metadata": {},
   "outputs": [],
   "source": [
    "metadata = pd.read_csv(data_dir + '/new_metadata_for_a_diversity.tsv', sep = '\\t')"
   ]
  },
  {
   "cell_type": "code",
   "execution_count": null,
   "id": "b89a7af1-cda9-4551-9efc-f6666c29c59f",
   "metadata": {},
   "outputs": [],
   "source": [
    "#m_ind = set(metadata.index)"
   ]
  },
  {
   "cell_type": "code",
   "execution_count": null,
   "id": "dd6d63e3-74d1-48ef-b773-8f17a20ce4b1",
   "metadata": {},
   "outputs": [],
   "source": [
    "#m_ind ^ a_ind"
   ]
  },
  {
   "cell_type": "code",
   "execution_count": null,
   "id": "a1044c8a-3946-429b-ae0a-359670900d0b",
   "metadata": {},
   "outputs": [],
   "source": [
    "# check if indices match\n",
    "#m_ind = set(metadata.index)\n",
    "#a_ind = set(alpha_diversities.index)\n",
    "#diff = m_ind ^ a_ind\n",
    "#print(diff)"
   ]
  },
  {
   "cell_type": "code",
   "execution_count": null,
   "id": "e90e3a0e-ad82-4c47-8913-8d4e65243b3f",
   "metadata": {},
   "outputs": [],
   "source": [
    "#metadata.columns"
   ]
  },
  {
   "cell_type": "code",
   "execution_count": null,
   "id": "882c389b-f17c-4949-86dd-768c722a8501",
   "metadata": {},
   "outputs": [],
   "source": [
    "# set id as index\n",
    "#metadata = metadata.set_index(['id'])\n",
    "#alpha_diversities = alpha_diversities.set_index('id')\n",
    "#metadata.drop(diff)\n"
   ]
  },
  {
   "cell_type": "code",
   "execution_count": null,
   "id": "c590d404-cea9-462f-a50d-4b3bd01fcd00",
   "metadata": {},
   "outputs": [],
   "source": [
    "#alpha_meta = pd.concat([metadata, alpha_diversities], axis =1, join = 'inner')\n",
    "#alpha_meta = alpha_meta.T.drop_duplicates().T"
   ]
  },
  {
   "cell_type": "code",
   "execution_count": null,
   "id": "79a5739f-603e-4eb9-bfd6-d10c13f0cdc3",
   "metadata": {},
   "outputs": [],
   "source": [
    "#alpha_meta.head(5)\n",
    "#alpha_meta = alpha_meta.reset_index()"
   ]
  },
  {
   "cell_type": "code",
   "execution_count": null,
   "id": "9c316f00-b4f5-468d-b442-730e8bb12968",
   "metadata": {},
   "outputs": [],
   "source": [
    "#alpha_meta = alpha_meta.reset_index()"
   ]
  },
  {
   "cell_type": "code",
   "execution_count": null,
   "id": "7f3f3a37-c638-4538-8584-a1678ef46d32",
   "metadata": {},
   "outputs": [],
   "source": [
    "#alpha_meta.head(5)"
   ]
  },
  {
   "cell_type": "code",
   "execution_count": null,
   "id": "305ea3b5-7305-433d-bc4d-0adbeacd099a",
   "metadata": {},
   "outputs": [],
   "source": [
    "#make the table into a csv doc, and this one contains all the information we need to a diversity\n",
    "#alpha_meta.to_csv(\"./data/metadata_correlation_z.tsv\", sep = \"\\t\", index = False)\n"
   ]
  },
  {
   "cell_type": "code",
   "execution_count": null,
   "id": "0ae075f3-f37d-4cbc-8a18-38d61ac02546",
   "metadata": {},
   "outputs": [],
   "source": [
    "#alpha_meta = 0\n",
    "#alpha_meta = pd.read_csv(data_dir + '/metadata_correlation_z.tsv', sep = '\\t')\n",
    "#alpha_meta.head(5)"
   ]
  },
  {
   "cell_type": "markdown",
   "id": "e3d3d18c-9ba6-4247-8239-4abe0dc2d74f",
   "metadata": {},
   "source": [
    "## Weaning"
   ]
  },
  {
   "cell_type": "code",
   "execution_count": null,
   "id": "b702888b-ed88-4f0f-b180-6db8bd72148d",
   "metadata": {},
   "outputs": [],
   "source": [
    "id_weaning = alpha_meta[alpha_meta['diet_weaning'] == True]['id']\n",
    "print(id_weaning.shape)\n",
    "id_not_weaning = alpha_meta[alpha_meta['diet_weaning'] == False]['id']\n",
    "print(id_not_weaning.shape)\n",
    "unassigned_weaning = alpha_meta['diet_weaning'].isna().sum()\n",
    "#print('Percentage of unassigned to weaning data = ' + str(unassigned_weaning/metadata.shape[0]*100))\n",
    "print(unassigned_weaning)"
   ]
  },
  {
   "cell_type": "code",
   "execution_count": null,
   "id": "206c2389-38f0-483e-8dee-e49cd9ea2dd8",
   "metadata": {
    "tags": []
   },
   "outputs": [],
   "source": [
    "#id_weaning = metadata[metadata['diet_weaning'] == True]['id']\n",
    "#print(id_weaning.shape)\n",
    "#id_not_weaning = metadata[metadata['diet_weaning'] == False]['id']\n",
    "#print(id_not_weaning.shape)\n",
    "#unassigned_weaning = metadata['diet_weaning'].isna().sum()\n",
    "#print('Percentage of unassigned to weaning data = ' + str(unassigned_weaning/metadata.shape[0]*100))\n",
    "#print(unassigned_weaning)"
   ]
  },
  {
   "cell_type": "markdown",
   "id": "8c5fe7c4-a2c9-419a-ba37-fe9b244cd985",
   "metadata": {},
   "source": [
    "### Scatter plot of alpha diversity vs age with weaning coloured and hist of alpha diversity vs weaning"
   ]
  },
  {
   "cell_type": "code",
   "execution_count": null,
   "id": "35e46706-f58e-4be8-b5b1-0388b55732dc",
   "metadata": {},
   "outputs": [],
   "source": [
    "# map weaning to colours \n",
    "colours_weaning = {True:'red', False:'green', 'na':'blue'}#, 'other':'black'}\n",
    "\n",
    "# plot the alpha diversity against age, for different weaning status = different colour\n",
    "fig, ax = plt.subplots(figsize = (15,10))\n",
    "fig2, ax2 = plt.subplots(figsize=(10,8))\n",
    "weaning_options = [True, False]\n",
    "labels = ['Weaning', ' Not weaning', 'Weaning not specified']\n",
    "shapiro_weaning = list()\n",
    "i=0\n",
    "for key in colours_weaning:\n",
    "    if type(key) != str:\n",
    "        subs = alpha_diversities.loc[metadata['diet_weaning'] == weaning_options[i], ]\n",
    "    else:\n",
    "        subs = alpha_diversities.loc[metadata['diet_weaning'].isna(), ]\n",
    "    ax.scatter(subs['age_months'].astype(int), subs['faith_pd'].astype(float), \n",
    "               color = colours_weaning[key], s = 50-i*15, label = labels[i],\n",
    "              zorder = i, alpha = 1-i*0.2)\n",
    "    ax2.hist(subs['faith_pd'].astype(float), \n",
    "               color = colours_weaning[key], label = labels[i], width = 4,\n",
    "              #align = aligns[i], \n",
    "             density = True, alpha = 1-i*0.3, edgecolor = colours_weaning[key])\n",
    "    shapiro_weaning.append(shapiro(subs['faith_pd'].astype(float)))\n",
    "    i = i+1\n",
    "ax.legend()\n",
    "ax.set_xlabel('age in months',  fontsize = 14)\n",
    "ax.set_ylabel('Faiths phylogenetic diversity',  fontsize = 14)\n",
    "fig.suptitle('Alpha diversity against age, for different diets',  fontsize = 20)\n",
    "\n",
    "ax2.legend()\n",
    "ax2.set_xlabel('Faiths phylogenetic diversity',  fontsize = 14)\n",
    "ax2.set_ylabel('Density',  fontsize = 14)\n",
    "fig2.suptitle('Alpha diversity histogram for different diets, all ages combined \\n normalized for total count of group',  fontsize = 20)\n",
    "\n",
    "print(shapiro_weaning)\n",
    "print('the shapiro test shows that our data is not normally distributed')"
   ]
  },
  {
   "cell_type": "markdown",
   "id": "306c4b07-5e2a-4bbf-ad01-eae7cea538ff",
   "metadata": {},
   "source": [
    "## Breast or formula milk"
   ]
  },
  {
   "cell_type": "code",
   "execution_count": null,
   "id": "ee463761-6fbb-465b-b4b6-fc7ed0419947",
   "metadata": {},
   "outputs": [],
   "source": [
    "# map weaning to colours \n",
    "#formula_breast = metadata_ordered['diet_milk'].fillna('na')\n",
    "formula_breast = alpha_meta['diet_milk'].fillna('na')\n",
    "color_formula_breast = {'fd': 'red', 'bd': 'green', 'no milk': 'blue', False: 'orange'}\n",
    "\n",
    "# plot the alpha diversity against age, for different weaning status = different colour\n",
    "fig, ax = plt.subplots(figsize = (15,10))\n",
    "fig2, ax2 = plt.subplots(figsize=(10,8))\n",
    "labels = ['Formula', 'Breast milk', 'No milk', 'Milk not specified']\n",
    "diet_milk_options = ['fd','bd', 'no milk']\n",
    "shapiro_milk = list()\n",
    "\n",
    "i=0\n",
    "for key in color_formula_breast:\n",
    "    print(key)\n",
    "    if type(key) == str:\n",
    "        subs = alpha_diversities.loc[metadata['diet_milk'] == key, ]\n",
    "    else:\n",
    "        subs = alpha_diversities.loc[metadata['diet_milk'].isna(), ]\n",
    "    ax.scatter(subs['age_months'].astype(int), subs['faith_pd'].astype(float), \n",
    "               color = color_formula_breast[key], s = 50-i*10, label = labels[i],\n",
    "              zorder = i, alpha = 1-i*0.1)\n",
    "    ax2.hist(subs['faith_pd'].astype(float), \n",
    "               color = color_formula_breast[key], label = labels[i], width = 3,\n",
    "               density = True, alpha = 1-i*0.2, edgecolor = color_formula_breast[key]) #align = aligns[i],\n",
    "    i = i+1\n",
    "    shapiro_milk.append(shapiro(subs['faith_pd'].astype(float)))\n",
    "    #if i == 1:\n",
    "    #        break\n",
    "ax.legend()\n",
    "ax.set_xlabel('age in months',  fontsize = 14)\n",
    "ax.set_ylabel('Faiths phylogenetic diversity',  fontsize = 14)\n",
    "fig.suptitle('Alpha diversity against age, for different diets',  fontsize = 20)\n",
    "\n",
    "ax2.legend()\n",
    "ax2.set_xlabel('Faiths phylogenetic diversity',  fontsize = 14)\n",
    "ax2.set_ylabel('Density',  fontsize = 14)\n",
    "fig2.suptitle('Alpha diversity histogram for different diets, all ages combined \\n normalized for total count of group',  fontsize = 20)\n",
    "\n",
    "print(shapiro_milk)\n",
    "print('the shapiro test shows that our data is not normally distributed for the formula milk and milk not specified')"
   ]
  },
  {
   "cell_type": "markdown",
   "id": "6c957955-bc54-4c46-bd7f-ef21d0c818b1",
   "metadata": {},
   "source": [
    "## Check for normality"
   ]
  },
  {
   "cell_type": "code",
   "execution_count": null,
   "id": "fc961061-3664-41ef-a893-6570935282fd",
   "metadata": {},
   "outputs": [],
   "source": [
    "# Shapiro Wilk Test\n",
    "from scipy.stats import shapiro\n",
    "\n"
   ]
  },
  {
   "cell_type": "markdown",
   "id": "d4bd6414-06c6-4773-b392-400c5741a63d",
   "metadata": {},
   "source": [
    "### Somehow combine weaning and milk type? even useful?"
   ]
  },
  {
   "cell_type": "code",
   "execution_count": null,
   "id": "379d1cc0-cde8-4d16-8237-e26936c7bdc1",
   "metadata": {
    "tags": []
   },
   "outputs": [],
   "source": [
    "from matplotlib.legend_handler import HandlerPatch\n",
    "\n",
    "# sort by the id found in the alpha_diversity and set id as index\n",
    "metadata_ordered = metadata.set_index('id')\n",
    "metadata_ordered = metadata_ordered.loc[alpha_diversities['id'], ]\n",
    "alpha_div_ordered = alpha_diversities.set_index('id')\n",
    "\n",
    "# map weaning to colours \n",
    "colours_weaning = {True:'red', False:'green', 'na':'blue'}#, 'other':'black'}\n",
    "\n",
    "formula_breast = metadata_ordered['diet_milk'].fillna('na')\n",
    "marker_formula_breast = {'bd': 'o', 'fd': 'x', False: '*', 'no milk': 'v'}\n",
    "\n",
    "# plot the alpha diversity against age, for different weaning status = different colour\n",
    "fig, ax = plt.subplots(figsize = (15,10))\n",
    "weaning_options = [True, False]\n",
    "diet_milk_options = ['fd','bd']\n",
    "labels = ['Weaning and', ' Not weaning', 'Weaning not specified']\n",
    "i=0\n",
    "#for mark_key in marker_formula_breast:\n",
    "for key in colours_weaning:\n",
    "    if type(key) != str:\n",
    "        subs = alpha_div_ordered[metadata_ordered['diet_weaning'] == weaning_options[i] ]\n",
    "        subs_milk = formula_breast[metadata_ordered['diet_weaning'] == weaning_options[i] ]\n",
    "    else:\n",
    "        subs = alpha_div_ordered[metadata_ordered['diet_weaning'].isna() ]\n",
    "        subs_milk = formula_breast[metadata_ordered['diet_weaning'].isna() ]\n",
    "    ax.scatter(subs['age_months'].astype(int), subs['faith_pd'].astype(float), \n",
    "               color = colours_weaning[key], s = 50-i*15, label = labels[i],\n",
    "              zorder = i, alpha = 1-i*0.2, marker = subs_milk.map(lambda x: marker_formula_breast[x]))\n",
    "    i = i+1\n",
    "ax.legend()\n",
    "ax.set_xlabel('age in months')\n",
    "ax.set_ylabel('Faiths phylogenetic diversity')\n",
    "fig.suptitle('Alpha diversity against age, for different diets')"
   ]
  },
  {
   "cell_type": "code",
   "execution_count": null,
   "id": "6d1a2dcb-59f2-462b-81f8-ca083ef16040",
   "metadata": {},
   "outputs": [],
   "source": [
    "subs_milk.map(lambda x: marker_formula_breast[x])"
   ]
  },
  {
   "cell_type": "code",
   "execution_count": null,
   "id": "f83af1b8-fe27-4515-9e6e-27c2efd5ef76",
   "metadata": {},
   "outputs": [],
   "source": []
  }
 ],
 "metadata": {
  "kernelspec": {
   "display_name": "Python 3 (ipykernel)",
   "language": "python",
   "name": "python3"
  },
  "language_info": {
   "codemirror_mode": {
    "name": "ipython",
    "version": 3
   },
   "file_extension": ".py",
   "mimetype": "text/x-python",
   "name": "python",
   "nbconvert_exporter": "python",
   "pygments_lexer": "ipython3",
   "version": "3.8.13"
  }
 },
 "nbformat": 4,
 "nbformat_minor": 5
}
