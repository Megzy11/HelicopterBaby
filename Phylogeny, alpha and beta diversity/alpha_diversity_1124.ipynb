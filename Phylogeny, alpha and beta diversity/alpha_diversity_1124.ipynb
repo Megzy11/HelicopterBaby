{
 "cells": [
  {
   "cell_type": "code",
   "execution_count": 1,
   "id": "a56c5465-120d-41b7-bf0b-a0af80d91b0b",
   "metadata": {},
   "outputs": [],
   "source": [
    "# importing all required packages & notebook extensions at the start of the notebook\n",
    "import os\n",
    "import pandas as pd\n",
    "import qiime2 as q2\n",
    "from qiime2 import Visualization\n",
    "import matplotlib.pyplot as plt\n",
    "%matplotlib inline\n",
    "from operator import itemgetter\n",
    "import matplotlib.patches as mpatches\n",
    "from scipy.stats import shapiro\n",
    "\n",
    "or_dir = '../data' #original data (demux sequences, metadata)\n",
    "data_dir = 'data' #data from polybox (ASV, taxonomy analysis)\n"
   ]
  },
  {
   "cell_type": "code",
   "execution_count": 10,
   "id": "9d9a144c-9a5f-460b-a417-425d9557b33c",
   "metadata": {},
   "outputs": [],
   "source": [
    "#fill the NAs in the metadata diet else get error in longitudinal analysis\n",
    "metadata_fillna = pd.read_csv(or_dir + '/metadata.tsv', sep = '\\t')\n",
    "metadata_fillna['diet_weaning'] = metadata_fillna['diet_weaning'].fillna(\"weaned\")\n",
    "metadata_fillna['diet_milk'] = metadata_fillna['diet_milk'].fillna(\"weaned\")\n",
    "metadata_fillna.head(10)\n",
    "#save the modified metadata file as a new file\n",
    "metadata_fillna.to_csv(\"data/metadata_fillna.tsv\", sep = \"\\t\", index = False)"
   ]
  },
  {
   "cell_type": "markdown",
   "id": "15863f05-76fb-48d8-b51c-4d5015c2d41b",
   "metadata": {},
   "source": [
    "# Getting data from polybox"
   ]
  },
  {
   "cell_type": "code",
   "execution_count": 34,
   "id": "16ebb1ac-2eea-44bc-9478-20faaa6ea67c",
   "metadata": {},
   "outputs": [
    {
     "name": "stdout",
     "output_type": "stream",
     "text": [
      "2022-11-30 10:10:51 URL:https://polybox.ethz.ch/index.php/s/YD03e961xKim9Ix/download [1799985/1799985] -> \"data/phylogeny_filtered_table.qza\" [1]\n",
      "2022-11-30 10:10:52 URL:https://polybox.ethz.ch/index.php/s/6npnNErzece0gdn/download [2808287/2808287] -> \"data/reference-tree.qza\" [1]\n"
     ]
    }
   ],
   "source": [
    "! wget -nv -O $data_dir/phylogeny_filtered_table.qza 'https://polybox.ethz.ch/index.php/s/YD03e961xKim9Ix/download'\n",
    "! wget -nv -O $data_dir/reference-tree.qza 'https://polybox.ethz.ch/index.php/s/6npnNErzece0gdn/download'"
   ]
  },
  {
   "cell_type": "code",
   "execution_count": 2,
   "id": "74a953fa-fa26-40ea-b1ab-326e7edf0a48",
   "metadata": {},
   "outputs": [
    {
     "name": "stdout",
     "output_type": "stream",
     "text": [
      "/home/jovyan/HelicopterBaby/Phylogeny, alpha and beta diversity\n"
     ]
    }
   ],
   "source": [
    "! pwd"
   ]
  },
  {
   "cell_type": "markdown",
   "id": "72614da3-7f90-4093-b8e0-71c12fe83bf0",
   "metadata": {},
   "source": [
    "# Running the standard alpha diversity analysis"
   ]
  },
  {
   "cell_type": "markdown",
   "id": "23ef5bf7-346e-466a-a1e0-63a2cf047c6d",
   "metadata": {},
   "source": [
    "First to create the metadata file to be used here for better running and get an overview of the feature table."
   ]
  },
  {
   "cell_type": "code",
   "execution_count": 36,
   "id": "e45d960b-9427-4704-be97-16b9531737ee",
   "metadata": {},
   "outputs": [],
   "source": [
    "# deleting the collection data column as it is crashing the diversity core-metrics visualization\n",
    "metadata_no_collection_data = pd.read_csv(or_dir + '/metadata.tsv', sep = '\\t')\n",
    "del metadata_no_collection_data['collection_date']\n",
    "metadata_no_collection_data.to_csv(data_dir+\"/new_metadata_for_a_diversity.tsv\", sep = \"\\t\", index = False)"
   ]
  },
  {
   "cell_type": "code",
   "execution_count": 37,
   "id": "8847907c-249f-4f89-9969-cccbd563ecfe",
   "metadata": {},
   "outputs": [
    {
     "name": "stdout",
     "output_type": "stream",
     "text": [
      "\u001b[32mSaved Visualization to: data/feature-table2.qzv\u001b[0m\n",
      "\u001b[0m"
     ]
    }
   ],
   "source": [
    "! qiime feature-table summarize \\\n",
    "  --i-table $data_dir/phylogeny_filtered_table.qza \\\n",
    "  --m-sample-metadata-file $data_dir/new_metadata_for_a_diversity.tsv \\\n",
    "  --o-visualization $data_dir/feature-table2.qzv\n",
    "#$or_dir/metadata.tsv \\"
   ]
  },
  {
   "cell_type": "code",
   "execution_count": 3,
   "id": "14e4d420-31d4-481e-9dda-75f494602013",
   "metadata": {
    "tags": []
   },
   "outputs": [
    {
     "data": {
      "text/html": [
       "<div><img onload=\"(function(div, url){\n",
       "if (typeof require !== 'undefined') {\n",
       "    var baseURL = require.toUrl('').split('/').slice(0, -2).join('/');\n",
       "} else {\n",
       "    var baseURL = JSON.parse(\n",
       "        document.getElementById('jupyter-config-data').innerHTML\n",
       "    ).baseUrl.slice(0, -1);\n",
       "}\n",
       "url = baseURL + url;\n",
       "fetch(url).then(function(res) {\n",
       "    if (res.status === 404) {\n",
       "        div.innerHTML = 'Install QIIME 2 Jupyter extension with:<br />' +\n",
       "                        '<code>jupyter serverextension enable --py qiime2' +\n",
       "                        ' --sys-prefix</code><br />then restart your server.' +\n",
       "                        '<br /><br />(Interactive output not available on ' +\n",
       "                        'static notebook viewer services like nbviewer.)';\n",
       "    } else if (res.status === 409) {\n",
       "        div.innerHTML = 'Visualization no longer in scope. Re-run this cell' +\n",
       "                        ' to see the visualization.';\n",
       "    } else if (res.ok) {\n",
       "        url = res.url;\n",
       "        div.innerHTML = '<iframe src=\\'' + url + '\\' style=\\'' +\n",
       "                        'width: 100%; height: 700px; border: 0;\\'>' +\n",
       "                        '</iframe><hr />Open in a: <a href=\\'' + url + '\\'' +\n",
       "                        ' target=\\'_blank\\'>new window</a>'\n",
       "    } else {\n",
       "        div.innerHTML = 'Something has gone wrong. Check notebook server for' +\n",
       "                        ' errors.';\n",
       "    }\n",
       "});\n",
       "})(this.parentElement, '/qiime2/redirect?location=/tmp/qiime2-archive-v8tbz6t1')\" src=\"data:image/gif;base64,R0lGODlhAQABAIAAAP///wAAACH5BAEAAAAALAAAAAABAAEAAAICRAEAOw==\" /></div>"
      ],
      "text/plain": [
       "<visualization: Visualization uuid: ec7eb5c1-9383-4dd7-a640-fe31c773c5eb>"
      ]
     },
     "execution_count": 3,
     "metadata": {},
     "output_type": "execute_result"
    }
   ],
   "source": [
    "Visualization.load(f'{data_dir}/feature-table2.qzv')"
   ]
  },
  {
   "cell_type": "markdown",
   "id": "b845dac8-0ff8-4089-b1a2-d48c2d00f4c6",
   "metadata": {},
   "source": [
    "From this step, we find the rarefaction depth for the alpha diversity."
   ]
  },
  {
   "cell_type": "code",
   "execution_count": 52,
   "id": "0bcdacfd-3a92-4675-bbc1-06cd803609f8",
   "metadata": {},
   "outputs": [
    {
     "name": "stdout",
     "output_type": "stream",
     "text": [
      "^C\n",
      "\n",
      "Aborted!\n",
      "\u001b[0m"
     ]
    }
   ],
   "source": [
    "! qiime diversity alpha-rarefaction \\\n",
    "    --i-table $data_dir/phylogeny_filtered_table.qza \\\n",
    "    --i-phylogeny $data_dir/reference-tree.qza \\\n",
    "    --p-max-depth 10000 \\\n",
    "    --m-metadata-file $data_dir/new_metadata_for_a_diversity.tsv \\\n",
    "    --o-visualization $data_dir/alpha-rarefaction2.qzv"
   ]
  },
  {
   "cell_type": "markdown",
   "id": "25f22ee4-4826-4e2a-adb0-8f855c895f1b",
   "metadata": {},
   "source": [
    "Chose 10k max depth, and since graphs level off before that, this makes sense."
   ]
  },
  {
   "cell_type": "code",
   "execution_count": 4,
   "id": "ec771ed6-376f-491d-ba6d-48aa7cedde07",
   "metadata": {},
   "outputs": [
    {
     "data": {
      "text/html": [
       "<div><img onload=\"(function(div, url){\n",
       "if (typeof require !== 'undefined') {\n",
       "    var baseURL = require.toUrl('').split('/').slice(0, -2).join('/');\n",
       "} else {\n",
       "    var baseURL = JSON.parse(\n",
       "        document.getElementById('jupyter-config-data').innerHTML\n",
       "    ).baseUrl.slice(0, -1);\n",
       "}\n",
       "url = baseURL + url;\n",
       "fetch(url).then(function(res) {\n",
       "    if (res.status === 404) {\n",
       "        div.innerHTML = 'Install QIIME 2 Jupyter extension with:<br />' +\n",
       "                        '<code>jupyter serverextension enable --py qiime2' +\n",
       "                        ' --sys-prefix</code><br />then restart your server.' +\n",
       "                        '<br /><br />(Interactive output not available on ' +\n",
       "                        'static notebook viewer services like nbviewer.)';\n",
       "    } else if (res.status === 409) {\n",
       "        div.innerHTML = 'Visualization no longer in scope. Re-run this cell' +\n",
       "                        ' to see the visualization.';\n",
       "    } else if (res.ok) {\n",
       "        url = res.url;\n",
       "        div.innerHTML = '<iframe src=\\'' + url + '\\' style=\\'' +\n",
       "                        'width: 100%; height: 700px; border: 0;\\'>' +\n",
       "                        '</iframe><hr />Open in a: <a href=\\'' + url + '\\'' +\n",
       "                        ' target=\\'_blank\\'>new window</a>'\n",
       "    } else {\n",
       "        div.innerHTML = 'Something has gone wrong. Check notebook server for' +\n",
       "                        ' errors.';\n",
       "    }\n",
       "});\n",
       "})(this.parentElement, '/qiime2/redirect?location=/tmp/qiime2-archive-4x3_neb3')\" src=\"data:image/gif;base64,R0lGODlhAQABAIAAAP///wAAACH5BAEAAAAALAAAAAABAAEAAAICRAEAOw==\" /></div>"
      ],
      "text/plain": [
       "<visualization: Visualization uuid: b312c943-b7f1-45c0-a863-95a4aa5e468b>"
      ]
     },
     "execution_count": 4,
     "metadata": {},
     "output_type": "execute_result"
    }
   ],
   "source": [
    "Visualization.load(f'{data_dir}/alpha-rarefaction2.qzv')"
   ]
  },
  {
   "cell_type": "markdown",
   "id": "33e0bc5c-673b-463c-9858-7fc8df214742",
   "metadata": {},
   "source": [
    "Running diversity plugin"
   ]
  },
  {
   "cell_type": "code",
   "execution_count": 53,
   "id": "15138d3e-12f9-45ea-bb60-18e8a7bcc042",
   "metadata": {},
   "outputs": [
    {
     "name": "stdout",
     "output_type": "stream",
     "text": [
      "\u001b[32mSaved FeatureTable[Frequency] to: data/core-metrics-results2/rarefied_table.qza\u001b[0m\n",
      "\u001b[32mSaved SampleData[AlphaDiversity] to: data/core-metrics-results2/faith_pd_vector.qza\u001b[0m\n",
      "\u001b[32mSaved SampleData[AlphaDiversity] to: data/core-metrics-results2/observed_features_vector.qza\u001b[0m\n",
      "\u001b[32mSaved SampleData[AlphaDiversity] to: data/core-metrics-results2/shannon_vector.qza\u001b[0m\n",
      "\u001b[32mSaved SampleData[AlphaDiversity] to: data/core-metrics-results2/evenness_vector.qza\u001b[0m\n",
      "\u001b[32mSaved DistanceMatrix to: data/core-metrics-results2/unweighted_unifrac_distance_matrix.qza\u001b[0m\n",
      "\u001b[32mSaved DistanceMatrix to: data/core-metrics-results2/weighted_unifrac_distance_matrix.qza\u001b[0m\n",
      "\u001b[32mSaved DistanceMatrix to: data/core-metrics-results2/jaccard_distance_matrix.qza\u001b[0m\n",
      "\u001b[32mSaved DistanceMatrix to: data/core-metrics-results2/bray_curtis_distance_matrix.qza\u001b[0m\n",
      "\u001b[32mSaved PCoAResults to: data/core-metrics-results2/unweighted_unifrac_pcoa_results.qza\u001b[0m\n",
      "\u001b[32mSaved PCoAResults to: data/core-metrics-results2/weighted_unifrac_pcoa_results.qza\u001b[0m\n",
      "\u001b[32mSaved PCoAResults to: data/core-metrics-results2/jaccard_pcoa_results.qza\u001b[0m\n",
      "\u001b[32mSaved PCoAResults to: data/core-metrics-results2/bray_curtis_pcoa_results.qza\u001b[0m\n",
      "\u001b[32mSaved Visualization to: data/core-metrics-results2/unweighted_unifrac_emperor.qzv\u001b[0m\n",
      "\u001b[32mSaved Visualization to: data/core-metrics-results2/weighted_unifrac_emperor.qzv\u001b[0m\n",
      "\u001b[32mSaved Visualization to: data/core-metrics-results2/jaccard_emperor.qzv\u001b[0m\n",
      "\u001b[32mSaved Visualization to: data/core-metrics-results2/bray_curtis_emperor.qzv\u001b[0m\n",
      "\u001b[0m"
     ]
    }
   ],
   "source": [
    "! qiime diversity core-metrics-phylogenetic \\\n",
    "  --i-table $data_dir/phylogeny_filtered_table.qza \\\n",
    "  --i-phylogeny $data_dir/reference-tree.qza \\\n",
    "  --m-metadata-file $data_dir/new_metadata_for_a_diversity.tsv \\\n",
    "  --p-sampling-depth 8000 \\\n",
    "  --output-dir $data_dir/core-metrics-results2"
   ]
  },
  {
   "cell_type": "code",
   "execution_count": null,
   "id": "744a0e5f-2378-4c23-9acb-ebbc6246d258",
   "metadata": {},
   "outputs": [],
   "source": [
    "! pwd"
   ]
  },
  {
   "cell_type": "markdown",
   "id": "7d006357-a168-47eb-8be7-f6f36f4346e6",
   "metadata": {},
   "source": [
    "Statistical test for the categorical columns and alpha diversity"
   ]
  },
  {
   "cell_type": "code",
   "execution_count": 54,
   "id": "daf39995-4a77-4252-a1ef-6d717af8b040",
   "metadata": {},
   "outputs": [
    {
     "name": "stdout",
     "output_type": "stream",
     "text": [
      "\u001b[32mSaved Visualization to: data/core-metrics-results2/faith-pd-group-significance.qzv\u001b[0m\n",
      "\u001b[0m"
     ]
    }
   ],
   "source": [
    "! qiime diversity alpha-group-significance \\\n",
    "  --i-alpha-diversity $data_dir/core-metrics-results2/faith_pd_vector.qza \\\n",
    "  --m-metadata-file $data_dir/new_metadata_for_a_diversity.tsv \\\n",
    "  --o-visualization $data_dir/core-metrics-results2/faith-pd-group-significance.qzv"
   ]
  },
  {
   "cell_type": "code",
   "execution_count": 8,
   "id": "7f750b8e-4ea7-44ca-99ea-02d4fbdfd82d",
   "metadata": {},
   "outputs": [
    {
     "data": {
      "text/html": [
       "<div><img onload=\"(function(div, url){\n",
       "if (typeof require !== 'undefined') {\n",
       "    var baseURL = require.toUrl('').split('/').slice(0, -2).join('/');\n",
       "} else {\n",
       "    var baseURL = JSON.parse(\n",
       "        document.getElementById('jupyter-config-data').innerHTML\n",
       "    ).baseUrl.slice(0, -1);\n",
       "}\n",
       "url = baseURL + url;\n",
       "fetch(url).then(function(res) {\n",
       "    if (res.status === 404) {\n",
       "        div.innerHTML = 'Install QIIME 2 Jupyter extension with:<br />' +\n",
       "                        '<code>jupyter serverextension enable --py qiime2' +\n",
       "                        ' --sys-prefix</code><br />then restart your server.' +\n",
       "                        '<br /><br />(Interactive output not available on ' +\n",
       "                        'static notebook viewer services like nbviewer.)';\n",
       "    } else if (res.status === 409) {\n",
       "        div.innerHTML = 'Visualization no longer in scope. Re-run this cell' +\n",
       "                        ' to see the visualization.';\n",
       "    } else if (res.ok) {\n",
       "        url = res.url;\n",
       "        div.innerHTML = '<iframe src=\\'' + url + '\\' style=\\'' +\n",
       "                        'width: 100%; height: 700px; border: 0;\\'>' +\n",
       "                        '</iframe><hr />Open in a: <a href=\\'' + url + '\\'' +\n",
       "                        ' target=\\'_blank\\'>new window</a>'\n",
       "    } else {\n",
       "        div.innerHTML = 'Something has gone wrong. Check notebook server for' +\n",
       "                        ' errors.';\n",
       "    }\n",
       "});\n",
       "})(this.parentElement, '/qiime2/redirect?location=/tmp/qiime2-archive-02yqks97')\" src=\"data:image/gif;base64,R0lGODlhAQABAIAAAP///wAAACH5BAEAAAAALAAAAAABAAEAAAICRAEAOw==\" /></div>"
      ],
      "text/plain": [
       "<visualization: Visualization uuid: 6c56409e-378a-468e-a72d-8b899cfa29c3>"
      ]
     },
     "execution_count": 8,
     "metadata": {},
     "output_type": "execute_result"
    }
   ],
   "source": [
    "Visualization.load(f'{data_dir}/core-metrics-results2/faith-pd-group-significance.qzv')"
   ]
  },
  {
   "cell_type": "markdown",
   "id": "c7384641-fcba-4e94-b98d-2b4e11c1271f",
   "metadata": {},
   "source": [
    "Statistical test for continuous metadata columns and alpha diversity. From here we can see a obvious trend for the correlation of age and alpha diversity."
   ]
  },
  {
   "cell_type": "code",
   "execution_count": 6,
   "id": "693e8062-7664-4930-866e-45fddf8e6e50",
   "metadata": {},
   "outputs": [
    {
     "name": "stdout",
     "output_type": "stream",
     "text": [
      "\u001b[32mSaved Visualization to: data/core-metrics-results2/faith-pd-group-significance-numeric.qzv\u001b[0m\n",
      "\u001b[0m"
     ]
    }
   ],
   "source": [
    "! qiime diversity alpha-correlation \\\n",
    "  --i-alpha-diversity $data_dir/core-metrics-results2/faith_pd_vector.qza \\\n",
    "  --m-metadata-file $data_dir/new_metadata_for_a_diversity.tsv \\\n",
    "  --o-visualization $data_dir/core-metrics-results2/faith-pd-group-significance-numeric.qzv"
   ]
  },
  {
   "cell_type": "code",
   "execution_count": 7,
   "id": "90f07f51-c7e6-4b7b-ba1a-564a23a9029d",
   "metadata": {},
   "outputs": [
    {
     "data": {
      "text/html": [
       "<div><img onload=\"(function(div, url){\n",
       "if (typeof require !== 'undefined') {\n",
       "    var baseURL = require.toUrl('').split('/').slice(0, -2).join('/');\n",
       "} else {\n",
       "    var baseURL = JSON.parse(\n",
       "        document.getElementById('jupyter-config-data').innerHTML\n",
       "    ).baseUrl.slice(0, -1);\n",
       "}\n",
       "url = baseURL + url;\n",
       "fetch(url).then(function(res) {\n",
       "    if (res.status === 404) {\n",
       "        div.innerHTML = 'Install QIIME 2 Jupyter extension with:<br />' +\n",
       "                        '<code>jupyter serverextension enable --py qiime2' +\n",
       "                        ' --sys-prefix</code><br />then restart your server.' +\n",
       "                        '<br /><br />(Interactive output not available on ' +\n",
       "                        'static notebook viewer services like nbviewer.)';\n",
       "    } else if (res.status === 409) {\n",
       "        div.innerHTML = 'Visualization no longer in scope. Re-run this cell' +\n",
       "                        ' to see the visualization.';\n",
       "    } else if (res.ok) {\n",
       "        url = res.url;\n",
       "        div.innerHTML = '<iframe src=\\'' + url + '\\' style=\\'' +\n",
       "                        'width: 100%; height: 700px; border: 0;\\'>' +\n",
       "                        '</iframe><hr />Open in a: <a href=\\'' + url + '\\'' +\n",
       "                        ' target=\\'_blank\\'>new window</a>'\n",
       "    } else {\n",
       "        div.innerHTML = 'Something has gone wrong. Check notebook server for' +\n",
       "                        ' errors.';\n",
       "    }\n",
       "});\n",
       "})(this.parentElement, '/qiime2/redirect?location=/tmp/qiime2-archive-_5c2diis')\" src=\"data:image/gif;base64,R0lGODlhAQABAIAAAP///wAAACH5BAEAAAAALAAAAAABAAEAAAICRAEAOw==\" /></div>"
      ],
      "text/plain": [
       "<visualization: Visualization uuid: d67e595c-a8ba-456a-a9e7-5d0fffdf7c36>"
      ]
     },
     "execution_count": 7,
     "metadata": {},
     "output_type": "execute_result"
    }
   ],
   "source": [
    "Visualization.load(f'{data_dir}/core-metrics-results2/faith-pd-group-significance-numeric.qzv')"
   ]
  },
  {
   "cell_type": "markdown",
   "id": "97a4c586-ec5b-4e1b-aa53-82be8cb175ea",
   "metadata": {},
   "source": [
    "# Alpha diversity and metadata\n",
    "\n"
   ]
  },
  {
   "cell_type": "markdown",
   "id": "b918d36e-7c5b-4c45-a40d-cd4fe0734884",
   "metadata": {},
   "source": [
    "First to deal with the NA values in the metadata file, metadata_correlation.tsv"
   ]
  },
  {
   "cell_type": "code",
   "execution_count": 41,
   "id": "fb5a8bce-bb79-42f8-b2d8-b37f665f74e7",
   "metadata": {},
   "outputs": [],
   "source": [
    "#creat the metadata_correlation table\n",
    "div = q2.Artifact.load(os.path.join(data_dir, 'core-metrics-results2/faith_pd_vector.qza')).view(pd.Series)\n",
    "md = pd.read_csv(os.path.join(data_dir, 'new_metadata_for_a_diversity.tsv'), sep='\\t', index_col=0)\n",
    "ndf = pd.concat([md, div], axis = 1)\n",
    "ndf.head(5)\n",
    "ndf = ndf.reset_index()\n",
    "ndf.rename(columns = {'index':'id'}, inplace = True)\n",
    "ndf.columns\n",
    "#save the results as the metadata_correlation.tsv\n",
    "ndf.to_csv(data_dir + \"/metadata_correlation.tsv\", sep = \"\\t\", index = False)\n",
    "alpha_meta = ndf\n",
    "print(alpha_diversities['faith_pd'].isna().sum())"
   ]
  },
  {
   "cell_type": "markdown",
   "id": "e3d3d18c-9ba6-4247-8239-4abe0dc2d74f",
   "metadata": {},
   "source": [
    "## Weaning"
   ]
  },
  {
   "cell_type": "markdown",
   "id": "f245633a-577b-4281-8537-77e5c354498c",
   "metadata": {},
   "source": [
    "Get an overview for the weaning impact for the alphadiversity. "
   ]
  },
  {
   "cell_type": "code",
   "execution_count": 43,
   "id": "b702888b-ed88-4f0f-b180-6db8bd72148d",
   "metadata": {},
   "outputs": [
    {
     "name": "stdout",
     "output_type": "stream",
     "text": [
      "(568,)\n",
      "(175,)\n",
      "Percentage of unassigned to weaning data = 55.48232474535651\n",
      "926\n"
     ]
    }
   ],
   "source": [
    "id_weaning = alpha_meta[alpha_meta['diet_weaning'] == True]['id']\n",
    "print(id_weaning.shape)\n",
    "id_not_weaning = alpha_meta[alpha_meta['diet_weaning'] == False]['id']\n",
    "print(id_not_weaning.shape)\n",
    "unassigned_weaning = alpha_meta['diet_weaning'].isna().sum()\n",
    "print('Percentage of unassigned to weaning data = ' + str(unassigned_weaning/metadata.shape[0]*100))\n",
    "print(unassigned_weaning)"
   ]
  },
  {
   "cell_type": "markdown",
   "id": "8c5fe7c4-a2c9-419a-ba37-fe9b244cd985",
   "metadata": {},
   "source": [
    "### Scatter plot of alpha diversity vs age with weaning coloured and hist of alpha diversity vs weaning"
   ]
  },
  {
   "cell_type": "code",
   "execution_count": 51,
   "id": "35e46706-f58e-4be8-b5b1-0388b55732dc",
   "metadata": {},
   "outputs": [
    {
     "data": {
      "text/plain": [
       "<Figure size 432x288 with 0 Axes>"
      ]
     },
     "metadata": {},
     "output_type": "display_data"
    },
    {
     "data": {
      "image/png": "[encoded data removed]",
      "text/plain": [
       "<Figure size 576x576 with 3 Axes>"
      ]
     },
     "metadata": {
      "needs_background": "light"
     },
     "output_type": "display_data"
    },
    {
     "data": {
      "text/plain": [
       "<Figure size 432x288 with 0 Axes>"
      ]
     },
     "metadata": {},
     "output_type": "display_data"
    },
    {
     "data": {
      "image/png": "[encoded data removed]",
      "text/plain": [
       "<Figure size 576x576 with 3 Axes>"
      ]
     },
     "metadata": {
      "needs_background": "light"
     },
     "output_type": "display_data"
    }
   ],
   "source": [
    "import seaborn as sns\n",
    "# replace True/False with string\n",
    "alpha_meta_weaning = alpha_meta\n",
    "alpha_meta_weaning['diet_weaning'] = alpha_meta_weaning['diet_weaning'].replace({True: 'weaning', False:'not weaning'})\n",
    "# assume NaN means the baby is fully weaned\n",
    "alpha_meta_weaning['diet_weaning'] = alpha_meta_weaning['diet_weaning'].fillna('weaned')\n",
    "alpha_meta_weaning['diet_milk'] = alpha_meta_weaning['diet_milk'].fillna('weaned')\n",
    "\n",
    "fig = plt.figure()\n",
    "ax = sns.jointplot(data=alpha_meta_weaning, x=\"age_months\", y=\"faith_pd\", hue=\"diet_weaning\",\n",
    "             height = 8)\n",
    "plt.savefig(data_dir+'/diet_weaning_age_jointplot.svg')\n",
    "plt.show()\n",
    "\n",
    "fig = plt.figure()\n",
    "ax = sns.jointplot(data=alpha_meta_weaning, x=\"age_months\", y=\"faith_pd\", hue=\"diet_milk\",\n",
    "             height = 8)\n",
    "plt.savefig(data_dir+'/diet_weaning_age_jointplot.svg')\n",
    "plt.show()"
   ]
  },
  {
   "cell_type": "markdown",
   "id": "6c957955-bc54-4c46-bd7f-ef21d0c818b1",
   "metadata": {},
   "source": [
    "## Check for normality"
   ]
  },
  {
   "cell_type": "code",
   "execution_count": 46,
   "id": "fc961061-3664-41ef-a893-6570935282fd",
   "metadata": {},
   "outputs": [],
   "source": [
    "# Shapiro Wilk Test\n",
    "from scipy.stats import shapiro\n",
    "#using the methods from ex8\n",
    "featuretable = q2.Artifact.load(f'{data_dir}/phylogeny_filtered_table.qza').view(pd.DataFrame)\n"
   ]
  },
  {
   "cell_type": "code",
   "execution_count": 47,
   "id": "9b3bfae3-3b8c-47ac-b305-8d1c5a55b97c",
   "metadata": {},
   "outputs": [
    {
     "data": {
      "text/html": [
       "<div>\n",
       "<style scoped>\n",
       "    .dataframe tbody tr th:only-of-type {\n",
       "        vertical-align: middle;\n",
       "    }\n",
       "\n",
       "    .dataframe tbody tr th {\n",
       "        vertical-align: top;\n",
       "    }\n",
       "\n",
       "    .dataframe thead th {\n",
       "        text-align: right;\n",
       "    }\n",
       "</style>\n",
       "<table border=\"1\" class=\"dataframe\">\n",
       "  <thead>\n",
       "    <tr style=\"text-align: right;\">\n",
       "      <th></th>\n",
       "      <th>042c16e5b0f6444ef0466ba21a59fbd9</th>\n",
       "      <th>872a14c755bae7615bbfd082b4de20f9</th>\n",
       "      <th>35ffcc3b809d667286737d79670b8de5</th>\n",
       "      <th>118fbd65b0c5bdc8c2f12ef7099058aa</th>\n",
       "      <th>c6c3ab4e828fb40d6e05967b7aac9338</th>\n",
       "      <th>c180a36036d60eb85ccb62737d8e2ba0</th>\n",
       "      <th>c24e0e391aa836b5eae25567c7eb89ee</th>\n",
       "      <th>46953abeca4fce8a17c5dea8732f1611</th>\n",
       "      <th>8e175abe6a746b8f33bae9cd7c8192bb</th>\n",
       "      <th>315ca0a729f126b941ba111a16d4d97a</th>\n",
       "      <th>...</th>\n",
       "      <th>36f1f089e32373134ee77626ada1fbf0</th>\n",
       "      <th>78f2730a1c1c42f71e58763c6776ac77</th>\n",
       "      <th>ae290f0b0a5586b0cb783c2dfec83fa2</th>\n",
       "      <th>0f1803505db2f19f4b3067d768adf73b</th>\n",
       "      <th>b6645d333c70257fd3fe3dd42943189c</th>\n",
       "      <th>d01af41f6dac277a3feb79a1aa713c4b</th>\n",
       "      <th>9e27b12da68a87e509022323424d7b1b</th>\n",
       "      <th>c845eda99662b5a88a8c8e979ec07dd0</th>\n",
       "      <th>16abb37658f0d89cf9462696b61b312c</th>\n",
       "      <th>5f952448dbca288581e4b199a7db9178</th>\n",
       "    </tr>\n",
       "  </thead>\n",
       "  <tbody>\n",
       "    <tr>\n",
       "      <th>ERR1309715</th>\n",
       "      <td>223.0</td>\n",
       "      <td>1537.0</td>\n",
       "      <td>141.0</td>\n",
       "      <td>320.0</td>\n",
       "      <td>935.0</td>\n",
       "      <td>3534.0</td>\n",
       "      <td>178.0</td>\n",
       "      <td>0.0</td>\n",
       "      <td>1852.0</td>\n",
       "      <td>0.0</td>\n",
       "      <td>...</td>\n",
       "      <td>0.0</td>\n",
       "      <td>0.0</td>\n",
       "      <td>0.0</td>\n",
       "      <td>0.0</td>\n",
       "      <td>0.0</td>\n",
       "      <td>0.0</td>\n",
       "      <td>0.0</td>\n",
       "      <td>0.0</td>\n",
       "      <td>0.0</td>\n",
       "      <td>0.0</td>\n",
       "    </tr>\n",
       "    <tr>\n",
       "      <th>ERR1309716</th>\n",
       "      <td>19.0</td>\n",
       "      <td>3346.0</td>\n",
       "      <td>12.0</td>\n",
       "      <td>2256.0</td>\n",
       "      <td>2288.0</td>\n",
       "      <td>974.0</td>\n",
       "      <td>1815.0</td>\n",
       "      <td>0.0</td>\n",
       "      <td>599.0</td>\n",
       "      <td>0.0</td>\n",
       "      <td>...</td>\n",
       "      <td>0.0</td>\n",
       "      <td>0.0</td>\n",
       "      <td>0.0</td>\n",
       "      <td>0.0</td>\n",
       "      <td>0.0</td>\n",
       "      <td>0.0</td>\n",
       "      <td>0.0</td>\n",
       "      <td>0.0</td>\n",
       "      <td>0.0</td>\n",
       "      <td>0.0</td>\n",
       "    </tr>\n",
       "    <tr>\n",
       "      <th>ERR1309717</th>\n",
       "      <td>246.0</td>\n",
       "      <td>3247.0</td>\n",
       "      <td>157.0</td>\n",
       "      <td>1203.0</td>\n",
       "      <td>2181.0</td>\n",
       "      <td>1202.0</td>\n",
       "      <td>830.0</td>\n",
       "      <td>0.0</td>\n",
       "      <td>636.0</td>\n",
       "      <td>0.0</td>\n",
       "      <td>...</td>\n",
       "      <td>0.0</td>\n",
       "      <td>0.0</td>\n",
       "      <td>0.0</td>\n",
       "      <td>0.0</td>\n",
       "      <td>0.0</td>\n",
       "      <td>0.0</td>\n",
       "      <td>0.0</td>\n",
       "      <td>0.0</td>\n",
       "      <td>0.0</td>\n",
       "      <td>0.0</td>\n",
       "    </tr>\n",
       "    <tr>\n",
       "      <th>ERR1309718</th>\n",
       "      <td>203.0</td>\n",
       "      <td>536.0</td>\n",
       "      <td>114.0</td>\n",
       "      <td>1306.0</td>\n",
       "      <td>310.0</td>\n",
       "      <td>2558.0</td>\n",
       "      <td>780.0</td>\n",
       "      <td>0.0</td>\n",
       "      <td>1245.0</td>\n",
       "      <td>0.0</td>\n",
       "      <td>...</td>\n",
       "      <td>0.0</td>\n",
       "      <td>0.0</td>\n",
       "      <td>0.0</td>\n",
       "      <td>0.0</td>\n",
       "      <td>0.0</td>\n",
       "      <td>0.0</td>\n",
       "      <td>0.0</td>\n",
       "      <td>0.0</td>\n",
       "      <td>0.0</td>\n",
       "      <td>0.0</td>\n",
       "    </tr>\n",
       "    <tr>\n",
       "      <th>ERR1309719</th>\n",
       "      <td>301.0</td>\n",
       "      <td>1527.0</td>\n",
       "      <td>223.0</td>\n",
       "      <td>202.0</td>\n",
       "      <td>923.0</td>\n",
       "      <td>2819.0</td>\n",
       "      <td>148.0</td>\n",
       "      <td>0.0</td>\n",
       "      <td>1511.0</td>\n",
       "      <td>0.0</td>\n",
       "      <td>...</td>\n",
       "      <td>0.0</td>\n",
       "      <td>0.0</td>\n",
       "      <td>0.0</td>\n",
       "      <td>0.0</td>\n",
       "      <td>0.0</td>\n",
       "      <td>0.0</td>\n",
       "      <td>0.0</td>\n",
       "      <td>0.0</td>\n",
       "      <td>0.0</td>\n",
       "      <td>0.0</td>\n",
       "    </tr>\n",
       "  </tbody>\n",
       "</table>\n",
       "<p>5 rows × 5078 columns</p>\n",
       "</div>"
      ],
      "text/plain": [
       "            042c16e5b0f6444ef0466ba21a59fbd9  \\\n",
       "ERR1309715                             223.0   \n",
       "ERR1309716                              19.0   \n",
       "ERR1309717                             246.0   \n",
       "ERR1309718                             203.0   \n",
       "ERR1309719                             301.0   \n",
       "\n",
       "            872a14c755bae7615bbfd082b4de20f9  \\\n",
       "ERR1309715                            1537.0   \n",
       "ERR1309716                            3346.0   \n",
       "ERR1309717                            3247.0   \n",
       "ERR1309718                             536.0   \n",
       "ERR1309719                            1527.0   \n",
       "\n",
       "            35ffcc3b809d667286737d79670b8de5  \\\n",
       "ERR1309715                             141.0   \n",
       "ERR1309716                              12.0   \n",
       "ERR1309717                             157.0   \n",
       "ERR1309718                             114.0   \n",
       "ERR1309719                             223.0   \n",
       "\n",
       "            118fbd65b0c5bdc8c2f12ef7099058aa  \\\n",
       "ERR1309715                             320.0   \n",
       "ERR1309716                            2256.0   \n",
       "ERR1309717                            1203.0   \n",
       "ERR1309718                            1306.0   \n",
       "ERR1309719                             202.0   \n",
       "\n",
       "            c6c3ab4e828fb40d6e05967b7aac9338  \\\n",
       "ERR1309715                             935.0   \n",
       "ERR1309716                            2288.0   \n",
       "ERR1309717                            2181.0   \n",
       "ERR1309718                             310.0   \n",
       "ERR1309719                             923.0   \n",
       "\n",
       "            c180a36036d60eb85ccb62737d8e2ba0  \\\n",
       "ERR1309715                            3534.0   \n",
       "ERR1309716                             974.0   \n",
       "ERR1309717                            1202.0   \n",
       "ERR1309718                            2558.0   \n",
       "ERR1309719                            2819.0   \n",
       "\n",
       "            c24e0e391aa836b5eae25567c7eb89ee  \\\n",
       "ERR1309715                             178.0   \n",
       "ERR1309716                            1815.0   \n",
       "ERR1309717                             830.0   \n",
       "ERR1309718                             780.0   \n",
       "ERR1309719                             148.0   \n",
       "\n",
       "            46953abeca4fce8a17c5dea8732f1611  \\\n",
       "ERR1309715                               0.0   \n",
       "ERR1309716                               0.0   \n",
       "ERR1309717                               0.0   \n",
       "ERR1309718                               0.0   \n",
       "ERR1309719                               0.0   \n",
       "\n",
       "            8e175abe6a746b8f33bae9cd7c8192bb  \\\n",
       "ERR1309715                            1852.0   \n",
       "ERR1309716                             599.0   \n",
       "ERR1309717                             636.0   \n",
       "ERR1309718                            1245.0   \n",
       "ERR1309719                            1511.0   \n",
       "\n",
       "            315ca0a729f126b941ba111a16d4d97a  ...  \\\n",
       "ERR1309715                               0.0  ...   \n",
       "ERR1309716                               0.0  ...   \n",
       "ERR1309717                               0.0  ...   \n",
       "ERR1309718                               0.0  ...   \n",
       "ERR1309719                               0.0  ...   \n",
       "\n",
       "            36f1f089e32373134ee77626ada1fbf0  \\\n",
       "ERR1309715                               0.0   \n",
       "ERR1309716                               0.0   \n",
       "ERR1309717                               0.0   \n",
       "ERR1309718                               0.0   \n",
       "ERR1309719                               0.0   \n",
       "\n",
       "            78f2730a1c1c42f71e58763c6776ac77  \\\n",
       "ERR1309715                               0.0   \n",
       "ERR1309716                               0.0   \n",
       "ERR1309717                               0.0   \n",
       "ERR1309718                               0.0   \n",
       "ERR1309719                               0.0   \n",
       "\n",
       "            ae290f0b0a5586b0cb783c2dfec83fa2  \\\n",
       "ERR1309715                               0.0   \n",
       "ERR1309716                               0.0   \n",
       "ERR1309717                               0.0   \n",
       "ERR1309718                               0.0   \n",
       "ERR1309719                               0.0   \n",
       "\n",
       "            0f1803505db2f19f4b3067d768adf73b  \\\n",
       "ERR1309715                               0.0   \n",
       "ERR1309716                               0.0   \n",
       "ERR1309717                               0.0   \n",
       "ERR1309718                               0.0   \n",
       "ERR1309719                               0.0   \n",
       "\n",
       "            b6645d333c70257fd3fe3dd42943189c  \\\n",
       "ERR1309715                               0.0   \n",
       "ERR1309716                               0.0   \n",
       "ERR1309717                               0.0   \n",
       "ERR1309718                               0.0   \n",
       "ERR1309719                               0.0   \n",
       "\n",
       "            d01af41f6dac277a3feb79a1aa713c4b  \\\n",
       "ERR1309715                               0.0   \n",
       "ERR1309716                               0.0   \n",
       "ERR1309717                               0.0   \n",
       "ERR1309718                               0.0   \n",
       "ERR1309719                               0.0   \n",
       "\n",
       "            9e27b12da68a87e509022323424d7b1b  \\\n",
       "ERR1309715                               0.0   \n",
       "ERR1309716                               0.0   \n",
       "ERR1309717                               0.0   \n",
       "ERR1309718                               0.0   \n",
       "ERR1309719                               0.0   \n",
       "\n",
       "            c845eda99662b5a88a8c8e979ec07dd0  \\\n",
       "ERR1309715                               0.0   \n",
       "ERR1309716                               0.0   \n",
       "ERR1309717                               0.0   \n",
       "ERR1309718                               0.0   \n",
       "ERR1309719                               0.0   \n",
       "\n",
       "            16abb37658f0d89cf9462696b61b312c  5f952448dbca288581e4b199a7db9178  \n",
       "ERR1309715                               0.0                               0.0  \n",
       "ERR1309716                               0.0                               0.0  \n",
       "ERR1309717                               0.0                               0.0  \n",
       "ERR1309718                               0.0                               0.0  \n",
       "ERR1309719                               0.0                               0.0  \n",
       "\n",
       "[5 rows x 5078 columns]"
      ]
     },
     "execution_count": 47,
     "metadata": {},
     "output_type": "execute_result"
    }
   ],
   "source": [
    "featuretable.head()"
   ]
  },
  {
   "cell_type": "code",
   "execution_count": 48,
   "id": "9c46ab69-52a3-4444-9515-576cbcd63098",
   "metadata": {},
   "outputs": [],
   "source": [
    "#check for if follow the normal distribution\n",
    "alpha = 0.05\n",
    "results = {}\n",
    "\n",
    "# iterate through rows (samples) and test each of them for normality\n",
    "for asv_name, asv_values in featuretable.iteritems():\n",
    "    stat, p = shapiro(asv_values)\n",
    "    results[asv_name] = p\n",
    "\n",
    "# convert test results into a DataFrame\n",
    "results_df = pd.DataFrame(data=results.values(), index=results.keys(), columns=['p'])\n",
    "\n",
    "# add a new column with a descriptive test result\n",
    "results_df['is_normal'] = results_df['p'] > alpha"
   ]
  },
  {
   "cell_type": "code",
   "execution_count": 49,
   "id": "5b3499d4-479c-41d0-963c-2340aba7bf06",
   "metadata": {},
   "outputs": [
    {
     "name": "stdout",
     "output_type": "stream",
     "text": [
      "Number of ASVs with normal distribution: 0\n"
     ]
    }
   ],
   "source": [
    "print('Number of ASVs with normal distribution:', results_df['is_normal'].sum())"
   ]
  },
  {
   "cell_type": "markdown",
   "id": "abb7e81e-6182-4a1c-bcf2-9a18d58650b1",
   "metadata": {},
   "source": [
    "there's no normal distribution of the asvs, so we cannot use the anova and so on"
   ]
  },
  {
   "cell_type": "markdown",
   "id": "4318e446-24c8-4179-bc11-85aec9192327",
   "metadata": {},
   "source": [
    "## longitudinal analysis\n"
   ]
  },
  {
   "cell_type": "code",
   "execution_count": 8,
   "id": "aace51fd-4b18-4271-97fa-ef88ed5f15ea",
   "metadata": {},
   "outputs": [
    {
     "name": "stdout",
     "output_type": "stream",
     "text": [
      "\u001b[32mSaved Visualization to: data/core-metrics-results2/volatility_weaning.qzv\u001b[0m\n",
      "\u001b[0m"
     ]
    }
   ],
   "source": [
    "#implementing beta diversity\n",
    "! qiime longitudinal volatility \\\n",
    "  --m-metadata-file $data_dir/new_metadata_for_a_diversity.tsv \\\n",
    "  --m-metadata-file $data_dir/core-metrics-results2/jaccard_pcoa_results.qza \\\n",
    "  --p-default-group-column 'diet_weaning'\\\n",
    "  --p-default-metric 'observed_features' \\\n",
    "  --p-state-column 'age_months' \\\n",
    "  --p-individual-id-column 'host_id' \\\n",
    "  --o-visualization $data_dir/core-metrics-results2/volatility_weaning_beta.qzv"
   ]
  },
  {
   "cell_type": "code",
   "execution_count": null,
   "id": "04b7b0f5-c04a-4a82-a813-30686a4ef851",
   "metadata": {},
   "outputs": [],
   "source": [
    "Visualization.load(f'{data_dir}/core-metrics-results2/volatility_weaning.qzv')"
   ]
  },
  {
   "cell_type": "code",
   "execution_count": 5,
   "id": "ffe6ffd3-39b8-4129-9b14-286da7380a04",
   "metadata": {},
   "outputs": [
    {
     "name": "stdout",
     "output_type": "stream",
     "text": [
      "\u001b[32mSaved Visualization to: data/core-metrics-results2/volatility_weaning_alpha.qzv\u001b[0m\n",
      "\u001b[0m"
     ]
    }
   ],
   "source": [
    "#implementing alpha diversity\n",
    "! qiime longitudinal volatility \\\n",
    "  --m-metadata-file $data_dir/metadata_fillna.tsv \\\n",
    "  --m-metadata-file $data_dir/core-metrics-results2/observed_features_vector.qza \\\n",
    "  --m-metadata-file $data_dir/core-metrics-results2/shannon_vector.qza \\\n",
    "  --m-metadata-file $data_dir/core-metrics-results2/faith_pd_vector.qza \\\n",
    "  --p-default-group-column 'diet_weaning'\\\n",
    "  --p-default-metric 'observed_features' \\\n",
    "  --p-state-column 'age_months' \\\n",
    "  --p-individual-id-column 'host_id' \\\n",
    "  --o-visualization $data_dir/core-metrics-results2/volatility_weaning_alpha.qzv\n"
   ]
  },
  {
   "cell_type": "code",
   "execution_count": null,
   "id": "a505693c-a46e-41c8-b3fd-42c19fc512bf",
   "metadata": {},
   "outputs": [],
   "source": [
    "Visualization.load(f'{data_dir}/core-metrics-results2/volatility_weaning_alpha.qzv')"
   ]
  },
  {
   "cell_type": "markdown",
   "id": "e08388f9-6c79-45bc-a981-84efb47cd52b",
   "metadata": {},
   "source": [
    "## Longitudinal analysis of age with zygosity or diet milk or diet weaning for faithpd and shannon entropy"
   ]
  },
  {
   "cell_type": "markdown",
   "id": "ea8590d0-d2d3-4beb-95ec-df7676623853",
   "metadata": {},
   "source": [
    "### Zigosity"
   ]
  },
  {
   "cell_type": "code",
   "execution_count": 7,
   "id": "0f634437-b00a-478b-aa32-dc30ce85dfff",
   "metadata": {},
   "outputs": [
    {
     "name": "stdout",
     "output_type": "stream",
     "text": [
      "\u001b[32mSaved Visualization to: data/lme-shannon_zygosity.qzv\u001b[0m\n",
      "\u001b[0m"
     ]
    }
   ],
   "source": [
    "#zygosity\n",
    "metadata = pd.read_csv(or_dir + '/metadata.tsv', sep = '\\t')\n",
    "#quantified statistics\n",
    "! qiime longitudinal linear-mixed-effects \\\n",
    "  --m-metadata-file $or_dir/metadata.tsv \\\n",
    "  --m-metadata-file $data_dir/core-metrics-results2/shannon_vector.qza \\\n",
    "  --p-random-effects 'age_months'\\\n",
    "  --p-formula 'shannon_entropy~age_months*zygosity' \\\n",
    "  --p-state-column 'age_months' \\\n",
    "  --p-individual-id-column 'host_id' \\\n",
    "  --o-visualization $data_dir/lme-shannon_zygosity.qzv"
   ]
  },
  {
   "cell_type": "code",
   "execution_count": 9,
   "id": "691b0caa-60ee-4428-afdd-631b5ad3ba0b",
   "metadata": {},
   "outputs": [
    {
     "data": {
      "text/html": [
       "<div><img onload=\"(function(div, url){\n",
       "if (typeof require !== 'undefined') {\n",
       "    var baseURL = require.toUrl('').split('/').slice(0, -2).join('/');\n",
       "} else {\n",
       "    var baseURL = JSON.parse(\n",
       "        document.getElementById('jupyter-config-data').innerHTML\n",
       "    ).baseUrl.slice(0, -1);\n",
       "}\n",
       "url = baseURL + url;\n",
       "fetch(url).then(function(res) {\n",
       "    if (res.status === 404) {\n",
       "        div.innerHTML = 'Install QIIME 2 Jupyter extension with:<br />' +\n",
       "                        '<code>jupyter serverextension enable --py qiime2' +\n",
       "                        ' --sys-prefix</code><br />then restart your server.' +\n",
       "                        '<br /><br />(Interactive output not available on ' +\n",
       "                        'static notebook viewer services like nbviewer.)';\n",
       "    } else if (res.status === 409) {\n",
       "        div.innerHTML = 'Visualization no longer in scope. Re-run this cell' +\n",
       "                        ' to see the visualization.';\n",
       "    } else if (res.ok) {\n",
       "        url = res.url;\n",
       "        div.innerHTML = '<iframe src=\\'' + url + '\\' style=\\'' +\n",
       "                        'width: 100%; height: 700px; border: 0;\\'>' +\n",
       "                        '</iframe><hr />Open in a: <a href=\\'' + url + '\\'' +\n",
       "                        ' target=\\'_blank\\'>new window</a>'\n",
       "    } else {\n",
       "        div.innerHTML = 'Something has gone wrong. Check notebook server for' +\n",
       "                        ' errors.';\n",
       "    }\n",
       "});\n",
       "})(this.parentElement, '/qiime2/redirect?location=/tmp/qiime2-archive-eesg180x')\" src=\"data:image/gif;base64,R0lGODlhAQABAIAAAP///wAAACH5BAEAAAAALAAAAAABAAEAAAICRAEAOw==\" /></div>"
      ],
      "text/plain": [
       "<visualization: Visualization uuid: 34f24d89-fe22-4657-8b55-d25c48dc1816>"
      ]
     },
     "execution_count": 9,
     "metadata": {},
     "output_type": "execute_result"
    }
   ],
   "source": [
    "Visualization.load(f'{data_dir}/lme-shannon_zygosity.qzv')"
   ]
  },
  {
   "cell_type": "code",
   "execution_count": 6,
   "id": "8554af48-096a-4705-8f68-63b86a573829",
   "metadata": {},
   "outputs": [
    {
     "name": "stdout",
     "output_type": "stream",
     "text": [
      "\u001b[32mSaved Visualization to: data/lme-faith_pd_zygosity.qzv\u001b[0m\n",
      "\u001b[0m"
     ]
    }
   ],
   "source": [
    "! qiime longitudinal linear-mixed-effects \\\n",
    "  --m-metadata-file $or_dir/metadata.tsv \\\n",
    "  --m-metadata-file $data_dir/core-metrics-results2/faith_pd_vector.qza \\\n",
    "  --p-random-effects 'age_months'\\\n",
    "  --p-formula 'faith_pd~age_months*zygosity' \\\n",
    "  --p-state-column 'age_months' \\\n",
    "  --p-individual-id-column 'host_id' \\\n",
    "  --o-visualization $data_dir/lme-faith_pd_zygosity.qzv"
   ]
  },
  {
   "cell_type": "code",
   "execution_count": 10,
   "id": "a4b6d505-1c59-4c04-b511-7c89f674048b",
   "metadata": {},
   "outputs": [
    {
     "data": {
      "text/html": [
       "<div><img onload=\"(function(div, url){\n",
       "if (typeof require !== 'undefined') {\n",
       "    var baseURL = require.toUrl('').split('/').slice(0, -2).join('/');\n",
       "} else {\n",
       "    var baseURL = JSON.parse(\n",
       "        document.getElementById('jupyter-config-data').innerHTML\n",
       "    ).baseUrl.slice(0, -1);\n",
       "}\n",
       "url = baseURL + url;\n",
       "fetch(url).then(function(res) {\n",
       "    if (res.status === 404) {\n",
       "        div.innerHTML = 'Install QIIME 2 Jupyter extension with:<br />' +\n",
       "                        '<code>jupyter serverextension enable --py qiime2' +\n",
       "                        ' --sys-prefix</code><br />then restart your server.' +\n",
       "                        '<br /><br />(Interactive output not available on ' +\n",
       "                        'static notebook viewer services like nbviewer.)';\n",
       "    } else if (res.status === 409) {\n",
       "        div.innerHTML = 'Visualization no longer in scope. Re-run this cell' +\n",
       "                        ' to see the visualization.';\n",
       "    } else if (res.ok) {\n",
       "        url = res.url;\n",
       "        div.innerHTML = '<iframe src=\\'' + url + '\\' style=\\'' +\n",
       "                        'width: 100%; height: 700px; border: 0;\\'>' +\n",
       "                        '</iframe><hr />Open in a: <a href=\\'' + url + '\\'' +\n",
       "                        ' target=\\'_blank\\'>new window</a>'\n",
       "    } else {\n",
       "        div.innerHTML = 'Something has gone wrong. Check notebook server for' +\n",
       "                        ' errors.';\n",
       "    }\n",
       "});\n",
       "})(this.parentElement, '/qiime2/redirect?location=/tmp/qiime2-archive-ekbmjqhb')\" src=\"data:image/gif;base64,R0lGODlhAQABAIAAAP///wAAACH5BAEAAAAALAAAAAABAAEAAAICRAEAOw==\" /></div>"
      ],
      "text/plain": [
       "<visualization: Visualization uuid: cf6d13c8-788b-4dd8-bb35-361c3cd2d762>"
      ]
     },
     "execution_count": 10,
     "metadata": {},
     "output_type": "execute_result"
    }
   ],
   "source": [
    "Visualization.load(f'{data_dir}/lme-faith_pd_zygosity.qzv')"
   ]
  },
  {
   "cell_type": "markdown",
   "id": "9e71e1de-189a-44d1-9c33-87b361ebd27a",
   "metadata": {},
   "source": [
    "### Diet_weaning"
   ]
  },
  {
   "cell_type": "code",
   "execution_count": 8,
   "id": "1f4ced6c-4d23-46bc-b30e-136a7ffedf5d",
   "metadata": {},
   "outputs": [
    {
     "name": "stdout",
     "output_type": "stream",
     "text": [
      "\u001b[32mSaved Visualization to: data/lme-shannon_dietweaning.qzv\u001b[0m\n",
      "\u001b[0m"
     ]
    }
   ],
   "source": [
    "#diet_weaning\n",
    "! qiime longitudinal linear-mixed-effects \\\n",
    "  --m-metadata-file $data_dir/metadata_fillna.tsv \\\n",
    "  --m-metadata-file $data_dir/core-metrics-results2/shannon_vector.qza \\\n",
    "  --p-random-effects 'age_months'\\\n",
    "  --p-formula 'shannon_entropy~age_months*diet_weaning' \\\n",
    "  --p-state-column 'age_months' \\\n",
    "  --p-individual-id-column 'host_id' \\\n",
    "  --o-visualization $data_dir/lme-shannon_dietweaning.qzv"
   ]
  },
  {
   "cell_type": "code",
   "execution_count": 11,
   "id": "b5855331-59d9-460d-aff6-36de9b7ceb01",
   "metadata": {},
   "outputs": [
    {
     "data": {
      "text/html": [
       "<div><img onload=\"(function(div, url){\n",
       "if (typeof require !== 'undefined') {\n",
       "    var baseURL = require.toUrl('').split('/').slice(0, -2).join('/');\n",
       "} else {\n",
       "    var baseURL = JSON.parse(\n",
       "        document.getElementById('jupyter-config-data').innerHTML\n",
       "    ).baseUrl.slice(0, -1);\n",
       "}\n",
       "url = baseURL + url;\n",
       "fetch(url).then(function(res) {\n",
       "    if (res.status === 404) {\n",
       "        div.innerHTML = 'Install QIIME 2 Jupyter extension with:<br />' +\n",
       "                        '<code>jupyter serverextension enable --py qiime2' +\n",
       "                        ' --sys-prefix</code><br />then restart your server.' +\n",
       "                        '<br /><br />(Interactive output not available on ' +\n",
       "                        'static notebook viewer services like nbviewer.)';\n",
       "    } else if (res.status === 409) {\n",
       "        div.innerHTML = 'Visualization no longer in scope. Re-run this cell' +\n",
       "                        ' to see the visualization.';\n",
       "    } else if (res.ok) {\n",
       "        url = res.url;\n",
       "        div.innerHTML = '<iframe src=\\'' + url + '\\' style=\\'' +\n",
       "                        'width: 100%; height: 700px; border: 0;\\'>' +\n",
       "                        '</iframe><hr />Open in a: <a href=\\'' + url + '\\'' +\n",
       "                        ' target=\\'_blank\\'>new window</a>'\n",
       "    } else {\n",
       "        div.innerHTML = 'Something has gone wrong. Check notebook server for' +\n",
       "                        ' errors.';\n",
       "    }\n",
       "});\n",
       "})(this.parentElement, '/qiime2/redirect?location=/tmp/qiime2-archive-0o2x4in5')\" src=\"data:image/gif;base64,R0lGODlhAQABAIAAAP///wAAACH5BAEAAAAALAAAAAABAAEAAAICRAEAOw==\" /></div>"
      ],
      "text/plain": [
       "<visualization: Visualization uuid: 7ae01b5f-2076-438b-8267-a258a3df5f6d>"
      ]
     },
     "execution_count": 11,
     "metadata": {},
     "output_type": "execute_result"
    }
   ],
   "source": [
    "Visualization.load(f'{data_dir}/lme-shannon_dietweaning.qzv')"
   ]
  },
  {
   "cell_type": "code",
   "execution_count": 11,
   "id": "5b5c54c5-f9ec-405c-bc4a-b032be0c367c",
   "metadata": {},
   "outputs": [
    {
     "name": "stdout",
     "output_type": "stream",
     "text": [
      "\u001b[32mSaved Visualization to: data/lme-faith_pd_dietweaning.qzv\u001b[0m\n",
      "\u001b[0m"
     ]
    }
   ],
   "source": [
    "#diet_weaning\n",
    "! qiime longitudinal linear-mixed-effects \\\n",
    "  --m-metadata-file $data_dir/metadata_fillna.tsv \\\n",
    "  --m-metadata-file $data_dir/core-metrics-results2/faith_pd_vector.qza \\\n",
    "  --p-random-effects 'age_months'\\\n",
    "  --p-formula 'faith_pd~age_months*diet_weaning' \\\n",
    "  --p-state-column 'age_months' \\\n",
    "  --p-individual-id-column 'host_id' \\\n",
    "  --o-visualization $data_dir/lme-faith_pd_dietweaning.qzv"
   ]
  },
  {
   "cell_type": "code",
   "execution_count": 2,
   "id": "f33ec068-c2f7-402c-b61c-3808e30a8bbc",
   "metadata": {},
   "outputs": [
    {
     "data": {
      "text/html": [
       "<div><img onload=\"(function(div, url){\n",
       "if (typeof require !== 'undefined') {\n",
       "    var baseURL = require.toUrl('').split('/').slice(0, -2).join('/');\n",
       "} else {\n",
       "    var baseURL = JSON.parse(\n",
       "        document.getElementById('jupyter-config-data').innerHTML\n",
       "    ).baseUrl.slice(0, -1);\n",
       "}\n",
       "url = baseURL + url;\n",
       "fetch(url).then(function(res) {\n",
       "    if (res.status === 404) {\n",
       "        div.innerHTML = 'Install QIIME 2 Jupyter extension with:<br />' +\n",
       "                        '<code>jupyter serverextension enable --py qiime2' +\n",
       "                        ' --sys-prefix</code><br />then restart your server.' +\n",
       "                        '<br /><br />(Interactive output not available on ' +\n",
       "                        'static notebook viewer services like nbviewer.)';\n",
       "    } else if (res.status === 409) {\n",
       "        div.innerHTML = 'Visualization no longer in scope. Re-run this cell' +\n",
       "                        ' to see the visualization.';\n",
       "    } else if (res.ok) {\n",
       "        url = res.url;\n",
       "        div.innerHTML = '<iframe src=\\'' + url + '\\' style=\\'' +\n",
       "                        'width: 100%; height: 700px; border: 0;\\'>' +\n",
       "                        '</iframe><hr />Open in a: <a href=\\'' + url + '\\'' +\n",
       "                        ' target=\\'_blank\\'>new window</a>'\n",
       "    } else {\n",
       "        div.innerHTML = 'Something has gone wrong. Check notebook server for' +\n",
       "                        ' errors.';\n",
       "    }\n",
       "});\n",
       "})(this.parentElement, '/qiime2/redirect?location=/tmp/qiime2-archive-46veiiqr')\" src=\"data:image/gif;base64,R0lGODlhAQABAIAAAP///wAAACH5BAEAAAAALAAAAAABAAEAAAICRAEAOw==\" /></div>"
      ],
      "text/plain": [
       "<visualization: Visualization uuid: 55dc9470-47e0-4f6c-9687-d2340c4d4625>"
      ]
     },
     "execution_count": 2,
     "metadata": {},
     "output_type": "execute_result"
    }
   ],
   "source": [
    "Visualization.load(f'{data_dir}/lme-faith_pd_dietweaning.qzv')"
   ]
  },
  {
   "cell_type": "markdown",
   "id": "1b601517-0137-4c8d-93e3-7a95751a3e94",
   "metadata": {},
   "source": [
    "### Diet_milk"
   ]
  },
  {
   "cell_type": "code",
   "execution_count": 12,
   "id": "908d3b57-84d7-4298-912e-33769aff403b",
   "metadata": {},
   "outputs": [
    {
     "name": "stdout",
     "output_type": "stream",
     "text": [
      "\u001b[32mSaved Visualization to: data/lme-shannon_dietmilk.qzv\u001b[0m\n",
      "\u001b[0m"
     ]
    }
   ],
   "source": [
    "#diet_milk\n",
    "! qiime longitudinal linear-mixed-effects \\\n",
    "  --m-metadata-file $data_dir/metadata_fillna.tsv \\\n",
    "  --m-metadata-file $data_dir/core-metrics-results2/shannon_vector.qza \\\n",
    "  --p-random-effects 'age_months'\\\n",
    "  --p-formula 'shannon_entropy~age_months*diet_milk' \\\n",
    "  --p-state-column 'age_months' \\\n",
    "  --p-individual-id-column 'host_id' \\\n",
    "  --o-visualization $data_dir/lme-shannon_dietmilk.qzv"
   ]
  },
  {
   "cell_type": "code",
   "execution_count": 13,
   "id": "01dfc1b8-d3f8-49cd-a4ac-beaa8f88ed06",
   "metadata": {},
   "outputs": [
    {
     "data": {
      "text/html": [
       "<div><img onload=\"(function(div, url){\n",
       "if (typeof require !== 'undefined') {\n",
       "    var baseURL = require.toUrl('').split('/').slice(0, -2).join('/');\n",
       "} else {\n",
       "    var baseURL = JSON.parse(\n",
       "        document.getElementById('jupyter-config-data').innerHTML\n",
       "    ).baseUrl.slice(0, -1);\n",
       "}\n",
       "url = baseURL + url;\n",
       "fetch(url).then(function(res) {\n",
       "    if (res.status === 404) {\n",
       "        div.innerHTML = 'Install QIIME 2 Jupyter extension with:<br />' +\n",
       "                        '<code>jupyter serverextension enable --py qiime2' +\n",
       "                        ' --sys-prefix</code><br />then restart your server.' +\n",
       "                        '<br /><br />(Interactive output not available on ' +\n",
       "                        'static notebook viewer services like nbviewer.)';\n",
       "    } else if (res.status === 409) {\n",
       "        div.innerHTML = 'Visualization no longer in scope. Re-run this cell' +\n",
       "                        ' to see the visualization.';\n",
       "    } else if (res.ok) {\n",
       "        url = res.url;\n",
       "        div.innerHTML = '<iframe src=\\'' + url + '\\' style=\\'' +\n",
       "                        'width: 100%; height: 700px; border: 0;\\'>' +\n",
       "                        '</iframe><hr />Open in a: <a href=\\'' + url + '\\'' +\n",
       "                        ' target=\\'_blank\\'>new window</a>'\n",
       "    } else {\n",
       "        div.innerHTML = 'Something has gone wrong. Check notebook server for' +\n",
       "                        ' errors.';\n",
       "    }\n",
       "});\n",
       "})(this.parentElement, '/qiime2/redirect?location=/tmp/qiime2-archive-6fs0kpq7')\" src=\"data:image/gif;base64,R0lGODlhAQABAIAAAP///wAAACH5BAEAAAAALAAAAAABAAEAAAICRAEAOw==\" /></div>"
      ],
      "text/plain": [
       "<visualization: Visualization uuid: a09ab620-4cad-47d7-ac7b-6f2ac700f6f3>"
      ]
     },
     "execution_count": 13,
     "metadata": {},
     "output_type": "execute_result"
    }
   ],
   "source": [
    "Visualization.load(f'{data_dir}/lme-shannon_dietmilk.qzv')"
   ]
  },
  {
   "cell_type": "code",
   "execution_count": 13,
   "id": "8d573347-c145-4602-9ffd-04d759cf75cc",
   "metadata": {},
   "outputs": [
    {
     "name": "stdout",
     "output_type": "stream",
     "text": [
      "\u001b[32mSaved Visualization to: data/lme-faith_pd_dietmilk.qzv\u001b[0m\n",
      "\u001b[0m"
     ]
    }
   ],
   "source": [
    "#diet_milk\n",
    "! qiime longitudinal linear-mixed-effects \\\n",
    "  --m-metadata-file $data_dir/metadata_fillna.tsv \\\n",
    "  --m-metadata-file $data_dir/core-metrics-results2/faith_pd_vector.qza \\\n",
    "  --p-random-effects 'age_months'\\\n",
    "  --p-formula 'faith_pd~age_months*diet_milk' \\\n",
    "  --p-state-column 'age_months' \\\n",
    "  --p-individual-id-column 'host_id' \\\n",
    "  --o-visualization $data_dir/lme-faith_pd_dietmilk.qzv"
   ]
  },
  {
   "cell_type": "code",
   "execution_count": 14,
   "id": "64ea707e-757d-4683-be25-3817226fc7f9",
   "metadata": {},
   "outputs": [
    {
     "data": {
      "text/html": [
       "<div><img onload=\"(function(div, url){\n",
       "if (typeof require !== 'undefined') {\n",
       "    var baseURL = require.toUrl('').split('/').slice(0, -2).join('/');\n",
       "} else {\n",
       "    var baseURL = JSON.parse(\n",
       "        document.getElementById('jupyter-config-data').innerHTML\n",
       "    ).baseUrl.slice(0, -1);\n",
       "}\n",
       "url = baseURL + url;\n",
       "fetch(url).then(function(res) {\n",
       "    if (res.status === 404) {\n",
       "        div.innerHTML = 'Install QIIME 2 Jupyter extension with:<br />' +\n",
       "                        '<code>jupyter serverextension enable --py qiime2' +\n",
       "                        ' --sys-prefix</code><br />then restart your server.' +\n",
       "                        '<br /><br />(Interactive output not available on ' +\n",
       "                        'static notebook viewer services like nbviewer.)';\n",
       "    } else if (res.status === 409) {\n",
       "        div.innerHTML = 'Visualization no longer in scope. Re-run this cell' +\n",
       "                        ' to see the visualization.';\n",
       "    } else if (res.ok) {\n",
       "        url = res.url;\n",
       "        div.innerHTML = '<iframe src=\\'' + url + '\\' style=\\'' +\n",
       "                        'width: 100%; height: 700px; border: 0;\\'>' +\n",
       "                        '</iframe><hr />Open in a: <a href=\\'' + url + '\\'' +\n",
       "                        ' target=\\'_blank\\'>new window</a>'\n",
       "    } else {\n",
       "        div.innerHTML = 'Something has gone wrong. Check notebook server for' +\n",
       "                        ' errors.';\n",
       "    }\n",
       "});\n",
       "})(this.parentElement, '/qiime2/redirect?location=/tmp/qiime2-archive-knoqcqiz')\" src=\"data:image/gif;base64,R0lGODlhAQABAIAAAP///wAAACH5BAEAAAAALAAAAAABAAEAAAICRAEAOw==\" /></div>"
      ],
      "text/plain": [
       "<visualization: Visualization uuid: 3c6cc686-08c9-4a3f-a2ba-74fbc30156b7>"
      ]
     },
     "execution_count": 14,
     "metadata": {},
     "output_type": "execute_result"
    }
   ],
   "source": [
    "Visualization.load(f'{data_dir}/lme-faith_pd_dietmilk.qzv')"
   ]
  },
  {
   "cell_type": "markdown",
   "id": "abcc9a38-95c8-45fb-89c9-2930a2908292",
   "metadata": {},
   "source": [
    "### delivery mode"
   ]
  },
  {
   "cell_type": "code",
   "execution_count": 14,
   "id": "25189d64-1cb4-427c-a5a1-4fc8385de692",
   "metadata": {},
   "outputs": [
    {
     "name": "stdout",
     "output_type": "stream",
     "text": [
      "\u001b[32mSaved Visualization to: data/lme-shannon_deliverymode.qzv\u001b[0m\n",
      "\u001b[0m"
     ]
    }
   ],
   "source": [
    "#delivery mode\n",
    "! qiime longitudinal linear-mixed-effects \\\n",
    "  --m-metadata-file $data_dir/metadata_fillna.tsv \\\n",
    "  --m-metadata-file $data_dir/core-metrics-results2/shannon_vector.qza \\\n",
    "  --p-random-effects 'age_months'\\\n",
    "  --p-formula 'shannon_entropy~age_months*delivery_mode' \\\n",
    "  --p-state-column 'age_months' \\\n",
    "  --p-individual-id-column 'host_id' \\\n",
    "  --o-visualization $data_dir/lme-shannon_deliverymode.qzv"
   ]
  },
  {
   "cell_type": "code",
   "execution_count": 15,
   "id": "0ec1960c-8739-4565-94e0-f4639d86ad07",
   "metadata": {},
   "outputs": [
    {
     "data": {
      "text/html": [
       "<div><img onload=\"(function(div, url){\n",
       "if (typeof require !== 'undefined') {\n",
       "    var baseURL = require.toUrl('').split('/').slice(0, -2).join('/');\n",
       "} else {\n",
       "    var baseURL = JSON.parse(\n",
       "        document.getElementById('jupyter-config-data').innerHTML\n",
       "    ).baseUrl.slice(0, -1);\n",
       "}\n",
       "url = baseURL + url;\n",
       "fetch(url).then(function(res) {\n",
       "    if (res.status === 404) {\n",
       "        div.innerHTML = 'Install QIIME 2 Jupyter extension with:<br />' +\n",
       "                        '<code>jupyter serverextension enable --py qiime2' +\n",
       "                        ' --sys-prefix</code><br />then restart your server.' +\n",
       "                        '<br /><br />(Interactive output not available on ' +\n",
       "                        'static notebook viewer services like nbviewer.)';\n",
       "    } else if (res.status === 409) {\n",
       "        div.innerHTML = 'Visualization no longer in scope. Re-run this cell' +\n",
       "                        ' to see the visualization.';\n",
       "    } else if (res.ok) {\n",
       "        url = res.url;\n",
       "        div.innerHTML = '<iframe src=\\'' + url + '\\' style=\\'' +\n",
       "                        'width: 100%; height: 700px; border: 0;\\'>' +\n",
       "                        '</iframe><hr />Open in a: <a href=\\'' + url + '\\'' +\n",
       "                        ' target=\\'_blank\\'>new window</a>'\n",
       "    } else {\n",
       "        div.innerHTML = 'Something has gone wrong. Check notebook server for' +\n",
       "                        ' errors.';\n",
       "    }\n",
       "});\n",
       "})(this.parentElement, '/qiime2/redirect?location=/tmp/qiime2-archive-2f0okm0z')\" src=\"data:image/gif;base64,R0lGODlhAQABAIAAAP///wAAACH5BAEAAAAALAAAAAABAAEAAAICRAEAOw==\" /></div>"
      ],
      "text/plain": [
       "<visualization: Visualization uuid: 58cc75f3-50f5-4be6-887d-b9fca6aabe0e>"
      ]
     },
     "execution_count": 15,
     "metadata": {},
     "output_type": "execute_result"
    }
   ],
   "source": [
    "Visualization.load(f'{data_dir}/lme-shannon_deliverymode.qzv')"
   ]
  },
  {
   "cell_type": "code",
   "execution_count": 15,
   "id": "18a25b44-8f39-4dae-8d45-082ce9153200",
   "metadata": {},
   "outputs": [
    {
     "name": "stdout",
     "output_type": "stream",
     "text": [
      "\u001b[32mSaved Visualization to: data/lme-faith_pd_deliverymode.qzv\u001b[0m\n",
      "\u001b[0m"
     ]
    }
   ],
   "source": [
    "#delivery mode\n",
    "! qiime longitudinal linear-mixed-effects \\\n",
    "  --m-metadata-file $data_dir/metadata_fillna.tsv \\\n",
    "  --m-metadata-file $data_dir/core-metrics-results2/faith_pd_vector.qza \\\n",
    "  --p-random-effects 'age_months'\\\n",
    "  --p-formula 'faith_pd~age_months*delivery_mode' \\\n",
    "  --p-state-column 'age_months' \\\n",
    "  --p-individual-id-column 'host_id' \\\n",
    "  --o-visualization $data_dir/lme-faith_pd_deliverymode.qzv"
   ]
  },
  {
   "cell_type": "code",
   "execution_count": 16,
   "id": "3f85f427-992d-4809-ae78-7aac57c48c1d",
   "metadata": {},
   "outputs": [
    {
     "data": {
      "text/html": [
       "<div><img onload=\"(function(div, url){\n",
       "if (typeof require !== 'undefined') {\n",
       "    var baseURL = require.toUrl('').split('/').slice(0, -2).join('/');\n",
       "} else {\n",
       "    var baseURL = JSON.parse(\n",
       "        document.getElementById('jupyter-config-data').innerHTML\n",
       "    ).baseUrl.slice(0, -1);\n",
       "}\n",
       "url = baseURL + url;\n",
       "fetch(url).then(function(res) {\n",
       "    if (res.status === 404) {\n",
       "        div.innerHTML = 'Install QIIME 2 Jupyter extension with:<br />' +\n",
       "                        '<code>jupyter serverextension enable --py qiime2' +\n",
       "                        ' --sys-prefix</code><br />then restart your server.' +\n",
       "                        '<br /><br />(Interactive output not available on ' +\n",
       "                        'static notebook viewer services like nbviewer.)';\n",
       "    } else if (res.status === 409) {\n",
       "        div.innerHTML = 'Visualization no longer in scope. Re-run this cell' +\n",
       "                        ' to see the visualization.';\n",
       "    } else if (res.ok) {\n",
       "        url = res.url;\n",
       "        div.innerHTML = '<iframe src=\\'' + url + '\\' style=\\'' +\n",
       "                        'width: 100%; height: 700px; border: 0;\\'>' +\n",
       "                        '</iframe><hr />Open in a: <a href=\\'' + url + '\\'' +\n",
       "                        ' target=\\'_blank\\'>new window</a>'\n",
       "    } else {\n",
       "        div.innerHTML = 'Something has gone wrong. Check notebook server for' +\n",
       "                        ' errors.';\n",
       "    }\n",
       "});\n",
       "})(this.parentElement, '/qiime2/redirect?location=/tmp/qiime2-archive-i8d0ehfv')\" src=\"data:image/gif;base64,R0lGODlhAQABAIAAAP///wAAACH5BAEAAAAALAAAAAABAAEAAAICRAEAOw==\" /></div>"
      ],
      "text/plain": [
       "<visualization: Visualization uuid: 24641c90-644a-452e-a76a-8bcf33477006>"
      ]
     },
     "execution_count": 16,
     "metadata": {},
     "output_type": "execute_result"
    }
   ],
   "source": [
    "Visualization.load(f'{data_dir}/lme-faith_pd_deliverymode.qzv')"
   ]
  },
  {
   "cell_type": "markdown",
   "id": "19812b44-3f2d-4640-8089-b47e55e81dd4",
   "metadata": {},
   "source": [
    "### delivery preterm"
   ]
  },
  {
   "cell_type": "code",
   "execution_count": 16,
   "id": "378fbee2-0eb4-4527-be91-c25f35974cbe",
   "metadata": {},
   "outputs": [
    {
     "name": "stdout",
     "output_type": "stream",
     "text": [
      "\u001b[32mSaved Visualization to: data/lme-shannon_deliverypreterm.qzv\u001b[0m\n",
      "\u001b[0m"
     ]
    }
   ],
   "source": [
    "# delivery preterm\n",
    "! qiime longitudinal linear-mixed-effects \\\n",
    "  --m-metadata-file $data_dir/metadata_fillna.tsv \\\n",
    "  --m-metadata-file $data_dir/core-metrics-results2/shannon_vector.qza \\\n",
    "  --p-random-effects 'age_months'\\\n",
    "  --p-formula 'shannon_entropy~age_months*delivery_preterm' \\\n",
    "  --p-state-column 'age_months' \\\n",
    "  --p-individual-id-column 'host_id' \\\n",
    "  --o-visualization $data_dir/lme-shannon_deliverypreterm.qzv"
   ]
  },
  {
   "cell_type": "code",
   "execution_count": 17,
   "id": "316b8c60-bec6-4a5c-87f7-f728fc52b461",
   "metadata": {},
   "outputs": [
    {
     "data": {
      "text/html": [
       "<div><img onload=\"(function(div, url){\n",
       "if (typeof require !== 'undefined') {\n",
       "    var baseURL = require.toUrl('').split('/').slice(0, -2).join('/');\n",
       "} else {\n",
       "    var baseURL = JSON.parse(\n",
       "        document.getElementById('jupyter-config-data').innerHTML\n",
       "    ).baseUrl.slice(0, -1);\n",
       "}\n",
       "url = baseURL + url;\n",
       "fetch(url).then(function(res) {\n",
       "    if (res.status === 404) {\n",
       "        div.innerHTML = 'Install QIIME 2 Jupyter extension with:<br />' +\n",
       "                        '<code>jupyter serverextension enable --py qiime2' +\n",
       "                        ' --sys-prefix</code><br />then restart your server.' +\n",
       "                        '<br /><br />(Interactive output not available on ' +\n",
       "                        'static notebook viewer services like nbviewer.)';\n",
       "    } else if (res.status === 409) {\n",
       "        div.innerHTML = 'Visualization no longer in scope. Re-run this cell' +\n",
       "                        ' to see the visualization.';\n",
       "    } else if (res.ok) {\n",
       "        url = res.url;\n",
       "        div.innerHTML = '<iframe src=\\'' + url + '\\' style=\\'' +\n",
       "                        'width: 100%; height: 700px; border: 0;\\'>' +\n",
       "                        '</iframe><hr />Open in a: <a href=\\'' + url + '\\'' +\n",
       "                        ' target=\\'_blank\\'>new window</a>'\n",
       "    } else {\n",
       "        div.innerHTML = 'Something has gone wrong. Check notebook server for' +\n",
       "                        ' errors.';\n",
       "    }\n",
       "});\n",
       "})(this.parentElement, '/qiime2/redirect?location=/tmp/qiime2-archive-ae3qs2l_')\" src=\"data:image/gif;base64,R0lGODlhAQABAIAAAP///wAAACH5BAEAAAAALAAAAAABAAEAAAICRAEAOw==\" /></div>"
      ],
      "text/plain": [
       "<visualization: Visualization uuid: 189e8ec3-b1b0-487e-bca9-d36005716852>"
      ]
     },
     "execution_count": 17,
     "metadata": {},
     "output_type": "execute_result"
    }
   ],
   "source": [
    "Visualization.load(f'{data_dir}/lme-shannon_deliverypreterm.qzv')"
   ]
  },
  {
   "cell_type": "code",
   "execution_count": 17,
   "id": "4755c715-c083-4c98-99d4-ef0160e1134c",
   "metadata": {},
   "outputs": [
    {
     "name": "stdout",
     "output_type": "stream",
     "text": [
      "\u001b[32mSaved Visualization to: data/lme-faith_pd_deliverypreterm.qzv\u001b[0m\n",
      "\u001b[0m"
     ]
    }
   ],
   "source": [
    "#delivery preterm\n",
    "! qiime longitudinal linear-mixed-effects \\\n",
    "  --m-metadata-file $data_dir/metadata_fillna.tsv \\\n",
    "  --m-metadata-file $data_dir/core-metrics-results2/faith_pd_vector.qza \\\n",
    "  --p-random-effects 'age_months'\\\n",
    "  --p-formula 'faith_pd~age_months*delivery_preterm' \\\n",
    "  --p-state-column 'age_months' \\\n",
    "  --p-individual-id-column 'host_id' \\\n",
    "  --o-visualization $data_dir/lme-faith_pd_deliverypreterm.qzv"
   ]
  },
  {
   "cell_type": "code",
   "execution_count": 18,
   "id": "4db9e206-1c4c-464e-ab17-d17533dda58c",
   "metadata": {},
   "outputs": [
    {
     "data": {
      "text/html": [
       "<div><img onload=\"(function(div, url){\n",
       "if (typeof require !== 'undefined') {\n",
       "    var baseURL = require.toUrl('').split('/').slice(0, -2).join('/');\n",
       "} else {\n",
       "    var baseURL = JSON.parse(\n",
       "        document.getElementById('jupyter-config-data').innerHTML\n",
       "    ).baseUrl.slice(0, -1);\n",
       "}\n",
       "url = baseURL + url;\n",
       "fetch(url).then(function(res) {\n",
       "    if (res.status === 404) {\n",
       "        div.innerHTML = 'Install QIIME 2 Jupyter extension with:<br />' +\n",
       "                        '<code>jupyter serverextension enable --py qiime2' +\n",
       "                        ' --sys-prefix</code><br />then restart your server.' +\n",
       "                        '<br /><br />(Interactive output not available on ' +\n",
       "                        'static notebook viewer services like nbviewer.)';\n",
       "    } else if (res.status === 409) {\n",
       "        div.innerHTML = 'Visualization no longer in scope. Re-run this cell' +\n",
       "                        ' to see the visualization.';\n",
       "    } else if (res.ok) {\n",
       "        url = res.url;\n",
       "        div.innerHTML = '<iframe src=\\'' + url + '\\' style=\\'' +\n",
       "                        'width: 100%; height: 700px; border: 0;\\'>' +\n",
       "                        '</iframe><hr />Open in a: <a href=\\'' + url + '\\'' +\n",
       "                        ' target=\\'_blank\\'>new window</a>'\n",
       "    } else {\n",
       "        div.innerHTML = 'Something has gone wrong. Check notebook server for' +\n",
       "                        ' errors.';\n",
       "    }\n",
       "});\n",
       "})(this.parentElement, '/qiime2/redirect?location=/tmp/qiime2-archive-rx_noiuv')\" src=\"data:image/gif;base64,R0lGODlhAQABAIAAAP///wAAACH5BAEAAAAALAAAAAABAAEAAAICRAEAOw==\" /></div>"
      ],
      "text/plain": [
       "<visualization: Visualization uuid: 1ec01959-0889-4fcb-b0db-7434ac552fd5>"
      ]
     },
     "execution_count": 18,
     "metadata": {},
     "output_type": "execute_result"
    }
   ],
   "source": [
    "Visualization.load(f'{data_dir}/lme-faith_pd_deliverypreterm.qzv')"
   ]
  },
  {
   "cell_type": "markdown",
   "id": "045feffd-038f-4b8d-82d3-643b99546e4f",
   "metadata": {},
   "source": [
    "When try to do age_months* diet_milk * diet_weaning get non-singular matrix error, cannot calculate linear model as cannot invert the matrix. We tried removing the NaN values in the diet columns but this did not resolve the problem, this means those two variables are dependant and thus we cannot fit the longitudinal mixed effect analysis. "
   ]
  }
 ],
 "metadata": {
  "kernelspec": {
   "display_name": "Python 3 (ipykernel)",
   "language": "python",
   "name": "python3"
  },
  "language_info": {
   "codemirror_mode": {
    "name": "ipython",
    "version": 3
   },
   "file_extension": ".py",
   "mimetype": "text/x-python",
   "name": "python",
   "nbconvert_exporter": "python",
   "pygments_lexer": "ipython3",
   "version": "3.8.13"
  }
 },
 "nbformat": 4,
 "nbformat_minor": 5
}
