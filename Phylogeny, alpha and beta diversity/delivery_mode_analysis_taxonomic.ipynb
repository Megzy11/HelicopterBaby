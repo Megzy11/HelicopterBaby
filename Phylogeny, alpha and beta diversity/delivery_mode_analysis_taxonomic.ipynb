{
 "cells": [
  {
   "cell_type": "code",
   "execution_count": 1,
   "id": "c58dbfcf-31b7-431a-87c2-b3caa808a309",
   "metadata": {},
   "outputs": [],
   "source": [
    "import os\n",
    "import pandas as pd\n",
    "import qiime2 as q2\n",
    "from qiime2 import Visualization\n",
    "from seaborn import scatterplot\n",
    "import seaborn as sns\n",
    "import numpy as np\n",
    "import requests\n",
    "import matplotlib.pyplot as plt\n",
    "\n",
    "%matplotlib inline"
   ]
  },
  {
   "cell_type": "code",
   "execution_count": 13,
   "id": "65cb6f57-bc1f-440b-90bb-18603c41505d",
   "metadata": {},
   "outputs": [],
   "source": [
    "data_dir = 'data'\n",
    "or_dir = '../data'\n",
    "delivery_dir = 'data/deliverymode_comparison'\n",
    "figure_dir = 'data/deliverymode_comparison/figures'\n",
    "\n",
    "if not os.path.isdir(data_dir):\n",
    "    os.makedirs(data_dir)\n",
    "if not os.path.isdir(delivery_dir):\n",
    "    os.makedirs(delivery_dir)\n",
    "if not os.path.isdir(figure_dir):\n",
    "    os.makedirs(figure_dir)"
   ]
  },
  {
   "cell_type": "code",
   "execution_count": 3,
   "id": "448cfb8f-9dfc-441c-be92-131e7cef773f",
   "metadata": {
    "tags": []
   },
   "outputs": [
    {
     "data": {
      "text/html": [
       "<div>\n",
       "<style scoped>\n",
       "    .dataframe tbody tr th:only-of-type {\n",
       "        vertical-align: middle;\n",
       "    }\n",
       "\n",
       "    .dataframe tbody tr th {\n",
       "        vertical-align: top;\n",
       "    }\n",
       "\n",
       "    .dataframe thead th {\n",
       "        text-align: right;\n",
       "    }\n",
       "</style>\n",
       "<table border=\"1\" class=\"dataframe\">\n",
       "  <thead>\n",
       "    <tr style=\"text-align: right;\">\n",
       "      <th></th>\n",
       "      <th>id</th>\n",
       "      <th>Library Layout</th>\n",
       "      <th>Instrument</th>\n",
       "      <th>collection_date</th>\n",
       "      <th>geo_location_name</th>\n",
       "      <th>geo_latitude</th>\n",
       "      <th>geo_longitude</th>\n",
       "      <th>host_id</th>\n",
       "      <th>age_days</th>\n",
       "      <th>weight_kg</th>\n",
       "      <th>...</th>\n",
       "      <th>birth_length_cm</th>\n",
       "      <th>sex</th>\n",
       "      <th>delivery_mode</th>\n",
       "      <th>zygosity</th>\n",
       "      <th>race</th>\n",
       "      <th>ethnicity</th>\n",
       "      <th>delivery_preterm</th>\n",
       "      <th>diet_milk</th>\n",
       "      <th>diet_weaning</th>\n",
       "      <th>age_months</th>\n",
       "    </tr>\n",
       "  </thead>\n",
       "  <tbody>\n",
       "    <tr>\n",
       "      <th>0</th>\n",
       "      <td>ERR1314182</td>\n",
       "      <td>PAIRED</td>\n",
       "      <td>Illumina MiSeq</td>\n",
       "      <td>2011-11-11 00:00:00</td>\n",
       "      <td>USA, Missouri, St. Louis</td>\n",
       "      <td>38.63699</td>\n",
       "      <td>-90.263794</td>\n",
       "      <td>42.1</td>\n",
       "      <td>232.0</td>\n",
       "      <td>NaN</td>\n",
       "      <td>...</td>\n",
       "      <td>47.0</td>\n",
       "      <td>male</td>\n",
       "      <td>Cesarean</td>\n",
       "      <td>Monozygotic</td>\n",
       "      <td>Caucasian</td>\n",
       "      <td>Not Hispanic</td>\n",
       "      <td>True</td>\n",
       "      <td>fd</td>\n",
       "      <td>True</td>\n",
       "      <td>8.0</td>\n",
       "    </tr>\n",
       "    <tr>\n",
       "      <th>1</th>\n",
       "      <td>ERR1314183</td>\n",
       "      <td>PAIRED</td>\n",
       "      <td>Illumina MiSeq</td>\n",
       "      <td>2010-12-11 00:00:00</td>\n",
       "      <td>USA, Missouri, St. Louis</td>\n",
       "      <td>38.63699</td>\n",
       "      <td>-90.263794</td>\n",
       "      <td>27.2</td>\n",
       "      <td>192.0</td>\n",
       "      <td>NaN</td>\n",
       "      <td>...</td>\n",
       "      <td>45.0</td>\n",
       "      <td>female</td>\n",
       "      <td>Cesarean</td>\n",
       "      <td>Dizygotic</td>\n",
       "      <td>Caucasian</td>\n",
       "      <td>Hispanic</td>\n",
       "      <td>True</td>\n",
       "      <td>fd</td>\n",
       "      <td>True</td>\n",
       "      <td>6.0</td>\n",
       "    </tr>\n",
       "    <tr>\n",
       "      <th>2</th>\n",
       "      <td>ERR1314184</td>\n",
       "      <td>PAIRED</td>\n",
       "      <td>Illumina MiSeq</td>\n",
       "      <td>2011-12-11 00:00:00</td>\n",
       "      <td>USA, Missouri, St. Louis</td>\n",
       "      <td>38.63699</td>\n",
       "      <td>-90.263794</td>\n",
       "      <td>28.1</td>\n",
       "      <td>536.0</td>\n",
       "      <td>NaN</td>\n",
       "      <td>...</td>\n",
       "      <td>51.0</td>\n",
       "      <td>female</td>\n",
       "      <td>Cesarean</td>\n",
       "      <td>Monozygotic</td>\n",
       "      <td>Caucasian</td>\n",
       "      <td>Not Hispanic</td>\n",
       "      <td>False</td>\n",
       "      <td>NaN</td>\n",
       "      <td>NaN</td>\n",
       "      <td>18.0</td>\n",
       "    </tr>\n",
       "    <tr>\n",
       "      <th>3</th>\n",
       "      <td>ERR1314185</td>\n",
       "      <td>PAIRED</td>\n",
       "      <td>Illumina MiSeq</td>\n",
       "      <td>2011-12-11 00:00:00</td>\n",
       "      <td>USA, Missouri, St. Louis</td>\n",
       "      <td>38.63699</td>\n",
       "      <td>-90.263794</td>\n",
       "      <td>28.2</td>\n",
       "      <td>537.0</td>\n",
       "      <td>NaN</td>\n",
       "      <td>...</td>\n",
       "      <td>50.0</td>\n",
       "      <td>female</td>\n",
       "      <td>Cesarean</td>\n",
       "      <td>Monozygotic</td>\n",
       "      <td>Caucasian</td>\n",
       "      <td>Not Hispanic</td>\n",
       "      <td>False</td>\n",
       "      <td>NaN</td>\n",
       "      <td>NaN</td>\n",
       "      <td>18.0</td>\n",
       "    </tr>\n",
       "    <tr>\n",
       "      <th>4</th>\n",
       "      <td>ERR1314186</td>\n",
       "      <td>PAIRED</td>\n",
       "      <td>Illumina MiSeq</td>\n",
       "      <td>2013-01-12 00:00:00</td>\n",
       "      <td>USA, Missouri, St. Louis</td>\n",
       "      <td>38.63699</td>\n",
       "      <td>-90.263794</td>\n",
       "      <td>39.2</td>\n",
       "      <td>688.0</td>\n",
       "      <td>NaN</td>\n",
       "      <td>...</td>\n",
       "      <td>48.0</td>\n",
       "      <td>male</td>\n",
       "      <td>Cesarean</td>\n",
       "      <td>Monozygotic</td>\n",
       "      <td>African-American</td>\n",
       "      <td>Not Hispanic</td>\n",
       "      <td>True</td>\n",
       "      <td>NaN</td>\n",
       "      <td>NaN</td>\n",
       "      <td>23.0</td>\n",
       "    </tr>\n",
       "  </tbody>\n",
       "</table>\n",
       "<p>5 rows × 26 columns</p>\n",
       "</div>"
      ],
      "text/plain": [
       "           id Library Layout      Instrument      collection_date  \\\n",
       "0  ERR1314182         PAIRED  Illumina MiSeq  2011-11-11 00:00:00   \n",
       "1  ERR1314183         PAIRED  Illumina MiSeq  2010-12-11 00:00:00   \n",
       "2  ERR1314184         PAIRED  Illumina MiSeq  2011-12-11 00:00:00   \n",
       "3  ERR1314185         PAIRED  Illumina MiSeq  2011-12-11 00:00:00   \n",
       "4  ERR1314186         PAIRED  Illumina MiSeq  2013-01-12 00:00:00   \n",
       "\n",
       "          geo_location_name  geo_latitude  geo_longitude  host_id  age_days  \\\n",
       "0  USA, Missouri, St. Louis      38.63699     -90.263794     42.1     232.0   \n",
       "1  USA, Missouri, St. Louis      38.63699     -90.263794     27.2     192.0   \n",
       "2  USA, Missouri, St. Louis      38.63699     -90.263794     28.1     536.0   \n",
       "3  USA, Missouri, St. Louis      38.63699     -90.263794     28.2     537.0   \n",
       "4  USA, Missouri, St. Louis      38.63699     -90.263794     39.2     688.0   \n",
       "\n",
       "   weight_kg  ...  birth_length_cm     sex  delivery_mode     zygosity  \\\n",
       "0        NaN  ...             47.0    male       Cesarean  Monozygotic   \n",
       "1        NaN  ...             45.0  female       Cesarean    Dizygotic   \n",
       "2        NaN  ...             51.0  female       Cesarean  Monozygotic   \n",
       "3        NaN  ...             50.0  female       Cesarean  Monozygotic   \n",
       "4        NaN  ...             48.0    male       Cesarean  Monozygotic   \n",
       "\n",
       "               race     ethnicity  delivery_preterm diet_milk diet_weaning  \\\n",
       "0         Caucasian  Not Hispanic              True        fd         True   \n",
       "1         Caucasian      Hispanic              True        fd         True   \n",
       "2         Caucasian  Not Hispanic             False       NaN          NaN   \n",
       "3         Caucasian  Not Hispanic             False       NaN          NaN   \n",
       "4  African-American  Not Hispanic              True       NaN          NaN   \n",
       "\n",
       "  age_months  \n",
       "0        8.0  \n",
       "1        6.0  \n",
       "2       18.0  \n",
       "3       18.0  \n",
       "4       23.0  \n",
       "\n",
       "[5 rows x 26 columns]"
      ]
     },
     "execution_count": 3,
     "metadata": {},
     "output_type": "execute_result"
    }
   ],
   "source": [
    "metadata = pd.read_csv(f'{or_dir}/metadata.tsv', sep='\\t')\n",
    "metadata.head()"
   ]
  },
  {
   "cell_type": "markdown",
   "id": "0bc74886-a588-4921-865f-70113e1caf9e",
   "metadata": {},
   "source": [
    "## Delivery Mode comparison\n",
    "Here first the data is seperated into data-sets containing all sample, with the same delivery mode. Soly for explorative purposes to see the taxa at different levels splitted by delivery mode. For that the metadata is filtered, exported as a tsv and then used to filter the feature tables."
   ]
  },
  {
   "cell_type": "markdown",
   "id": "abc756e6-dcd9-495f-99be-8cabe797d1d3",
   "metadata": {},
   "source": [
    "### Data sorting"
   ]
  },
  {
   "cell_type": "code",
   "execution_count": 4,
   "id": "6d0158cc-429b-4457-9607-2c47e40c3d7d",
   "metadata": {},
   "outputs": [],
   "source": [
    "meta_delimode_sort = metadata.groupby(['host_id', 'age_days'])\n",
    "meta_cesarean = metadata[metadata.delivery_mode == 'Cesarean']\n",
    "meta_emcesarean = metadata[metadata.delivery_mode == 'Cesarean_emergency']\n",
    "meta_vaginal = metadata[metadata.delivery_mode == 'Vaginal']\n",
    "meta_cesarean.to_csv(f'{delivery_dir}/metadata_cesarean.tsv',sep='\\t', index=False)\n",
    "meta_emcesarean.to_csv(f'{delivery_dir}/metadata_emergency_cesarean.tsv',sep='\\t', index=False)\n",
    "meta_vaginal.to_csv(f'{delivery_dir}/metadata_vaginal.tsv',sep='\\t', index=False)"
   ]
  },
  {
   "cell_type": "code",
   "execution_count": 5,
   "id": "3d269423-5145-4224-9eed-da25b5a69c2e",
   "metadata": {},
   "outputs": [],
   "source": [
    "meta_cesarean_grouped = meta_cesarean.groupby(['host_id', 'age_days'])\n",
    "meta_emcesarean_grouped = meta_emcesarean.groupby(['host_id', 'age_days'])\n",
    "meta_vaginal_grouped = meta_vaginal.groupby(['host_id', 'age_days'])"
   ]
  },
  {
   "cell_type": "code",
   "execution_count": 6,
   "id": "194bd912-bc70-4c2a-a492-1628789cde5f",
   "metadata": {},
   "outputs": [],
   "source": [
    "meta_cesarean = pd.read_csv(f'{delivery_dir}/metadata_cesarean.tsv', sep='\\t')\n",
    "meta_emcesarean = pd.read_csv(f'{delivery_dir}/metadata_emergency_cesarean.tsv', sep='\\t')\n",
    "meta_vaginal = pd.read_csv(f'{delivery_dir}/metadata_vaginal.tsv', sep='\\t')"
   ]
  },
  {
   "cell_type": "markdown",
   "id": "4f76c6d0-ac29-41e5-9338-8876c5f93e38",
   "metadata": {},
   "source": [
    "### Vaginal delivery"
   ]
  },
  {
   "cell_type": "code",
   "execution_count": 7,
   "id": "a69b75c7-09a3-440c-9841-e5403819936f",
   "metadata": {},
   "outputs": [
    {
     "name": "stdout",
     "output_type": "stream",
     "text": [
      "\u001b[32mSaved FeatureTable[Frequency] to: data/deliverymode_comparison/pjnb-phyl-tab-vag.qza\u001b[0m\n",
      "\u001b[0m"
     ]
    }
   ],
   "source": [
    "! qiime feature-table filter-samples \\\n",
    "    --i-table $data_dir/phylogeny_filtered_table.qza \\\n",
    "    --m-metadata-file $delivery_dir/metadata_vaginal.tsv \\\n",
    "    --o-filtered-table $delivery_dir/pjnb-phyl-tab-vag.qza"
   ]
  },
  {
   "cell_type": "code",
   "execution_count": 8,
   "id": "e4d61d2f-9fb0-48a4-a0de-984849b02542",
   "metadata": {
    "tags": []
   },
   "outputs": [
    {
     "name": "stdout",
     "output_type": "stream",
     "text": [
      "\u001b[32mSaved Visualization to: data/deliverymode_comparison/pjnb-phyl-tab-vag.qzv\u001b[0m\n",
      "\u001b[0m"
     ]
    }
   ],
   "source": [
    "! qiime feature-table summarize \\\n",
    "  --i-table $delivery_dir/pjnb-phyl-tab-vag.qza \\\n",
    "  --m-sample-metadata-file $delivery_dir/metadata_vaginal.tsv \\\n",
    "  --o-visualization $delivery_dir/pjnb-phyl-tab-vag.qzv"
   ]
  },
  {
   "cell_type": "code",
   "execution_count": 9,
   "id": "3d3bdcd8-b6b0-44bb-974b-a7a54e44ae4f",
   "metadata": {
    "collapsed": true,
    "jupyter": {
     "outputs_hidden": true
    },
    "tags": []
   },
   "outputs": [
    {
     "data": {
      "text/html": [
       "<div><img onload=\"(function(div, url){\n",
       "if (typeof require !== 'undefined') {\n",
       "    var baseURL = require.toUrl('').split('/').slice(0, -2).join('/');\n",
       "} else {\n",
       "    var baseURL = JSON.parse(\n",
       "        document.getElementById('jupyter-config-data').innerHTML\n",
       "    ).baseUrl.slice(0, -1);\n",
       "}\n",
       "url = baseURL + url;\n",
       "fetch(url).then(function(res) {\n",
       "    if (res.status === 404) {\n",
       "        div.innerHTML = 'Install QIIME 2 Jupyter extension with:<br />' +\n",
       "                        '<code>jupyter serverextension enable --py qiime2' +\n",
       "                        ' --sys-prefix</code><br />then restart your server.' +\n",
       "                        '<br /><br />(Interactive output not available on ' +\n",
       "                        'static notebook viewer services like nbviewer.)';\n",
       "    } else if (res.status === 409) {\n",
       "        div.innerHTML = 'Visualization no longer in scope. Re-run this cell' +\n",
       "                        ' to see the visualization.';\n",
       "    } else if (res.ok) {\n",
       "        url = res.url;\n",
       "        div.innerHTML = '<iframe src=\\'' + url + '\\' style=\\'' +\n",
       "                        'width: 100%; height: 700px; border: 0;\\'>' +\n",
       "                        '</iframe><hr />Open in a: <a href=\\'' + url + '\\'' +\n",
       "                        ' target=\\'_blank\\'>new window</a>'\n",
       "    } else {\n",
       "        div.innerHTML = 'Something has gone wrong. Check notebook server for' +\n",
       "                        ' errors.';\n",
       "    }\n",
       "});\n",
       "})(this.parentElement, '/qiime2/redirect?location=/tmp/qiime2-archive-wka6ftnq')\" src=\"data:image/gif;base64,R0lGODlhAQABAIAAAP///wAAACH5BAEAAAAALAAAAAABAAEAAAICRAEAOw==\" /></div>"
      ],
      "text/plain": [
       "<visualization: Visualization uuid: 5f691f84-dbe2-43e4-a3a6-469ea5ec8ee9>"
      ]
     },
     "execution_count": 9,
     "metadata": {},
     "output_type": "execute_result"
    }
   ],
   "source": [
    "Visualization.load(f'{delivery_dir}/pjnb-phyl-tab-vag.qzv')"
   ]
  },
  {
   "cell_type": "code",
   "execution_count": null,
   "id": "d52d1c41-3620-448b-8c6c-5b23bf377534",
   "metadata": {
    "tags": []
   },
   "outputs": [],
   "source": [
    "! qiime diversity alpha-rarefaction \\\n",
    "    --i-table $delivery_dir/pjnb-phyl-tab-vag.qza \\\n",
    "    --i-phylogeny $data_dir/reference-tree.qza \\\n",
    "    --p-max-depth 10000 \\\n",
    "    --m-metadata-file $delivery_dir/metadata_vaginal.tsv \\\n",
    "    --o-visualization $delivery_dir/alpha-rare-vag.qzv"
   ]
  },
  {
   "cell_type": "code",
   "execution_count": null,
   "id": "4e06b634-8de7-468e-8841-b239f9d101fc",
   "metadata": {
    "tags": []
   },
   "outputs": [],
   "source": [
    "Visualization.load(f'{delivery_dir}/alpha-rare-vag.qzv')"
   ]
  },
  {
   "cell_type": "code",
   "execution_count": null,
   "id": "f090b78f-cece-4048-80cd-d14a7e359f1e",
   "metadata": {},
   "outputs": [],
   "source": [
    "! qiime diversity core-metrics-phylogenetic \\\n",
    "  --i-table $delivery_dir/pjnb-phyl-tab-vag.qza \\\n",
    "  --i-phylogeny $data_dir/reference-tree.qza \\\n",
    "  --m-metadata-file $delivery_dir/metadata_vaginal.tsv \\\n",
    "  --p-sampling-depth 9000 \\\n",
    "  --output-dir $delivery_dir/core-metrics-results-vag"
   ]
  },
  {
   "cell_type": "code",
   "execution_count": null,
   "id": "b6abf28b-eb9e-4009-9f5d-f7f751850571",
   "metadata": {},
   "outputs": [],
   "source": [
    "! qiime taxa barplot \\\n",
    "    --i-table $delivery_dir/pjnb-phyl-tab-vag.qza \\\n",
    "    --i-taxonomy ../taxonomy/data/taxonomy_classification.qza \\\n",
    "    --m-metadata-file $or_dir/metadata.tsv \\\n",
    "    --o-visualization $delivery_dir/taxa-bar-plots-vag.qzv"
   ]
  },
  {
   "cell_type": "code",
   "execution_count": 10,
   "id": "f4c616d5-5368-4427-bc22-cc8e86df818b",
   "metadata": {
    "collapsed": true,
    "jupyter": {
     "outputs_hidden": true
    },
    "tags": []
   },
   "outputs": [
    {
     "data": {
      "text/html": [
       "<div><img onload=\"(function(div, url){\n",
       "if (typeof require !== 'undefined') {\n",
       "    var baseURL = require.toUrl('').split('/').slice(0, -2).join('/');\n",
       "} else {\n",
       "    var baseURL = JSON.parse(\n",
       "        document.getElementById('jupyter-config-data').innerHTML\n",
       "    ).baseUrl.slice(0, -1);\n",
       "}\n",
       "url = baseURL + url;\n",
       "fetch(url).then(function(res) {\n",
       "    if (res.status === 404) {\n",
       "        div.innerHTML = 'Install QIIME 2 Jupyter extension with:<br />' +\n",
       "                        '<code>jupyter serverextension enable --py qiime2' +\n",
       "                        ' --sys-prefix</code><br />then restart your server.' +\n",
       "                        '<br /><br />(Interactive output not available on ' +\n",
       "                        'static notebook viewer services like nbviewer.)';\n",
       "    } else if (res.status === 409) {\n",
       "        div.innerHTML = 'Visualization no longer in scope. Re-run this cell' +\n",
       "                        ' to see the visualization.';\n",
       "    } else if (res.ok) {\n",
       "        url = res.url;\n",
       "        div.innerHTML = '<iframe src=\\'' + url + '\\' style=\\'' +\n",
       "                        'width: 100%; height: 700px; border: 0;\\'>' +\n",
       "                        '</iframe><hr />Open in a: <a href=\\'' + url + '\\'' +\n",
       "                        ' target=\\'_blank\\'>new window</a>'\n",
       "    } else {\n",
       "        div.innerHTML = 'Something has gone wrong. Check notebook server for' +\n",
       "                        ' errors.';\n",
       "    }\n",
       "});\n",
       "})(this.parentElement, '/qiime2/redirect?location=/tmp/qiime2-archive-xvykc37l')\" src=\"data:image/gif;base64,R0lGODlhAQABAIAAAP///wAAACH5BAEAAAAALAAAAAABAAEAAAICRAEAOw==\" /></div>"
      ],
      "text/plain": [
       "<visualization: Visualization uuid: 95c9aa02-633a-47f5-babf-0661a861c827>"
      ]
     },
     "execution_count": 10,
     "metadata": {},
     "output_type": "execute_result"
    }
   ],
   "source": [
    "Visualization.load(f'{delivery_dir}/taxa-bar-plots-vag.qzv')"
   ]
  },
  {
   "cell_type": "code",
   "execution_count": null,
   "id": "100af787-264c-45c9-bf25-1574062fc16a",
   "metadata": {},
   "outputs": [],
   "source": [
    "! qiime taxa collapse \\\n",
    "    --i-table $delivery_dir/pjnb-phyl-tab-vag.qza \\\n",
    "    --i-taxonomy ../taxonomy/data/taxonomy_classification.qza \\\n",
    "    --p-level 6 \\\n",
    "    --o-collapsed-table $data_dir/table_abund_l6-vag.qza"
   ]
  },
  {
   "cell_type": "code",
   "execution_count": null,
   "id": "a5683420-a1e8-4ced-a70f-bf901b593842",
   "metadata": {},
   "outputs": [],
   "source": [
    "! qiime taxa barplot \\\n",
    "    --i-table $delivery_dir/pjnb-phyl-tab-vag.qza \\\n",
    "    --i-taxonomy ../taxonomy/data/taxonomy_classification.qza \\\n",
    "    --m-metadata-file $or_dir/metadata.tsv \\\n",
    "    --o-visualization $delivery_dir/taxa-bar-plots-l6-vag.qzv"
   ]
  },
  {
   "cell_type": "code",
   "execution_count": null,
   "id": "054663cd-06bc-4f72-bfc9-fc58bd782796",
   "metadata": {},
   "outputs": [],
   "source": [
    "Visualization.load(f'{delivery_dir}/taxa-bar-plots-vag.qzv')"
   ]
  },
  {
   "cell_type": "markdown",
   "id": "1e73b32c-d2f6-4b61-a7b6-7a060496e6b5",
   "metadata": {},
   "source": [
    "### Cesarean delivery"
   ]
  },
  {
   "cell_type": "code",
   "execution_count": null,
   "id": "7ba1a608-0d11-43c2-a280-62637f8bd26d",
   "metadata": {},
   "outputs": [],
   "source": [
    "! qiime feature-table filter-samples \\\n",
    "    --i-table $data_dir/phylogeny_filtered_table.qza \\\n",
    "    --m-metadata-file $delivery_dir/metadata_cesarean.tsv \\\n",
    "    --o-filtered-table $delivery_dir/pjnb-phyl-tab-ces.qza"
   ]
  },
  {
   "cell_type": "code",
   "execution_count": null,
   "id": "95280bca-b4bd-4491-aa09-752b8c9bd4f4",
   "metadata": {},
   "outputs": [],
   "source": [
    "! qiime feature-table summarize \\\n",
    "  --i-table $delivery_dir/pjnb-phyl-tab-ces.qza \\\n",
    "  --m-sample-metadata-file $delivery_dir/metadata_cesarean.tsv \\\n",
    "  --o-visualization $delivery_dir/pjnb-phyl-tab-ces.qzv"
   ]
  },
  {
   "cell_type": "code",
   "execution_count": null,
   "id": "612a7dca-e7e6-4c4a-8945-1296c5908f0b",
   "metadata": {
    "tags": []
   },
   "outputs": [],
   "source": [
    "Visualization.load(f'{delivery_dir}/pjnb-phyl-tab-ces.qzv')"
   ]
  },
  {
   "cell_type": "code",
   "execution_count": null,
   "id": "cb794a46-173c-476b-adfc-52f58ccbf8d1",
   "metadata": {
    "tags": []
   },
   "outputs": [],
   "source": [
    "! qiime diversity alpha-rarefaction \\\n",
    "    --i-table $delivery_dir/pjnb-phyl-tab-ces.qza \\\n",
    "    --i-phylogeny $data_dir/reference-tree.qza \\\n",
    "    --p-max-depth 10000 \\\n",
    "    --m-metadata-file $delivery_dir/metadata_cesarean.tsv \\\n",
    "    --o-visualization $delivery_dir/alpha-rare-ces.qzv"
   ]
  },
  {
   "cell_type": "code",
   "execution_count": null,
   "id": "59ca9c0e-5af5-40c2-b911-9503f28a5821",
   "metadata": {
    "tags": []
   },
   "outputs": [],
   "source": [
    "Visualization.load(f'{delivery_dir}/alpha-rare-ces.qzv')"
   ]
  },
  {
   "cell_type": "code",
   "execution_count": null,
   "id": "392a0852-1caf-4a29-8007-dde2f82a119b",
   "metadata": {},
   "outputs": [],
   "source": [
    "! qiime diversity core-metrics-phylogenetic \\\n",
    "  --i-table $delivery_dir/pjnb-phyl-tab-ces.qza \\\n",
    "  --i-phylogeny $data_dir/reference-tree.qza \\\n",
    "  --m-metadata-file $delivery_dir/metadata_cesarean.tsv \\\n",
    "  --p-sampling-depth 9000 \\\n",
    "  --output-dir $delivery_dir/core-metrics-results-ces"
   ]
  },
  {
   "cell_type": "code",
   "execution_count": null,
   "id": "0ee69706-c016-4d39-b0f3-7c109027eb83",
   "metadata": {},
   "outputs": [],
   "source": [
    "! qiime taxa barplot \\\n",
    "    --i-table $delivery_dir/pjnb-phyl-tab-ces.qza \\\n",
    "    --i-taxonomy ../taxonomy/data/taxonomy_classification.qza \\\n",
    "    --m-metadata-file $or_dir/metadata.tsv \\\n",
    "    --o-visualization $delivery_dir/taxa-bar-plots-ces.qzv"
   ]
  },
  {
   "cell_type": "code",
   "execution_count": 11,
   "id": "6e44fac8-592a-4c5d-8f16-a439fedd7d2c",
   "metadata": {
    "collapsed": true,
    "jupyter": {
     "outputs_hidden": true
    },
    "tags": []
   },
   "outputs": [
    {
     "data": {
      "text/html": [
       "<div><img onload=\"(function(div, url){\n",
       "if (typeof require !== 'undefined') {\n",
       "    var baseURL = require.toUrl('').split('/').slice(0, -2).join('/');\n",
       "} else {\n",
       "    var baseURL = JSON.parse(\n",
       "        document.getElementById('jupyter-config-data').innerHTML\n",
       "    ).baseUrl.slice(0, -1);\n",
       "}\n",
       "url = baseURL + url;\n",
       "fetch(url).then(function(res) {\n",
       "    if (res.status === 404) {\n",
       "        div.innerHTML = 'Install QIIME 2 Jupyter extension with:<br />' +\n",
       "                        '<code>jupyter serverextension enable --py qiime2' +\n",
       "                        ' --sys-prefix</code><br />then restart your server.' +\n",
       "                        '<br /><br />(Interactive output not available on ' +\n",
       "                        'static notebook viewer services like nbviewer.)';\n",
       "    } else if (res.status === 409) {\n",
       "        div.innerHTML = 'Visualization no longer in scope. Re-run this cell' +\n",
       "                        ' to see the visualization.';\n",
       "    } else if (res.ok) {\n",
       "        url = res.url;\n",
       "        div.innerHTML = '<iframe src=\\'' + url + '\\' style=\\'' +\n",
       "                        'width: 100%; height: 700px; border: 0;\\'>' +\n",
       "                        '</iframe><hr />Open in a: <a href=\\'' + url + '\\'' +\n",
       "                        ' target=\\'_blank\\'>new window</a>'\n",
       "    } else {\n",
       "        div.innerHTML = 'Something has gone wrong. Check notebook server for' +\n",
       "                        ' errors.';\n",
       "    }\n",
       "});\n",
       "})(this.parentElement, '/qiime2/redirect?location=/tmp/qiime2-archive-v29j3116')\" src=\"data:image/gif;base64,R0lGODlhAQABAIAAAP///wAAACH5BAEAAAAALAAAAAABAAEAAAICRAEAOw==\" /></div>"
      ],
      "text/plain": [
       "<visualization: Visualization uuid: 80933cbe-b1a8-4d20-8b97-d884699439fd>"
      ]
     },
     "execution_count": 11,
     "metadata": {},
     "output_type": "execute_result"
    }
   ],
   "source": [
    "Visualization.load(f'{delivery_dir}/taxa-bar-plots-ces.qzv')"
   ]
  },
  {
   "cell_type": "markdown",
   "id": "f45c53e6-83a9-4f44-a645-a924e10c87c4",
   "metadata": {},
   "source": [
    "### Emergency cesarean delivery"
   ]
  },
  {
   "cell_type": "code",
   "execution_count": null,
   "id": "ad723014-3c9d-4a02-956b-8dda94b75dda",
   "metadata": {},
   "outputs": [],
   "source": [
    "! qiime feature-table filter-samples \\\n",
    "    --i-table $date_dir/phylogeny_filtered_table.qza \\\n",
    "    --m-metadata-file $delivery_dir/metadata_emergency_cesarean.tsv \\\n",
    "    --o-filtered-table $delivery_dir/pjnb-phyl-tab-eces.qza"
   ]
  },
  {
   "cell_type": "code",
   "execution_count": null,
   "id": "2416402c-faff-41a2-8d03-4426dd080670",
   "metadata": {},
   "outputs": [],
   "source": [
    "! qiime feature-table summarize \\\n",
    "  --i-table $delivery_dir/pjnb-phyl-tab-eces.qza \\\n",
    "  --m-sample-metadata-file $delivery_dir/metadata_emergency_cesarean.tsv \\\n",
    "  --o-visualization $delivery_dir/pjnb-phyl-tab-eces.qzv"
   ]
  },
  {
   "cell_type": "code",
   "execution_count": null,
   "id": "d0868582-a896-4a57-8b48-66a1c8a67e34",
   "metadata": {
    "tags": []
   },
   "outputs": [],
   "source": [
    "Visualization.load(f'{delivery_dir}/pjnb-phyl-tab-eces.qzv')"
   ]
  },
  {
   "cell_type": "code",
   "execution_count": null,
   "id": "0a015858-94de-44e2-bbd6-22d46ce15cb8",
   "metadata": {
    "tags": []
   },
   "outputs": [],
   "source": [
    "! qiime diversity alpha-rarefaction \\\n",
    "    --i-table $delivery_dir/pjnb-phyl-tab-eces.qza \\\n",
    "    --i-phylogeny $data_dir/reference-tree.qza \\\n",
    "    --p-max-depth 10000 \\\n",
    "    --m-metadata-file $delivery_dir/metadata_emergency_cesarean.tsv \\\n",
    "    --o-visualization $delivery_dir/alpha-rare-eces.qzv"
   ]
  },
  {
   "cell_type": "code",
   "execution_count": null,
   "id": "9f3b2840-a763-4b2e-9722-28b96598ef3e",
   "metadata": {
    "tags": []
   },
   "outputs": [],
   "source": [
    "Visualization.load(f'{delivery_dir}/alpha-rare-eces.qzv')"
   ]
  },
  {
   "cell_type": "code",
   "execution_count": null,
   "id": "0ef94433-4ad4-4696-a80c-5b01fd1e4810",
   "metadata": {},
   "outputs": [],
   "source": [
    "! qiime diversity core-metrics-phylogenetic \\\n",
    "  --i-table $delivery_dir/pjnb-phyl-tab-eces.qza \\\n",
    "  --i-phylogeny $data_dir/reference-tree.qza \\\n",
    "  --m-metadata-file $delivery_dir/metadata_emergency_cesarean.tsv \\\n",
    "  --p-sampling-depth 9000 \\\n",
    "  --output-dir $delivery_dir/core-metrics-results-eces"
   ]
  },
  {
   "cell_type": "code",
   "execution_count": null,
   "id": "e4f94fdc-3519-47d3-bb76-5df0807f8a9c",
   "metadata": {},
   "outputs": [],
   "source": [
    "! qiime taxa barplot \\\n",
    "    --i-table $delivery_dir/pjnb-phyl-tab-eces.qza \\\n",
    "    --i-taxonomy ../taxonomy/data/taxonomy_classification.qza \\\n",
    "    --m-metadata-file $or_dir/metadata.tsv \\\n",
    "    --o-visualization $delivery_dir/taxa-bar-plots-eces.qzv"
   ]
  },
  {
   "cell_type": "code",
   "execution_count": null,
   "id": "9c0a9b92-4baf-42cf-bf3f-12c15f516c7a",
   "metadata": {},
   "outputs": [],
   "source": [
    "Visualization.load(f'{delivery_dir}/taxa-bar-plots-eces.qzv')"
   ]
  },
  {
   "cell_type": "markdown",
   "id": "cf823f0c-ff24-4cac-bc05-c04909e5237c",
   "metadata": {},
   "source": [
    "## Differential abundance in vaginal vs. cesarean delivery\n",
    "The differential abundance is tested using an ANCOM test on data filtered for Vaginal and Cesarean delivery mode."
   ]
  },
  {
   "cell_type": "code",
   "execution_count": null,
   "id": "72fd3e99-4b9d-41c4-8ab7-7cc35a48e975",
   "metadata": {},
   "outputs": [],
   "source": [
    "! qiime feature-table filter-samples \\\n",
    "    --i-table $data_dir/phylogeny_filtered_table.qza \\\n",
    "    --m-metadata-file $or_dir/metadata.tsv \\\n",
    "    --p-where \"[delivery_mode]='Vaginal' or [delivery_mode]='Cesarean'\" \\\n",
    "    --o-filtered-table $delivery_dir/pjnb-phyl-tab-vag-ces.qza"
   ]
  },
  {
   "cell_type": "code",
   "execution_count": null,
   "id": "61763b87-6d5e-4d4b-8227-99622fae248b",
   "metadata": {},
   "outputs": [],
   "source": [
    "! qiime composition add-pseudocount \\\n",
    "    --i-table $delivery_dir/pjnb-phyl-tab-vag-ces.qza \\\n",
    "    --o-composition-table $delivery_dir/pjnb-phyl-tab-vag-ces-comp.qza"
   ]
  },
  {
   "cell_type": "code",
   "execution_count": null,
   "id": "e32183d8-7da1-4a46-a587-0b461d52289a",
   "metadata": {},
   "outputs": [],
   "source": [
    "! qiime composition ancom \\\n",
    "    --i-table $delivery_dir/pjnb-phyl-tab-vag-ces-comp.qza \\\n",
    "    --m-metadata-file $or_dir/metadata.tsv \\\n",
    "    --m-metadata-column delivery_mode \\\n",
    "    --p-transform-function log \\\n",
    "    --o-visualization $delivery_dir/ancom_delivery_mode.qzv"
   ]
  },
  {
   "cell_type": "code",
   "execution_count": null,
   "id": "78ae773e-6b66-4873-b92d-6648498b6eb5",
   "metadata": {
    "tags": []
   },
   "outputs": [],
   "source": [
    "Visualization.load(f'{delivery_dir}/ancom_delivery_mode.qzv')"
   ]
  },
  {
   "cell_type": "markdown",
   "id": "d7c848c4-276e-4be1-ab85-add1aa23afa6",
   "metadata": {},
   "source": [
    "### Differential abundance in cesarean vs. emergency cesarean delivery\n",
    "Out of curiosity the difference between Cesarean and emergency Cesarean was explored."
   ]
  },
  {
   "cell_type": "code",
   "execution_count": null,
   "id": "1422e153-8e47-47e1-90b7-7e4c60fa7c0e",
   "metadata": {},
   "outputs": [],
   "source": [
    "! qiime feature-table filter-samples \\\n",
    "    --i-table $data_dir/phylogeny_filtered_table.qza \\\n",
    "    --m-metadata-file $or_dir/metadata.tsv \\\n",
    "    --p-where \"[delivery_mode]='Cesarean' or [delivery_mode]='Cesarean_emergency'\" \\\n",
    "    --o-filtered-table $delivery_dir/pjnb-phyl-tab-ces-eces.qza"
   ]
  },
  {
   "cell_type": "code",
   "execution_count": null,
   "id": "d2abae70-cc54-4c36-aea0-250231fcb11b",
   "metadata": {},
   "outputs": [],
   "source": [
    "! qiime composition add-pseudocount \\\n",
    "    --i-table $delivery_dir/pjnb-phyl-tab-ces-eces.qza \\\n",
    "    --o-composition-table $delivery_dir/pjnb-phyl-tab-ces-eces-comp.qza"
   ]
  },
  {
   "cell_type": "code",
   "execution_count": null,
   "id": "e7d6d7e7-a30c-4fe2-bbbd-a7dcf06ab385",
   "metadata": {},
   "outputs": [],
   "source": [
    "! qiime composition ancom \\\n",
    "    --i-table $delivery_dir/pjnb-phyl-tab-ces-eces-comp.qza \\\n",
    "    --m-metadata-file $or_dir/metadata.tsv \\\n",
    "    --m-metadata-column delivery_mode \\\n",
    "    --p-transform-function log \\\n",
    "    --o-visualization $delivery_dir/ancom_delivery_mode_ces_eces.qzv"
   ]
  },
  {
   "cell_type": "code",
   "execution_count": null,
   "id": "51b0a97d-d4d9-4b81-bc4e-630c10f8ee94",
   "metadata": {},
   "outputs": [],
   "source": [
    "Visualization.load(f'{delivery_dir}/ancom_delivery_mode_ces_eces.qzv')"
   ]
  },
  {
   "cell_type": "markdown",
   "id": "4fb5f021-a569-4d43-9b47-79c4e95c3caf",
   "metadata": {},
   "source": [
    "# Data display\n",
    "The taxonomic classification is collapsed, filtered to remove in a first step very low abundand features and exported to a dataframe. The dataframe was then filtered to only contain the features with 1 or more percent overall abundance. These features are then normalized to contain the relative abundance. \\\n",
    "For the Vulcano plots the ANCOM tables are extracted, merged and then plotted to best display the result."
   ]
  },
  {
   "cell_type": "code",
   "execution_count": null,
   "id": "86b806ff-7879-4f0f-8836-941819298dda",
   "metadata": {},
   "outputs": [],
   "source": [
    "! qiime taxa collapse \\\n",
    "    --i-table ../taxonomy/data/PJNB_dada2_table-filtered.qza \\\n",
    "    --i-taxonomy ../taxonomy/data/taxonomy_classification.qza \\\n",
    "    --p-level 6 \\\n",
    "    --o-collapsed-table $delivery_dir/taxonomyl6.qza"
   ]
  },
  {
   "cell_type": "code",
   "execution_count": null,
   "id": "b8ffac8a-4783-4f50-adc9-753e0a8022b5",
   "metadata": {},
   "outputs": [],
   "source": [
    "! qiime taxa filter-table \\\n",
    "    --i-table ../taxonomy/data/PJNB_dada2_table-filtered.qza \\\n",
    "    --i-taxonomy ../taxonomy/data/taxonomy_classification.qza \\\n",
    "    --p-mode contains \\\n",
    "    --p-include g__ \\\n",
    "    --p-exclude 'g__;,Chloroplast,Mitochondria' \\\n",
    "    --o-filtered-table $delivery_dir/filtered-table-ex.qza"
   ]
  },
  {
   "cell_type": "code",
   "execution_count": null,
   "id": "fb1a3f98-b20e-4d4b-ae7e-25e429b4b4c0",
   "metadata": {
    "tags": []
   },
   "outputs": [],
   "source": [
    "! qiime feature-table filter-samples \\\n",
    "    --i-table $delivery_dir/filtered-table-ex.qza \\\n",
    "    --p-min-frequency 10000 \\\n",
    "    --o-filtered-table $delivery_dir/filtered-table-freq.qza"
   ]
  },
  {
   "cell_type": "code",
   "execution_count": null,
   "id": "c8a96de7-9179-4b27-8e5d-c619233a5e14",
   "metadata": {},
   "outputs": [],
   "source": [
    "! qiime tools extract \\\n",
    "    --input-path $delivery_dir/taxa-bar-plots-filtered-l6.qzv \\\n",
    "    --output-path $delivery_dir/extracted-taxa-bar-filtered-l6"
   ]
  },
  {
   "cell_type": "code",
   "execution_count": null,
   "id": "cc8cea7e-1534-4460-a2f8-58f54a668075",
   "metadata": {
    "tags": []
   },
   "outputs": [],
   "source": [
    "taxonomyl6 = pd.read_csv(f'{delivery_dir}/extracted-taxa-bar-filtered-l6/39a96d1a-6370-42c7-bc21-74455818f78f/data/level-6.csv', sep=',')\n",
    "onlytax = taxonomyl6.loc[ : , [col for col in taxonomyl6.columns if 'k__Bacteria' in col]]\n",
    "frequency = onlytax.sum()\n",
    "total = frequency.sum()\n",
    "over1percentfreq = onlytax.loc[ : , [((onlytax[col].sum()/total) >= 0.01) for col in onlytax.columns]]\n",
    "over1percentfreq"
   ]
  },
  {
   "cell_type": "markdown",
   "id": "744fda4f-6588-4f7a-92f7-045e2293b9f9",
   "metadata": {},
   "source": [
    "## Overall taxonomy\n",
    "The change of taxonomic composition over age in month is displayed for qualitative analysis. "
   ]
  },
  {
   "cell_type": "code",
   "execution_count": null,
   "id": "417df02a-62d3-4c28-9608-0992930dcff1",
   "metadata": {
    "tags": []
   },
   "outputs": [],
   "source": [
    "most_abundant = onlytax.loc[ : , [((onlytax[col].sum()/total) >= 0.01) for col in onlytax.columns]]\n",
    "most_abundant_I = over1percentfreq.columns\n",
    "most_abundant_l = most_abundant_I.tolist()\n",
    "metadatacol = ['delivery_mode', 'diet_weaning', 'age_months', 'zygosity', 'diet_milk']\n",
    "most_abundant_l.extend(metadatacol)\n",
    "tax_age_l = most_abundant_I.tolist()\n",
    "tax_age_l.append('age_months')\n",
    "tax_age = taxonomyl6.loc[ : , [col for col in taxonomyl6.columns if col in tax_age_l]]\n",
    "taxperagemean = tax_age.groupby(['age_months'])[most_abundant.columns.tolist()].mean()"
   ]
  },
  {
   "cell_type": "code",
   "execution_count": null,
   "id": "b29720f7-3a8a-4b52-92c3-866b2bd1fcdb",
   "metadata": {},
   "outputs": [],
   "source": [
    "taxperagemean.rename(columns = {'k__Bacteria;p__Firmicutes;c__Clostridia;o__Clostridiales;f__Ruminococcaceae;g__Ruminococcus':'Firmicutes|Clostridia|Clostridiales|Ruminococcaceae|Ruminococcus',\n",
    "                               'k__Bacteria;p__Firmicutes;c__Clostridia;o__Clostridiales;f__Lachnospiraceae;g__Blautia':'Firmicutes|Clostridia|Clostridiales|Lachnospiraceae|Blautia',\n",
    "                               'k__Bacteria;p__Firmicutes;c__Clostridia;o__Clostridiales;f__Lachnospiraceae;g__Clostridium':'Firmicutes|Clostridia|Clostridiales|Lachnospiraceae|Clostridium',\n",
    "                               'k__Bacteria;p__Bacteroidetes;c__Bacteroidia;o__Bacteroidales;f__Prevotellaceae;g__Prevotella':'Bacteroidetes|Bacteroidia|Bacteroidales|Prevotellaceae|Prevotella',\n",
    "                               'k__Bacteria;p__Firmicutes;c__Clostridia;o__Clostridiales;f__Lachnospiraceae;g__[Ruminococcus]':'Firmicutes|Clostridia|Clostridiales|Lachnospiraceae|[Ruminococcus]',\n",
    "                               'k__Bacteria;p__Firmicutes;c__Clostridia;o__Clostridiales;f__Clostridiaceae;g__Clostridium':'Firmicutes|Clostridia|Clostridiales|Clostridiaceae|Clostridium',\n",
    "                               'k__Bacteria;p__Firmicutes;c__Clostridia;o__Clostridiales;f__Ruminococcaceae;g__Faecalibacterium':'Firmicutes|Clostridia|Clostridiales|Ruminococcaceae|Faecalibacterium',\n",
    "                               'k__Bacteria;p__Firmicutes;c__Bacilli;o__Lactobacillales;f__Streptococcaceae;g__Streptococcus':'Firmicutes|Bacilli|Lactobacillales|Streptococcaceae|Streptococcus',\n",
    "                               'k__Bacteria;p__Firmicutes;c__Clostridia;o__Clostridiales;f__Lachnospiraceae;g__Coprococcus':'Firmicutes|Clostridia|Clostridiales|Lachnospiraceae|Coprococcus',\n",
    "                               'k__Bacteria;p__Firmicutes;c__Clostridia;o__Clostridiales;f__Lachnospiraceae;g__Roseburia':'Firmicutes|Clostridia|Clostridiales|Lachnospiraceae|Roseburia',\n",
    "                               'k__Bacteria;p__Firmicutes;c__Clostridia;o__Clostridiales;f__Lachnospiraceae;g__Lachnospira':'Firmicutes|Clostridia|Clostridiales|Lachnospiraceae|Lachnospira',\n",
    "                               'k__Bacteria;p__Firmicutes;c__Clostridia;o__Clostridiales;f__Lachnospiraceae;g__Dorea':'Firmicutes|Clostridia|Clostridiales|Lachnospiraceae|Dorea',\n",
    "                               'k__Bacteria;p__Bacteroidetes;c__Bacteroidia;o__Bacteroidales;f__Bacteroidaceae;g__Bacteroides':'Bacteroidetes|Bacteroidia|Bacteroidales|Bacteroidaceae|Bacteroides',\n",
    "                               'k__Bacteria;p__Actinobacteria;c__Actinobacteria;o__Bifidobacteriales;f__Bifidobacteriaceae;g__Bifidobacterium':'Actinobacteria|Actinobacteria|Bifidobacteriales|Bifidobacteriaceae|Bifidobacterium'}, \n",
    "                     inplace = True)"
   ]
  },
  {
   "cell_type": "code",
   "execution_count": null,
   "id": "1f7076c0-b786-4705-93b5-cf54f44d0475",
   "metadata": {
    "tags": []
   },
   "outputs": [],
   "source": [
    "taxperagemean_rel = taxperagemean.div(taxperagemean.sum(axis=1), axis=0)\n",
    "\n",
    "sns.set(rc={'figure.figsize': (10, 5), 'font.family': ['Helvetica']}, style='white', palette=\"tab20c\")\n",
    "with sns.plotting_context(\"notebook\", font_scale=1):\n",
    "    # matplotlib's bar plot\n",
    "    ax = taxperagemean_rel.plot(kind='bar', stacked=True, width=0.9)\n",
    "    \n",
    "    # matplotlib's customization\n",
    "    ax.set_xlabel('Month of life')\n",
    "    ax.set_ylabel('')\n",
    "    ax.set_xlim(0.5,30.5)\n",
    "    \n",
    "    \n",
    "    handles, labels = ax.get_legend_handles_labels()\n",
    "    #specify order of items in legend\n",
    "    order = [13, 12, 3, 7, 1, 2, 8, 11, 10, 9, 4, 6, 0, 5]\n",
    "    #add legend to plot\n",
    "    ax.legend([handles[idx] for idx in order],[labels[idx] for idx in order], loc='center left', bbox_to_anchor=(1, 0.5))\n",
    "    legend = ax.get_legend()\n",
    "    \n",
    "    xlabels = ax.get_xticklabels()\n",
    "    xlabels = [l.get_text().replace('.0', '') for l in xlabels]\n",
    "    ax.set_xticklabels(xlabels, rotation=0)\n",
    "plt.savefig(f'{figure_dir}/RelativeAbundAll-c.png', bbox_inches='tight', dpi=600)"
   ]
  },
  {
   "cell_type": "markdown",
   "id": "b1da97c5-b932-4dd8-ac36-a58664a576c8",
   "metadata": {},
   "source": [
    "## Delivery and milk Diet\n",
    "The qualitative interplay between dilivery mode and "
   ]
  },
  {
   "cell_type": "code",
   "execution_count": null,
   "id": "643f3e91-ddd6-423f-a2c4-20243edbebe4",
   "metadata": {},
   "outputs": [],
   "source": [
    "taxmetfilt = taxonomyl6.loc[ : , [col for col in taxonomyl6.columns if col in most_abundant_l]]\n",
    "tax_ces_bd = taxmetfilt[(taxmetfilt.diet_milk == 'bd') & (taxmetfilt.delivery_mode == 'Cesarean')]\n",
    "tax_ces_fd = taxmetfilt[(taxmetfilt.diet_milk == 'fd') & (taxmetfilt.delivery_mode == 'Cesarean')]\n",
    "tax_vag_bd = taxmetfilt[(taxmetfilt.diet_milk == 'bd') & (taxmetfilt.delivery_mode == 'Vaginal')]\n",
    "tax_vag_fd = taxmetfilt[(taxmetfilt.diet_milk == 'fd') & (taxmetfilt.delivery_mode == 'Vaginal')]"
   ]
  },
  {
   "cell_type": "code",
   "execution_count": null,
   "id": "97f9be88-4e13-4c15-b21d-507e9174521f",
   "metadata": {},
   "outputs": [],
   "source": [
    "taxmetfilt"
   ]
  },
  {
   "cell_type": "code",
   "execution_count": null,
   "id": "cc119953-97a7-4042-8f31-44a5a41ea74a",
   "metadata": {},
   "outputs": [],
   "source": [
    "most_abundant_l2 = most_abundant.columns.tolist()\n",
    "most_abundant_l2.append('age_months')"
   ]
  },
  {
   "cell_type": "code",
   "execution_count": null,
   "id": "f480d29e-9cb9-4c74-957d-96426440f9e9",
   "metadata": {},
   "outputs": [],
   "source": [
    "tax_ces_bd_mean = tax_ces_bd.groupby(['age_months'])[most_abundant_l2].mean()\n",
    "tax_ces_bd_mean.rename(columns = {'k__Bacteria;p__Firmicutes;c__Clostridia;o__Clostridiales;f__Ruminococcaceae;g__Ruminococcus':'Firmicutes|Clostridia|Clostridiales|Ruminococcaceae|Ruminococcus',\n",
    "                               'k__Bacteria;p__Firmicutes;c__Clostridia;o__Clostridiales;f__Lachnospiraceae;g__Blautia':'Firmicutes|Clostridia|Clostridiales|Lachnospiraceae|Blautia',\n",
    "                               'k__Bacteria;p__Firmicutes;c__Clostridia;o__Clostridiales;f__Lachnospiraceae;g__Clostridium':'Firmicutes|Clostridia|Clostridiales|Lachnospiraceae|Clostridium',\n",
    "                               'k__Bacteria;p__Bacteroidetes;c__Bacteroidia;o__Bacteroidales;f__Prevotellaceae;g__Prevotella':'Bacteroidetes|Bacteroidia|Bacteroidales|Prevotellaceae|Prevotella',\n",
    "                               'k__Bacteria;p__Firmicutes;c__Clostridia;o__Clostridiales;f__Lachnospiraceae;g__[Ruminococcus]':'Firmicutes|Clostridia|Clostridiales|Lachnospiraceae|[Ruminococcus]',\n",
    "                               'k__Bacteria;p__Firmicutes;c__Clostridia;o__Clostridiales;f__Clostridiaceae;g__Clostridium':'Firmicutes|Clostridia|Clostridiales|Clostridiaceae|Clostridium',\n",
    "                               'k__Bacteria;p__Firmicutes;c__Clostridia;o__Clostridiales;f__Ruminococcaceae;g__Faecalibacterium':'Firmicutes|Clostridia|Clostridiales|Ruminococcaceae|Faecalibacterium',\n",
    "                               'k__Bacteria;p__Firmicutes;c__Bacilli;o__Lactobacillales;f__Streptococcaceae;g__Streptococcus':'Firmicutes|Bacilli|Lactobacillales|Streptococcaceae|Streptococcus',\n",
    "                               'k__Bacteria;p__Firmicutes;c__Clostridia;o__Clostridiales;f__Lachnospiraceae;g__Coprococcus':'Firmicutes|Clostridia|Clostridiales|Lachnospiraceae|Coprococcus',\n",
    "                               'k__Bacteria;p__Firmicutes;c__Clostridia;o__Clostridiales;f__Lachnospiraceae;g__Roseburia':'Firmicutes|Clostridia|Clostridiales|Lachnospiraceae|Roseburia',\n",
    "                               'k__Bacteria;p__Firmicutes;c__Clostridia;o__Clostridiales;f__Lachnospiraceae;g__Lachnospira':'Firmicutes|Clostridia|Clostridiales|Lachnospiraceae|Lachnospira',\n",
    "                               'k__Bacteria;p__Firmicutes;c__Clostridia;o__Clostridiales;f__Lachnospiraceae;g__Dorea':'Firmicutes|Clostridia|Clostridiales|Lachnospiraceae|Dorea',\n",
    "                               'k__Bacteria;p__Bacteroidetes;c__Bacteroidia;o__Bacteroidales;f__Bacteroidaceae;g__Bacteroides':'Bacteroidetes|Bacteroidia|Bacteroidales|Bacteroidaceae|Bacteroides',\n",
    "                               'k__Bacteria;p__Actinobacteria;c__Actinobacteria;o__Bifidobacteriales;f__Bifidobacteriaceae;g__Bifidobacterium':'Actinobacteria|Actinobacteria|Bifidobacteriales|Bifidobacteriaceae|Bifidobacterium'}, \n",
    "                     inplace = True)\n",
    "tax_ces_bd_mean_rel = tax_ces_bd_mean.div(tax_ces_bd_mean.sum(axis=1), axis=0)\n",
    "\n",
    "tax_ces_fd_mean = tax_ces_fd.groupby(['age_months'])[most_abundant_l2].mean()\n",
    "tax_ces_fd_mean.rename(columns = {'k__Bacteria;p__Firmicutes;c__Clostridia;o__Clostridiales;f__Ruminococcaceae;g__Ruminococcus':'Firmicutes|Clostridia|Clostridiales|Ruminococcaceae|Ruminococcus',\n",
    "                               'k__Bacteria;p__Firmicutes;c__Clostridia;o__Clostridiales;f__Lachnospiraceae;g__Blautia':'Firmicutes|Clostridia|Clostridiales|Lachnospiraceae|Blautia',\n",
    "                               'k__Bacteria;p__Firmicutes;c__Clostridia;o__Clostridiales;f__Lachnospiraceae;g__Clostridium':'Firmicutes|Clostridia|Clostridiales|Lachnospiraceae|Clostridium',\n",
    "                               'k__Bacteria;p__Bacteroidetes;c__Bacteroidia;o__Bacteroidales;f__Prevotellaceae;g__Prevotella':'Bacteroidetes|Bacteroidia|Bacteroidales|Prevotellaceae|Prevotella',\n",
    "                               'k__Bacteria;p__Firmicutes;c__Clostridia;o__Clostridiales;f__Lachnospiraceae;g__[Ruminococcus]':'Firmicutes|Clostridia|Clostridiales|Lachnospiraceae|[Ruminococcus]',\n",
    "                               'k__Bacteria;p__Firmicutes;c__Clostridia;o__Clostridiales;f__Clostridiaceae;g__Clostridium':'Firmicutes|Clostridia|Clostridiales|Clostridiaceae|Clostridium',\n",
    "                               'k__Bacteria;p__Firmicutes;c__Clostridia;o__Clostridiales;f__Ruminococcaceae;g__Faecalibacterium':'Firmicutes|Clostridia|Clostridiales|Ruminococcaceae|Faecalibacterium',\n",
    "                               'k__Bacteria;p__Firmicutes;c__Bacilli;o__Lactobacillales;f__Streptococcaceae;g__Streptococcus':'Firmicutes|Bacilli|Lactobacillales|Streptococcaceae|Streptococcus',\n",
    "                               'k__Bacteria;p__Firmicutes;c__Clostridia;o__Clostridiales;f__Lachnospiraceae;g__Coprococcus':'Firmicutes|Clostridia|Clostridiales|Lachnospiraceae|Coprococcus',\n",
    "                               'k__Bacteria;p__Firmicutes;c__Clostridia;o__Clostridiales;f__Lachnospiraceae;g__Roseburia':'Firmicutes|Clostridia|Clostridiales|Lachnospiraceae|Roseburia',\n",
    "                               'k__Bacteria;p__Firmicutes;c__Clostridia;o__Clostridiales;f__Lachnospiraceae;g__Lachnospira':'Firmicutes|Clostridia|Clostridiales|Lachnospiraceae|Lachnospira',\n",
    "                               'k__Bacteria;p__Firmicutes;c__Clostridia;o__Clostridiales;f__Lachnospiraceae;g__Dorea':'Firmicutes|Clostridia|Clostridiales|Lachnospiraceae|Dorea',\n",
    "                               'k__Bacteria;p__Bacteroidetes;c__Bacteroidia;o__Bacteroidales;f__Bacteroidaceae;g__Bacteroides':'Bacteroidetes|Bacteroidia|Bacteroidales|Bacteroidaceae|Bacteroides',\n",
    "                               'k__Bacteria;p__Actinobacteria;c__Actinobacteria;o__Bifidobacteriales;f__Bifidobacteriaceae;g__Bifidobacterium':'Actinobacteria|Actinobacteria|Bifidobacteriales|Bifidobacteriaceae|Bifidobacterium'}, \n",
    "                     inplace = True)\n",
    "tax_ces_fd_mean_rel = tax_ces_fd.div(tax_ces_fd_mean.sum(axis=1), axis=0)\n",
    "\n",
    "tax_vag_bd_mean = tax_vag_bd.groupby(['age_months'])[most_abundant_l2].mean()\n",
    "tax_vag_bd_mean.rename(columns = {'k__Bacteria;p__Firmicutes;c__Clostridia;o__Clostridiales;f__Ruminococcaceae;g__Ruminococcus':'Firmicutes|Clostridia|Clostridiales|Ruminococcaceae|Ruminococcus',\n",
    "                               'k__Bacteria;p__Firmicutes;c__Clostridia;o__Clostridiales;f__Lachnospiraceae;g__Blautia':'Firmicutes|Clostridia|Clostridiales|Lachnospiraceae|Blautia',\n",
    "                               'k__Bacteria;p__Firmicutes;c__Clostridia;o__Clostridiales;f__Lachnospiraceae;g__Clostridium':'Firmicutes|Clostridia|Clostridiales|Lachnospiraceae|Clostridium',\n",
    "                               'k__Bacteria;p__Bacteroidetes;c__Bacteroidia;o__Bacteroidales;f__Prevotellaceae;g__Prevotella':'Bacteroidetes|Bacteroidia|Bacteroidales|Prevotellaceae|Prevotella',\n",
    "                               'k__Bacteria;p__Firmicutes;c__Clostridia;o__Clostridiales;f__Lachnospiraceae;g__[Ruminococcus]':'Firmicutes|Clostridia|Clostridiales|Lachnospiraceae|[Ruminococcus]',\n",
    "                               'k__Bacteria;p__Firmicutes;c__Clostridia;o__Clostridiales;f__Clostridiaceae;g__Clostridium':'Firmicutes|Clostridia|Clostridiales|Clostridiaceae|Clostridium',\n",
    "                               'k__Bacteria;p__Firmicutes;c__Clostridia;o__Clostridiales;f__Ruminococcaceae;g__Faecalibacterium':'Firmicutes|Clostridia|Clostridiales|Ruminococcaceae|Faecalibacterium',\n",
    "                               'k__Bacteria;p__Firmicutes;c__Bacilli;o__Lactobacillales;f__Streptococcaceae;g__Streptococcus':'Firmicutes|Bacilli|Lactobacillales|Streptococcaceae|Streptococcus',\n",
    "                               'k__Bacteria;p__Firmicutes;c__Clostridia;o__Clostridiales;f__Lachnospiraceae;g__Coprococcus':'Firmicutes|Clostridia|Clostridiales|Lachnospiraceae|Coprococcus',\n",
    "                               'k__Bacteria;p__Firmicutes;c__Clostridia;o__Clostridiales;f__Lachnospiraceae;g__Roseburia':'Firmicutes|Clostridia|Clostridiales|Lachnospiraceae|Roseburia',\n",
    "                               'k__Bacteria;p__Firmicutes;c__Clostridia;o__Clostridiales;f__Lachnospiraceae;g__Lachnospira':'Firmicutes|Clostridia|Clostridiales|Lachnospiraceae|Lachnospira',\n",
    "                               'k__Bacteria;p__Firmicutes;c__Clostridia;o__Clostridiales;f__Lachnospiraceae;g__Dorea':'Firmicutes|Clostridia|Clostridiales|Lachnospiraceae|Dorea',\n",
    "                               'k__Bacteria;p__Bacteroidetes;c__Bacteroidia;o__Bacteroidales;f__Bacteroidaceae;g__Bacteroides':'Bacteroidetes|Bacteroidia|Bacteroidales|Bacteroidaceae|Bacteroides',\n",
    "                               'k__Bacteria;p__Actinobacteria;c__Actinobacteria;o__Bifidobacteriales;f__Bifidobacteriaceae;g__Bifidobacterium':'Actinobacteria|Actinobacteria|Bifidobacteriales|Bifidobacteriaceae|Bifidobacterium'}, \n",
    "                     inplace = True)\n",
    "tax_vag_bd_mean_rel = tax_vag_bd_mean.div(tax_vag_bd_mean.sum(axis=1), axis=0)\n",
    "\n",
    "tax_vag_fd_mean = tax_vag_fd.groupby(['age_months'])[most_abundant_l2].mean()\n",
    "tax_vag_fd_mean.rename(columns = {'k__Bacteria;p__Firmicutes;c__Clostridia;o__Clostridiales;f__Ruminococcaceae;g__Ruminococcus':'Firmicutes|Clostridia|Clostridiales|Ruminococcaceae|Ruminococcus',\n",
    "                               'k__Bacteria;p__Firmicutes;c__Clostridia;o__Clostridiales;f__Lachnospiraceae;g__Blautia':'Firmicutes|Clostridia|Clostridiales|Lachnospiraceae|Blautia',\n",
    "                               'k__Bacteria;p__Firmicutes;c__Clostridia;o__Clostridiales;f__Lachnospiraceae;g__Clostridium':'Firmicutes|Clostridia|Clostridiales|Lachnospiraceae|Clostridium',\n",
    "                               'k__Bacteria;p__Bacteroidetes;c__Bacteroidia;o__Bacteroidales;f__Prevotellaceae;g__Prevotella':'Bacteroidetes|Bacteroidia|Bacteroidales|Prevotellaceae|Prevotella',\n",
    "                               'k__Bacteria;p__Firmicutes;c__Clostridia;o__Clostridiales;f__Lachnospiraceae;g__[Ruminococcus]':'Firmicutes|Clostridia|Clostridiales|Lachnospiraceae|[Ruminococcus]',\n",
    "                               'k__Bacteria;p__Firmicutes;c__Clostridia;o__Clostridiales;f__Clostridiaceae;g__Clostridium':'Firmicutes|Clostridia|Clostridiales|Clostridiaceae|Clostridium',\n",
    "                               'k__Bacteria;p__Firmicutes;c__Clostridia;o__Clostridiales;f__Ruminococcaceae;g__Faecalibacterium':'Firmicutes|Clostridia|Clostridiales|Ruminococcaceae|Faecalibacterium',\n",
    "                               'k__Bacteria;p__Firmicutes;c__Bacilli;o__Lactobacillales;f__Streptococcaceae;g__Streptococcus':'Firmicutes|Bacilli|Lactobacillales|Streptococcaceae|Streptococcus',\n",
    "                               'k__Bacteria;p__Firmicutes;c__Clostridia;o__Clostridiales;f__Lachnospiraceae;g__Coprococcus':'Firmicutes|Clostridia|Clostridiales|Lachnospiraceae|Coprococcus',\n",
    "                               'k__Bacteria;p__Firmicutes;c__Clostridia;o__Clostridiales;f__Lachnospiraceae;g__Roseburia':'Firmicutes|Clostridia|Clostridiales|Lachnospiraceae|Roseburia',\n",
    "                               'k__Bacteria;p__Firmicutes;c__Clostridia;o__Clostridiales;f__Lachnospiraceae;g__Lachnospira':'Firmicutes|Clostridia|Clostridiales|Lachnospiraceae|Lachnospira',\n",
    "                               'k__Bacteria;p__Firmicutes;c__Clostridia;o__Clostridiales;f__Lachnospiraceae;g__Dorea':'Firmicutes|Clostridia|Clostridiales|Lachnospiraceae|Dorea',\n",
    "                               'k__Bacteria;p__Bacteroidetes;c__Bacteroidia;o__Bacteroidales;f__Bacteroidaceae;g__Bacteroides':'Bacteroidetes|Bacteroidia|Bacteroidales|Bacteroidaceae|Bacteroides',\n",
    "                               'k__Bacteria;p__Actinobacteria;c__Actinobacteria;o__Bifidobacteriales;f__Bifidobacteriaceae;g__Bifidobacterium':'Actinobacteria|Actinobacteria|Bifidobacteriales|Bifidobacteriaceae|Bifidobacterium'}, \n",
    "                     inplace = True)\n",
    "tax_vag_fd_mean_rel = tax_vag_fd_mean.div(tax_vag_fd_mean.sum(axis=1), axis=0)"
   ]
  },
  {
   "cell_type": "code",
   "execution_count": null,
   "id": "601eec04-fd78-4f99-bced-82b6c02d7233",
   "metadata": {},
   "outputs": [],
   "source": [
    "sns.set(rc={'figure.figsize': (2.5, 2), 'font.family': ['Helvetica']}, style='white', palette=\"tab20c\")\n",
    "with sns.plotting_context(\"notebook\", font_scale=1):\n",
    "    # matplotlib's bar plot\n",
    "    ax = tax_ces_bd_mean_rel.plot(kind='bar', stacked=True, width=0.9, legend = False)\n",
    "    \n",
    "    # matplotlib's customization\n",
    "    ax.set_xlabel('')\n",
    "    ax.set_ylabel('')\n",
    "    ax.set_xlim(-0.5,5.5)\n",
    "    \n",
    "    ax.legend([handles[idx] for idx in order],[labels[idx] for idx in order], loc='center left', bbox_to_anchor=(1, 0.5))\n",
    "    legend = ax.get_legend()\n",
    "    \n",
    "    xlabels = ax.get_xticklabels()\n",
    "    xlabels = [l.get_text().replace('.0', '') for l in xlabels]\n",
    "    ax.set_xticklabels(xlabels, rotation=0)\n",
    "plt.savefig(f'{figure_dir}/RelativeAbund_ces_bd.png', bbox_inches='tight', dpi=600)"
   ]
  },
  {
   "cell_type": "code",
   "execution_count": null,
   "id": "879a68c5-0e64-4782-8a61-fd2d2c553fc5",
   "metadata": {},
   "outputs": [],
   "source": [
    "tax_ces_fd_mean_rel"
   ]
  },
  {
   "cell_type": "code",
   "execution_count": null,
   "id": "f861c628-36c4-404f-beeb-f06c84563302",
   "metadata": {},
   "outputs": [],
   "source": [
    "sns.set(rc={'figure.figsize': (2.5, 2), 'font.family': ['Helvetica']}, style='white', palette=\"tab20c\")\n",
    "with sns.plotting_context(\"notebook\", font_scale=1):\n",
    "    # matplotlib's bar plot\n",
    "    ax = tax_ces_fd_mean_rel.plot(kind='bar',\n",
    "                                  stacked=True,\n",
    "                                  width=0.9,\n",
    "                                  legend = False)\n",
    "    \n",
    "    # matplotlib's customization\n",
    "    ax.set_xlabel('')\n",
    "    ax.set_ylabel('')\n",
    "    ax.set_xlim(0.5,6.5)\n",
    "    \n",
    "    xlabels = ax.get_xticklabels()\n",
    "    xlabels = [l.get_text().replace('.0', '') for l in xlabels]\n",
    "    ax.set_xticklabels(xlabels, rotation=0)\n",
    "plt.savefig(f'{figure_dir}/RelativeAbund_ces_wTrue.eps', bbox_inches='tight')"
   ]
  },
  {
   "cell_type": "code",
   "execution_count": null,
   "id": "975845bf-272d-4e37-9be8-b606e02d3f44",
   "metadata": {},
   "outputs": [],
   "source": [
    "sns.set(rc={'figure.figsize': (2.5, 2), 'font.family': ['Helvetica']}, style='white', palette=\"tab20c\")\n",
    "with sns.plotting_context(\"notebook\", font_scale=1):\n",
    "    # matplotlib's bar plot\n",
    "    ax = tax_vag_bd_mean_rel.plot(kind='bar', stacked=True, width=0.9, legend = False)\n",
    "    \n",
    "    # matplotlib's customization\n",
    "    ax.set_xlabel('')\n",
    "    ax.set_ylabel('')\n",
    "    ax.set_xlim(-0.5,5.5)\n",
    "    \n",
    "    xlabels = ax.get_xticklabels()\n",
    "    xlabels = [l.get_text().replace('.0', '') for l in xlabels]\n",
    "    ax.set_xticklabels(xlabels, rotation=0)\n",
    "plt.savefig(f'{figure_dir}/RelativeAbund_vag_bd.png', bbox_inches='tight', dpi=600)"
   ]
  },
  {
   "cell_type": "code",
   "execution_count": null,
   "id": "09d51a3b-5b68-4321-9147-4a42163fd137",
   "metadata": {},
   "outputs": [],
   "source": [
    "sns.set(rc={'figure.figsize': (2.5, 2), 'font.family': ['Helvetica']}, style='white', palette=\"tab20c\")\n",
    "with sns.plotting_context(\"notebook\", font_scale=1):\n",
    "    # matplotlib's bar plot\n",
    "    ax = tax_vag_fd_mean_rel.plot(kind='bar', stacked=True, width=0.9, legend = False)\n",
    "    \n",
    "    # matplotlib's customization\n",
    "    ax.set_xlabel('')\n",
    "    ax.set_ylabel('')\n",
    "    ax.set_xlim(-0.5,5.5)\n",
    "    \n",
    "    xlabels = ax.get_xticklabels()\n",
    "    xlabels = [l.get_text().replace('.0', '') for l in xlabels]\n",
    "    ax.set_xticklabels(xlabels, rotation=0)\n",
    "plt.savefig(f'{figure_dir}/RelativeAbund_vag_fd.png', bbox_inches='tight', dpi=600)"
   ]
  },
  {
   "cell_type": "markdown",
   "id": "bf38a346-6fde-4edd-a6f5-9d26cafe9583",
   "metadata": {},
   "source": [
    "## Plotting of ANCOM results as a vulcano plot\n",
    "The to level 6 (genus) filtered ANCOM and a unfiltered ANCOM test are plotted as a seaborn scatterplot highlighting some points after extracting and merging the ANCOM data."
   ]
  },
  {
   "cell_type": "code",
   "execution_count": null,
   "id": "70e9d0d0-b250-4ad9-a81e-e8d436adb0e4",
   "metadata": {},
   "outputs": [],
   "source": [
    "! qiime tools extract \\\n",
    "    --input-path $delivery_dir/ancom_delivery_mode.qzv \\\n",
    "    --output-path $delivery_dir/extracted-ancom_delivery_mode"
   ]
  },
  {
   "cell_type": "code",
   "execution_count": null,
   "id": "26e73f0c-92f5-410c-9329-85b56321e75b",
   "metadata": {},
   "outputs": [],
   "source": [
    "ancomData = pd.read_csv(f'{delivery_dir}/extracted-ancom_delivery_mode/e8dd78b4-5118-459f-a13b-12789185a0f7/data/data.tsv', sep='\\t')\n",
    "ancomSignificance = pd.read_csv(f'{delivery_dir}/extracted-ancom_delivery_mode/e8dd78b4-5118-459f-a13b-12789185a0f7/data/ancom.tsv', sep='\\t')\n",
    "ancomSignificance.rename(columns = {'Unnamed: 0':'id'}, inplace = True)"
   ]
  },
  {
   "cell_type": "code",
   "execution_count": null,
   "id": "688a7de2-b442-4779-9cfb-5856f1cac109",
   "metadata": {
    "tags": []
   },
   "outputs": [],
   "source": [
    "ancomDataSig = ancomData.merge(ancomSignificance, how='inner')\n",
    "ancomDataSig"
   ]
  },
  {
   "cell_type": "code",
   "execution_count": null,
   "id": "9106e8a0-a710-410c-bde6-4837fe82de89",
   "metadata": {},
   "outputs": [],
   "source": [
    "ancomDataSig.sort_values(by='log', axis=0, ascending=True)"
   ]
  },
  {
   "cell_type": "code",
   "execution_count": null,
   "id": "182c14b3-277e-4c59-a092-ebe8f5ab274e",
   "metadata": {},
   "outputs": [],
   "source": [
    "sns.set(rc={'figure.figsize':(5, 5)}, style='white')\n",
    "with sns.plotting_context(\"notebook\", font_scale=1.2):\n",
    "    ax = sns.scatterplot(\n",
    "        data= ancomDataSig[(ancomDataSig['Reject null hypothesis'] == False)], \n",
    "        x='log', \n",
    "        y='W',\n",
    "        color='grey',\n",
    "        alpha=.3\n",
    "    )\n",
    "    ax = sns.scatterplot(\n",
    "        data=ancomDataSig[(ancomDataSig['Reject null hypothesis'] == True) & (ancomDataSig['log']>-1)], \n",
    "        x='log', \n",
    "        y='W',\n",
    "        color='lightskyblue',\n",
    "        alpha=.3\n",
    "    )\n",
    "    ax = sns.scatterplot(\n",
    "        data=ancomDataSig[(ancomDataSig['Reject null hypothesis'] == True) & (ancomDataSig['log']<-1)], \n",
    "        x='log', \n",
    "        y='W',\n",
    "        color='r',\n",
    "    )\n",
    "ax.tick_params(axis='x', which='major', bottom=True)\n",
    "ax.tick_params(axis='y', which='major', left=True)\n",
    "ax.set_xlim(-2.5,2.5)\n",
    "#ax.set_ylim(-5,5200)\n",
    "#ax.set_yscale('log')\n",
    "ax.set_xlabel('log(difference)')\n",
    "ax.axhline(y=4490, xmin=0, xmax=.3, color=\"grey\", dashes=(5, 2))\n",
    "ax.axhline(y=4490, xmin=.7, xmax=1, color=\"grey\", dashes=(5, 2))\n",
    "ax.axvline(x=1, ymin=0.86, ymax=1, color=\"grey\", dashes=(5, 2))\n",
    "ax.axvline(x=-1, ymin=0.86, ymax=1, color=\"grey\", dashes=(5, 2))\n",
    "ax.set_ylabel('W')\n",
    "plt.savefig(f'{figure_dir}/Vulcano_taxa_600dpi.png', bbox_inches='tight', dpi=600)"
   ]
  },
  {
   "cell_type": "code",
   "execution_count": null,
   "id": "e81a29a2-85c4-41df-a1dd-b35df2304148",
   "metadata": {},
   "outputs": [],
   "source": [
    "! qiime feature-table filter-samples \\\n",
    "    --i-table $delivery_dir/taxonomyl6.qza \\\n",
    "    --m-metadata-file $or_dir/metadata.tsv \\\n",
    "    --p-where \"[delivery_mode]='Vaginal' OR [delivery_mode]='Cesarean'\" \\\n",
    "    --o-filtered-table $delivery_dir/taxonomyl6-filt.qza"
   ]
  },
  {
   "cell_type": "code",
   "execution_count": null,
   "id": "35104c6b-73b0-4a1c-a55f-5f398ee86e48",
   "metadata": {},
   "outputs": [],
   "source": [
    "! qiime composition add-pseudocount \\\n",
    "    --i-table $delivery_dir/taxonomyl6-filt.qza \\\n",
    "    --o-composition-table $delivery_dir/taxonomyl6-filt-comp.qza"
   ]
  },
  {
   "cell_type": "code",
   "execution_count": null,
   "id": "168cefd4-b302-4ade-addc-b611deba8bd6",
   "metadata": {},
   "outputs": [],
   "source": [
    "! qiime composition ancom \\\n",
    "    --i-table $delivery_dir/taxonomyl6-filt-comp.qza \\\n",
    "    --m-metadata-file $or_dir/metadata.tsv \\\n",
    "    --m-metadata-column delivery_mode \\\n",
    "    --p-transform-function log \\\n",
    "    --o-visualization $delivery_dir/ancom_delivery_mode_l6_ces_eces.qzv"
   ]
  },
  {
   "cell_type": "code",
   "execution_count": null,
   "id": "5751d3e1-ef68-44ae-b6fd-4fe888bb70c3",
   "metadata": {},
   "outputs": [],
   "source": [
    "Visualization.load(f'{delivery_dir}/ancom_delivery_mode_l6_ces_eces.qzv')"
   ]
  },
  {
   "cell_type": "code",
   "execution_count": null,
   "id": "9b824b95-4fa2-43c4-af0f-e4e789a3be72",
   "metadata": {},
   "outputs": [],
   "source": [
    "! qiime tools extract \\\n",
    "    --input-path $delivery_dir/ancom_delivery_mode_l6_ces_eces.qzv \\\n",
    "    --output-path $delivery_dir/extracted-ancom_delivery_mode_l6_ces_eces"
   ]
  },
  {
   "cell_type": "code",
   "execution_count": null,
   "id": "fd6644e8-7582-4d0b-b48e-4bffe2b1ddfc",
   "metadata": {},
   "outputs": [],
   "source": [
    "ancomDatafilt = pd.read_csv(f'{delivery_dir}/extracted-ancom_delivery_mode_l6_ces_eces/647592e0-6412-47ab-bfd5-ba438d3feb51/data/data.tsv', sep='\\t')\n",
    "ancomSignificancefilt = pd.read_csv(f'{delivery_dir}/extracted-ancom_delivery_mode_l6_ces_eces/647592e0-6412-47ab-bfd5-ba438d3feb51/data/ancom.tsv', sep='\\t')\n",
    "ancomSignificancefilt.rename(columns = {'Unnamed: 0':'id'}, inplace = True)"
   ]
  },
  {
   "cell_type": "code",
   "execution_count": null,
   "id": "c4c01e5e-f344-4add-8683-f87bc6c0089b",
   "metadata": {
    "tags": []
   },
   "outputs": [],
   "source": [
    "ancomDataSigfilt = ancomDatafilt.merge(ancomSignificancefilt, how='inner')\n",
    "ancomDataSigfilt"
   ]
  },
  {
   "cell_type": "code",
   "execution_count": null,
   "id": "30c977aa-a576-4de9-85e0-f52566134fef",
   "metadata": {},
   "outputs": [],
   "source": [
    "ancomDataSigfilt.to_csv(f'{delivery_dir}/figures/TabANCOMtaxaDeliveryMode.tsv', sep='\\t')"
   ]
  },
  {
   "cell_type": "code",
   "execution_count": null,
   "id": "6e670496-1500-46a3-a726-eff530f0677f",
   "metadata": {},
   "outputs": [],
   "source": [
    "ancomDataSigfiltT= ancomDataSigfilt[(ancomDataSigfilt['Reject null hypothesis'] == True)]\n",
    "ancomDataSigfiltT.to_csv(f'{delivery_dir}/figures/sigANCOMtaxaHits.tsv', sep='\\t')"
   ]
  },
  {
   "cell_type": "code",
   "execution_count": null,
   "id": "ab393fd4-8392-4838-8bac-44723648578e",
   "metadata": {},
   "outputs": [],
   "source": [
    "ancomDataSigfiltT.shape"
   ]
  },
  {
   "cell_type": "code",
   "execution_count": null,
   "id": "eab84147-0892-40f2-8c00-f826fb0ae8c6",
   "metadata": {},
   "outputs": [],
   "source": [
    "ancomDataSigfiltT[(ancomDataSigfiltT['log']>0)].shape"
   ]
  },
  {
   "cell_type": "code",
   "execution_count": null,
   "id": "8d772c50-72fb-4807-a558-d7682f435b4a",
   "metadata": {},
   "outputs": [],
   "source": [
    "sns.set(rc={'figure.figsize':(5, 5)}, style='white')\n",
    "with sns.plotting_context(\"notebook\", font_scale=1.2):\n",
    "    ax = sns.scatterplot(\n",
    "        data= ancomDataSigfilt[(ancomDataSigfilt['Reject null hypothesis'] == False)], \n",
    "        x='log', \n",
    "        y='W',\n",
    "        color='grey',\n",
    "        alpha=.3\n",
    "    )\n",
    "    ax = sns.scatterplot(\n",
    "        data=ancomDataSigfilt[(ancomDataSigfilt['Reject null hypothesis'] == True) & (ancomDataSigfilt['log']>-0.3)], \n",
    "        x='log', \n",
    "        y='W',\n",
    "        color='lightskyblue',\n",
    "        alpha=.3\n",
    "    )\n",
    "    ax = sns.scatterplot(\n",
    "        data=ancomDataSigfilt[(ancomDataSigfilt['Reject null hypothesis'] == True) & (ancomDataSigfilt['log']<=-0.3)], \n",
    "        x='log', \n",
    "        y='W',\n",
    "        color='r',\n",
    "    )\n",
    "    ax = sns.scatterplot(\n",
    "        data=ancomDataSigfilt[(ancomDataSigfilt['Reject null hypothesis'] == True) & (ancomDataSigfilt['log']>=0.3)], \n",
    "        x='log', \n",
    "        y='W',\n",
    "        color='r',\n",
    "    )\n",
    "    ax = sns.scatterplot(\n",
    "        data=ancomDataSigfilt[(ancomDataSigfilt['Reject null hypothesis'] == True) & (ancomDataSigfilt['id'].str.contains('Bacteroides'))], \n",
    "        x='log', \n",
    "        y='W',\n",
    "        color='b',\n",
    "    )\n",
    "    ax = sns.scatterplot(\n",
    "        data=ancomDataSigfilt[(ancomDataSigfilt['Reject null hypothesis'] == True) & (ancomDataSigfilt['id'].str.contains('Clostridium'))], \n",
    "        x='log', \n",
    "        y='W',\n",
    "        color='orange',\n",
    "    )\n",
    "\n",
    "ax.tick_params(axis='x', which='major', bottom=True)\n",
    "ax.tick_params(axis='y', which='major', left=True)\n",
    "ax.set_xlim(-2.5,2.5)\n",
    "#ax.set_ylim(-5,5200)\n",
    "#ax.set_yscale('log')\n",
    "ax.set_xlabel('log(difference)')\n",
    "ax.axhline(y=140, xmin=0, xmax=.45, color=\"grey\", dashes=(5, 2))\n",
    "ax.axhline(y=140, xmin=.56, xmax=1, color=\"grey\", dashes=(5, 2))\n",
    "ax.axvline(x=0.3, ymin=0.67, ymax=1, color=\"grey\", dashes=(5, 2))\n",
    "ax.axvline(x=-0.3, ymin=0.67, ymax=1, color=\"grey\", dashes=(5, 2))\n",
    "ax.set_ylabel('W')\n",
    "plt.savefig(f'{figure_dir}/Vulcano_taxafilt_2fold_600dpi.png', bbox_inches='tight', dpi=600)"
   ]
  },
  {
   "cell_type": "code",
   "execution_count": null,
   "id": "e3d94e1e-cb62-4c08-aa3f-2f043ddbac74",
   "metadata": {},
   "outputs": [],
   "source": []
  }
 ],
 "metadata": {
  "kernelspec": {
   "display_name": "Python 3 (ipykernel)",
   "language": "python",
   "name": "python3"
  },
  "language_info": {
   "codemirror_mode": {
    "name": "ipython",
    "version": 3
   },
   "file_extension": ".py",
   "mimetype": "text/x-python",
   "name": "python",
   "nbconvert_exporter": "python",
   "pygments_lexer": "ipython3",
   "version": "3.8.13"
  }
 },
 "nbformat": 4,
 "nbformat_minor": 5
}
