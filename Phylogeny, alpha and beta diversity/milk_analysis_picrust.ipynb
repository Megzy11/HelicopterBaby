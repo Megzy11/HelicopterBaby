{
 "cells": [
  {
   "cell_type": "code",
   "execution_count": 6,
   "id": "748bea39-c7da-4395-9716-48e4fc349fd9",
   "metadata": {},
   "outputs": [],
   "source": [
    "import os\n",
    "import pandas as pd\n",
    "import qiime2 as q2\n",
    "from qiime2 import Visualization\n",
    "from seaborn import scatterplot\n",
    "import seaborn as sns\n",
    "import numpy as np\n",
    "import requests\n",
    "import matplotlib.pyplot as plt\n",
    "\n",
    "%matplotlib inline"
   ]
  },
  {
   "cell_type": "code",
   "execution_count": 7,
   "id": "2104ee34-cf5b-4063-a998-61f166cbfe22",
   "metadata": {},
   "outputs": [],
   "source": [
    "data_dir = 'data'\n",
    "or_dir = '../data'\n",
    "twin_dir = 'data/twin_comparison'\n",
    "picrust_dir = 'data/picrust_del'"
   ]
  },
  {
   "cell_type": "code",
   "execution_count": 8,
   "id": "a9274966-a43f-4bb5-b5de-bff5cf14af5c",
   "metadata": {},
   "outputs": [],
   "source": [
    "metadata = pd.read_csv(f'{or_dir}/metadata.tsv', sep='\\t')"
   ]
  },
  {
   "cell_type": "code",
   "execution_count": 9,
   "id": "59e9182b-24df-4370-ae4c-dc9274c8426a",
   "metadata": {},
   "outputs": [],
   "source": [
    "def fetch_ipath(ids: list, img_output_path: str, verbose: bool = False):\n",
    "    \"\"\"Fetches a enriched pathways map from iPATH3 for given IDs.\"\"\"\n",
    "    url = 'https://pathways.embl.de/mapping.cgi'\n",
    "    \n",
    "    # remove colon from EC names\n",
    "    if ':' in ids[0]:\n",
    "        ids = [x.replace(':', '') for x in ids]\n",
    "    \n",
    "    if verbose:\n",
    "        print(f'Fetching iPATH3 diagram for ids: {ids}')\n",
    "    params = {\n",
    "        'default_opacity': 0.6,\n",
    "        'export_type': 'svg',\n",
    "        'selection': '\\n'.join(ids)\n",
    "    }   \n",
    "    response = requests.get(url=url, params=params)\n",
    "    \n",
    "    with open(img_output_path, 'wb') as img:\n",
    "        img.write(response.content)"
   ]
  },
  {
   "cell_type": "code",
   "execution_count": 10,
   "id": "329354c5-f16c-46f1-b388-ddf9f3573b08",
   "metadata": {},
   "outputs": [],
   "source": [
    "# path to the picrust2 conda environment - do not change!\n",
    "picrust_env = '/opt/conda/envs/picrust2/bin'"
   ]
  },
  {
   "cell_type": "code",
   "execution_count": 11,
   "id": "2744c7f3-773b-4aa1-9b35-6f53f4501f25",
   "metadata": {},
   "outputs": [
    {
     "name": "stdout",
     "output_type": "stream",
     "text": [
      "Saved FeatureTable[Frequency] to: data/picrust2_results/ko_metagenome.qza\n",
      "Saved FeatureTable[Frequency] to: data/picrust2_results/ec_metagenome.qza\n",
      "Saved FeatureTable[Frequency] to: data/picrust2_results/pathway_abundance.qza\n"
     ]
    }
   ],
   "source": [
    "%%script env picrust_env=\"$picrust_env\" data_dir=\"$data_dir\" bash\n",
    "\n",
    "# append the env location to PATH so that qiime\n",
    "# can find all required executables\n",
    "export PATH=$picrust_env:$PATH\n",
    "\n",
    "$picrust_env/qiime picrust2 full-pipeline \\\n",
    "    --i-seq $data_dir/PJNB_dada2_rep_set.qza \\\n",
    "    --i-table $data_dir/PJNB_dada2_table_.qza \\\n",
    "    --output-dir $data_dir/picrust2_results \\\n",
    "    --p-placement-tool sepp \\\n",
    "    --p-threads 2 \\\n",
    "    --p-hsp-method pic \\\n",
    "    --p-max-nsti 2"
   ]
  },
  {
   "cell_type": "code",
   "execution_count": 12,
   "id": "34d21739-2c0f-41f2-b9ba-2a26cdbfb227",
   "metadata": {},
   "outputs": [
    {
     "name": "stdout",
     "output_type": "stream",
     "text": [
      "\u001b[33mQIIME is caching your current deployment for improved performance. This may take a few moments and should only happen once per deployment.\u001b[0m\n",
      "\u001b[32mSaved Visualization to: data/metadata.qzv\u001b[0m\n",
      "\u001b[0m"
     ]
    }
   ],
   "source": [
    "! qiime metadata tabulate \\\n",
    "    --m-input-file $or_dir/metadata.tsv \\\n",
    "    --o-visualization $data_dir/metadata.qzv"
   ]
  },
  {
   "cell_type": "code",
   "execution_count": 18,
   "id": "60cf71db-2f64-4425-894f-5f2197e3a855",
   "metadata": {},
   "outputs": [
    {
     "name": "stdout",
     "output_type": "stream",
     "text": [
      "\u001b[32mSaved FeatureTable[Frequency] to: data/picrust2_results/pjnb-path-abund-milk.qza\u001b[0m\n",
      "\u001b[0m"
     ]
    }
   ],
   "source": [
    "! qiime feature-table filter-samples \\\n",
    "    --i-table $data_dir/picrust2_results/pathway_abundance.qza \\\n",
    "    --m-metadata-file $or_dir/metadata.tsv \\\n",
    "    --p-where \"[diet_milk]='fd' or [diet_milk]='bd'\" \\\n",
    "    --o-filtered-table $data_dir/picrust2_results/pjnb-path-abund-milk.qza"
   ]
  },
  {
   "cell_type": "code",
   "execution_count": 19,
   "id": "83a849df-9a1a-4147-85b9-4f1f85b4cfd8",
   "metadata": {},
   "outputs": [
    {
     "name": "stdout",
     "output_type": "stream",
     "text": [
      "\u001b[32mSaved FeatureTable[Composition] to: data/picrust2_results/pjnb-path-abund-milk-pseudo.qza\u001b[0m\n",
      "\u001b[0m"
     ]
    }
   ],
   "source": [
    "! qiime composition add-pseudocount \\\n",
    "    --i-table $data_dir/picrust2_results/pjnb-path-abund-milk.qza \\\n",
    "    --o-composition-table $data_dir/picrust2_results/pjnb-path-abund-milk-pseudo.qza"
   ]
  },
  {
   "cell_type": "code",
   "execution_count": 25,
   "id": "7bc4e831-c428-4798-9b81-649c48f3cbce",
   "metadata": {},
   "outputs": [
    {
     "name": "stdout",
     "output_type": "stream",
     "text": [
      "\u001b[32mSaved Visualization to: data/picrust2_results/pa_ancom_milk.qzv\u001b[0m\n",
      "\u001b[0m"
     ]
    }
   ],
   "source": [
    "! qiime composition ancom \\\n",
    "    --i-table $data_dir/picrust2_results/pjnb-path-abund-milk-pseudo.qza \\\n",
    "    --m-metadata-file $or_dir/metadata.tsv \\\n",
    "    --m-metadata-column diet_milk \\\n",
    "    --p-transform-function log \\\n",
    "    --o-visualization $data_dir/picrust2_results/pa_ancom_milk.qzv"
   ]
  },
  {
   "cell_type": "code",
   "execution_count": 26,
   "id": "c5be8d97-a1f2-4244-9dc1-0e3fb5792806",
   "metadata": {},
   "outputs": [
    {
     "data": {
      "text/html": [
       "<div><img onload=\"(function(div, url){\n",
       "if (typeof require !== 'undefined') {\n",
       "    var baseURL = require.toUrl('').split('/').slice(0, -2).join('/');\n",
       "} else {\n",
       "    var baseURL = JSON.parse(\n",
       "        document.getElementById('jupyter-config-data').innerHTML\n",
       "    ).baseUrl.slice(0, -1);\n",
       "}\n",
       "url = baseURL + url;\n",
       "fetch(url).then(function(res) {\n",
       "    if (res.status === 404) {\n",
       "        div.innerHTML = 'Install QIIME 2 Jupyter extension with:<br />' +\n",
       "                        '<code>jupyter serverextension enable --py qiime2' +\n",
       "                        ' --sys-prefix</code><br />then restart your server.' +\n",
       "                        '<br /><br />(Interactive output not available on ' +\n",
       "                        'static notebook viewer services like nbviewer.)';\n",
       "    } else if (res.status === 409) {\n",
       "        div.innerHTML = 'Visualization no longer in scope. Re-run this cell' +\n",
       "                        ' to see the visualization.';\n",
       "    } else if (res.ok) {\n",
       "        url = res.url;\n",
       "        div.innerHTML = '<iframe src=\\'' + url + '\\' style=\\'' +\n",
       "                        'width: 100%; height: 700px; border: 0;\\'>' +\n",
       "                        '</iframe><hr />Open in a: <a href=\\'' + url + '\\'' +\n",
       "                        ' target=\\'_blank\\'>new window</a>'\n",
       "    } else {\n",
       "        div.innerHTML = 'Something has gone wrong. Check notebook server for' +\n",
       "                        ' errors.';\n",
       "    }\n",
       "});\n",
       "})(this.parentElement, '/qiime2/redirect?location=/tmp/qiime2-archive-39jvbwuc')\" src=\"data:image/gif;base64,R0lGODlhAQABAIAAAP///wAAACH5BAEAAAAALAAAAAABAAEAAAICRAEAOw==\" /></div>"
      ],
      "text/plain": [
       "<visualization: Visualization uuid: 58401a7d-17d9-4ae5-86a5-d446e536a5b7>"
      ]
     },
     "execution_count": 26,
     "metadata": {},
     "output_type": "execute_result"
    }
   ],
   "source": [
    "Visualization.load(f'{data_dir}/picrust2_results/pa_ancom_milk.qzv')"
   ]
  },
  {
   "cell_type": "code",
   "execution_count": 24,
   "id": "b945efa3-3131-429f-892b-20842582f202",
   "metadata": {},
   "outputs": [
    {
     "name": "stdout",
     "output_type": "stream",
     "text": [
      "\u001b[32mExtracted data/pa_ancom_milk.qzv to directory data/pa_ancom_milk/05298a47-f8db-478f-9007-5cd5cc78601c\u001b[0m\n"
     ]
    }
   ],
   "source": [
    "! qiime tools extract \\\n",
    "    --input-path $data_dir/pa_ancom_milk.qzv \\\n",
    "    --output-path $data_dir/pa_ancom_milk"
   ]
  },
  {
   "cell_type": "code",
   "execution_count": 27,
   "id": "4c0f2756-f7e0-46f8-ac75-00270b66b0cf",
   "metadata": {},
   "outputs": [],
   "source": [
    "ancomData = pd.read_csv(f'{data_dir}/pa_ancom_milk/05298a47-f8db-478f-9007-5cd5cc78601c/data/data.tsv', sep='\\t')\n",
    "ancomSignificance = pd.read_csv(f'{data_dir}/pa_ancom_milk/05298a47-f8db-478f-9007-5cd5cc78601c/data/ancom.tsv', sep='\\t')\n",
    "ancomSignificance.rename(columns = {'Unnamed: 0':'id'}, inplace = True)"
   ]
  },
  {
   "cell_type": "code",
   "execution_count": 28,
   "id": "c169c622-eef0-47f7-919a-b6ec5de65478",
   "metadata": {},
   "outputs": [
    {
     "data": {
      "text/html": [
       "<div>\n",
       "<style scoped>\n",
       "    .dataframe tbody tr th:only-of-type {\n",
       "        vertical-align: middle;\n",
       "    }\n",
       "\n",
       "    .dataframe tbody tr th {\n",
       "        vertical-align: top;\n",
       "    }\n",
       "\n",
       "    .dataframe thead th {\n",
       "        text-align: right;\n",
       "    }\n",
       "</style>\n",
       "<table border=\"1\" class=\"dataframe\">\n",
       "  <thead>\n",
       "    <tr style=\"text-align: right;\">\n",
       "      <th></th>\n",
       "      <th>id</th>\n",
       "      <th>log</th>\n",
       "      <th>W</th>\n",
       "      <th>Reject null hypothesis</th>\n",
       "    </tr>\n",
       "  </thead>\n",
       "  <tbody>\n",
       "    <tr>\n",
       "      <th>0</th>\n",
       "      <td>1CMET2-PWY</td>\n",
       "      <td>-0.007406</td>\n",
       "      <td>167</td>\n",
       "      <td>False</td>\n",
       "    </tr>\n",
       "    <tr>\n",
       "      <th>1</th>\n",
       "      <td>3-HYDROXYPHENYLACETATE-DEGRADATION-PWY</td>\n",
       "      <td>-0.793881</td>\n",
       "      <td>378</td>\n",
       "      <td>True</td>\n",
       "    </tr>\n",
       "    <tr>\n",
       "      <th>2</th>\n",
       "      <td>AEROBACTINSYN-PWY</td>\n",
       "      <td>-0.402921</td>\n",
       "      <td>24</td>\n",
       "      <td>False</td>\n",
       "    </tr>\n",
       "    <tr>\n",
       "      <th>3</th>\n",
       "      <td>ALL-CHORISMATE-PWY</td>\n",
       "      <td>-0.662944</td>\n",
       "      <td>373</td>\n",
       "      <td>True</td>\n",
       "    </tr>\n",
       "    <tr>\n",
       "      <th>4</th>\n",
       "      <td>ANAEROFRUCAT-PWY</td>\n",
       "      <td>0.213974</td>\n",
       "      <td>306</td>\n",
       "      <td>False</td>\n",
       "    </tr>\n",
       "    <tr>\n",
       "      <th>...</th>\n",
       "      <td>...</td>\n",
       "      <td>...</td>\n",
       "      <td>...</td>\n",
       "      <td>...</td>\n",
       "    </tr>\n",
       "    <tr>\n",
       "      <th>458</th>\n",
       "      <td>TYRFUMCAT-PWY</td>\n",
       "      <td>0.099911</td>\n",
       "      <td>30</td>\n",
       "      <td>False</td>\n",
       "    </tr>\n",
       "    <tr>\n",
       "      <th>459</th>\n",
       "      <td>UBISYN-PWY</td>\n",
       "      <td>-0.259454</td>\n",
       "      <td>124</td>\n",
       "      <td>False</td>\n",
       "    </tr>\n",
       "    <tr>\n",
       "      <th>460</th>\n",
       "      <td>UDPNAGSYN-PWY</td>\n",
       "      <td>-0.042079</td>\n",
       "      <td>139</td>\n",
       "      <td>False</td>\n",
       "    </tr>\n",
       "    <tr>\n",
       "      <th>461</th>\n",
       "      <td>VALDEG-PWY</td>\n",
       "      <td>-0.023803</td>\n",
       "      <td>95</td>\n",
       "      <td>False</td>\n",
       "    </tr>\n",
       "    <tr>\n",
       "      <th>462</th>\n",
       "      <td>VALSYN-PWY</td>\n",
       "      <td>-0.096239</td>\n",
       "      <td>172</td>\n",
       "      <td>False</td>\n",
       "    </tr>\n",
       "  </tbody>\n",
       "</table>\n",
       "<p>463 rows × 4 columns</p>\n",
       "</div>"
      ],
      "text/plain": [
       "                                         id       log    W  \\\n",
       "0                                1CMET2-PWY -0.007406  167   \n",
       "1    3-HYDROXYPHENYLACETATE-DEGRADATION-PWY -0.793881  378   \n",
       "2                         AEROBACTINSYN-PWY -0.402921   24   \n",
       "3                        ALL-CHORISMATE-PWY -0.662944  373   \n",
       "4                          ANAEROFRUCAT-PWY  0.213974  306   \n",
       "..                                      ...       ...  ...   \n",
       "458                           TYRFUMCAT-PWY  0.099911   30   \n",
       "459                              UBISYN-PWY -0.259454  124   \n",
       "460                           UDPNAGSYN-PWY -0.042079  139   \n",
       "461                              VALDEG-PWY -0.023803   95   \n",
       "462                              VALSYN-PWY -0.096239  172   \n",
       "\n",
       "     Reject null hypothesis  \n",
       "0                     False  \n",
       "1                      True  \n",
       "2                     False  \n",
       "3                      True  \n",
       "4                     False  \n",
       "..                      ...  \n",
       "458                   False  \n",
       "459                   False  \n",
       "460                   False  \n",
       "461                   False  \n",
       "462                   False  \n",
       "\n",
       "[463 rows x 4 columns]"
      ]
     },
     "execution_count": 28,
     "metadata": {},
     "output_type": "execute_result"
    }
   ],
   "source": [
    "ancomDataSig = ancomData.merge(ancomSignificance, how='inner')\n",
    "ancomDataSig"
   ]
  },
  {
   "cell_type": "code",
   "execution_count": 29,
   "id": "5835006a-fa4c-4bdf-bc63-1ed81f1109f9",
   "metadata": {},
   "outputs": [
    {
     "data": {
      "text/html": [
       "<div>\n",
       "<style scoped>\n",
       "    .dataframe tbody tr th:only-of-type {\n",
       "        vertical-align: middle;\n",
       "    }\n",
       "\n",
       "    .dataframe tbody tr th {\n",
       "        vertical-align: top;\n",
       "    }\n",
       "\n",
       "    .dataframe thead th {\n",
       "        text-align: right;\n",
       "    }\n",
       "</style>\n",
       "<table border=\"1\" class=\"dataframe\">\n",
       "  <thead>\n",
       "    <tr style=\"text-align: right;\">\n",
       "      <th></th>\n",
       "      <th>id</th>\n",
       "      <th>log</th>\n",
       "      <th>W</th>\n",
       "      <th>Reject null hypothesis</th>\n",
       "    </tr>\n",
       "  </thead>\n",
       "  <tbody>\n",
       "    <tr>\n",
       "      <th>61</th>\n",
       "      <td>HCAMHPDEG-PWY</td>\n",
       "      <td>-1.068510</td>\n",
       "      <td>419</td>\n",
       "      <td>True</td>\n",
       "    </tr>\n",
       "    <tr>\n",
       "      <th>306</th>\n",
       "      <td>PWY-6690</td>\n",
       "      <td>-1.068510</td>\n",
       "      <td>419</td>\n",
       "      <td>True</td>\n",
       "    </tr>\n",
       "    <tr>\n",
       "      <th>80</th>\n",
       "      <td>METHGLYUT-PWY</td>\n",
       "      <td>-0.998851</td>\n",
       "      <td>413</td>\n",
       "      <td>True</td>\n",
       "    </tr>\n",
       "    <tr>\n",
       "      <th>428</th>\n",
       "      <td>PWY0-42</td>\n",
       "      <td>-0.991533</td>\n",
       "      <td>412</td>\n",
       "      <td>True</td>\n",
       "    </tr>\n",
       "    <tr>\n",
       "      <th>210</th>\n",
       "      <td>PWY-5747</td>\n",
       "      <td>-0.930973</td>\n",
       "      <td>405</td>\n",
       "      <td>True</td>\n",
       "    </tr>\n",
       "    <tr>\n",
       "      <th>...</th>\n",
       "      <td>...</td>\n",
       "      <td>...</td>\n",
       "      <td>...</td>\n",
       "      <td>...</td>\n",
       "    </tr>\n",
       "    <tr>\n",
       "      <th>98</th>\n",
       "      <td>P163-PWY</td>\n",
       "      <td>1.561653</td>\n",
       "      <td>456</td>\n",
       "      <td>True</td>\n",
       "    </tr>\n",
       "    <tr>\n",
       "      <th>78</th>\n",
       "      <td>METH-ACETATE-PWY</td>\n",
       "      <td>1.574535</td>\n",
       "      <td>456</td>\n",
       "      <td>True</td>\n",
       "    </tr>\n",
       "    <tr>\n",
       "      <th>101</th>\n",
       "      <td>P221-PWY</td>\n",
       "      <td>1.744462</td>\n",
       "      <td>454</td>\n",
       "      <td>True</td>\n",
       "    </tr>\n",
       "    <tr>\n",
       "      <th>400</th>\n",
       "      <td>PWY-7456</td>\n",
       "      <td>1.813920</td>\n",
       "      <td>458</td>\n",
       "      <td>True</td>\n",
       "    </tr>\n",
       "    <tr>\n",
       "      <th>347</th>\n",
       "      <td>PWY-7090</td>\n",
       "      <td>1.998128</td>\n",
       "      <td>458</td>\n",
       "      <td>True</td>\n",
       "    </tr>\n",
       "  </tbody>\n",
       "</table>\n",
       "<p>463 rows × 4 columns</p>\n",
       "</div>"
      ],
      "text/plain": [
       "                   id       log    W  Reject null hypothesis\n",
       "61      HCAMHPDEG-PWY -1.068510  419                    True\n",
       "306          PWY-6690 -1.068510  419                    True\n",
       "80      METHGLYUT-PWY -0.998851  413                    True\n",
       "428           PWY0-42 -0.991533  412                    True\n",
       "210          PWY-5747 -0.930973  405                    True\n",
       "..                ...       ...  ...                     ...\n",
       "98           P163-PWY  1.561653  456                    True\n",
       "78   METH-ACETATE-PWY  1.574535  456                    True\n",
       "101          P221-PWY  1.744462  454                    True\n",
       "400          PWY-7456  1.813920  458                    True\n",
       "347          PWY-7090  1.998128  458                    True\n",
       "\n",
       "[463 rows x 4 columns]"
      ]
     },
     "execution_count": 29,
     "metadata": {},
     "output_type": "execute_result"
    }
   ],
   "source": [
    "ancomDataSig.sort_values(by='log', axis=0, ascending=True)"
   ]
  },
  {
   "cell_type": "code",
   "execution_count": 31,
   "id": "a7bdc670-415b-4b22-bd45-02a6e5f130aa",
   "metadata": {},
   "outputs": [
    {
     "data": {
      "image/png": "[encoded data removed]",
      "text/plain": [
       "<Figure size 360x360 with 1 Axes>"
      ]
     },
     "metadata": {},
     "output_type": "display_data"
    }
   ],
   "source": [
    "sns.set(rc={'figure.figsize':(5, 5)}, style='white')\n",
    "with sns.plotting_context(\"notebook\", font_scale=1.2):\n",
    "    ax = sns.scatterplot(\n",
    "        data= ancomDataSig[(ancomDataSig['Reject null hypothesis'] == False)], \n",
    "        x='log', \n",
    "        y='W',\n",
    "        color='grey',\n",
    "        alpha=.3\n",
    "    )\n",
    "    ax = sns.scatterplot(\n",
    "        data=ancomDataSig[(ancomDataSig['Reject null hypothesis'] == True) & (ancomDataSig['log']>-1)], \n",
    "        x='log', \n",
    "        y='W',\n",
    "        color='lightskyblue',\n",
    "        alpha=.3\n",
    "    )\n",
    "    ax = sns.scatterplot(\n",
    "        data=ancomDataSig[(ancomDataSig['Reject null hypothesis'] == True) & (ancomDataSig['log']<-1)], \n",
    "        x='log', \n",
    "        y='W',\n",
    "        color='r'\n",
    "    )\n",
    "    ax = sns.scatterplot(\n",
    "        data=ancomDataSig[(ancomDataSig['Reject null hypothesis'] == True) & (ancomDataSig['log']>1)], \n",
    "        x='log', \n",
    "        y='W',\n",
    "        color='r'\n",
    "    )\n",
    "ax.tick_params(axis='x', which='major', bottom=True)\n",
    "ax.tick_params(axis='y', which='major', left=True)\n",
    "ax.set_xlim(-2.5,2.5)\n",
    "#ax.set_ylim(-5,5200)\n",
    "#ax.set_yscale('log')\n",
    "ax.set_xlabel('log2(difference)')\n",
    "ax.axhline(y=391, xmin=0, xmax=.3, color=\"grey\", dashes=(5, 2))\n",
    "ax.axhline(y=391, xmin=.7, xmax=1, color=\"grey\", dashes=(5, 2))\n",
    "ax.axvline(x=1, ymin=0.81, ymax=1, color=\"grey\", dashes=(5, 2))\n",
    "ax.axvline(x=-1, ymin=0.81, ymax=1, color=\"grey\", dashes=(5, 2))\n",
    "ax.set_ylabel('W')\n",
    "plt.savefig(f'{data_dir}/figures/Volcano_picrustMilk_600dpi.png', bbox_inches='tight', dpi=600)"
   ]
  },
  {
   "cell_type": "code",
   "execution_count": null,
   "id": "a380c91d-23d7-4a1f-8886-bb6789152329",
   "metadata": {},
   "outputs": [],
   "source": []
  }
 ],
 "metadata": {
  "kernelspec": {
   "display_name": "Python 3 (ipykernel)",
   "language": "python",
   "name": "python3"
  },
  "language_info": {
   "codemirror_mode": {
    "name": "ipython",
    "version": 3
   },
   "file_extension": ".py",
   "mimetype": "text/x-python",
   "name": "python",
   "nbconvert_exporter": "python",
   "pygments_lexer": "ipython3",
   "version": "3.8.13"
  }
 },
 "nbformat": 4,
 "nbformat_minor": 5
}
