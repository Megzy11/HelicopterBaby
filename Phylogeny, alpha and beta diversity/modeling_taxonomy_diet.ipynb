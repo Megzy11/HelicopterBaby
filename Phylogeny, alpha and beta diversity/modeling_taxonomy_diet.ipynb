{
 "cells": [
  {
   "cell_type": "code",
   "execution_count": 1,
   "id": "8a6ec957-9f5d-428a-ad5a-a83564c03f58",
   "metadata": {},
   "outputs": [],
   "source": [
    "import os\n",
    "import pandas as pd\n",
    "import matplotlib.pyplot as plt\n",
    "import matplotlib.pyplot as plt\n",
    "import qiime2 as q2\n",
    "import numpy as np\n",
    "%matplotlib inline\n",
    "from sklearn.manifold import TSNE\n",
    "from sklearn.model_selection import cross_val_score\n",
    "from sklearn.tree import DecisionTreeClassifier\n",
    "from sklearn.model_selection import cross_val_predict\n",
    "from sklearn.metrics import classification_report\n",
    "from sklearn.metrics import confusion_matrix\n",
    "from sklearn.ensemble import RandomForestClassifier\n",
    "from sklearn import svm\n",
    "\n",
    "data_dir = 'data' #data from polybox (ASV, taxonomy analysis)\n",
    "or_dir = '../data'\n",
    "if not os.path.isdir(data_dir):\n",
    "    os.mkdir(data_dir)"
   ]
  },
  {
   "cell_type": "code",
   "execution_count": null,
   "id": "2c6b9177-8a99-450e-bfd1-8798d5352e25",
   "metadata": {},
   "outputs": [],
   "source": [
    "! wget -nv -O $data_dir/taxonomy_classification.qzv 'https://polybox.ethz.ch/index.php/s/c3rjz7z9GBUXvE8/download'\n",
    "! wget -nv -O $data_dir/taxonomy_classification.qza 'https://polybox.ethz.ch/index.php/s/X8AoIryeOnLaCn5/download'\n",
    "! wget -nv -O $data_dir/PJNB_dada2_table-filtered.qza 'https://polybox.ethz.ch/index.php/s/q2dsg2JxeJz3hko/download'\n",
    "! wget -nv -O $data_dir/PJNB_dada2_rep_set-filtered.qza 'https://polybox.ethz.ch/index.php/s/vtDJzaCrmebL2u7/download'"
   ]
  },
  {
   "cell_type": "code",
   "execution_count": null,
   "id": "9c32a324-6de8-4089-9349-5891ab477f22",
   "metadata": {},
   "outputs": [],
   "source": [
    "#! qiime tools extract \\\n",
    "#    --input-path $data_dir/taxa-bar-plots-filtered.qzv \\\n",
    "#    --output-path $data_dir/extracted-taxa-bar-filtered"
   ]
  },
  {
   "cell_type": "code",
   "execution_count": 2,
   "id": "45290bd2-a1ba-4708-bbf4-bf82537ca686",
   "metadata": {},
   "outputs": [],
   "source": [
    "metadata = pd.read_csv(or_dir + '/metadata.tsv', sep = '\\t')"
   ]
  },
  {
   "cell_type": "code",
   "execution_count": 3,
   "id": "449cec06-d148-4f2d-9dae-cdfbd6fc068f",
   "metadata": {},
   "outputs": [
    {
     "name": "stdout",
     "output_type": "stream",
     "text": [
      "(1669, 26)  the number of samples we have and metadata variables that were collected\n",
      "80  unique hosts tracked over time\n",
      "Index(['id', 'Library Layout', 'Instrument', 'collection_date',\n",
      "       'geo_location_name', 'geo_latitude', 'geo_longitude', 'host_id',\n",
      "       'age_days', 'weight_kg', 'length_cm', 'WAZ', 'HAZ', 'WHZ', 'BMI',\n",
      "       'birth_weight_g', 'birth_length_cm', 'sex', 'delivery_mode', 'zygosity',\n",
      "       'race', 'ethnicity', 'delivery_preterm', 'diet_milk', 'diet_weaning',\n",
      "       'age_months'],\n",
      "      dtype='object')\n"
     ]
    }
   ],
   "source": [
    "print(metadata.shape, ' the number of samples we have and metadata variables that were collected')\n",
    "print(metadata['host_id'].nunique(), ' unique hosts tracked over time') # number of hosts that were followed over time\n",
    "print(metadata.columns)"
   ]
  },
  {
   "cell_type": "markdown",
   "id": "532f5682-8648-416a-905b-b32c408c2733",
   "metadata": {},
   "source": [
    "## Loading taxonomy assignments file\n",
    "QUESTION: how to download csv from qiime 2 taxa barplot to wanted level and with metadata info. Now did manually from the output visualization. "
   ]
  },
  {
   "cell_type": "code",
   "execution_count": 4,
   "id": "9e90cc9b-db16-403e-8f17-51502685d905",
   "metadata": {
    "tags": []
   },
   "outputs": [
    {
     "name": "stdout",
     "output_type": "stream",
     "text": [
      "(1669, 364)\n",
      "[nan True False]  possible values of diet weaning\n",
      "[nan 'bd' 'fd']  possible values of diet milk\n",
      "(1639, 364)\n"
     ]
    }
   ],
   "source": [
    "taxonomic_assignments = pd.read_csv(data_dir+'/taxonomic_assignments.csv', index_col = 0) # import metadata with taxonomic assignment dataframe\n",
    "print(taxonomic_assignments.shape)\n",
    "#print(taxonomic_assignments.head())\n",
    "taxonomic_assignments = taxonomic_assignments[taxonomic_assignments['diet_milk'] != 'no milk']\n",
    "# REMOVED no milk, not specified what they mean, are the babies ill so getting food via infuse\n",
    "# or did the mother run out of milk, does this then mean the babies are on formula?\n",
    "# or are they on solid food?\n",
    "print(taxonomic_assignments['diet_weaning'].unique(), ' possible values of diet weaning')\n",
    "print(taxonomic_assignments['diet_milk'].unique(), ' possible values of diet milk')\n",
    "print(taxonomic_assignments.shape)"
   ]
  },
  {
   "cell_type": "code",
   "execution_count": 5,
   "id": "e0bf2cec-f222-403d-ad19-448bc5171d46",
   "metadata": {},
   "outputs": [
    {
     "name": "stdout",
     "output_type": "stream",
     "text": [
      "339 total number of taxonomies, all levels\n",
      "140 species were identified in total\n",
      "Index(['Library Layout', 'Instrument', 'collection_date', 'geo_location_name',\n",
      "       'geo_latitude', 'geo_longitude', 'host_id', 'age_days', 'weight_kg',\n",
      "       'length_cm', 'WAZ', 'HAZ', 'WHZ', 'BMI', 'birth_weight_g',\n",
      "       'birth_length_cm', 'sex', 'delivery_mode', 'zygosity', 'race',\n",
      "       'ethnicity', 'delivery_preterm', 'diet_milk', 'diet_weaning',\n",
      "       'age_months'],\n",
      "      dtype='object')\n",
      "count     1639.000000\n",
      "mean      5628.410006\n",
      "std       2659.443285\n",
      "min          2.000000\n",
      "25%       3831.000000\n",
      "50%       5419.000000\n",
      "75%       7080.500000\n",
      "max      18401.000000\n",
      "dtype: float64\n"
     ]
    }
   ],
   "source": [
    "col_names = taxonomic_assignments.columns\n",
    "col_names_species = col_names[0:-25] #remove metadata columns, get all species\n",
    "#print(col_names_species)\n",
    "print(len(col_names_species), 'total number of taxonomies, all levels')\n",
    "col_names_species = [i for i in col_names_species if not i.endswith('__')] #remove taxonomies unclassfied until species\n",
    "print(len(col_names_species), 'species were identified in total')\n",
    "metadata_cols = col_names[-25:] #columns with metadata info\n",
    "print(metadata_cols)\n",
    "print(taxonomic_assignments[col_names_species].sum(axis=1).describe()) # for each sample the total number of species abundances"
   ]
  },
  {
   "cell_type": "markdown",
   "id": "24ccb6c2-49d6-4f46-ab1a-0cb4871bf116",
   "metadata": {},
   "source": [
    "## Strings for diet, no Booleans, no NaN"
   ]
  },
  {
   "cell_type": "code",
   "execution_count": 6,
   "id": "845d2734-48fd-4cd6-9a6e-86214c1d232b",
   "metadata": {},
   "outputs": [
    {
     "name": "stdout",
     "output_type": "stream",
     "text": [
      "['weaned' 'weaning' 'not weaning']\n",
      "['weaned' 'bd' 'fd']\n"
     ]
    }
   ],
   "source": [
    "taxonomic_assignments['diet_weaning'] = taxonomic_assignments['diet_weaning'].replace({True: 'weaning', False:'not weaning'})\n",
    "taxonomic_assignments['diet_weaning'] = taxonomic_assignments['diet_weaning'].fillna('weaned')\n",
    "taxonomic_assignments['diet_milk'] = taxonomic_assignments['diet_milk'].fillna('weaned')\n",
    "print(taxonomic_assignments['diet_weaning'].unique())\n",
    "print(taxonomic_assignments['diet_milk'].unique())"
   ]
  },
  {
   "cell_type": "markdown",
   "id": "934ee822-6efa-4bd6-b5fc-d661e7afa297",
   "metadata": {},
   "source": [
    "## Questions about data\n",
    "A. Do all hosts go through weaning? \n",
    "    \n",
    "    A: Yes\n",
    "    \n",
    "B. How many hosts switch back and forth 1 or more times between weaning True/False or NaN?\n",
    "    \n",
    "    B: 61 for weaning, 51 for milk. \n",
    "    \n",
    "C. What is the distribution of diets?\n",
    "\n",
    "    A: See bar plot\n",
    "D. Do they still mention the milk type while weaning?\n",
    "\n",
    "E. Filter metadata file to contain only all timepoints not weaning (first continuous timepoints and then fully weaned continuous timepoints) So remove all timepoints where are switching between not weaning / weaning and weaning / weaned, so stable microbiome can be reached and then can use this to compare the microbiomes of monozygotic and dizygotic twins. "
   ]
  },
  {
   "cell_type": "code",
   "execution_count": 7,
   "id": "3f28bc4b-8fc6-4bdc-a074-678559ea0fed",
   "metadata": {
    "tags": []
   },
   "outputs": [],
   "source": [
    "###A.\n",
    "host_numbers = taxonomic_assignments['host_id'].unique()\n",
    "for host in host_numbers:\n",
    "    df = taxonomic_assignments[taxonomic_assignments['host_id'] == host]\n",
    "    if (df['diet_weaning'] == 'weaning').sum() == 0:\n",
    "        print(host, 'did not wean')"
   ]
  },
  {
   "cell_type": "code",
   "execution_count": 42,
   "id": "82141619-b356-4f69-aad5-f2dc3cc1ccc6",
   "metadata": {
    "collapsed": true,
    "jupyter": {
     "outputs_hidden": true
    },
    "tags": []
   },
   "outputs": [
    {
     "name": "stdout",
     "output_type": "stream",
     "text": [
      "857\n",
      "              id Library Layout      Instrument      collection_date  \\\n",
      "2     ERR1314184         PAIRED  Illumina MiSeq  2011-12-11 00:00:00   \n",
      "3     ERR1314185         PAIRED  Illumina MiSeq  2011-12-11 00:00:00   \n",
      "4     ERR1314186         PAIRED  Illumina MiSeq  2013-01-12 00:00:00   \n",
      "10    ERR1314192         PAIRED  Illumina MiSeq  2012-03-12 00:00:00   \n",
      "22    ERR1314207         PAIRED  Illumina MiSeq  2011-07-12 00:00:00   \n",
      "...          ...            ...             ...                  ...   \n",
      "1658  ERR1310699         PAIRED  Illumina MiSeq  2012-12-11 00:00:00   \n",
      "1659  ERR1310700         PAIRED  Illumina MiSeq  2013-02-03 00:00:00   \n",
      "1662  ERR1310703         PAIRED  Illumina MiSeq  2011-12-27 00:00:00   \n",
      "1663  ERR1310704         PAIRED  Illumina MiSeq  2013-01-31 00:00:00   \n",
      "1667  ERR1310709         PAIRED  Illumina MiSeq  2012-01-18 00:00:00   \n",
      "\n",
      "             geo_location_name  geo_latitude  geo_longitude  host_id  \\\n",
      "2     USA, Missouri, St. Louis      38.63699     -90.263794     28.1   \n",
      "3     USA, Missouri, St. Louis      38.63699     -90.263794     28.2   \n",
      "4     USA, Missouri, St. Louis      38.63699     -90.263794     39.2   \n",
      "10    USA, Missouri, St. Louis      38.63699     -90.263794     27.2   \n",
      "22    USA, Missouri, St. Louis      38.63699     -90.263794      6.1   \n",
      "...                        ...           ...            ...      ...   \n",
      "1658  USA, Missouri, St. Louis      38.63699     -90.263794     25.1   \n",
      "1659  USA, Missouri, St. Louis      38.63699     -90.263794     25.1   \n",
      "1662  USA, Missouri, St. Louis      38.63699     -90.263794     25.2   \n",
      "1663  USA, Missouri, St. Louis      38.63699     -90.263794     25.2   \n",
      "1667  USA, Missouri, St. Louis      38.63699     -90.263794     27.1   \n",
      "\n",
      "      age_days  weight_kg  ...  birth_length_cm     sex       delivery_mode  \\\n",
      "2        536.0        NaN  ...             51.0  female            Cesarean   \n",
      "3        537.0        NaN  ...             50.0  female            Cesarean   \n",
      "4        688.0        NaN  ...             48.0    male            Cesarean   \n",
      "10       649.0        NaN  ...             45.0  female            Cesarean   \n",
      "22       554.0        NaN  ...             51.0  female             Vaginal   \n",
      "...        ...        ...  ...              ...     ...                 ...   \n",
      "1658     945.0        NaN  ...             49.0  female             Vaginal   \n",
      "1659     999.0        NaN  ...             49.0  female             Vaginal   \n",
      "1662     594.0     12.531  ...             48.0  female  Cesarean_emergency   \n",
      "1663     996.0        NaN  ...             48.0  female  Cesarean_emergency   \n",
      "1667     594.0        NaN  ...             45.0  female            Cesarean   \n",
      "\n",
      "         zygosity              race     ethnicity  delivery_preterm diet_milk  \\\n",
      "2     Monozygotic         Caucasian  Not Hispanic             False       NaN   \n",
      "3     Monozygotic         Caucasian  Not Hispanic             False       NaN   \n",
      "4     Monozygotic  African-American  Not Hispanic              True       NaN   \n",
      "10      Dizygotic         Caucasian      Hispanic              True       NaN   \n",
      "22        Unknown         Caucasian  Not Hispanic             False       NaN   \n",
      "...           ...               ...           ...               ...       ...   \n",
      "1658  Monozygotic         Caucasian      Hispanic             False       NaN   \n",
      "1659  Monozygotic         Caucasian      Hispanic             False       NaN   \n",
      "1662  Monozygotic         Caucasian      Hispanic             False       NaN   \n",
      "1663  Monozygotic         Caucasian      Hispanic             False       NaN   \n",
      "1667    Dizygotic         Caucasian      Hispanic              True       NaN   \n",
      "\n",
      "     diet_weaning age_months  \n",
      "2          weaned       18.0  \n",
      "3          weaned       18.0  \n",
      "4          weaned       23.0  \n",
      "10         weaned       21.0  \n",
      "22         weaned       18.0  \n",
      "...           ...        ...  \n",
      "1658       weaned       31.0  \n",
      "1659       weaned       33.0  \n",
      "1662       weaned       20.0  \n",
      "1663       weaned       33.0  \n",
      "1667       weaned       20.0  \n",
      "\n",
      "[857 rows x 26 columns]\n",
      "['not weaning', 'weaned']\n",
      "[0, 1]\n",
      "['not weaning', 'weaned']\n",
      "[0, 1]\n",
      "['not weaning', 'weaned']\n",
      "[0, 3]\n",
      "['not weaning', 'weaned']\n",
      "[0, 3]\n",
      "['not weaning', 'weaned']\n",
      "[0, 1]\n",
      "['not weaning', 'weaned']\n",
      "[0, 2]\n",
      "['not weaning', 'weaned']\n",
      "[0, 1]\n",
      "['not weaning', 'weaned']\n",
      "[0, 3]\n",
      "['not weaning', 'weaned']\n",
      "[0, 1]\n",
      "['not weaning', 'weaned']\n",
      "[0, 3]\n",
      "['not weaning', 'weaned']\n",
      "[0, 3]\n",
      "['not weaning', 'weaned']\n",
      "[0, 4]\n",
      "['not weaning', 'weaned']\n",
      "[0, 3]\n",
      "['not weaning', 'weaned']\n",
      "[0, 2]\n",
      "['not weaning', 'weaned']\n",
      "[0, 3]\n",
      "['not weaning', 'weaned']\n",
      "[0, 1]\n",
      "['not weaning', 'weaned']\n",
      "[0, 1]\n",
      "['not weaning', 'weaned']\n",
      "[0, 1]\n",
      "['not weaning', 'weaned']\n",
      "[0, 1]\n",
      "['not weaning', 'weaned']\n",
      "[0, 2]\n",
      "['not weaning', 'weaned']\n",
      "[0, 2]\n",
      "['not weaning', 'weaned']\n",
      "[0, 1]\n",
      "['not weaning', 'weaned']\n",
      "[0, 2]\n",
      "['not weaning', 'weaned']\n",
      "[0, 1]\n",
      "['not weaning', 'weaned']\n",
      "[0, 1]\n",
      "['not weaning', 'weaned']\n",
      "[0, 2]\n",
      "['not weaning', 'weaned']\n",
      "[0, 1]\n",
      "['not weaning', 'weaned']\n",
      "[0, 1]\n",
      "['not weaning', 'weaned']\n",
      "[0, 2]\n",
      "['not weaning', 'weaned']\n",
      "[0, 3]\n",
      "['not weaning', 'weaned']\n",
      "[0, 2]\n",
      "['not weaning', 'weaned']\n",
      "[0, 2]\n",
      "['not weaning', 'weaned']\n",
      "[0, 1]\n",
      "['not weaning', 'weaned']\n",
      "[0, 3]\n",
      "['not weaning', 'weaned']\n",
      "[0, 4]\n",
      "['not weaning', 'weaned']\n",
      "[0, 4]\n",
      "['not weaning', 'weaned']\n",
      "[0, 1]\n",
      "['not weaning', 'weaned']\n",
      "[0, 1]\n",
      "['not weaning', 'weaned']\n",
      "[0, 6]\n",
      "['not weaning', 'weaned']\n",
      "[0, 4]\n",
      "['not weaning', 'weaned']\n",
      "[0, 4]\n",
      "['not weaning', 'weaned']\n",
      "[0, 4]\n",
      "['not weaning', 'weaned']\n",
      "[0, 5]\n",
      "['not weaning', 'weaned']\n",
      "[0, 5]\n",
      "['not weaning', 'weaned']\n",
      "[0, 2]\n",
      "['not weaning', 'weaned']\n",
      "[0, 1]\n",
      "['not weaning', 'weaned']\n",
      "[0, 1]\n",
      "['not weaning', 'weaned']\n",
      "[0, 1]\n",
      "['not weaning', 'weaned']\n",
      "[0, 3]\n",
      "['not weaning', 'weaned']\n",
      "[0, 1]\n",
      "['not weaning', 'weaned']\n",
      "[0, 3]\n",
      "['not weaning', 'weaned']\n",
      "[0, 4]\n",
      "['not weaning', 'weaned']\n",
      "[0, 4]\n",
      "['not weaning', 'weaned']\n",
      "[0, 2]\n",
      "['not weaning', 'weaned']\n",
      "[0, 2]\n",
      "['not weaning', 'weaned']\n",
      "[0, 2]\n",
      "['not weaning', 'weaned']\n",
      "[0, 4]\n",
      "['not weaning', 'weaned']\n",
      "[0, 5]\n",
      "['not weaning', 'weaned']\n",
      "[0, 2]\n",
      "['not weaning', 'weaned']\n",
      "[0, 2]\n"
     ]
    }
   ],
   "source": [
    "### D.\n",
    "def collapse_consec_values(series): # function to collapse consecutive identical values into 1 \n",
    "    # e.g. ['not weaning', 'weaning', 'weaning', 'weaning', 'weaned', 'weaning']\n",
    "    # into ['not weaning', 'weaning', 'weaned', 'weaning']\n",
    "    series = list(series)\n",
    "    new = []; new.append(series[0])\n",
    "    indices = []; indices.append(0)\n",
    "    for i in range(1, len(series)):\n",
    "        if series[i] != series[i-1]:\n",
    "            new.append(series[i])\n",
    "            indices.append(i) # log index of first time you see a state or repeat a state\n",
    "    return new, indices\n",
    "\n",
    "#print(metadata.head())\n",
    "metadata['diet_weaning'] = metadata['diet_weaning'].replace({True: 'weaning', False:'not weaning'})\n",
    "metadata['diet_weaning'] = metadata['diet_weaning'].fillna('weaned')\n",
    "twins_numbers = np.unique(np.array([round(x) for x in host_numbers]))\n",
    "def collapse(metadata, host):\n",
    "    df = metadata[metadata['host_id'] == host]\n",
    "    ages = df['age_days']\n",
    "    ages = ages.sort_values()\n",
    "    df = df.loc[ages.index, ] # sort by age\n",
    "    weanings, weanings_ind = collapse_consec_values(df['diet_weaning'])\n",
    "    #print(df[['age_days','diet_weaning', 'host_id', 'id']])\n",
    "    #print(ages.iloc[weanings_ind])\n",
    "    return weanings,weanings_ind, len(ages)\n",
    "\n",
    "def get_id(metadata, host, ind):\n",
    "    df = metadata[metadata['host_id'] == host]\n",
    "    ages = df['age_days']\n",
    "    ages = ages.sort_values()\n",
    "    df = df.loc[ages.index, ] # sort by age\n",
    "    return df['id'].iloc[ind]\n",
    "\n",
    "ids_keep = list()\n",
    "for twins in twins_numbers:\n",
    "    #twins = 14\n",
    "    weanings1, weanings_ind1, length1 = collapse(metadata, twins+0.1)\n",
    "    weanings2, weanings_ind2, length2 = collapse(metadata, twins+0.2)\n",
    "    #print(weanings1)\n",
    "    #print(weanings2)\n",
    "    #print(weanings_ind1)\n",
    "    #print(weanings_ind2)\n",
    "\n",
    "    try:\n",
    "        first_not1 = weanings_ind1[weanings1.index('not weaning')]\n",
    "        first_not2 = weanings_ind2[weanings2.index('not weaning')]\n",
    "        last_not1 = weanings_ind1[weanings1.index('not weaning')+1]-1\n",
    "        last_not2 = weanings_ind2[weanings2.index('not weaning')+1]-1\n",
    "\n",
    "        first_weaned1 = weanings_ind1[len(weanings1) - 1 - weanings1[::-1].index('weaned')]\n",
    "        first_weaned2 = weanings_ind2[len(weanings2) - 1 - weanings2[::-1].index('weaned')]\n",
    "        #print(first_not1)\n",
    "        #print(first_not2)\n",
    "\n",
    "        #print(last_not1)\n",
    "        #print(last_not2)\n",
    "\n",
    "        #print(first_weaned1)\n",
    "        #print(first_weaned2)\n",
    "\n",
    "        notweaning_overlap = list(range(max(first_not1,first_not2), min(last_not1, last_not2)+1))\n",
    "        weaned_overlap = list(range(max(first_weaned1,first_weaned2), min(length1, length2)+1))\n",
    "\n",
    "        #print(notweaning_overlap)\n",
    "        #print(weaned_overlap)\n",
    "        ids_keep.extend(list(get_id(metadata, twins+0.1, range(first_not1, last_not1+1))))\n",
    "        ids_keep.extend(list(get_id(metadata, twins+0.2, range(first_not2, last_not2+1))))\n",
    "\n",
    "        ids_keep.extend(list(get_id(metadata, twins+0.1, range(first_weaned1, length1))))\n",
    "        ids_keep.extend(list(get_id(metadata, twins+0.2, range(first_weaned2, length2))))\n",
    "\n",
    "    except: pass\n",
    "print(len(ids_keep))\n",
    "#print(metadata.loc[metadata['id'].isin(ids_keep), :])\n",
    "metadata_not_weaning_weaned = metadata.loc[metadata['id'].isin(ids_keep), :]\n",
    "metadata_not_weaning_weaned = metadata_not_weaning_weaned.sort_values('host_id')\n",
    "metadata_not_weaning_weaned.to_csv(data_dir+'/metadata_only_before_after_weaning.csv', index = False)#, index_label=None)\n",
    "\n",
    "for host in metadata_not_weaning_weaned['host_id'].unique():\n",
    "    weanings1, weanings_ind1, length1 = collapse(metadata_not_weaning_weaned, host)\n",
    "    print(weanings1)\n",
    "    print(weanings_ind1)"
   ]
  },
  {
   "cell_type": "code",
   "execution_count": 24,
   "id": "fca10330-72ea-46c6-8945-217ac3143249",
   "metadata": {
    "collapsed": true,
    "jupyter": {
     "outputs_hidden": true
    },
    "tags": []
   },
   "outputs": [
    {
     "name": "stdout",
     "output_type": "stream",
     "text": [
      "['weaning', 'weaned']\n",
      "10.1\n",
      "['not weaning', 'weaning', 'weaned', 'weaning', 'weaned']\n",
      "14.1\n",
      "['fd', 'weaned', 'fd', 'weaned']\n",
      "['not weaning', 'weaning', 'weaned', 'weaning', 'weaned']\n",
      "14.2\n",
      "['fd', 'weaned', 'fd', 'weaned']\n",
      "['not weaning', 'weaning', 'not weaning', 'weaning', 'weaned']\n",
      "15.1\n",
      "['not weaning', 'weaning', 'not weaning', 'weaning', 'weaned']\n",
      "15.2\n",
      "['not weaning', 'weaning', 'not weaning', 'weaning', 'weaned']\n",
      "16.1\n",
      "['not weaning', 'weaning', 'not weaning', 'weaning', 'weaned']\n",
      "16.2\n",
      "['not weaning', 'weaning', 'not weaning', 'weaning', 'weaned']\n",
      "17.1\n",
      "['not weaning', 'weaning', 'not weaning', 'weaning', 'weaned', 'weaning', 'weaned']\n",
      "17.2\n",
      "['bd', 'fd', 'weaned', 'fd', 'weaned']\n",
      "['weaning', 'weaned']\n",
      "19.1\n",
      "['fd', 'bd', 'fd', 'bd', 'weaned']\n",
      "['bd', 'fd', 'bd', 'fd', 'bd', 'fd', 'weaned']\n",
      "['not weaning', 'weaning', 'weaned', 'weaning', 'weaned']\n",
      "2.1\n",
      "['bd', 'fd', 'weaned', 'fd', 'weaned']\n",
      "['weaning', 'weaned', 'weaning']\n",
      "11.1\n",
      "only weaning and weaned\n",
      "['fd', 'weaned', 'fd']\n",
      "['weaning']\n",
      "11.2\n",
      "['not weaning', 'weaning', 'weaned', 'weaning', 'weaned']\n",
      "23.1\n",
      "['fd', 'weaned', 'fd', 'weaned']\n",
      "['not weaning', 'weaning']\n",
      "26.1\n",
      "['not weaning', 'weaning']\n",
      "26.2\n",
      "['weaning', 'weaned']\n",
      "29.1\n",
      "['not weaning', 'weaned', 'weaning', 'weaned']\n",
      "36.1\n",
      "['bd', 'fd', 'weaned', 'fd', 'weaned']\n",
      "['not weaning', 'weaned', 'weaning', 'weaned']\n",
      "36.2\n",
      "['fd', 'weaned', 'fd', 'weaned']\n",
      "['not weaning', 'weaning', 'weaned', 'weaning', 'weaned']\n",
      "3.1\n",
      "['bd', 'fd', 'weaned', 'fd', 'weaned']\n",
      "['not weaning', 'weaning', 'weaned', 'weaning', 'weaned']\n",
      "3.2\n",
      "['bd', 'fd', 'weaned', 'fd', 'weaned']\n",
      "['weaning', 'weaned', 'weaning', 'weaned']\n",
      "47.1\n",
      "only weaning and weaned\n",
      "['fd', 'weaned', 'fd', 'weaned']\n",
      "['weaning', 'weaned', 'weaning', 'weaned']\n",
      "47.2\n",
      "only weaning and weaned\n",
      "['fd', 'weaned', 'fd', 'weaned']\n",
      "['not weaning', 'weaning', 'weaned', 'weaning', 'weaned']\n",
      "6.2\n",
      "['fd', 'weaned', 'fd', 'weaned']\n",
      "['weaning', 'weaned']\n",
      "29.2\n",
      "['bd', 'fd', 'bd', 'fd', 'weaned']\n",
      "['weaning', 'not weaning', 'weaning', 'weaned', 'weaning', 'weaned']\n",
      "6.1\n",
      "['fd', 'weaned', 'fd', 'weaned']\n",
      "['not weaning', 'weaning', 'not weaning', 'weaning', 'weaned', 'weaning', 'not weaning', 'weaned']\n",
      "45.2\n",
      "['fd', 'bd', 'fd', 'weaned', 'fd', 'weaned']\n",
      "['fd', 'bd', 'fd', 'weaned']\n",
      "['fd', 'bd', 'fd', 'weaned']\n",
      "['not weaning', 'weaning', 'not weaning', 'weaned']\n",
      "45.1\n",
      "['not weaning', 'weaning', 'weaned', 'weaning', 'weaned']\n",
      "44.2\n",
      "['fd', 'bd', 'fd', 'weaned', 'fd', 'weaned']\n",
      "['not weaning', 'weaning', 'not weaning', 'weaning', 'weaned', 'weaning', 'weaned']\n",
      "40.2\n",
      "['fd', 'weaned', 'fd', 'weaned']\n",
      "['weaning', 'weaned']\n",
      "35.1\n",
      "['not weaning', 'weaning', 'weaned', 'weaning', 'weaned']\n",
      "35.2\n",
      "['bd', 'weaned', 'bd', 'fd', 'weaned']\n",
      "['not weaning', 'weaning', 'not weaning', 'weaning', 'weaned']\n",
      "5.1\n",
      "['weaning', 'not weaning', 'weaning', 'weaned']\n",
      "5.2\n",
      "['not weaning', 'weaning', 'not weaning', 'weaning', 'weaned']\n",
      "8.1\n",
      "['fd', 'bd', 'fd', 'weaned']\n",
      "['weaning', 'weaned']\n",
      "37.1\n",
      "['weaning', 'weaned']\n",
      "37.2\n",
      "['weaning', 'not weaning', 'weaning', 'weaned']\n",
      "39.1\n",
      "['weaning', 'not weaning', 'weaning', 'weaned']\n",
      "39.2\n",
      "['fd', 'bd', 'fd', 'weaned']\n",
      "['not weaning', 'weaning', 'weaned', 'weaning', 'weaned']\n",
      "46.1\n",
      "['fd', 'weaned', 'fd', 'weaned']\n",
      "['weaning', 'weaned']\n",
      "4.2\n",
      "['not weaning', 'weaning']\n",
      "48.1\n",
      "['not weaning', 'weaning']\n",
      "48.2\n",
      "0  repeat measurements for one age (days)\n",
      "30  number of hosts that switch back and forth between weaning and/or not weaning and/or NaN\n",
      "26  number of hosts that switch back and forth between breast milk and/or formula and/or no milk and/or NaN\n",
      "61  number of times a weaning mode is repeated after another (not taking into account consecutive instances, they count as one)\n",
      "51  number of times a milk feeding mode is repeated after another (not taking into account consecutive instances, they count as one)\n",
      "[103 157]  number of times a weaning mode is repeated after another (taking into account consecutive instances)\n",
      "[ 73 240]  number of times a milk mode is repeated after another (taking into account consecutive instances)\n"
     ]
    }
   ],
   "source": [
    "###B.\n",
    "def count_back_switches(collapsed, ind, series): # assume weaning False, True, NaN is normal order\n",
    "    # baby goes from drinking milk, to switching to solid food, to eating only solid food\n",
    "    # however sometimes there's trial and error so need can repeat states\n",
    "    # find 1st occurrence of weaning False, then last of weaning True and NaN\n",
    "    collapsed = np.array(collapsed)\n",
    "    coll_un = np.unique(collapsed)\n",
    "    for states in coll_un:\n",
    "        if states == 'not weaning': weaning_false_ind = np.argwhere(collapsed == 'not weaning')[0][0]\n",
    "        if states == 'weaning': \n",
    "            weaning_true_ind1 = np.argwhere(collapsed =='weaning')[-1][0]\n",
    "            weaning_true_ind2 = np.argwhere(collapsed =='weaning')[0][0]\n",
    "        if states == 'weaned': weaned_ind = np.argwhere(collapsed == 'weaned')[-1][0]\n",
    "    if len(coll_un) == 3:\n",
    "        return np.array([ ind[weaning_true_ind1] - ind[weaning_false_ind+1], ind[weaned_ind] - ind[weaning_true_ind2+1] ])\n",
    "    # count the first repeats as repeats, count the last repeats as repeats\n",
    "    if 'not weaning' not in coll_un:\n",
    "        print('only weaning and weaned')\n",
    "        return np.array([ ind[weaning_true_ind1], ind[weaned_ind] - ind[weaning_true_ind2+1] ])\n",
    "    if 'weaned' not in coll_un:\n",
    "        print('only not weaning and weaning')\n",
    "        return np.array([ ind[weaning_true_ind1] - ind[weaning_false_ind+1], len(series) - ind[weaning_true_ind2 + 1] ])\n",
    "    \n",
    "def count_back_switches_milk(series): # assume weaning False, True, NaN is normal order\n",
    "    # baby goes from drinking milk, to switching to solid food, to eating only solid food\n",
    "    # however sometimes there's trial and error so need can repeat states\n",
    "    # find 1st occurrence of weaning False, then last of weaning True and NaN\n",
    "    series = series.replace({'fd':'milk','bd':'milk', 'weaned':'weaned'})\n",
    "    collapsed, ind =  collapse_consec_values(series)\n",
    "    if len(np.unique(np.array(collapsed))) < len(collapsed):\n",
    "        collapsed = np.array(collapsed)\n",
    "        coll_un = np.unique(collapsed)\n",
    "        for states in coll_un:\n",
    "            if states == 'milk': weaning_false_ind = np.argwhere(collapsed == 'milk')[0][0]\n",
    "            if states == 'weaned': \n",
    "                weaned_ind1 = np.argwhere(collapsed == 'weaned')[-1][0]\n",
    "                weaned_ind2 = np.argwhere(collapsed == 'weaned')[0][0]\n",
    "        if len(coll_un) == 2:\n",
    "            return np.array([ ind[weaned_ind1] - ind[weaning_false_ind+1], len(series) - ind[weaned_ind2+1] ])\n",
    "    else: return np.array([0,0])\n",
    "\n",
    "total_switch_weaning=0\n",
    "number_switch_weaning=0\n",
    "num_total_switch_weaning = np.array([0,0])\n",
    "total_switch_milk=0 # fact that the host switched between modes at least once or not\n",
    "number_switch_milk=0 # number of extra switches in each host, summed\n",
    "num_total_switch_milk= np.array([0,0])\n",
    "\n",
    "for host in host_numbers:\n",
    "    df = taxonomic_assignments[taxonomic_assignments['host_id'] == host]\n",
    "    ages = df['age_days']\n",
    "    ages = ages.sort_values()\n",
    "    df = df.loc[ages.index, ] # sort by age\n",
    "    weanings, weanings_ind = collapse_consec_values(df['diet_weaning'])\n",
    "    \n",
    "    if weanings != ['not weaning', 'weaning', 'weaned']: #expected normal sequence\n",
    "        # note that some babies have only some timepoints e.g. not weaning or ['weaning', 'weaned']\n",
    "        print(weanings); print(host)\n",
    "        b = 1\n",
    "    \n",
    "    try: # check if NaN is also used as entry before first occurrence of not weaning (weaning False)\n",
    "        # luckily this is not the case\n",
    "        if weanings.index('weaned') < weanings.index('not weaning'):\n",
    "            print(weanings); print(host)\n",
    "            print(' has NaN value before first occurrence of weaning False')\n",
    "    except: pass\n",
    "    \n",
    "    if len(np.unique(np.array(weanings))) < len(weanings):\n",
    "        total_switch_weaning = total_switch_weaning + 1\n",
    "        number_switch_weaning = number_switch_weaning + len(weanings) - len(np.unique(np.array(weanings)))\n",
    "        num_total_switch_weaning = num_total_switch_weaning + count_back_switches(weanings, weanings_ind, df['diet_weaning'])\n",
    "        \n",
    "    milk, milk_ind = collapse_consec_values(df['diet_milk'])\n",
    "    if len(np.unique(np.array(milk))) < len(milk):\n",
    "        print(milk)\n",
    "        total_switch_milk = total_switch_milk + 1\n",
    "        number_switch_milk = number_switch_milk+ len(milk) - len(np.unique(np.array(milk)))\n",
    "        num_total_switch_milk = num_total_switch_milk + count_back_switches_milk(df['diet_milk'])\n",
    "    #print(milk)\n",
    "    \n",
    "    if len(ages.unique()) < len(ages):\n",
    "        print(host)\n",
    "        a=a+1\n",
    "print(a, ' repeat measurements for one age (days)')\n",
    "print(total_switch_weaning, ' number of hosts that switch back and forth between weaning and/or not weaning and/or NaN')\n",
    "print(total_switch_milk, ' number of hosts that switch back and forth between breast milk and/or formula and/or no milk and/or NaN')\n",
    "\n",
    "print(number_switch_weaning, ' number of times a weaning mode is repeated after another (not taking into account consecutive instances, they count as one)')\n",
    "print(number_switch_milk, ' number of times a milk feeding mode is repeated after another (not taking into account consecutive instances, they count as one)')\n",
    "\n",
    "print(num_total_switch_weaning, ' number of times a weaning mode is repeated after another (taking into account consecutive instances)')\n",
    "print(num_total_switch_milk, ' number of times a milk mode is repeated after another (taking into account consecutive instances)')"
   ]
  },
  {
   "cell_type": "code",
   "execution_count": null,
   "id": "83de586d-e458-46e4-923e-901de2a77d37",
   "metadata": {
    "jupyter": {
     "source_hidden": true
    },
    "tags": []
   },
   "outputs": [],
   "source": [
    "# DEBUGGING, DELETE WHEN DONE\n",
    "series = df['diet_milk']\n",
    "series = series.replace({'fd':'milk','bd':'milk', 'weaned':'weaned'})\n",
    "collapsed, ind =  collapse_consec_values(series)\n",
    "if len(np.unique(np.array(collapsed))) < len(collapsed):\n",
    "    collapsed = np.array(collapsed)\n",
    "    coll_un = np.unique(collapsed)\n",
    "    for states in coll_un:\n",
    "        if states == 'milk': weaning_false_ind = np.argwhere(collapsed == 'milk')[0][0]\n",
    "        if states == 'weaned': \n",
    "            weaned_ind1 = np.argwhere(collapsed == 'weaned')[-1][0]\n",
    "            weaned_ind2 = np.argwhere(collapsed == 'weaned')[0][0]\n",
    "    if len(coll_un) == 2:\n",
    "        a= np.array([ ind[weaned_ind1] - ind[weaning_false_ind+1], len(series) - ind[weaning_true_ind2+1] ])\n",
    "\n"
   ]
  },
  {
   "cell_type": "code",
   "execution_count": null,
   "id": "c9a78001-62c1-4ca4-bbe1-0c95c011a2e2",
   "metadata": {},
   "outputs": [],
   "source": [
    "###C.\n",
    "plt.figure()\n",
    "taxonomic_assignments['diet_weaning'].value_counts().plot(kind='bar')\n",
    "plt.figure()\n",
    "taxonomic_assignments['diet_milk'].value_counts().plot(kind='bar')"
   ]
  },
  {
   "cell_type": "markdown",
   "id": "df97a470-e993-4fc5-bc52-e1add42cde27",
   "metadata": {},
   "source": [
    "## Decision tree classifier for milk diet and for weaning"
   ]
  },
  {
   "cell_type": "code",
   "execution_count": null,
   "id": "2a5679fc-ccc5-4a0e-bb0d-e38e5a0aca8e",
   "metadata": {},
   "outputs": [],
   "source": [
    "def metrics(model, target, predictor):\n",
    "    cv_predict = cross_val_predict(model, predictor, target, cv=5)\n",
    "    class_report = classification_report(target, cv_predict, output_dict = True)\n",
    "    print(classification_report(target, cv_predict, output_dict = False)) #, target_names=target_names))\n",
    "    #print(class_report.index)\n",
    "    conf_matrix = pd.DataFrame(confusion_matrix(target, cv_predict))\n",
    "    conf_matrix.columns = list(class_report.keys())[0:-3]\n",
    "    conf_matrix['index'] = list(class_report.keys())[0:-3]\n",
    "    conf_matrix.set_index('index', inplace = True)\n",
    "    print(conf_matrix)\n",
    "    \n",
    "def DTC(target, predictor):\n",
    "    clf = DecisionTreeClassifier(random_state=42)#, max_depth = 50, min_samples_split = 0.01)\n",
    "    cv_clf_milk = cross_val_score(clf, predictor, target, cv=5)\n",
    "    print(round(sum(cv_clf_milk)/len(cv_clf_milk)*100,2), ' percentage of classes that were correctly predicted in cross validation')\n",
    "    metrics(clf, target, predictor)"
   ]
  },
  {
   "cell_type": "code",
   "execution_count": null,
   "id": "06c7de11-9125-43b6-b84a-d7c53708db5f",
   "metadata": {},
   "outputs": [],
   "source": [
    "DTC(taxonomic_assignments['diet_milk'], taxonomic_assignments[col_names_species])\n",
    "DTC(taxonomic_assignments['diet_weaning'], taxonomic_assignments[col_names_species])"
   ]
  },
  {
   "cell_type": "code",
   "execution_count": null,
   "id": "6513acb3-7636-4ecb-b4f1-6dea8181ea44",
   "metadata": {},
   "outputs": [],
   "source": [
    "taxonomic_assignments[col_names_species].isnull().sum().sum()"
   ]
  },
  {
   "cell_type": "markdown",
   "id": "7efe6143-0f12-44f7-ae94-3fe3dac58d35",
   "metadata": {},
   "source": [
    "## Random Forest Classifier"
   ]
  },
  {
   "cell_type": "code",
   "execution_count": null,
   "id": "34fdb830-f40f-4105-a850-99623054cb0c",
   "metadata": {},
   "outputs": [],
   "source": [
    "def RFC(target, predictor):\n",
    "    rfc = RandomForestClassifier(random_state=42)#, max_depth = 50, min_samples_split = 0.01)\n",
    "    #target = taxonomic_assignments['diet_milk'].fillna('weaned')\n",
    "    cv_rfc_milk = cross_val_score(rfc, predictor, target, cv=10)\n",
    "    print(round(sum(cv_rfc_milk)/len(cv_rfc_milk)*100,2), ' percentage of classes that were correctly predicted in cross validation')\n",
    "    metrics(rfc, target, predictor)"
   ]
  },
  {
   "cell_type": "code",
   "execution_count": null,
   "id": "4c466fec-511d-4422-a3d9-607818bf1f04",
   "metadata": {},
   "outputs": [],
   "source": [
    "RFC(taxonomic_assignments['diet_milk'], taxonomic_assignments[col_names_species])\n",
    "RFC(taxonomic_assignments['diet_weaning'], taxonomic_assignments[col_names_species])"
   ]
  },
  {
   "cell_type": "markdown",
   "id": "30f35485-a231-48cf-8c4c-56026bc4744e",
   "metadata": {},
   "source": [
    "## SVM"
   ]
  },
  {
   "cell_type": "code",
   "execution_count": null,
   "id": "9048ff79-1e8b-48fa-bf6f-270afb8f8267",
   "metadata": {},
   "outputs": [],
   "source": [
    "def SVMC(target, predictor):\n",
    "    clf = svm.SVC(random_state=42, kernel = 'rbf', C = 1) # kernel can also be rbf, linear or poly\n",
    "    # can set C = something less than 1 to regularize, prevent overfitting as have more parameters than \n",
    "    cv_clf_milk = cross_val_score(clf, predictor, target, cv=5)\n",
    "    print(round(sum(cv_clf_milk)/len(cv_clf_milk)*100,2), ' percentage of classes that were correctly predicted in cross validation')\n",
    "    metrics(clf, target, predictor)"
   ]
  },
  {
   "cell_type": "code",
   "execution_count": null,
   "id": "2b3e0494-e7b8-4768-96d8-784eb2af26df",
   "metadata": {},
   "outputs": [],
   "source": [
    "SVMC(taxonomic_assignments['diet_milk'], taxonomic_assignments[col_names_species])\n",
    "SVMC(taxonomic_assignments['diet_weaning'], taxonomic_assignments[col_names_species])"
   ]
  },
  {
   "cell_type": "markdown",
   "id": "d52d20aa-124f-4c44-b89f-dab2740c9466",
   "metadata": {},
   "source": [
    "## Ideas\n",
    "* transform counts to fractions\n",
    "* ASV instead of taxonomic assignment\n",
    "* classifier: k-means, GMM (even though not Gaussian :/), Bayes, SVM\n",
    "* Dimensionality reduction: either PCA or one of those or use decision tree to get most important features/species for this classification task\n",
    "* try different taxonomic levels (now have only species)\n",
    "* could select features with decision tree and then build NN classifier\n",
    "* Which classes are being missclassified by these models?\n",
    "* Could we infer response time to change in diet of microbiome from the relapsing into weaning/not weaning/weaned in the transition period?\n",
    "* Build classifier for the zygosity: build one for the first 5 months, then 5-12 then 12 and more. 3 classes: mono, di, not related, make it balanced. If this classifier does well, then it means the genetics have an influence on the microbiome. Input: the taxonomic assignment/ASV of 2 babies. "
   ]
  },
  {
   "cell_type": "markdown",
   "id": "b97106f4-0b62-48fc-9751-98e06a11f5f1",
   "metadata": {},
   "source": [
    "## Repeat analysis using fractions of abundance per species"
   ]
  },
  {
   "cell_type": "code",
   "execution_count": null,
   "id": "b15a808b-793a-422f-a009-f98cd1d26aa4",
   "metadata": {},
   "outputs": [],
   "source": [
    "taxonomic_assignments_frac = taxonomic_assignments[col_names_species].div(taxonomic_assignments[col_names_species].sum(axis=1), axis=0)"
   ]
  },
  {
   "cell_type": "code",
   "execution_count": null,
   "id": "648ee99e-9929-4a78-8caa-c2cfe40064b9",
   "metadata": {},
   "outputs": [],
   "source": [
    "DTC(taxonomic_assignments['diet_milk'], taxonomic_assignments_frac)\n",
    "DTC(taxonomic_assignments['diet_weaning'], taxonomic_assignments_frac)\n",
    "\n",
    "RFC(taxonomic_assignments['diet_milk'], taxonomic_assignments_frac)\n",
    "RFC(taxonomic_assignments['diet_weaning'], taxonomic_assignments_frac)"
   ]
  },
  {
   "cell_type": "markdown",
   "id": "b9c6320d-84a5-4a44-9d33-38fca8b769ab",
   "metadata": {},
   "source": [
    "## PCA + standardize"
   ]
  },
  {
   "cell_type": "code",
   "execution_count": null,
   "id": "56fdf590-6f38-4e68-8d81-784ce2b67a22",
   "metadata": {},
   "outputs": [],
   "source": [
    "from sklearn.preprocessing import StandardScaler\n",
    "\n",
    "def scaler(df, cols):\n",
    "    taxonomic_assignments_normal = pd.DataFrame(StandardScaler().fit_transform(df[cols]))\n",
    "    taxonomic_assignments_normal.columns = df[cols].columns\n",
    "    taxonomic_assignments_normal.set_index(df[cols].index, inplace = True)\n",
    "    return taxonomic_assignments_normal\n",
    "taxonomic_assignments_normal = scaler(taxonomic_assignments, col_names_species)"
   ]
  },
  {
   "cell_type": "code",
   "execution_count": null,
   "id": "5e650e61-e762-4781-b5a8-3272406151c5",
   "metadata": {},
   "outputs": [],
   "source": [
    "from sklearn.decomposition import PCA\n",
    "def PCA_apply(df, cols):\n",
    "    pca = PCA(n_components=2)\n",
    "    principalComponents = pca.fit_transform(df[cols])\n",
    "    principalComponents = pd.DataFrame(principalComponents)\n",
    "    principalComponents.set_index(df[cols].index, inplace = True)\n",
    "\n",
    "    #print(principalComponents.describe())\n",
    "    #print(principalComponents.head())\n",
    "    \n",
    "    plt.figure(); plt.scatter(principalComponents.iloc[:,0], principalComponents.iloc[:,1])\n",
    "    return principalComponents\n",
    "\n",
    "principalComponents = PCA_apply(taxonomic_assignments_normal, col_names_species)\n",
    "principalComponents_notnormal = PCA_apply(taxonomic_assignments, col_names_species)"
   ]
  },
  {
   "cell_type": "code",
   "execution_count": null,
   "id": "694062c7-c9d7-4c40-84fb-9ab2c869d554",
   "metadata": {
    "tags": []
   },
   "outputs": [],
   "source": [
    "RFC(taxonomic_assignments['diet_milk'], principalComponents_notnormal)\n",
    "RFC(taxonomic_assignments['diet_weaning'], principalComponents_notnormal)"
   ]
  },
  {
   "cell_type": "code",
   "execution_count": null,
   "id": "3ab982c3-a695-474c-8d6a-3701a39cd1b5",
   "metadata": {},
   "outputs": [],
   "source": [
    "def pca_weaning_plot(taxonomies, principalComponents, title):\n",
    "    colours_weaning = {'weaning':'red', 'not weaning':'green', 'weaned':'blue'}#, 'other':'black'}\n",
    "    print(colours_weaning)\n",
    "    labels = ['Weaning', ' Not weaning', 'Weaning not specified']\n",
    "    fig, ax = plt.subplots(figsize = (12,8))\n",
    "    i=0\n",
    "    for key in colours_weaning:\n",
    "        indices = (taxonomies['diet_weaning'] == key)\n",
    "        #print(key)\n",
    "        #print(len(indices))\n",
    "        PCAs = principalComponents.loc[indices, ]\n",
    "        ax.scatter(PCAs.iloc[:,0], PCAs.iloc[:,1], \n",
    "                   color = colours_weaning[key], label = labels[i], s = 60-i*15,\n",
    "                   zorder = i, alpha = 1-i*0.3)\n",
    "        ax.axhline(0, linestyle = '--', alpha = 0.4)\n",
    "        ax.axvline(0, linestyle = '--', alpha = 0.4)\n",
    "        i=i+1\n",
    "    ax.legend()\n",
    "    fig.suptitle('Reduced dimensions of data using ' + title + ' \\n coloured by weaning diet')\n",
    "    #ax.set_ylim([-5, 15]) #one outlier at 70\n",
    "\n",
    "pca_weaning_plot(taxonomic_assignments, principalComponents, 'PCA on normalized taxonomy abundances')\n",
    "pca_weaning_plot(taxonomic_assignments, principalComponents_notnormal, 'PCA on non-normalized taxonomy abundances')"
   ]
  },
  {
   "cell_type": "code",
   "execution_count": null,
   "id": "9f329ce0-81aa-4181-a876-67762c394720",
   "metadata": {},
   "outputs": [],
   "source": [
    "def pca_milk_plot(taxonomies, principalComponents, title):\n",
    "    color_formula_breast = {'fd': 'red', 'bd': 'green', 'no milk': 'blue', 'weaned': 'orange'}\n",
    "    labels = ['Formula', 'Breast milk', 'No milk', 'Milk not specified']\n",
    "\n",
    "    fig, ax = plt.subplots(figsize = (12,8))\n",
    "    i=0\n",
    "    for key in color_formula_breast:\n",
    "        indices = (taxonomies['diet_milk'] == key)\n",
    "        PCAs = principalComponents.loc[indices, ]\n",
    "        ax.scatter(PCAs.iloc[:,0], PCAs.iloc[:,1], \n",
    "                   color = color_formula_breast[key], label = labels[i], s = 60-i*15,\n",
    "                    zorder = i, alpha = 1-i*0.15)\n",
    "        ax.axhline(0, linestyle = '--', alpha = 0.4)\n",
    "        ax.axvline(0, linestyle = '--', alpha = 0.4)\n",
    "        i=i+1\n",
    "    ax.legend()\n",
    "    fig.suptitle('Reduced dimensions of data using ' + title + ' \\n coloured by milk diet')\n",
    "    #ax.set_ylim([-5, 15]) #one outlier at 70\n",
    "\n",
    "pca_milk_plot(taxonomic_assignments, principalComponents, 'PCA on normalized taxonomy abundances')\n",
    "pca_milk_plot(taxonomic_assignments, principalComponents_notnormal, 'PCA on non-normalized taxonomy abundances')"
   ]
  },
  {
   "cell_type": "markdown",
   "id": "083af314-c90f-4cab-99a8-ec12c2d95623",
   "metadata": {},
   "source": [
    "### Effect of removing outlier in PCA\n",
    "Did not allow for clustering. "
   ]
  },
  {
   "cell_type": "code",
   "execution_count": null,
   "id": "36cb2c5e-eb26-4348-867f-a520eb3cd7e6",
   "metadata": {},
   "outputs": [],
   "source": [
    "#plt.scatter(np.log(principalComponents.iloc[:,0]), np.log(principalComponents.iloc[:,1]))\n",
    "ind_outlier = principalComponents[principalComponents[1] > 15].index\n",
    "principalComponents.loc[ind_outlier,]"
   ]
  },
  {
   "cell_type": "code",
   "execution_count": null,
   "id": "fc17c269-4673-4435-9d74-580581adea22",
   "metadata": {},
   "outputs": [],
   "source": [
    "taxonomic_assignments_no_outlier_normal = taxonomic_assignments.drop(index = ind_outlier, inplace = False)\n",
    "taxonomic_assignments_no_outlier_normal = scaler(taxonomic_assignments_no_outlier_normal, col_names_species)\n",
    "principalComponents_no_outlier = PCA_apply(taxonomic_assignments_no_outlier_normal, col_names_species)\n",
    "pca_weaning_plot(taxonomic_assignments.drop(index = ind_outlier, inplace = False), principalComponents_no_outlier, 'PCA on normalized taxonomy abundances without 1 outlier')"
   ]
  },
  {
   "cell_type": "markdown",
   "id": "97b55d80-a140-4da5-a57e-39eda5efd6ac",
   "metadata": {},
   "source": [
    "## t-SNE"
   ]
  },
  {
   "cell_type": "code",
   "execution_count": null,
   "id": "b645a622-fbc9-4936-9107-858fca185938",
   "metadata": {},
   "outputs": [],
   "source": [
    "def fit_tSNE(data):\n",
    "    X_embedded = TSNE(n_components=2, learning_rate=200,\n",
    "                   init='random', perplexity=5).fit_transform(data)\n",
    "    X_embedded = pd.DataFrame(X_embedded)\n",
    "    X_embedded.set_index(data.index, inplace = True)\n",
    "    return X_embedded\n",
    "\n",
    "t_SNE_taxonomy = fit_tSNE(taxonomic_assignments_normal)\n",
    "t_SNE_taxonomy_notnormal = fit_tSNE(taxonomic_assignments[col_names_species])"
   ]
  },
  {
   "cell_type": "code",
   "execution_count": null,
   "id": "c021b466-66e9-4792-984e-4423d9fd090c",
   "metadata": {},
   "outputs": [],
   "source": [
    "pca_weaning_plot(taxonomic_assignments, t_SNE_taxonomy, 't-SNE on normalized taxonomy abundances')\n",
    "pca_milk_plot(taxonomic_assignments, t_SNE_taxonomy, 't-SNE on normalized taxonomy abundances')\n",
    "\n",
    "pca_weaning_plot(taxonomic_assignments, t_SNE_taxonomy_notnormal, 't-SNE on non-normalized taxonomy abundances')\n",
    "pca_milk_plot(taxonomic_assignments, t_SNE_taxonomy_notnormal, 't-SNE on non-normalized taxonomy abundances')"
   ]
  },
  {
   "cell_type": "code",
   "execution_count": null,
   "id": "2b65002c-54f5-4cb0-b04d-7de5e53e1c3b",
   "metadata": {
    "tags": []
   },
   "outputs": [],
   "source": [
    "RFC(taxonomic_assignments['diet_milk'], t_SNE_taxonomy)\n",
    "RFC(taxonomic_assignments['diet_weaning'], t_SNE_taxonomy)\n",
    "\n",
    "RFC(taxonomic_assignments['diet_milk'], t_SNE_taxonomy_notnormal)\n",
    "RFC(taxonomic_assignments['diet_weaning'], t_SNE_taxonomy_notnormal)"
   ]
  },
  {
   "cell_type": "code",
   "execution_count": null,
   "id": "78f7ea6b-80aa-44b8-86a8-0bb302c90649",
   "metadata": {},
   "outputs": [],
   "source": []
  },
  {
   "cell_type": "markdown",
   "id": "47224186-1f15-4d3e-b70f-82d067860fa9",
   "metadata": {},
   "source": [
    "# ASV"
   ]
  },
  {
   "cell_type": "code",
   "execution_count": null,
   "id": "e2bf8baf-dbfb-4696-b04c-6634be7e0b48",
   "metadata": {
    "tags": []
   },
   "outputs": [],
   "source": [
    "table_ASV = q2.Artifact.load(f'{data_dir}/PJNB_dada2_table-filtered.qza').view(pd.DataFrame)\n",
    "#print(table_ASV.head())"
   ]
  },
  {
   "cell_type": "code",
   "execution_count": null,
   "id": "13048c96-feb3-407d-9bb5-fdf872ceb6dc",
   "metadata": {
    "tags": []
   },
   "outputs": [],
   "source": [
    "table_ASV_metadata = pd.merge(table_ASV, taxonomic_assignments[metadata_cols], left_index=True, right_index=True)\n",
    "#table_ASV.join(taxonomic_assignments[metadata_cols])\n",
    "ASVs_cols = table_ASV_metadata.columns[0:-25]\n",
    "print(ASVs_cols)\n",
    "print(table_ASV_metadata[ASVs_cols].sum(axis=1).describe()) # for each sample the total number of species abundances"
   ]
  },
  {
   "cell_type": "code",
   "execution_count": null,
   "id": "e0c75ab9-5596-4e3e-bd20-97ea96bb7738",
   "metadata": {
    "tags": []
   },
   "outputs": [],
   "source": [
    "RFC(table_ASV_metadata['diet_milk'], table_ASV_metadata[ASVs_cols])\n",
    "RFC(table_ASV_metadata['diet_weaning'], table_ASV_metadata[ASVs_cols])"
   ]
  },
  {
   "cell_type": "code",
   "execution_count": null,
   "id": "468f1cf8-6400-42ba-984e-aa0f9ae4bdd2",
   "metadata": {
    "tags": []
   },
   "outputs": [],
   "source": [
    "ASV_metadata_normal = scaler(table_ASV_metadata, ASVs_cols)\n",
    "principalComponents_ASV = PCA_apply(ASV_metadata_normal, ASVs_cols)\n",
    "principalComponents_notnormal_ASV = PCA_apply(table_ASV_metadata, ASVs_cols)\n",
    "pca_milk_plot(table_ASV_metadata, principalComponents_ASV, 'PCA on normalized ASV abundances')\n",
    "pca_milk_plot(table_ASV_metadata, principalComponents_notnormal_ASV, 'PCA on non-normalized ASV abundances')"
   ]
  },
  {
   "cell_type": "code",
   "execution_count": null,
   "id": "1099fa22-6462-4d00-ab46-b66af6429dfc",
   "metadata": {},
   "outputs": [],
   "source": [
    "t_SNE_taxonomy_ASV = fit_tSNE(ASV_metadata_normal[ASVs_cols])\n",
    "t_SNE_taxonomy_notnormal_ASV = fit_tSNE(table_ASV_metadata[ASVs_cols])\n",
    "pca_milk_plot(table_ASV_metadata, t_SNE_taxonomy_ASV, 't-SNE on normalized ASV abundances')\n",
    "pca_milk_plot(table_ASV_metadata, t_SNE_taxonomy_notnormal_ASV, 't-SNE on non-normalized ASV abundances')"
   ]
  },
  {
   "cell_type": "markdown",
   "id": "072ab783-1a7b-4006-b342-3200579db3b7",
   "metadata": {},
   "source": [
    "## More ideas\n",
    "* PCA: remove outliers before doing PCA. How to find these outliers? E.g. the point with very high 2nd dimension in the plot. \n",
    "* Neural net with 2 inputs: the taxonomic assignment vector for 2 babies. Output: monozygotic, dizygotic, unrelated. "
   ]
  },
  {
   "cell_type": "code",
   "execution_count": null,
   "id": "cf763d3e-ec9a-4e96-9fa9-d5830e4bd280",
   "metadata": {},
   "outputs": [],
   "source": []
  }
 ],
 "metadata": {
  "kernelspec": {
   "display_name": "Python 3 (ipykernel)",
   "language": "python",
   "name": "python3"
  },
  "language_info": {
   "codemirror_mode": {
    "name": "ipython",
    "version": 3
   },
   "file_extension": ".py",
   "mimetype": "text/x-python",
   "name": "python",
   "nbconvert_exporter": "python",
   "pygments_lexer": "ipython3",
   "version": "3.8.13"
  }
 },
 "nbformat": 4,
 "nbformat_minor": 5
}
