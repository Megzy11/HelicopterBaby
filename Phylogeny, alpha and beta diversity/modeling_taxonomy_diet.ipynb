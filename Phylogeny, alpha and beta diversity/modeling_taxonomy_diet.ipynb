{
 "cells": [
  {
   "cell_type": "code",
   "execution_count": 5,
   "id": "8a6ec957-9f5d-428a-ad5a-a83564c03f58",
   "metadata": {},
   "outputs": [],
   "source": [
    "import os\n",
    "import pandas as pd\n",
    "import matplotlib.pyplot as plt\n",
    "%matplotlib inline\n",
    "\n",
    "data_dir = 'data' #data from polybox (ASV, taxonomy analysis)\n",
    "or_dir = '../data'\n",
    "if not os.path.isdir(data_dir):\n",
    "    os.mkdir(data_dir)"
   ]
  },
  {
   "cell_type": "code",
   "execution_count": 2,
   "id": "2c6b9177-8a99-450e-bfd1-8798d5352e25",
   "metadata": {},
   "outputs": [
    {
     "name": "stdout",
     "output_type": "stream",
     "text": [
      "2022-11-15 17:48:55 URL:https://polybox.ethz.ch/index.php/s/c3rjz7z9GBUXvE8/download [1967910/1967910] -> \"data/taxonomy_classification.qzv\" [1]\n",
      "2022-11-15 17:48:55 URL:https://polybox.ethz.ch/index.php/s/X8AoIryeOnLaCn5/download [397957/397957] -> \"data/taxonomy_classification.qza\" [1]\n",
      "2022-11-15 17:48:56 URL:https://polybox.ethz.ch/index.php/s/q2dsg2JxeJz3hko/download [1818719/1818719] -> \"data/PJNB_dada2_table-filtered.qza\" [1]\n",
      "2022-11-15 17:48:56 URL:https://polybox.ethz.ch/index.php/s/vtDJzaCrmebL2u7/download [552613/552613] -> \"data/PJNB_dada2_rep_set-filtered.qza\" [1]\n"
     ]
    }
   ],
   "source": [
    "! wget -nv -O $data_dir/taxonomy_classification.qzv 'https://polybox.ethz.ch/index.php/s/c3rjz7z9GBUXvE8/download'\n",
    "! wget -nv -O $data_dir/taxonomy_classification.qza 'https://polybox.ethz.ch/index.php/s/X8AoIryeOnLaCn5/download'\n",
    "! wget -nv -O $data_dir/PJNB_dada2_table-filtered.qza 'https://polybox.ethz.ch/index.php/s/q2dsg2JxeJz3hko/download'\n",
    "! wget -nv -O $data_dir/PJNB_dada2_rep_set-filtered.qza 'https://polybox.ethz.ch/index.php/s/vtDJzaCrmebL2u7/download'\n"
   ]
  },
  {
   "cell_type": "code",
   "execution_count": 6,
   "id": "45290bd2-a1ba-4708-bbf4-bf82537ca686",
   "metadata": {},
   "outputs": [],
   "source": [
    "metadata = pd.read_csv(or_dir + '/metadata.tsv', sep = '\\t')"
   ]
  },
  {
   "cell_type": "code",
   "execution_count": 10,
   "id": "449cec06-d148-4f2d-9dae-cdfbd6fc068f",
   "metadata": {},
   "outputs": [
    {
     "name": "stdout",
     "output_type": "stream",
     "text": [
      "(1669, 26)\n",
      "80\n"
     ]
    }
   ],
   "source": [
    "print(metadata.shape)\n",
    "print(metadata['host_id'].nunique())"
   ]
  },
  {
   "cell_type": "code",
   "execution_count": 33,
   "id": "9e90cc9b-db16-403e-8f17-51502685d905",
   "metadata": {
    "tags": []
   },
   "outputs": [
    {
     "name": "stdout",
     "output_type": "stream",
     "text": [
      "[nan True False]\n",
      "[nan 'bd' 'fd' 'no milk']\n"
     ]
    }
   ],
   "source": [
    "taxonomic_assignments = pd.read_csv(data_dir+'/taxonomic_assignments.csv', index_col = 0)\n",
    "#print(taxonomic_assignments.head())\n",
    "print(taxonomic_assignments['diet_weaning'].unique())\n",
    "print(taxonomic_assignments['diet_milk'].unique())"
   ]
  },
  {
   "cell_type": "code",
   "execution_count": 32,
   "id": "e0bf2cec-f222-403d-ad19-448bc5171d46",
   "metadata": {},
   "outputs": [
    {
     "name": "stdout",
     "output_type": "stream",
     "text": [
      "Index(['Library Layout', 'Instrument', 'collection_date', 'geo_location_name',\n",
      "       'geo_latitude', 'geo_longitude', 'host_id', 'age_days', 'weight_kg',\n",
      "       'length_cm', 'WAZ', 'HAZ', 'WHZ', 'BMI', 'birth_weight_g',\n",
      "       'birth_length_cm', 'sex', 'delivery_mode', 'zygosity', 'race',\n",
      "       'ethnicity', 'delivery_preterm', 'diet_milk', 'diet_weaning',\n",
      "       'age_months'],\n",
      "      dtype='object')\n",
      "339\n",
      "140\n"
     ]
    }
   ],
   "source": [
    "col_names = taxonomic_assignments.columns\n",
    "print(col_names[-25:])\n",
    "col_names_species = col_names[0:-25] #remove metadata\n",
    "print(len(col_names_species))\n",
    "col_names_species = [i for i in col_names_species if not i.endswith('__')] #remove species unclassfied until species\n",
    "print(len(col_names_species))"
   ]
  },
  {
   "cell_type": "code",
   "execution_count": 44,
   "id": "2a5679fc-ccc5-4a0e-bb0d-e38e5a0aca8e",
   "metadata": {},
   "outputs": [
    {
     "data": {
      "text/plain": [
       "array([0.74850299, 0.61676647, 0.73053892, 0.74850299, 0.73652695,\n",
       "       0.73652695, 0.79041916, 0.76646707, 0.73652695, 0.69277108])"
      ]
     },
     "execution_count": 44,
     "metadata": {},
     "output_type": "execute_result"
    }
   ],
   "source": [
    "from sklearn.model_selection import cross_val_score\n",
    "from sklearn.tree import DecisionTreeClassifier\n",
    "clf = DecisionTreeClassifier(random_state=0, max_depth = 50, min_samples_split = 0.01)\n",
    "target = taxonomic_assignments['diet_milk'].fillna('weaned')\n",
    "cross_val_score(clf, taxonomic_assignments[col_names_species], target, cv=10)"
   ]
  },
  {
   "cell_type": "code",
   "execution_count": 38,
   "id": "6513acb3-7636-4ecb-b4f1-6dea8181ea44",
   "metadata": {},
   "outputs": [
    {
     "data": {
      "text/plain": [
       "0"
      ]
     },
     "execution_count": 38,
     "metadata": {},
     "output_type": "execute_result"
    }
   ],
   "source": [
    "taxonomic_assignments[col_names_species].isnull().sum().sum()"
   ]
  },
  {
   "cell_type": "code",
   "execution_count": null,
   "id": "34fdb830-f40f-4105-a850-99623054cb0c",
   "metadata": {},
   "outputs": [],
   "source": []
  }
 ],
 "metadata": {
  "kernelspec": {
   "display_name": "Python 3 (ipykernel)",
   "language": "python",
   "name": "python3"
  },
  "language_info": {
   "codemirror_mode": {
    "name": "ipython",
    "version": 3
   },
   "file_extension": ".py",
   "mimetype": "text/x-python",
   "name": "python",
   "nbconvert_exporter": "python",
   "pygments_lexer": "ipython3",
   "version": "3.8.13"
  }
 },
 "nbformat": 4,
 "nbformat_minor": 5
}
