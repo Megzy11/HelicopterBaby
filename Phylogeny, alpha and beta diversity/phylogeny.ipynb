{
 "cells": [
  {
   "cell_type": "code",
   "execution_count": 2,
   "id": "1364a329-0d0f-47b3-af9e-715ef523a6cd",
   "metadata": {},
   "outputs": [],
   "source": [
    "import os\n",
    "import pandas as pd\n",
    "from qiime2 import Visualization\n",
    "import matplotlib.pyplot as plt\n",
    "import numpy as np\n",
    "import qiime2 as q2\n",
    "\n",
    "data_dir = \"data\"\n",
    "\n",
    "if not os.path.isdir(data_dir):\n",
    "    os.makedirs(data_dir)"
   ]
  },
  {
   "cell_type": "code",
   "execution_count": 3,
   "id": "523bbede-faf2-492c-bf03-af47dba43d08",
   "metadata": {},
   "outputs": [
    {
     "name": "stdout",
     "output_type": "stream",
     "text": [
      "2022-10-30 11:50:09 URL:https://polybox.ethz.ch/index.php/s/vtDJzaCrmebL2u7/download [552613/552613] -> \"data/rep-seq-filtered.qza\" [1]\n",
      "2022-10-30 11:50:09 URL:https://polybox.ethz.ch/index.php/s/c3rjz7z9GBUXvE8/download [1967910/1967910] -> \"data/taxonomy_classification.qza\" [1]\n",
      "2022-10-30 11:50:10 URL:https://polybox.ethz.ch/index.php/s/IAxJdqn5l3NqIQC/download [919161/919161] -> \"data/feature-table.qza\" [1]\n"
     ]
    }
   ],
   "source": [
    "#data import: Correct import links in progress (midterm)\n",
    "! wget -nv -O $data_dir/rep-seq-filtered.qza 'https://polybox.ethz.ch/index.php/s/vtDJzaCrmebL2u7/download'\n",
    "! wget -nv -O $data_dir/taxonomy_classification.qza 'https://polybox.ethz.ch/index.php/s/X8AoIryeOnLaCn5/download'\n",
    "! wget -nv -O $data_dir/feature-table.qza 'https://polybox.ethz.ch/index.php/s/IAxJdqn5l3NqIQC/download'"
   ]
  },
  {
   "cell_type": "code",
   "execution_count": 4,
   "id": "87a4daca-ba68-4cee-9561-0e472c2f41f2",
   "metadata": {},
   "outputs": [
    {
     "name": "stdout",
     "output_type": "stream",
     "text": [
      "\u001b[32mUUID\u001b[0m:        5f62041b-744a-4726-8a47-fcec99c76474\n",
      "\u001b[32mType\u001b[0m:        FeatureData[Sequence]\n",
      "\u001b[32mData format\u001b[0m: DNASequencesDirectoryFormat\n"
     ]
    }
   ],
   "source": [
    "#check imported file as control\n",
    "! qiime tools peek $data_dir/rep-seq-filtered.qza"
   ]
  },
  {
   "cell_type": "markdown",
   "id": "c6a8bfb0-4f64-47f6-a5e9-d018303579e6",
   "metadata": {},
   "source": [
    "### 1. Reference-based fragment insertion "
   ]
  },
  {
   "cell_type": "code",
   "execution_count": 10,
   "id": "6870b14e-5e4c-401e-be04-d0232e260977",
   "metadata": {},
   "outputs": [
    {
     "name": "stdout",
     "output_type": "stream",
     "text": [
      "2022-10-25 14:25:12 URL:https://s3-us-west-2.amazonaws.com/qiime2-data/2021.4/common/sepp-refs-gg-13-8.qza [50161069/50161069] -> \"data/sepp-refs-gg-13-8.qza\" [1]\n"
     ]
    }
   ],
   "source": [
    "#Download reference tree from Greengenes 13_8 database at 99% identity\n",
    "! wget -nv -O $data_dir/sepp-refs-gg-13-8.qza https://data.qiime2.org/2021.4/common/sepp-refs-gg-13-8.qza"
   ]
  },
  {
   "cell_type": "code",
   "execution_count": 11,
   "id": "17e53778-e0a5-4898-b617-c27c061a1598",
   "metadata": {},
   "outputs": [
    {
     "name": "stdout",
     "output_type": "stream",
     "text": [
      "\u001b[32mSaved Phylogeny[Rooted] to: data/reference-tree.qza\u001b[0m\n",
      "\u001b[32mSaved Placements to: data/reference-tree-placements.qza\u001b[0m\n",
      "\u001b[0m"
     ]
    }
   ],
   "source": [
    "#Insert sequences into the reference tree\n",
    "! qiime fragment-insertion sepp \\\n",
    "    --i-representative-sequences $data_dir/rep-seq-filtered.qza \\\n",
    "    --i-reference-database $data_dir/sepp-refs-gg-13-8.qza \\\n",
    "    --p-threads 2 \\\n",
    "    --o-tree $data_dir/reference-tree.qza \\\n",
    "    --o-placements $data_dir/reference-tree-placements.qza"
   ]
  },
  {
   "cell_type": "code",
   "execution_count": 12,
   "id": "7c96de87-7bd5-4aa3-966f-c7a2d4ce439c",
   "metadata": {},
   "outputs": [
    {
     "name": "stdout",
     "output_type": "stream",
     "text": [
      "\u001b[32mUUID\u001b[0m:        9d6f3b3c-61b6-4853-b358-4d139367de63\n",
      "\u001b[32mType\u001b[0m:        FeatureData[Taxonomy]\n",
      "\u001b[32mData format\u001b[0m: TSVTaxonomyDirectoryFormat\n"
     ]
    }
   ],
   "source": [
    "! qiime tools peek $data_dir/taxonomy_classification.qza"
   ]
  },
  {
   "cell_type": "code",
   "execution_count": 14,
   "id": "8b4f3f1b-0948-4e16-b313-dc856e46d1ad",
   "metadata": {},
   "outputs": [
    {
     "name": "stdout",
     "output_type": "stream",
     "text": [
      "\u001b[32mSaved Visualization to: data/fragment-tree.qzv\u001b[0m\n",
      "\u001b[0m"
     ]
    }
   ],
   "source": [
    "#Tree visualization\n",
    "! qiime empress tree-plot \\\n",
    "    --i-tree $data_dir/reference-tree.qza \\\n",
    "    --m-feature-metadata-file $data_dir/taxonomy_classification.qza \\\n",
    "    --o-visualization $data_dir/fragment-tree.qzv"
   ]
  },
  {
   "cell_type": "code",
   "execution_count": 15,
   "id": "c281627c-886e-4148-b943-9c46e0a3f5a8",
   "metadata": {},
   "outputs": [
    {
     "data": {
      "text/html": [
       "<div><img onload=\"(function(div, url){\n",
       "if (typeof require !== 'undefined') {\n",
       "    var baseURL = require.toUrl('').split('/').slice(0, -2).join('/');\n",
       "} else {\n",
       "    var baseURL = JSON.parse(\n",
       "        document.getElementById('jupyter-config-data').innerHTML\n",
       "    ).baseUrl.slice(0, -1);\n",
       "}\n",
       "url = baseURL + url;\n",
       "fetch(url).then(function(res) {\n",
       "    if (res.status === 404) {\n",
       "        div.innerHTML = 'Install QIIME 2 Jupyter extension with:<br />' +\n",
       "                        '<code>jupyter serverextension enable --py qiime2' +\n",
       "                        ' --sys-prefix</code><br />then restart your server.' +\n",
       "                        '<br /><br />(Interactive output not available on ' +\n",
       "                        'static notebook viewer services like nbviewer.)';\n",
       "    } else if (res.status === 409) {\n",
       "        div.innerHTML = 'Visualization no longer in scope. Re-run this cell' +\n",
       "                        ' to see the visualization.';\n",
       "    } else if (res.ok) {\n",
       "        url = res.url;\n",
       "        div.innerHTML = '<iframe src=\\'' + url + '\\' style=\\'' +\n",
       "                        'width: 100%; height: 700px; border: 0;\\'>' +\n",
       "                        '</iframe><hr />Open in a: <a href=\\'' + url + '\\'' +\n",
       "                        ' target=\\'_blank\\'>new window</a>'\n",
       "    } else {\n",
       "        div.innerHTML = 'Something has gone wrong. Check notebook server for' +\n",
       "                        ' errors.';\n",
       "    }\n",
       "});\n",
       "})(this.parentElement, '/qiime2/redirect?location=/tmp/qiime2-archive-bfz2qhng')\" src=\"data:image/gif;base64,R0lGODlhAQABAIAAAP///wAAACH5BAEAAAAALAAAAAABAAEAAAICRAEAOw==\" /></div>"
      ],
      "text/plain": [
       "<visualization: Visualization uuid: 04704c17-62c0-48b3-a5e7-9be004ed418c>"
      ]
     },
     "execution_count": 15,
     "metadata": {},
     "output_type": "execute_result"
    }
   ],
   "source": [
    "Visualization.load(f'{data_dir}/fragment-tree.qzv')"
   ]
  },
  {
   "cell_type": "markdown",
   "id": "5be0d5cf-dcc4-4a41-ac35-8b0f143de983",
   "metadata": {},
   "source": [
    "### 2. Filter feature tables \n",
    "\n",
    "Feature tables are filtered such that one output only contains fragments that are in the insertion tree and another output contains fragments that are NOT in the insertion tree (SEPP might reject some fragments). **For calculation of Faith PD (alpha diversity) use only the fragments in phylogeny_filtered_table.qza**"
   ]
  },
  {
   "cell_type": "code",
   "execution_count": 16,
   "id": "4f0f63e1-c195-4d7e-8f4e-289ba035d1f3",
   "metadata": {},
   "outputs": [
    {
     "name": "stdout",
     "output_type": "stream",
     "text": [
      "\u001b[32mUUID\u001b[0m:        3bac291f-31ad-4ae0-9eb2-7aa61da41ad2\n",
      "\u001b[32mType\u001b[0m:        FeatureTable[Frequency]\n",
      "\u001b[32mData format\u001b[0m: BIOMV210DirFmt\n"
     ]
    }
   ],
   "source": [
    "! qiime tools peek $data_dir/feature-table.qza"
   ]
  },
  {
   "cell_type": "code",
   "execution_count": 21,
   "id": "4c6798a4-b6fe-4325-b68b-9efba629eea5",
   "metadata": {},
   "outputs": [
    {
     "name": "stdout",
     "output_type": "stream",
     "text": [
      "\u001b[32mSaved FeatureTable[Frequency] to: data/phylogeny_filtered_table.qza\u001b[0m\n",
      "\u001b[32mSaved FeatureTable[Frequency] to: data/phylogeny_removed_table.qza\u001b[0m\n",
      "\u001b[0m"
     ]
    }
   ],
   "source": [
    "! qiime fragment-insertion filter-features \\\n",
    "    --i-table $data_dir/feature-table.qza \\\n",
    "    --i-tree $data_dir/reference-tree.qza \\\n",
    "    --o-filtered-table $data_dir/phylogeny_filtered_table.qza \\\n",
    "    --o-removed-table $data_dir/phylogeny_removed_table.qza"
   ]
  },
  {
   "cell_type": "markdown",
   "id": "27b71886-d2d4-442b-bfc8-341728d5ef75",
   "metadata": {},
   "source": [
    "Polyboxlink with data: https://polybox.ethz.ch/index.php/s/pNA39R0rl2xMMj9"
   ]
  },
  {
   "cell_type": "code",
   "execution_count": null,
   "id": "b4724102-af7d-46ab-aeeb-15926b7d0574",
   "metadata": {},
   "outputs": [],
   "source": []
  }
 ],
 "metadata": {
  "kernelspec": {
   "display_name": "Python 3 (ipykernel)",
   "language": "python",
   "name": "python3"
  },
  "language_info": {
   "codemirror_mode": {
    "name": "ipython",
    "version": 3
   },
   "file_extension": ".py",
   "mimetype": "text/x-python",
   "name": "python",
   "nbconvert_exporter": "python",
   "pygments_lexer": "ipython3",
   "version": "3.8.13"
  }
 },
 "nbformat": 4,
 "nbformat_minor": 5
}
