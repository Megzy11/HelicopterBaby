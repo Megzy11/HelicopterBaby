{
 "cells": [
  {
   "cell_type": "markdown",
   "id": "79cb28c6-3ddc-4020-a602-b5d93787c482",
   "metadata": {},
   "source": [
    "## General idea: Find out whether the genetics influence the microbiome by comparing the samples within the monozygotic and dizygotic pairs using differential abundance analysis and look at Beta diversity. "
   ]
  },
  {
   "cell_type": "code",
   "execution_count": 3,
   "id": "e6d3f765-d08f-4cad-9cfe-2e9ee718035e",
   "metadata": {},
   "outputs": [],
   "source": [
    "# importing all required packages & notebook extensions at the start of the notebook\n",
    "import os\n",
    "import pandas as pd\n",
    "import qiime2 as q2\n",
    "from qiime2 import Visualization\n",
    "import matplotlib.pyplot as plt\n",
    "%matplotlib inline\n",
    "from operator import itemgetter\n",
    "import matplotlib.patches as mpatches\n",
    "from scipy.stats import shapiro\n",
    "from os.path import exists\n",
    "import seaborn as sns\n",
    "from scipy import stats\n",
    "from scipy.stats import ttest_ind\n",
    "from statannot import add_stat_annotation\n",
    "\n",
    "or_dir = '../data' #original data (demux sequences, metadata)\n",
    "data_dir = 'data' #data from polybox (ASV, taxonomy analysis)"
   ]
  },
  {
   "cell_type": "code",
   "execution_count": 2,
   "id": "476cdc76-1822-4280-9f60-b31e154d76bd",
   "metadata": {},
   "outputs": [
    {
     "name": "stdout",
     "output_type": "stream",
     "text": [
      "Collecting git+https://github.com/webermarcolivier/statannot.git\n",
      "  Cloning https://github.com/webermarcolivier/statannot.git to /tmp/pip-req-build-99ljnfl_\n",
      "  Running command git clone --filter=blob:none --quiet https://github.com/webermarcolivier/statannot.git /tmp/pip-req-build-99ljnfl_\n",
      "  Resolved https://github.com/webermarcolivier/statannot.git to commit 8de40596e6669f4c81e791426505c1e5c8c5f1fe\n",
      "  Preparing metadata (setup.py) ... \u001b[?25ldone\n",
      "\u001b[?25hBuilding wheels for collected packages: statannot\n",
      "  Building wheel for statannot (setup.py) ... \u001b[?25ldone\n",
      "\u001b[?25h  Created wheel for statannot: filename=statannot-0.2.3-py3-none-any.whl size=11185 sha256=0560f6423d87f1e4dc2e687acccaffa3828c6c55f4a2d5b41f873be7a43bf81f\n",
      "  Stored in directory: /tmp/pip-ephem-wheel-cache-d1gdrntm/wheels/11/9b/81/7bfcc146a95b78720934fe6b461e7fcf94405a3fb4c0975dda\n",
      "Successfully built statannot\n",
      "Installing collected packages: statannot\n",
      "Successfully installed statannot-0.2.3\n",
      "Note: you may need to restart the kernel to use updated packages.\n"
     ]
    }
   ],
   "source": [
    "pip install git+https://github.com/webermarcolivier/statannot.git"
   ]
  },
  {
   "cell_type": "code",
   "execution_count": 3,
   "id": "fe9287ec-7166-41ad-a517-beaf4ae2910f",
   "metadata": {},
   "outputs": [
    {
     "name": "stdout",
     "output_type": "stream",
     "text": [
      "2022-11-27 10:36:30 URL:https://polybox.ethz.ch/index.php/s/pNA39R0rl2xMMj9/download [903525744] -> \"data.zip\" [1]\n"
     ]
    }
   ],
   "source": [
    "! wget -nv -O data.zip 'https://polybox.ethz.ch/index.php/s/pNA39R0rl2xMMj9/download'\n",
    "! unzip -q data.zip #-d $data_dir\n",
    "! mv data data2\n",
    "! mv data2/taxonomy/data .\n",
    "! cp data2/ASV/data/* data\n",
    "! cp data2/Phylogeny/data/* data\n",
    "! rm -r data2\n",
    "! rm data.zip"
   ]
  },
  {
   "cell_type": "markdown",
   "id": "93648300-2b1e-4ad0-9902-8378a77bd88e",
   "metadata": {},
   "source": [
    "### 1. Look at the metadata in terms of weaning state. We will use this for further analysis to see if our changes were successful."
   ]
  },
  {
   "cell_type": "markdown",
   "id": "5ae4d98b-6da1-4106-88a0-9f335c1ac90b",
   "metadata": {},
   "source": [
    "#### Get an array with all pair numbers for the following for loops:"
   ]
  },
  {
   "cell_type": "code",
   "execution_count": 4,
   "id": "d86f1c5f-b2ab-42ab-bcb0-30fc59a1a2b1",
   "metadata": {
    "collapsed": true,
    "jupyter": {
     "outputs_hidden": true
    },
    "tags": []
   },
   "outputs": [
    {
     "data": {
      "text/plain": [
       "[42.0,\n",
       " 27.0,\n",
       " 28.0,\n",
       " 39.0,\n",
       " 8.0,\n",
       " 29.0,\n",
       " 40.0,\n",
       " 35.0,\n",
       " 47.0,\n",
       " 4.0,\n",
       " 3.0,\n",
       " 30.0,\n",
       " 36.0,\n",
       " 6.0,\n",
       " 33.0,\n",
       " 43.0,\n",
       " 44.0,\n",
       " 45.0,\n",
       " 5.0,\n",
       " 37.0,\n",
       " 46.0,\n",
       " 48.0,\n",
       " 32.0,\n",
       " 12.0,\n",
       " 13.0,\n",
       " 14.0,\n",
       " 10.0,\n",
       " 15.0,\n",
       " 16.0,\n",
       " 25.0,\n",
       " 26.0,\n",
       " 11.0,\n",
       " 2.0,\n",
       " 20.0,\n",
       " 21.0,\n",
       " 23.0,\n",
       " 19.0,\n",
       " 17.0,\n",
       " 18.0,\n",
       " 24.0]"
      ]
     },
     "execution_count": 4,
     "metadata": {},
     "output_type": "execute_result"
    }
   ],
   "source": [
    "metadata = pd.read_csv(or_dir + '/metadata.tsv', sep = '\\t')\n",
    "host_numbers = metadata['host_id'].unique()\n",
    "pair_numbers = list(dict.fromkeys(host_numbers.round(0)))\n",
    "pair_numbers"
   ]
  },
  {
   "cell_type": "markdown",
   "id": "3ad7e94a-c5a2-40f8-86a5-86bdc9722b01",
   "metadata": {},
   "source": [
    "#### Dictionary so we can recall all samples that are assigned to each host in a loop."
   ]
  },
  {
   "cell_type": "code",
   "execution_count": 16,
   "id": "bb7de49d-3cce-4463-99d0-553c6aa93fb2",
   "metadata": {
    "tags": []
   },
   "outputs": [],
   "source": [
    "all_hosts = dict()\n",
    "for host in host_numbers: #loop through all unique host ids\n",
    "    #print(host)\n",
    "    new_name = 'df_host_'+str(host)\n",
    "    #new_name = new_name.replace('.', '_')\n",
    "    all_hosts[host] = metadata[metadata['host_id']==host]\n",
    "    locals()[new_name] = metadata[metadata['host_id']==host]"
   ]
  },
  {
   "cell_type": "markdown",
   "id": "d7030fe8-b271-48ff-8fc1-1a6054966124",
   "metadata": {},
   "source": [
    "### 2. Problem: some samples contain NaN values, but the host has been weaned before. We now assign 'not weaned' to the 'Weaning = False' samples and 'weaned' to all 'Weaning = True' and all following samples that contain NaN.\n",
    "\n",
    "### Maya created a new metadata table called 'metadata_only_before_after_weaning.csv'"
   ]
  },
  {
   "cell_type": "markdown",
   "id": "5bb4c52b-d9b7-4982-a81a-e52f1e757baa",
   "metadata": {},
   "source": [
    "#### Get it in pandas and save as tsv file:"
   ]
  },
  {
   "cell_type": "code",
   "execution_count": null,
   "id": "564149ef-899e-47ee-8694-332d8c0e2de9",
   "metadata": {},
   "outputs": [],
   "source": [
    "meta_wean = pd.read_csv(data_dir + '/metadata_only_before_after_weaning.csv')\n",
    "meta_wean.to_csv('meta_wean.tsv', sep='\\t', index = False)"
   ]
  },
  {
   "cell_type": "markdown",
   "id": "66f565db-c2ab-492c-8e40-45dd17c1598e",
   "metadata": {},
   "source": [
    "### 3. Filter feature table according to metadata table"
   ]
  },
  {
   "cell_type": "markdown",
   "id": "b2f12a7b-39c8-4a9e-9a81-042494470a11",
   "metadata": {},
   "source": [
    "#### Next I filter the feature tables for each pair and the stages 'weaned' and 'not weaning', which I'll be using in the following ANCOM."
   ]
  },
  {
   "cell_type": "code",
   "execution_count": null,
   "id": "4de5a0db-68a1-47fc-b685-572609f5ae38",
   "metadata": {},
   "outputs": [],
   "source": [
    "! qiime feature-table filter-samples --help"
   ]
  },
  {
   "cell_type": "markdown",
   "id": "890b6984-2e38-42e0-8785-9d0a249cba27",
   "metadata": {},
   "source": [
    "#### Weaned:"
   ]
  },
  {
   "cell_type": "code",
   "execution_count": 4,
   "id": "5a5db615-449a-4281-a140-9d63f722b2c2",
   "metadata": {
    "tags": []
   },
   "outputs": [
    {
     "name": "stdout",
     "output_type": "stream",
     "text": [
      "\u001b[32mSaved FeatureTable[Frequency] to: data/pairs_weaned/pair_42.0_weaned.qza\u001b[0m\n",
      "\u001b[0m\u001b[32mSaved FeatureTable[Frequency] to: data/pairs_weaned/pair_27.0_weaned.qza\u001b[0m\n",
      "\u001b[0m\u001b[32mSaved FeatureTable[Frequency] to: data/pairs_weaned/pair_28.0_weaned.qza\u001b[0m\n",
      "\u001b[0m\u001b[32mSaved FeatureTable[Frequency] to: data/pairs_weaned/pair_39.0_weaned.qza\u001b[0m\n",
      "\u001b[0m\u001b[32mSaved FeatureTable[Frequency] to: data/pairs_weaned/pair_8.0_weaned.qza\u001b[0m\n",
      "\u001b[0m\u001b[32mSaved FeatureTable[Frequency] to: data/pairs_weaned/pair_29.0_weaned.qza\u001b[0m\n",
      "\u001b[0m\u001b[32mSaved FeatureTable[Frequency] to: data/pairs_weaned/pair_40.0_weaned.qza\u001b[0m\n",
      "\u001b[0m\u001b[32mSaved FeatureTable[Frequency] to: data/pairs_weaned/pair_35.0_weaned.qza\u001b[0m\n",
      "\u001b[0m\u001b[32mSaved FeatureTable[Frequency] to: data/pairs_weaned/pair_47.0_weaned.qza\u001b[0m\n",
      "\u001b[0m\u001b[32mSaved FeatureTable[Frequency] to: data/pairs_weaned/pair_4.0_weaned.qza\u001b[0m\n",
      "\u001b[0m\u001b[32mSaved FeatureTable[Frequency] to: data/pairs_weaned/pair_3.0_weaned.qza\u001b[0m\n",
      "\u001b[0m\u001b[32mSaved FeatureTable[Frequency] to: data/pairs_weaned/pair_30.0_weaned.qza\u001b[0m\n",
      "\u001b[0m\u001b[32mSaved FeatureTable[Frequency] to: data/pairs_weaned/pair_36.0_weaned.qza\u001b[0m\n",
      "\u001b[0m\u001b[32mSaved FeatureTable[Frequency] to: data/pairs_weaned/pair_6.0_weaned.qza\u001b[0m\n",
      "\u001b[0m\u001b[32mSaved FeatureTable[Frequency] to: data/pairs_weaned/pair_33.0_weaned.qza\u001b[0m\n",
      "\u001b[0m\u001b[32mSaved FeatureTable[Frequency] to: data/pairs_weaned/pair_43.0_weaned.qza\u001b[0m\n",
      "\u001b[0m\u001b[32mSaved FeatureTable[Frequency] to: data/pairs_weaned/pair_44.0_weaned.qza\u001b[0m\n",
      "\u001b[0m\u001b[32mSaved FeatureTable[Frequency] to: data/pairs_weaned/pair_45.0_weaned.qza\u001b[0m\n",
      "\u001b[0m\u001b[32mSaved FeatureTable[Frequency] to: data/pairs_weaned/pair_5.0_weaned.qza\u001b[0m\n",
      "\u001b[0m\u001b[32mSaved FeatureTable[Frequency] to: data/pairs_weaned/pair_37.0_weaned.qza\u001b[0m\n",
      "\u001b[0m\u001b[32mSaved FeatureTable[Frequency] to: data/pairs_weaned/pair_46.0_weaned.qza\u001b[0m\n",
      "\u001b[0m\u001b[32mSaved FeatureTable[Frequency] to: data/pairs_weaned/pair_48.0_weaned.qza\u001b[0m\n",
      "\u001b[0m\u001b[32mSaved FeatureTable[Frequency] to: data/pairs_weaned/pair_32.0_weaned.qza\u001b[0m\n",
      "\u001b[0m\u001b[32mSaved FeatureTable[Frequency] to: data/pairs_weaned/pair_12.0_weaned.qza\u001b[0m\n",
      "\u001b[0m\u001b[32mSaved FeatureTable[Frequency] to: data/pairs_weaned/pair_13.0_weaned.qza\u001b[0m\n",
      "\u001b[0m\u001b[32mSaved FeatureTable[Frequency] to: data/pairs_weaned/pair_14.0_weaned.qza\u001b[0m\n",
      "\u001b[0m\u001b[32mSaved FeatureTable[Frequency] to: data/pairs_weaned/pair_10.0_weaned.qza\u001b[0m\n",
      "\u001b[0m\u001b[32mSaved FeatureTable[Frequency] to: data/pairs_weaned/pair_15.0_weaned.qza\u001b[0m\n",
      "\u001b[0m\u001b[32mSaved FeatureTable[Frequency] to: data/pairs_weaned/pair_16.0_weaned.qza\u001b[0m\n",
      "\u001b[0m\u001b[32mSaved FeatureTable[Frequency] to: data/pairs_weaned/pair_25.0_weaned.qza\u001b[0m\n",
      "\u001b[0m\u001b[32mSaved FeatureTable[Frequency] to: data/pairs_weaned/pair_26.0_weaned.qza\u001b[0m\n",
      "\u001b[0m\u001b[32mSaved FeatureTable[Frequency] to: data/pairs_weaned/pair_11.0_weaned.qza\u001b[0m\n",
      "\u001b[0m\u001b[32mSaved FeatureTable[Frequency] to: data/pairs_weaned/pair_2.0_weaned.qza\u001b[0m\n",
      "\u001b[0m\u001b[32mSaved FeatureTable[Frequency] to: data/pairs_weaned/pair_20.0_weaned.qza\u001b[0m\n",
      "\u001b[0m\u001b[32mSaved FeatureTable[Frequency] to: data/pairs_weaned/pair_21.0_weaned.qza\u001b[0m\n",
      "\u001b[0m\u001b[32mSaved FeatureTable[Frequency] to: data/pairs_weaned/pair_23.0_weaned.qza\u001b[0m\n",
      "\u001b[0m\u001b[32mSaved FeatureTable[Frequency] to: data/pairs_weaned/pair_19.0_weaned.qza\u001b[0m\n",
      "\u001b[0m\u001b[32mSaved FeatureTable[Frequency] to: data/pairs_weaned/pair_17.0_weaned.qza\u001b[0m\n",
      "\u001b[0m\u001b[32mSaved FeatureTable[Frequency] to: data/pairs_weaned/pair_18.0_weaned.qza\u001b[0m\n",
      "\u001b[0m\u001b[32mSaved FeatureTable[Frequency] to: data/pairs_weaned/pair_24.0_weaned.qza\u001b[0m\n",
      "\u001b[0m"
     ]
    }
   ],
   "source": [
    "for pair in pair_numbers:\n",
    "    pair1, pair2 = pair + 0.1, pair + 0.2\n",
    "     \n",
    "    ! qiime feature-table filter-samples \\\n",
    "        --i-table $data_dir/phylogeny_filtered_table.qza \\\n",
    "        --m-metadata-file $data_dir/meta_wean.tsv \\\n",
    "        --p-where \"[diet_weaning]='weaned' and ([host_id]=$pair1 or [host_id]=$pair2)\" \\\n",
    "        --o-filtered-table $data_dir/pairs_weaned/pair_\"$pair\"_weaned.qza"
   ]
  },
  {
   "cell_type": "markdown",
   "id": "40777c82-f64c-4f8f-bef0-a1959a3db7bd",
   "metadata": {},
   "source": [
    "#### Not Weaned:"
   ]
  },
  {
   "cell_type": "code",
   "execution_count": 5,
   "id": "f15e2a2a-dacb-4568-8969-ba56198ec9b3",
   "metadata": {
    "tags": []
   },
   "outputs": [
    {
     "name": "stdout",
     "output_type": "stream",
     "text": [
      "\u001b[32mSaved FeatureTable[Frequency] to: data/pairs_notweaned/pair_42.0_notweaned.qza\u001b[0m\n",
      "\u001b[0m\u001b[32mSaved FeatureTable[Frequency] to: data/pairs_notweaned/pair_27.0_notweaned.qza\u001b[0m\n",
      "\u001b[0m\u001b[32mSaved FeatureTable[Frequency] to: data/pairs_notweaned/pair_28.0_notweaned.qza\u001b[0m\n",
      "\u001b[0m\u001b[32mSaved FeatureTable[Frequency] to: data/pairs_notweaned/pair_39.0_notweaned.qza\u001b[0m\n",
      "\u001b[0m\u001b[32mSaved FeatureTable[Frequency] to: data/pairs_notweaned/pair_8.0_notweaned.qza\u001b[0m\n",
      "\u001b[0m\u001b[32mSaved FeatureTable[Frequency] to: data/pairs_notweaned/pair_29.0_notweaned.qza\u001b[0m\n",
      "\u001b[0m\u001b[32mSaved FeatureTable[Frequency] to: data/pairs_notweaned/pair_40.0_notweaned.qza\u001b[0m\n",
      "\u001b[0m\u001b[32mSaved FeatureTable[Frequency] to: data/pairs_notweaned/pair_35.0_notweaned.qza\u001b[0m\n",
      "\u001b[0m\u001b[32mSaved FeatureTable[Frequency] to: data/pairs_notweaned/pair_47.0_notweaned.qza\u001b[0m\n",
      "\u001b[0m\u001b[32mSaved FeatureTable[Frequency] to: data/pairs_notweaned/pair_4.0_notweaned.qza\u001b[0m\n",
      "\u001b[0m\u001b[32mSaved FeatureTable[Frequency] to: data/pairs_notweaned/pair_3.0_notweaned.qza\u001b[0m\n",
      "\u001b[0m\u001b[32mSaved FeatureTable[Frequency] to: data/pairs_notweaned/pair_30.0_notweaned.qza\u001b[0m\n",
      "\u001b[0m\u001b[32mSaved FeatureTable[Frequency] to: data/pairs_notweaned/pair_36.0_notweaned.qza\u001b[0m\n",
      "\u001b[0m\u001b[32mSaved FeatureTable[Frequency] to: data/pairs_notweaned/pair_6.0_notweaned.qza\u001b[0m\n",
      "\u001b[0m\u001b[32mSaved FeatureTable[Frequency] to: data/pairs_notweaned/pair_33.0_notweaned.qza\u001b[0m\n",
      "\u001b[0m\u001b[32mSaved FeatureTable[Frequency] to: data/pairs_notweaned/pair_43.0_notweaned.qza\u001b[0m\n",
      "\u001b[0m\u001b[32mSaved FeatureTable[Frequency] to: data/pairs_notweaned/pair_44.0_notweaned.qza\u001b[0m\n",
      "\u001b[0m\u001b[32mSaved FeatureTable[Frequency] to: data/pairs_notweaned/pair_45.0_notweaned.qza\u001b[0m\n",
      "\u001b[0m\u001b[32mSaved FeatureTable[Frequency] to: data/pairs_notweaned/pair_5.0_notweaned.qza\u001b[0m\n",
      "\u001b[0m\u001b[32mSaved FeatureTable[Frequency] to: data/pairs_notweaned/pair_37.0_notweaned.qza\u001b[0m\n",
      "\u001b[0m\u001b[32mSaved FeatureTable[Frequency] to: data/pairs_notweaned/pair_46.0_notweaned.qza\u001b[0m\n",
      "\u001b[0m\u001b[32mSaved FeatureTable[Frequency] to: data/pairs_notweaned/pair_48.0_notweaned.qza\u001b[0m\n",
      "\u001b[0m\u001b[32mSaved FeatureTable[Frequency] to: data/pairs_notweaned/pair_32.0_notweaned.qza\u001b[0m\n",
      "\u001b[0m\u001b[32mSaved FeatureTable[Frequency] to: data/pairs_notweaned/pair_12.0_notweaned.qza\u001b[0m\n",
      "\u001b[0m\u001b[32mSaved FeatureTable[Frequency] to: data/pairs_notweaned/pair_13.0_notweaned.qza\u001b[0m\n",
      "\u001b[0m\u001b[32mSaved FeatureTable[Frequency] to: data/pairs_notweaned/pair_14.0_notweaned.qza\u001b[0m\n",
      "\u001b[0m\u001b[32mSaved FeatureTable[Frequency] to: data/pairs_notweaned/pair_10.0_notweaned.qza\u001b[0m\n",
      "\u001b[0m\u001b[32mSaved FeatureTable[Frequency] to: data/pairs_notweaned/pair_15.0_notweaned.qza\u001b[0m\n",
      "\u001b[0m\u001b[32mSaved FeatureTable[Frequency] to: data/pairs_notweaned/pair_16.0_notweaned.qza\u001b[0m\n",
      "\u001b[0m\u001b[32mSaved FeatureTable[Frequency] to: data/pairs_notweaned/pair_25.0_notweaned.qza\u001b[0m\n",
      "\u001b[0m\u001b[32mSaved FeatureTable[Frequency] to: data/pairs_notweaned/pair_26.0_notweaned.qza\u001b[0m\n",
      "\u001b[0m\u001b[32mSaved FeatureTable[Frequency] to: data/pairs_notweaned/pair_11.0_notweaned.qza\u001b[0m\n",
      "\u001b[0m\u001b[32mSaved FeatureTable[Frequency] to: data/pairs_notweaned/pair_2.0_notweaned.qza\u001b[0m\n",
      "\u001b[0m\u001b[32mSaved FeatureTable[Frequency] to: data/pairs_notweaned/pair_20.0_notweaned.qza\u001b[0m\n",
      "\u001b[0m\u001b[32mSaved FeatureTable[Frequency] to: data/pairs_notweaned/pair_21.0_notweaned.qza\u001b[0m\n",
      "\u001b[0m\u001b[32mSaved FeatureTable[Frequency] to: data/pairs_notweaned/pair_23.0_notweaned.qza\u001b[0m\n",
      "\u001b[0m\u001b[32mSaved FeatureTable[Frequency] to: data/pairs_notweaned/pair_19.0_notweaned.qza\u001b[0m\n",
      "\u001b[0m\u001b[32mSaved FeatureTable[Frequency] to: data/pairs_notweaned/pair_17.0_notweaned.qza\u001b[0m\n",
      "\u001b[0m\u001b[32mSaved FeatureTable[Frequency] to: data/pairs_notweaned/pair_18.0_notweaned.qza\u001b[0m\n",
      "\u001b[0m\u001b[32mSaved FeatureTable[Frequency] to: data/pairs_notweaned/pair_24.0_notweaned.qza\u001b[0m\n",
      "\u001b[0m"
     ]
    }
   ],
   "source": [
    "for pair in pair_numbers:\n",
    "    pair1, pair2 = pair + 0.1, pair + 0.2\n",
    "    \n",
    "    ! qiime feature-table filter-samples \\\n",
    "    --i-table $data_dir/phylogeny_filtered_table.qza \\\n",
    "    --m-metadata-file $data_dir/meta_wean.tsv \\\n",
    "    --p-where \"[diet_weaning]='not weaning' and ([host_id]=$pair1 or [host_id]=$pair2)\" \\\n",
    "    --o-filtered-table $data_dir/pairs_notweaned/pair_\"$pair\"_notweaned.qza"
   ]
  },
  {
   "cell_type": "markdown",
   "id": "63f5e3a4-109d-467a-b0d9-2cde8ef89263",
   "metadata": {},
   "source": [
    "### 4. ANCOM testing for each twin pair and stage, on the host ID column. This gives us the differentially abundant features between the twins."
   ]
  },
  {
   "cell_type": "markdown",
   "id": "7b9b060f-85bf-48ca-b918-137e9201fcc2",
   "metadata": {},
   "source": [
    "#### For the ANCOM I need the host ID column as categorical instead of numeric."
   ]
  },
  {
   "cell_type": "code",
   "execution_count": 9,
   "id": "2808705a-ccec-4605-a4b3-a1481d66270f",
   "metadata": {
    "collapsed": true,
    "jupyter": {
     "outputs_hidden": true
    },
    "tags": []
   },
   "outputs": [
    {
     "name": "stdout",
     "output_type": "stream",
     "text": [
      "Usage: \u001b[94mqiime tools cast-metadata\u001b[0m [OPTIONS] METADATA...\n",
      "\n",
      "  Designate metadata column types. Supported column types are as follows:\n",
      "  categorical, numeric. Providing multiple file paths to this command will\n",
      "  merge the metadata.\n",
      "\n",
      "\u001b[1mOptions\u001b[0m:\n",
      "  \u001b[94m\u001b[4m--cast\u001b[0m COLUMN:TYPE  Parameter for each metadata column that should be cast\n",
      "                      as a specified column type (supported types are as\n",
      "                      follows: categorical, numeric). The required formatting\n",
      "                      for this parameter is --cast COLUMN:TYPE, repeated for\n",
      "                      each column and the associated column type it should be\n",
      "                      cast to in the output.                        \u001b[35m[required]\u001b[0m\n",
      "  \u001b[94m--ignore-extra\u001b[0m      If this flag is enabled, cast parameters that do not\n",
      "                      correspond to any of the column names within the\n",
      "                      provided metadata will be ignored.\n",
      "  \u001b[94m--error-on-missing\u001b[0m  If this flag is enabled, failing to include cast\n",
      "                      parameters for all columns in the provided metadata will\n",
      "                      result in an error.\n",
      "  \u001b[94m--output-file\u001b[0m FILE  Path to file where the modified metadata should be\n",
      "                      written to.\n",
      "  \u001b[94m--help\u001b[0m              Show this message and exit.\n"
     ]
    }
   ],
   "source": [
    "! qiime tools cast-metadata --help"
   ]
  },
  {
   "cell_type": "code",
   "execution_count": 6,
   "id": "afdb8648-33e1-42df-a262-95dddbdb1844",
   "metadata": {},
   "outputs": [],
   "source": [
    "! qiime tools cast-metadata $data_dir/meta_wean.tsv \\\n",
    "--cast host_id:categorical \\\n",
    "--output-file $data_dir/meta_wean2.tsv"
   ]
  },
  {
   "cell_type": "markdown",
   "id": "6d7afb2d-4f3c-4aa4-9409-838ed5f544b3",
   "metadata": {},
   "source": [
    "#### For Weaned:"
   ]
  },
  {
   "cell_type": "code",
   "execution_count": 7,
   "id": "af40efd9-e77f-4a3c-b76d-b21e85e60d2e",
   "metadata": {
    "collapsed": true,
    "jupyter": {
     "outputs_hidden": true
    },
    "tags": []
   },
   "outputs": [
    {
     "name": "stdout",
     "output_type": "stream",
     "text": [
      "\u001b[32mSaved FeatureTable[Composition] to: data/pairs_weaned/pair_42.0_weaned_pseudo.qza\u001b[0m\n",
      "\u001b[0m\u001b[32mSaved FeatureTable[Composition] to: data/pairs_weaned/pair_27.0_weaned_pseudo.qza\u001b[0m\n",
      "\u001b[0m\u001b[32mSaved FeatureTable[Composition] to: data/pairs_weaned/pair_28.0_weaned_pseudo.qza\u001b[0m\n",
      "\u001b[0m\u001b[32mSaved FeatureTable[Composition] to: data/pairs_weaned/pair_39.0_weaned_pseudo.qza\u001b[0m\n",
      "\u001b[0m\u001b[32mSaved FeatureTable[Composition] to: data/pairs_weaned/pair_8.0_weaned_pseudo.qza\u001b[0m\n",
      "\u001b[0m\u001b[32mSaved FeatureTable[Composition] to: data/pairs_weaned/pair_29.0_weaned_pseudo.qza\u001b[0m\n",
      "\u001b[0m\u001b[32mSaved FeatureTable[Composition] to: data/pairs_weaned/pair_40.0_weaned_pseudo.qza\u001b[0m\n",
      "\u001b[0m\u001b[32mSaved FeatureTable[Composition] to: data/pairs_weaned/pair_35.0_weaned_pseudo.qza\u001b[0m\n",
      "\u001b[0m\u001b[32mSaved FeatureTable[Composition] to: data/pairs_weaned/pair_47.0_weaned_pseudo.qza\u001b[0m\n",
      "\u001b[0m\u001b[32mSaved FeatureTable[Composition] to: data/pairs_weaned/pair_4.0_weaned_pseudo.qza\u001b[0m\n",
      "\u001b[0m\u001b[32mSaved FeatureTable[Composition] to: data/pairs_weaned/pair_3.0_weaned_pseudo.qza\u001b[0m\n",
      "\u001b[0m\u001b[32mSaved FeatureTable[Composition] to: data/pairs_weaned/pair_30.0_weaned_pseudo.qza\u001b[0m\n",
      "\u001b[0m\u001b[32mSaved FeatureTable[Composition] to: data/pairs_weaned/pair_36.0_weaned_pseudo.qza\u001b[0m\n",
      "\u001b[0m\u001b[32mSaved FeatureTable[Composition] to: data/pairs_weaned/pair_6.0_weaned_pseudo.qza\u001b[0m\n",
      "\u001b[0m\u001b[32mSaved FeatureTable[Composition] to: data/pairs_weaned/pair_33.0_weaned_pseudo.qza\u001b[0m\n",
      "\u001b[0m\u001b[32mSaved FeatureTable[Composition] to: data/pairs_weaned/pair_43.0_weaned_pseudo.qza\u001b[0m\n",
      "\u001b[0m\u001b[32mSaved FeatureTable[Composition] to: data/pairs_weaned/pair_44.0_weaned_pseudo.qza\u001b[0m\n",
      "\u001b[0m\u001b[32mSaved FeatureTable[Composition] to: data/pairs_weaned/pair_45.0_weaned_pseudo.qza\u001b[0m\n",
      "\u001b[0m\u001b[32mSaved FeatureTable[Composition] to: data/pairs_weaned/pair_5.0_weaned_pseudo.qza\u001b[0m\n",
      "\u001b[0m\u001b[32mSaved FeatureTable[Composition] to: data/pairs_weaned/pair_37.0_weaned_pseudo.qza\u001b[0m\n",
      "\u001b[0m\u001b[32mSaved FeatureTable[Composition] to: data/pairs_weaned/pair_46.0_weaned_pseudo.qza\u001b[0m\n",
      "\u001b[0m\u001b[32mSaved FeatureTable[Composition] to: data/pairs_weaned/pair_48.0_weaned_pseudo.qza\u001b[0m\n",
      "\u001b[0m\u001b[32mSaved FeatureTable[Composition] to: data/pairs_weaned/pair_32.0_weaned_pseudo.qza\u001b[0m\n",
      "\u001b[0m\u001b[32mSaved FeatureTable[Composition] to: data/pairs_weaned/pair_12.0_weaned_pseudo.qza\u001b[0m\n",
      "\u001b[0m\u001b[32mSaved FeatureTable[Composition] to: data/pairs_weaned/pair_13.0_weaned_pseudo.qza\u001b[0m\n",
      "\u001b[0m\u001b[32mSaved FeatureTable[Composition] to: data/pairs_weaned/pair_14.0_weaned_pseudo.qza\u001b[0m\n",
      "\u001b[0m\u001b[32mSaved FeatureTable[Composition] to: data/pairs_weaned/pair_10.0_weaned_pseudo.qza\u001b[0m\n",
      "\u001b[0m\u001b[32mSaved FeatureTable[Composition] to: data/pairs_weaned/pair_15.0_weaned_pseudo.qza\u001b[0m\n",
      "\u001b[0m\u001b[32mSaved FeatureTable[Composition] to: data/pairs_weaned/pair_16.0_weaned_pseudo.qza\u001b[0m\n",
      "\u001b[0m\u001b[32mSaved FeatureTable[Composition] to: data/pairs_weaned/pair_25.0_weaned_pseudo.qza\u001b[0m\n",
      "\u001b[0m\u001b[32mSaved FeatureTable[Composition] to: data/pairs_weaned/pair_26.0_weaned_pseudo.qza\u001b[0m\n",
      "\u001b[0m\u001b[32mSaved FeatureTable[Composition] to: data/pairs_weaned/pair_11.0_weaned_pseudo.qza\u001b[0m\n",
      "\u001b[0m\u001b[32mSaved FeatureTable[Composition] to: data/pairs_weaned/pair_2.0_weaned_pseudo.qza\u001b[0m\n",
      "\u001b[0m\u001b[32mSaved FeatureTable[Composition] to: data/pairs_weaned/pair_20.0_weaned_pseudo.qza\u001b[0m\n",
      "\u001b[0m\u001b[32mSaved FeatureTable[Composition] to: data/pairs_weaned/pair_21.0_weaned_pseudo.qza\u001b[0m\n",
      "\u001b[0m\u001b[32mSaved FeatureTable[Composition] to: data/pairs_weaned/pair_23.0_weaned_pseudo.qza\u001b[0m\n",
      "\u001b[0m\u001b[32mSaved FeatureTable[Composition] to: data/pairs_weaned/pair_19.0_weaned_pseudo.qza\u001b[0m\n",
      "\u001b[0m\u001b[32mSaved FeatureTable[Composition] to: data/pairs_weaned/pair_17.0_weaned_pseudo.qza\u001b[0m\n",
      "\u001b[0m\u001b[32mSaved FeatureTable[Composition] to: data/pairs_weaned/pair_18.0_weaned_pseudo.qza\u001b[0m\n",
      "\u001b[0m\u001b[32mSaved FeatureTable[Composition] to: data/pairs_weaned/pair_24.0_weaned_pseudo.qza\u001b[0m\n",
      "\u001b[0m"
     ]
    }
   ],
   "source": [
    "for pair in pair_numbers:\n",
    "    ! qiime composition add-pseudocount \\\n",
    "    --i-table $data_dir/pairs_weaned/pair_\"$pair\"_weaned.qza \\\n",
    "    --o-composition-table $data_dir/pairs_weaned/pair_\"$pair\"_weaned_pseudo.qza"
   ]
  },
  {
   "cell_type": "code",
   "execution_count": 12,
   "id": "ed3a312e-df92-49f8-a837-30aca25da77d",
   "metadata": {
    "collapsed": true,
    "jupyter": {
     "outputs_hidden": true
    },
    "tags": []
   },
   "outputs": [
    {
     "name": "stdout",
     "output_type": "stream",
     "text": [
      "\u001b[32mSaved Visualization to: data/ancoms_weaned/ancom_42.0_weaned.qzv\u001b[0m\n",
      "\u001b[0m\u001b[32mSaved Visualization to: data/ancoms_weaned/ancom_27.0_weaned.qzv\u001b[0m\n",
      "\u001b[0m\u001b[32mSaved Visualization to: data/ancoms_weaned/ancom_28.0_weaned.qzv\u001b[0m\n",
      "\u001b[0m\u001b[32mSaved Visualization to: data/ancoms_weaned/ancom_39.0_weaned.qzv\u001b[0m\n",
      "\u001b[0m\u001b[32mSaved Visualization to: data/ancoms_weaned/ancom_8.0_weaned.qzv\u001b[0m\n",
      "\u001b[0m\u001b[31m\u001b[1mPlugin error from composition:\n",
      "\n",
      "  `ids_to_keep` must contain at least one ID.\n",
      "\n",
      "Debug info has been saved to /tmp/qiime2-q2cli-err-yn1ve37p.log\u001b[0m\n",
      "\u001b[0m\u001b[32mSaved Visualization to: data/ancoms_weaned/ancom_40.0_weaned.qzv\u001b[0m\n",
      "\u001b[0m\u001b[31m\u001b[1mPlugin error from composition:\n",
      "\n",
      "  `ids_to_keep` must contain at least one ID.\n",
      "\n",
      "Debug info has been saved to /tmp/qiime2-q2cli-err-qundbbo_.log\u001b[0m\n",
      "\u001b[0m\u001b[31m\u001b[1mPlugin error from composition:\n",
      "\n",
      "  `ids_to_keep` must contain at least one ID.\n",
      "\n",
      "Debug info has been saved to /tmp/qiime2-q2cli-err-19o_hdlm.log\u001b[0m\n",
      "\u001b[0m\u001b[31m\u001b[1mPlugin error from composition:\n",
      "\n",
      "  `ids_to_keep` must contain at least one ID.\n",
      "\n",
      "Debug info has been saved to /tmp/qiime2-q2cli-err-49h5olvy.log\u001b[0m\n",
      "\u001b[0m\u001b[32mSaved Visualization to: data/ancoms_weaned/ancom_3.0_weaned.qzv\u001b[0m\n",
      "\u001b[0m\u001b[32mSaved Visualization to: data/ancoms_weaned/ancom_30.0_weaned.qzv\u001b[0m\n",
      "\u001b[0m\u001b[32mSaved Visualization to: data/ancoms_weaned/ancom_36.0_weaned.qzv\u001b[0m\n",
      "\u001b[0m\u001b[32mSaved Visualization to: data/ancoms_weaned/ancom_6.0_weaned.qzv\u001b[0m\n",
      "\u001b[0m\u001b[32mSaved Visualization to: data/ancoms_weaned/ancom_33.0_weaned.qzv\u001b[0m\n",
      "\u001b[0m\u001b[32mSaved Visualization to: data/ancoms_weaned/ancom_43.0_weaned.qzv\u001b[0m\n",
      "\u001b[0m\u001b[32mSaved Visualization to: data/ancoms_weaned/ancom_44.0_weaned.qzv\u001b[0m\n",
      "\u001b[0m\u001b[32mSaved Visualization to: data/ancoms_weaned/ancom_45.0_weaned.qzv\u001b[0m\n",
      "\u001b[0m\u001b[32mSaved Visualization to: data/ancoms_weaned/ancom_5.0_weaned.qzv\u001b[0m\n",
      "\u001b[0m\u001b[31m\u001b[1mPlugin error from composition:\n",
      "\n",
      "  `ids_to_keep` must contain at least one ID.\n",
      "\n",
      "Debug info has been saved to /tmp/qiime2-q2cli-err-lx2rnh64.log\u001b[0m\n",
      "\u001b[0m\u001b[31m\u001b[1mPlugin error from composition:\n",
      "\n",
      "  All values in `grouping` are unique. This method cannot operate on a grouping vector with only unique values (e.g., there are no 'within' variance because each group of samples contains only a single sample).\n",
      "\n",
      "Debug info has been saved to /tmp/qiime2-q2cli-err-1pqrurts.log\u001b[0m\n",
      "\u001b[0m\u001b[31m\u001b[1mPlugin error from composition:\n",
      "\n",
      "  `ids_to_keep` must contain at least one ID.\n",
      "\n",
      "Debug info has been saved to /tmp/qiime2-q2cli-err-rw1pvq3u.log\u001b[0m\n",
      "\u001b[0m\u001b[32mSaved Visualization to: data/ancoms_weaned/ancom_32.0_weaned.qzv\u001b[0m\n",
      "\u001b[0m\u001b[32mSaved Visualization to: data/ancoms_weaned/ancom_12.0_weaned.qzv\u001b[0m\n",
      "\u001b[0m\u001b[32mSaved Visualization to: data/ancoms_weaned/ancom_13.0_weaned.qzv\u001b[0m\n",
      "\u001b[0m\u001b[32mSaved Visualization to: data/ancoms_weaned/ancom_14.0_weaned.qzv\u001b[0m\n",
      "\u001b[0m\u001b[31m\u001b[1mPlugin error from composition:\n",
      "\n",
      "  `ids_to_keep` must contain at least one ID.\n",
      "\n",
      "Debug info has been saved to /tmp/qiime2-q2cli-err-wzt0irro.log\u001b[0m\n",
      "\u001b[0m\u001b[32mSaved Visualization to: data/ancoms_weaned/ancom_15.0_weaned.qzv\u001b[0m\n",
      "\u001b[0m\u001b[32mSaved Visualization to: data/ancoms_weaned/ancom_16.0_weaned.qzv\u001b[0m\n",
      "\u001b[0m\u001b[32mSaved Visualization to: data/ancoms_weaned/ancom_25.0_weaned.qzv\u001b[0m\n",
      "\u001b[0m\u001b[31m\u001b[1mPlugin error from composition:\n",
      "\n",
      "  `ids_to_keep` must contain at least one ID.\n",
      "\n",
      "Debug info has been saved to /tmp/qiime2-q2cli-err-q2rig8io.log\u001b[0m\n",
      "\u001b[0m\u001b[31m\u001b[1mPlugin error from composition:\n",
      "\n",
      "  `ids_to_keep` must contain at least one ID.\n",
      "\n",
      "Debug info has been saved to /tmp/qiime2-q2cli-err-o74kjtru.log\u001b[0m\n",
      "\u001b[0m\u001b[32mSaved Visualization to: data/ancoms_weaned/ancom_2.0_weaned.qzv\u001b[0m\n",
      "\u001b[0m\u001b[32mSaved Visualization to: data/ancoms_weaned/ancom_20.0_weaned.qzv\u001b[0m\n",
      "\u001b[0m\u001b[32mSaved Visualization to: data/ancoms_weaned/ancom_21.0_weaned.qzv\u001b[0m\n",
      "\u001b[0m\u001b[32mSaved Visualization to: data/ancoms_weaned/ancom_23.0_weaned.qzv\u001b[0m\n",
      "\u001b[0m\u001b[31m\u001b[1mPlugin error from composition:\n",
      "\n",
      "  `ids_to_keep` must contain at least one ID.\n",
      "\n",
      "Debug info has been saved to /tmp/qiime2-q2cli-err-wvd1m1ab.log\u001b[0m\n",
      "\u001b[0m\u001b[32mSaved Visualization to: data/ancoms_weaned/ancom_17.0_weaned.qzv\u001b[0m\n",
      "\u001b[0m\u001b[32mSaved Visualization to: data/ancoms_weaned/ancom_18.0_weaned.qzv\u001b[0m\n",
      "\u001b[0m\u001b[32mSaved Visualization to: data/ancoms_weaned/ancom_24.0_weaned.qzv\u001b[0m\n",
      "\u001b[0m"
     ]
    }
   ],
   "source": [
    "for pair in pair_numbers:\n",
    "    ! qiime composition ancom \\\n",
    "    --i-table $data_dir/pairs_weaned/pair_\"$pair\"_weaned_pseudo.qza \\\n",
    "    --m-metadata-file $data_dir/meta_wean2.tsv \\\n",
    "    --m-metadata-column host_id \\\n",
    "    --p-transform-function log \\\n",
    "    --o-visualization $data_dir/ancoms_weaned/ancom_\"$pair\"_weaned.qzv"
   ]
  },
  {
   "cell_type": "markdown",
   "id": "61fbd56c-2b7b-4dce-9624-8d1cdf712092",
   "metadata": {},
   "source": [
    "#### For Not Weaned:"
   ]
  },
  {
   "cell_type": "code",
   "execution_count": 11,
   "id": "b67c7c7f-fdfc-4dd7-a945-4d5e9175df18",
   "metadata": {
    "collapsed": true,
    "jupyter": {
     "outputs_hidden": true
    },
    "tags": []
   },
   "outputs": [
    {
     "name": "stdout",
     "output_type": "stream",
     "text": [
      "\u001b[32mSaved FeatureTable[Composition] to: data/pairs_notweaned/pair_42.0_notweaned_pseudo.qza\u001b[0m\n",
      "\u001b[0m\u001b[32mSaved FeatureTable[Composition] to: data/pairs_notweaned/pair_27.0_notweaned_pseudo.qza\u001b[0m\n",
      "\u001b[0m\u001b[32mSaved FeatureTable[Composition] to: data/pairs_notweaned/pair_28.0_notweaned_pseudo.qza\u001b[0m\n",
      "\u001b[0m\u001b[32mSaved FeatureTable[Composition] to: data/pairs_notweaned/pair_39.0_notweaned_pseudo.qza\u001b[0m\n",
      "\u001b[0m\u001b[32mSaved FeatureTable[Composition] to: data/pairs_notweaned/pair_8.0_notweaned_pseudo.qza\u001b[0m\n",
      "\u001b[0m\u001b[32mSaved FeatureTable[Composition] to: data/pairs_notweaned/pair_29.0_notweaned_pseudo.qza\u001b[0m\n",
      "\u001b[0m\u001b[32mSaved FeatureTable[Composition] to: data/pairs_notweaned/pair_40.0_notweaned_pseudo.qza\u001b[0m\n",
      "\u001b[0m\u001b[32mSaved FeatureTable[Composition] to: data/pairs_notweaned/pair_35.0_notweaned_pseudo.qza\u001b[0m\n",
      "\u001b[0m\u001b[32mSaved FeatureTable[Composition] to: data/pairs_notweaned/pair_47.0_notweaned_pseudo.qza\u001b[0m\n",
      "\u001b[0m\u001b[32mSaved FeatureTable[Composition] to: data/pairs_notweaned/pair_4.0_notweaned_pseudo.qza\u001b[0m\n",
      "\u001b[0m\u001b[32mSaved FeatureTable[Composition] to: data/pairs_notweaned/pair_3.0_notweaned_pseudo.qza\u001b[0m\n",
      "\u001b[0m\u001b[32mSaved FeatureTable[Composition] to: data/pairs_notweaned/pair_30.0_notweaned_pseudo.qza\u001b[0m\n",
      "\u001b[0m\u001b[32mSaved FeatureTable[Composition] to: data/pairs_notweaned/pair_36.0_notweaned_pseudo.qza\u001b[0m\n",
      "\u001b[0m\u001b[32mSaved FeatureTable[Composition] to: data/pairs_notweaned/pair_6.0_notweaned_pseudo.qza\u001b[0m\n",
      "\u001b[0m\u001b[32mSaved FeatureTable[Composition] to: data/pairs_notweaned/pair_33.0_notweaned_pseudo.qza\u001b[0m\n",
      "\u001b[0m\u001b[32mSaved FeatureTable[Composition] to: data/pairs_notweaned/pair_43.0_notweaned_pseudo.qza\u001b[0m\n",
      "\u001b[0m\u001b[32mSaved FeatureTable[Composition] to: data/pairs_notweaned/pair_44.0_notweaned_pseudo.qza\u001b[0m\n",
      "\u001b[0m\u001b[32mSaved FeatureTable[Composition] to: data/pairs_notweaned/pair_45.0_notweaned_pseudo.qza\u001b[0m\n",
      "\u001b[0m\u001b[32mSaved FeatureTable[Composition] to: data/pairs_notweaned/pair_5.0_notweaned_pseudo.qza\u001b[0m\n",
      "\u001b[0m\u001b[32mSaved FeatureTable[Composition] to: data/pairs_notweaned/pair_37.0_notweaned_pseudo.qza\u001b[0m\n",
      "\u001b[0m\u001b[32mSaved FeatureTable[Composition] to: data/pairs_notweaned/pair_46.0_notweaned_pseudo.qza\u001b[0m\n",
      "\u001b[0m\u001b[32mSaved FeatureTable[Composition] to: data/pairs_notweaned/pair_48.0_notweaned_pseudo.qza\u001b[0m\n",
      "\u001b[0m\u001b[32mSaved FeatureTable[Composition] to: data/pairs_notweaned/pair_32.0_notweaned_pseudo.qza\u001b[0m\n",
      "\u001b[0m\u001b[32mSaved FeatureTable[Composition] to: data/pairs_notweaned/pair_12.0_notweaned_pseudo.qza\u001b[0m\n",
      "\u001b[0m\u001b[32mSaved FeatureTable[Composition] to: data/pairs_notweaned/pair_13.0_notweaned_pseudo.qza\u001b[0m\n",
      "\u001b[0m\u001b[32mSaved FeatureTable[Composition] to: data/pairs_notweaned/pair_14.0_notweaned_pseudo.qza\u001b[0m\n",
      "\u001b[0m\u001b[32mSaved FeatureTable[Composition] to: data/pairs_notweaned/pair_10.0_notweaned_pseudo.qza\u001b[0m\n",
      "\u001b[0m\u001b[32mSaved FeatureTable[Composition] to: data/pairs_notweaned/pair_15.0_notweaned_pseudo.qza\u001b[0m\n",
      "\u001b[0m\u001b[32mSaved FeatureTable[Composition] to: data/pairs_notweaned/pair_16.0_notweaned_pseudo.qza\u001b[0m\n",
      "\u001b[0m\u001b[32mSaved FeatureTable[Composition] to: data/pairs_notweaned/pair_25.0_notweaned_pseudo.qza\u001b[0m\n",
      "\u001b[0m\u001b[32mSaved FeatureTable[Composition] to: data/pairs_notweaned/pair_26.0_notweaned_pseudo.qza\u001b[0m\n",
      "\u001b[0m\u001b[32mSaved FeatureTable[Composition] to: data/pairs_notweaned/pair_11.0_notweaned_pseudo.qza\u001b[0m\n",
      "\u001b[0m\u001b[32mSaved FeatureTable[Composition] to: data/pairs_notweaned/pair_2.0_notweaned_pseudo.qza\u001b[0m\n",
      "\u001b[0m\u001b[32mSaved FeatureTable[Composition] to: data/pairs_notweaned/pair_20.0_notweaned_pseudo.qza\u001b[0m\n",
      "\u001b[0m\u001b[32mSaved FeatureTable[Composition] to: data/pairs_notweaned/pair_21.0_notweaned_pseudo.qza\u001b[0m\n",
      "\u001b[0m\u001b[32mSaved FeatureTable[Composition] to: data/pairs_notweaned/pair_23.0_notweaned_pseudo.qza\u001b[0m\n",
      "\u001b[0m\u001b[32mSaved FeatureTable[Composition] to: data/pairs_notweaned/pair_19.0_notweaned_pseudo.qza\u001b[0m\n",
      "\u001b[0m\u001b[32mSaved FeatureTable[Composition] to: data/pairs_notweaned/pair_17.0_notweaned_pseudo.qza\u001b[0m\n",
      "\u001b[0m\u001b[32mSaved FeatureTable[Composition] to: data/pairs_notweaned/pair_18.0_notweaned_pseudo.qza\u001b[0m\n",
      "\u001b[0m\u001b[32mSaved FeatureTable[Composition] to: data/pairs_notweaned/pair_24.0_notweaned_pseudo.qza\u001b[0m\n",
      "\u001b[0m"
     ]
    }
   ],
   "source": [
    "for pair in pair_numbers:\n",
    "    ! qiime composition add-pseudocount \\\n",
    "    --i-table $data_dir/pairs_notweaned/pair_\"$pair\"_notweaned.qza \\\n",
    "    --o-composition-table $data_dir/pairs_notweaned/pair_\"$pair\"_notweaned_pseudo.qza"
   ]
  },
  {
   "cell_type": "code",
   "execution_count": 4,
   "id": "b85fc3b3-7d18-4fd1-98aa-c14af09c0117",
   "metadata": {
    "collapsed": true,
    "jupyter": {
     "outputs_hidden": true
    },
    "tags": []
   },
   "outputs": [
    {
     "name": "stdout",
     "output_type": "stream",
     "text": [
      "\u001b[32mSaved Visualization to: data/ancoms_notweaned/ancom_42.0_notweaned.qzv\u001b[0m\n",
      "\u001b[0m\u001b[32mSaved Visualization to: data/ancoms_notweaned/ancom_27.0_notweaned.qzv\u001b[0m\n",
      "\u001b[0m\u001b[31m\u001b[1mPlugin error from composition:\n",
      "\n",
      "  All values in `grouping` are unique. This method cannot operate on a grouping vector with only unique values (e.g., there are no 'within' variance because each group of samples contains only a single sample).\n",
      "\n",
      "Debug info has been saved to /tmp/qiime2-q2cli-err-6t_8myfz.log\u001b[0m\n",
      "\u001b[0m\u001b[31m\u001b[1mPlugin error from composition:\n",
      "\n",
      "  All values in `grouping` are unique. This method cannot operate on a grouping vector with only unique values (e.g., there are no 'within' variance because each group of samples contains only a single sample).\n",
      "\n",
      "Debug info has been saved to /tmp/qiime2-q2cli-err-t1bpvox3.log\u001b[0m\n",
      "\u001b[0m\u001b[32mSaved Visualization to: data/ancoms_notweaned/ancom_8.0_notweaned.qzv\u001b[0m\n",
      "\u001b[0m\u001b[31m\u001b[1mPlugin error from composition:\n",
      "\n",
      "  `ids_to_keep` must contain at least one ID.\n",
      "\n",
      "Debug info has been saved to /tmp/qiime2-q2cli-err-j120i6s5.log\u001b[0m\n",
      "\u001b[0m\u001b[32mSaved Visualization to: data/ancoms_notweaned/ancom_40.0_notweaned.qzv\u001b[0m\n",
      "\u001b[0m\u001b[31m\u001b[1mPlugin error from composition:\n",
      "\n",
      "  `ids_to_keep` must contain at least one ID.\n",
      "\n",
      "Debug info has been saved to /tmp/qiime2-q2cli-err-n7fi180g.log\u001b[0m\n",
      "\u001b[0m\u001b[31m\u001b[1mPlugin error from composition:\n",
      "\n",
      "  `ids_to_keep` must contain at least one ID.\n",
      "\n",
      "Debug info has been saved to /tmp/qiime2-q2cli-err-pnmlf0w_.log\u001b[0m\n",
      "\u001b[0m\u001b[31m\u001b[1mPlugin error from composition:\n",
      "\n",
      "  `ids_to_keep` must contain at least one ID.\n",
      "\n",
      "Debug info has been saved to /tmp/qiime2-q2cli-err-8ub7poc1.log\u001b[0m\n",
      "\u001b[0m\u001b[32mSaved Visualization to: data/ancoms_notweaned/ancom_3.0_notweaned.qzv\u001b[0m\n",
      "\u001b[0m\u001b[32mSaved Visualization to: data/ancoms_notweaned/ancom_30.0_notweaned.qzv\u001b[0m\n",
      "\u001b[0m\u001b[32mSaved Visualization to: data/ancoms_notweaned/ancom_36.0_notweaned.qzv\u001b[0m\n",
      "\u001b[0m\u001b[32mSaved Visualization to: data/ancoms_notweaned/ancom_6.0_notweaned.qzv\u001b[0m\n",
      "\u001b[0m\u001b[32mSaved Visualization to: data/ancoms_notweaned/ancom_33.0_notweaned.qzv\u001b[0m\n",
      "\u001b[0m\u001b[32mSaved Visualization to: data/ancoms_notweaned/ancom_43.0_notweaned.qzv\u001b[0m\n",
      "\u001b[0m\u001b[32mSaved Visualization to: data/ancoms_notweaned/ancom_44.0_notweaned.qzv\u001b[0m\n",
      "\u001b[0m\u001b[32mSaved Visualization to: data/ancoms_notweaned/ancom_45.0_notweaned.qzv\u001b[0m\n",
      "\u001b[0m\u001b[32mSaved Visualization to: data/ancoms_notweaned/ancom_5.0_notweaned.qzv\u001b[0m\n",
      "\u001b[0m\u001b[31m\u001b[1mPlugin error from composition:\n",
      "\n",
      "  `ids_to_keep` must contain at least one ID.\n",
      "\n",
      "Debug info has been saved to /tmp/qiime2-q2cli-err-5yvgog26.log\u001b[0m\n",
      "\u001b[0m\u001b[32mSaved Visualization to: data/ancoms_notweaned/ancom_46.0_notweaned.qzv\u001b[0m\n",
      "\u001b[0m\u001b[31m\u001b[1mPlugin error from composition:\n",
      "\n",
      "  `ids_to_keep` must contain at least one ID.\n",
      "\n",
      "Debug info has been saved to /tmp/qiime2-q2cli-err-6ecoluko.log\u001b[0m\n",
      "\u001b[0m\u001b[32mSaved Visualization to: data/ancoms_notweaned/ancom_32.0_notweaned.qzv\u001b[0m\n",
      "\u001b[0m\u001b[32mSaved Visualization to: data/ancoms_notweaned/ancom_12.0_notweaned.qzv\u001b[0m\n",
      "\u001b[0m\u001b[32mSaved Visualization to: data/ancoms_notweaned/ancom_13.0_notweaned.qzv\u001b[0m\n",
      "\u001b[0m\u001b[32mSaved Visualization to: data/ancoms_notweaned/ancom_14.0_notweaned.qzv\u001b[0m\n",
      "\u001b[0m\u001b[31m\u001b[1mPlugin error from composition:\n",
      "\n",
      "  `ids_to_keep` must contain at least one ID.\n",
      "\n",
      "Debug info has been saved to /tmp/qiime2-q2cli-err-edqao46i.log\u001b[0m\n",
      "\u001b[0m\u001b[31m\u001b[1mPlugin error from composition:\n",
      "\n",
      "  All values in `grouping` are unique. This method cannot operate on a grouping vector with only unique values (e.g., there are no 'within' variance because each group of samples contains only a single sample).\n",
      "\n",
      "Debug info has been saved to /tmp/qiime2-q2cli-err-bbcqo36g.log\u001b[0m\n",
      "\u001b[0m\u001b[32mSaved Visualization to: data/ancoms_notweaned/ancom_16.0_notweaned.qzv\u001b[0m\n",
      "\u001b[0m\u001b[32mSaved Visualization to: data/ancoms_notweaned/ancom_25.0_notweaned.qzv\u001b[0m\n",
      "\u001b[0m\u001b[31m\u001b[1mPlugin error from composition:\n",
      "\n",
      "  `ids_to_keep` must contain at least one ID.\n",
      "\n",
      "Debug info has been saved to /tmp/qiime2-q2cli-err-xam2osq4.log\u001b[0m\n",
      "\u001b[0m\u001b[31m\u001b[1mPlugin error from composition:\n",
      "\n",
      "  `ids_to_keep` must contain at least one ID.\n",
      "\n",
      "Debug info has been saved to /tmp/qiime2-q2cli-err-f5ajzcgg.log\u001b[0m\n",
      "\u001b[0m\u001b[31m\u001b[1mPlugin error from composition:\n",
      "\n",
      "  All values in `grouping` are unique. This method cannot operate on a grouping vector with only unique values (e.g., there are no 'within' variance because each group of samples contains only a single sample).\n",
      "\n",
      "Debug info has been saved to /tmp/qiime2-q2cli-err-bffymepk.log\u001b[0m\n",
      "\u001b[0m\u001b[32mSaved Visualization to: data/ancoms_notweaned/ancom_20.0_notweaned.qzv\u001b[0m\n",
      "\u001b[0m\u001b[31m\u001b[1mPlugin error from composition:\n",
      "\n",
      "  All values in `grouping` are unique. This method cannot operate on a grouping vector with only unique values (e.g., there are no 'within' variance because each group of samples contains only a single sample).\n",
      "\n",
      "Debug info has been saved to /tmp/qiime2-q2cli-err-mogp1_a_.log\u001b[0m\n",
      "\u001b[0m\u001b[32mSaved Visualization to: data/ancoms_notweaned/ancom_23.0_notweaned.qzv\u001b[0m\n",
      "\u001b[0m\u001b[31m\u001b[1mPlugin error from composition:\n",
      "\n",
      "  `ids_to_keep` must contain at least one ID.\n",
      "\n",
      "Debug info has been saved to /tmp/qiime2-q2cli-err-x9r1qzk8.log\u001b[0m\n",
      "\u001b[0m\u001b[32mSaved Visualization to: data/ancoms_notweaned/ancom_17.0_notweaned.qzv\u001b[0m\n",
      "\u001b[0m\u001b[32mSaved Visualization to: data/ancoms_notweaned/ancom_18.0_notweaned.qzv\u001b[0m\n",
      "\u001b[0m\u001b[32mSaved Visualization to: data/ancoms_notweaned/ancom_24.0_notweaned.qzv\u001b[0m\n",
      "\u001b[0m"
     ]
    }
   ],
   "source": [
    "for pair in pair_numbers:\n",
    "    ! qiime composition ancom \\\n",
    "    --i-table $data_dir/pairs_notweaned/pair_\"$pair\"_notweaned_pseudo.qza \\\n",
    "    --m-metadata-file $data_dir/meta_wean2.tsv \\\n",
    "    --m-metadata-column host_id \\\n",
    "    --p-transform-function log \\\n",
    "    --o-visualization $data_dir/ancoms_notweaned/ancom_\"$pair\"_notweaned.qzv"
   ]
  },
  {
   "cell_type": "markdown",
   "id": "a60ee4ea-7ffe-4145-9a43-5e6bb0eb1e04",
   "metadata": {},
   "source": [
    "#### Some twins do not have any samples for the stages 'weaned' or 'not weaning' leading to the error messages. Unfortunately, we lose those samples for further statistical analysis."
   ]
  },
  {
   "cell_type": "code",
   "execution_count": 6,
   "id": "d86c85cf-bc55-4d79-85e1-a3d313ead714",
   "metadata": {
    "collapsed": true,
    "jupyter": {
     "outputs_hidden": true
    },
    "tags": []
   },
   "outputs": [
    {
     "data": {
      "text/html": [
       "<div><img onload=\"(function(div, url){\n",
       "if (typeof require !== 'undefined') {\n",
       "    var baseURL = require.toUrl('').split('/').slice(0, -2).join('/');\n",
       "} else {\n",
       "    var baseURL = JSON.parse(\n",
       "        document.getElementById('jupyter-config-data').innerHTML\n",
       "    ).baseUrl.slice(0, -1);\n",
       "}\n",
       "url = baseURL + url;\n",
       "fetch(url).then(function(res) {\n",
       "    if (res.status === 404) {\n",
       "        div.innerHTML = 'Install QIIME 2 Jupyter extension with:<br />' +\n",
       "                        '<code>jupyter serverextension enable --py qiime2' +\n",
       "                        ' --sys-prefix</code><br />then restart your server.' +\n",
       "                        '<br /><br />(Interactive output not available on ' +\n",
       "                        'static notebook viewer services like nbviewer.)';\n",
       "    } else if (res.status === 409) {\n",
       "        div.innerHTML = 'Visualization no longer in scope. Re-run this cell' +\n",
       "                        ' to see the visualization.';\n",
       "    } else if (res.ok) {\n",
       "        url = res.url;\n",
       "        div.innerHTML = '<iframe src=\\'' + url + '\\' style=\\'' +\n",
       "                        'width: 100%; height: 700px; border: 0;\\'>' +\n",
       "                        '</iframe><hr />Open in a: <a href=\\'' + url + '\\'' +\n",
       "                        ' target=\\'_blank\\'>new window</a>'\n",
       "    } else {\n",
       "        div.innerHTML = 'Something has gone wrong. Check notebook server for' +\n",
       "                        ' errors.';\n",
       "    }\n",
       "});\n",
       "})(this.parentElement, '/qiime2/redirect?location=/tmp/qiime2-archive-mvrd4g62')\" src=\"data:image/gif;base64,R0lGODlhAQABAIAAAP///wAAACH5BAEAAAAALAAAAAABAAEAAAICRAEAOw==\" /></div>"
      ],
      "text/plain": [
       "<visualization: Visualization uuid: 59364d77-16fc-454d-9a36-f32f6e694771>"
      ]
     },
     "execution_count": 6,
     "metadata": {},
     "output_type": "execute_result"
    }
   ],
   "source": [
    "Visualization.load(f'{data_dir}/ancoms_notweaned/ancom_30.0_notweaned.qzv')"
   ]
  },
  {
   "cell_type": "markdown",
   "id": "71de5b5d-8c31-48b9-a62c-40b722f5325f",
   "metadata": {},
   "source": [
    "#### Now we have the the volcano plot and corresponding table showing the W-values for all different features and the column 'Reject null hypothesis'. We will count all features that are significantly differentially abundant, meaning they have 'True' in the 'Reject null hypothesis' column."
   ]
  },
  {
   "cell_type": "markdown",
   "id": "b6bfa742-245b-4e90-b743-77533764a1f2",
   "metadata": {},
   "source": [
    "#### For this, we need to convert the ancom results to a tsv file:"
   ]
  },
  {
   "cell_type": "markdown",
   "id": "388e5073-867e-48d0-a15f-333f02c069ba",
   "metadata": {},
   "source": [
    "#### For weaned:"
   ]
  },
  {
   "cell_type": "code",
   "execution_count": 4,
   "id": "9c424328-fb55-4f00-931b-2768c78e08e2",
   "metadata": {
    "collapsed": true,
    "jupyter": {
     "outputs_hidden": true
    },
    "tags": []
   },
   "outputs": [
    {
     "name": "stdout",
     "output_type": "stream",
     "text": [
      "\u001b[32mExported data/ancoms_weaned/ancom_42.0_weaned.qzv as Visualization to directory data/ancoms_weaned/ancom_42.0_weaned.tsv\u001b[0m\n",
      "\u001b[32mExported data/ancoms_weaned/ancom_27.0_weaned.qzv as Visualization to directory data/ancoms_weaned/ancom_27.0_weaned.tsv\u001b[0m\n",
      "\u001b[32mExported data/ancoms_weaned/ancom_28.0_weaned.qzv as Visualization to directory data/ancoms_weaned/ancom_28.0_weaned.tsv\u001b[0m\n",
      "\u001b[32mExported data/ancoms_weaned/ancom_39.0_weaned.qzv as Visualization to directory data/ancoms_weaned/ancom_39.0_weaned.tsv\u001b[0m\n",
      "\u001b[32mExported data/ancoms_weaned/ancom_8.0_weaned.qzv as Visualization to directory data/ancoms_weaned/ancom_8.0_weaned.tsv\u001b[0m\n",
      "Usage: \u001b[94mqiime tools export\u001b[0m [OPTIONS]\n",
      "\n",
      "  Exporting extracts (and optionally transforms) data stored inside an\n",
      "  Artifact or Visualization. Note that Visualizations cannot be transformed\n",
      "  with --output-format\n",
      "\n",
      "\u001b[1mOptions\u001b[0m:\n",
      "  \u001b[94m\u001b[4m--input-path\u001b[0m ARTIFACT/VISUALIZATION\n",
      "                        Path to file that should be exported        \u001b[35m[required]\u001b[0m\n",
      "  \u001b[94m\u001b[4m--output-path\u001b[0m PATH    Path to file or directory where data should be\n",
      "                        exported to                                 \u001b[35m[required]\u001b[0m\n",
      "  \u001b[94m--output-format\u001b[0m TEXT  Format which the data should be exported as. This\n",
      "                        option cannot be used with Visualizations\n",
      "  \u001b[94m--help\u001b[0m                Show this message and exit.\n",
      "\n",
      "\u001b[33m                    There was a problem with the command:                     \u001b[0m\n",
      "\u001b[31m\u001b[1m (1/1) Invalid value for '--input-path': File\n",
      "  'data/ancoms_weaned/ancom_29.0_weaned.qzv' does not exist.\u001b[0m\n",
      "\u001b[32mExported data/ancoms_weaned/ancom_40.0_weaned.qzv as Visualization to directory data/ancoms_weaned/ancom_40.0_weaned.tsv\u001b[0m\n",
      "Usage: \u001b[94mqiime tools export\u001b[0m [OPTIONS]\n",
      "\n",
      "  Exporting extracts (and optionally transforms) data stored inside an\n",
      "  Artifact or Visualization. Note that Visualizations cannot be transformed\n",
      "  with --output-format\n",
      "\n",
      "\u001b[1mOptions\u001b[0m:\n",
      "  \u001b[94m\u001b[4m--input-path\u001b[0m ARTIFACT/VISUALIZATION\n",
      "                        Path to file that should be exported        \u001b[35m[required]\u001b[0m\n",
      "  \u001b[94m\u001b[4m--output-path\u001b[0m PATH    Path to file or directory where data should be\n",
      "                        exported to                                 \u001b[35m[required]\u001b[0m\n",
      "  \u001b[94m--output-format\u001b[0m TEXT  Format which the data should be exported as. This\n",
      "                        option cannot be used with Visualizations\n",
      "  \u001b[94m--help\u001b[0m                Show this message and exit.\n",
      "\n",
      "\u001b[33m                    There was a problem with the command:                     \u001b[0m\n",
      "\u001b[31m\u001b[1m (1/1) Invalid value for '--input-path': File\n",
      "  'data/ancoms_weaned/ancom_35.0_weaned.qzv' does not exist.\u001b[0m\n",
      "Usage: \u001b[94mqiime tools export\u001b[0m [OPTIONS]\n",
      "\n",
      "  Exporting extracts (and optionally transforms) data stored inside an\n",
      "  Artifact or Visualization. Note that Visualizations cannot be transformed\n",
      "  with --output-format\n",
      "\n",
      "\u001b[1mOptions\u001b[0m:\n",
      "  \u001b[94m\u001b[4m--input-path\u001b[0m ARTIFACT/VISUALIZATION\n",
      "                        Path to file that should be exported        \u001b[35m[required]\u001b[0m\n",
      "  \u001b[94m\u001b[4m--output-path\u001b[0m PATH    Path to file or directory where data should be\n",
      "                        exported to                                 \u001b[35m[required]\u001b[0m\n",
      "  \u001b[94m--output-format\u001b[0m TEXT  Format which the data should be exported as. This\n",
      "                        option cannot be used with Visualizations\n",
      "  \u001b[94m--help\u001b[0m                Show this message and exit.\n",
      "\n",
      "\u001b[33m                    There was a problem with the command:                     \u001b[0m\n",
      "\u001b[31m\u001b[1m (1/1) Invalid value for '--input-path': File\n",
      "  'data/ancoms_weaned/ancom_47.0_weaned.qzv' does not exist.\u001b[0m\n",
      "Usage: \u001b[94mqiime tools export\u001b[0m [OPTIONS]\n",
      "\n",
      "  Exporting extracts (and optionally transforms) data stored inside an\n",
      "  Artifact or Visualization. Note that Visualizations cannot be transformed\n",
      "  with --output-format\n",
      "\n",
      "\u001b[1mOptions\u001b[0m:\n",
      "  \u001b[94m\u001b[4m--input-path\u001b[0m ARTIFACT/VISUALIZATION\n",
      "                        Path to file that should be exported        \u001b[35m[required]\u001b[0m\n",
      "  \u001b[94m\u001b[4m--output-path\u001b[0m PATH    Path to file or directory where data should be\n",
      "                        exported to                                 \u001b[35m[required]\u001b[0m\n",
      "  \u001b[94m--output-format\u001b[0m TEXT  Format which the data should be exported as. This\n",
      "                        option cannot be used with Visualizations\n",
      "  \u001b[94m--help\u001b[0m                Show this message and exit.\n",
      "\n",
      "\u001b[33m                    There was a problem with the command:                     \u001b[0m\n",
      "\u001b[31m\u001b[1m (1/1) Invalid value for '--input-path': File\n",
      "  'data/ancoms_weaned/ancom_4.0_weaned.qzv' does not exist.\u001b[0m\n",
      "\u001b[32mExported data/ancoms_weaned/ancom_3.0_weaned.qzv as Visualization to directory data/ancoms_weaned/ancom_3.0_weaned.tsv\u001b[0m\n",
      "\u001b[32mExported data/ancoms_weaned/ancom_30.0_weaned.qzv as Visualization to directory data/ancoms_weaned/ancom_30.0_weaned.tsv\u001b[0m\n",
      "\u001b[32mExported data/ancoms_weaned/ancom_36.0_weaned.qzv as Visualization to directory data/ancoms_weaned/ancom_36.0_weaned.tsv\u001b[0m\n",
      "\u001b[32mExported data/ancoms_weaned/ancom_6.0_weaned.qzv as Visualization to directory data/ancoms_weaned/ancom_6.0_weaned.tsv\u001b[0m\n",
      "\u001b[32mExported data/ancoms_weaned/ancom_33.0_weaned.qzv as Visualization to directory data/ancoms_weaned/ancom_33.0_weaned.tsv\u001b[0m\n",
      "\u001b[32mExported data/ancoms_weaned/ancom_43.0_weaned.qzv as Visualization to directory data/ancoms_weaned/ancom_43.0_weaned.tsv\u001b[0m\n",
      "\u001b[32mExported data/ancoms_weaned/ancom_44.0_weaned.qzv as Visualization to directory data/ancoms_weaned/ancom_44.0_weaned.tsv\u001b[0m\n",
      "\u001b[32mExported data/ancoms_weaned/ancom_45.0_weaned.qzv as Visualization to directory data/ancoms_weaned/ancom_45.0_weaned.tsv\u001b[0m\n",
      "\u001b[32mExported data/ancoms_weaned/ancom_5.0_weaned.qzv as Visualization to directory data/ancoms_weaned/ancom_5.0_weaned.tsv\u001b[0m\n",
      "Usage: \u001b[94mqiime tools export\u001b[0m [OPTIONS]\n",
      "\n",
      "  Exporting extracts (and optionally transforms) data stored inside an\n",
      "  Artifact or Visualization. Note that Visualizations cannot be transformed\n",
      "  with --output-format\n",
      "\n",
      "\u001b[1mOptions\u001b[0m:\n",
      "  \u001b[94m\u001b[4m--input-path\u001b[0m ARTIFACT/VISUALIZATION\n",
      "                        Path to file that should be exported        \u001b[35m[required]\u001b[0m\n",
      "  \u001b[94m\u001b[4m--output-path\u001b[0m PATH    Path to file or directory where data should be\n",
      "                        exported to                                 \u001b[35m[required]\u001b[0m\n",
      "  \u001b[94m--output-format\u001b[0m TEXT  Format which the data should be exported as. This\n",
      "                        option cannot be used with Visualizations\n",
      "  \u001b[94m--help\u001b[0m                Show this message and exit.\n",
      "\n",
      "\u001b[33m                    There was a problem with the command:                     \u001b[0m\n",
      "\u001b[31m\u001b[1m (1/1) Invalid value for '--input-path': File\n",
      "  'data/ancoms_weaned/ancom_37.0_weaned.qzv' does not exist.\u001b[0m\n",
      "Usage: \u001b[94mqiime tools export\u001b[0m [OPTIONS]\n",
      "\n",
      "  Exporting extracts (and optionally transforms) data stored inside an\n",
      "  Artifact or Visualization. Note that Visualizations cannot be transformed\n",
      "  with --output-format\n",
      "\n",
      "\u001b[1mOptions\u001b[0m:\n",
      "  \u001b[94m\u001b[4m--input-path\u001b[0m ARTIFACT/VISUALIZATION\n",
      "                        Path to file that should be exported        \u001b[35m[required]\u001b[0m\n",
      "  \u001b[94m\u001b[4m--output-path\u001b[0m PATH    Path to file or directory where data should be\n",
      "                        exported to                                 \u001b[35m[required]\u001b[0m\n",
      "  \u001b[94m--output-format\u001b[0m TEXT  Format which the data should be exported as. This\n",
      "                        option cannot be used with Visualizations\n",
      "  \u001b[94m--help\u001b[0m                Show this message and exit.\n",
      "\n",
      "\u001b[33m                    There was a problem with the command:                     \u001b[0m\n",
      "\u001b[31m\u001b[1m (1/1) Invalid value for '--input-path': File\n",
      "  'data/ancoms_weaned/ancom_46.0_weaned.qzv' does not exist.\u001b[0m\n",
      "Usage: \u001b[94mqiime tools export\u001b[0m [OPTIONS]\n",
      "\n",
      "  Exporting extracts (and optionally transforms) data stored inside an\n",
      "  Artifact or Visualization. Note that Visualizations cannot be transformed\n",
      "  with --output-format\n",
      "\n",
      "\u001b[1mOptions\u001b[0m:\n",
      "  \u001b[94m\u001b[4m--input-path\u001b[0m ARTIFACT/VISUALIZATION\n",
      "                        Path to file that should be exported        \u001b[35m[required]\u001b[0m\n",
      "  \u001b[94m\u001b[4m--output-path\u001b[0m PATH    Path to file or directory where data should be\n",
      "                        exported to                                 \u001b[35m[required]\u001b[0m\n",
      "  \u001b[94m--output-format\u001b[0m TEXT  Format which the data should be exported as. This\n",
      "                        option cannot be used with Visualizations\n",
      "  \u001b[94m--help\u001b[0m                Show this message and exit.\n",
      "\n",
      "\u001b[33m                    There was a problem with the command:                     \u001b[0m\n",
      "\u001b[31m\u001b[1m (1/1) Invalid value for '--input-path': File\n",
      "  'data/ancoms_weaned/ancom_48.0_weaned.qzv' does not exist.\u001b[0m\n",
      "\u001b[32mExported data/ancoms_weaned/ancom_32.0_weaned.qzv as Visualization to directory data/ancoms_weaned/ancom_32.0_weaned.tsv\u001b[0m\n",
      "\u001b[32mExported data/ancoms_weaned/ancom_12.0_weaned.qzv as Visualization to directory data/ancoms_weaned/ancom_12.0_weaned.tsv\u001b[0m\n",
      "\u001b[32mExported data/ancoms_weaned/ancom_13.0_weaned.qzv as Visualization to directory data/ancoms_weaned/ancom_13.0_weaned.tsv\u001b[0m\n",
      "\u001b[32mExported data/ancoms_weaned/ancom_14.0_weaned.qzv as Visualization to directory data/ancoms_weaned/ancom_14.0_weaned.tsv\u001b[0m\n",
      "Usage: \u001b[94mqiime tools export\u001b[0m [OPTIONS]\n",
      "\n",
      "  Exporting extracts (and optionally transforms) data stored inside an\n",
      "  Artifact or Visualization. Note that Visualizations cannot be transformed\n",
      "  with --output-format\n",
      "\n",
      "\u001b[1mOptions\u001b[0m:\n",
      "  \u001b[94m\u001b[4m--input-path\u001b[0m ARTIFACT/VISUALIZATION\n",
      "                        Path to file that should be exported        \u001b[35m[required]\u001b[0m\n",
      "  \u001b[94m\u001b[4m--output-path\u001b[0m PATH    Path to file or directory where data should be\n",
      "                        exported to                                 \u001b[35m[required]\u001b[0m\n",
      "  \u001b[94m--output-format\u001b[0m TEXT  Format which the data should be exported as. This\n",
      "                        option cannot be used with Visualizations\n",
      "  \u001b[94m--help\u001b[0m                Show this message and exit.\n",
      "\n",
      "\u001b[33m                    There was a problem with the command:                     \u001b[0m\n",
      "\u001b[31m\u001b[1m (1/1) Invalid value for '--input-path': File\n",
      "  'data/ancoms_weaned/ancom_10.0_weaned.qzv' does not exist.\u001b[0m\n",
      "\u001b[32mExported data/ancoms_weaned/ancom_15.0_weaned.qzv as Visualization to directory data/ancoms_weaned/ancom_15.0_weaned.tsv\u001b[0m\n",
      "\u001b[32mExported data/ancoms_weaned/ancom_16.0_weaned.qzv as Visualization to directory data/ancoms_weaned/ancom_16.0_weaned.tsv\u001b[0m\n",
      "\u001b[32mExported data/ancoms_weaned/ancom_25.0_weaned.qzv as Visualization to directory data/ancoms_weaned/ancom_25.0_weaned.tsv\u001b[0m\n",
      "Usage: \u001b[94mqiime tools export\u001b[0m [OPTIONS]\n",
      "\n",
      "  Exporting extracts (and optionally transforms) data stored inside an\n",
      "  Artifact or Visualization. Note that Visualizations cannot be transformed\n",
      "  with --output-format\n",
      "\n",
      "\u001b[1mOptions\u001b[0m:\n",
      "  \u001b[94m\u001b[4m--input-path\u001b[0m ARTIFACT/VISUALIZATION\n",
      "                        Path to file that should be exported        \u001b[35m[required]\u001b[0m\n",
      "  \u001b[94m\u001b[4m--output-path\u001b[0m PATH    Path to file or directory where data should be\n",
      "                        exported to                                 \u001b[35m[required]\u001b[0m\n",
      "  \u001b[94m--output-format\u001b[0m TEXT  Format which the data should be exported as. This\n",
      "                        option cannot be used with Visualizations\n",
      "  \u001b[94m--help\u001b[0m                Show this message and exit.\n",
      "\n",
      "\u001b[33m                    There was a problem with the command:                     \u001b[0m\n",
      "\u001b[31m\u001b[1m (1/1) Invalid value for '--input-path': File\n",
      "  'data/ancoms_weaned/ancom_26.0_weaned.qzv' does not exist.\u001b[0m\n",
      "Usage: \u001b[94mqiime tools export\u001b[0m [OPTIONS]\n",
      "\n",
      "  Exporting extracts (and optionally transforms) data stored inside an\n",
      "  Artifact or Visualization. Note that Visualizations cannot be transformed\n",
      "  with --output-format\n",
      "\n",
      "\u001b[1mOptions\u001b[0m:\n",
      "  \u001b[94m\u001b[4m--input-path\u001b[0m ARTIFACT/VISUALIZATION\n",
      "                        Path to file that should be exported        \u001b[35m[required]\u001b[0m\n",
      "  \u001b[94m\u001b[4m--output-path\u001b[0m PATH    Path to file or directory where data should be\n",
      "                        exported to                                 \u001b[35m[required]\u001b[0m\n",
      "  \u001b[94m--output-format\u001b[0m TEXT  Format which the data should be exported as. This\n",
      "                        option cannot be used with Visualizations\n",
      "  \u001b[94m--help\u001b[0m                Show this message and exit.\n",
      "\n",
      "\u001b[33m                    There was a problem with the command:                     \u001b[0m\n",
      "\u001b[31m\u001b[1m (1/1) Invalid value for '--input-path': File\n",
      "  'data/ancoms_weaned/ancom_11.0_weaned.qzv' does not exist.\u001b[0m\n",
      "\u001b[32mExported data/ancoms_weaned/ancom_2.0_weaned.qzv as Visualization to directory data/ancoms_weaned/ancom_2.0_weaned.tsv\u001b[0m\n",
      "\u001b[32mExported data/ancoms_weaned/ancom_20.0_weaned.qzv as Visualization to directory data/ancoms_weaned/ancom_20.0_weaned.tsv\u001b[0m\n",
      "\u001b[32mExported data/ancoms_weaned/ancom_21.0_weaned.qzv as Visualization to directory data/ancoms_weaned/ancom_21.0_weaned.tsv\u001b[0m\n",
      "\u001b[32mExported data/ancoms_weaned/ancom_23.0_weaned.qzv as Visualization to directory data/ancoms_weaned/ancom_23.0_weaned.tsv\u001b[0m\n",
      "Usage: \u001b[94mqiime tools export\u001b[0m [OPTIONS]\n",
      "\n",
      "  Exporting extracts (and optionally transforms) data stored inside an\n",
      "  Artifact or Visualization. Note that Visualizations cannot be transformed\n",
      "  with --output-format\n",
      "\n",
      "\u001b[1mOptions\u001b[0m:\n",
      "  \u001b[94m\u001b[4m--input-path\u001b[0m ARTIFACT/VISUALIZATION\n",
      "                        Path to file that should be exported        \u001b[35m[required]\u001b[0m\n",
      "  \u001b[94m\u001b[4m--output-path\u001b[0m PATH    Path to file or directory where data should be\n",
      "                        exported to                                 \u001b[35m[required]\u001b[0m\n",
      "  \u001b[94m--output-format\u001b[0m TEXT  Format which the data should be exported as. This\n",
      "                        option cannot be used with Visualizations\n",
      "  \u001b[94m--help\u001b[0m                Show this message and exit.\n",
      "\n",
      "\u001b[33m                    There was a problem with the command:                     \u001b[0m\n",
      "\u001b[31m\u001b[1m (1/1) Invalid value for '--input-path': File\n",
      "  'data/ancoms_weaned/ancom_19.0_weaned.qzv' does not exist.\u001b[0m\n",
      "\u001b[32mExported data/ancoms_weaned/ancom_17.0_weaned.qzv as Visualization to directory data/ancoms_weaned/ancom_17.0_weaned.tsv\u001b[0m\n",
      "\u001b[32mExported data/ancoms_weaned/ancom_18.0_weaned.qzv as Visualization to directory data/ancoms_weaned/ancom_18.0_weaned.tsv\u001b[0m\n",
      "\u001b[32mExported data/ancoms_weaned/ancom_24.0_weaned.qzv as Visualization to directory data/ancoms_weaned/ancom_24.0_weaned.tsv\u001b[0m\n"
     ]
    }
   ],
   "source": [
    "for pair in pair_numbers:\n",
    "    !qiime tools export \\\n",
    "      --input-path $data_dir/ancoms_weaned/ancom_\"$pair\"_weaned.qzv \\\n",
    "      --output-path $data_dir/ancoms_weaned/ancom_\"$pair\"_weaned.tsv"
   ]
  },
  {
   "cell_type": "markdown",
   "id": "f2685464-3693-4ef7-8679-ff61506950eb",
   "metadata": {},
   "source": [
    "#### For not weaned:"
   ]
  },
  {
   "cell_type": "code",
   "execution_count": 5,
   "id": "8cf86816-bc52-40cc-a7dd-c38e3d2ce87b",
   "metadata": {
    "collapsed": true,
    "jupyter": {
     "outputs_hidden": true
    },
    "tags": []
   },
   "outputs": [
    {
     "name": "stdout",
     "output_type": "stream",
     "text": [
      "\u001b[32mExported data/ancoms_notweaned/ancom_42.0_notweaned.qzv as Visualization to directory data/ancoms_notweaned/ancom_42.0_notweaned.tsv\u001b[0m\n",
      "\u001b[32mExported data/ancoms_notweaned/ancom_27.0_notweaned.qzv as Visualization to directory data/ancoms_notweaned/ancom_27.0_notweaned.tsv\u001b[0m\n",
      "Usage: \u001b[94mqiime tools export\u001b[0m [OPTIONS]\n",
      "\n",
      "  Exporting extracts (and optionally transforms) data stored inside an\n",
      "  Artifact or Visualization. Note that Visualizations cannot be transformed\n",
      "  with --output-format\n",
      "\n",
      "\u001b[1mOptions\u001b[0m:\n",
      "  \u001b[94m\u001b[4m--input-path\u001b[0m ARTIFACT/VISUALIZATION\n",
      "                        Path to file that should be exported        \u001b[35m[required]\u001b[0m\n",
      "  \u001b[94m\u001b[4m--output-path\u001b[0m PATH    Path to file or directory where data should be\n",
      "                        exported to                                 \u001b[35m[required]\u001b[0m\n",
      "  \u001b[94m--output-format\u001b[0m TEXT  Format which the data should be exported as. This\n",
      "                        option cannot be used with Visualizations\n",
      "  \u001b[94m--help\u001b[0m                Show this message and exit.\n",
      "\n",
      "\u001b[33m                    There was a problem with the command:                     \u001b[0m\n",
      "\u001b[31m\u001b[1m (1/1) Invalid value for '--input-path': File\n",
      "  'data/ancoms_notweaned/ancom_28.0_notweaned.qzv' does not exist.\u001b[0m\n",
      "Usage: \u001b[94mqiime tools export\u001b[0m [OPTIONS]\n",
      "\n",
      "  Exporting extracts (and optionally transforms) data stored inside an\n",
      "  Artifact or Visualization. Note that Visualizations cannot be transformed\n",
      "  with --output-format\n",
      "\n",
      "\u001b[1mOptions\u001b[0m:\n",
      "  \u001b[94m\u001b[4m--input-path\u001b[0m ARTIFACT/VISUALIZATION\n",
      "                        Path to file that should be exported        \u001b[35m[required]\u001b[0m\n",
      "  \u001b[94m\u001b[4m--output-path\u001b[0m PATH    Path to file or directory where data should be\n",
      "                        exported to                                 \u001b[35m[required]\u001b[0m\n",
      "  \u001b[94m--output-format\u001b[0m TEXT  Format which the data should be exported as. This\n",
      "                        option cannot be used with Visualizations\n",
      "  \u001b[94m--help\u001b[0m                Show this message and exit.\n",
      "\n",
      "\u001b[33m                    There was a problem with the command:                     \u001b[0m\n",
      "\u001b[31m\u001b[1m (1/1) Invalid value for '--input-path': File\n",
      "  'data/ancoms_notweaned/ancom_39.0_notweaned.qzv' does not exist.\u001b[0m\n",
      "\u001b[32mExported data/ancoms_notweaned/ancom_8.0_notweaned.qzv as Visualization to directory data/ancoms_notweaned/ancom_8.0_notweaned.tsv\u001b[0m\n",
      "Usage: \u001b[94mqiime tools export\u001b[0m [OPTIONS]\n",
      "\n",
      "  Exporting extracts (and optionally transforms) data stored inside an\n",
      "  Artifact or Visualization. Note that Visualizations cannot be transformed\n",
      "  with --output-format\n",
      "\n",
      "\u001b[1mOptions\u001b[0m:\n",
      "  \u001b[94m\u001b[4m--input-path\u001b[0m ARTIFACT/VISUALIZATION\n",
      "                        Path to file that should be exported        \u001b[35m[required]\u001b[0m\n",
      "  \u001b[94m\u001b[4m--output-path\u001b[0m PATH    Path to file or directory where data should be\n",
      "                        exported to                                 \u001b[35m[required]\u001b[0m\n",
      "  \u001b[94m--output-format\u001b[0m TEXT  Format which the data should be exported as. This\n",
      "                        option cannot be used with Visualizations\n",
      "  \u001b[94m--help\u001b[0m                Show this message and exit.\n",
      "\n",
      "\u001b[33m                    There was a problem with the command:                     \u001b[0m\n",
      "\u001b[31m\u001b[1m (1/1) Invalid value for '--input-path': File\n",
      "  'data/ancoms_notweaned/ancom_29.0_notweaned.qzv' does not exist.\u001b[0m\n",
      "\u001b[32mExported data/ancoms_notweaned/ancom_40.0_notweaned.qzv as Visualization to directory data/ancoms_notweaned/ancom_40.0_notweaned.tsv\u001b[0m\n",
      "Usage: \u001b[94mqiime tools export\u001b[0m [OPTIONS]\n",
      "\n",
      "  Exporting extracts (and optionally transforms) data stored inside an\n",
      "  Artifact or Visualization. Note that Visualizations cannot be transformed\n",
      "  with --output-format\n",
      "\n",
      "\u001b[1mOptions\u001b[0m:\n",
      "  \u001b[94m\u001b[4m--input-path\u001b[0m ARTIFACT/VISUALIZATION\n",
      "                        Path to file that should be exported        \u001b[35m[required]\u001b[0m\n",
      "  \u001b[94m\u001b[4m--output-path\u001b[0m PATH    Path to file or directory where data should be\n",
      "                        exported to                                 \u001b[35m[required]\u001b[0m\n",
      "  \u001b[94m--output-format\u001b[0m TEXT  Format which the data should be exported as. This\n",
      "                        option cannot be used with Visualizations\n",
      "  \u001b[94m--help\u001b[0m                Show this message and exit.\n",
      "\n",
      "\u001b[33m                    There was a problem with the command:                     \u001b[0m\n",
      "\u001b[31m\u001b[1m (1/1) Invalid value for '--input-path': File\n",
      "  'data/ancoms_notweaned/ancom_35.0_notweaned.qzv' does not exist.\u001b[0m\n",
      "Usage: \u001b[94mqiime tools export\u001b[0m [OPTIONS]\n",
      "\n",
      "  Exporting extracts (and optionally transforms) data stored inside an\n",
      "  Artifact or Visualization. Note that Visualizations cannot be transformed\n",
      "  with --output-format\n",
      "\n",
      "\u001b[1mOptions\u001b[0m:\n",
      "  \u001b[94m\u001b[4m--input-path\u001b[0m ARTIFACT/VISUALIZATION\n",
      "                        Path to file that should be exported        \u001b[35m[required]\u001b[0m\n",
      "  \u001b[94m\u001b[4m--output-path\u001b[0m PATH    Path to file or directory where data should be\n",
      "                        exported to                                 \u001b[35m[required]\u001b[0m\n",
      "  \u001b[94m--output-format\u001b[0m TEXT  Format which the data should be exported as. This\n",
      "                        option cannot be used with Visualizations\n",
      "  \u001b[94m--help\u001b[0m                Show this message and exit.\n",
      "\n",
      "\u001b[33m                    There was a problem with the command:                     \u001b[0m\n",
      "\u001b[31m\u001b[1m (1/1) Invalid value for '--input-path': File\n",
      "  'data/ancoms_notweaned/ancom_47.0_notweaned.qzv' does not exist.\u001b[0m\n",
      "Usage: \u001b[94mqiime tools export\u001b[0m [OPTIONS]\n",
      "\n",
      "  Exporting extracts (and optionally transforms) data stored inside an\n",
      "  Artifact or Visualization. Note that Visualizations cannot be transformed\n",
      "  with --output-format\n",
      "\n",
      "\u001b[1mOptions\u001b[0m:\n",
      "  \u001b[94m\u001b[4m--input-path\u001b[0m ARTIFACT/VISUALIZATION\n",
      "                        Path to file that should be exported        \u001b[35m[required]\u001b[0m\n",
      "  \u001b[94m\u001b[4m--output-path\u001b[0m PATH    Path to file or directory where data should be\n",
      "                        exported to                                 \u001b[35m[required]\u001b[0m\n",
      "  \u001b[94m--output-format\u001b[0m TEXT  Format which the data should be exported as. This\n",
      "                        option cannot be used with Visualizations\n",
      "  \u001b[94m--help\u001b[0m                Show this message and exit.\n",
      "\n",
      "\u001b[33m                    There was a problem with the command:                     \u001b[0m\n",
      "\u001b[31m\u001b[1m (1/1) Invalid value for '--input-path': File\n",
      "  'data/ancoms_notweaned/ancom_4.0_notweaned.qzv' does not exist.\u001b[0m\n",
      "\u001b[32mExported data/ancoms_notweaned/ancom_3.0_notweaned.qzv as Visualization to directory data/ancoms_notweaned/ancom_3.0_notweaned.tsv\u001b[0m\n",
      "\u001b[32mExported data/ancoms_notweaned/ancom_30.0_notweaned.qzv as Visualization to directory data/ancoms_notweaned/ancom_30.0_notweaned.tsv\u001b[0m\n",
      "\u001b[32mExported data/ancoms_notweaned/ancom_36.0_notweaned.qzv as Visualization to directory data/ancoms_notweaned/ancom_36.0_notweaned.tsv\u001b[0m\n",
      "\u001b[32mExported data/ancoms_notweaned/ancom_6.0_notweaned.qzv as Visualization to directory data/ancoms_notweaned/ancom_6.0_notweaned.tsv\u001b[0m\n",
      "\u001b[32mExported data/ancoms_notweaned/ancom_33.0_notweaned.qzv as Visualization to directory data/ancoms_notweaned/ancom_33.0_notweaned.tsv\u001b[0m\n",
      "\u001b[32mExported data/ancoms_notweaned/ancom_43.0_notweaned.qzv as Visualization to directory data/ancoms_notweaned/ancom_43.0_notweaned.tsv\u001b[0m\n",
      "\u001b[32mExported data/ancoms_notweaned/ancom_44.0_notweaned.qzv as Visualization to directory data/ancoms_notweaned/ancom_44.0_notweaned.tsv\u001b[0m\n",
      "\u001b[32mExported data/ancoms_notweaned/ancom_45.0_notweaned.qzv as Visualization to directory data/ancoms_notweaned/ancom_45.0_notweaned.tsv\u001b[0m\n",
      "\u001b[32mExported data/ancoms_notweaned/ancom_5.0_notweaned.qzv as Visualization to directory data/ancoms_notweaned/ancom_5.0_notweaned.tsv\u001b[0m\n",
      "Usage: \u001b[94mqiime tools export\u001b[0m [OPTIONS]\n",
      "\n",
      "  Exporting extracts (and optionally transforms) data stored inside an\n",
      "  Artifact or Visualization. Note that Visualizations cannot be transformed\n",
      "  with --output-format\n",
      "\n",
      "\u001b[1mOptions\u001b[0m:\n",
      "  \u001b[94m\u001b[4m--input-path\u001b[0m ARTIFACT/VISUALIZATION\n",
      "                        Path to file that should be exported        \u001b[35m[required]\u001b[0m\n",
      "  \u001b[94m\u001b[4m--output-path\u001b[0m PATH    Path to file or directory where data should be\n",
      "                        exported to                                 \u001b[35m[required]\u001b[0m\n",
      "  \u001b[94m--output-format\u001b[0m TEXT  Format which the data should be exported as. This\n",
      "                        option cannot be used with Visualizations\n",
      "  \u001b[94m--help\u001b[0m                Show this message and exit.\n",
      "\n",
      "\u001b[33m                    There was a problem with the command:                     \u001b[0m\n",
      "\u001b[31m\u001b[1m (1/1) Invalid value for '--input-path': File\n",
      "  'data/ancoms_notweaned/ancom_37.0_notweaned.qzv' does not exist.\u001b[0m\n",
      "\u001b[32mExported data/ancoms_notweaned/ancom_46.0_notweaned.qzv as Visualization to directory data/ancoms_notweaned/ancom_46.0_notweaned.tsv\u001b[0m\n",
      "Usage: \u001b[94mqiime tools export\u001b[0m [OPTIONS]\n",
      "\n",
      "  Exporting extracts (and optionally transforms) data stored inside an\n",
      "  Artifact or Visualization. Note that Visualizations cannot be transformed\n",
      "  with --output-format\n",
      "\n",
      "\u001b[1mOptions\u001b[0m:\n",
      "  \u001b[94m\u001b[4m--input-path\u001b[0m ARTIFACT/VISUALIZATION\n",
      "                        Path to file that should be exported        \u001b[35m[required]\u001b[0m\n",
      "  \u001b[94m\u001b[4m--output-path\u001b[0m PATH    Path to file or directory where data should be\n",
      "                        exported to                                 \u001b[35m[required]\u001b[0m\n",
      "  \u001b[94m--output-format\u001b[0m TEXT  Format which the data should be exported as. This\n",
      "                        option cannot be used with Visualizations\n",
      "  \u001b[94m--help\u001b[0m                Show this message and exit.\n",
      "\n",
      "\u001b[33m                    There was a problem with the command:                     \u001b[0m\n",
      "\u001b[31m\u001b[1m (1/1) Invalid value for '--input-path': File\n",
      "  'data/ancoms_notweaned/ancom_48.0_notweaned.qzv' does not exist.\u001b[0m\n",
      "\u001b[32mExported data/ancoms_notweaned/ancom_32.0_notweaned.qzv as Visualization to directory data/ancoms_notweaned/ancom_32.0_notweaned.tsv\u001b[0m\n",
      "\u001b[32mExported data/ancoms_notweaned/ancom_12.0_notweaned.qzv as Visualization to directory data/ancoms_notweaned/ancom_12.0_notweaned.tsv\u001b[0m\n",
      "\u001b[32mExported data/ancoms_notweaned/ancom_13.0_notweaned.qzv as Visualization to directory data/ancoms_notweaned/ancom_13.0_notweaned.tsv\u001b[0m\n",
      "\u001b[32mExported data/ancoms_notweaned/ancom_14.0_notweaned.qzv as Visualization to directory data/ancoms_notweaned/ancom_14.0_notweaned.tsv\u001b[0m\n",
      "Usage: \u001b[94mqiime tools export\u001b[0m [OPTIONS]\n",
      "\n",
      "  Exporting extracts (and optionally transforms) data stored inside an\n",
      "  Artifact or Visualization. Note that Visualizations cannot be transformed\n",
      "  with --output-format\n",
      "\n",
      "\u001b[1mOptions\u001b[0m:\n",
      "  \u001b[94m\u001b[4m--input-path\u001b[0m ARTIFACT/VISUALIZATION\n",
      "                        Path to file that should be exported        \u001b[35m[required]\u001b[0m\n",
      "  \u001b[94m\u001b[4m--output-path\u001b[0m PATH    Path to file or directory where data should be\n",
      "                        exported to                                 \u001b[35m[required]\u001b[0m\n",
      "  \u001b[94m--output-format\u001b[0m TEXT  Format which the data should be exported as. This\n",
      "                        option cannot be used with Visualizations\n",
      "  \u001b[94m--help\u001b[0m                Show this message and exit.\n",
      "\n",
      "\u001b[33m                    There was a problem with the command:                     \u001b[0m\n",
      "\u001b[31m\u001b[1m (1/1) Invalid value for '--input-path': File\n",
      "  'data/ancoms_notweaned/ancom_10.0_notweaned.qzv' does not exist.\u001b[0m\n",
      "Usage: \u001b[94mqiime tools export\u001b[0m [OPTIONS]\n",
      "\n",
      "  Exporting extracts (and optionally transforms) data stored inside an\n",
      "  Artifact or Visualization. Note that Visualizations cannot be transformed\n",
      "  with --output-format\n",
      "\n",
      "\u001b[1mOptions\u001b[0m:\n",
      "  \u001b[94m\u001b[4m--input-path\u001b[0m ARTIFACT/VISUALIZATION\n",
      "                        Path to file that should be exported        \u001b[35m[required]\u001b[0m\n",
      "  \u001b[94m\u001b[4m--output-path\u001b[0m PATH    Path to file or directory where data should be\n",
      "                        exported to                                 \u001b[35m[required]\u001b[0m\n",
      "  \u001b[94m--output-format\u001b[0m TEXT  Format which the data should be exported as. This\n",
      "                        option cannot be used with Visualizations\n",
      "  \u001b[94m--help\u001b[0m                Show this message and exit.\n",
      "\n",
      "\u001b[33m                    There was a problem with the command:                     \u001b[0m\n",
      "\u001b[31m\u001b[1m (1/1) Invalid value for '--input-path': File\n",
      "  'data/ancoms_notweaned/ancom_15.0_notweaned.qzv' does not exist.\u001b[0m\n",
      "\u001b[32mExported data/ancoms_notweaned/ancom_16.0_notweaned.qzv as Visualization to directory data/ancoms_notweaned/ancom_16.0_notweaned.tsv\u001b[0m\n",
      "\u001b[32mExported data/ancoms_notweaned/ancom_25.0_notweaned.qzv as Visualization to directory data/ancoms_notweaned/ancom_25.0_notweaned.tsv\u001b[0m\n",
      "Usage: \u001b[94mqiime tools export\u001b[0m [OPTIONS]\n",
      "\n",
      "  Exporting extracts (and optionally transforms) data stored inside an\n",
      "  Artifact or Visualization. Note that Visualizations cannot be transformed\n",
      "  with --output-format\n",
      "\n",
      "\u001b[1mOptions\u001b[0m:\n",
      "  \u001b[94m\u001b[4m--input-path\u001b[0m ARTIFACT/VISUALIZATION\n",
      "                        Path to file that should be exported        \u001b[35m[required]\u001b[0m\n",
      "  \u001b[94m\u001b[4m--output-path\u001b[0m PATH    Path to file or directory where data should be\n",
      "                        exported to                                 \u001b[35m[required]\u001b[0m\n",
      "  \u001b[94m--output-format\u001b[0m TEXT  Format which the data should be exported as. This\n",
      "                        option cannot be used with Visualizations\n",
      "  \u001b[94m--help\u001b[0m                Show this message and exit.\n",
      "\n",
      "\u001b[33m                    There was a problem with the command:                     \u001b[0m\n",
      "\u001b[31m\u001b[1m (1/1) Invalid value for '--input-path': File\n",
      "  'data/ancoms_notweaned/ancom_26.0_notweaned.qzv' does not exist.\u001b[0m\n",
      "Usage: \u001b[94mqiime tools export\u001b[0m [OPTIONS]\n",
      "\n",
      "  Exporting extracts (and optionally transforms) data stored inside an\n",
      "  Artifact or Visualization. Note that Visualizations cannot be transformed\n",
      "  with --output-format\n",
      "\n",
      "\u001b[1mOptions\u001b[0m:\n",
      "  \u001b[94m\u001b[4m--input-path\u001b[0m ARTIFACT/VISUALIZATION\n",
      "                        Path to file that should be exported        \u001b[35m[required]\u001b[0m\n",
      "  \u001b[94m\u001b[4m--output-path\u001b[0m PATH    Path to file or directory where data should be\n",
      "                        exported to                                 \u001b[35m[required]\u001b[0m\n",
      "  \u001b[94m--output-format\u001b[0m TEXT  Format which the data should be exported as. This\n",
      "                        option cannot be used with Visualizations\n",
      "  \u001b[94m--help\u001b[0m                Show this message and exit.\n",
      "\n",
      "\u001b[33m                    There was a problem with the command:                     \u001b[0m\n",
      "\u001b[31m\u001b[1m (1/1) Invalid value for '--input-path': File\n",
      "  'data/ancoms_notweaned/ancom_11.0_notweaned.qzv' does not exist.\u001b[0m\n",
      "Usage: \u001b[94mqiime tools export\u001b[0m [OPTIONS]\n",
      "\n",
      "  Exporting extracts (and optionally transforms) data stored inside an\n",
      "  Artifact or Visualization. Note that Visualizations cannot be transformed\n",
      "  with --output-format\n",
      "\n",
      "\u001b[1mOptions\u001b[0m:\n",
      "  \u001b[94m\u001b[4m--input-path\u001b[0m ARTIFACT/VISUALIZATION\n",
      "                        Path to file that should be exported        \u001b[35m[required]\u001b[0m\n",
      "  \u001b[94m\u001b[4m--output-path\u001b[0m PATH    Path to file or directory where data should be\n",
      "                        exported to                                 \u001b[35m[required]\u001b[0m\n",
      "  \u001b[94m--output-format\u001b[0m TEXT  Format which the data should be exported as. This\n",
      "                        option cannot be used with Visualizations\n",
      "  \u001b[94m--help\u001b[0m                Show this message and exit.\n",
      "\n",
      "\u001b[33m                    There was a problem with the command:                     \u001b[0m\n",
      "\u001b[31m\u001b[1m (1/1) Invalid value for '--input-path': File\n",
      "  'data/ancoms_notweaned/ancom_2.0_notweaned.qzv' does not exist.\u001b[0m\n",
      "\u001b[32mExported data/ancoms_notweaned/ancom_20.0_notweaned.qzv as Visualization to directory data/ancoms_notweaned/ancom_20.0_notweaned.tsv\u001b[0m\n",
      "Usage: \u001b[94mqiime tools export\u001b[0m [OPTIONS]\n",
      "\n",
      "  Exporting extracts (and optionally transforms) data stored inside an\n",
      "  Artifact or Visualization. Note that Visualizations cannot be transformed\n",
      "  with --output-format\n",
      "\n",
      "\u001b[1mOptions\u001b[0m:\n",
      "  \u001b[94m\u001b[4m--input-path\u001b[0m ARTIFACT/VISUALIZATION\n",
      "                        Path to file that should be exported        \u001b[35m[required]\u001b[0m\n",
      "  \u001b[94m\u001b[4m--output-path\u001b[0m PATH    Path to file or directory where data should be\n",
      "                        exported to                                 \u001b[35m[required]\u001b[0m\n",
      "  \u001b[94m--output-format\u001b[0m TEXT  Format which the data should be exported as. This\n",
      "                        option cannot be used with Visualizations\n",
      "  \u001b[94m--help\u001b[0m                Show this message and exit.\n",
      "\n",
      "\u001b[33m                    There was a problem with the command:                     \u001b[0m\n",
      "\u001b[31m\u001b[1m (1/1) Invalid value for '--input-path': File\n",
      "  'data/ancoms_notweaned/ancom_21.0_notweaned.qzv' does not exist.\u001b[0m\n",
      "\u001b[32mExported data/ancoms_notweaned/ancom_23.0_notweaned.qzv as Visualization to directory data/ancoms_notweaned/ancom_23.0_notweaned.tsv\u001b[0m\n",
      "Usage: \u001b[94mqiime tools export\u001b[0m [OPTIONS]\n",
      "\n",
      "  Exporting extracts (and optionally transforms) data stored inside an\n",
      "  Artifact or Visualization. Note that Visualizations cannot be transformed\n",
      "  with --output-format\n",
      "\n",
      "\u001b[1mOptions\u001b[0m:\n",
      "  \u001b[94m\u001b[4m--input-path\u001b[0m ARTIFACT/VISUALIZATION\n",
      "                        Path to file that should be exported        \u001b[35m[required]\u001b[0m\n",
      "  \u001b[94m\u001b[4m--output-path\u001b[0m PATH    Path to file or directory where data should be\n",
      "                        exported to                                 \u001b[35m[required]\u001b[0m\n",
      "  \u001b[94m--output-format\u001b[0m TEXT  Format which the data should be exported as. This\n",
      "                        option cannot be used with Visualizations\n",
      "  \u001b[94m--help\u001b[0m                Show this message and exit.\n",
      "\n",
      "\u001b[33m                    There was a problem with the command:                     \u001b[0m\n",
      "\u001b[31m\u001b[1m (1/1) Invalid value for '--input-path': File\n",
      "  'data/ancoms_notweaned/ancom_19.0_notweaned.qzv' does not exist.\u001b[0m\n",
      "\u001b[32mExported data/ancoms_notweaned/ancom_17.0_notweaned.qzv as Visualization to directory data/ancoms_notweaned/ancom_17.0_notweaned.tsv\u001b[0m\n",
      "\u001b[32mExported data/ancoms_notweaned/ancom_18.0_notweaned.qzv as Visualization to directory data/ancoms_notweaned/ancom_18.0_notweaned.tsv\u001b[0m\n",
      "\u001b[32mExported data/ancoms_notweaned/ancom_24.0_notweaned.qzv as Visualization to directory data/ancoms_notweaned/ancom_24.0_notweaned.tsv\u001b[0m\n"
     ]
    }
   ],
   "source": [
    "for pair in pair_numbers:\n",
    "    !qiime tools export \\\n",
    "      --input-path $data_dir/ancoms_notweaned/ancom_\"$pair\"_notweaned.qzv \\\n",
    "      --output-path $data_dir/ancoms_notweaned/ancom_\"$pair\"_notweaned.tsv"
   ]
  },
  {
   "cell_type": "markdown",
   "id": "10ced9ad-7ba3-4b52-a5d1-ce13aee6f5e3",
   "metadata": {},
   "source": [
    "### 5. Use ANCOM results to compare differential abundance between the groups 'Monozygotic' and 'Dizygotic' and for the stages 'Weaned' and 'Not weaning'."
   ]
  },
  {
   "cell_type": "markdown",
   "id": "a19e4916-9936-44b5-8184-950fa0749359",
   "metadata": {},
   "source": [
    "#### Export the ANCOM results of each tsv to pandas so we can do further calculations and generate dictionaries with the significant ASVs:"
   ]
  },
  {
   "cell_type": "markdown",
   "id": "0c43fd1d-817e-4774-9981-187ab284cd5f",
   "metadata": {},
   "source": [
    "#### For some pairs there are no tables for the weaning-state, so we first have to check whether the file exists). Then we count the significant ASVs and assign them to the dictionary to the corresponding pair number."
   ]
  },
  {
   "cell_type": "code",
   "execution_count": 11,
   "id": "6ef9949c-aae2-4c7b-903e-44a96e0b899b",
   "metadata": {
    "tags": []
   },
   "outputs": [],
   "source": [
    "ancoms_weaned = dict()\n",
    "for pair in pair_numbers:\n",
    "    file_exists = exists(f'{data_dir}/ancoms_weaned/ancom_'+str(pair)+'_weaned.tsv')\n",
    "    if file_exists == True:\n",
    "        ancom = pd.read_csv(data_dir + '/ancoms_weaned/ancom_'+str(pair)+'_weaned.tsv/ancom.tsv', sep = '\\t')\n",
    "        ancoms_weaned[pair] = ancom[ancom['Reject null hypothesis']==True]"
   ]
  },
  {
   "cell_type": "code",
   "execution_count": 12,
   "id": "3e13a01c-994c-4566-9b8d-e416297d9b1e",
   "metadata": {},
   "outputs": [],
   "source": [
    "ancoms_notweaned = dict()\n",
    "for pair in pair_numbers:\n",
    "    file_exists = exists(f'{data_dir}/ancoms_notweaned/ancom_'+str(pair)+'_notweaned.tsv')\n",
    "    if file_exists == True:\n",
    "        ancom = pd.read_csv(data_dir + '/ancoms_notweaned/ancom_'+str(pair)+'_notweaned.tsv/ancom.tsv', sep = '\\t')\n",
    "        ancoms_notweaned[pair] = ancom[ancom['Reject null hypothesis']==True]"
   ]
  },
  {
   "cell_type": "markdown",
   "id": "5ea1e4fb-8e41-4136-9660-7672e05481fc",
   "metadata": {},
   "source": [
    "#### For the next step we need to find out which numbers belong to the mono- or dizygotic twin pairs:"
   ]
  },
  {
   "cell_type": "code",
   "execution_count": 9,
   "id": "d67a77c7-5f58-418f-a546-7396a168ae34",
   "metadata": {},
   "outputs": [],
   "source": [
    "monos = metadata['host_id'][metadata['zygosity']=='Monozygotic']\n",
    "monozygotic_ids = list(dict.fromkeys(monos.round(0)))\n",
    "dis = metadata['host_id'][metadata['zygosity']=='Dizygotic']\n",
    "dizygotic_ids = list(dict.fromkeys(dis.round(0)))"
   ]
  },
  {
   "cell_type": "markdown",
   "id": "25050e33-8c01-478f-86ac-88485f99aadc",
   "metadata": {},
   "source": [
    "#### Then we can count the amount of significantly differentially abundant ASVs for the weaned and not weaned stages."
   ]
  },
  {
   "cell_type": "markdown",
   "id": "e665cbdb-4d9f-4b25-8c70-8d4bf7702256",
   "metadata": {},
   "source": [
    "#### First just for mono- and dizygotic:"
   ]
  },
  {
   "cell_type": "code",
   "execution_count": 13,
   "id": "52e26034-4aff-42b5-b5f5-2de602f44602",
   "metadata": {},
   "outputs": [],
   "source": [
    "mono_numbers = dict()\n",
    "for pair in monozygotic_ids:\n",
    "    existence_weaned = exists(f'{data_dir}/ancoms_weaned/ancom_'+str(pair)+'_weaned.tsv')\n",
    "    existence_notweaned = exists(f'{data_dir}/ancoms_notweaned/ancom_'+str(pair)+'_notweaned.tsv')\n",
    "    if existence_weaned == True:\n",
    "        number_weaned = len(ancoms_weaned[pair].index)\n",
    "    if existence_notweaned == True:\n",
    "        number_notweaned = len(ancoms_notweaned[pair].index)\n",
    "    mono_numbers[pair] = number_weaned + number_notweaned"
   ]
  },
  {
   "cell_type": "code",
   "execution_count": 14,
   "id": "4cd97615-cd0d-4e03-b9f2-da7d5d2ee0e0",
   "metadata": {},
   "outputs": [],
   "source": [
    "di_numbers = dict()\n",
    "for pair in dizygotic_ids:\n",
    "    existence_weaned = exists(f'{data_dir}/ancoms_weaned/ancom_'+str(pair)+'_weaned.tsv')\n",
    "    existence_notweaned = exists(f'{data_dir}/ancoms_notweaned/ancom_'+str(pair)+'_notweaned.tsv')\n",
    "    if existence_weaned == True:\n",
    "        number_weaned = len(ancoms_weaned[pair].index)\n",
    "    if existence_notweaned == True:\n",
    "        number_notweaned = len(ancoms_notweaned[pair].index)\n",
    "    di_numbers[pair] = number_weaned + number_notweaned"
   ]
  },
  {
   "cell_type": "markdown",
   "id": "8a7afe1d-ddd6-474f-86e2-653908de42a1",
   "metadata": {},
   "source": [
    "#### And also for each stage separately:"
   ]
  },
  {
   "cell_type": "code",
   "execution_count": 15,
   "id": "d084814e-f0bd-454e-9d98-324241539466",
   "metadata": {},
   "outputs": [],
   "source": [
    "mono_weaned = dict()\n",
    "for pair in monozygotic_ids:\n",
    "    existence_weaned = exists(f'{data_dir}/ancoms_weaned/ancom_'+str(pair)+'_weaned.tsv')\n",
    "    if existence_weaned == True:\n",
    "        number_weaned = len(ancoms_weaned[pair].index)\n",
    "    mono_weaned[pair] = number_weaned"
   ]
  },
  {
   "cell_type": "code",
   "execution_count": 16,
   "id": "3f9acd5e-ead5-4fa0-8c73-86114a0a2f1c",
   "metadata": {},
   "outputs": [],
   "source": [
    "mono_notweaned = dict()\n",
    "for pair in monozygotic_ids:\n",
    "    existence_notweaned = exists(f'{data_dir}/ancoms_notweaned/ancom_'+str(pair)+'_notweaned.tsv')\n",
    "    if existence_notweaned == True:\n",
    "        number_notweaned = len(ancoms_notweaned[pair].index)\n",
    "    mono_notweaned[pair] = number_notweaned"
   ]
  },
  {
   "cell_type": "code",
   "execution_count": 17,
   "id": "fc23c5d6-de57-4c9d-921f-255113295a37",
   "metadata": {},
   "outputs": [],
   "source": [
    "di_weaned = dict()\n",
    "for pair in dizygotic_ids:\n",
    "    existence_weaned = exists(f'{data_dir}/ancoms_weaned/ancom_'+str(pair)+'_weaned.tsv')\n",
    "    if existence_weaned == True:\n",
    "        number_weaned = len(ancoms_weaned[pair].index)\n",
    "    di_weaned[pair] = number_weaned"
   ]
  },
  {
   "cell_type": "code",
   "execution_count": 18,
   "id": "209813e6-c102-450d-a3f7-b4669e756f2c",
   "metadata": {},
   "outputs": [],
   "source": [
    "di_notweaned = dict()\n",
    "for pair in dizygotic_ids:\n",
    "    existence_notweaned = exists(f'{data_dir}/ancoms_notweaned/ancom_'+str(pair)+'_notweaned.tsv')\n",
    "    if existence_notweaned == True:\n",
    "        number_notweaned = len(ancoms_notweaned[pair].index)\n",
    "    di_notweaned[pair] = number_notweaned"
   ]
  },
  {
   "cell_type": "markdown",
   "id": "8676fd03-abb6-42c5-8f7e-ab53e3acc19c",
   "metadata": {},
   "source": [
    "#### Get numbers into dataframe:"
   ]
  },
  {
   "cell_type": "markdown",
   "id": "6fb8eabb-5293-4d25-8c8e-fa7919848e5e",
   "metadata": {},
   "source": [
    "#### Just mono- and dizygotic:"
   ]
  },
  {
   "cell_type": "code",
   "execution_count": 19,
   "id": "a85d008f-0e28-4160-80a9-57be8d6eb0f1",
   "metadata": {
    "collapsed": true,
    "jupyter": {
     "outputs_hidden": true
    },
    "tags": []
   },
   "outputs": [
    {
     "data": {
      "text/html": [
       "<div>\n",
       "<style scoped>\n",
       "    .dataframe tbody tr th:only-of-type {\n",
       "        vertical-align: middle;\n",
       "    }\n",
       "\n",
       "    .dataframe tbody tr th {\n",
       "        vertical-align: top;\n",
       "    }\n",
       "\n",
       "    .dataframe thead th {\n",
       "        text-align: right;\n",
       "    }\n",
       "</style>\n",
       "<table border=\"1\" class=\"dataframe\">\n",
       "  <thead>\n",
       "    <tr style=\"text-align: right;\">\n",
       "      <th></th>\n",
       "      <th>0</th>\n",
       "    </tr>\n",
       "  </thead>\n",
       "  <tbody>\n",
       "    <tr>\n",
       "      <th>42.0</th>\n",
       "      <td>2</td>\n",
       "    </tr>\n",
       "    <tr>\n",
       "      <th>28.0</th>\n",
       "      <td>3</td>\n",
       "    </tr>\n",
       "    <tr>\n",
       "      <th>39.0</th>\n",
       "      <td>3</td>\n",
       "    </tr>\n",
       "    <tr>\n",
       "      <th>40.0</th>\n",
       "      <td>2</td>\n",
       "    </tr>\n",
       "    <tr>\n",
       "      <th>35.0</th>\n",
       "      <td>2</td>\n",
       "    </tr>\n",
       "    <tr>\n",
       "      <th>47.0</th>\n",
       "      <td>2</td>\n",
       "    </tr>\n",
       "    <tr>\n",
       "      <th>3.0</th>\n",
       "      <td>2</td>\n",
       "    </tr>\n",
       "    <tr>\n",
       "      <th>30.0</th>\n",
       "      <td>7</td>\n",
       "    </tr>\n",
       "    <tr>\n",
       "      <th>36.0</th>\n",
       "      <td>61</td>\n",
       "    </tr>\n",
       "    <tr>\n",
       "      <th>43.0</th>\n",
       "      <td>4</td>\n",
       "    </tr>\n",
       "    <tr>\n",
       "      <th>44.0</th>\n",
       "      <td>1</td>\n",
       "    </tr>\n",
       "    <tr>\n",
       "      <th>37.0</th>\n",
       "      <td>1</td>\n",
       "    </tr>\n",
       "    <tr>\n",
       "      <th>48.0</th>\n",
       "      <td>1</td>\n",
       "    </tr>\n",
       "    <tr>\n",
       "      <th>32.0</th>\n",
       "      <td>0</td>\n",
       "    </tr>\n",
       "    <tr>\n",
       "      <th>12.0</th>\n",
       "      <td>116</td>\n",
       "    </tr>\n",
       "    <tr>\n",
       "      <th>13.0</th>\n",
       "      <td>4</td>\n",
       "    </tr>\n",
       "    <tr>\n",
       "      <th>15.0</th>\n",
       "      <td>0</td>\n",
       "    </tr>\n",
       "    <tr>\n",
       "      <th>25.0</th>\n",
       "      <td>74</td>\n",
       "    </tr>\n",
       "    <tr>\n",
       "      <th>20.0</th>\n",
       "      <td>0</td>\n",
       "    </tr>\n",
       "    <tr>\n",
       "      <th>21.0</th>\n",
       "      <td>0</td>\n",
       "    </tr>\n",
       "    <tr>\n",
       "      <th>19.0</th>\n",
       "      <td>0</td>\n",
       "    </tr>\n",
       "  </tbody>\n",
       "</table>\n",
       "</div>"
      ],
      "text/plain": [
       "        0\n",
       "42.0    2\n",
       "28.0    3\n",
       "39.0    3\n",
       "40.0    2\n",
       "35.0    2\n",
       "47.0    2\n",
       "3.0     2\n",
       "30.0    7\n",
       "36.0   61\n",
       "43.0    4\n",
       "44.0    1\n",
       "37.0    1\n",
       "48.0    1\n",
       "32.0    0\n",
       "12.0  116\n",
       "13.0    4\n",
       "15.0    0\n",
       "25.0   74\n",
       "20.0    0\n",
       "21.0    0\n",
       "19.0    0"
      ]
     },
     "execution_count": 19,
     "metadata": {},
     "output_type": "execute_result"
    }
   ],
   "source": [
    "mono_diff = pd.DataFrame.from_dict(mono_numbers, orient='index')\n",
    "mono_diff"
   ]
  },
  {
   "cell_type": "code",
   "execution_count": 20,
   "id": "5a11e16f-6981-40b2-b38b-281312699143",
   "metadata": {
    "collapsed": true,
    "jupyter": {
     "outputs_hidden": true
    },
    "tags": []
   },
   "outputs": [
    {
     "data": {
      "text/html": [
       "<div>\n",
       "<style scoped>\n",
       "    .dataframe tbody tr th:only-of-type {\n",
       "        vertical-align: middle;\n",
       "    }\n",
       "\n",
       "    .dataframe tbody tr th {\n",
       "        vertical-align: top;\n",
       "    }\n",
       "\n",
       "    .dataframe thead th {\n",
       "        text-align: right;\n",
       "    }\n",
       "</style>\n",
       "<table border=\"1\" class=\"dataframe\">\n",
       "  <thead>\n",
       "    <tr style=\"text-align: right;\">\n",
       "      <th></th>\n",
       "      <th>0</th>\n",
       "    </tr>\n",
       "  </thead>\n",
       "  <tbody>\n",
       "    <tr>\n",
       "      <th>27.0</th>\n",
       "      <td>4</td>\n",
       "    </tr>\n",
       "    <tr>\n",
       "      <th>8.0</th>\n",
       "      <td>4</td>\n",
       "    </tr>\n",
       "    <tr>\n",
       "      <th>29.0</th>\n",
       "      <td>4</td>\n",
       "    </tr>\n",
       "    <tr>\n",
       "      <th>4.0</th>\n",
       "      <td>4</td>\n",
       "    </tr>\n",
       "    <tr>\n",
       "      <th>33.0</th>\n",
       "      <td>2</td>\n",
       "    </tr>\n",
       "    <tr>\n",
       "      <th>45.0</th>\n",
       "      <td>0</td>\n",
       "    </tr>\n",
       "    <tr>\n",
       "      <th>5.0</th>\n",
       "      <td>84</td>\n",
       "    </tr>\n",
       "    <tr>\n",
       "      <th>46.0</th>\n",
       "      <td>2</td>\n",
       "    </tr>\n",
       "    <tr>\n",
       "      <th>14.0</th>\n",
       "      <td>142</td>\n",
       "    </tr>\n",
       "    <tr>\n",
       "      <th>10.0</th>\n",
       "      <td>142</td>\n",
       "    </tr>\n",
       "    <tr>\n",
       "      <th>16.0</th>\n",
       "      <td>128</td>\n",
       "    </tr>\n",
       "    <tr>\n",
       "      <th>26.0</th>\n",
       "      <td>128</td>\n",
       "    </tr>\n",
       "    <tr>\n",
       "      <th>11.0</th>\n",
       "      <td>128</td>\n",
       "    </tr>\n",
       "    <tr>\n",
       "      <th>2.0</th>\n",
       "      <td>127</td>\n",
       "    </tr>\n",
       "    <tr>\n",
       "      <th>23.0</th>\n",
       "      <td>311</td>\n",
       "    </tr>\n",
       "    <tr>\n",
       "      <th>17.0</th>\n",
       "      <td>79</td>\n",
       "    </tr>\n",
       "    <tr>\n",
       "      <th>18.0</th>\n",
       "      <td>111</td>\n",
       "    </tr>\n",
       "    <tr>\n",
       "      <th>24.0</th>\n",
       "      <td>0</td>\n",
       "    </tr>\n",
       "  </tbody>\n",
       "</table>\n",
       "</div>"
      ],
      "text/plain": [
       "        0\n",
       "27.0    4\n",
       "8.0     4\n",
       "29.0    4\n",
       "4.0     4\n",
       "33.0    2\n",
       "45.0    0\n",
       "5.0    84\n",
       "46.0    2\n",
       "14.0  142\n",
       "10.0  142\n",
       "16.0  128\n",
       "26.0  128\n",
       "11.0  128\n",
       "2.0   127\n",
       "23.0  311\n",
       "17.0   79\n",
       "18.0  111\n",
       "24.0    0"
      ]
     },
     "execution_count": 20,
     "metadata": {},
     "output_type": "execute_result"
    }
   ],
   "source": [
    "di_diff = pd.DataFrame.from_dict(di_numbers, orient='index')\n",
    "di_diff"
   ]
  },
  {
   "cell_type": "markdown",
   "id": "16ee7043-ee66-4067-9789-4ba996759368",
   "metadata": {},
   "source": [
    "#### And also depending on stage:"
   ]
  },
  {
   "cell_type": "code",
   "execution_count": 21,
   "id": "eceb2180-8789-4560-b555-bd14ec4ec157",
   "metadata": {},
   "outputs": [
    {
     "data": {
      "text/plain": [
       "0    1.619048\n",
       "dtype: float64"
      ]
     },
     "execution_count": 21,
     "metadata": {},
     "output_type": "execute_result"
    }
   ],
   "source": [
    "mono_diff_weaned = pd.DataFrame.from_dict(mono_weaned, orient='index')\n",
    "mono_diff_weaned.mean()"
   ]
  },
  {
   "cell_type": "code",
   "execution_count": 22,
   "id": "8f70903e-de62-482f-86fa-8557a8eaf978",
   "metadata": {},
   "outputs": [
    {
     "data": {
      "text/plain": [
       "0    11.952381\n",
       "dtype: float64"
      ]
     },
     "execution_count": 22,
     "metadata": {},
     "output_type": "execute_result"
    }
   ],
   "source": [
    "mono_diff_notweaned = pd.DataFrame.from_dict(mono_notweaned, orient='index')\n",
    "mono_diff_notweaned.mean()"
   ]
  },
  {
   "cell_type": "code",
   "execution_count": 23,
   "id": "b6fda61c-52b3-4345-8b3a-485d885b0ed0",
   "metadata": {},
   "outputs": [
    {
     "data": {
      "text/plain": [
       "0    19.166667\n",
       "dtype: float64"
      ]
     },
     "execution_count": 23,
     "metadata": {},
     "output_type": "execute_result"
    }
   ],
   "source": [
    "di_diff_weaned = pd.DataFrame.from_dict(di_weaned, orient='index')\n",
    "di_diff_weaned.mean()"
   ]
  },
  {
   "cell_type": "code",
   "execution_count": 24,
   "id": "42df9800-630a-4edd-b86d-599c7e5048b2",
   "metadata": {},
   "outputs": [
    {
     "data": {
      "text/plain": [
       "0    58.611111\n",
       "dtype: float64"
      ]
     },
     "execution_count": 24,
     "metadata": {},
     "output_type": "execute_result"
    }
   ],
   "source": [
    "di_diff_notweaned = pd.DataFrame.from_dict(di_notweaned, orient='index')\n",
    "di_diff_notweaned.mean()"
   ]
  },
  {
   "cell_type": "markdown",
   "id": "da094aa8-3feb-4296-ab5d-395107464c95",
   "metadata": {},
   "source": [
    "#### Now we have the two dataframes for each zygosity. As index we have the number of the twin pair and next to it the number of ASVs for which we could reject the null hypothesis in the ANCOM (significantly differentially abundant)."
   ]
  },
  {
   "cell_type": "markdown",
   "id": "8e7de7f3-05b4-4c82-8a8d-29dec48ce243",
   "metadata": {},
   "source": [
    "#### We label the columns and concat the dataframes so we have one table with the pair numbers as indeces and Zygosities as columns."
   ]
  },
  {
   "cell_type": "code",
   "execution_count": 32,
   "id": "c5067897-87cd-472a-9bfa-e1c40beed9fc",
   "metadata": {
    "collapsed": true,
    "jupyter": {
     "outputs_hidden": true
    },
    "tags": []
   },
   "outputs": [
    {
     "data": {
      "text/html": [
       "<div>\n",
       "<style scoped>\n",
       "    .dataframe tbody tr th:only-of-type {\n",
       "        vertical-align: middle;\n",
       "    }\n",
       "\n",
       "    .dataframe tbody tr th {\n",
       "        vertical-align: top;\n",
       "    }\n",
       "\n",
       "    .dataframe thead th {\n",
       "        text-align: right;\n",
       "    }\n",
       "</style>\n",
       "<table border=\"1\" class=\"dataframe\">\n",
       "  <thead>\n",
       "    <tr style=\"text-align: right;\">\n",
       "      <th></th>\n",
       "      <th>Monozygotic</th>\n",
       "      <th>Dizygotic</th>\n",
       "    </tr>\n",
       "  </thead>\n",
       "  <tbody>\n",
       "    <tr>\n",
       "      <th>2.0</th>\n",
       "      <td>NaN</td>\n",
       "      <td>127.0</td>\n",
       "    </tr>\n",
       "    <tr>\n",
       "      <th>3.0</th>\n",
       "      <td>2.0</td>\n",
       "      <td>NaN</td>\n",
       "    </tr>\n",
       "    <tr>\n",
       "      <th>4.0</th>\n",
       "      <td>NaN</td>\n",
       "      <td>4.0</td>\n",
       "    </tr>\n",
       "    <tr>\n",
       "      <th>5.0</th>\n",
       "      <td>NaN</td>\n",
       "      <td>84.0</td>\n",
       "    </tr>\n",
       "    <tr>\n",
       "      <th>8.0</th>\n",
       "      <td>NaN</td>\n",
       "      <td>4.0</td>\n",
       "    </tr>\n",
       "    <tr>\n",
       "      <th>10.0</th>\n",
       "      <td>NaN</td>\n",
       "      <td>142.0</td>\n",
       "    </tr>\n",
       "    <tr>\n",
       "      <th>11.0</th>\n",
       "      <td>NaN</td>\n",
       "      <td>128.0</td>\n",
       "    </tr>\n",
       "    <tr>\n",
       "      <th>12.0</th>\n",
       "      <td>116.0</td>\n",
       "      <td>NaN</td>\n",
       "    </tr>\n",
       "    <tr>\n",
       "      <th>13.0</th>\n",
       "      <td>4.0</td>\n",
       "      <td>NaN</td>\n",
       "    </tr>\n",
       "    <tr>\n",
       "      <th>14.0</th>\n",
       "      <td>NaN</td>\n",
       "      <td>142.0</td>\n",
       "    </tr>\n",
       "    <tr>\n",
       "      <th>15.0</th>\n",
       "      <td>0.0</td>\n",
       "      <td>NaN</td>\n",
       "    </tr>\n",
       "    <tr>\n",
       "      <th>16.0</th>\n",
       "      <td>NaN</td>\n",
       "      <td>128.0</td>\n",
       "    </tr>\n",
       "    <tr>\n",
       "      <th>17.0</th>\n",
       "      <td>NaN</td>\n",
       "      <td>79.0</td>\n",
       "    </tr>\n",
       "    <tr>\n",
       "      <th>18.0</th>\n",
       "      <td>NaN</td>\n",
       "      <td>111.0</td>\n",
       "    </tr>\n",
       "    <tr>\n",
       "      <th>19.0</th>\n",
       "      <td>0.0</td>\n",
       "      <td>NaN</td>\n",
       "    </tr>\n",
       "    <tr>\n",
       "      <th>20.0</th>\n",
       "      <td>0.0</td>\n",
       "      <td>NaN</td>\n",
       "    </tr>\n",
       "    <tr>\n",
       "      <th>21.0</th>\n",
       "      <td>0.0</td>\n",
       "      <td>NaN</td>\n",
       "    </tr>\n",
       "    <tr>\n",
       "      <th>23.0</th>\n",
       "      <td>NaN</td>\n",
       "      <td>311.0</td>\n",
       "    </tr>\n",
       "    <tr>\n",
       "      <th>24.0</th>\n",
       "      <td>NaN</td>\n",
       "      <td>0.0</td>\n",
       "    </tr>\n",
       "    <tr>\n",
       "      <th>25.0</th>\n",
       "      <td>74.0</td>\n",
       "      <td>NaN</td>\n",
       "    </tr>\n",
       "    <tr>\n",
       "      <th>26.0</th>\n",
       "      <td>NaN</td>\n",
       "      <td>128.0</td>\n",
       "    </tr>\n",
       "    <tr>\n",
       "      <th>27.0</th>\n",
       "      <td>NaN</td>\n",
       "      <td>4.0</td>\n",
       "    </tr>\n",
       "    <tr>\n",
       "      <th>28.0</th>\n",
       "      <td>3.0</td>\n",
       "      <td>NaN</td>\n",
       "    </tr>\n",
       "    <tr>\n",
       "      <th>29.0</th>\n",
       "      <td>NaN</td>\n",
       "      <td>4.0</td>\n",
       "    </tr>\n",
       "    <tr>\n",
       "      <th>30.0</th>\n",
       "      <td>7.0</td>\n",
       "      <td>NaN</td>\n",
       "    </tr>\n",
       "    <tr>\n",
       "      <th>32.0</th>\n",
       "      <td>0.0</td>\n",
       "      <td>NaN</td>\n",
       "    </tr>\n",
       "    <tr>\n",
       "      <th>33.0</th>\n",
       "      <td>NaN</td>\n",
       "      <td>2.0</td>\n",
       "    </tr>\n",
       "    <tr>\n",
       "      <th>35.0</th>\n",
       "      <td>2.0</td>\n",
       "      <td>NaN</td>\n",
       "    </tr>\n",
       "    <tr>\n",
       "      <th>36.0</th>\n",
       "      <td>61.0</td>\n",
       "      <td>NaN</td>\n",
       "    </tr>\n",
       "    <tr>\n",
       "      <th>37.0</th>\n",
       "      <td>1.0</td>\n",
       "      <td>NaN</td>\n",
       "    </tr>\n",
       "    <tr>\n",
       "      <th>39.0</th>\n",
       "      <td>3.0</td>\n",
       "      <td>NaN</td>\n",
       "    </tr>\n",
       "    <tr>\n",
       "      <th>40.0</th>\n",
       "      <td>2.0</td>\n",
       "      <td>NaN</td>\n",
       "    </tr>\n",
       "    <tr>\n",
       "      <th>42.0</th>\n",
       "      <td>2.0</td>\n",
       "      <td>NaN</td>\n",
       "    </tr>\n",
       "    <tr>\n",
       "      <th>43.0</th>\n",
       "      <td>4.0</td>\n",
       "      <td>NaN</td>\n",
       "    </tr>\n",
       "    <tr>\n",
       "      <th>44.0</th>\n",
       "      <td>1.0</td>\n",
       "      <td>NaN</td>\n",
       "    </tr>\n",
       "    <tr>\n",
       "      <th>45.0</th>\n",
       "      <td>NaN</td>\n",
       "      <td>0.0</td>\n",
       "    </tr>\n",
       "    <tr>\n",
       "      <th>46.0</th>\n",
       "      <td>NaN</td>\n",
       "      <td>2.0</td>\n",
       "    </tr>\n",
       "    <tr>\n",
       "      <th>47.0</th>\n",
       "      <td>2.0</td>\n",
       "      <td>NaN</td>\n",
       "    </tr>\n",
       "    <tr>\n",
       "      <th>48.0</th>\n",
       "      <td>1.0</td>\n",
       "      <td>NaN</td>\n",
       "    </tr>\n",
       "  </tbody>\n",
       "</table>\n",
       "</div>"
      ],
      "text/plain": [
       "      Monozygotic  Dizygotic\n",
       "2.0           NaN      127.0\n",
       "3.0           2.0        NaN\n",
       "4.0           NaN        4.0\n",
       "5.0           NaN       84.0\n",
       "8.0           NaN        4.0\n",
       "10.0          NaN      142.0\n",
       "11.0          NaN      128.0\n",
       "12.0        116.0        NaN\n",
       "13.0          4.0        NaN\n",
       "14.0          NaN      142.0\n",
       "15.0          0.0        NaN\n",
       "16.0          NaN      128.0\n",
       "17.0          NaN       79.0\n",
       "18.0          NaN      111.0\n",
       "19.0          0.0        NaN\n",
       "20.0          0.0        NaN\n",
       "21.0          0.0        NaN\n",
       "23.0          NaN      311.0\n",
       "24.0          NaN        0.0\n",
       "25.0         74.0        NaN\n",
       "26.0          NaN      128.0\n",
       "27.0          NaN        4.0\n",
       "28.0          3.0        NaN\n",
       "29.0          NaN        4.0\n",
       "30.0          7.0        NaN\n",
       "32.0          0.0        NaN\n",
       "33.0          NaN        2.0\n",
       "35.0          2.0        NaN\n",
       "36.0         61.0        NaN\n",
       "37.0          1.0        NaN\n",
       "39.0          3.0        NaN\n",
       "40.0          2.0        NaN\n",
       "42.0          2.0        NaN\n",
       "43.0          4.0        NaN\n",
       "44.0          1.0        NaN\n",
       "45.0          NaN        0.0\n",
       "46.0          NaN        2.0\n",
       "47.0          2.0        NaN\n",
       "48.0          1.0        NaN"
      ]
     },
     "execution_count": 32,
     "metadata": {},
     "output_type": "execute_result"
    }
   ],
   "source": [
    "mono_diff.columns = ['Monozygotic']\n",
    "di_diff.columns = ['Dizygotic']\n",
    "dimono_diff = pd.concat([mono_diff, di_diff], axis=1)\n",
    "dimono_diff"
   ]
  },
  {
   "cell_type": "markdown",
   "id": "9c574197-8432-4949-b835-eb1001dafd5f",
   "metadata": {},
   "source": [
    "### 6. Violin plot and two-sided t test:"
   ]
  },
  {
   "cell_type": "markdown",
   "id": "f0d2c830-70c6-4127-adf5-7a8fd3bc73b7",
   "metadata": {},
   "source": [
    "#### Now we can make a violin plot comparing the zygosities. A two-sided t-test tells us whether the difference is statistically significant:"
   ]
  },
  {
   "cell_type": "code",
   "execution_count": 27,
   "id": "a589d82d-47ef-49af-84f6-ff848d5fb290",
   "metadata": {
    "tags": []
   },
   "outputs": [
    {
     "name": "stderr",
     "output_type": "stream",
     "text": [
      "findfont: Font family ['Helvetica'] not found. Falling back to DejaVu Sans.\n",
      "findfont: Font family ['Helvetica'] not found. Falling back to DejaVu Sans.\n"
     ]
    },
    {
     "name": "stdout",
     "output_type": "stream",
     "text": [
      "p-value annotation legend:\n",
      "ns: 5.00e-02 < p <= 1.00e+00\n",
      "*: 1.00e-02 < p <= 5.00e-02\n",
      "**: 1.00e-03 < p <= 1.00e-02\n",
      "***: 1.00e-04 < p <= 1.00e-03\n",
      "****: p <= 1.00e-04\n",
      "\n",
      "Monozygotic v.s. Dizygotic: t-test independent samples with Bonferroni correction, P_val=2.313e-03 stat=-3.273e+00\n"
     ]
    },
    {
     "data": {
      "image/png": "[encoded data removed]",
      "text/plain": [
       "<Figure size 1080x1080 with 1 Axes>"
      ]
     },
     "metadata": {},
     "output_type": "display_data"
    }
   ],
   "source": [
    "sns.set(rc={'figure.figsize':(15, 15), 'font.family': ['Helvetica']}, style='white')\n",
    "pairs = [('Monozygotic', 'Dizygotic')]\n",
    "pvalue = ttest_ind(mono_diff, di_diff)\n",
    "with sns.plotting_context(\"notebook\", font_scale=1.3):\n",
    "    # seaborn's boxplot\n",
    "    ax = sns.violinplot(\n",
    "        data=dimono_diff, \n",
    "    )\n",
    "    add_stat_annotation(ax, data=dimono_diff,\n",
    "                    box_pairs=[('Monozygotic', 'Dizygotic')],\n",
    "                    test='t-test_ind',\n",
    "                    text_format='star',\n",
    "                    loc='inside')\n",
    "    # matplotlib's customization\n",
    "    ax.set_ylabel('Differentially abundant Features between twins')"
   ]
  },
  {
   "cell_type": "markdown",
   "id": "9c1a7cad-0655-4147-bb6d-4d7b336f5bc2",
   "metadata": {},
   "source": [
    "#### We can do the very same thing comparing the zygosities AND weaning stages:"
   ]
  },
  {
   "cell_type": "code",
   "execution_count": 28,
   "id": "459c37c0-97e9-4b12-ad6c-e1b350c88c64",
   "metadata": {},
   "outputs": [],
   "source": [
    "mono_diff_weaned.columns = ['Monozygotic, weaned']\n",
    "mono_diff_notweaned.columns = ['Monozygotic, not weaned']\n",
    "di_diff_weaned.columns = ['Dizygotic, weaned']\n",
    "di_diff_notweaned.columns = ['Dizygotic, not weaned']\n",
    "\n",
    "all_diff = pd.concat([mono_diff_weaned, mono_diff_notweaned, di_diff_weaned, di_diff_notweaned], axis=1)"
   ]
  },
  {
   "cell_type": "code",
   "execution_count": 29,
   "id": "1cd11ab4-ff53-4773-85a1-d0a2b98aa931",
   "metadata": {},
   "outputs": [
    {
     "name": "stdout",
     "output_type": "stream",
     "text": [
      "p-value annotation legend:\n",
      "ns: 5.00e-02 < p <= 1.00e+00\n",
      "*: 1.00e-02 < p <= 5.00e-02\n",
      "**: 1.00e-03 < p <= 1.00e-02\n",
      "***: 1.00e-04 < p <= 1.00e-03\n",
      "****: p <= 1.00e-04\n",
      "\n",
      "Monozygotic, weaned v.s. Monozygotic, not weaned: t-test independent samples with Bonferroni correction, P_val=7.391e-01 stat=-1.575e+00\n",
      "Monozygotic, not weaned v.s. Dizygotic, weaned: t-test independent samples with Bonferroni correction, P_val=1.000e+00 stat=-4.153e-01\n",
      "Dizygotic, weaned v.s. Dizygotic, not weaned: t-test independent samples with Bonferroni correction, P_val=5.367e-01 stat=-1.748e+00\n",
      "Monozygotic, weaned v.s. Dizygotic, weaned: t-test independent samples with Bonferroni correction, P_val=1.000e+00 stat=-1.106e+00\n",
      "Monozygotic, not weaned v.s. Dizygotic, not weaned: t-test independent samples with Bonferroni correction, P_val=2.487e-02 stat=-3.056e+00\n",
      "Monozygotic, weaned v.s. Dizygotic, not weaned: t-test independent samples with Bonferroni correction, P_val=9.299e-04 stat=-4.213e+00\n"
     ]
    },
    {
     "data": {
      "image/png": "[encoded data removed]",
      "text/plain": [
       "<Figure size 1080x1080 with 1 Axes>"
      ]
     },
     "metadata": {},
     "output_type": "display_data"
    }
   ],
   "source": [
    "sns.set(rc={'figure.figsize':(15, 15), 'font.family': ['Helvetica']}, style='white')\n",
    "with sns.plotting_context(\"notebook\", font_scale=1.3):\n",
    "    # seaborn's boxplot\n",
    "    ax = sns.violinplot(\n",
    "        data=all_diff, \n",
    "    )\n",
    "    add_stat_annotation(ax, data=all_diff,\n",
    "                    box_pairs=[('Monozygotic, weaned', 'Monozygotic, not weaned'), ('Monozygotic, weaned', 'Dizygotic, weaned'), ('Monozygotic, weaned', 'Dizygotic, not weaned'), ('Monozygotic, not weaned', 'Dizygotic, weaned'), ('Monozygotic, not weaned', 'Dizygotic, not weaned'), ('Dizygotic, weaned', 'Dizygotic, not weaned')],\n",
    "                    test='t-test_ind',\n",
    "                    text_format='star',\n",
    "                    loc='inside')\n",
    "    # matplotlib's customization\n",
    "    ax.set_ylabel('Differentially abundant Features between twins')"
   ]
  },
  {
   "cell_type": "markdown",
   "id": "15258e4a-120b-4fe9-863b-794713c5d92c",
   "metadata": {},
   "source": [
    "### 7. Beta diversity for visuals"
   ]
  },
  {
   "cell_type": "code",
   "execution_count": 7,
   "id": "6e978586-6649-4fb1-9dfd-a28444b6c043",
   "metadata": {},
   "outputs": [
    {
     "name": "stdout",
     "output_type": "stream",
     "text": [
      "\u001b[32mSaved Visualization to: data/alpha-rarefaction2.qzv\u001b[0m\n",
      "\u001b[0m"
     ]
    }
   ],
   "source": [
    "! qiime diversity alpha-rarefaction \\\n",
    "    --i-table $data_dir/phylogeny_filtered_table.qza \\\n",
    "    --i-phylogeny $data_dir/reference-tree.qza \\\n",
    "    --p-max-depth 10000 \\\n",
    "    --m-metadata-file $or_dir/new_metadata_for_a_diversity.tsv \\\n",
    "    --o-visualization $data_dir/alpha-rarefaction2.qzv"
   ]
  },
  {
   "cell_type": "code",
   "execution_count": 8,
   "id": "e96046f9-0139-40bd-8822-8bd9a97e3f35",
   "metadata": {
    "collapsed": true,
    "jupyter": {
     "outputs_hidden": true
    },
    "tags": []
   },
   "outputs": [
    {
     "data": {
      "text/html": [
       "<div><img onload=\"(function(div, url){\n",
       "if (typeof require !== 'undefined') {\n",
       "    var baseURL = require.toUrl('').split('/').slice(0, -2).join('/');\n",
       "} else {\n",
       "    var baseURL = JSON.parse(\n",
       "        document.getElementById('jupyter-config-data').innerHTML\n",
       "    ).baseUrl.slice(0, -1);\n",
       "}\n",
       "url = baseURL + url;\n",
       "fetch(url).then(function(res) {\n",
       "    if (res.status === 404) {\n",
       "        div.innerHTML = 'Install QIIME 2 Jupyter extension with:<br />' +\n",
       "                        '<code>jupyter serverextension enable --py qiime2' +\n",
       "                        ' --sys-prefix</code><br />then restart your server.' +\n",
       "                        '<br /><br />(Interactive output not available on ' +\n",
       "                        'static notebook viewer services like nbviewer.)';\n",
       "    } else if (res.status === 409) {\n",
       "        div.innerHTML = 'Visualization no longer in scope. Re-run this cell' +\n",
       "                        ' to see the visualization.';\n",
       "    } else if (res.ok) {\n",
       "        url = res.url;\n",
       "        div.innerHTML = '<iframe src=\\'' + url + '\\' style=\\'' +\n",
       "                        'width: 100%; height: 700px; border: 0;\\'>' +\n",
       "                        '</iframe><hr />Open in a: <a href=\\'' + url + '\\'' +\n",
       "                        ' target=\\'_blank\\'>new window</a>'\n",
       "    } else {\n",
       "        div.innerHTML = 'Something has gone wrong. Check notebook server for' +\n",
       "                        ' errors.';\n",
       "    }\n",
       "});\n",
       "})(this.parentElement, '/qiime2/redirect?location=/tmp/qiime2-archive-dqk_6fzs')\" src=\"data:image/gif;base64,R0lGODlhAQABAIAAAP///wAAACH5BAEAAAAALAAAAAABAAEAAAICRAEAOw==\" /></div>"
      ],
      "text/plain": [
       "<visualization: Visualization uuid: b35ac1ff-5d92-4097-adf1-7cb5a01826d8>"
      ]
     },
     "execution_count": 8,
     "metadata": {},
     "output_type": "execute_result"
    }
   ],
   "source": [
    "Visualization.load(f'{data_dir}/alpha-rarefaction2.qzv')"
   ]
  },
  {
   "cell_type": "markdown",
   "id": "89c99106-b979-49fd-a4b6-e9495dd04289",
   "metadata": {},
   "source": [
    "#### Rarefaction at 1500"
   ]
  },
  {
   "cell_type": "code",
   "execution_count": 31,
   "id": "665ab6e9-a230-4111-8829-6ff9521e2c4a",
   "metadata": {},
   "outputs": [
    {
     "name": "stdout",
     "output_type": "stream",
     "text": [
      "\u001b[32mSaved FeatureTable[Frequency] to: data/core-metrics-results/rarefied_table.qza\u001b[0m\n",
      "\u001b[32mSaved SampleData[AlphaDiversity] to: data/core-metrics-results/faith_pd_vector.qza\u001b[0m\n",
      "\u001b[32mSaved SampleData[AlphaDiversity] to: data/core-metrics-results/observed_features_vector.qza\u001b[0m\n",
      "\u001b[32mSaved SampleData[AlphaDiversity] to: data/core-metrics-results/shannon_vector.qza\u001b[0m\n",
      "\u001b[32mSaved SampleData[AlphaDiversity] to: data/core-metrics-results/evenness_vector.qza\u001b[0m\n",
      "\u001b[32mSaved DistanceMatrix to: data/core-metrics-results/unweighted_unifrac_distance_matrix.qza\u001b[0m\n",
      "\u001b[32mSaved DistanceMatrix to: data/core-metrics-results/weighted_unifrac_distance_matrix.qza\u001b[0m\n",
      "\u001b[32mSaved DistanceMatrix to: data/core-metrics-results/jaccard_distance_matrix.qza\u001b[0m\n",
      "\u001b[32mSaved DistanceMatrix to: data/core-metrics-results/bray_curtis_distance_matrix.qza\u001b[0m\n",
      "\u001b[32mSaved PCoAResults to: data/core-metrics-results/unweighted_unifrac_pcoa_results.qza\u001b[0m\n",
      "\u001b[32mSaved PCoAResults to: data/core-metrics-results/weighted_unifrac_pcoa_results.qza\u001b[0m\n",
      "\u001b[32mSaved PCoAResults to: data/core-metrics-results/jaccard_pcoa_results.qza\u001b[0m\n",
      "\u001b[32mSaved PCoAResults to: data/core-metrics-results/bray_curtis_pcoa_results.qza\u001b[0m\n",
      "\u001b[32mSaved Visualization to: data/core-metrics-results/unweighted_unifrac_emperor.qzv\u001b[0m\n",
      "\u001b[32mSaved Visualization to: data/core-metrics-results/weighted_unifrac_emperor.qzv\u001b[0m\n",
      "\u001b[32mSaved Visualization to: data/core-metrics-results/jaccard_emperor.qzv\u001b[0m\n",
      "\u001b[32mSaved Visualization to: data/core-metrics-results/bray_curtis_emperor.qzv\u001b[0m\n",
      "\u001b[0m"
     ]
    }
   ],
   "source": [
    "! qiime diversity core-metrics-phylogenetic \\\n",
    "  --i-table $data_dir/phylogeny_filtered_table.qza \\\n",
    "  --i-phylogeny $data_dir/reference-tree.qza \\\n",
    "  --m-metadata-file $or_dir/metadata.tsv \\\n",
    "  --p-sampling-depth 1500 \\\n",
    "  --output-dir $data_dir/core-metrics-results"
   ]
  },
  {
   "cell_type": "code",
   "execution_count": 33,
   "id": "0c342d90-81fa-4de0-8ec2-1e87a1cca17a",
   "metadata": {
    "collapsed": true,
    "jupyter": {
     "outputs_hidden": true
    },
    "tags": []
   },
   "outputs": [
    {
     "data": {
      "text/html": [
       "<div><img onload=\"(function(div, url){\n",
       "if (typeof require !== 'undefined') {\n",
       "    var baseURL = require.toUrl('').split('/').slice(0, -2).join('/');\n",
       "} else {\n",
       "    var baseURL = JSON.parse(\n",
       "        document.getElementById('jupyter-config-data').innerHTML\n",
       "    ).baseUrl.slice(0, -1);\n",
       "}\n",
       "url = baseURL + url;\n",
       "fetch(url).then(function(res) {\n",
       "    if (res.status === 404) {\n",
       "        div.innerHTML = 'Install QIIME 2 Jupyter extension with:<br />' +\n",
       "                        '<code>jupyter serverextension enable --py qiime2' +\n",
       "                        ' --sys-prefix</code><br />then restart your server.' +\n",
       "                        '<br /><br />(Interactive output not available on ' +\n",
       "                        'static notebook viewer services like nbviewer.)';\n",
       "    } else if (res.status === 409) {\n",
       "        div.innerHTML = 'Visualization no longer in scope. Re-run this cell' +\n",
       "                        ' to see the visualization.';\n",
       "    } else if (res.ok) {\n",
       "        url = res.url;\n",
       "        div.innerHTML = '<iframe src=\\'' + url + '\\' style=\\'' +\n",
       "                        'width: 100%; height: 700px; border: 0;\\'>' +\n",
       "                        '</iframe><hr />Open in a: <a href=\\'' + url + '\\'' +\n",
       "                        ' target=\\'_blank\\'>new window</a>'\n",
       "    } else {\n",
       "        div.innerHTML = 'Something has gone wrong. Check notebook server for' +\n",
       "                        ' errors.';\n",
       "    }\n",
       "});\n",
       "})(this.parentElement, '/qiime2/redirect?location=/tmp/qiime2-archive-y69_gv15')\" src=\"data:image/gif;base64,R0lGODlhAQABAIAAAP///wAAACH5BAEAAAAALAAAAAABAAEAAAICRAEAOw==\" /></div>"
      ],
      "text/plain": [
       "<visualization: Visualization uuid: 56877ca2-4bbb-415b-8c74-b4e8898365a7>"
      ]
     },
     "execution_count": 33,
     "metadata": {},
     "output_type": "execute_result"
    }
   ],
   "source": [
    "Visualization.load(f'{data_dir}/core-metrics-results/unweighted_unifrac_emperor.qzv')"
   ]
  },
  {
   "cell_type": "code",
   "execution_count": 34,
   "id": "98ce2915-a3a5-4684-8060-c56106ab7b25",
   "metadata": {
    "collapsed": true,
    "jupyter": {
     "outputs_hidden": true
    },
    "tags": []
   },
   "outputs": [
    {
     "data": {
      "text/html": [
       "<div><img onload=\"(function(div, url){\n",
       "if (typeof require !== 'undefined') {\n",
       "    var baseURL = require.toUrl('').split('/').slice(0, -2).join('/');\n",
       "} else {\n",
       "    var baseURL = JSON.parse(\n",
       "        document.getElementById('jupyter-config-data').innerHTML\n",
       "    ).baseUrl.slice(0, -1);\n",
       "}\n",
       "url = baseURL + url;\n",
       "fetch(url).then(function(res) {\n",
       "    if (res.status === 404) {\n",
       "        div.innerHTML = 'Install QIIME 2 Jupyter extension with:<br />' +\n",
       "                        '<code>jupyter serverextension enable --py qiime2' +\n",
       "                        ' --sys-prefix</code><br />then restart your server.' +\n",
       "                        '<br /><br />(Interactive output not available on ' +\n",
       "                        'static notebook viewer services like nbviewer.)';\n",
       "    } else if (res.status === 409) {\n",
       "        div.innerHTML = 'Visualization no longer in scope. Re-run this cell' +\n",
       "                        ' to see the visualization.';\n",
       "    } else if (res.ok) {\n",
       "        url = res.url;\n",
       "        div.innerHTML = '<iframe src=\\'' + url + '\\' style=\\'' +\n",
       "                        'width: 100%; height: 700px; border: 0;\\'>' +\n",
       "                        '</iframe><hr />Open in a: <a href=\\'' + url + '\\'' +\n",
       "                        ' target=\\'_blank\\'>new window</a>'\n",
       "    } else {\n",
       "        div.innerHTML = 'Something has gone wrong. Check notebook server for' +\n",
       "                        ' errors.';\n",
       "    }\n",
       "});\n",
       "})(this.parentElement, '/qiime2/redirect?location=/tmp/qiime2-archive-9_3vo2_x')\" src=\"data:image/gif;base64,R0lGODlhAQABAIAAAP///wAAACH5BAEAAAAALAAAAAABAAEAAAICRAEAOw==\" /></div>"
      ],
      "text/plain": [
       "<visualization: Visualization uuid: f3ab4065-f935-417d-8b2a-411956d8d2ff>"
      ]
     },
     "execution_count": 34,
     "metadata": {},
     "output_type": "execute_result"
    }
   ],
   "source": [
    "Visualization.load(f'{data_dir}/core-metrics-results/weighted_unifrac_emperor.qzv')"
   ]
  },
  {
   "cell_type": "code",
   "execution_count": null,
   "id": "652b0d3e-3597-49ed-a0a0-6f0621e3ba17",
   "metadata": {},
   "outputs": [],
   "source": []
  }
 ],
 "metadata": {
  "kernelspec": {
   "display_name": "Python 3 (ipykernel)",
   "language": "python",
   "name": "python3"
  },
  "language_info": {
   "codemirror_mode": {
    "name": "ipython",
    "version": 3
   },
   "file_extension": ".py",
   "mimetype": "text/x-python",
   "name": "python",
   "nbconvert_exporter": "python",
   "pygments_lexer": "ipython3",
   "version": "3.8.13"
  }
 },
 "nbformat": 4,
 "nbformat_minor": 5
}
