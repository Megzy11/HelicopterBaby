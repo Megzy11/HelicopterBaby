{
 "cells": [
  {
   "cell_type": "code",
   "execution_count": null,
   "id": "f930069f-0602-42a4-93af-e3545a5d08e1",
   "metadata": {},
   "outputs": [],
   "source": [
    "#For the import of packages\n",
    "import numpy as np\n",
    "import pandas as pd\n",
    "from qiime2 import Visualization\n",
    "import matplotlib.pyplot as plt\n",
    "im"
   ]
  },
  {
   "cell_type": "code",
   "execution_count": null,
   "id": "97b32af7-c4c5-49e6-8b87-56ff01517342",
   "metadata": {},
   "outputs": [],
   "source": []
  }
 ],
 "metadata": {
  "kernelspec": {
   "display_name": "Python 3 (ipykernel)",
   "language": "python",
   "name": "python3"
  },
  "language_info": {
   "codemirror_mode": {
    "name": "ipython",
    "version": 3
   },
   "file_extension": ".py",
   "mimetype": "text/x-python",
   "name": "python",
   "nbconvert_exporter": "python",
   "pygments_lexer": "ipython3",
   "version": "3.8.13"
  }
 },
 "nbformat": 4,
 "nbformat_minor": 5
}
