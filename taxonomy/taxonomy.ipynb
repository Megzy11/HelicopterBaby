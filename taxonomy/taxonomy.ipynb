{
 "cells": [
  {
   "cell_type": "code",
   "execution_count": 1,
   "id": "76d50b83-ce0d-4296-b80f-d9162f1d8ca4",
   "metadata": {},
   "outputs": [],
   "source": [
    "import os\n",
    "import pandas as pd\n",
    "from qiime2 import Visualization\n",
    "import matplotlib.pyplot as plt\n",
    "import numpy as np\n",
    "\n",
    "import qiime2 as q2\n",
    "\n",
    "data_dir = \"data\"\n",
    "database_dir = \"database\""
   ]
  },
  {
   "cell_type": "markdown",
   "id": "fa2daf61-0a35-4cc6-b291-1266a6548c74",
   "metadata": {},
   "source": [
    "**Silva database curation**"
   ]
  },
  {
   "cell_type": "code",
   "execution_count": null,
   "id": "34174d35-f027-483d-be71-a59e347f5fdd",
   "metadata": {},
   "outputs": [],
   "source": [
    "! qiime rescript get-silva-data \\\n",
    "    --p-version '138' \\\n",
    "    --p-target 'SSURef_NR99' \\\n",
    "    --p-include-species-labels \\\n",
    "    --o-silva-sequences $database_dir/silva-138-ssu-nr99-seqs.qza \\\n",
    "    --o-silva-taxonomy $database_dir/silva-138-ssu-nr99-tax.qza"
   ]
  },
  {
   "cell_type": "code",
   "execution_count": null,
   "id": "ef3f0a8e-1364-49a0-9e46-d78d3adeb95c",
   "metadata": {},
   "outputs": [],
   "source": [
    "! qiime rescript cull-seqs \\\n",
    "     --i-sequences $database_dir/silva-138-ssu-nr99-seqs.qza \\\n",
    "     --p-num-degenerates 5 \\\n",
    "     --p-homopolymer-length 8 \\\n",
    "     --p-n-jobs 3 \\\n",
    "     --o-clean-sequences $database_dir/silva-138-ssu-nr99-seqs-cleaned.qza"
   ]
  },
  {
   "cell_type": "code",
   "execution_count": null,
   "id": "9826eaab-4a89-4265-9335-03b187543a5b",
   "metadata": {},
   "outputs": [],
   "source": [
    "! qiime rescript filter-seqs-length-by-taxon \\\n",
    "    --i-sequences $database_dir/silva-138-ssu-nr99-seqs-cleaned.qza \\\n",
    "    --i-taxonomy $database_dir/silva-138-ssu-nr99-tax.qza \\\n",
    "    --p-labels Archaea Bacteria Eukaryota \\\n",
    "    --p-min-lens 900 1200 1400 \\\n",
    "    --o-filtered-seqs $database_dir/silva-138-ssu-nr99-seqs-filt.qza \\\n",
    "    --o-discarded-seqs $database_dir/silva-138-ssu-nr99-seqs-discard.qza"
   ]
  },
  {
   "cell_type": "code",
   "execution_count": null,
   "id": "324696f1-047b-4fde-b348-f1bff6d65d33",
   "metadata": {},
   "outputs": [],
   "source": [
    "! qiime rescript dereplicate \\\n",
    "    --i-sequences $database_dir/silva-138-ssu-nr99-seqs-filt.qza  \\\n",
    "    --i-taxa $database_dir/silva-138-ssu-nr99-tax.qza \\\n",
    "    --p-rank-handles 'silva' \\\n",
    "    --p-mode 'uniq' \\\n",
    "    --p-threads 3 \\\n",
    "    --o-dereplicated-sequences $database_dir/silva-138-ssu-nr99-seqs-derep-uniq.qza \\\n",
    "    --o-dereplicated-taxa $database_dir/silva-138-ssu-nr99-tax-derep-uniq.qza"
   ]
  },
  {
   "cell_type": "code",
   "execution_count": null,
   "id": "1267efc3-ba59-482c-b166-214d78e9f0e2",
   "metadata": {},
   "outputs": [],
   "source": [
    "#PCR region extraction, Primers unknown"
   ]
  },
  {
   "cell_type": "markdown",
   "id": "3355b5ef-cc32-4fee-ad86-036c95af28ef",
   "metadata": {},
   "source": [
    "**GDPR database**"
   ]
  },
  {
   "cell_type": "code",
   "execution_count": null,
   "id": "79256cdf-a1d8-451c-80e7-e55ccc327f5c",
   "metadata": {},
   "outputs": [],
   "source": []
  }
 ],
 "metadata": {
  "kernelspec": {
   "display_name": "Python 3 (ipykernel)",
   "language": "python",
   "name": "python3"
  },
  "language_info": {
   "codemirror_mode": {
    "name": "ipython",
    "version": 3
   },
   "file_extension": ".py",
   "mimetype": "text/x-python",
   "name": "python",
   "nbconvert_exporter": "python",
   "pygments_lexer": "ipython3",
   "version": "3.8.13"
  }
 },
 "nbformat": 4,
 "nbformat_minor": 5
}
