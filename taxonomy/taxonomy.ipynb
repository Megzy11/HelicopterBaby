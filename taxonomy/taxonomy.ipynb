{
 "cells": [
  {
   "cell_type": "code",
   "execution_count": 2,
   "id": "76d50b83-ce0d-4296-b80f-d9162f1d8ca4",
   "metadata": {},
   "outputs": [],
   "source": [
    "import os\n",
    "import pandas as pd\n",
    "from qiime2 import Visualization\n",
    "import matplotlib.pyplot as plt\n",
    "import numpy as np\n",
    "\n",
    "import qiime2 as q2\n",
    "\n",
    "data_dir = \"data\"\n",
    "data_or = \"../data\"\n",
    "database_dir = \"database\"\n",
    "ASVdata = \"../ASV/data\"\n",
    "curatedb = False #already ran it before so can just get it from polybox.\n",
    "\n",
    "if (curatedb == True):\n",
    "    if not os.path.isdir(data_dir):\n",
    "        os.makedirs(data_dir)\n",
    "\n",
    "    if not os.path.isdir(database_dir):\n",
    "        os.makedirs(database_dir)"
   ]
  },
  {
   "cell_type": "markdown",
   "id": "91c6d687-3a1a-4a15-964f-542013f6e60d",
   "metadata": {},
   "source": [
    "**Explanation**\\\n",
    "It is here a bit difficult with the data paths: The data_dir is for the data generated here, the data_or is for the input sequences and metadata (in the data folder), the database_dir is for the steps of database curation, ASVdata is for the files generated in the clustering notebook."
   ]
  },
  {
   "cell_type": "markdown",
   "id": "fa2daf61-0a35-4cc6-b291-1266a6548c74",
   "metadata": {},
   "source": [
    "**Silva database curation**"
   ]
  },
  {
   "cell_type": "code",
   "execution_count": 7,
   "id": "34174d35-f027-483d-be71-a59e347f5fdd",
   "metadata": {},
   "outputs": [
    {
     "name": "stdout",
     "output_type": "stream",
     "text": [
      "\u001b[32mSaved FeatureData[RNASequence] to: database/silva-138-ssu-nr99-seqs.qza\u001b[0m\n",
      "\u001b[32mSaved FeatureData[Taxonomy] to: database/silva-138-ssu-nr99-tax.qza\u001b[0m\n",
      "\u001b[0m"
     ]
    }
   ],
   "source": [
    "! qiime rescript get-silva-data \\\n",
    "    --p-version '138' \\\n",
    "    --p-target 'SSURef_NR99' \\\n",
    "    --p-include-species-labels \\\n",
    "    --o-silva-sequences $database_dir/silva-138-ssu-nr99-seqs.qza \\\n",
    "    --o-silva-taxonomy $database_dir/silva-138-ssu-nr99-tax.qza"
   ]
  },
  {
   "cell_type": "code",
   "execution_count": 8,
   "id": "ef3f0a8e-1364-49a0-9e46-d78d3adeb95c",
   "metadata": {},
   "outputs": [
    {
     "name": "stdout",
     "output_type": "stream",
     "text": [
      "\u001b[32mSaved FeatureData[Sequence] to: database/silva-138-ssu-nr99-seqs-cleaned.qza\u001b[0m\n",
      "\u001b[0m"
     ]
    }
   ],
   "source": [
    "! qiime rescript cull-seqs \\\n",
    "     --i-sequences $database_dir/silva-138-ssu-nr99-seqs.qza \\\n",
    "     --p-num-degenerates 5 \\\n",
    "     --p-homopolymer-length 8 \\\n",
    "     --p-n-jobs 3 \\\n",
    "     --o-clean-sequences $database_dir/silva-138-ssu-nr99-seqs-cleaned.qza"
   ]
  },
  {
   "cell_type": "code",
   "execution_count": 27,
   "id": "9826eaab-4a89-4265-9335-03b187543a5b",
   "metadata": {},
   "outputs": [
    {
     "name": "stdout",
     "output_type": "stream",
     "text": [
      "\u001b[32mSaved FeatureData[Sequence] to: database/silva-138-ssu-nr99-seqs-filt.qza\u001b[0m\n",
      "\u001b[32mSaved FeatureData[Sequence] to: database/silva-138-ssu-nr99-seqs-discard.qza\u001b[0m\n",
      "\u001b[0m"
     ]
    }
   ],
   "source": [
    "! qiime rescript filter-seqs-length-by-taxon \\\n",
    "    --i-sequences $database_dir/silva-138-ssu-nr99-seqs-cleaned.qza \\\n",
    "    --i-taxonomy $database_dir/silva-138-ssu-nr99-tax.qza \\\n",
    "    --p-labels Archaea Bacteria Eukaryota \\\n",
    "    --p-min-lens 900 1200 1400 \\\n",
    "    --o-filtered-seqs $database_dir/silva-138-ssu-nr99-seqs-filt.qza \\\n",
    "    --o-discarded-seqs $database_dir/silva-138-ssu-nr99-seqs-discard.qza"
   ]
  },
  {
   "cell_type": "code",
   "execution_count": 28,
   "id": "324696f1-047b-4fde-b348-f1bff6d65d33",
   "metadata": {},
   "outputs": [
    {
     "name": "stdout",
     "output_type": "stream",
     "text": [
      "\u001b[32mSaved FeatureData[Sequence] to: database/silva-138-ssu-nr99-seqs-derep-uniq.qza\u001b[0m\n",
      "\u001b[32mSaved FeatureData[Taxonomy] to: database/silva-138-ssu-nr99-tax-derep-uniq.qza\u001b[0m\n",
      "\u001b[0m"
     ]
    }
   ],
   "source": [
    "! qiime rescript dereplicate \\\n",
    "    --i-sequences $database_dir/silva-138-ssu-nr99-seqs-filt.qza  \\\n",
    "    --i-taxa $database_dir/silva-138-ssu-nr99-tax.qza \\\n",
    "    --p-rank-handles 'silva' \\\n",
    "    --p-mode 'uniq' \\\n",
    "    --p-threads 3 \\\n",
    "    --o-dereplicated-sequences $database_dir/silva-138-ssu-nr99-seqs-derep-uniq.qza \\\n",
    "    --o-dereplicated-taxa $database_dir/silva-138-ssu-nr99-tax-derep-uniq.qza"
   ]
  },
  {
   "cell_type": "markdown",
   "id": "bfb08adc-7680-4bb2-869d-d55dcf4cc926",
   "metadata": {},
   "source": [
    "**Only run this if did not run the above and do not run the mkdir above as same folder names**"
   ]
  },
  {
   "cell_type": "code",
   "execution_count": 10,
   "id": "67d4420b-f5c0-40cd-a2fb-a09d3836dd04",
   "metadata": {},
   "outputs": [
    {
     "name": "stdout",
     "output_type": "stream",
     "text": [
      "2022-10-20 09:30:45 URL:https://polybox.ethz.ch/index.php/s/pNA39R0rl2xMMj9/download [894620633] -> \"data.zip\" [1]\n",
      "replace data/data/ASV/ASV_PJNB.ipynb? [y]es, [n]o, [A]ll, [N]one, [r]ename: ^C\n",
      "rm: cannot remove 'data.zip': No such file or directory\n"
     ]
    }
   ],
   "source": [
    "if (curatedb == False):\n",
    "    ! wget -nv -O data.zip 'https://polybox.ethz.ch/index.php/s/pNA39R0rl2xMMj9/download'\n",
    "    ! unzip -q data.zip #-d $data_dir\n",
    "    ! mv data data2\n",
    "    ! mv data2/taxonomy/data .\n",
    "    ! mv data2/taxonomy/database .\n",
    "    ! rm -r data2\n",
    "    ! rm data.zip\n",
    "\n",
    "#! wget -nv -O $data_dir/data.zip 'https://polybox.ethz.ch/index.php/s/pNA39R0rl2xMMj9/download'\n",
    "#! unzip -q $data_dir/data.zip -d $data_dir\n",
    "#! rm $data_dir/data.zip"
   ]
  },
  {
   "cell_type": "code",
   "execution_count": 29,
   "id": "1267efc3-ba59-482c-b166-214d78e9f0e2",
   "metadata": {},
   "outputs": [],
   "source": [
    "#PCR region extraction, Primers unknown\n",
    "#! qiime rescript extract-seq-segments \\\n",
    "#    --i-input-sequences $data_or/sequences_demux_paired.qza \\\n",
    "#    --i-reference-segment-sequences $database_dir/silva-138-ssu-nr99-tax-derep-uniq.qza \\\n",
    "#    --p-perc-identity 0.7 \\\n",
    "#    --p-min-seq-len 10 \\\n",
    "#    --p-threads 3 \\\n",
    "#    --o-extracted-sequence-segments data_dir/silva-138-ssu-nr99-tax-derep-uniq-extracted.qza \\\n",
    "#    --o-unmatched-sequences data_dir/silva-138-ssu-nr99-tax-derep-uniq-unmached.qza \\\n",
    "#    --verbose"
   ]
  },
  {
   "cell_type": "code",
   "execution_count": 30,
   "id": "79256cdf-a1d8-451c-80e7-e55ccc327f5c",
   "metadata": {
    "tags": []
   },
   "outputs": [],
   "source": [
    "#! qiime rescript --version"
   ]
  },
  {
   "cell_type": "code",
   "execution_count": 10,
   "id": "4474bfcc-f1dd-48ed-8f06-4f6101fb057a",
   "metadata": {},
   "outputs": [],
   "source": [
    "#training taxanomic classifier\n",
    "# doesn't work, just stops, no output no error, WHY?\n",
    "# ! qiime feature-classifier fit-classifier-naive-bayes \\\n",
    "#   --i-reference-reads $database_dir/silva-138-ssu-nr99-seqs-derep-uniq.qza \\\n",
    "#   --i-reference-taxonomy $database_dir/silva-138-ssu-nr99-tax-derep-uniq.qza \\\n",
    "#   --o-classifier $database_dir/ML-515f-806r-classifier.qza"
   ]
  },
  {
   "cell_type": "code",
   "execution_count": 11,
   "id": "d7818e10-c5d4-4f80-ae07-660040955a28",
   "metadata": {},
   "outputs": [
    {
     "name": "stdout",
     "output_type": "stream",
     "text": [
      "2022-10-20 10:17:42 URL:https://s3-us-west-2.amazonaws.com/qiime2-data/2021.4/common/gg-13-8-99-515-806-nb-classifier.qza [28289645/28289645] -> \"database/515f-806r-classifier.qza\" [1]\n"
     ]
    }
   ],
   "source": [
    "! wget -nv -O $database_dir/515f-806r-classifier.qza https://data.qiime2.org/2021.4/common/gg-13-8-99-515-806-nb-classifier.qza"
   ]
  },
  {
   "cell_type": "code",
   "execution_count": 17,
   "id": "e6bf85e9-12c0-4eed-8c92-383e1adeff72",
   "metadata": {},
   "outputs": [
    {
     "name": "stdout",
     "output_type": "stream",
     "text": [
      "\u001b[32mUUID\u001b[0m:        8f33c8bc-40ef-4dab-aafd-f4d3d817a474\n",
      "\u001b[32mType\u001b[0m:        FeatureData[Sequence]\n",
      "\u001b[32mData format\u001b[0m: DNASequencesDirectoryFormat\n"
     ]
    }
   ],
   "source": [
    "! qiime tools peek $ASVdata/PJNB_dada2_rep_set.qza"
   ]
  },
  {
   "cell_type": "code",
   "execution_count": 18,
   "id": "65af8102-2988-458a-9c58-4a1de1cdcfcd",
   "metadata": {},
   "outputs": [
    {
     "name": "stdout",
     "output_type": "stream",
     "text": [
      "\u001b[32mUUID\u001b[0m:        4b2a57b7-1e5a-4a4d-8201-99551ab50858\n",
      "\u001b[32mType\u001b[0m:        TaxonomicClassifier\n",
      "\u001b[32mData format\u001b[0m: TaxonomicClassiferTemporaryPickleDirFmt\n"
     ]
    }
   ],
   "source": [
    "! qiime tools peek $database_dir/515f-806r-classifier.qza"
   ]
  },
  {
   "cell_type": "code",
   "execution_count": 12,
   "id": "30ae60da-74f3-466f-a54f-bf653a8bba3e",
   "metadata": {
    "tags": []
   },
   "outputs": [
    {
     "name": "stdout",
     "output_type": "stream",
     "text": [
      "\u001b[32mSaved FeatureData[Taxonomy] to: data/taxonomy_classification.qza\u001b[0m\n",
      "\u001b[0m"
     ]
    }
   ],
   "source": [
    "#taxonomic classification\n",
    "! qiime feature-classifier classify-sklearn \\\n",
    "    --i-classifier $database_dir/515f-806r-classifier.qza \\\n",
    "    --i-reads $ASVdata/PJNB_dada2_rep_set.qza \\\n",
    "    --o-classification $data_dir/taxonomy_classification.qza"
   ]
  },
  {
   "cell_type": "code",
   "execution_count": 13,
   "id": "58c8166d-0da0-41bb-a828-cadbfe482658",
   "metadata": {},
   "outputs": [
    {
     "name": "stdout",
     "output_type": "stream",
     "text": [
      "\u001b[32mSaved Visualization to: data/taxonomy_classification.qzv\u001b[0m\n",
      "\u001b[0m"
     ]
    }
   ],
   "source": [
    "#visualization\n",
    "! qiime metadata tabulate \\\n",
    "    --m-input-file $data_dir/taxonomy_classification.qza \\\n",
    "    --o-visualization $data_dir/taxonomy_classification.qzv"
   ]
  },
  {
   "cell_type": "code",
   "execution_count": 3,
   "id": "a8cd71b7-6441-4bbb-9d59-38a9c7afcb85",
   "metadata": {
    "tags": []
   },
   "outputs": [
    {
     "data": {
      "text/html": [
       "<div><img onload=\"(function(div, url){\n",
       "if (typeof require !== 'undefined') {\n",
       "    var baseURL = require.toUrl('').split('/').slice(0, -2).join('/');\n",
       "} else {\n",
       "    var baseURL = JSON.parse(\n",
       "        document.getElementById('jupyter-config-data').innerHTML\n",
       "    ).baseUrl.slice(0, -1);\n",
       "}\n",
       "url = baseURL + url;\n",
       "fetch(url).then(function(res) {\n",
       "    if (res.status === 404) {\n",
       "        div.innerHTML = 'Install QIIME 2 Jupyter extension with:<br />' +\n",
       "                        '<code>jupyter serverextension enable --py qiime2' +\n",
       "                        ' --sys-prefix</code><br />then restart your server.' +\n",
       "                        '<br /><br />(Interactive output not available on ' +\n",
       "                        'static notebook viewer services like nbviewer.)';\n",
       "    } else if (res.status === 409) {\n",
       "        div.innerHTML = 'Visualization no longer in scope. Re-run this cell' +\n",
       "                        ' to see the visualization.';\n",
       "    } else if (res.ok) {\n",
       "        url = res.url;\n",
       "        div.innerHTML = '<iframe src=\\'' + url + '\\' style=\\'' +\n",
       "                        'width: 100%; height: 700px; border: 0;\\'>' +\n",
       "                        '</iframe><hr />Open in a: <a href=\\'' + url + '\\'' +\n",
       "                        ' target=\\'_blank\\'>new window</a>'\n",
       "    } else {\n",
       "        div.innerHTML = 'Something has gone wrong. Check notebook server for' +\n",
       "                        ' errors.';\n",
       "    }\n",
       "});\n",
       "})(this.parentElement, '/qiime2/redirect?location=/tmp/qiime2-archive-d720xh5l')\" src=\"data:image/gif;base64,R0lGODlhAQABAIAAAP///wAAACH5BAEAAAAALAAAAAABAAEAAAICRAEAOw==\" /></div>"
      ],
      "text/plain": [
       "<visualization: Visualization uuid: 7d053ff6-b28a-4f11-aadc-555826f0442b>"
      ]
     },
     "execution_count": 3,
     "metadata": {},
     "output_type": "execute_result"
    }
   ],
   "source": [
    "Visualization.load(f'{data_dir}/taxonomy_classification.qzv')"
   ]
  },
  {
   "cell_type": "code",
   "execution_count": 18,
   "id": "aeb3c91a-4d14-47cd-b65e-9304f20dae29",
   "metadata": {},
   "outputs": [
    {
     "name": "stdout",
     "output_type": "stream",
     "text": [
      "\u001b[32mSaved Visualization to: data/taxa-prefiltered-bar-plots.qzv\u001b[0m\n",
      "\u001b[0m"
     ]
    }
   ],
   "source": [
    "! qiime taxa barplot \\\n",
    "    --i-table $ASVdata/PJNB_dada2_table_.qza \\\n",
    "    --i-taxonomy $data_dir/taxonomy_classification.qza \\\n",
    "    --m-metadata-file $data_or/metadata.tsv \\\n",
    "    --o-visualization $data_dir/taxa-prefiltered-bar-plots.qzv"
   ]
  },
  {
   "cell_type": "code",
   "execution_count": 8,
   "id": "cdb856a1-589e-43ac-b118-2e117f789453",
   "metadata": {
    "tags": []
   },
   "outputs": [
    {
     "data": {
      "text/html": [
       "<div><img onload=\"(function(div, url){\n",
       "if (typeof require !== 'undefined') {\n",
       "    var baseURL = require.toUrl('').split('/').slice(0, -2).join('/');\n",
       "} else {\n",
       "    var baseURL = JSON.parse(\n",
       "        document.getElementById('jupyter-config-data').innerHTML\n",
       "    ).baseUrl.slice(0, -1);\n",
       "}\n",
       "url = baseURL + url;\n",
       "fetch(url).then(function(res) {\n",
       "    if (res.status === 404) {\n",
       "        div.innerHTML = 'Install QIIME 2 Jupyter extension with:<br />' +\n",
       "                        '<code>jupyter serverextension enable --py qiime2' +\n",
       "                        ' --sys-prefix</code><br />then restart your server.' +\n",
       "                        '<br /><br />(Interactive output not available on ' +\n",
       "                        'static notebook viewer services like nbviewer.)';\n",
       "    } else if (res.status === 409) {\n",
       "        div.innerHTML = 'Visualization no longer in scope. Re-run this cell' +\n",
       "                        ' to see the visualization.';\n",
       "    } else if (res.ok) {\n",
       "        url = res.url;\n",
       "        div.innerHTML = '<iframe src=\\'' + url + '\\' style=\\'' +\n",
       "                        'width: 100%; height: 700px; border: 0;\\'>' +\n",
       "                        '</iframe><hr />Open in a: <a href=\\'' + url + '\\'' +\n",
       "                        ' target=\\'_blank\\'>new window</a>'\n",
       "    } else {\n",
       "        div.innerHTML = 'Something has gone wrong. Check notebook server for' +\n",
       "                        ' errors.';\n",
       "    }\n",
       "});\n",
       "})(this.parentElement, '/qiime2/redirect?location=/tmp/qiime2-archive-oe3fi7nu')\" src=\"data:image/gif;base64,R0lGODlhAQABAIAAAP///wAAACH5BAEAAAAALAAAAAABAAEAAAICRAEAOw==\" /></div>"
      ],
      "text/plain": [
       "<visualization: Visualization uuid: 14fb3e71-6374-426d-bb8a-d4e6e71303cc>"
      ]
     },
     "execution_count": 8,
     "metadata": {},
     "output_type": "execute_result"
    }
   ],
   "source": [
    "Visualization.load(f'{data_dir}/taxa-prefiltered-bar-plots.qzv')"
   ]
  },
  {
   "cell_type": "code",
   "execution_count": 21,
   "id": "fc0975b4-943e-4427-bdbe-084c61c5f4d2",
   "metadata": {},
   "outputs": [
    {
     "name": "stdout",
     "output_type": "stream",
     "text": [
      "\u001b[32mSaved FeatureTable[Frequency] to: data/PJNB_dada2_table-filtered.qza\u001b[0m\n",
      "\u001b[0m\u001b[32mSaved FeatureData[Sequence] to: data//PJNB_dada2_rep_set-filtered.qza\u001b[0m\n",
      "\u001b[0m"
     ]
    }
   ],
   "source": [
    "#filter sequences and table for mitochondria\n",
    "! qiime taxa filter-table \\\n",
    "    --i-table $ASVdata/PJNB_dada2_table_.qza \\\n",
    "    --i-taxonomy $data_dir/taxonomy_classification.qza \\\n",
    "    --p-exclude mitochondria,chloroplast \\\n",
    "    --o-filtered-table $data_dir/PJNB_dada2_table-filtered.qza\n",
    "\n",
    "! qiime taxa filter-seqs \\\n",
    "    --i-sequences $ASVdata/PJNB_dada2_rep_set.qza \\\n",
    "    --i-taxonomy $data_dir/taxonomy_classification.qza \\\n",
    "    --p-exclude mitochondria \\\n",
    "    --o-filtered-sequences $data_dir/PJNB_dada2_rep_set-filtered.qza"
   ]
  },
  {
   "cell_type": "code",
   "execution_count": 23,
   "id": "abd5a6ff-93c8-484c-8267-8ddeba09b8fe",
   "metadata": {},
   "outputs": [
    {
     "name": "stdout",
     "output_type": "stream",
     "text": [
      "\u001b[32mSaved Visualization to: data/taxa-bar-plots-filtered.qzv\u001b[0m\n",
      "\u001b[0m"
     ]
    }
   ],
   "source": [
    "! qiime taxa barplot \\\n",
    "    --i-table $data_dir/PJNB_dada2_table-filtered.qza \\\n",
    "    --i-taxonomy $data_dir/taxonomy_classification.qza \\\n",
    "    --m-metadata-file $data_or/metadata.tsv \\\n",
    "    --o-visualization $data_dir/taxa-bar-plots-filtered.qzv"
   ]
  },
  {
   "cell_type": "code",
   "execution_count": 9,
   "id": "b01e7e2b-8492-4881-84c0-30ad99899175",
   "metadata": {
    "tags": []
   },
   "outputs": [
    {
     "data": {
      "text/html": [
       "<div><img onload=\"(function(div, url){\n",
       "if (typeof require !== 'undefined') {\n",
       "    var baseURL = require.toUrl('').split('/').slice(0, -2).join('/');\n",
       "} else {\n",
       "    var baseURL = JSON.parse(\n",
       "        document.getElementById('jupyter-config-data').innerHTML\n",
       "    ).baseUrl.slice(0, -1);\n",
       "}\n",
       "url = baseURL + url;\n",
       "fetch(url).then(function(res) {\n",
       "    if (res.status === 404) {\n",
       "        div.innerHTML = 'Install QIIME 2 Jupyter extension with:<br />' +\n",
       "                        '<code>jupyter serverextension enable --py qiime2' +\n",
       "                        ' --sys-prefix</code><br />then restart your server.' +\n",
       "                        '<br /><br />(Interactive output not available on ' +\n",
       "                        'static notebook viewer services like nbviewer.)';\n",
       "    } else if (res.status === 409) {\n",
       "        div.innerHTML = 'Visualization no longer in scope. Re-run this cell' +\n",
       "                        ' to see the visualization.';\n",
       "    } else if (res.ok) {\n",
       "        url = res.url;\n",
       "        div.innerHTML = '<iframe src=\\'' + url + '\\' style=\\'' +\n",
       "                        'width: 100%; height: 700px; border: 0;\\'>' +\n",
       "                        '</iframe><hr />Open in a: <a href=\\'' + url + '\\'' +\n",
       "                        ' target=\\'_blank\\'>new window</a>'\n",
       "    } else {\n",
       "        div.innerHTML = 'Something has gone wrong. Check notebook server for' +\n",
       "                        ' errors.';\n",
       "    }\n",
       "});\n",
       "})(this.parentElement, '/qiime2/redirect?location=/tmp/qiime2-archive-85lutgrr')\" src=\"data:image/gif;base64,R0lGODlhAQABAIAAAP///wAAACH5BAEAAAAALAAAAAABAAEAAAICRAEAOw==\" /></div>"
      ],
      "text/plain": [
       "<visualization: Visualization uuid: 27ae5207-2b1d-4a5f-85cc-71548d9b1c3f>"
      ]
     },
     "execution_count": 9,
     "metadata": {},
     "output_type": "execute_result"
    }
   ],
   "source": [
    "Visualization.load(f'{data_dir}/taxa-bar-plots-filtered.qzv')"
   ]
  },
  {
   "cell_type": "markdown",
   "id": "3355b5ef-cc32-4fee-ad86-036c95af28ef",
   "metadata": {},
   "source": [
    "**GTDB database**"
   ]
  },
  {
   "cell_type": "code",
   "execution_count": null,
   "id": "788cfcc9-6542-4d11-8491-51f7962f7892",
   "metadata": {},
   "outputs": [],
   "source": []
  }
 ],
 "metadata": {
  "kernelspec": {
   "display_name": "Python 3 (ipykernel)",
   "language": "python",
   "name": "python3"
  },
  "language_info": {
   "codemirror_mode": {
    "name": "ipython",
    "version": 3
   },
   "file_extension": ".py",
   "mimetype": "text/x-python",
   "name": "python",
   "nbconvert_exporter": "python",
   "pygments_lexer": "ipython3",
   "version": "3.8.13"
  }
 },
 "nbformat": 4,
 "nbformat_minor": 5
}
