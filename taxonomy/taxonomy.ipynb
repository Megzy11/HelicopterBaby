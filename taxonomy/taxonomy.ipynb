{
 "cells": [
  {
   "cell_type": "code",
   "execution_count": 1,
   "id": "cd8736fd",
   "metadata": {},
   "outputs": [],
   "source": [
    "import os\n",
    "import pandas as pd\n",
    "from qiime2 import Visualization\n",
    "import matplotlib.pyplot as plt\n",
    "import numpy as np\n",
    "\n",
    "import qiime2 as q2\n",
    "\n",
    "data_dir = \"data\"\n",
    "data_or = \"../data\"\n",
    "database_dir = \"database\"\n",
    "ASVdata = \"../ASV/data\"\n",
    "curatedb = False #already ran it before so can just get it from polybox.\n",
    "\n",
    "if (curatedb == True):\n",
    "    if not os.path.isdir(data_dir):\n",
    "        os.makedirs(data_dir)\n",
    "\n",
    "    if not os.path.isdir(database_dir):\n",
    "        os.makedirs(database_dir)"
   ]
  },
  {
   "cell_type": "markdown",
   "id": "ba93503f",
   "metadata": {},
   "source": [
    "**Explanation**\\\n",
    "It is here a bit difficult with the data paths: The data_dir is for the data generated here, the data_or is for the input sequences and metadata (in the data folder), the database_dir is for the steps of database curation, ASVdata is for the files generated in the clustering notebook."
   ]
  },
  {
   "cell_type": "markdown",
   "id": "fc61b4a0",
   "metadata": {},
   "source": [
    "**Silva database curation**"
   ]
  },
  {
   "cell_type": "code",
   "execution_count": 7,
   "id": "d1aa4307",
   "metadata": {},
   "outputs": [
    {
     "name": "stdout",
     "output_type": "stream",
     "text": [
      "\u001b[32mSaved FeatureData[RNASequence] to: database/silva-138-ssu-nr99-seqs.qza\u001b[0m\n",
      "\u001b[32mSaved FeatureData[Taxonomy] to: database/silva-138-ssu-nr99-tax.qza\u001b[0m\n",
      "\u001b[0m"
     ]
    }
   ],
   "source": [
    "! qiime rescript get-silva-data \\\n",
    "    --p-version '138' \\\n",
    "    --p-target 'SSURef_NR99' \\\n",
    "    --p-include-species-labels \\\n",
    "    --o-silva-sequences $database_dir/silva-138-ssu-nr99-seqs.qza \\\n",
    "    --o-silva-taxonomy $database_dir/silva-138-ssu-nr99-tax.qza"
   ]
  },
  {
   "cell_type": "code",
   "execution_count": 8,
   "id": "6644b081",
   "metadata": {},
   "outputs": [
    {
     "name": "stdout",
     "output_type": "stream",
     "text": [
      "\u001b[32mSaved FeatureData[Sequence] to: database/silva-138-ssu-nr99-seqs-cleaned.qza\u001b[0m\n",
      "\u001b[0m"
     ]
    }
   ],
   "source": [
    "! qiime rescript cull-seqs \\\n",
    "     --i-sequences $database_dir/silva-138-ssu-nr99-seqs.qza \\\n",
    "     --p-num-degenerates 5 \\\n",
    "     --p-homopolymer-length 8 \\\n",
    "     --p-n-jobs 3 \\\n",
    "     --o-clean-sequences $database_dir/silva-138-ssu-nr99-seqs-cleaned.qza"
   ]
  },
  {
   "cell_type": "code",
   "execution_count": 27,
   "id": "d24a6b89",
   "metadata": {},
   "outputs": [
    {
     "name": "stdout",
     "output_type": "stream",
     "text": [
      "\u001b[32mSaved FeatureData[Sequence] to: database/silva-138-ssu-nr99-seqs-filt.qza\u001b[0m\n",
      "\u001b[32mSaved FeatureData[Sequence] to: database/silva-138-ssu-nr99-seqs-discard.qza\u001b[0m\n",
      "\u001b[0m"
     ]
    }
   ],
   "source": [
    "! qiime rescript filter-seqs-length-by-taxon \\\n",
    "    --i-sequences $database_dir/silva-138-ssu-nr99-seqs-cleaned.qza \\\n",
    "    --i-taxonomy $database_dir/silva-138-ssu-nr99-tax.qza \\\n",
    "    --p-labels Archaea Bacteria Eukaryota \\\n",
    "    --p-min-lens 900 1200 1400 \\\n",
    "    --o-filtered-seqs $database_dir/silva-138-ssu-nr99-seqs-filt.qza \\\n",
    "    --o-discarded-seqs $database_dir/silva-138-ssu-nr99-seqs-discard.qza"
   ]
  },
  {
   "cell_type": "code",
   "execution_count": 28,
   "id": "8425b214",
   "metadata": {},
   "outputs": [
    {
     "name": "stdout",
     "output_type": "stream",
     "text": [
      "\u001b[32mSaved FeatureData[Sequence] to: database/silva-138-ssu-nr99-seqs-derep-uniq.qza\u001b[0m\n",
      "\u001b[32mSaved FeatureData[Taxonomy] to: database/silva-138-ssu-nr99-tax-derep-uniq.qza\u001b[0m\n",
      "\u001b[0m"
     ]
    }
   ],
   "source": [
    "! qiime rescript dereplicate \\\n",
    "    --i-sequences $database_dir/silva-138-ssu-nr99-seqs-filt.qza  \\\n",
    "    --i-taxa $database_dir/silva-138-ssu-nr99-tax.qza \\\n",
    "    --p-rank-handles 'silva' \\\n",
    "    --p-mode 'uniq' \\\n",
    "    --p-threads 3 \\\n",
    "    --o-dereplicated-sequences $database_dir/silva-138-ssu-nr99-seqs-derep-uniq.qza \\\n",
    "    --o-dereplicated-taxa $database_dir/silva-138-ssu-nr99-tax-derep-uniq.qza"
   ]
  },
  {
   "cell_type": "code",
   "execution_count": 3,
   "id": "4faed557",
   "metadata": {},
   "outputs": [
    {
     "name": "stdout",
     "output_type": "stream",
     "text": [
      "Collecting https://github.com/bokulich-lab/RESCRIPt.git\n",
      "  Downloading https://github.com/bokulich-lab/RESCRIPt.git\n",
      "\u001b[2K     \u001b[32m-\u001b[0m \u001b[32m211.8 kB\u001b[0m \u001b[31m8.2 MB/s\u001b[0m \u001b[33m0:00:00\u001b[0m\n",
      "\u001b[?25h\u001b[31m  ERROR: Cannot unpack file /tmp/pip-unpack-x0bx0pba/RESCRIPt.git (downloaded from /tmp/pip-req-build-w6ucicro, content-type: text/html; charset=utf-8); cannot detect archive format\u001b[0m\u001b[31m\n",
      "\u001b[0m\u001b[31mERROR: Cannot determine archive format of /tmp/pip-req-build-w6ucicro\u001b[0m\u001b[31m\n",
      "\u001b[0m"
     ]
    }
   ],
   "source": [
    "#! pip install https://github.com/bokulich-lab/RESCRIPt.git "
   ]
  },
  {
   "cell_type": "markdown",
   "id": "1a80e840",
   "metadata": {},
   "source": [
    "**Only run this if did not run the above and do not run the mkdir above as same folder names**"
   ]
  },
  {
   "cell_type": "code",
   "execution_count": 2,
   "id": "f9aae958",
   "metadata": {},
   "outputs": [
    {
     "name": "stdout",
     "output_type": "stream",
     "text": [
      "2022-10-25 12:43:47 URL:https://polybox.ethz.ch/index.php/s/pNA39R0rl2xMMj9/download [894620633] -> \"data.zip\" [1]\n",
      "mv: cannot move 'data2/taxonomy/database' to './database': File exists\n"
     ]
    }
   ],
   "source": [
    "if (curatedb == False):\n",
    "    ! wget -nv -O data.zip 'https://polybox.ethz.ch/index.php/s/pNA39R0rl2xMMj9/download'\n",
    "    ! unzip -q data.zip #-d $data_dir\n",
    "    ! mv data data2\n",
    "    ! mv data2/taxonomy/data .\n",
    "    ! mv data2/taxonomy/database .\n",
    "    ! rm -r data2\n",
    "    ! rm data.zip\n",
    "\n",
    "#! wget -nv -O $data_dir/data.zip 'https://polybox.ethz.ch/index.php/s/pNA39R0rl2xMMj9/download'\n",
    "#! unzip -q $data_dir/data.zip -d $data_dir\n",
    "#! rm $data_dir/data.zip"
   ]
  },
  {
   "cell_type": "code",
   "execution_count": 29,
   "id": "3842d0e0",
   "metadata": {},
   "outputs": [],
   "source": [
    "#PCR region extraction, Primers unknown\n",
    "#! qiime rescript extract-seq-segments \\\n",
    "#    --i-input-sequences $data_or/sequences_demux_paired.qza \\\n",
    "#    --i-reference-segment-sequences $database_dir/silva-138-ssu-nr99-tax-derep-uniq.qza \\\n",
    "#    --p-perc-identity 0.7 \\\n",
    "#    --p-min-seq-len 10 \\\n",
    "#    --p-threads 3 \\\n",
    "#    --o-extracted-sequence-segments data_dir/silva-138-ssu-nr99-tax-derep-uniq-extracted.qza \\\n",
    "#    --o-unmatched-sequences data_dir/silva-138-ssu-nr99-tax-derep-uniq-unmached.qza \\\n",
    "#    --verbose"
   ]
  },
  {
   "cell_type": "code",
   "execution_count": 30,
   "id": "3aece49d",
   "metadata": {
    "tags": []
   },
   "outputs": [],
   "source": [
    "#! qiime rescript --version"
   ]
  },
  {
   "cell_type": "code",
   "execution_count": 10,
   "id": "7e44084d",
   "metadata": {},
   "outputs": [],
   "source": [
    "#training taxanomic classifier\n",
    "# doesn't work, just stops, no output no error, WHY?\n",
    "# ! qiime feature-classifier fit-classifier-naive-bayes \\\n",
    "#   --i-reference-reads $database_dir/silva-138-ssu-nr99-seqs-derep-uniq.qza \\\n",
    "#   --i-reference-taxonomy $database_dir/silva-138-ssu-nr99-tax-derep-uniq.qza \\\n",
    "#   --o-classifier $database_dir/ML-515f-806r-classifier.qza"
   ]
  },
  {
   "cell_type": "code",
<<<<<<< HEAD
   "execution_count": 11,
   "id": "5546dc18",
=======
   "execution_count": 7,
   "id": "c46543ae-13fb-4ce0-990a-2b7bd7ba6e0b",
   "metadata": {},
   "outputs": [
    {
     "name": "stdout",
     "output_type": "stream",
     "text": [
      "/silva--138-99-nb-weighted-classifier.qza: Permission denied\n"
     ]
    }
   ],
   "source": [
    "#! wget -nv -O $database_dir/silva--138-99-nb-weighted-classifier.qza https://data.qiime2.org/2022.8/common/silva-138-99-nb-weighted-classifier.qza"
   ]
  },
  {
   "cell_type": "code",
   "execution_count": 2,
   "id": "fceca5bd-6009-4289-8625-0738f0cf150f",
   "metadata": {
    "tags": []
   },
   "outputs": [],
   "source": [
    "#taxonomic classification Silva database, weighted and pre-trained\n",
    "! qiime feature-classifier classify-sklearn \\\n",
    "    --i-classifier $database_dir/silva-138-99-nb-weighted-classifier.qza \\\n",
    "    --i-reads $ASVdata/PJNB_dada2_rep_set.qza \\\n",
    "    --o-classification $data_dir/PJNB-silva-taxonomy-classification.qza"
   ]
  },
  {
   "cell_type": "code",
   "execution_count": null,
   "id": "79687b96-a1ab-480e-b4a9-e03dc001b53a",
   "metadata": {},
   "outputs": [],
   "source": [
    "#visualization\n",
    "! qiime metadata tabulate \\\n",
    "    --m-input-file $data_dir/PJNB-silva-taxonomy-classification.qza \\\n",
    "    --o-visualization $data_dir/PJNB-silva-taxonomy-classification.qzv"
   ]
  },
  {
   "cell_type": "code",
   "execution_count": null,
   "id": "a84ea019-38a3-4af3-a0ce-f8e852adeb57",
   "metadata": {
    "tags": []
   },
   "outputs": [],
   "source": [
    "Visualization.load(f'{data_dir}/PJNB-silva-taxonomy-classification.qzv')"
   ]
  },
  {
   "cell_type": "code",
   "execution_count": null,
   "id": "68399b3d-27c7-452f-9383-cad48aa5afe9",
   "metadata": {},
   "outputs": [],
   "source": [
    "! qiime taxa barplot \\\n",
    "    --i-table $ASVdata/PJNB_dada2_table_.qza \\\n",
    "    --i-taxonomy $data_dir/silva-taxonomy-classification.qza \\\n",
    "    --m-metadata-file $data_or/metadata.tsv \\\n",
    "    --o-visualization $data_dir/PJNB-silva-taxa-prefiltered-bar-plots.qzv"
   ]
  },
  {
   "cell_type": "code",
   "execution_count": null,
   "id": "795405d5-6140-47f9-accf-739a7b16244b",
   "metadata": {
    "tags": []
   },
   "outputs": [],
   "source": [
    "Visualization.load(f'{data_dir}/PJNB-silva-taxa-prefiltered-bar-plots.qzv')"
   ]
  },
  {
   "cell_type": "code",
   "execution_count": null,
   "id": "4412b03a-407c-4433-9996-3cf8b268aa4b",
   "metadata": {},
   "outputs": [],
   "source": [
    "#filter sequences and table for mitochondria\n",
    "! qiime taxa filter-table \\\n",
    "    --i-table $ASVdata/PJNB_dada2_table_.qza \\\n",
    "    --i-taxonomy $data_dir/PJNB-silva-taxonomy-classification.qza \\\n",
    "    --p-exclude mitochondria,chloroplast \\\n",
    "    --o-filtered-table $data_dir/PJNB-silva-dada2-table-filtered.qza\n",
    "\n",
    "! qiime taxa filter-seqs \\\n",
    "    --i-sequences $ASVdata/PJNB_dada2_rep_set.qza \\\n",
    "    --i-taxonomy $data_dir/PJNB-silva-taxonomy-classification.qza \\\n",
    "    --p-exclude mitochondria \\\n",
    "    --o-filtered-sequences $data_dir/PJNB-silva-dada2_rep_set-filtered.qza"
   ]
  },
  {
   "cell_type": "code",
   "execution_count": null,
   "id": "ef0e6323-cf44-4837-b081-35241f69506f",
   "metadata": {},
   "outputs": [],
   "source": [
    "! qiime taxa barplot \\\n",
    "    --i-table $data_dir/PJNB-silva-dada2-table-filtered.qza \\\n",
    "    --i-taxonomy $data_dir/silva-taxonomy-classification.qza \\\n",
    "    --m-metadata-file $data_or/metadata.tsv \\\n",
    "    --o-visualization $data_dir/PJNB-silva-taxa-bar-plots-filtered.qzv"
   ]
  },
  {
   "cell_type": "code",
   "execution_count": null,
   "id": "594e763c-efcf-431b-975c-c71db87a1bfd",
   "metadata": {
    "tags": []
   },
   "outputs": [],
   "source": [
    "Visualization.load(f'{data_dir}/PJNB-silva-taxa-bar-plots-filtered.qzv')"
   ]
  },
  {
   "cell_type": "markdown",
   "id": "21e09ac9-cc01-437b-ba96-7ab79fa499f5",
   "metadata": {},
   "source": [
    "**GreenGenes database**"
   ]
  },
  {
   "cell_type": "code",
   "execution_count": 10,
   "id": "d7818e10-c5d4-4f80-ae07-660040955a28",
>>>>>>> PJNB
   "metadata": {},
   "outputs": [
    {
     "name": "stdout",
     "output_type": "stream",
     "text": [
      "2022-10-20 10:17:42 URL:https://s3-us-west-2.amazonaws.com/qiime2-data/2021.4/common/gg-13-8-99-515-806-nb-classifier.qza [28289645/28289645] -> \"database/515f-806r-classifier.qza\" [1]\n"
     ]
    }
   ],
   "source": [
    "! wget -nv -O $database_dir/515f-806r-classifier.qza https://data.qiime2.org/2021.4/common/gg-13-8-99-515-806-nb-classifier.qza"
   ]
  },
  {
   "cell_type": "code",
   "execution_count": 17,
   "id": "fe695292",
   "metadata": {},
   "outputs": [
    {
     "name": "stdout",
     "output_type": "stream",
     "text": [
      "\u001b[32mUUID\u001b[0m:        8f33c8bc-40ef-4dab-aafd-f4d3d817a474\n",
      "\u001b[32mType\u001b[0m:        FeatureData[Sequence]\n",
      "\u001b[32mData format\u001b[0m: DNASequencesDirectoryFormat\n"
     ]
    }
   ],
   "source": [
    "! qiime tools peek $ASVdata/PJNB_dada2_rep_set.qza"
   ]
  },
  {
   "cell_type": "code",
   "execution_count": 18,
   "id": "8782fd3e",
   "metadata": {},
   "outputs": [
    {
     "name": "stdout",
     "output_type": "stream",
     "text": [
      "\u001b[32mUUID\u001b[0m:        4b2a57b7-1e5a-4a4d-8201-99551ab50858\n",
      "\u001b[32mType\u001b[0m:        TaxonomicClassifier\n",
      "\u001b[32mData format\u001b[0m: TaxonomicClassiferTemporaryPickleDirFmt\n"
     ]
    }
   ],
   "source": [
    "! qiime tools peek $database_dir/515f-806r-classifier.qza"
   ]
  },
  {
   "cell_type": "code",
   "execution_count": 12,
   "id": "a3e8a6cd",
   "metadata": {
    "tags": []
   },
   "outputs": [
    {
     "name": "stdout",
     "output_type": "stream",
     "text": [
      "\u001b[32mSaved FeatureData[Taxonomy] to: data/taxonomy_classification.qza\u001b[0m\n",
      "\u001b[0m"
     ]
    }
   ],
   "source": [
    "#taxonomic classification I guess the greengenes database?\n",
    "! qiime feature-classifier classify-sklearn \\\n",
    "    --i-classifier $database_dir/515f-806r-classifier.qza \\\n",
    "    --i-reads $ASVdata/PJNB_dada2_rep_set.qza \\\n",
    "    --o-classification $data_dir/taxonomy_classification.qza"
   ]
  },
  {
   "cell_type": "code",
   "execution_count": 13,
   "id": "1aedf807",
   "metadata": {},
   "outputs": [
    {
     "name": "stdout",
     "output_type": "stream",
     "text": [
      "\u001b[32mSaved Visualization to: data/taxonomy_classification.qzv\u001b[0m\n",
      "\u001b[0m"
     ]
    }
   ],
   "source": [
    "#visualization\n",
    "! qiime metadata tabulate \\\n",
    "    --m-input-file $data_dir/taxonomy_classification.qza \\\n",
    "    --o-visualization $data_dir/taxonomy_classification.qzv"
   ]
  },
  {
   "cell_type": "code",
   "execution_count": 3,
   "id": "67b101cb",
   "metadata": {
    "tags": []
   },
   "outputs": [
    {
     "data": {
      "text/html": [
       "<div><img onload=\"(function(div, url){\n",
       "if (typeof require !== 'undefined') {\n",
       "    var baseURL = require.toUrl('').split('/').slice(0, -2).join('/');\n",
       "} else {\n",
       "    var baseURL = JSON.parse(\n",
       "        document.getElementById('jupyter-config-data').innerHTML\n",
       "    ).baseUrl.slice(0, -1);\n",
       "}\n",
       "url = baseURL + url;\n",
       "fetch(url).then(function(res) {\n",
       "    if (res.status === 404) {\n",
       "        div.innerHTML = 'Install QIIME 2 Jupyter extension with:<br />' +\n",
       "                        '<code>jupyter serverextension enable --py qiime2' +\n",
       "                        ' --sys-prefix</code><br />then restart your server.' +\n",
       "                        '<br /><br />(Interactive output not available on ' +\n",
       "                        'static notebook viewer services like nbviewer.)';\n",
       "    } else if (res.status === 409) {\n",
       "        div.innerHTML = 'Visualization no longer in scope. Re-run this cell' +\n",
       "                        ' to see the visualization.';\n",
       "    } else if (res.ok) {\n",
       "        url = res.url;\n",
       "        div.innerHTML = '<iframe src=\\'' + url + '\\' style=\\'' +\n",
       "                        'width: 100%; height: 700px; border: 0;\\'>' +\n",
       "                        '</iframe><hr />Open in a: <a href=\\'' + url + '\\'' +\n",
       "                        ' target=\\'_blank\\'>new window</a>'\n",
       "    } else {\n",
       "        div.innerHTML = 'Something has gone wrong. Check notebook server for' +\n",
       "                        ' errors.';\n",
       "    }\n",
       "});\n",
       "})(this.parentElement, '/qiime2/redirect?location=/tmp/qiime2-archive-d720xh5l')\" src=\"data:image/gif;base64,R0lGODlhAQABAIAAAP///wAAACH5BAEAAAAALAAAAAABAAEAAAICRAEAOw==\" /></div>"
      ],
      "text/plain": [
       "<visualization: Visualization uuid: 7d053ff6-b28a-4f11-aadc-555826f0442b>"
      ]
     },
     "execution_count": 3,
     "metadata": {},
     "output_type": "execute_result"
    }
   ],
   "source": [
    "Visualization.load(f'{data_dir}/taxonomy_classification.qzv')"
   ]
  },
  {
   "cell_type": "code",
   "execution_count": 18,
   "id": "b696db6a",
   "metadata": {},
   "outputs": [
    {
     "name": "stdout",
     "output_type": "stream",
     "text": [
      "\u001b[32mSaved Visualization to: data/taxa-prefiltered-bar-plots.qzv\u001b[0m\n",
      "\u001b[0m"
     ]
    }
   ],
   "source": [
    "! qiime taxa barplot \\\n",
    "    --i-table $ASVdata/PJNB_dada2_table_.qza \\\n",
    "    --i-taxonomy $data_dir/taxonomy_classification.qza \\\n",
    "    --m-metadata-file $data_or/metadata.tsv \\\n",
    "    --o-visualization $data_dir/taxa-prefiltered-bar-plots.qzv"
   ]
  },
  {
   "cell_type": "code",
   "execution_count": 8,
   "id": "adee6a94",
   "metadata": {
    "tags": []
   },
   "outputs": [
    {
     "data": {
      "text/html": [
       "<div><img onload=\"(function(div, url){\n",
       "if (typeof require !== 'undefined') {\n",
       "    var baseURL = require.toUrl('').split('/').slice(0, -2).join('/');\n",
       "} else {\n",
       "    var baseURL = JSON.parse(\n",
       "        document.getElementById('jupyter-config-data').innerHTML\n",
       "    ).baseUrl.slice(0, -1);\n",
       "}\n",
       "url = baseURL + url;\n",
       "fetch(url).then(function(res) {\n",
       "    if (res.status === 404) {\n",
       "        div.innerHTML = 'Install QIIME 2 Jupyter extension with:<br />' +\n",
       "                        '<code>jupyter serverextension enable --py qiime2' +\n",
       "                        ' --sys-prefix</code><br />then restart your server.' +\n",
       "                        '<br /><br />(Interactive output not available on ' +\n",
       "                        'static notebook viewer services like nbviewer.)';\n",
       "    } else if (res.status === 409) {\n",
       "        div.innerHTML = 'Visualization no longer in scope. Re-run this cell' +\n",
       "                        ' to see the visualization.';\n",
       "    } else if (res.ok) {\n",
       "        url = res.url;\n",
       "        div.innerHTML = '<iframe src=\\'' + url + '\\' style=\\'' +\n",
       "                        'width: 100%; height: 700px; border: 0;\\'>' +\n",
       "                        '</iframe><hr />Open in a: <a href=\\'' + url + '\\'' +\n",
       "                        ' target=\\'_blank\\'>new window</a>'\n",
       "    } else {\n",
       "        div.innerHTML = 'Something has gone wrong. Check notebook server for' +\n",
       "                        ' errors.';\n",
       "    }\n",
       "});\n",
       "})(this.parentElement, '/qiime2/redirect?location=/tmp/qiime2-archive-oe3fi7nu')\" src=\"data:image/gif;base64,R0lGODlhAQABAIAAAP///wAAACH5BAEAAAAALAAAAAABAAEAAAICRAEAOw==\" /></div>"
      ],
      "text/plain": [
       "<visualization: Visualization uuid: 14fb3e71-6374-426d-bb8a-d4e6e71303cc>"
      ]
     },
     "execution_count": 8,
     "metadata": {},
     "output_type": "execute_result"
    }
   ],
   "source": [
    "Visualization.load(f'{data_dir}/taxa-prefiltered-bar-plots.qzv')"
   ]
  },
  {
   "cell_type": "code",
   "execution_count": 21,
   "id": "8edec02b",
   "metadata": {},
   "outputs": [
    {
     "name": "stdout",
     "output_type": "stream",
     "text": [
      "\u001b[32mSaved FeatureTable[Frequency] to: data/PJNB_dada2_table-filtered.qza\u001b[0m\n",
      "\u001b[0m\u001b[32mSaved FeatureData[Sequence] to: data//PJNB_dada2_rep_set-filtered.qza\u001b[0m\n",
      "\u001b[0m"
     ]
    }
   ],
   "source": [
    "#filter sequences and table for mitochondria\n",
    "! qiime taxa filter-table \\\n",
    "    --i-table $ASVdata/PJNB_dada2_table_.qza \\\n",
    "    --i-taxonomy $data_dir/taxonomy_classification.qza \\\n",
    "    --p-exclude mitochondria,chloroplast \\\n",
    "    --o-filtered-table $data_dir/PJNB_dada2_table-filtered.qza\n",
    "\n",
    "! qiime taxa filter-seqs \\\n",
    "    --i-sequences $ASVdata/PJNB_dada2_rep_set.qza \\\n",
    "    --i-taxonomy $data_dir/taxonomy_classification.qza \\\n",
    "    --p-exclude mitochondria \\\n",
    "    --o-filtered-sequences $data_dir/PJNB_dada2_rep_set-filtered.qza"
   ]
  },
  {
   "cell_type": "code",
   "execution_count": 23,
   "id": "41168ede",
   "metadata": {},
   "outputs": [
    {
     "name": "stdout",
     "output_type": "stream",
     "text": [
      "\u001b[32mSaved Visualization to: data/taxa-bar-plots-filtered.qzv\u001b[0m\n",
      "\u001b[0m"
     ]
    }
   ],
   "source": [
    "! qiime taxa barplot \\\n",
    "    --i-table $data_dir/PJNB_dada2_table-filtered.qza \\\n",
    "    --i-taxonomy $data_dir/taxonomy_classification.qza \\\n",
    "    --m-metadata-file $data_or/metadata.tsv \\\n",
    "    --o-visualization $data_dir/taxa-bar-plots-filtered.qzv"
   ]
  },
  {
   "cell_type": "code",
   "execution_count": 9,
   "id": "f0d53a7d",
   "metadata": {
    "tags": []
   },
   "outputs": [
    {
     "data": {
      "text/html": [
       "<div><img onload=\"(function(div, url){\n",
       "if (typeof require !== 'undefined') {\n",
       "    var baseURL = require.toUrl('').split('/').slice(0, -2).join('/');\n",
       "} else {\n",
       "    var baseURL = JSON.parse(\n",
       "        document.getElementById('jupyter-config-data').innerHTML\n",
       "    ).baseUrl.slice(0, -1);\n",
       "}\n",
       "url = baseURL + url;\n",
       "fetch(url).then(function(res) {\n",
       "    if (res.status === 404) {\n",
       "        div.innerHTML = 'Install QIIME 2 Jupyter extension with:<br />' +\n",
       "                        '<code>jupyter serverextension enable --py qiime2' +\n",
       "                        ' --sys-prefix</code><br />then restart your server.' +\n",
       "                        '<br /><br />(Interactive output not available on ' +\n",
       "                        'static notebook viewer services like nbviewer.)';\n",
       "    } else if (res.status === 409) {\n",
       "        div.innerHTML = 'Visualization no longer in scope. Re-run this cell' +\n",
       "                        ' to see the visualization.';\n",
       "    } else if (res.ok) {\n",
       "        url = res.url;\n",
       "        div.innerHTML = '<iframe src=\\'' + url + '\\' style=\\'' +\n",
       "                        'width: 100%; height: 700px; border: 0;\\'>' +\n",
       "                        '</iframe><hr />Open in a: <a href=\\'' + url + '\\'' +\n",
       "                        ' target=\\'_blank\\'>new window</a>'\n",
       "    } else {\n",
       "        div.innerHTML = 'Something has gone wrong. Check notebook server for' +\n",
       "                        ' errors.';\n",
       "    }\n",
       "});\n",
       "})(this.parentElement, '/qiime2/redirect?location=/tmp/qiime2-archive-85lutgrr')\" src=\"data:image/gif;base64,R0lGODlhAQABAIAAAP///wAAACH5BAEAAAAALAAAAAABAAEAAAICRAEAOw==\" /></div>"
      ],
      "text/plain": [
       "<visualization: Visualization uuid: 27ae5207-2b1d-4a5f-85cc-71548d9b1c3f>"
      ]
     },
     "execution_count": 9,
     "metadata": {},
     "output_type": "execute_result"
    }
   ],
   "source": [
    "Visualization.load(f'{data_dir}/taxa-bar-plots-filtered.qzv')"
   ]
  },
  {
   "cell_type": "markdown",
   "id": "8a10b689",
   "metadata": {},
   "source": [
    "**GTDB database**"
   ]
  },
  {
   "cell_type": "code",
   "execution_count": 14,
   "id": "ee85e7ee",
   "metadata": {},
   "outputs": [
    {
     "name": "stdout",
     "output_type": "stream",
     "text": [
      "2022-10-19 09:53:20 URL:https://data.gtdb.ecogenomic.org/releases/release202/202.0/bac120_taxonomy_r202.tsv.gz [2469383/2469383] -> \"database/bac120_taxonomy_r202.tsv.gz\" [1]\n",
      "2022-10-19 09:53:42 URL:https://data.gtdb.ecogenomic.org/releases/release202/202.0/genomic_files_reps/bac120_ssu_reps_r202.tar.gz [10949720/10949720] -> \"database/bac120_ssu_reps_r202.tar.gz\" [1]\n",
      "bac120_ssu_reps_r202.fna\n"
     ]
    }
   ],
   "source": [
    "# Bacteria\n",
    "! wget -nv -O $database_dir/bac120_taxonomy_r202.tsv.gz https://data.gtdb.ecogenomic.org/releases/release202/202.0/bac120_taxonomy_r202.tsv.gz\n",
    "! gunzip $database_dir/bac120_taxonomy_r202.tsv.gz\n",
    "! wget -nv -O $database_dir/bac120_ssu_reps_r202.tar.gz https://data.gtdb.ecogenomic.org/releases/release202/202.0/genomic_files_reps/bac120_ssu_reps_r202.tar.gz\n",
    "! tar -xvf $database_dir/bac120_ssu_reps_r202.tar.gz -C $database_dir/"
   ]
  },
  {
   "cell_type": "code",
   "execution_count": 15,
   "id": "4895c192",
   "metadata": {},
   "outputs": [
    {
     "name": "stdout",
     "output_type": "stream",
     "text": [
      "2022-10-19 09:54:04 URL:https://data.gtdb.ecogenomic.org/releases/release202/202.0/ar122_taxonomy_r202.tsv.gz [63238/63238] -> \"database/ar122_taxonomy_r202.tsv.gz\" [1]\n",
      "2022-10-19 09:54:09 URL:https://data.gtdb.ecogenomic.org/releases/release202/202.0/genomic_files_reps/ar122_ssu_reps_r202.tar.gz [541133/541133] -> \"database/ar122_ssu_reps_r202.tar.gz\" [1]\n",
      "ar122_ssu_reps_r202.fna\n"
     ]
    }
   ],
   "source": [
    "#Archaea\n",
    "! wget -nv -O $database_dir/ar122_taxonomy_r202.tsv.gz https://data.gtdb.ecogenomic.org/releases/release202/202.0/ar122_taxonomy_r202.tsv.gz\n",
    "! gunzip $database_dir/ar122_taxonomy_r202.tsv.gz\n",
    "\n",
    "! wget -nv -O $database_dir/ar122_ssu_reps_r202.tar.gz https://data.gtdb.ecogenomic.org/releases/release202/202.0/genomic_files_reps/ar122_ssu_reps_r202.tar.gz\n",
    "! tar -xvf  $database_dir/ar122_ssu_reps_r202.tar.gz -C $database_dir/"
   ]
  },
  {
   "cell_type": "code",
   "execution_count": 16,
   "id": "a8f932a7",
   "metadata": {},
   "outputs": [
    {
     "name": "stdout",
     "output_type": "stream",
     "text": [
      "\u001b[32mImported database/bac120_ssu_reps_r202.fna as DNASequencesDirectoryFormat to database/bact_seqs.qza\u001b[0m\n",
      "\u001b[0m\u001b[32mImported database/bac120_taxonomy_r202.tsv as HeaderlessTSVTaxonomyFormat to database/bact_tax.qza\u001b[0m\n",
      "\u001b[0m\u001b[32mImported database/ar122_ssu_reps_r202.fna as DNASequencesDirectoryFormat to database/arch_seqs.qza\u001b[0m\n",
      "\u001b[0m\u001b[32mImported database/ar122_taxonomy_r202.tsv as HeaderlessTSVTaxonomyFormat to database/arch_tax.qza\u001b[0m\n",
      "\u001b[0m"
     ]
    }
   ],
   "source": [
    "# Bacteria\n",
    "! qiime tools import \\\n",
    "    --input-path $database_dir/bac120_ssu_reps_r202.fna \\\n",
    "    --type 'FeatureData[Sequence]' \\\n",
    "    --output-path $database_dir/bact_seqs.qza\n",
    "\n",
    "! qiime tools import \\\n",
    "    --input-path $database_dir/bac120_taxonomy_r202.tsv \\\n",
    "    --type 'FeatureData[Taxonomy]' \\\n",
    "    --input-format 'HeaderlessTSVTaxonomyFormat' \\\n",
    "    --output-path $database_dir/bact_tax.qza\n",
    "\n",
    "\n",
    "# Archaea\n",
    "! qiime tools import \\\n",
    "    --input-path $database_dir/ar122_ssu_reps_r202.fna \\\n",
    "    --type 'FeatureData[Sequence]' \\\n",
    "    --output-path $database_dir/arch_seqs.qza\n",
    "\n",
    "! qiime tools import \\\n",
    "      --input-path $database_dir/ar122_taxonomy_r202.tsv \\\n",
    "      --type 'FeatureData[Taxonomy]' \\\n",
    "      --input-format 'HeaderlessTSVTaxonomyFormat' \\\n",
    "      --output-path $database_dir/arch_tax.qza"
   ]
  },
  {
   "cell_type": "code",
   "execution_count": 3,
   "id": "064c9426",
   "metadata": {},
   "outputs": [
    {
     "name": "stdout",
     "output_type": "stream",
     "text": [
      "\u001b[32mSaved FeatureData[Taxonomy] to: database/gtdb_tax.qza\u001b[0m\n",
      "\u001b[0m\u001b[32mSaved FeatureData[Sequence] to: database/gtdb_seqs.qza\u001b[0m\n",
      "\u001b[0m"
     ]
    }
   ],
   "source": [
    "! qiime feature-table merge-taxa \\\n",
    "      --i-data $database_dir/bact_tax.qza \\\n",
    "      --o-merged-data $database_dir/gtdb_tax.qza\n",
    "\n",
    "! qiime feature-table merge-seqs \\\n",
    "      --i-data $database_dir/bact_seqs.qza \\\n",
    "      --o-merged-data $database_dir/gtdb_seqs.qza"
   ]
  },
  {
   "cell_type": "code",
   "execution_count": 4,
   "id": "9a06a1f3",
   "metadata": {},
   "outputs": [
    {
     "name": "stdout",
     "output_type": "stream",
     "text": [
      "\u001b[32mSaved FeatureData[Sequence] to: database/gtdb_seqs-cleaned.qza\u001b[0m\n",
      "\u001b[0m"
     ]
    }
   ],
   "source": [
    "! qiime rescript cull-seqs \\\n",
    "     --i-sequences $database_dir/gtdb_seqs.qza \\\n",
    "     --p-num-degenerates 5 \\\n",
    "     --p-homopolymer-length 8 \\\n",
    "     --p-n-jobs 3 \\\n",
    "     --o-clean-sequences $database_dir/gtdb_seqs-cleaned.qza"
   ]
  },
  {
   "cell_type": "code",
   "execution_count": 5,
   "id": "7752aa0d",
   "metadata": {},
   "outputs": [
    {
     "name": "stdout",
     "output_type": "stream",
     "text": [
      "\u001b[32mSaved FeatureData[Sequence] to: database/gtdb_seqs-cleaned-filt.qza\u001b[0m\n",
      "\u001b[32mSaved FeatureData[Sequence] to: database/gtdb_seqs-cleaned-discard.qza\u001b[0m\n",
      "\u001b[0m"
     ]
    }
   ],
   "source": [
    "! qiime rescript filter-seqs-length-by-taxon \\\n",
    "    --i-sequences $database_dir/gtdb_seqs-cleaned.qza \\\n",
    "    --i-taxonomy $database_dir/gtdb_tax.qza \\\n",
    "    --p-labels Archaea Bacteria \\\n",
    "    --p-min-lens 900 1200 \\\n",
    "    --o-filtered-seqs $database_dir/gtdb_seqs-cleaned-filt.qza \\\n",
    "    --o-discarded-seqs $database_dir/gtdb_seqs-cleaned-discard.qza"
   ]
  },
  {
   "cell_type": "code",
   "execution_count": 6,
   "id": "74c57601",
   "metadata": {},
   "outputs": [
    {
     "name": "stdout",
     "output_type": "stream",
     "text": [
      "\u001b[32mSaved FeatureData[Sequence] to: database/gtdb_seqs-derep-uniq.qza\u001b[0m\n",
      "\u001b[32mSaved FeatureData[Taxonomy] to: database/gtdb_tax-derep-uniq.qza\u001b[0m\n",
      "\u001b[0m"
     ]
    }
   ],
   "source": [
    "! qiime rescript dereplicate \\\n",
    "    --i-sequences $database_dir/gtdb_seqs-cleaned-filt.qza  \\\n",
    "    --i-taxa $database_dir/gtdb_tax.qza \\\n",
    "    --p-rank-handles 'silva' \\\n",
    "    --p-mode 'uniq' \\\n",
    "    --p-threads 3 \\\n",
    "    --o-dereplicated-sequences $database_dir/gtdb_seqs-derep-uniq.qza \\\n",
    "    --o-dereplicated-taxa $database_dir/gtdb_tax-derep-uniq.qza"
   ]
  },
  {
   "cell_type": "code",
   "execution_count": 7,
   "id": "bf704b05",
   "metadata": {},
   "outputs": [
    {
     "name": "stdout",
     "output_type": "stream",
     "text": [
      "\u001b[32mUUID\u001b[0m:        391e6e56-a13f-49cb-a5da-191ad97c6a20\n",
      "\u001b[32mType\u001b[0m:        FeatureData[Sequence]\n",
      "\u001b[32mData format\u001b[0m: DNASequencesDirectoryFormat\n"
     ]
    }
   ],
   "source": [
    "! qiime tools peek $database_dir/gtdb_seqs-derep-uniq.qza"
   ]
  },
  {
   "cell_type": "code",
   "execution_count": 8,
   "id": "2e72f5d3",
   "metadata": {},
   "outputs": [
    {
     "name": "stdout",
     "output_type": "stream",
     "text": [
      "\u001b[32mUUID\u001b[0m:        1e06f9cc-9e31-43fe-8aad-ada9e25f5ecc\n",
      "\u001b[32mType\u001b[0m:        FeatureData[Taxonomy]\n",
      "\u001b[32mData format\u001b[0m: TSVTaxonomyDirectoryFormat\n"
     ]
    }
   ],
   "source": [
    "! qiime tools peek $database_dir/gtdb_tax-derep-uniq.qza"
   ]
  },
  {
   "cell_type": "code",
   "execution_count": 2,
   "id": "541b0188",
   "metadata": {
    "tags": []
   },
   "outputs": [],
   "source": [
    "#training classifier\n",
    "! qiime feature-classifier fit-classifier-naive-bayes \\\n",
    "      --i-reference-reads $database_dir/gtdb_seqs-derep-uniq.qza \\\n",
    "      --i-reference-taxonomy $database_dir/gtdb_tax-derep-uniq.qza \\\n",
    "      --o-classifier $database_dir/gtdb-curated-classifier.qza"
   ]
  },
  {
   "cell_type": "code",
   "execution_count": 3,
   "id": "6f12d3b2",
   "metadata": {
    "collapsed": true,
    "jupyter": {
     "outputs_hidden": true
    },
    "tags": []
   },
   "outputs": [
    {
     "name": "stdout",
     "output_type": "stream",
     "text": [
      "Usage: \u001b[94mqiime feature-classifier classify-sklearn\u001b[0m [OPTIONS]\n",
      "\n",
      "  Classify reads by taxon using a fitted classifier.\n",
      "\n",
      "\u001b[1mInputs\u001b[0m:\n",
      "  \u001b[94m\u001b[4m--i-reads\u001b[0m ARTIFACT \u001b[32mFeatureData[Sequence]\u001b[0m\n",
      "                         The feature data to be classified.         \u001b[35m[required]\u001b[0m\n",
      "  \u001b[94m\u001b[4m--i-classifier\u001b[0m ARTIFACT\n",
      "    \u001b[32mTaxonomicClassifier\u001b[0m  The taxonomic classifier for classifying the reads.\n",
      "                                                                    \u001b[35m[required]\u001b[0m\n",
      "\u001b[1mParameters\u001b[0m:\n",
      "  \u001b[94m--p-reads-per-batch\u001b[0m VALUE \u001b[32mInt % Range(1, None) | Str % Choices('auto')\u001b[0m\n",
      "                         Number of reads to process in each batch. If \"auto\",\n",
      "                         this parameter is autoscaled to min( number of query\n",
      "                         sequences / \u001b[4mn-jobs\u001b[0m, 20000).         \u001b[35m[default: 'auto']\u001b[0m\n",
      "  \u001b[94m--p-n-jobs\u001b[0m INTEGER     The maximum number of concurrently worker processes.\n",
      "                         If -1 all CPUs are used. If 1 is given, no parallel\n",
      "                         computing code is used at all, which is useful for\n",
      "                         debugging. For \u001b[4mn-jobs\u001b[0m below -1, (n_cpus + 1 + \u001b[4mn-jobs\u001b[0m)\n",
      "                         are used. Thus for \u001b[4mn-jobs\u001b[0m = -2, all CPUs but one are\n",
      "                         used.                                    \u001b[35m[default: 1]\u001b[0m\n",
      "  \u001b[94m--p-pre-dispatch\u001b[0m TEXT  \"all\" or expression, as in \"3*n_jobs\". The number of\n",
      "                         batches (of tasks) to be pre-dispatched.\n",
      "                                                         \u001b[35m[default: '2*n_jobs']\u001b[0m\n",
      "  \u001b[94m--p-confidence\u001b[0m VALUE \u001b[32mFloat % Range(0, 1, inclusive_end=True) | Str %\u001b[0m\n",
      "    \u001b[32mChoices('disable')\u001b[0m   Confidence threshold for limiting taxonomic depth.\n",
      "                         Set to \"disable\" to disable confidence calculation,\n",
      "                         or 0 to calculate confidence but not apply it to\n",
      "                         limit the taxonomic depth of the assignments.\n",
      "                                                                \u001b[35m[default: 0.7]\u001b[0m\n",
      "  \u001b[94m--p-read-orientation\u001b[0m TEXT \u001b[32mChoices('same', 'reverse-complement', 'auto')\u001b[0m\n",
      "                         Direction of reads with respect to reference\n",
      "                         sequences. same will cause reads to be classified\n",
      "                         unchanged; reverse-complement will cause reads to be\n",
      "                         reversed and complemented prior to classification.\n",
      "                         \"auto\" will autodetect orientation based on the\n",
      "                         confidence estimates for the first 100 reads.\n",
      "                                                             \u001b[35m[default: 'auto']\u001b[0m\n",
      "\u001b[1mOutputs\u001b[0m:\n",
      "  \u001b[94m\u001b[4m--o-classification\u001b[0m ARTIFACT \u001b[32mFeatureData[Taxonomy]\u001b[0m\n",
      "                                                                    \u001b[35m[required]\u001b[0m\n",
      "\u001b[1mMiscellaneous\u001b[0m:\n",
      "  \u001b[94m--output-dir\u001b[0m PATH      Output unspecified results to a directory\n",
      "  \u001b[94m--verbose\u001b[0m / \u001b[94m--quiet\u001b[0m    Display verbose output to stdout and/or stderr\n",
      "                         during execution of this action. Or silence output if\n",
      "                         execution is successful (silence is golden).\n",
      "  \u001b[94m--example-data\u001b[0m PATH    Write example data and exit.\n",
      "  \u001b[94m--citations\u001b[0m            Show citations and exit.\n",
      "  \u001b[94m--help\u001b[0m                 Show this message and exit.\n",
      "\n",
      "\u001b[33m                    There was a problem with the command:                     \u001b[0m\n",
      "\u001b[31m\u001b[1m (1/1) Invalid value for '--i-classifier': 'database/gtdb-curated-\n",
      "  classifier.qza' is not a valid filepath\u001b[0m\n",
      "\u001b[0m"
     ]
    }
   ],
   "source": [
    "#taxonomic classification with gtdb trained classifier\n",
    "! qiime feature-classifier classify-sklearn \\\n",
    "    --i-classifier $database_dir/gtdb-curated-classifier.qza \\\n",
    "    --i-reads $ASVdata/PJNB_dada2_rep_set.qza \\\n",
    "    --o-classification $data_dir/taxonomy_classification-gtdb.qza"
   ]
  },
  {
   "cell_type": "code",
   "execution_count": null,
   "id": "9ab340e3",
   "metadata": {},
   "outputs": [],
   "source": [
    "#filter sequences and table for mitochondria\n",
    "! qiime taxa filter-table \\\n",
    "    --i-table $ASVdata/PJNB_dada2_table_.qza \\\n",
    "    --i-taxonomy $data_dir/taxonomy_classification-gtdb.qza \\\n",
    "    --p-exclude mitochondria,chloroplast \\\n",
    "    --o-filtered-table $data_dir/PJNB_dada2_table-gtdb-filtered.qza\n",
    "\n",
    "! qiime taxa filter-seqs \\\n",
    "    --i-sequences $ASVdata/PJNB_dada2_rep_set.qza \\\n",
    "    --i-taxonomy $data_dir/taxonomy_classification-gtdb.qza \\\n",
    "    --p-exclude mitochondria \\\n",
    "    --o-filtered-sequences $data_dir/PJNB_dada2_rep_set-gtdb-filtered.qza"
   ]
  },
  {
   "cell_type": "code",
   "execution_count": null,
   "id": "0f050c9f",
   "metadata": {
    "tags": []
   },
   "outputs": [],
   "source": [
    "#visualization\n",
    "! qiime metadata tabulate \\\n",
    "    --m-input-file $data_dir/taxonomy_classification-gtdb.qza \\\n",
    "    --o-visualization $data_dir/taxonomy_classification-gtdb.qzv"
   ]
  },
  {
   "cell_type": "code",
   "execution_count": null,
   "id": "530f8c27",
   "metadata": {
    "tags": []
   },
   "outputs": [],
   "source": [
    "Visualization.load(f'{data_dir}/taxonomy_classification-gtdb.qzv')"
   ]
  },
  {
   "cell_type": "code",
   "execution_count": null,
   "id": "c5929dbb",
   "metadata": {},
   "outputs": [],
   "source": [
    "! qiime taxa barplot \\\n",
    "    --i-table $data_dir/PJNB_dada2_table-gtdb-filtered.qza \\\n",
    "    --i-taxonomy $data_dir/taxonomy_classification-gtdb.qza \\\n",
    "    --m-metadata-file $data_or/metadata.tsv \\\n",
    "    --o-visualization $data_dir/taxa-gtd-bar-plots-filtered.qzv"
   ]
  },
  {
   "cell_type": "code",
   "execution_count": null,
   "id": "c17045c8",
   "metadata": {
    "tags": []
   },
   "outputs": [],
   "source": [
    "Visualization.load(f'{data_dir}/taxa-gtdb-bar-plots-filtered.qzv')"
   ]
  },
  {
<<<<<<< HEAD
   "cell_type": "markdown",
   "id": "58a3af42",
=======
   "cell_type": "code",
   "execution_count": 6,
   "id": "6df6cfab-7718-4b81-98af-f29f884d5c58",
>>>>>>> PJNB
   "metadata": {},
   "outputs": [
    {
     "name": "stdout",
     "output_type": "stream",
     "text": [
      "/gg-13-8-99-nb-weighted-classifier.qza: Permission denied\n"
     ]
    }
   ],
   "source": [
    "! wget -nv -O $database_dir/gg-13-8-99-nb-weighted-classifier.qza https://data.qiime2.org/2021.4/common/gg-13-8-99-nb-classifier.qza"
   ]
  },
  {
   "cell_type": "code",
   "execution_count": null,
<<<<<<< HEAD
   "id": "0d8fe7de",
=======
   "id": "9c0fe5cd-37bd-4e91-8b0b-2618eda28b67",
>>>>>>> PJNB
   "metadata": {},
   "outputs": [],
   "source": []
  }
 ],
 "metadata": {
  "kernelspec": {
   "display_name": "Python 3 (ipykernel)",
   "language": "python",
   "name": "python3"
  },
  "language_info": {
   "codemirror_mode": {
    "name": "ipython",
    "version": 3
   },
   "file_extension": ".py",
   "mimetype": "text/x-python",
   "name": "python",
   "nbconvert_exporter": "python",
   "pygments_lexer": "ipython3",
   "version": "3.8.13"
  }
 },
 "nbformat": 4,
 "nbformat_minor": 5
}
