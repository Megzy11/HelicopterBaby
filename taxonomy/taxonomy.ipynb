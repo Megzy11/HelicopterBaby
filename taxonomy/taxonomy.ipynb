{
 "cells": [
  {
   "cell_type": "code",
   "execution_count": 8,
   "id": "76d50b83-ce0d-4296-b80f-d9162f1d8ca4",
   "metadata": {},
   "outputs": [],
   "source": [
    "import os\n",
    "import pandas as pd\n",
    "from qiime2 import Visualization\n",
    "import matplotlib.pyplot as plt\n",
    "import numpy as np\n",
    "\n",
    "import qiime2 as q2\n",
    "\n",
    "data_dir = \"data\"\n",
    "data_or = \"../data\"\n",
    "database_dir = \"database\"\n",
    "ASVdata = \"../ASV/data\""
   ]
  },
  {
   "cell_type": "markdown",
   "id": "91c6d687-3a1a-4a15-964f-542013f6e60d",
   "metadata": {},
   "source": [
    "**Explanation**\\\n",
    "It is here a bit difficult with the data paths: The data_dir is for the data generated here, the data_or is for the input sequences and metadata (in the data folder), the database_dir is for the steps of database curation, ASVdata is for the files generated in the clustering notebook."
   ]
  },
  {
   "cell_type": "markdown",
   "id": "fa2daf61-0a35-4cc6-b291-1266a6548c74",
   "metadata": {},
   "source": [
    "**Silva database curation**"
   ]
  },
  {
   "cell_type": "code",
   "execution_count": 25,
   "id": "34174d35-f027-483d-be71-a59e347f5fdd",
   "metadata": {},
   "outputs": [
    {
     "name": "stdout",
     "output_type": "stream",
     "text": [
      "\u001b[32mSaved FeatureData[RNASequence] to: database/silva-138-ssu-nr99-seqs.qza\u001b[0m\n",
      "\u001b[32mSaved FeatureData[Taxonomy] to: database/silva-138-ssu-nr99-tax.qza\u001b[0m\n",
      "\u001b[0m"
     ]
    }
   ],
   "source": [
    "! qiime rescript get-silva-data \\\n",
    "    --p-version '138' \\\n",
    "    --p-target 'SSURef_NR99' \\\n",
    "    --p-include-species-labels \\\n",
    "    --o-silva-sequences $database_dir/silva-138-ssu-nr99-seqs.qza \\\n",
    "    --o-silva-taxonomy $database_dir/silva-138-ssu-nr99-tax.qza"
   ]
  },
  {
   "cell_type": "code",
   "execution_count": 26,
   "id": "ef3f0a8e-1364-49a0-9e46-d78d3adeb95c",
   "metadata": {},
   "outputs": [
    {
     "name": "stdout",
     "output_type": "stream",
     "text": [
      "\u001b[32mSaved FeatureData[Sequence] to: database/silva-138-ssu-nr99-seqs-cleaned.qza\u001b[0m\n",
      "\u001b[0m"
     ]
    }
   ],
   "source": [
    "! qiime rescript cull-seqs \\\n",
    "     --i-sequences $database_dir/silva-138-ssu-nr99-seqs.qza \\\n",
    "     --p-num-degenerates 5 \\\n",
    "     --p-homopolymer-length 8 \\\n",
    "     --p-n-jobs 3 \\\n",
    "     --o-clean-sequences $database_dir/silva-138-ssu-nr99-seqs-cleaned.qza"
   ]
  },
  {
   "cell_type": "code",
   "execution_count": 27,
   "id": "9826eaab-4a89-4265-9335-03b187543a5b",
   "metadata": {},
   "outputs": [
    {
     "name": "stdout",
     "output_type": "stream",
     "text": [
      "\u001b[32mSaved FeatureData[Sequence] to: database/silva-138-ssu-nr99-seqs-filt.qza\u001b[0m\n",
      "\u001b[32mSaved FeatureData[Sequence] to: database/silva-138-ssu-nr99-seqs-discard.qza\u001b[0m\n",
      "\u001b[0m"
     ]
    }
   ],
   "source": [
    "! qiime rescript filter-seqs-length-by-taxon \\\n",
    "    --i-sequences $database_dir/silva-138-ssu-nr99-seqs-cleaned.qza \\\n",
    "    --i-taxonomy $database_dir/silva-138-ssu-nr99-tax.qza \\\n",
    "    --p-labels Archaea Bacteria Eukaryota \\\n",
    "    --p-min-lens 900 1200 1400 \\\n",
    "    --o-filtered-seqs $database_dir/silva-138-ssu-nr99-seqs-filt.qza \\\n",
    "    --o-discarded-seqs $database_dir/silva-138-ssu-nr99-seqs-discard.qza"
   ]
  },
  {
   "cell_type": "code",
   "execution_count": 28,
   "id": "324696f1-047b-4fde-b348-f1bff6d65d33",
   "metadata": {},
   "outputs": [
    {
     "name": "stdout",
     "output_type": "stream",
     "text": [
      "\u001b[32mSaved FeatureData[Sequence] to: database/silva-138-ssu-nr99-seqs-derep-uniq.qza\u001b[0m\n",
      "\u001b[32mSaved FeatureData[Taxonomy] to: database/silva-138-ssu-nr99-tax-derep-uniq.qza\u001b[0m\n",
      "\u001b[0m"
     ]
    }
   ],
   "source": [
    "! qiime rescript dereplicate \\\n",
    "    --i-sequences $database_dir/silva-138-ssu-nr99-seqs-filt.qza  \\\n",
    "    --i-taxa $database_dir/silva-138-ssu-nr99-tax.qza \\\n",
    "    --p-rank-handles 'silva' \\\n",
    "    --p-mode 'uniq' \\\n",
    "    --p-threads 3 \\\n",
    "    --o-dereplicated-sequences $database_dir/silva-138-ssu-nr99-seqs-derep-uniq.qza \\\n",
    "    --o-dereplicated-taxa $database_dir/silva-138-ssu-nr99-tax-derep-uniq.qza"
   ]
  },
  {
   "cell_type": "code",
   "execution_count": 3,
   "id": "583a3d57-7a57-4eaa-ab05-1897d535aa54",
   "metadata": {},
   "outputs": [
    {
     "name": "stdout",
     "output_type": "stream",
     "text": [
      "Collecting https://github.com/bokulich-lab/RESCRIPt.git\n",
      "  Downloading https://github.com/bokulich-lab/RESCRIPt.git\n",
      "\u001b[2K     \u001b[32m-\u001b[0m \u001b[32m222.7 kB\u001b[0m \u001b[31m7.9 MB/s\u001b[0m \u001b[33m0:00:00\u001b[0m\n",
      "\u001b[?25h\u001b[31m  ERROR: Cannot unpack file /tmp/pip-unpack-awapyz8a/RESCRIPt.git (downloaded from /tmp/pip-req-build-9l72e62g, content-type: text/html; charset=utf-8); cannot detect archive format\u001b[0m\u001b[31m\n",
      "\u001b[0m\u001b[31mERROR: Cannot determine archive format of /tmp/pip-req-build-9l72e62g\u001b[0m\u001b[31m\n",
      "\u001b[0m"
     ]
    }
   ],
   "source": [
    "#! pip install https://github.com/bokulich-lab/RESCRIPt.git "
   ]
  },
  {
   "cell_type": "code",
   "execution_count": 29,
   "id": "1267efc3-ba59-482c-b166-214d78e9f0e2",
   "metadata": {},
   "outputs": [],
   "source": [
    "#PCR region extraction, Primers unknown\n",
    "#! qiime rescript extract-seq-segments \\\n",
    "#    --i-input-sequences $data_or/sequences_demux_paired.qza \\\n",
    "#    --i-reference-segment-sequences $database_dir/silva-138-ssu-nr99-tax-derep-uniq.qza \\\n",
    "#    --p-perc-identity 0.7 \\\n",
    "#    --p-min-seq-len 10 \\\n",
    "#    --p-threads 3 \\\n",
    "#    --o-extracted-sequence-segments data_dir/silva-138-ssu-nr99-tax-derep-uniq-extracted.qza \\\n",
    "#    --o-unmatched-sequences data_dir/silva-138-ssu-nr99-tax-derep-uniq-unmached.qza \\\n",
    "#    --verbose"
   ]
  },
  {
   "cell_type": "code",
   "execution_count": 30,
   "id": "79256cdf-a1d8-451c-80e7-e55ccc327f5c",
   "metadata": {
    "tags": []
   },
   "outputs": [],
   "source": [
    "#! qiime rescript --version"
   ]
  },
  {
   "cell_type": "code",
   "execution_count": null,
   "id": "4474bfcc-f1dd-48ed-8f06-4f6101fb057a",
   "metadata": {},
   "outputs": [],
   "source": [
    "#training taxanomic classifier\n",
    "#! qiime feature-classifier fit-classifier-naive-bayes \\\n",
    "#   --i-reference-reads $data_dir/silva-138-ssu-nr99-seqs-515f-806r-uniq.qza \\\n",
    "#   --i-reference-taxonomy $data_dir/silva-138-ssu-nr99-tax-515f-806r-derep-uniq.qza \\\n",
    "#   --o-classifier $data_dir/PJNB-515f-806r-classifier.qza"
   ]
  },
  {
   "cell_type": "code",
   "execution_count": 10,
   "id": "d7818e10-c5d4-4f80-ae07-660040955a28",
   "metadata": {},
   "outputs": [
    {
     "name": "stdout",
     "output_type": "stream",
     "text": [
      "2022-10-18 11:23:42 URL:https://s3-us-west-2.amazonaws.com/qiime2-data/2021.4/common/gg-13-8-99-515-806-nb-classifier.qza [28289645/28289645] -> \"database/515f-806r-classifier.qza\" [1]\n"
     ]
    }
   ],
   "source": [
    "! wget -nv -O $database_dir/515f-806r-classifier.qza https://data.qiime2.org/2021.4/common/gg-13-8-99-515-806-nb-classifier.qza"
   ]
  },
  {
   "cell_type": "code",
   "execution_count": 7,
   "id": "e6bf85e9-12c0-4eed-8c92-383e1adeff72",
   "metadata": {},
   "outputs": [
    {
     "name": "stdout",
     "output_type": "stream",
     "text": [
      "\u001b[32mUUID\u001b[0m:        8f33c8bc-40ef-4dab-aafd-f4d3d817a474\n",
      "\u001b[32mType\u001b[0m:        FeatureData[Sequence]\n",
      "\u001b[32mData format\u001b[0m: DNASequencesDirectoryFormat\n"
     ]
    }
   ],
   "source": [
    "! qiime tools peek $ASVdata/PJNB_dada2_rep_set.qza"
   ]
  },
  {
   "cell_type": "code",
   "execution_count": 11,
   "id": "65af8102-2988-458a-9c58-4a1de1cdcfcd",
   "metadata": {},
   "outputs": [
    {
     "name": "stdout",
     "output_type": "stream",
     "text": [
      "\u001b[32mUUID\u001b[0m:        4b2a57b7-1e5a-4a4d-8201-99551ab50858\n",
      "\u001b[32mType\u001b[0m:        TaxonomicClassifier\n",
      "\u001b[32mData format\u001b[0m: TaxonomicClassiferTemporaryPickleDirFmt\n"
     ]
    }
   ],
   "source": [
    "! qiime tools peek $database_dir/515f-806r-classifier.qza"
   ]
  },
  {
   "cell_type": "code",
   "execution_count": 12,
   "id": "30ae60da-74f3-466f-a54f-bf653a8bba3e",
   "metadata": {
    "tags": []
   },
   "outputs": [
    {
     "name": "stdout",
     "output_type": "stream",
     "text": [
      "\u001b[32mSaved FeatureData[Taxonomy] to: data/taxonomy_classification.qza\u001b[0m\n",
      "\u001b[0m"
     ]
    }
   ],
   "source": [
    "#taxonomic classification\n",
    "! qiime feature-classifier classify-sklearn \\\n",
    "    --i-classifier $database_dir/515f-806r-classifier.qza \\\n",
    "    --i-reads $ASVdata/PJNB_dada2_rep_set.qza \\\n",
    "    --o-classification $data_dir/taxonomy_classification.qza"
   ]
  },
  {
   "cell_type": "code",
   "execution_count": 13,
   "id": "58c8166d-0da0-41bb-a828-cadbfe482658",
   "metadata": {},
   "outputs": [
    {
     "name": "stdout",
     "output_type": "stream",
     "text": [
      "\u001b[32mSaved Visualization to: data/taxonomy_classification.qzv\u001b[0m\n",
      "\u001b[0m"
     ]
    }
   ],
   "source": [
    "#visualization\n",
    "! qiime metadata tabulate \\\n",
    "    --m-input-file $data_dir/taxonomy_classification.qza \\\n",
    "    --o-visualization $data_dir/taxonomy_classification.qzv"
   ]
  },
  {
   "cell_type": "code",
   "execution_count": 14,
   "id": "a8cd71b7-6441-4bbb-9d59-38a9c7afcb85",
   "metadata": {
    "collapsed": true,
    "jupyter": {
     "outputs_hidden": true
    },
    "tags": []
   },
   "outputs": [
    {
     "data": {
      "text/html": [
       "<div><img onload=\"(function(div, url){\n",
       "if (typeof require !== 'undefined') {\n",
       "    var baseURL = require.toUrl('').split('/').slice(0, -2).join('/');\n",
       "} else {\n",
       "    var baseURL = JSON.parse(\n",
       "        document.getElementById('jupyter-config-data').innerHTML\n",
       "    ).baseUrl.slice(0, -1);\n",
       "}\n",
       "url = baseURL + url;\n",
       "fetch(url).then(function(res) {\n",
       "    if (res.status === 404) {\n",
       "        div.innerHTML = 'Install QIIME 2 Jupyter extension with:<br />' +\n",
       "                        '<code>jupyter serverextension enable --py qiime2' +\n",
       "                        ' --sys-prefix</code><br />then restart your server.' +\n",
       "                        '<br /><br />(Interactive output not available on ' +\n",
       "                        'static notebook viewer services like nbviewer.)';\n",
       "    } else if (res.status === 409) {\n",
       "        div.innerHTML = 'Visualization no longer in scope. Re-run this cell' +\n",
       "                        ' to see the visualization.';\n",
       "    } else if (res.ok) {\n",
       "        url = res.url;\n",
       "        div.innerHTML = '<iframe src=\\'' + url + '\\' style=\\'' +\n",
       "                        'width: 100%; height: 700px; border: 0;\\'>' +\n",
       "                        '</iframe><hr />Open in a: <a href=\\'' + url + '\\'' +\n",
       "                        ' target=\\'_blank\\'>new window</a>'\n",
       "    } else {\n",
       "        div.innerHTML = 'Something has gone wrong. Check notebook server for' +\n",
       "                        ' errors.';\n",
       "    }\n",
       "});\n",
       "})(this.parentElement, '/qiime2/redirect?location=/tmp/qiime2-archive-l8tli2rw')\" src=\"data:image/gif;base64,R0lGODlhAQABAIAAAP///wAAACH5BAEAAAAALAAAAAABAAEAAAICRAEAOw==\" /></div>"
      ],
      "text/plain": [
       "<visualization: Visualization uuid: 7d053ff6-b28a-4f11-aadc-555826f0442b>"
      ]
     },
     "execution_count": 14,
     "metadata": {},
     "output_type": "execute_result"
    }
   ],
   "source": [
    "Visualization.load(f'{data_dir}/taxonomy_classification.qzv')"
   ]
  },
  {
   "cell_type": "code",
   "execution_count": 18,
   "id": "aeb3c91a-4d14-47cd-b65e-9304f20dae29",
   "metadata": {},
   "outputs": [
    {
     "name": "stdout",
     "output_type": "stream",
     "text": [
      "\u001b[32mSaved Visualization to: data/taxa-prefiltered-bar-plots.qzv\u001b[0m\n",
      "\u001b[0m"
     ]
    }
   ],
   "source": [
    "! qiime taxa barplot \\\n",
    "    --i-table $ASVdata/PJNB_dada2_table_.qza \\\n",
    "    --i-taxonomy $data_dir/taxonomy_classification.qza \\\n",
    "    --m-metadata-file $data_or/metadata.tsv \\\n",
    "    --o-visualization $data_dir/taxa-prefiltered-bar-plots.qzv"
   ]
  },
  {
   "cell_type": "code",
   "execution_count": 20,
   "id": "cdb856a1-589e-43ac-b118-2e117f789453",
   "metadata": {
    "collapsed": true,
    "jupyter": {
     "outputs_hidden": true
    },
    "tags": []
   },
   "outputs": [
    {
     "data": {
      "text/html": [
       "<div><img onload=\"(function(div, url){\n",
       "if (typeof require !== 'undefined') {\n",
       "    var baseURL = require.toUrl('').split('/').slice(0, -2).join('/');\n",
       "} else {\n",
       "    var baseURL = JSON.parse(\n",
       "        document.getElementById('jupyter-config-data').innerHTML\n",
       "    ).baseUrl.slice(0, -1);\n",
       "}\n",
       "url = baseURL + url;\n",
       "fetch(url).then(function(res) {\n",
       "    if (res.status === 404) {\n",
       "        div.innerHTML = 'Install QIIME 2 Jupyter extension with:<br />' +\n",
       "                        '<code>jupyter serverextension enable --py qiime2' +\n",
       "                        ' --sys-prefix</code><br />then restart your server.' +\n",
       "                        '<br /><br />(Interactive output not available on ' +\n",
       "                        'static notebook viewer services like nbviewer.)';\n",
       "    } else if (res.status === 409) {\n",
       "        div.innerHTML = 'Visualization no longer in scope. Re-run this cell' +\n",
       "                        ' to see the visualization.';\n",
       "    } else if (res.ok) {\n",
       "        url = res.url;\n",
       "        div.innerHTML = '<iframe src=\\'' + url + '\\' style=\\'' +\n",
       "                        'width: 100%; height: 700px; border: 0;\\'>' +\n",
       "                        '</iframe><hr />Open in a: <a href=\\'' + url + '\\'' +\n",
       "                        ' target=\\'_blank\\'>new window</a>'\n",
       "    } else {\n",
       "        div.innerHTML = 'Something has gone wrong. Check notebook server for' +\n",
       "                        ' errors.';\n",
       "    }\n",
       "});\n",
       "})(this.parentElement, '/qiime2/redirect?location=/tmp/qiime2-archive-uqnsdvpr')\" src=\"data:image/gif;base64,R0lGODlhAQABAIAAAP///wAAACH5BAEAAAAALAAAAAABAAEAAAICRAEAOw==\" /></div>"
      ],
      "text/plain": [
       "<visualization: Visualization uuid: 14fb3e71-6374-426d-bb8a-d4e6e71303cc>"
      ]
     },
     "execution_count": 20,
     "metadata": {},
     "output_type": "execute_result"
    }
   ],
   "source": [
    "Visualization.load(f'{data_dir}/taxa-prefiltered-bar-plots.qzv')"
   ]
  },
  {
   "cell_type": "code",
   "execution_count": 21,
   "id": "fc0975b4-943e-4427-bdbe-084c61c5f4d2",
   "metadata": {},
   "outputs": [
    {
     "name": "stdout",
     "output_type": "stream",
     "text": [
      "\u001b[32mSaved FeatureTable[Frequency] to: data/PJNB_dada2_table-filtered.qza\u001b[0m\n",
      "\u001b[0m\u001b[32mSaved FeatureData[Sequence] to: data//PJNB_dada2_rep_set-filtered.qza\u001b[0m\n",
      "\u001b[0m"
     ]
    }
   ],
   "source": [
    "#filter sequences and table for mitochondria\n",
    "! qiime taxa filter-table \\\n",
    "    --i-table $ASVdata/PJNB_dada2_table_.qza \\\n",
    "    --i-taxonomy $data_dir/taxonomy_classification.qza \\\n",
    "    --p-exclude mitochondria,chloroplast \\\n",
    "    --o-filtered-table $data_dir/PJNB_dada2_table-filtered.qza\n",
    "\n",
    "! qiime taxa filter-seqs \\\n",
    "    --i-sequences $ASVdata/PJNB_dada2_rep_set.qza \\\n",
    "    --i-taxonomy $data_dir/taxonomy_classification.qza \\\n",
    "    --p-exclude mitochondria \\\n",
    "    --o-filtered-sequences $data_dir/PJNB_dada2_rep_set-filtered.qza"
   ]
  },
  {
   "cell_type": "code",
   "execution_count": 23,
   "id": "abd5a6ff-93c8-484c-8267-8ddeba09b8fe",
   "metadata": {},
   "outputs": [
    {
     "name": "stdout",
     "output_type": "stream",
     "text": [
      "\u001b[32mSaved Visualization to: data/taxa-bar-plots-filtered.qzv\u001b[0m\n",
      "\u001b[0m"
     ]
    }
   ],
   "source": [
    "! qiime taxa barplot \\\n",
    "    --i-table $data_dir/PJNB_dada2_table-filtered.qza \\\n",
    "    --i-taxonomy $data_dir/taxonomy_classification.qza \\\n",
    "    --m-metadata-file $data_or/metadata.tsv \\\n",
    "    --o-visualization $data_dir/taxa-bar-plots-filtered.qzv"
   ]
  },
  {
   "cell_type": "code",
   "execution_count": 24,
   "id": "b01e7e2b-8492-4881-84c0-30ad99899175",
   "metadata": {
    "collapsed": true,
    "jupyter": {
     "outputs_hidden": true
    },
    "tags": []
   },
   "outputs": [
    {
     "data": {
      "text/html": [
       "<div><img onload=\"(function(div, url){\n",
       "if (typeof require !== 'undefined') {\n",
       "    var baseURL = require.toUrl('').split('/').slice(0, -2).join('/');\n",
       "} else {\n",
       "    var baseURL = JSON.parse(\n",
       "        document.getElementById('jupyter-config-data').innerHTML\n",
       "    ).baseUrl.slice(0, -1);\n",
       "}\n",
       "url = baseURL + url;\n",
       "fetch(url).then(function(res) {\n",
       "    if (res.status === 404) {\n",
       "        div.innerHTML = 'Install QIIME 2 Jupyter extension with:<br />' +\n",
       "                        '<code>jupyter serverextension enable --py qiime2' +\n",
       "                        ' --sys-prefix</code><br />then restart your server.' +\n",
       "                        '<br /><br />(Interactive output not available on ' +\n",
       "                        'static notebook viewer services like nbviewer.)';\n",
       "    } else if (res.status === 409) {\n",
       "        div.innerHTML = 'Visualization no longer in scope. Re-run this cell' +\n",
       "                        ' to see the visualization.';\n",
       "    } else if (res.ok) {\n",
       "        url = res.url;\n",
       "        div.innerHTML = '<iframe src=\\'' + url + '\\' style=\\'' +\n",
       "                        'width: 100%; height: 700px; border: 0;\\'>' +\n",
       "                        '</iframe><hr />Open in a: <a href=\\'' + url + '\\'' +\n",
       "                        ' target=\\'_blank\\'>new window</a>'\n",
       "    } else {\n",
       "        div.innerHTML = 'Something has gone wrong. Check notebook server for' +\n",
       "                        ' errors.';\n",
       "    }\n",
       "});\n",
       "})(this.parentElement, '/qiime2/redirect?location=/tmp/qiime2-archive-09mtbnpj')\" src=\"data:image/gif;base64,R0lGODlhAQABAIAAAP///wAAACH5BAEAAAAALAAAAAABAAEAAAICRAEAOw==\" /></div>"
      ],
      "text/plain": [
       "<visualization: Visualization uuid: 27ae5207-2b1d-4a5f-85cc-71548d9b1c3f>"
      ]
     },
     "execution_count": 24,
     "metadata": {},
     "output_type": "execute_result"
    }
   ],
   "source": [
    "Visualization.load(f'{data_dir}/taxa-bar-plots-filtered.qzv')"
   ]
  },
  {
   "cell_type": "markdown",
   "id": "3355b5ef-cc32-4fee-ad86-036c95af28ef",
   "metadata": {},
   "source": [
    "**GTDB database**"
   ]
  },
  {
   "cell_type": "code",
   "execution_count": 14,
   "id": "788cfcc9-6542-4d11-8491-51f7962f7892",
   "metadata": {},
   "outputs": [
    {
     "name": "stdout",
     "output_type": "stream",
     "text": [
      "2022-10-19 09:53:20 URL:https://data.gtdb.ecogenomic.org/releases/release202/202.0/bac120_taxonomy_r202.tsv.gz [2469383/2469383] -> \"database/bac120_taxonomy_r202.tsv.gz\" [1]\n",
      "2022-10-19 09:53:42 URL:https://data.gtdb.ecogenomic.org/releases/release202/202.0/genomic_files_reps/bac120_ssu_reps_r202.tar.gz [10949720/10949720] -> \"database/bac120_ssu_reps_r202.tar.gz\" [1]\n",
      "bac120_ssu_reps_r202.fna\n"
     ]
    }
   ],
   "source": [
    "# Bacteria\n",
    "! wget -nv -O $database_dir/bac120_taxonomy_r202.tsv.gz https://data.gtdb.ecogenomic.org/releases/release202/202.0/bac120_taxonomy_r202.tsv.gz\n",
    "! gunzip $database_dir/bac120_taxonomy_r202.tsv.gz\n",
    "! wget -nv -O $database_dir/bac120_ssu_reps_r202.tar.gz https://data.gtdb.ecogenomic.org/releases/release202/202.0/genomic_files_reps/bac120_ssu_reps_r202.tar.gz\n",
    "! tar -xvf $database_dir/bac120_ssu_reps_r202.tar.gz -C $database_dir/"
   ]
  },
  {
   "cell_type": "code",
   "execution_count": 15,
   "id": "2d249288-ff8b-407d-b232-da298e43e957",
   "metadata": {},
   "outputs": [
    {
     "name": "stdout",
     "output_type": "stream",
     "text": [
      "2022-10-19 09:54:04 URL:https://data.gtdb.ecogenomic.org/releases/release202/202.0/ar122_taxonomy_r202.tsv.gz [63238/63238] -> \"database/ar122_taxonomy_r202.tsv.gz\" [1]\n",
      "2022-10-19 09:54:09 URL:https://data.gtdb.ecogenomic.org/releases/release202/202.0/genomic_files_reps/ar122_ssu_reps_r202.tar.gz [541133/541133] -> \"database/ar122_ssu_reps_r202.tar.gz\" [1]\n",
      "ar122_ssu_reps_r202.fna\n"
     ]
    }
   ],
   "source": [
    "#Archaea\n",
    "! wget -nv -O $database_dir/ar122_taxonomy_r202.tsv.gz https://data.gtdb.ecogenomic.org/releases/release202/202.0/ar122_taxonomy_r202.tsv.gz\n",
    "! gunzip $database_dir/ar122_taxonomy_r202.tsv.gz\n",
    "\n",
    "! wget -nv -O $database_dir/ar122_ssu_reps_r202.tar.gz https://data.gtdb.ecogenomic.org/releases/release202/202.0/genomic_files_reps/ar122_ssu_reps_r202.tar.gz\n",
    "! tar -xvf  $database_dir/ar122_ssu_reps_r202.tar.gz -C $database_dir/"
   ]
  },
  {
   "cell_type": "code",
   "execution_count": 16,
   "id": "d2c50e0a-76fd-4a2f-b833-7ff4eef006c6",
   "metadata": {},
   "outputs": [
    {
     "name": "stdout",
     "output_type": "stream",
     "text": [
      "\u001b[32mImported database/bac120_ssu_reps_r202.fna as DNASequencesDirectoryFormat to database/bact_seqs.qza\u001b[0m\n",
      "\u001b[0m\u001b[32mImported database/bac120_taxonomy_r202.tsv as HeaderlessTSVTaxonomyFormat to database/bact_tax.qza\u001b[0m\n",
      "\u001b[0m\u001b[32mImported database/ar122_ssu_reps_r202.fna as DNASequencesDirectoryFormat to database/arch_seqs.qza\u001b[0m\n",
      "\u001b[0m\u001b[32mImported database/ar122_taxonomy_r202.tsv as HeaderlessTSVTaxonomyFormat to database/arch_tax.qza\u001b[0m\n",
      "\u001b[0m"
     ]
    }
   ],
   "source": [
    "# Bacteria\n",
    "! qiime tools import \\\n",
    "    --input-path $database_dir/bac120_ssu_reps_r202.fna \\\n",
    "    --type 'FeatureData[Sequence]' \\\n",
    "    --output-path $database_dir/bact_seqs.qza\n",
    "\n",
    "! qiime tools import \\\n",
    "    --input-path $database_dir/bac120_taxonomy_r202.tsv \\\n",
    "    --type 'FeatureData[Taxonomy]' \\\n",
    "    --input-format 'HeaderlessTSVTaxonomyFormat' \\\n",
    "    --output-path $database_dir/bact_tax.qza\n",
    "\n",
    "\n",
    "# Archaea\n",
    "! qiime tools import \\\n",
    "    --input-path $database_dir/ar122_ssu_reps_r202.fna \\\n",
    "    --type 'FeatureData[Sequence]' \\\n",
    "    --output-path $database_dir/arch_seqs.qza\n",
    "\n",
    "! qiime tools import \\\n",
    "      --input-path $database_dir/ar122_taxonomy_r202.tsv \\\n",
    "      --type 'FeatureData[Taxonomy]' \\\n",
    "      --input-format 'HeaderlessTSVTaxonomyFormat' \\\n",
    "      --output-path $database_dir/arch_tax.qza"
   ]
  },
  {
   "cell_type": "code",
   "execution_count": null,
   "id": "503965be-5549-47ce-84a8-103b1b97bfed",
   "metadata": {},
   "outputs": [
    {
     "name": "stdout",
     "output_type": "stream",
     "text": [
      "Usage: \u001b[94mqiime feature-table merge-taxa\u001b[0m [OPTIONS]\n",
      "\n",
      "  Combines a pair of feature data objects which may or may not contain data\n",
      "  for the same features. If different feature data is present for the same\n",
      "  feature id in the inputs, the data from the first will be propagated to\n",
      "  the result.\n",
      "\n",
      "\u001b[1mInputs\u001b[0m:\n",
      "  \u001b[94m\u001b[4m--i-data\u001b[0m ARTIFACTS... \u001b[32mList[FeatureData[Taxonomy]]\u001b[0m\n",
      "                         The collection of feature taxonomies to be merged.\n",
      "                                                                    \u001b[35m[required]\u001b[0m\n",
      "\u001b[1mOutputs\u001b[0m:\n",
      "  \u001b[94m\u001b[4m--o-merged-data\u001b[0m ARTIFACT \u001b[32mFeatureData[Taxonomy]\u001b[0m\n",
      "                         The resulting collection of feature taxonomies\n",
      "                         containing all feature taxonomies provided.\n",
      "                                                                    \u001b[35m[required]\u001b[0m\n",
      "\u001b[1mMiscellaneous\u001b[0m:\n",
      "  \u001b[94m--output-dir\u001b[0m PATH      Output unspecified results to a directory\n",
      "  \u001b[94m--verbose\u001b[0m / \u001b[94m--quiet\u001b[0m    Display verbose output to stdout and/or stderr\n",
      "                         during execution of this action. Or silence output if\n",
      "                         execution is successful (silence is golden).\n",
      "  \u001b[94m--example-data\u001b[0m PATH    Write example data and exit.\n",
      "  \u001b[94m--citations\u001b[0m            Show citations and exit.\n",
      "  \u001b[94m--help\u001b[0m                 Show this message and exit.\n",
      "\n",
      "\u001b[33m                    There was a problem with the command:                     \u001b[0m\n",
      "\u001b[31m\u001b[1m (1/1) Invalid value for '--i-data': 'arch_tax.qza' is not a valid filepath\u001b[0m\n",
      "\u001b[0m"
     ]
    }
   ],
   "source": [
    "! qiime feature-table merge-taxa \\\n",
    "      --i-data $database_dir/bact_tax.qza arch_tax.qza \\\n",
    "      --o-merged-data $database_dir/gtdb_tax.qza\n",
    "\n",
    "! qiime feature-table merge-seqs \\\n",
    "      --i-data $database_dir/bact_seqs.qza arch_seqs.qza \\\n",
    "      --o-merged-data $database_dir/gtdb_seqs.qza"
   ]
  },
  {
   "cell_type": "code",
   "execution_count": null,
   "id": "c920ed6b-043b-4de4-9151-24a7eb86b086",
   "metadata": {},
   "outputs": [],
   "source": []
  }
 ],
 "metadata": {
  "kernelspec": {
   "display_name": "Python 3 (ipykernel)",
   "language": "python",
   "name": "python3"
  },
  "language_info": {
   "codemirror_mode": {
    "name": "ipython",
    "version": 3
   },
   "file_extension": ".py",
   "mimetype": "text/x-python",
   "name": "python",
   "nbconvert_exporter": "python",
   "pygments_lexer": "ipython3",
   "version": "3.8.13"
  }
 },
 "nbformat": 4,
 "nbformat_minor": 5
}
